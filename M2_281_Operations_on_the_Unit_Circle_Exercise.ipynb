{
  "cells": [
    {
      "cell_type": "markdown",
      "metadata": {
        "id": "view-in-github",
        "colab_type": "text"
      },
      "source": [
        "<a href=\"https://colab.research.google.com/github/james-lucius/qureca_ADEQUATE/blob/main/M2_2_8_1_Operations_on_the_Unit_Circle_Exercise.ipynb\" target=\"_parent\"><img src=\"https://colab.research.google.com/assets/colab-badge.svg\" alt=\"Open In Colab\"/></a>"
      ]
    },
    {
      "cell_type": "markdown",
      "source": [
        ":<img src=\"https://gitlab.com/qworld/qeducation/educational-materials/adequate-qbook1/raw/main/qworld/images/adq_1.png\" align=\"left\" width=450></a>\n",
        "\n",
        "\n",
        "\n",
        "$ \\newcommand{\\bra}[1]{\\langle #1|} $\n",
        "$ \\newcommand{\\ket}[1]{|#1\\rangle} $\n",
        "$ \\newcommand{\\braket}[2]{\\langle #1|#2\\rangle} $\n",
        "$ \\newcommand{\\dot}[2]{ #1 \\cdot #2} $\n",
        "$ \\newcommand{\\biginner}[2]{\\left\\langle #1,#2\\right\\rangle} $\n",
        "$ \\newcommand{\\mymatrix}[2]{\\left( \\begin{array}{#1} #2\\end{array} \\right)} $\n",
        "$ \\newcommand{\\myvector}[1]{\\mymatrix{c}{#1}} $\n",
        "$ \\newcommand{\\myrvector}[1]{\\mymatrix{r}{#1}} $\n",
        "$ \\newcommand{\\mypar}[1]{\\left( #1 \\right)} $\n",
        "$ \\newcommand{\\mybigpar}[1]{ \\Big( #1 \\Big)} $\n",
        "$ \\newcommand{\\sqrttwo}{\\frac{1}{\\sqrt{2}}} $\n",
        "$ \\newcommand{\\dsqrttwo}{\\dfrac{1}{\\sqrt{2}}} $\n",
        "$ \\newcommand{\\onehalf}{\\frac{1}{2}} $\n",
        "$ \\newcommand{\\donehalf}{\\dfrac{1}{2}} $\n",
        "$ \\newcommand{\\hadamard}{ \\mymatrix{rr}{ \\sqrttwo & \\sqrttwo \\\\ \\sqrttwo & -\\sqrttwo }} $\n",
        "$ \\newcommand{\\vzero}{\\myvector{1\\\\0}} $\n",
        "$ \\newcommand{\\vone}{\\myvector{0\\\\1}} $\n",
        "$ \\newcommand{\\stateplus}{\\myvector{ \\sqrttwo \\\\  \\sqrttwo } } $\n",
        "$ \\newcommand{\\stateminus}{ \\myrvector{ \\sqrttwo \\\\ -\\sqrttwo } } $\n",
        "$ \\newcommand{\\myarray}[2]{ \\begin{array}{#1}#2\\end{array}} $\n",
        "$ \\newcommand{\\X}{ \\mymatrix{cc}{0 & 1 \\\\ 1 & 0}  } $\n",
        "$ \\newcommand{\\I}{ \\mymatrix{rr}{1 & 0 \\\\ 0 & 1}  } $\n",
        "$ \\newcommand{\\Z}{ \\mymatrix{rr}{1 & 0 \\\\ 0 & -1}  } $\n",
        "$ \\newcommand{\\Htwo}{ \\mymatrix{rrrr}{ \\frac{1}{2} & \\frac{1}{2} & \\frac{1}{2} & \\frac{1}{2} \\\\ \\frac{1}{2} & -\\frac{1}{2} & \\frac{1}{2} & -\\frac{1}{2} \\\\ \\frac{1}{2} & \\frac{1}{2} & -\\frac{1}{2} & -\\frac{1}{2} \\\\ \\frac{1}{2} & -\\frac{1}{2} & -\\frac{1}{2} & \\frac{1}{2} } } $\n",
        "$ \\newcommand{\\CNOT}{ \\mymatrix{cccc}{1 & 0 & 0 & 0 \\\\ 0 & 1 & 0 & 0 \\\\ 0 & 0 & 0 & 1 \\\\ 0 & 0 & 1 & 0} } $\n",
        "$ \\newcommand{\\norm}[1]{ \\left\\lVert #1 \\right\\rVert } $\n",
        "$ \\newcommand{\\pstate}[1]{ \\lceil \\mspace{-1mu} #1 \\mspace{-1.5mu} \\rfloor } $\n",
        "$ \\newcommand{\\greenbit}[1] {\\mathbf{{\\color{green}#1}}} $\n",
        "$ \\newcommand{\\bluebit}[1] {\\mathbf{{\\color{blue}#1}}} $\n",
        "$ \\newcommand{\\redbit}[1] {\\mathbf{{\\color{red}#1}}} $\n",
        "$ \\newcommand{\\brownbit}[1] {\\mathbf{{\\color{brown}#1}}} $\n",
        "$ \\newcommand{\\blackbit}[1] {\\mathbf{{\\color{black}#1}}} $"
      ],
      "metadata": {
        "id": "BJwTYXWNtEEM"
      }
    },
    {
      "cell_type": "markdown",
      "metadata": {
        "id": "r6sY4UIbpy7W"
      },
      "source": [
        "_prepared by Abuzer Yakaryilmaz_"
      ]
    },
    {
      "cell_type": "markdown",
      "metadata": {
        "id": "KPPyWCUKpy7W"
      },
      "source": [
        ":<font size=\"28px\" style=\"font-size:28px;\" align=\"left\"><b>Exercises: Operations on the Unit Circle  </b></font>\n"
      ]
    },
    {
      "cell_type": "markdown",
      "metadata": {
        "jp-MarkdownHeadingCollapsed": true,
        "id": "Olk6xy8Bpy7X"
      },
      "source": [
        "##### <font color=\"#08b806\">Please execute the following cell, it is necessary to distinguish between your local environment and Google Colab's"
      ]
    },
    {
      "cell_type": "code",
      "execution_count": 1,
      "metadata": {
        "id": "0J2W1yzFpy7Y",
        "collapsed": true,
        "colab": {
          "base_uri": "https://localhost:8080/"
        },
        "outputId": "c575d1af-c517-4f05-90a9-eec740a507b2"
      },
      "outputs": [
        {
          "output_type": "stream",
          "name": "stdout",
          "text": [
            "--2025-06-07 00:43:01--  https://gitlab.com/qworld/qeducation/qbook101/raw/main/qworld/include/quantum.py\n",
            "Resolving gitlab.com (gitlab.com)... 172.65.251.78, 2606:4700:90:0:f22e:fbec:5bed:a9b9\n",
            "Connecting to gitlab.com (gitlab.com)|172.65.251.78|:443... connected.\n",
            "HTTP request sent, awaiting response... 200 OK\n",
            "Length: 2760 (2.7K) [text/plain]\n",
            "Saving to: ‘quantum.py’\n",
            "\n",
            "\rquantum.py            0%[                    ]       0  --.-KB/s               \rquantum.py          100%[===================>]   2.70K  --.-KB/s    in 0s      \n",
            "\n",
            "2025-06-07 00:43:01 (46.9 MB/s) - ‘quantum.py’ saved [2760/2760]\n",
            "\n",
            "--2025-06-07 00:43:01--  https://gitlab.com/qworld/qeducation/qbook101/raw/main/qworld/include/drawing.py\n",
            "Resolving gitlab.com (gitlab.com)... 172.65.251.78, 2606:4700:90:0:f22e:fbec:5bed:a9b9\n",
            "Connecting to gitlab.com (gitlab.com)|172.65.251.78|:443... connected.\n",
            "HTTP request sent, awaiting response... 200 OK\n",
            "Length: 6260 (6.1K) [text/plain]\n",
            "Saving to: ‘drawing.py’\n",
            "\n",
            "drawing.py          100%[===================>]   6.11K  --.-KB/s    in 0s      \n",
            "\n",
            "2025-06-07 00:43:01 (51.5 MB/s) - ‘drawing.py’ saved [6260/6260]\n",
            "\n",
            "--2025-06-07 00:43:01--  https://gitlab.com/qworld/qeducation/qbook101/raw/main/qworld/include/quantum_state.py\n",
            "Resolving gitlab.com (gitlab.com)... 172.65.251.78, 2606:4700:90:0:f22e:fbec:5bed:a9b9\n",
            "Connecting to gitlab.com (gitlab.com)|172.65.251.78|:443... connected.\n",
            "HTTP request sent, awaiting response... 200 OK\n",
            "Length: 1391 (1.4K) [text/plain]\n",
            "Saving to: ‘quantum_state.py’\n",
            "\n",
            "quantum_state.py    100%[===================>]   1.36K  --.-KB/s    in 0s      \n",
            "\n",
            "2025-06-07 00:43:02 (20.0 MB/s) - ‘quantum_state.py’ saved [1391/1391]\n",
            "\n",
            "--2025-06-07 00:43:02--  https://gitlab.com/qworld/qeducation/qbook101/raw/main/qworld/include/grover.py\n",
            "Resolving gitlab.com (gitlab.com)... 172.65.251.78, 2606:4700:90:0:f22e:fbec:5bed:a9b9\n",
            "Connecting to gitlab.com (gitlab.com)|172.65.251.78|:443... connected.\n",
            "HTTP request sent, awaiting response... 200 OK\n",
            "Length: 6778 (6.6K) [text/plain]\n",
            "Saving to: ‘grover.py’\n",
            "\n",
            "grover.py           100%[===================>]   6.62K  --.-KB/s    in 0s      \n",
            "\n",
            "2025-06-07 00:43:02 (63.1 MB/s) - ‘grover.py’ saved [6778/6778]\n",
            "\n",
            "Requirement already satisfied: qiskit==0.43.3 in /usr/local/lib/python3.11/dist-packages (from qiskit[visualization]==0.43.3) (0.43.3)\n",
            "Requirement already satisfied: qiskit-terra==0.24.2 in /usr/local/lib/python3.11/dist-packages (from qiskit==0.43.3->qiskit[visualization]==0.43.3) (0.24.2)\n",
            "Requirement already satisfied: qiskit-aer==0.12.2 in /usr/local/lib/python3.11/dist-packages (from qiskit==0.43.3->qiskit[visualization]==0.43.3) (0.12.2)\n",
            "Requirement already satisfied: qiskit-ibmq-provider==0.20.2 in /usr/local/lib/python3.11/dist-packages (from qiskit==0.43.3->qiskit[visualization]==0.43.3) (0.20.2)\n",
            "Requirement already satisfied: matplotlib>=2.1 in /usr/local/lib/python3.11/dist-packages (from qiskit[visualization]==0.43.3) (3.10.0)\n",
            "Requirement already satisfied: ipywidgets>=7.3.0 in /usr/local/lib/python3.11/dist-packages (from qiskit[visualization]==0.43.3) (7.7.1)\n",
            "Requirement already satisfied: pydot in /usr/local/lib/python3.11/dist-packages (from qiskit[visualization]==0.43.3) (3.0.4)\n",
            "Requirement already satisfied: pillow>=4.2.1 in /usr/local/lib/python3.11/dist-packages (from qiskit[visualization]==0.43.3) (11.2.1)\n",
            "Requirement already satisfied: pylatexenc>=1.4 in /usr/local/lib/python3.11/dist-packages (from qiskit[visualization]==0.43.3) (2.10)\n",
            "Requirement already satisfied: seaborn>=0.9.0 in /usr/local/lib/python3.11/dist-packages (from qiskit[visualization]==0.43.3) (0.13.2)\n",
            "Requirement already satisfied: pygments>=2.4 in /usr/local/lib/python3.11/dist-packages (from qiskit[visualization]==0.43.3) (2.19.1)\n",
            "Requirement already satisfied: numpy>=1.16.3 in /usr/local/lib/python3.11/dist-packages (from qiskit-aer==0.12.2->qiskit==0.43.3->qiskit[visualization]==0.43.3) (1.23.5)\n",
            "Requirement already satisfied: scipy>=1.0 in /usr/local/lib/python3.11/dist-packages (from qiskit-aer==0.12.2->qiskit==0.43.3->qiskit[visualization]==0.43.3) (1.15.3)\n",
            "Requirement already satisfied: requests>=2.19 in /usr/local/lib/python3.11/dist-packages (from qiskit-ibmq-provider==0.20.2->qiskit==0.43.3->qiskit[visualization]==0.43.3) (2.32.3)\n",
            "Requirement already satisfied: requests-ntlm<=1.1.0 in /usr/local/lib/python3.11/dist-packages (from qiskit-ibmq-provider==0.20.2->qiskit==0.43.3->qiskit[visualization]==0.43.3) (1.1.0)\n",
            "Requirement already satisfied: urllib3>=1.21.1 in /usr/local/lib/python3.11/dist-packages (from qiskit-ibmq-provider==0.20.2->qiskit==0.43.3->qiskit[visualization]==0.43.3) (2.4.0)\n",
            "Requirement already satisfied: python-dateutil>=2.8.0 in /usr/local/lib/python3.11/dist-packages (from qiskit-ibmq-provider==0.20.2->qiskit==0.43.3->qiskit[visualization]==0.43.3) (2.9.0.post0)\n",
            "Requirement already satisfied: websocket-client>=1.5.1 in /usr/local/lib/python3.11/dist-packages (from qiskit-ibmq-provider==0.20.2->qiskit==0.43.3->qiskit[visualization]==0.43.3) (1.8.0)\n",
            "Requirement already satisfied: websockets>=10.0 in /usr/local/lib/python3.11/dist-packages (from qiskit-ibmq-provider==0.20.2->qiskit==0.43.3->qiskit[visualization]==0.43.3) (15.0.1)\n",
            "Requirement already satisfied: rustworkx>=0.12.0 in /usr/local/lib/python3.11/dist-packages (from qiskit-terra==0.24.2->qiskit==0.43.3->qiskit[visualization]==0.43.3) (0.16.0)\n",
            "Requirement already satisfied: ply>=3.10 in /usr/local/lib/python3.11/dist-packages (from qiskit-terra==0.24.2->qiskit==0.43.3->qiskit[visualization]==0.43.3) (3.11)\n",
            "Requirement already satisfied: psutil>=5 in /usr/local/lib/python3.11/dist-packages (from qiskit-terra==0.24.2->qiskit==0.43.3->qiskit[visualization]==0.43.3) (5.9.5)\n",
            "Requirement already satisfied: sympy>=1.3 in /usr/local/lib/python3.11/dist-packages (from qiskit-terra==0.24.2->qiskit==0.43.3->qiskit[visualization]==0.43.3) (1.13.1)\n",
            "Requirement already satisfied: dill>=0.3 in /usr/local/lib/python3.11/dist-packages (from qiskit-terra==0.24.2->qiskit==0.43.3->qiskit[visualization]==0.43.3) (0.3.7)\n",
            "Requirement already satisfied: stevedore>=3.0.0 in /usr/local/lib/python3.11/dist-packages (from qiskit-terra==0.24.2->qiskit==0.43.3->qiskit[visualization]==0.43.3) (5.4.1)\n",
            "Requirement already satisfied: symengine<0.10,>=0.9 in /usr/local/lib/python3.11/dist-packages (from qiskit-terra==0.24.2->qiskit==0.43.3->qiskit[visualization]==0.43.3) (0.9.2)\n",
            "Requirement already satisfied: ipykernel>=4.5.1 in /usr/local/lib/python3.11/dist-packages (from ipywidgets>=7.3.0->qiskit[visualization]==0.43.3) (6.17.1)\n",
            "Requirement already satisfied: ipython-genutils~=0.2.0 in /usr/local/lib/python3.11/dist-packages (from ipywidgets>=7.3.0->qiskit[visualization]==0.43.3) (0.2.0)\n",
            "Requirement already satisfied: traitlets>=4.3.1 in /usr/local/lib/python3.11/dist-packages (from ipywidgets>=7.3.0->qiskit[visualization]==0.43.3) (5.7.1)\n",
            "Requirement already satisfied: widgetsnbextension~=3.6.0 in /usr/local/lib/python3.11/dist-packages (from ipywidgets>=7.3.0->qiskit[visualization]==0.43.3) (3.6.10)\n",
            "Requirement already satisfied: ipython>=4.0.0 in /usr/local/lib/python3.11/dist-packages (from ipywidgets>=7.3.0->qiskit[visualization]==0.43.3) (7.34.0)\n",
            "Requirement already satisfied: jupyterlab-widgets>=1.0.0 in /usr/local/lib/python3.11/dist-packages (from ipywidgets>=7.3.0->qiskit[visualization]==0.43.3) (3.0.15)\n",
            "Requirement already satisfied: contourpy>=1.0.1 in /usr/local/lib/python3.11/dist-packages (from matplotlib>=2.1->qiskit[visualization]==0.43.3) (1.3.2)\n",
            "Requirement already satisfied: cycler>=0.10 in /usr/local/lib/python3.11/dist-packages (from matplotlib>=2.1->qiskit[visualization]==0.43.3) (0.12.1)\n",
            "Requirement already satisfied: fonttools>=4.22.0 in /usr/local/lib/python3.11/dist-packages (from matplotlib>=2.1->qiskit[visualization]==0.43.3) (4.58.1)\n",
            "Requirement already satisfied: kiwisolver>=1.3.1 in /usr/local/lib/python3.11/dist-packages (from matplotlib>=2.1->qiskit[visualization]==0.43.3) (1.4.8)\n",
            "Requirement already satisfied: packaging>=20.0 in /usr/local/lib/python3.11/dist-packages (from matplotlib>=2.1->qiskit[visualization]==0.43.3) (24.2)\n",
            "Requirement already satisfied: pyparsing>=2.3.1 in /usr/local/lib/python3.11/dist-packages (from matplotlib>=2.1->qiskit[visualization]==0.43.3) (3.2.3)\n",
            "Requirement already satisfied: pandas>=1.2 in /usr/local/lib/python3.11/dist-packages (from seaborn>=0.9.0->qiskit[visualization]==0.43.3) (2.2.2)\n",
            "Requirement already satisfied: debugpy>=1.0 in /usr/local/lib/python3.11/dist-packages (from ipykernel>=4.5.1->ipywidgets>=7.3.0->qiskit[visualization]==0.43.3) (1.8.0)\n",
            "Requirement already satisfied: jupyter-client>=6.1.12 in /usr/local/lib/python3.11/dist-packages (from ipykernel>=4.5.1->ipywidgets>=7.3.0->qiskit[visualization]==0.43.3) (6.1.12)\n",
            "Requirement already satisfied: matplotlib-inline>=0.1 in /usr/local/lib/python3.11/dist-packages (from ipykernel>=4.5.1->ipywidgets>=7.3.0->qiskit[visualization]==0.43.3) (0.1.7)\n",
            "Requirement already satisfied: nest-asyncio in /usr/local/lib/python3.11/dist-packages (from ipykernel>=4.5.1->ipywidgets>=7.3.0->qiskit[visualization]==0.43.3) (1.6.0)\n",
            "Requirement already satisfied: pyzmq>=17 in /usr/local/lib/python3.11/dist-packages (from ipykernel>=4.5.1->ipywidgets>=7.3.0->qiskit[visualization]==0.43.3) (24.0.1)\n",
            "Requirement already satisfied: tornado>=6.1 in /usr/local/lib/python3.11/dist-packages (from ipykernel>=4.5.1->ipywidgets>=7.3.0->qiskit[visualization]==0.43.3) (6.4.2)\n",
            "Requirement already satisfied: setuptools>=18.5 in /usr/local/lib/python3.11/dist-packages (from ipython>=4.0.0->ipywidgets>=7.3.0->qiskit[visualization]==0.43.3) (75.2.0)\n",
            "Requirement already satisfied: jedi>=0.16 in /usr/local/lib/python3.11/dist-packages (from ipython>=4.0.0->ipywidgets>=7.3.0->qiskit[visualization]==0.43.3) (0.19.2)\n",
            "Requirement already satisfied: decorator in /usr/local/lib/python3.11/dist-packages (from ipython>=4.0.0->ipywidgets>=7.3.0->qiskit[visualization]==0.43.3) (4.4.2)\n",
            "Requirement already satisfied: pickleshare in /usr/local/lib/python3.11/dist-packages (from ipython>=4.0.0->ipywidgets>=7.3.0->qiskit[visualization]==0.43.3) (0.7.5)\n",
            "Requirement already satisfied: prompt-toolkit!=3.0.0,!=3.0.1,<3.1.0,>=2.0.0 in /usr/local/lib/python3.11/dist-packages (from ipython>=4.0.0->ipywidgets>=7.3.0->qiskit[visualization]==0.43.3) (3.0.51)\n",
            "Requirement already satisfied: backcall in /usr/local/lib/python3.11/dist-packages (from ipython>=4.0.0->ipywidgets>=7.3.0->qiskit[visualization]==0.43.3) (0.2.0)\n",
            "Requirement already satisfied: pexpect>4.3 in /usr/local/lib/python3.11/dist-packages (from ipython>=4.0.0->ipywidgets>=7.3.0->qiskit[visualization]==0.43.3) (4.9.0)\n",
            "Requirement already satisfied: pytz>=2020.1 in /usr/local/lib/python3.11/dist-packages (from pandas>=1.2->seaborn>=0.9.0->qiskit[visualization]==0.43.3) (2025.2)\n",
            "Requirement already satisfied: tzdata>=2022.7 in /usr/local/lib/python3.11/dist-packages (from pandas>=1.2->seaborn>=0.9.0->qiskit[visualization]==0.43.3) (2025.2)\n",
            "Requirement already satisfied: six>=1.5 in /usr/local/lib/python3.11/dist-packages (from python-dateutil>=2.8.0->qiskit-ibmq-provider==0.20.2->qiskit==0.43.3->qiskit[visualization]==0.43.3) (1.17.0)\n",
            "Requirement already satisfied: charset-normalizer<4,>=2 in /usr/local/lib/python3.11/dist-packages (from requests>=2.19->qiskit-ibmq-provider==0.20.2->qiskit==0.43.3->qiskit[visualization]==0.43.3) (3.4.2)\n",
            "Requirement already satisfied: idna<4,>=2.5 in /usr/local/lib/python3.11/dist-packages (from requests>=2.19->qiskit-ibmq-provider==0.20.2->qiskit==0.43.3->qiskit[visualization]==0.43.3) (3.10)\n",
            "Requirement already satisfied: certifi>=2017.4.17 in /usr/local/lib/python3.11/dist-packages (from requests>=2.19->qiskit-ibmq-provider==0.20.2->qiskit==0.43.3->qiskit[visualization]==0.43.3) (2025.4.26)\n",
            "Requirement already satisfied: ntlm-auth>=1.0.2 in /usr/local/lib/python3.11/dist-packages (from requests-ntlm<=1.1.0->qiskit-ibmq-provider==0.20.2->qiskit==0.43.3->qiskit[visualization]==0.43.3) (1.5.0)\n",
            "Requirement already satisfied: cryptography>=1.3 in /usr/local/lib/python3.11/dist-packages (from requests-ntlm<=1.1.0->qiskit-ibmq-provider==0.20.2->qiskit==0.43.3->qiskit[visualization]==0.43.3) (43.0.3)\n",
            "Requirement already satisfied: pbr>=2.0.0 in /usr/local/lib/python3.11/dist-packages (from stevedore>=3.0.0->qiskit-terra==0.24.2->qiskit==0.43.3->qiskit[visualization]==0.43.3) (6.1.1)\n",
            "Requirement already satisfied: mpmath<1.4,>=1.1.0 in /usr/local/lib/python3.11/dist-packages (from sympy>=1.3->qiskit-terra==0.24.2->qiskit==0.43.3->qiskit[visualization]==0.43.3) (1.3.0)\n",
            "Requirement already satisfied: notebook>=4.4.1 in /usr/local/lib/python3.11/dist-packages (from widgetsnbextension~=3.6.0->ipywidgets>=7.3.0->qiskit[visualization]==0.43.3) (6.5.7)\n",
            "Requirement already satisfied: cffi>=1.12 in /usr/local/lib/python3.11/dist-packages (from cryptography>=1.3->requests-ntlm<=1.1.0->qiskit-ibmq-provider==0.20.2->qiskit==0.43.3->qiskit[visualization]==0.43.3) (1.17.1)\n",
            "Requirement already satisfied: parso<0.9.0,>=0.8.4 in /usr/local/lib/python3.11/dist-packages (from jedi>=0.16->ipython>=4.0.0->ipywidgets>=7.3.0->qiskit[visualization]==0.43.3) (0.8.4)\n",
            "Requirement already satisfied: jupyter-core>=4.6.0 in /usr/local/lib/python3.11/dist-packages (from jupyter-client>=6.1.12->ipykernel>=4.5.1->ipywidgets>=7.3.0->qiskit[visualization]==0.43.3) (5.8.1)\n",
            "Requirement already satisfied: jinja2 in /usr/local/lib/python3.11/dist-packages (from notebook>=4.4.1->widgetsnbextension~=3.6.0->ipywidgets>=7.3.0->qiskit[visualization]==0.43.3) (3.1.6)\n",
            "Requirement already satisfied: argon2-cffi in /usr/local/lib/python3.11/dist-packages (from notebook>=4.4.1->widgetsnbextension~=3.6.0->ipywidgets>=7.3.0->qiskit[visualization]==0.43.3) (25.1.0)\n",
            "Requirement already satisfied: nbformat in /usr/local/lib/python3.11/dist-packages (from notebook>=4.4.1->widgetsnbextension~=3.6.0->ipywidgets>=7.3.0->qiskit[visualization]==0.43.3) (5.10.4)\n",
            "Requirement already satisfied: nbconvert>=5 in /usr/local/lib/python3.11/dist-packages (from notebook>=4.4.1->widgetsnbextension~=3.6.0->ipywidgets>=7.3.0->qiskit[visualization]==0.43.3) (7.16.6)\n",
            "Requirement already satisfied: Send2Trash>=1.8.0 in /usr/local/lib/python3.11/dist-packages (from notebook>=4.4.1->widgetsnbextension~=3.6.0->ipywidgets>=7.3.0->qiskit[visualization]==0.43.3) (1.8.3)\n",
            "Requirement already satisfied: terminado>=0.8.3 in /usr/local/lib/python3.11/dist-packages (from notebook>=4.4.1->widgetsnbextension~=3.6.0->ipywidgets>=7.3.0->qiskit[visualization]==0.43.3) (0.18.1)\n",
            "Requirement already satisfied: prometheus-client in /usr/local/lib/python3.11/dist-packages (from notebook>=4.4.1->widgetsnbextension~=3.6.0->ipywidgets>=7.3.0->qiskit[visualization]==0.43.3) (0.22.1)\n",
            "Requirement already satisfied: nbclassic>=0.4.7 in /usr/local/lib/python3.11/dist-packages (from notebook>=4.4.1->widgetsnbextension~=3.6.0->ipywidgets>=7.3.0->qiskit[visualization]==0.43.3) (1.3.1)\n",
            "Requirement already satisfied: ptyprocess>=0.5 in /usr/local/lib/python3.11/dist-packages (from pexpect>4.3->ipython>=4.0.0->ipywidgets>=7.3.0->qiskit[visualization]==0.43.3) (0.7.0)\n",
            "Requirement already satisfied: wcwidth in /usr/local/lib/python3.11/dist-packages (from prompt-toolkit!=3.0.0,!=3.0.1,<3.1.0,>=2.0.0->ipython>=4.0.0->ipywidgets>=7.3.0->qiskit[visualization]==0.43.3) (0.2.13)\n",
            "Requirement already satisfied: pycparser in /usr/local/lib/python3.11/dist-packages (from cffi>=1.12->cryptography>=1.3->requests-ntlm<=1.1.0->qiskit-ibmq-provider==0.20.2->qiskit==0.43.3->qiskit[visualization]==0.43.3) (2.22)\n",
            "Requirement already satisfied: platformdirs>=2.5 in /usr/local/lib/python3.11/dist-packages (from jupyter-core>=4.6.0->jupyter-client>=6.1.12->ipykernel>=4.5.1->ipywidgets>=7.3.0->qiskit[visualization]==0.43.3) (4.3.8)\n",
            "Requirement already satisfied: notebook-shim>=0.2.3 in /usr/local/lib/python3.11/dist-packages (from nbclassic>=0.4.7->notebook>=4.4.1->widgetsnbextension~=3.6.0->ipywidgets>=7.3.0->qiskit[visualization]==0.43.3) (0.2.4)\n",
            "Requirement already satisfied: beautifulsoup4 in /usr/local/lib/python3.11/dist-packages (from nbconvert>=5->notebook>=4.4.1->widgetsnbextension~=3.6.0->ipywidgets>=7.3.0->qiskit[visualization]==0.43.3) (4.13.4)\n",
            "Requirement already satisfied: bleach!=5.0.0 in /usr/local/lib/python3.11/dist-packages (from bleach[css]!=5.0.0->nbconvert>=5->notebook>=4.4.1->widgetsnbextension~=3.6.0->ipywidgets>=7.3.0->qiskit[visualization]==0.43.3) (6.2.0)\n",
            "Requirement already satisfied: defusedxml in /usr/local/lib/python3.11/dist-packages (from nbconvert>=5->notebook>=4.4.1->widgetsnbextension~=3.6.0->ipywidgets>=7.3.0->qiskit[visualization]==0.43.3) (0.7.1)\n",
            "Requirement already satisfied: jupyterlab-pygments in /usr/local/lib/python3.11/dist-packages (from nbconvert>=5->notebook>=4.4.1->widgetsnbextension~=3.6.0->ipywidgets>=7.3.0->qiskit[visualization]==0.43.3) (0.3.0)\n",
            "Requirement already satisfied: markupsafe>=2.0 in /usr/local/lib/python3.11/dist-packages (from nbconvert>=5->notebook>=4.4.1->widgetsnbextension~=3.6.0->ipywidgets>=7.3.0->qiskit[visualization]==0.43.3) (3.0.2)\n",
            "Requirement already satisfied: mistune<4,>=2.0.3 in /usr/local/lib/python3.11/dist-packages (from nbconvert>=5->notebook>=4.4.1->widgetsnbextension~=3.6.0->ipywidgets>=7.3.0->qiskit[visualization]==0.43.3) (3.1.3)\n",
            "Requirement already satisfied: nbclient>=0.5.0 in /usr/local/lib/python3.11/dist-packages (from nbconvert>=5->notebook>=4.4.1->widgetsnbextension~=3.6.0->ipywidgets>=7.3.0->qiskit[visualization]==0.43.3) (0.10.2)\n",
            "Requirement already satisfied: pandocfilters>=1.4.1 in /usr/local/lib/python3.11/dist-packages (from nbconvert>=5->notebook>=4.4.1->widgetsnbextension~=3.6.0->ipywidgets>=7.3.0->qiskit[visualization]==0.43.3) (1.5.1)\n",
            "Requirement already satisfied: fastjsonschema>=2.15 in /usr/local/lib/python3.11/dist-packages (from nbformat->notebook>=4.4.1->widgetsnbextension~=3.6.0->ipywidgets>=7.3.0->qiskit[visualization]==0.43.3) (2.21.1)\n",
            "Requirement already satisfied: jsonschema>=2.6 in /usr/local/lib/python3.11/dist-packages (from nbformat->notebook>=4.4.1->widgetsnbextension~=3.6.0->ipywidgets>=7.3.0->qiskit[visualization]==0.43.3) (4.24.0)\n",
            "Requirement already satisfied: argon2-cffi-bindings in /usr/local/lib/python3.11/dist-packages (from argon2-cffi->notebook>=4.4.1->widgetsnbextension~=3.6.0->ipywidgets>=7.3.0->qiskit[visualization]==0.43.3) (21.2.0)\n",
            "Requirement already satisfied: webencodings in /usr/local/lib/python3.11/dist-packages (from bleach!=5.0.0->bleach[css]!=5.0.0->nbconvert>=5->notebook>=4.4.1->widgetsnbextension~=3.6.0->ipywidgets>=7.3.0->qiskit[visualization]==0.43.3) (0.5.1)\n",
            "Requirement already satisfied: tinycss2<1.5,>=1.1.0 in /usr/local/lib/python3.11/dist-packages (from bleach[css]!=5.0.0->nbconvert>=5->notebook>=4.4.1->widgetsnbextension~=3.6.0->ipywidgets>=7.3.0->qiskit[visualization]==0.43.3) (1.4.0)\n",
            "Requirement already satisfied: attrs>=22.2.0 in /usr/local/lib/python3.11/dist-packages (from jsonschema>=2.6->nbformat->notebook>=4.4.1->widgetsnbextension~=3.6.0->ipywidgets>=7.3.0->qiskit[visualization]==0.43.3) (25.3.0)\n",
            "Requirement already satisfied: jsonschema-specifications>=2023.03.6 in /usr/local/lib/python3.11/dist-packages (from jsonschema>=2.6->nbformat->notebook>=4.4.1->widgetsnbextension~=3.6.0->ipywidgets>=7.3.0->qiskit[visualization]==0.43.3) (2025.4.1)\n",
            "Requirement already satisfied: referencing>=0.28.4 in /usr/local/lib/python3.11/dist-packages (from jsonschema>=2.6->nbformat->notebook>=4.4.1->widgetsnbextension~=3.6.0->ipywidgets>=7.3.0->qiskit[visualization]==0.43.3) (0.36.2)\n",
            "Requirement already satisfied: rpds-py>=0.7.1 in /usr/local/lib/python3.11/dist-packages (from jsonschema>=2.6->nbformat->notebook>=4.4.1->widgetsnbextension~=3.6.0->ipywidgets>=7.3.0->qiskit[visualization]==0.43.3) (0.25.1)\n",
            "Requirement already satisfied: jupyter-server<3,>=1.8 in /usr/local/lib/python3.11/dist-packages (from notebook-shim>=0.2.3->nbclassic>=0.4.7->notebook>=4.4.1->widgetsnbextension~=3.6.0->ipywidgets>=7.3.0->qiskit[visualization]==0.43.3) (1.16.0)\n",
            "Requirement already satisfied: soupsieve>1.2 in /usr/local/lib/python3.11/dist-packages (from beautifulsoup4->nbconvert>=5->notebook>=4.4.1->widgetsnbextension~=3.6.0->ipywidgets>=7.3.0->qiskit[visualization]==0.43.3) (2.7)\n",
            "Requirement already satisfied: typing-extensions>=4.0.0 in /usr/local/lib/python3.11/dist-packages (from beautifulsoup4->nbconvert>=5->notebook>=4.4.1->widgetsnbextension~=3.6.0->ipywidgets>=7.3.0->qiskit[visualization]==0.43.3) (4.14.0)\n",
            "Requirement already satisfied: anyio>=3.1.0 in /usr/local/lib/python3.11/dist-packages (from jupyter-server<3,>=1.8->notebook-shim>=0.2.3->nbclassic>=0.4.7->notebook>=4.4.1->widgetsnbextension~=3.6.0->ipywidgets>=7.3.0->qiskit[visualization]==0.43.3) (4.9.0)\n",
            "Requirement already satisfied: sniffio>=1.1 in /usr/local/lib/python3.11/dist-packages (from anyio>=3.1.0->jupyter-server<3,>=1.8->notebook-shim>=0.2.3->nbclassic>=0.4.7->notebook>=4.4.1->widgetsnbextension~=3.6.0->ipywidgets>=7.3.0->qiskit[visualization]==0.43.3) (1.3.1)\n",
            "Requirement already satisfied: qiskit-aer in /usr/local/lib/python3.11/dist-packages (0.12.2)\n",
            "Requirement already satisfied: qiskit-terra>=0.21.0 in /usr/local/lib/python3.11/dist-packages (from qiskit-aer) (0.24.2)\n",
            "Requirement already satisfied: numpy>=1.16.3 in /usr/local/lib/python3.11/dist-packages (from qiskit-aer) (1.23.5)\n",
            "Requirement already satisfied: scipy>=1.0 in /usr/local/lib/python3.11/dist-packages (from qiskit-aer) (1.15.3)\n",
            "Requirement already satisfied: rustworkx>=0.12.0 in /usr/local/lib/python3.11/dist-packages (from qiskit-terra>=0.21.0->qiskit-aer) (0.16.0)\n",
            "Requirement already satisfied: ply>=3.10 in /usr/local/lib/python3.11/dist-packages (from qiskit-terra>=0.21.0->qiskit-aer) (3.11)\n",
            "Requirement already satisfied: psutil>=5 in /usr/local/lib/python3.11/dist-packages (from qiskit-terra>=0.21.0->qiskit-aer) (5.9.5)\n",
            "Requirement already satisfied: sympy>=1.3 in /usr/local/lib/python3.11/dist-packages (from qiskit-terra>=0.21.0->qiskit-aer) (1.13.1)\n",
            "Requirement already satisfied: dill>=0.3 in /usr/local/lib/python3.11/dist-packages (from qiskit-terra>=0.21.0->qiskit-aer) (0.3.7)\n",
            "Requirement already satisfied: python-dateutil>=2.8.0 in /usr/local/lib/python3.11/dist-packages (from qiskit-terra>=0.21.0->qiskit-aer) (2.9.0.post0)\n",
            "Requirement already satisfied: stevedore>=3.0.0 in /usr/local/lib/python3.11/dist-packages (from qiskit-terra>=0.21.0->qiskit-aer) (5.4.1)\n",
            "Requirement already satisfied: symengine<0.10,>=0.9 in /usr/local/lib/python3.11/dist-packages (from qiskit-terra>=0.21.0->qiskit-aer) (0.9.2)\n",
            "Requirement already satisfied: six>=1.5 in /usr/local/lib/python3.11/dist-packages (from python-dateutil>=2.8.0->qiskit-terra>=0.21.0->qiskit-aer) (1.17.0)\n",
            "Requirement already satisfied: pbr>=2.0.0 in /usr/local/lib/python3.11/dist-packages (from stevedore>=3.0.0->qiskit-terra>=0.21.0->qiskit-aer) (6.1.1)\n",
            "Requirement already satisfied: mpmath<1.4,>=1.1.0 in /usr/local/lib/python3.11/dist-packages (from sympy>=1.3->qiskit-terra>=0.21.0->qiskit-aer) (1.3.0)\n",
            "Requirement already satisfied: setuptools in /usr/local/lib/python3.11/dist-packages (from pbr>=2.0.0->stevedore>=3.0.0->qiskit-terra>=0.21.0->qiskit-aer) (75.2.0)\n"
          ]
        }
      ],
      "source": [
        "import IPython\n",
        "\n",
        "def in_colab():\n",
        "    try:\n",
        "        import google.colab\n",
        "        return True\n",
        "    except:\n",
        "        return False\n",
        "\n",
        "path_files = \"./\" if in_colab() else \"../qworld/include/\"\n",
        "\n",
        "SolutionToTask3 = lambda: IPython.display.display(IPython.display.Javascript('window.open(\"{url}\");'.format(url='https://colab.research.google.com/drive/1h5gQZc5m8SPQu79d7Fd8jUN2kNpj_q10#scrollTo=ibOcqmCYdugl' if in_colab() else 'Operations_on_the_Unit_Circle_Solution.ipynb#task3')))\n",
        "\n",
        "if in_colab():\n",
        "    url = \"https://gitlab.com/qworld/qeducation/qbook101/raw/main/qworld/include/quantum.py\"\n",
        "    !wget --no-cache -O quantum.py {url}\n",
        "\n",
        "    url = \"https://gitlab.com/qworld/qeducation/qbook101/raw/main/qworld/include/drawing.py\"\n",
        "    !wget --no-cache -O drawing.py {url}\n",
        "\n",
        "    url = \"https://gitlab.com/qworld/qeducation/qbook101/raw/main/qworld/include/quantum_state.py\"\n",
        "    !wget --no-cache -O quantum_state.py {url}\n",
        "\n",
        "    url = \"https://gitlab.com/qworld/qeducation/qbook101/raw/main/qworld/include/grover.py\"\n",
        "    !wget --no-cache -O grover.py {url}\n",
        "\n",
        "    !pip install qiskit[visualization]==0.43.3\n",
        "    !pip install qiskit-aer"
      ]
    },
    {
      "cell_type": "markdown",
      "metadata": {
        "id": "D9x_nBFipy7a"
      },
      "source": [
        "<h3> Task 1 (Discussion) </h3>\n",
        "\n",
        "When starting in the state $ \\ket{0} $, we apply a quantum operator, say $ M $, then we obtain the state $\\ket{+}$.\n",
        "\n",
        "If we apply the operator $ M $ once more, what can be the next state?\n",
        "\n",
        "How can we classify possible $ M $'s geometrically? How can we parameterize each possible $ M $?"
      ]
    },
    {
      "cell_type": "markdown",
      "metadata": {
        "id": "TlUUKXIkpy7a"
      },
      "source": [
        "<h3> Task 2 (Discussion) </h3>\n",
        "\n",
        "When starting in the state $ \\ket{1} $, we apply a quantum operator, say $ M $, then we obtain the state $\\ket{-}$.\n",
        "\n",
        "If we apply the operator $ M $ again, what can be the next state?\n",
        "\n",
        "How can we parameterize each possible $ M $?"
      ]
    },
    {
      "cell_type": "markdown",
      "metadata": {
        "id": "ZEhWbOw3py7b"
      },
      "source": [
        "<h3> Task 3</h3>\n",
        "\n",
        "Randomly pick an angle $ \\theta \\in [0,2\\pi) $.\n",
        "\n",
        "Suppose that we have 1000 copies of quantum state $ \\ket{v} = \\myvector{ \\cos \\theta \\\\ \\sin \\theta } $ and we measure each of them.\n",
        "\n",
        "What are the expected numbers of observing the states 0 and 1?\n",
        "\n",
        "Implement the above experiment by designing a quantum circuit and set the quantum state by using ry-gate.\n",
        "\n",
        "Compare your experimental and analytic results.\n",
        "\n",
        "Repeat the task a couple of times."
      ]
    },
    {
      "cell_type": "code",
      "execution_count": 24,
      "metadata": {
        "id": "pLaUq3Pepy7b",
        "outputId": "20686da4-3245-475c-fe3a-0e7fc31fba70",
        "colab": {
          "base_uri": "https://localhost:8080/",
          "height": 280
        }
      },
      "outputs": [
        {
          "output_type": "stream",
          "name": "stdout",
          "text": [
            "The angle is 0.5061454830783556 radians\n",
            "The probability of observing 0 is 764.9596321166024\n",
            "The probability of observing 1 is 235.04036788339755\n",
            "\n"
          ]
        },
        {
          "output_type": "execute_result",
          "data": {
            "text/plain": [
              "<Figure size 287.496x200.667 with 1 Axes>"
            ],
            "image/png": "[encoded data removed]"
          },
          "metadata": {},
          "execution_count": 24
        }
      ],
      "source": [
        "#\n",
        "# your code is here\n",
        "#\n",
        "import numpy as np\n",
        "from random import randrange\n",
        "from math import pi, cos, sin\n",
        "from qiskit import QuantumRegister, ClassicalRegister, QuantumCircuit, Aer, execute\n",
        "\n",
        "angle = randrange(361)\n",
        "angle *= pi / 180\n",
        "print(f\"The angle is {angle} radians\")\n",
        "\n",
        "quantum_state = np.array([cos(angle), sin(angle)])\n",
        "quantum_state_probability = np.square(quantum_state)\n",
        "quantum_state_probability *= 1000\n",
        "\n",
        "print(f\"The probability of observing 0 is {quantum_state_probability[0]}\")\n",
        "print(f\"The probability of observing 1 is {quantum_state_probability[1]}\")\n",
        "print()\n",
        "\n",
        "q = QuantumRegister(1)\n",
        "c = ClassicalRegister(1)\n",
        "qc = QuantumCircuit(q, c)\n",
        "qc.ry(2 * angle, q)\n",
        "qc.measure(q, c)\n",
        "qc.draw(output = 'mpl')"
      ]
    },
    {
      "cell_type": "code",
      "source": [
        "job = execute(qc, Aer.get_backend('qasm_simulator'), shots = 1000)\n",
        "counts = job.result().get_counts(qc)\n",
        "print(counts)"
      ],
      "metadata": {
        "id": "-2OLqQlM4ZCC",
        "outputId": "8ff3d66d-1119-4468-ac55-1a0086551a7e",
        "colab": {
          "base_uri": "https://localhost:8080/"
        }
      },
      "execution_count": 26,
      "outputs": [
        {
          "output_type": "stream",
          "name": "stdout",
          "text": [
            "{'1': 226, '0': 774}\n"
          ]
        }
      ]
    },
    {
      "cell_type": "markdown",
      "metadata": {
        "id": "TtVVo5UWpy7b"
      },
      "source": [
        "To check out our solution, run the next cell:"
      ]
    },
    {
      "cell_type": "code",
      "execution_count": 27,
      "metadata": {
        "id": "6ltLD3O2py7b",
        "colab": {
          "base_uri": "https://localhost:8080/",
          "height": 37
        },
        "outputId": "626d32ac-6366-4c70-b5a3-446afd9694ef"
      },
      "outputs": [
        {
          "output_type": "display_data",
          "data": {
            "text/plain": [
              "<IPython.core.display.Javascript object>"
            ],
            "application/javascript": [
              "window.open(\"https://colab.research.google.com/drive/1h5gQZc5m8SPQu79d7Fd8jUN2kNpj_q10#scrollTo=ibOcqmCYdugl\");"
            ]
          },
          "metadata": {}
        }
      ],
      "source": [
        "SolutionToTask3()  # show solution for task 3"
      ]
    }
  ],
  "metadata": {
    "kernelspec": {
      "display_name": "Python 3 (ipykernel)",
      "language": "python",
      "name": "python3"
    },
    "language_info": {
      "codemirror_mode": {
        "name": "ipython",
        "version": 3
      },
      "file_extension": ".py",
      "mimetype": "text/x-python",
      "name": "python",
      "nbconvert_exporter": "python",
      "pygments_lexer": "ipython3",
      "version": "3.11.4"
    },
    "colab": {
      "provenance": [],
      "include_colab_link": true
    }
  },
  "nbformat": 4,
  "nbformat_minor": 0
}
