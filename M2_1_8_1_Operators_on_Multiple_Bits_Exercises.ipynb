{
  "nbformat": 4,
  "nbformat_minor": 0,
  "metadata": {
    "colab": {
      "provenance": [],
      "collapsed_sections": [
        "9XMV21st82oX"
      ],
      "include_colab_link": true
    },
    "kernelspec": {
      "name": "python3",
      "display_name": "Python 3"
    },
    "language_info": {
      "name": "python"
    }
  },
  "cells": [
    {
      "cell_type": "markdown",
      "metadata": {
        "id": "view-in-github",
        "colab_type": "text"
      },
      "source": [
        "<a href=\"https://colab.research.google.com/github/james-lucius/QURECA_ADEQUATE/blob/main/M2_1_8_1_Operators_on_Multiple_Bits_Exercises.ipynb\" target=\"_parent\"><img src=\"https://colab.research.google.com/assets/colab-badge.svg\" alt=\"Open In Colab\"/></a>"
      ]
    },
    {
      "cell_type": "markdown",
      "source": [
        "<img src=\"https://gitlab.com/qworld/qeducation/educational-materials/adequate-qbook1/raw/main/qworld/images/adq_1.png\" align=\"left\" width=450></a>\n",
        "$ \\newcommand{\\bra}[1]{\\langle #1|} $\n",
        "$ \\newcommand{\\ket}[1]{|#1\\rangle} $\n",
        "$ \\newcommand{\\braket}[2]{\\langle #1|#2\\rangle} $\n",
        "$ \\newcommand{\\dot}[2]{ #1 \\cdot #2} $\n",
        "$ \\newcommand{\\biginner}[2]{\\left\\langle #1,#2\\right\\rangle} $\n",
        "$ \\newcommand{\\mymatrix}[2]{\\left( \\begin{array}{#1} #2\\end{array} \\right)} $\n",
        "$ \\newcommand{\\myvector}[1]{\\mymatrix{c}{#1}} $\n",
        "$ \\newcommand{\\myrvector}[1]{\\mymatrix{r}{#1}} $\n",
        "$ \\newcommand{\\mypar}[1]{\\left( #1 \\right)} $\n",
        "$ \\newcommand{\\mybigpar}[1]{ \\Big( #1 \\Big)} $\n",
        "$ \\newcommand{\\sqrttwo}{\\frac{1}{\\sqrt{2}}} $\n",
        "$ \\newcommand{\\dsqrttwo}{\\dfrac{1}{\\sqrt{2}}} $\n",
        "$ \\newcommand{\\onehalf}{\\frac{1}{2}} $\n",
        "$ \\newcommand{\\donehalf}{\\dfrac{1}{2}} $\n",
        "$ \\newcommand{\\hadamard}{ \\mymatrix{rr}{ \\sqrttwo & \\sqrttwo \\\\ \\sqrttwo & -\\sqrttwo }} $\n",
        "$ \\newcommand{\\vzero}{\\myvector{1\\\\0}} $\n",
        "$ \\newcommand{\\vone}{\\myvector{0\\\\1}} $\n",
        "$ \\newcommand{\\stateplus}{\\myvector{ \\sqrttwo \\\\  \\sqrttwo } } $\n",
        "$ \\newcommand{\\stateminus}{ \\myrvector{ \\sqrttwo \\\\ -\\sqrttwo } } $\n",
        "$ \\newcommand{\\myarray}[2]{ \\begin{array}{#1}#2\\end{array}} $\n",
        "$ \\newcommand{\\X}{ \\mymatrix{cc}{0 & 1 \\\\ 1 & 0}  } $\n",
        "$ \\newcommand{\\I}{ \\mymatrix{rr}{1 & 0 \\\\ 0 & 1}  } $\n",
        "$ \\newcommand{\\Z}{ \\mymatrix{rr}{1 & 0 \\\\ 0 & -1}  } $\n",
        "$ \\newcommand{\\Htwo}{ \\mymatrix{rrrr}{ \\frac{1}{2} & \\frac{1}{2} & \\frac{1}{2} & \\frac{1}{2} \\\\ \\frac{1}{2} & -\\frac{1}{2} & \\frac{1}{2} & -\\frac{1}{2} \\\\ \\frac{1}{2} & \\frac{1}{2} & -\\frac{1}{2} & -\\frac{1}{2} \\\\ \\frac{1}{2} & -\\frac{1}{2} & -\\frac{1}{2} & \\frac{1}{2} } } $\n",
        "$ \\newcommand{\\CNOT}{ \\mymatrix{cccc}{1 & 0 & 0 & 0 \\\\ 0 & 1 & 0 & 0 \\\\ 0 & 0 & 0 & 1 \\\\ 0 & 0 & 1 & 0} } $\n",
        "$ \\newcommand{\\norm}[1]{ \\left\\lVert #1 \\right\\rVert } $\n",
        "$ \\newcommand{\\pstate}[1]{ \\lceil \\mspace{-1mu} #1 \\mspace{-1.5mu} \\rfloor } $\n",
        "$ \\newcommand{\\greenbit}[1] {\\mathbf{{\\color{green}#1}}} $\n",
        "$ \\newcommand{\\bluebit}[1] {\\mathbf{{\\color{blue}#1}}} $\n",
        "$ \\newcommand{\\redbit}[1] {\\mathbf{{\\color{red}#1}}} $\n",
        "$ \\newcommand{\\brownbit}[1] {\\mathbf{{\\color{brown}#1}}} $\n",
        "$ \\newcommand{\\blackbit}[1] {\\mathbf{{\\color{black}#1}}} $"
      ],
      "metadata": {
        "id": "AmtPTJjA7WZ3"
      }
    },
    {
      "cell_type": "markdown",
      "source": [
        "_prepared by Abuzer Yakaryilmaz_"
      ],
      "metadata": {
        "id": "TZ-KoqHM2qfV"
      }
    },
    {
      "cell_type": "markdown",
      "source": [
        "<font size=\"28px\" style=\"font-size:28px;\" align=\"left\"><b> <font color=\"blue\"> Exercises for </font>Operators on Multiple Bits </b></font>\n"
      ],
      "metadata": {
        "id": "6vsFV-SE2r9l"
      }
    },
    {
      "cell_type": "markdown",
      "source": [
        "##### <font color=\"#08b806\">Please execute the following cell, it is necessary to distinguish between your local environment and Google Colab's"
      ],
      "metadata": {
        "id": "9XMV21st82oX"
      }
    },
    {
      "cell_type": "code",
      "source": [
        "import IPython\n",
        "\n",
        "def in_colab():\n",
        "    try:\n",
        "        import google.colab\n",
        "        return True\n",
        "    except:\n",
        "        return False\n",
        "\n",
        "SolutionToTask2 = lambda: IPython.display.display(IPython.display.Javascript('window.open(\"{url}\");'.format(url='https://colab.research.google.com/drive/1usD2gD4mv-8ZngCLrnTdRc032CDE6m3T#scrollTo=5azSEfWgvZtf' if in_colab() else 'Operators_on_Multiple_Bits_Exercises_Solutions.ipynb#task1')))\n",
        "SolutionToTask3 = lambda: IPython.display.display(IPython.display.Javascript('window.open(\"{url}\");'.format(url='https://colab.research.google.com/drive/1usD2gD4mv-8ZngCLrnTdRc032CDE6m3T#scrollTo=r4P1tyUBvZtf' if in_colab() else 'Operators_on_Multiple_Bits_Exercises_Solutions.ipynb#task2')))\n",
        "SolutionToTask4 = lambda: IPython.display.display(IPython.display.Javascript('window.open(\"{url}\");'.format(url='https://colab.research.google.com/drive/1usD2gD4mv-8ZngCLrnTdRc032CDE6m3T#scrollTo=LFHgBMdsvZtg' if in_colab() else 'Operators_on_Multiple_Bits_Exercises_Solutions.ipynb#task4')))\n",
        "SolutionToTask5 = lambda: IPython.display.display(IPython.display.Javascript('window.open(\"{url}\");'.format(url='https://colab.research.google.com/drive/1usD2gD4mv-8ZngCLrnTdRc032CDE6m3T#scrollTo=lzsHQLVAvZth' if in_colab() else 'Operators_on_Multiple_Bits_Exercises_Solutions.ipynb#task5')))\n",
        "SolutionToTask6 = lambda: IPython.display.display(IPython.display.Javascript('window.open(\"{url}\");'.format(url='https://colab.research.google.com/drive/1usD2gD4mv-8ZngCLrnTdRc032CDE6m3T#scrollTo=Zm22MDpcvZth' if in_colab() else 'Operators_on_Multiple_Bits_Exercises_Solutions.ipynb#task6')))"
      ],
      "metadata": {
        "id": "wqI6o63RkrVi"
      },
      "execution_count": 1,
      "outputs": []
    },
    {
      "cell_type": "markdown",
      "source": [
        "#<h3> Task 2</h3>\n",
        "\n",
        "We have two bits. What is $ (4 \\times 4) $-dimensional matrix representation of the probabilistic operator $ M =  \\mymatrix{c}{ 0.2 & 0.7 \\\\ 0.8 & 0.3  } $ applied to the first bit?"
      ],
      "metadata": {
        "id": "TLm_scmC5CGq"
      }
    },
    {
      "cell_type": "markdown",
      "source": [
        "To check out our solution, run the next cell:"
      ],
      "metadata": {
        "id": "il9QTY3h5FmC"
      }
    },
    {
      "cell_type": "code",
      "source": [
        "SolutionToTask2()  # show solution for task 2"
      ],
      "metadata": {
        "id": "S4_7uEiAkQAG",
        "outputId": "ba96079d-9c23-4401-b3bd-5cadb2530006",
        "colab": {
          "base_uri": "https://localhost:8080/",
          "height": 17
        }
      },
      "execution_count": null,
      "outputs": [
        {
          "output_type": "display_data",
          "data": {
            "text/plain": [
              "<IPython.core.display.Javascript object>"
            ],
            "application/javascript": [
              "window.open(\"https://colab.research.google.com/drive/1usD2gD4mv-8ZngCLrnTdRc032CDE6m3T#scrollTo=5azSEfWgvZtf\");"
            ]
          },
          "metadata": {}
        }
      ]
    },
    {
      "cell_type": "markdown",
      "source": [
        "<h3> Task 3</h3>\n",
        "\n",
        "We have three bits. What is $ (8 \\times 8) $-dimensional matrix representation of the probabilistic operator $ M =  \\mymatrix{c}{ 0.9 & 0.4 \\\\ 0.1 & 0.6  } $ applied to the second bit?"
      ],
      "metadata": {
        "id": "G1MIdYmI5Lvq"
      }
    },
    {
      "cell_type": "markdown",
      "source": [
        "To check out our solution, run the next cell:"
      ],
      "metadata": {
        "id": "-ZjA_1qO5QB6"
      }
    },
    {
      "cell_type": "code",
      "source": [
        "SolutionToTask3()  # show solution for task 3"
      ],
      "metadata": {
        "id": "il1k5L80kUEf"
      },
      "execution_count": null,
      "outputs": []
    },
    {
      "cell_type": "markdown",
      "metadata": {
        "id": "78c4LUkgxPeJ"
      },
      "source": [
        "<h3> Task 4</h3>\n",
        "\n",
        "We have three bits and the  probabilistic operator\n",
        "$ M = \\mymatrix{rrrr}{0.05 & 0 & 0.70 & 0.60 \\\\ 0.45 & 0.50 & 0.20 & 0.25 \\\\ 0.20 & 0.35 & 0.10 & 0 \\\\ 0.30 & 0.15 & 0 & 0.15 } $ is applied to the first and third bits.\n",
        "\n",
        "What is the corresponding the $(8 \\times 8)$-dimensional matrix applied to the whole system?\n",
        "\n",
        "*You may solve this task by using python.*"
      ]
    },
    {
      "cell_type": "code",
      "execution_count": null,
      "metadata": {
        "id": "DRZrUp61xPeJ"
      },
      "outputs": [],
      "source": [
        "# the given matrix\n",
        "M = [\n",
        "    [0.05, 0, 0.70, 0.60],\n",
        "    [0.45, 0.50, 0.20, 0.25],\n",
        "    [0.20, 0.35, 0.10, 0],\n",
        "    [0.30, 0.15, 0, 0.15]\n",
        "]\n",
        "\n",
        "#\n",
        "# you may enumarate the columns and rows by the strings '00', '01', '10', and '11'\n",
        "# int('011',2) returns the decimal value of the binary string '011'\n",
        "#\n",
        "\n",
        "#\n",
        "# your solution is here\n",
        "#"
      ]
    },
    {
      "cell_type": "markdown",
      "metadata": {
        "id": "bAD7mmBgxPeJ"
      },
      "source": [
        "To check out our solution, run the next cell:"
      ]
    },
    {
      "cell_type": "code",
      "source": [
        "SolutionToTask4()  # show solution for task 4"
      ],
      "metadata": {
        "id": "7ZToc0vEkZT4"
      },
      "execution_count": null,
      "outputs": []
    },
    {
      "cell_type": "markdown",
      "source": [
        "<a name=\"task5\"></a>\n",
        "<h3> Task 5</h3>\n",
        "\n",
        "Let $ M = \\mymatrix{cc}{0.7 & 0.4 \\\\ 0.3 & 0.6} $ be a single bit operator. What is the matrix form of the controlled-$M$ operator where the first bit is the target bit and the second bit is the control bit."
      ],
      "metadata": {
        "id": "yvJCNJtiizR0"
      }
    },
    {
      "cell_type": "markdown",
      "source": [
        "To check out our solution, run the next cell:"
      ],
      "metadata": {
        "id": "SZq8mQkti1hN"
      }
    },
    {
      "cell_type": "code",
      "source": [
        "SolutionToTask5()  # show solution for task 5"
      ],
      "metadata": {
        "id": "Df8lIn9Dkdjx"
      },
      "execution_count": null,
      "outputs": []
    },
    {
      "cell_type": "markdown",
      "metadata": {
        "id": "9c3v2ERSxPeK"
      },
      "source": [
        "<h3> Task 6</h3>\n",
        "\n",
        "Verify that $ C_0M = (X \\otimes I) \\cdot (CM) \\cdot ( X \\otimes I ) = \\mymatrix{c|c}{ M & \\mathbf{0} \\\\ \\hline \\mathbf{0} & I }  $."
      ]
    },
    {
      "cell_type": "markdown",
      "metadata": {
        "id": "Yy6o-0lxxPeK"
      },
      "source": [
        "To check out our solution, run the next cell:"
      ]
    },
    {
      "cell_type": "code",
      "source": [
        "SolutionToTask6()  # show solution for task 6"
      ],
      "metadata": {
        "id": "XQF2P2_9kiDG"
      },
      "execution_count": null,
      "outputs": []
    },
    {
      "cell_type": "markdown",
      "source": [
        "<h3> Task 7</h3>\n",
        "\n",
        "For the given two single bit operators $ M $ and $ N $, let $ CM $ and $ CN $ be the controlled-$M$ and controlled-$N$ operators. By using $ X $, $ CM $, and $ CN $ operators, how can we obtain the operator $ \\mymatrix{c|c}{ M & \\mathbf{0} \\\\ \\hline \\mathbf{0} & N} $?\n"
      ],
      "metadata": {
        "id": "tiGT7KrkklvA"
      }
    }
  ]
}