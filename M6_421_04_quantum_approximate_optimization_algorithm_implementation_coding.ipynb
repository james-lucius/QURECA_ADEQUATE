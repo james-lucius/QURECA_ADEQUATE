{
  "cells": [
    {
      "cell_type": "markdown",
      "metadata": {
        "id": "view-in-github",
        "colab_type": "text"
      },
      "source": [
        "<a href=\"https://colab.research.google.com/github/james-lucius/qureca_ADEQUATE/blob/main/M6_421_04_quantum_approximate_optimization_algorithm_implementation_coding.ipynb\" target=\"_parent\"><img src=\"https://colab.research.google.com/assets/colab-badge.svg\" alt=\"Open In Colab\"/></a>"
      ]
    },
    {
      "cell_type": "markdown",
      "metadata": {
        "id": "41GrN-mfORx_"
      },
      "source": [
        "<img src=\"https://gitlab.com/qworld/qeducation/educational-materials/adequate-qbook1/raw/main/qworld/images/adq_1.png\" align=\"left\" width=450></a>\n",
        "$ \\newcommand{\\bra}[1]{\\langle #1|} $\n",
        "$ \\newcommand{\\ket}[1]{|#1\\rangle} $\n",
        "$ \\newcommand{\\braket}[2]{\\langle #1|#2\\rangle} $\n",
        "$ \\newcommand{\\dot}[2]{ #1 \\cdot #2} $\n",
        "$ \\newcommand{\\biginner}[2]{\\left\\langle #1,#2\\right\\rangle} $\n",
        "$ \\newcommand{\\mymatrix}[2]{\\left( \\begin{array}{#1} #2\\end{array} \\right)} $\n",
        "$ \\newcommand{\\myvector}[1]{\\mymatrix{c}{#1}} $\n",
        "$ \\newcommand{\\myrvector}[1]{\\mymatrix{r}{#1}} $\n",
        "$ \\newcommand{\\mypar}[1]{\\left( #1 \\right)} $\n",
        "$ \\newcommand{\\mybigpar}[1]{ \\Big( #1 \\Big)} $\n",
        "$ \\newcommand{\\sqrttwo}{\\frac{1}{\\sqrt{2}}} $\n",
        "$ \\newcommand{\\dsqrttwo}{\\dfrac{1}{\\sqrt{2}}} $\n",
        "$ \\newcommand{\\onehalf}{\\frac{1}{2}} $\n",
        "$ \\newcommand{\\donehalf}{\\dfrac{1}{2}} $\n",
        "$ \\newcommand{\\hadamard}{ \\mymatrix{rr}{ \\sqrttwo & \\sqrttwo \\\\ \\sqrttwo & -\\sqrttwo }} $\n",
        "$ \\newcommand{\\vzero}{\\myvector{1\\\\0}} $\n",
        "$ \\newcommand{\\vone}{\\myvector{0\\\\1}} $\n",
        "$ \\newcommand{\\stateplus}{\\myvector{ \\sqrttwo \\\\  \\sqrttwo } } $\n",
        "$ \\newcommand{\\stateminus}{ \\myrvector{ \\sqrttwo \\\\ -\\sqrttwo } } $\n",
        "$ \\newcommand{\\myarray}[2]{ \\begin{array}{#1}#2\\end{array}} $\n",
        "$ \\newcommand{\\X}{ \\mymatrix{cc}{0 & 1 \\\\ 1 & 0}  } $\n",
        "$ \\newcommand{\\I}{ \\mymatrix{rr}{1 & 0 \\\\ 0 & 1}  } $\n",
        "$ \\newcommand{\\Z}{ \\mymatrix{rr}{1 & 0 \\\\ 0 & -1}  } $\n",
        "$ \\newcommand{\\Htwo}{ \\mymatrix{rrrr}{ \\frac{1}{2} & \\frac{1}{2} & \\frac{1}{2} & \\frac{1}{2} \\\\ \\frac{1}{2} & -\\frac{1}{2} & \\frac{1}{2} & -\\frac{1}{2} \\\\ \\frac{1}{2} & \\frac{1}{2} & -\\frac{1}{2} & -\\frac{1}{2} \\\\ \\frac{1}{2} & -\\frac{1}{2} & -\\frac{1}{2} & \\frac{1}{2} } } $\n",
        "$ \\newcommand{\\CNOT}{ \\mymatrix{cccc}{1 & 0 & 0 & 0 \\\\ 0 & 1 & 0 & 0 \\\\ 0 & 0 & 0 & 1 \\\\ 0 & 0 & 1 & 0} } $\n",
        "$ \\newcommand{\\norm}[1]{ \\left\\lVert #1 \\right\\rVert } $\n",
        "$ \\newcommand{\\pstate}[1]{ \\lceil \\mspace{-1mu} #1 \\mspace{-1.5mu} \\rfloor } $\n",
        "$ \\newcommand{\\greenbit}[1] {\\mathbf{{\\color{green}#1}}} $\n",
        "$ \\newcommand{\\bluebit}[1] {\\mathbf{{\\color{blue}#1}}} $\n",
        "$ \\newcommand{\\redbit}[1] {\\mathbf{{\\color{red}#1}}} $\n",
        "$ \\newcommand{\\brownbit}[1] {\\mathbf{{\\color{brown}#1}}} $\n",
        "$ \\newcommand{\\blackbit}[1] {\\mathbf{{\\color{black}#1}}} $"
      ]
    },
    {
      "cell_type": "markdown",
      "metadata": {
        "id": "ZdFFnm9UORyB"
      },
      "source": [
        "_prepared by Özlem Salehi_"
      ]
    },
    {
      "cell_type": "markdown",
      "metadata": {
        "id": "PKwB3kSHORyB"
      },
      "source": [
        "<font size=\"28px\" style=\"font-size:28px;\" align=\"left\"><b>Exercises: Quantum Approximate Optimization Algorithm - Implementation</b></font>\n"
      ]
    },
    {
      "cell_type": "markdown",
      "source": [
        "Run the following cell to perform necessary installations:"
      ],
      "metadata": {
        "id": "oduvoxdIvObw"
      }
    },
    {
      "cell_type": "code",
      "source": [
        "try:\n",
        "  import qiskit, qiskit_aer\n",
        "  print(\"Qiskit has been imported \")\n",
        "except:\n",
        "  print(\"Installing Qiskit...\")\n",
        "  !pip install -U -q qiskit[visualization]\n",
        "  !pip install -U -q qiskit-aer\n",
        "  print(\"Qiskit has been installed\")"
      ],
      "metadata": {
        "id": "azjrjRRVRsca"
      },
      "execution_count": null,
      "outputs": []
    },
    {
      "cell_type": "markdown",
      "source": [
        "### Task 1"
      ],
      "metadata": {
        "id": "tCzmyzw5bXRE"
      }
    },
    {
      "cell_type": "markdown",
      "source": [
        "Complete the function below that creates the initial state given the number of qubits in the circuit.\n",
        "\n",
        "\n"
      ],
      "metadata": {
        "id": "B2olwABQgy_N"
      }
    },
    {
      "cell_type": "code",
      "source": [
        "from qiskit import  QuantumCircuit\n",
        "\n",
        "def initial_state(n):\n",
        "  ### Your code here\n",
        "\n",
        "\n",
        "  return qc"
      ],
      "metadata": {
        "id": "wXVMoM0rg9kn"
      },
      "execution_count": null,
      "outputs": []
    },
    {
      "cell_type": "markdown",
      "source": [
        "### Solution"
      ],
      "metadata": {
        "id": "x4XOerzdhAa8"
      }
    },
    {
      "cell_type": "code",
      "source": [
        "from qiskit import  QuantumCircuit\n",
        "\n",
        "def initial_state(n):\n",
        "  qc = QuantumCircuit(n)\n",
        "  for i in range(n):\n",
        "    qc.h(i)\n",
        "  return qc"
      ],
      "metadata": {
        "id": "BEMUI5w8g72n"
      },
      "execution_count": null,
      "outputs": []
    },
    {
      "cell_type": "markdown",
      "source": [
        "### Task 2\n",
        "\n"
      ],
      "metadata": {
        "id": "dSjxF5UmhCij"
      }
    },
    {
      "cell_type": "markdown",
      "source": [
        "Complete the function below that creates the mixer given the number of qubits in the circuit. The function takes the number of qubits and the layer number as input. The circuit should be parametrized by $\\beta_i$ where $i$ is the layer number."
      ],
      "metadata": {
        "id": "0lFIMnfFhGBj"
      }
    },
    {
      "cell_type": "code",
      "source": [
        "from qiskit import  QuantumCircuit\n",
        "from qiskit.circuit import Parameter\n",
        "\n",
        "def mixer(n, i):\n",
        "  ### Your code here\n",
        "\n",
        "\n",
        "  return qc"
      ],
      "metadata": {
        "id": "0y3QCaOZhX6O"
      },
      "execution_count": null,
      "outputs": []
    },
    {
      "cell_type": "markdown",
      "source": [
        "### Solution"
      ],
      "metadata": {
        "id": "J3bHehIwhaC3"
      }
    },
    {
      "cell_type": "code",
      "source": [
        "from qiskit import  QuantumCircuit\n",
        "from qiskit.circuit import Parameter\n",
        "\n",
        "def mixer(n, i):\n",
        "  qc = QuantumCircuit(n)\n",
        "  beta = Parameter(f'beta{i}')\n",
        "  for i in range(n):\n",
        "    qc.rx(2*beta,i)\n",
        "  return qc"
      ],
      "metadata": {
        "id": "yDAhDppYbY0Z"
      },
      "execution_count": null,
      "outputs": []
    },
    {
      "cell_type": "markdown",
      "source": [
        "### Task 3\n",
        "\n",
        "Complete the function below that implements ansatz for the given cost function which is guaranteed to be 2-local. The function takes the number of qubits, the Hamiltonian, and the layer number as input. The circuit should be parametrized by $\\gamma_i$, where $i$ is the layer number."
      ],
      "metadata": {
        "id": "GKXYnfIZhb4x"
      }
    },
    {
      "cell_type": "code",
      "source": [
        "from qiskit import  QuantumCircuit\n",
        "from qiskit.circuit import Parameter\n",
        "\n",
        "def cost(n, op, i):\n",
        "\n",
        "  ### Your code here\n",
        "\n",
        "  return qc"
      ],
      "metadata": {
        "id": "boMHtS-phsTn"
      },
      "execution_count": null,
      "outputs": []
    },
    {
      "cell_type": "markdown",
      "source": [
        "### Solution"
      ],
      "metadata": {
        "id": "Zc66hsMonn-z"
      }
    },
    {
      "cell_type": "code",
      "source": [
        "from qiskit import  QuantumCircuit\n",
        "from qiskit.circuit import Parameter\n",
        "\n",
        "def cost(n, op, i):\n",
        "  qc = QuantumCircuit(n)\n",
        "  gamma = Parameter(f\"gamma{i}\")\n",
        "  for term in op:\n",
        "    indices = [i for i, p in enumerate(term.paulis[0]) if str(p) != \"I\"]\n",
        "    if len(indices) == 2:\n",
        "      qc.rzz(2*term.coeffs[0].real*gamma, *indices)\n",
        "    elif len(indices) == 1:\n",
        "      qc.rz(2*term.coeffs[0].real*gamma, *indices)\n",
        "  return qc"
      ],
      "metadata": {
        "id": "JxQJBwnTdpsj"
      },
      "execution_count": null,
      "outputs": []
    },
    {
      "cell_type": "markdown",
      "source": [
        "### Task 4\n",
        "\n",
        "Extend the function you have written in Task 3 by also taking into account Hamiltonians which are not 2-local."
      ],
      "metadata": {
        "id": "I4vuEBBHnzVG"
      }
    },
    {
      "cell_type": "code",
      "source": [
        "from qiskit import  QuantumCircuit\n",
        "from qiskit.circuit import Parameter\n",
        "\n",
        "def cost(n, op, i):\n",
        "  ### Your code here\n",
        "\n",
        "  return qc"
      ],
      "metadata": {
        "id": "LA_tORPYpu0v"
      },
      "execution_count": null,
      "outputs": []
    },
    {
      "cell_type": "markdown",
      "source": [
        "### Solution"
      ],
      "metadata": {
        "id": "_6vCnfRJpyLR"
      }
    },
    {
      "cell_type": "code",
      "source": [
        "from qiskit import  QuantumCircuit\n",
        "from qiskit.circuit import Parameter\n",
        "\n",
        "def cost(n, op, i):\n",
        "  qc = QuantumCircuit(n)\n",
        "  gamma = Parameter(f\"gamma{i}\")\n",
        "  for term in op:\n",
        "    indices = [i for i, p in enumerate(term.paulis[0]) if str(p) != \"I\"]\n",
        "    if len(indices) > 2:\n",
        "      for i in range(len(indices)-1):\n",
        "        qc.cx(indices[i],indices[i+1])\n",
        "      qc.rz(2*term.coeffs[0].real*gamma, indices[-1])\n",
        "      for i in range(len(indices)-1,0,-1):\n",
        "        qc.cx(i,i+1)\n",
        "    if len(indices) == 2:\n",
        "      qc.rzz(2*term.coeffs[0].real*gamma, *indices)\n",
        "    elif len(indices) == 1:\n",
        "      qc.rz(2*term.coeffs[0].real*gamma, *indices)\n",
        "    qc.barrier()\n",
        "  return qc"
      ],
      "metadata": {
        "id": "GvuUpXpHnm44"
      },
      "execution_count": null,
      "outputs": []
    },
    {
      "cell_type": "markdown",
      "source": [
        "### Task 5\n",
        "\n",
        "For the Hamiltonian $H= 2ZZZI + 4IZZI + IIIZ + ZIIZ$, verify the correctness of the circuit construction you made in Task 4, by exact diagonalization. Note that ansatz returns a parametrized circuit and you should assign parameters before obtaining the unitary circuit. Assume that we are in the first layer and assign $\\gamma_0=1$"
      ],
      "metadata": {
        "id": "cXcHSflGqd61"
      }
    },
    {
      "cell_type": "code",
      "source": [
        "from qiskit.quantum_info import SparsePauliOp\n",
        "\n",
        "H =  SparsePauliOp([\"ZZZI\",\"IZZI\",\"IIIZ\", \"ZIIZ\"], [2,4,5,1])\n",
        "qc = ansatz(4,H,0)\n",
        "\n",
        "### Your code here"
      ],
      "metadata": {
        "id": "DKpEsbZIqdfe"
      },
      "execution_count": null,
      "outputs": []
    },
    {
      "cell_type": "code",
      "source": [
        "import numpy as np\n",
        "from scipy.linalg import eig\n",
        "\n",
        "### Your code hhere\n",
        "\n",
        "U2 = P @ expD @ P_inv"
      ],
      "metadata": {
        "id": "_83CvJWfrgCw"
      },
      "execution_count": null,
      "outputs": []
    },
    {
      "cell_type": "code",
      "source": [
        "assert np.allclose(U1,U2)"
      ],
      "metadata": {
        "id": "shlRI6iUr9ef"
      },
      "execution_count": null,
      "outputs": []
    },
    {
      "cell_type": "markdown",
      "source": [
        "### Solution"
      ],
      "metadata": {
        "id": "wKVaPrKyrauz"
      }
    },
    {
      "cell_type": "code",
      "source": [
        "from qiskit.quantum_info import SparsePauliOp\n",
        "from qiskit.quantum_info import Operator\n",
        "\n",
        "H =  SparsePauliOp([\"ZZZI\",\"IZZI\",\"IIIZ\", \"ZIIZ\"], [2,4,5,1])\n",
        "qc = cost(4,H,0)\n",
        "bc = qc.assign_parameters([1])\n",
        "U1 = Operator.from_circuit(bc)\n"
      ],
      "metadata": {
        "id": "Odml7ex4nm9i"
      },
      "execution_count": null,
      "outputs": []
    },
    {
      "cell_type": "code",
      "source": [
        "import numpy as np\n",
        "from scipy.linalg import eig\n",
        "\n",
        "eigenvalues, eigenvectors = eig(H)\n",
        "P = eigenvectors\n",
        "D = np.diag(eigenvalues)\n",
        "P_inv = np.linalg.inv(P)\n",
        "t = 1\n",
        "expD = np.diag(np.exp(-1j * t * np.diagonal(D)))\n",
        "U2 = P @ expD @ P_inv"
      ],
      "metadata": {
        "id": "IwIiXPwyqThL"
      },
      "execution_count": null,
      "outputs": []
    },
    {
      "cell_type": "code",
      "source": [
        "assert np.allclose(U1,U2)"
      ],
      "metadata": {
        "id": "7hhjdsxtqWbv"
      },
      "execution_count": null,
      "outputs": []
    },
    {
      "cell_type": "markdown",
      "source": [
        "### Task 6\n",
        "\n",
        "For the Hamiltonian $H= 2ZZZI + 4IZZI + IIIZ + ZIIZ$, create its QAOA circuit with 5 layers and draw it."
      ],
      "metadata": {
        "id": "DdldiCA1owu-"
      }
    },
    {
      "cell_type": "code",
      "source": [
        "from qiskit.quantum_info import SparsePauliOp\n",
        "from qiskit import QuantumCircuit\n",
        "\n",
        "n = 4\n",
        "p = 5\n",
        "H =  SparsePauliOp([\"ZZZI\",\"IZZI\",\"IIIZ\", \"ZIIZ\"], [2,4,5,1])\n",
        "#Create the circuit\n",
        "\n",
        "#Add initial state\n",
        "\n",
        "qc.barrier()\n",
        "for i in range(p):\n",
        "  # Add mixer\n",
        "\n",
        "  qc.barrier()\n",
        "  # Add cost Hamiltonian\n",
        "\n",
        "  qc.barrier()\n",
        "qc.decompose().draw(output=\"mpl\")"
      ],
      "metadata": {
        "id": "bOsJ4f30uxRO"
      },
      "execution_count": null,
      "outputs": []
    },
    {
      "cell_type": "markdown",
      "source": [
        "### Solution"
      ],
      "metadata": {
        "id": "WnngVPBvVu3w"
      }
    },
    {
      "cell_type": "code",
      "source": [
        "from qiskit.quantum_info import SparsePauliOp\n",
        "from qiskit import QuantumCircuit\n",
        "\n",
        "n = 4\n",
        "p = 5\n",
        "H =  SparsePauliOp([\"ZZZI\",\"IZZI\",\"IIIZ\", \"ZIIZ\"], [2,4,5,1])\n",
        "#Create the circuit\n",
        "qc = QuantumCircuit(n)\n",
        "#Add initial state\n",
        "qc.append(initial_state(n), range(n))\n",
        "qc.barrier()\n",
        "for i in range(p):\n",
        "  # Add mixer\n",
        "  qc.append(mixer(n,i), range(n))\n",
        "  qc.barrier()\n",
        "  # Add cost Hamiltonian\n",
        "  qc.append(cost(n,H,i), range(n))\n",
        "  qc.barrier()\n",
        "qc.decompose().draw(output=\"mpl\")"
      ],
      "metadata": {
        "id": "oyqLvjW3Vvqi"
      },
      "execution_count": null,
      "outputs": []
    }
  ],
  "metadata": {
    "kernelspec": {
      "display_name": "Python 3 (ipykernel)",
      "language": "python",
      "name": "python3"
    },
    "language_info": {
      "codemirror_mode": {
        "name": "ipython",
        "version": 3
      },
      "file_extension": ".py",
      "mimetype": "text/x-python",
      "name": "python",
      "nbconvert_exporter": "python",
      "pygments_lexer": "ipython3",
      "version": "3.11.4"
    },
    "colab": {
      "provenance": [],
      "toc_visible": true,
      "include_colab_link": true
    }
  },
  "nbformat": 4,
  "nbformat_minor": 0
}