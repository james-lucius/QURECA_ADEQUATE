{
  "cells": [
    {
      "cell_type": "markdown",
      "metadata": {
        "id": "view-in-github",
        "colab_type": "text"
      },
      "source": [
        "<a href=\"https://colab.research.google.com/github/james-lucius/qureca_ADEQUATE/blob/main/M3_541_Grovers_Search_Implementation_Exercise.ipynb\" target=\"_parent\"><img src=\"https://colab.research.google.com/assets/colab-badge.svg\" alt=\"Open In Colab\"/></a>"
      ]
    },
    {
      "cell_type": "markdown",
      "source": [
        "<img src=\"https://gitlab.com/qworld/qeducation/educational-materials/adequate-qbook1/raw/main/qworld/images/adq_1.png\" align=\"left\" width=450></a>\n",
        "$ \\newcommand{\\bra}[1]{\\langle #1|} $\n",
        "$ \\newcommand{\\ket}[1]{|#1\\rangle} $\n",
        "$ \\newcommand{\\braket}[2]{\\langle #1|#2\\rangle} $\n",
        "$ \\newcommand{\\dot}[2]{ #1 \\cdot #2} $\n",
        "$ \\newcommand{\\biginner}[2]{\\left\\langle #1,#2\\right\\rangle} $\n",
        "$ \\newcommand{\\mymatrix}[2]{\\left( \\begin{array}{#1} #2\\end{array} \\right)} $\n",
        "$ \\newcommand{\\myvector}[1]{\\mymatrix{c}{#1}} $\n",
        "$ \\newcommand{\\myrvector}[1]{\\mymatrix{r}{#1}} $\n",
        "$ \\newcommand{\\mypar}[1]{\\left( #1 \\right)} $\n",
        "$ \\newcommand{\\mybigpar}[1]{ \\Big( #1 \\Big)} $\n",
        "$ \\newcommand{\\sqrttwo}{\\frac{1}{\\sqrt{2}}} $\n",
        "$ \\newcommand{\\dsqrttwo}{\\dfrac{1}{\\sqrt{2}}} $\n",
        "$ \\newcommand{\\onehalf}{\\frac{1}{2}} $\n",
        "$ \\newcommand{\\donehalf}{\\dfrac{1}{2}} $\n",
        "$ \\newcommand{\\hadamard}{ \\mymatrix{rr}{ \\sqrttwo & \\sqrttwo \\\\ \\sqrttwo & -\\sqrttwo }} $\n",
        "$ \\newcommand{\\vzero}{\\myvector{1\\\\0}} $\n",
        "$ \\newcommand{\\vone}{\\myvector{0\\\\1}} $\n",
        "$ \\newcommand{\\stateplus}{\\myvector{ \\sqrttwo \\\\  \\sqrttwo } } $\n",
        "$ \\newcommand{\\stateminus}{ \\myrvector{ \\sqrttwo \\\\ -\\sqrttwo } } $\n",
        "$ \\newcommand{\\myarray}[2]{ \\begin{array}{#1}#2\\end{array}} $\n",
        "$ \\newcommand{\\X}{ \\mymatrix{cc}{0 & 1 \\\\ 1 & 0}  } $\n",
        "$ \\newcommand{\\I}{ \\mymatrix{rr}{1 & 0 \\\\ 0 & 1}  } $\n",
        "$ \\newcommand{\\Z}{ \\mymatrix{rr}{1 & 0 \\\\ 0 & -1}  } $\n",
        "$ \\newcommand{\\Htwo}{ \\mymatrix{rrrr}{ \\frac{1}{2} & \\frac{1}{2} & \\frac{1}{2} & \\frac{1}{2} \\\\ \\frac{1}{2} & -\\frac{1}{2} & \\frac{1}{2} & -\\frac{1}{2} \\\\ \\frac{1}{2} & \\frac{1}{2} & -\\frac{1}{2} & -\\frac{1}{2} \\\\ \\frac{1}{2} & -\\frac{1}{2} & -\\frac{1}{2} & \\frac{1}{2} } } $\n",
        "$ \\newcommand{\\CNOT}{ \\mymatrix{cccc}{1 & 0 & 0 & 0 \\\\ 0 & 1 & 0 & 0 \\\\ 0 & 0 & 0 & 1 \\\\ 0 & 0 & 1 & 0} } $\n",
        "$ \\newcommand{\\norm}[1]{ \\left\\lVert #1 \\right\\rVert } $\n",
        "$ \\newcommand{\\pstate}[1]{ \\lceil \\mspace{-1mu} #1 \\mspace{-1.5mu} \\rfloor } $\n",
        "$ \\newcommand{\\greenbit}[1] {\\mathbf{{\\color{green}#1}}} $\n",
        "$ \\newcommand{\\bluebit}[1] {\\mathbf{{\\color{blue}#1}}} $\n",
        "$ \\newcommand{\\redbit}[1] {\\mathbf{{\\color{red}#1}}} $\n",
        "$ \\newcommand{\\brownbit}[1] {\\mathbf{{\\color{brown}#1}}} $\n",
        "$ \\newcommand{\\blackbit}[1] {\\mathbf{{\\color{black}#1}}} $"
      ],
      "metadata": {
        "id": "UUXy5zNIiJm2"
      }
    },
    {
      "cell_type": "markdown",
      "metadata": {
        "id": "MXnPu4eSeJB9"
      },
      "source": [
        "_prepared by Maksim Dimitrijev and Özlem Salehi_"
      ]
    },
    {
      "cell_type": "markdown",
      "metadata": {
        "id": "9swlnaaXeJB-"
      },
      "source": [
        "<font size=\"28px\" style=\"font-size:28px;\" align=\"left\"><b>Exercise: Implementation of Grover's Search </b></font>"
      ]
    },
    {
      "cell_type": "markdown",
      "metadata": {
        "jp-MarkdownHeadingCollapsed": true,
        "id": "YV_c_ctFeJB-"
      },
      "source": [
        "##### <font color=\"#08b806\">Please execute the following cell, it is necessary to distinguish between your local environment and Google Colab's"
      ]
    },
    {
      "cell_type": "code",
      "execution_count": null,
      "metadata": {
        "id": "-P5CRrzjeJB-",
        "colab": {
          "base_uri": "https://localhost:8080/"
        },
        "outputId": "e1773c04-c03e-4969-f035-18156a5b344d"
      },
      "outputs": [
        {
          "output_type": "stream",
          "name": "stdout",
          "text": [
            "--2024-12-07 19:13:30--  https://gitlab.com/qworld/qeducation/qbook101/raw/main/qworld/include/quantum.py\n",
            "Resolving gitlab.com (gitlab.com)... 172.65.251.78, 2606:4700:90:0:f22e:fbec:5bed:a9b9\n",
            "Connecting to gitlab.com (gitlab.com)|172.65.251.78|:443... connected.\n",
            "HTTP request sent, awaiting response... 200 OK\n",
            "Length: 2760 (2.7K) [text/plain]\n",
            "Saving to: ‘quantum.py’\n",
            "\n",
            "quantum.py          100%[===================>]   2.70K  --.-KB/s    in 0s      \n",
            "\n",
            "2024-12-07 19:13:30 (33.8 MB/s) - ‘quantum.py’ saved [2760/2760]\n",
            "\n",
            "--2024-12-07 19:13:30--  https://gitlab.com/qworld/qeducation/qbook101/raw/main/qworld/include/drawing.py\n",
            "Resolving gitlab.com (gitlab.com)... 172.65.251.78, 2606:4700:90:0:f22e:fbec:5bed:a9b9\n",
            "Connecting to gitlab.com (gitlab.com)|172.65.251.78|:443... connected.\n",
            "HTTP request sent, awaiting response... 200 OK\n",
            "Length: 6260 (6.1K) [text/plain]\n",
            "Saving to: ‘drawing.py’\n",
            "\n",
            "drawing.py          100%[===================>]   6.11K  --.-KB/s    in 0s      \n",
            "\n",
            "2024-12-07 19:13:31 (44.4 MB/s) - ‘drawing.py’ saved [6260/6260]\n",
            "\n",
            "--2024-12-07 19:13:31--  https://gitlab.com/qworld/qeducation/qbook101/raw/main/qworld/include/quantum_state.py\n",
            "Resolving gitlab.com (gitlab.com)... 172.65.251.78, 2606:4700:90:0:f22e:fbec:5bed:a9b9\n",
            "Connecting to gitlab.com (gitlab.com)|172.65.251.78|:443... connected.\n",
            "HTTP request sent, awaiting response... 200 OK\n",
            "Length: 1391 (1.4K) [text/plain]\n",
            "Saving to: ‘quantum_state.py’\n",
            "\n",
            "quantum_state.py    100%[===================>]   1.36K  --.-KB/s    in 0s      \n",
            "\n",
            "2024-12-07 19:13:31 (26.8 MB/s) - ‘quantum_state.py’ saved [1391/1391]\n",
            "\n",
            "--2024-12-07 19:13:31--  https://gitlab.com/qworld/qeducation/qbook101/raw/main/qworld/include/grover.py\n",
            "Resolving gitlab.com (gitlab.com)... 172.65.251.78, 2606:4700:90:0:f22e:fbec:5bed:a9b9\n",
            "Connecting to gitlab.com (gitlab.com)|172.65.251.78|:443... connected.\n",
            "HTTP request sent, awaiting response... 200 OK\n",
            "Length: 6778 (6.6K) [text/plain]\n",
            "Saving to: ‘grover.py’\n",
            "\n",
            "grover.py           100%[===================>]   6.62K  --.-KB/s    in 0s      \n",
            "\n",
            "2024-12-07 19:13:31 (58.0 MB/s) - ‘grover.py’ saved [6778/6778]\n",
            "\n",
            "Requirement already satisfied: qiskit==0.43.3 in /usr/local/lib/python3.10/dist-packages (from qiskit[visualization]==0.43.3) (0.43.3)\n",
            "Requirement already satisfied: qiskit-terra==0.24.2 in /usr/local/lib/python3.10/dist-packages (from qiskit==0.43.3->qiskit[visualization]==0.43.3) (0.24.2)\n",
            "Requirement already satisfied: qiskit-aer==0.12.2 in /usr/local/lib/python3.10/dist-packages (from qiskit==0.43.3->qiskit[visualization]==0.43.3) (0.12.2)\n",
            "Requirement already satisfied: qiskit-ibmq-provider==0.20.2 in /usr/local/lib/python3.10/dist-packages (from qiskit==0.43.3->qiskit[visualization]==0.43.3) (0.20.2)\n",
            "Requirement already satisfied: matplotlib>=2.1 in /usr/local/lib/python3.10/dist-packages (from qiskit[visualization]==0.43.3) (3.8.0)\n",
            "Requirement already satisfied: ipywidgets>=7.3.0 in /usr/local/lib/python3.10/dist-packages (from qiskit[visualization]==0.43.3) (7.7.1)\n",
            "Requirement already satisfied: pydot in /usr/local/lib/python3.10/dist-packages (from qiskit[visualization]==0.43.3) (3.0.3)\n",
            "Requirement already satisfied: pillow>=4.2.1 in /usr/local/lib/python3.10/dist-packages (from qiskit[visualization]==0.43.3) (11.0.0)\n",
            "Requirement already satisfied: pylatexenc>=1.4 in /usr/local/lib/python3.10/dist-packages (from qiskit[visualization]==0.43.3) (2.10)\n",
            "Requirement already satisfied: seaborn>=0.9.0 in /usr/local/lib/python3.10/dist-packages (from qiskit[visualization]==0.43.3) (0.13.2)\n",
            "Requirement already satisfied: pygments>=2.4 in /usr/local/lib/python3.10/dist-packages (from qiskit[visualization]==0.43.3) (2.18.0)\n",
            "Requirement already satisfied: numpy>=1.16.3 in /usr/local/lib/python3.10/dist-packages (from qiskit-aer==0.12.2->qiskit==0.43.3->qiskit[visualization]==0.43.3) (1.23.5)\n",
            "Requirement already satisfied: scipy>=1.0 in /usr/local/lib/python3.10/dist-packages (from qiskit-aer==0.12.2->qiskit==0.43.3->qiskit[visualization]==0.43.3) (1.13.1)\n",
            "Requirement already satisfied: requests>=2.19 in /usr/local/lib/python3.10/dist-packages (from qiskit-ibmq-provider==0.20.2->qiskit==0.43.3->qiskit[visualization]==0.43.3) (2.32.3)\n",
            "Requirement already satisfied: requests-ntlm<=1.1.0 in /usr/local/lib/python3.10/dist-packages (from qiskit-ibmq-provider==0.20.2->qiskit==0.43.3->qiskit[visualization]==0.43.3) (1.1.0)\n",
            "Requirement already satisfied: urllib3>=1.21.1 in /usr/local/lib/python3.10/dist-packages (from qiskit-ibmq-provider==0.20.2->qiskit==0.43.3->qiskit[visualization]==0.43.3) (2.2.3)\n",
            "Requirement already satisfied: python-dateutil>=2.8.0 in /usr/local/lib/python3.10/dist-packages (from qiskit-ibmq-provider==0.20.2->qiskit==0.43.3->qiskit[visualization]==0.43.3) (2.8.2)\n",
            "Requirement already satisfied: websocket-client>=1.5.1 in /usr/local/lib/python3.10/dist-packages (from qiskit-ibmq-provider==0.20.2->qiskit==0.43.3->qiskit[visualization]==0.43.3) (1.8.0)\n",
            "Requirement already satisfied: websockets>=10.0 in /usr/local/lib/python3.10/dist-packages (from qiskit-ibmq-provider==0.20.2->qiskit==0.43.3->qiskit[visualization]==0.43.3) (14.1)\n",
            "Requirement already satisfied: rustworkx>=0.12.0 in /usr/local/lib/python3.10/dist-packages (from qiskit-terra==0.24.2->qiskit==0.43.3->qiskit[visualization]==0.43.3) (0.15.1)\n",
            "Requirement already satisfied: ply>=3.10 in /usr/local/lib/python3.10/dist-packages (from qiskit-terra==0.24.2->qiskit==0.43.3->qiskit[visualization]==0.43.3) (3.11)\n",
            "Requirement already satisfied: psutil>=5 in /usr/local/lib/python3.10/dist-packages (from qiskit-terra==0.24.2->qiskit==0.43.3->qiskit[visualization]==0.43.3) (5.9.5)\n",
            "Requirement already satisfied: sympy>=1.3 in /usr/local/lib/python3.10/dist-packages (from qiskit-terra==0.24.2->qiskit==0.43.3->qiskit[visualization]==0.43.3) (1.13.1)\n",
            "Requirement already satisfied: dill>=0.3 in /usr/local/lib/python3.10/dist-packages (from qiskit-terra==0.24.2->qiskit==0.43.3->qiskit[visualization]==0.43.3) (0.3.9)\n",
            "Requirement already satisfied: stevedore>=3.0.0 in /usr/local/lib/python3.10/dist-packages (from qiskit-terra==0.24.2->qiskit==0.43.3->qiskit[visualization]==0.43.3) (5.4.0)\n",
            "Requirement already satisfied: symengine<0.10,>=0.9 in /usr/local/lib/python3.10/dist-packages (from qiskit-terra==0.24.2->qiskit==0.43.3->qiskit[visualization]==0.43.3) (0.9.2)\n",
            "Requirement already satisfied: ipykernel>=4.5.1 in /usr/local/lib/python3.10/dist-packages (from ipywidgets>=7.3.0->qiskit[visualization]==0.43.3) (5.5.6)\n",
            "Requirement already satisfied: ipython-genutils~=0.2.0 in /usr/local/lib/python3.10/dist-packages (from ipywidgets>=7.3.0->qiskit[visualization]==0.43.3) (0.2.0)\n",
            "Requirement already satisfied: traitlets>=4.3.1 in /usr/local/lib/python3.10/dist-packages (from ipywidgets>=7.3.0->qiskit[visualization]==0.43.3) (5.7.1)\n",
            "Requirement already satisfied: widgetsnbextension~=3.6.0 in /usr/local/lib/python3.10/dist-packages (from ipywidgets>=7.3.0->qiskit[visualization]==0.43.3) (3.6.10)\n",
            "Requirement already satisfied: ipython>=4.0.0 in /usr/local/lib/python3.10/dist-packages (from ipywidgets>=7.3.0->qiskit[visualization]==0.43.3) (7.34.0)\n",
            "Requirement already satisfied: jupyterlab-widgets>=1.0.0 in /usr/local/lib/python3.10/dist-packages (from ipywidgets>=7.3.0->qiskit[visualization]==0.43.3) (3.0.13)\n",
            "Requirement already satisfied: contourpy>=1.0.1 in /usr/local/lib/python3.10/dist-packages (from matplotlib>=2.1->qiskit[visualization]==0.43.3) (1.3.1)\n",
            "Requirement already satisfied: cycler>=0.10 in /usr/local/lib/python3.10/dist-packages (from matplotlib>=2.1->qiskit[visualization]==0.43.3) (0.12.1)\n",
            "Requirement already satisfied: fonttools>=4.22.0 in /usr/local/lib/python3.10/dist-packages (from matplotlib>=2.1->qiskit[visualization]==0.43.3) (4.55.1)\n",
            "Requirement already satisfied: kiwisolver>=1.0.1 in /usr/local/lib/python3.10/dist-packages (from matplotlib>=2.1->qiskit[visualization]==0.43.3) (1.4.7)\n",
            "Requirement already satisfied: packaging>=20.0 in /usr/local/lib/python3.10/dist-packages (from matplotlib>=2.1->qiskit[visualization]==0.43.3) (24.2)\n",
            "Requirement already satisfied: pyparsing>=2.3.1 in /usr/local/lib/python3.10/dist-packages (from matplotlib>=2.1->qiskit[visualization]==0.43.3) (3.2.0)\n",
            "Requirement already satisfied: pandas>=1.2 in /usr/local/lib/python3.10/dist-packages (from seaborn>=0.9.0->qiskit[visualization]==0.43.3) (2.2.2)\n",
            "Requirement already satisfied: jupyter-client in /usr/local/lib/python3.10/dist-packages (from ipykernel>=4.5.1->ipywidgets>=7.3.0->qiskit[visualization]==0.43.3) (6.1.12)\n",
            "Requirement already satisfied: tornado>=4.2 in /usr/local/lib/python3.10/dist-packages (from ipykernel>=4.5.1->ipywidgets>=7.3.0->qiskit[visualization]==0.43.3) (6.3.3)\n",
            "Requirement already satisfied: setuptools>=18.5 in /usr/local/lib/python3.10/dist-packages (from ipython>=4.0.0->ipywidgets>=7.3.0->qiskit[visualization]==0.43.3) (75.1.0)\n",
            "Requirement already satisfied: jedi>=0.16 in /usr/local/lib/python3.10/dist-packages (from ipython>=4.0.0->ipywidgets>=7.3.0->qiskit[visualization]==0.43.3) (0.19.2)\n",
            "Requirement already satisfied: decorator in /usr/local/lib/python3.10/dist-packages (from ipython>=4.0.0->ipywidgets>=7.3.0->qiskit[visualization]==0.43.3) (4.4.2)\n",
            "Requirement already satisfied: pickleshare in /usr/local/lib/python3.10/dist-packages (from ipython>=4.0.0->ipywidgets>=7.3.0->qiskit[visualization]==0.43.3) (0.7.5)\n",
            "Requirement already satisfied: prompt-toolkit!=3.0.0,!=3.0.1,<3.1.0,>=2.0.0 in /usr/local/lib/python3.10/dist-packages (from ipython>=4.0.0->ipywidgets>=7.3.0->qiskit[visualization]==0.43.3) (3.0.48)\n",
            "Requirement already satisfied: backcall in /usr/local/lib/python3.10/dist-packages (from ipython>=4.0.0->ipywidgets>=7.3.0->qiskit[visualization]==0.43.3) (0.2.0)\n",
            "Requirement already satisfied: matplotlib-inline in /usr/local/lib/python3.10/dist-packages (from ipython>=4.0.0->ipywidgets>=7.3.0->qiskit[visualization]==0.43.3) (0.1.7)\n",
            "Requirement already satisfied: pexpect>4.3 in /usr/local/lib/python3.10/dist-packages (from ipython>=4.0.0->ipywidgets>=7.3.0->qiskit[visualization]==0.43.3) (4.9.0)\n",
            "Requirement already satisfied: pytz>=2020.1 in /usr/local/lib/python3.10/dist-packages (from pandas>=1.2->seaborn>=0.9.0->qiskit[visualization]==0.43.3) (2024.2)\n",
            "Requirement already satisfied: tzdata>=2022.7 in /usr/local/lib/python3.10/dist-packages (from pandas>=1.2->seaborn>=0.9.0->qiskit[visualization]==0.43.3) (2024.2)\n",
            "Requirement already satisfied: six>=1.5 in /usr/local/lib/python3.10/dist-packages (from python-dateutil>=2.8.0->qiskit-ibmq-provider==0.20.2->qiskit==0.43.3->qiskit[visualization]==0.43.3) (1.16.0)\n",
            "Requirement already satisfied: charset-normalizer<4,>=2 in /usr/local/lib/python3.10/dist-packages (from requests>=2.19->qiskit-ibmq-provider==0.20.2->qiskit==0.43.3->qiskit[visualization]==0.43.3) (3.4.0)\n",
            "Requirement already satisfied: idna<4,>=2.5 in /usr/local/lib/python3.10/dist-packages (from requests>=2.19->qiskit-ibmq-provider==0.20.2->qiskit==0.43.3->qiskit[visualization]==0.43.3) (3.10)\n",
            "Requirement already satisfied: certifi>=2017.4.17 in /usr/local/lib/python3.10/dist-packages (from requests>=2.19->qiskit-ibmq-provider==0.20.2->qiskit==0.43.3->qiskit[visualization]==0.43.3) (2024.8.30)\n",
            "Requirement already satisfied: ntlm-auth>=1.0.2 in /usr/local/lib/python3.10/dist-packages (from requests-ntlm<=1.1.0->qiskit-ibmq-provider==0.20.2->qiskit==0.43.3->qiskit[visualization]==0.43.3) (1.5.0)\n",
            "Requirement already satisfied: cryptography>=1.3 in /usr/local/lib/python3.10/dist-packages (from requests-ntlm<=1.1.0->qiskit-ibmq-provider==0.20.2->qiskit==0.43.3->qiskit[visualization]==0.43.3) (43.0.3)\n",
            "Requirement already satisfied: pbr>=2.0.0 in /usr/local/lib/python3.10/dist-packages (from stevedore>=3.0.0->qiskit-terra==0.24.2->qiskit==0.43.3->qiskit[visualization]==0.43.3) (6.1.0)\n",
            "Requirement already satisfied: mpmath<1.4,>=1.1.0 in /usr/local/lib/python3.10/dist-packages (from sympy>=1.3->qiskit-terra==0.24.2->qiskit==0.43.3->qiskit[visualization]==0.43.3) (1.3.0)\n",
            "Requirement already satisfied: notebook>=4.4.1 in /usr/local/lib/python3.10/dist-packages (from widgetsnbextension~=3.6.0->ipywidgets>=7.3.0->qiskit[visualization]==0.43.3) (6.5.5)\n",
            "Requirement already satisfied: cffi>=1.12 in /usr/local/lib/python3.10/dist-packages (from cryptography>=1.3->requests-ntlm<=1.1.0->qiskit-ibmq-provider==0.20.2->qiskit==0.43.3->qiskit[visualization]==0.43.3) (1.17.1)\n",
            "Requirement already satisfied: parso<0.9.0,>=0.8.4 in /usr/local/lib/python3.10/dist-packages (from jedi>=0.16->ipython>=4.0.0->ipywidgets>=7.3.0->qiskit[visualization]==0.43.3) (0.8.4)\n",
            "Requirement already satisfied: jinja2 in /usr/local/lib/python3.10/dist-packages (from notebook>=4.4.1->widgetsnbextension~=3.6.0->ipywidgets>=7.3.0->qiskit[visualization]==0.43.3) (3.1.4)\n",
            "Requirement already satisfied: pyzmq<25,>=17 in /usr/local/lib/python3.10/dist-packages (from notebook>=4.4.1->widgetsnbextension~=3.6.0->ipywidgets>=7.3.0->qiskit[visualization]==0.43.3) (24.0.1)\n",
            "Requirement already satisfied: argon2-cffi in /usr/local/lib/python3.10/dist-packages (from notebook>=4.4.1->widgetsnbextension~=3.6.0->ipywidgets>=7.3.0->qiskit[visualization]==0.43.3) (23.1.0)\n",
            "Requirement already satisfied: jupyter-core>=4.6.1 in /usr/local/lib/python3.10/dist-packages (from notebook>=4.4.1->widgetsnbextension~=3.6.0->ipywidgets>=7.3.0->qiskit[visualization]==0.43.3) (5.7.2)\n",
            "Requirement already satisfied: nbformat in /usr/local/lib/python3.10/dist-packages (from notebook>=4.4.1->widgetsnbextension~=3.6.0->ipywidgets>=7.3.0->qiskit[visualization]==0.43.3) (5.10.4)\n",
            "Requirement already satisfied: nbconvert>=5 in /usr/local/lib/python3.10/dist-packages (from notebook>=4.4.1->widgetsnbextension~=3.6.0->ipywidgets>=7.3.0->qiskit[visualization]==0.43.3) (7.16.4)\n",
            "Requirement already satisfied: nest-asyncio>=1.5 in /usr/local/lib/python3.10/dist-packages (from notebook>=4.4.1->widgetsnbextension~=3.6.0->ipywidgets>=7.3.0->qiskit[visualization]==0.43.3) (1.6.0)\n",
            "Requirement already satisfied: Send2Trash>=1.8.0 in /usr/local/lib/python3.10/dist-packages (from notebook>=4.4.1->widgetsnbextension~=3.6.0->ipywidgets>=7.3.0->qiskit[visualization]==0.43.3) (1.8.3)\n",
            "Requirement already satisfied: terminado>=0.8.3 in /usr/local/lib/python3.10/dist-packages (from notebook>=4.4.1->widgetsnbextension~=3.6.0->ipywidgets>=7.3.0->qiskit[visualization]==0.43.3) (0.18.1)\n",
            "Requirement already satisfied: prometheus-client in /usr/local/lib/python3.10/dist-packages (from notebook>=4.4.1->widgetsnbextension~=3.6.0->ipywidgets>=7.3.0->qiskit[visualization]==0.43.3) (0.21.1)\n",
            "Requirement already satisfied: nbclassic>=0.4.7 in /usr/local/lib/python3.10/dist-packages (from notebook>=4.4.1->widgetsnbextension~=3.6.0->ipywidgets>=7.3.0->qiskit[visualization]==0.43.3) (1.1.0)\n",
            "Requirement already satisfied: ptyprocess>=0.5 in /usr/local/lib/python3.10/dist-packages (from pexpect>4.3->ipython>=4.0.0->ipywidgets>=7.3.0->qiskit[visualization]==0.43.3) (0.7.0)\n",
            "Requirement already satisfied: wcwidth in /usr/local/lib/python3.10/dist-packages (from prompt-toolkit!=3.0.0,!=3.0.1,<3.1.0,>=2.0.0->ipython>=4.0.0->ipywidgets>=7.3.0->qiskit[visualization]==0.43.3) (0.2.13)\n",
            "Requirement already satisfied: pycparser in /usr/local/lib/python3.10/dist-packages (from cffi>=1.12->cryptography>=1.3->requests-ntlm<=1.1.0->qiskit-ibmq-provider==0.20.2->qiskit==0.43.3->qiskit[visualization]==0.43.3) (2.22)\n",
            "Requirement already satisfied: platformdirs>=2.5 in /usr/local/lib/python3.10/dist-packages (from jupyter-core>=4.6.1->notebook>=4.4.1->widgetsnbextension~=3.6.0->ipywidgets>=7.3.0->qiskit[visualization]==0.43.3) (4.3.6)\n",
            "Requirement already satisfied: notebook-shim>=0.2.3 in /usr/local/lib/python3.10/dist-packages (from nbclassic>=0.4.7->notebook>=4.4.1->widgetsnbextension~=3.6.0->ipywidgets>=7.3.0->qiskit[visualization]==0.43.3) (0.2.4)\n",
            "Requirement already satisfied: beautifulsoup4 in /usr/local/lib/python3.10/dist-packages (from nbconvert>=5->notebook>=4.4.1->widgetsnbextension~=3.6.0->ipywidgets>=7.3.0->qiskit[visualization]==0.43.3) (4.12.3)\n",
            "Requirement already satisfied: bleach!=5.0.0 in /usr/local/lib/python3.10/dist-packages (from nbconvert>=5->notebook>=4.4.1->widgetsnbextension~=3.6.0->ipywidgets>=7.3.0->qiskit[visualization]==0.43.3) (6.2.0)\n",
            "Requirement already satisfied: defusedxml in /usr/local/lib/python3.10/dist-packages (from nbconvert>=5->notebook>=4.4.1->widgetsnbextension~=3.6.0->ipywidgets>=7.3.0->qiskit[visualization]==0.43.3) (0.7.1)\n",
            "Requirement already satisfied: jupyterlab-pygments in /usr/local/lib/python3.10/dist-packages (from nbconvert>=5->notebook>=4.4.1->widgetsnbextension~=3.6.0->ipywidgets>=7.3.0->qiskit[visualization]==0.43.3) (0.3.0)\n",
            "Requirement already satisfied: markupsafe>=2.0 in /usr/local/lib/python3.10/dist-packages (from nbconvert>=5->notebook>=4.4.1->widgetsnbextension~=3.6.0->ipywidgets>=7.3.0->qiskit[visualization]==0.43.3) (3.0.2)\n",
            "Requirement already satisfied: mistune<4,>=2.0.3 in /usr/local/lib/python3.10/dist-packages (from nbconvert>=5->notebook>=4.4.1->widgetsnbextension~=3.6.0->ipywidgets>=7.3.0->qiskit[visualization]==0.43.3) (3.0.2)\n",
            "Requirement already satisfied: nbclient>=0.5.0 in /usr/local/lib/python3.10/dist-packages (from nbconvert>=5->notebook>=4.4.1->widgetsnbextension~=3.6.0->ipywidgets>=7.3.0->qiskit[visualization]==0.43.3) (0.10.1)\n",
            "Requirement already satisfied: pandocfilters>=1.4.1 in /usr/local/lib/python3.10/dist-packages (from nbconvert>=5->notebook>=4.4.1->widgetsnbextension~=3.6.0->ipywidgets>=7.3.0->qiskit[visualization]==0.43.3) (1.5.1)\n",
            "Requirement already satisfied: tinycss2 in /usr/local/lib/python3.10/dist-packages (from nbconvert>=5->notebook>=4.4.1->widgetsnbextension~=3.6.0->ipywidgets>=7.3.0->qiskit[visualization]==0.43.3) (1.4.0)\n",
            "Requirement already satisfied: fastjsonschema>=2.15 in /usr/local/lib/python3.10/dist-packages (from nbformat->notebook>=4.4.1->widgetsnbextension~=3.6.0->ipywidgets>=7.3.0->qiskit[visualization]==0.43.3) (2.21.1)\n",
            "Requirement already satisfied: jsonschema>=2.6 in /usr/local/lib/python3.10/dist-packages (from nbformat->notebook>=4.4.1->widgetsnbextension~=3.6.0->ipywidgets>=7.3.0->qiskit[visualization]==0.43.3) (4.23.0)\n",
            "Requirement already satisfied: argon2-cffi-bindings in /usr/local/lib/python3.10/dist-packages (from argon2-cffi->notebook>=4.4.1->widgetsnbextension~=3.6.0->ipywidgets>=7.3.0->qiskit[visualization]==0.43.3) (21.2.0)\n",
            "Requirement already satisfied: webencodings in /usr/local/lib/python3.10/dist-packages (from bleach!=5.0.0->nbconvert>=5->notebook>=4.4.1->widgetsnbextension~=3.6.0->ipywidgets>=7.3.0->qiskit[visualization]==0.43.3) (0.5.1)\n",
            "Requirement already satisfied: attrs>=22.2.0 in /usr/local/lib/python3.10/dist-packages (from jsonschema>=2.6->nbformat->notebook>=4.4.1->widgetsnbextension~=3.6.0->ipywidgets>=7.3.0->qiskit[visualization]==0.43.3) (24.2.0)\n",
            "Requirement already satisfied: jsonschema-specifications>=2023.03.6 in /usr/local/lib/python3.10/dist-packages (from jsonschema>=2.6->nbformat->notebook>=4.4.1->widgetsnbextension~=3.6.0->ipywidgets>=7.3.0->qiskit[visualization]==0.43.3) (2024.10.1)\n",
            "Requirement already satisfied: referencing>=0.28.4 in /usr/local/lib/python3.10/dist-packages (from jsonschema>=2.6->nbformat->notebook>=4.4.1->widgetsnbextension~=3.6.0->ipywidgets>=7.3.0->qiskit[visualization]==0.43.3) (0.35.1)\n",
            "Requirement already satisfied: rpds-py>=0.7.1 in /usr/local/lib/python3.10/dist-packages (from jsonschema>=2.6->nbformat->notebook>=4.4.1->widgetsnbextension~=3.6.0->ipywidgets>=7.3.0->qiskit[visualization]==0.43.3) (0.22.3)\n",
            "Requirement already satisfied: jupyter-server<3,>=1.8 in /usr/local/lib/python3.10/dist-packages (from notebook-shim>=0.2.3->nbclassic>=0.4.7->notebook>=4.4.1->widgetsnbextension~=3.6.0->ipywidgets>=7.3.0->qiskit[visualization]==0.43.3) (1.24.0)\n",
            "Requirement already satisfied: soupsieve>1.2 in /usr/local/lib/python3.10/dist-packages (from beautifulsoup4->nbconvert>=5->notebook>=4.4.1->widgetsnbextension~=3.6.0->ipywidgets>=7.3.0->qiskit[visualization]==0.43.3) (2.6)\n",
            "Requirement already satisfied: anyio<4,>=3.1.0 in /usr/local/lib/python3.10/dist-packages (from jupyter-server<3,>=1.8->notebook-shim>=0.2.3->nbclassic>=0.4.7->notebook>=4.4.1->widgetsnbextension~=3.6.0->ipywidgets>=7.3.0->qiskit[visualization]==0.43.3) (3.7.1)\n",
            "Requirement already satisfied: sniffio>=1.1 in /usr/local/lib/python3.10/dist-packages (from anyio<4,>=3.1.0->jupyter-server<3,>=1.8->notebook-shim>=0.2.3->nbclassic>=0.4.7->notebook>=4.4.1->widgetsnbextension~=3.6.0->ipywidgets>=7.3.0->qiskit[visualization]==0.43.3) (1.3.1)\n",
            "Requirement already satisfied: exceptiongroup in /usr/local/lib/python3.10/dist-packages (from anyio<4,>=3.1.0->jupyter-server<3,>=1.8->notebook-shim>=0.2.3->nbclassic>=0.4.7->notebook>=4.4.1->widgetsnbextension~=3.6.0->ipywidgets>=7.3.0->qiskit[visualization]==0.43.3) (1.2.2)\n",
            "Requirement already satisfied: qiskit-aer in /usr/local/lib/python3.10/dist-packages (0.12.2)\n",
            "Requirement already satisfied: qiskit-terra>=0.21.0 in /usr/local/lib/python3.10/dist-packages (from qiskit-aer) (0.24.2)\n",
            "Requirement already satisfied: numpy>=1.16.3 in /usr/local/lib/python3.10/dist-packages (from qiskit-aer) (1.23.5)\n",
            "Requirement already satisfied: scipy>=1.0 in /usr/local/lib/python3.10/dist-packages (from qiskit-aer) (1.13.1)\n",
            "Requirement already satisfied: rustworkx>=0.12.0 in /usr/local/lib/python3.10/dist-packages (from qiskit-terra>=0.21.0->qiskit-aer) (0.15.1)\n",
            "Requirement already satisfied: ply>=3.10 in /usr/local/lib/python3.10/dist-packages (from qiskit-terra>=0.21.0->qiskit-aer) (3.11)\n",
            "Requirement already satisfied: psutil>=5 in /usr/local/lib/python3.10/dist-packages (from qiskit-terra>=0.21.0->qiskit-aer) (5.9.5)\n",
            "Requirement already satisfied: sympy>=1.3 in /usr/local/lib/python3.10/dist-packages (from qiskit-terra>=0.21.0->qiskit-aer) (1.13.1)\n",
            "Requirement already satisfied: dill>=0.3 in /usr/local/lib/python3.10/dist-packages (from qiskit-terra>=0.21.0->qiskit-aer) (0.3.9)\n",
            "Requirement already satisfied: python-dateutil>=2.8.0 in /usr/local/lib/python3.10/dist-packages (from qiskit-terra>=0.21.0->qiskit-aer) (2.8.2)\n",
            "Requirement already satisfied: stevedore>=3.0.0 in /usr/local/lib/python3.10/dist-packages (from qiskit-terra>=0.21.0->qiskit-aer) (5.4.0)\n",
            "Requirement already satisfied: symengine<0.10,>=0.9 in /usr/local/lib/python3.10/dist-packages (from qiskit-terra>=0.21.0->qiskit-aer) (0.9.2)\n",
            "Requirement already satisfied: six>=1.5 in /usr/local/lib/python3.10/dist-packages (from python-dateutil>=2.8.0->qiskit-terra>=0.21.0->qiskit-aer) (1.16.0)\n",
            "Requirement already satisfied: pbr>=2.0.0 in /usr/local/lib/python3.10/dist-packages (from stevedore>=3.0.0->qiskit-terra>=0.21.0->qiskit-aer) (6.1.0)\n",
            "Requirement already satisfied: mpmath<1.4,>=1.1.0 in /usr/local/lib/python3.10/dist-packages (from sympy>=1.3->qiskit-terra>=0.21.0->qiskit-aer) (1.3.0)\n"
          ]
        }
      ],
      "source": [
        "import IPython\n",
        "\n",
        "def in_colab():\n",
        "    try:\n",
        "        import google.colab\n",
        "        return True\n",
        "    except:\n",
        "        return False\n",
        "\n",
        "path_files = \"./\" if in_colab() else \"../qworld/include/\"\n",
        "\n",
        "SolutionToTask2 = lambda: IPython.display.display(IPython.display.Javascript('window.open(\"{url}\");'.format(url='https://colab.research.google.com/drive/1Cxxj2YzrJgYF4fWnaK8gofKi7JUvUu0g#scrollTo=e_z1TJLtaS7H' if in_colab() else 'Grovers_Search_Implementation_Solutions.ipynb#task2')))\n",
        "SolutionToTask3 = lambda: IPython.display.display(IPython.display.Javascript('window.open(\"{url}\");'.format(url='https://colab.research.google.com/drive/1Cxxj2YzrJgYF4fWnaK8gofKi7JUvUu0g#scrollTo=pxtiw8DdaS7H' if in_colab() else 'Grovers_Search_Implementation_Solutions.ipynb#task3')))\n",
        "SolutionToTask4 = lambda: IPython.display.display(IPython.display.Javascript('window.open(\"{url}\");'.format(url='https://colab.research.google.com/drive/1Cxxj2YzrJgYF4fWnaK8gofKi7JUvUu0g#scrollTo=dL4FfzKiaS7H' if in_colab() else 'Grovers_Search_Implementation_Solutions.ipynb#task4')))\n",
        "SolutionToTask5 = lambda: IPython.display.display(IPython.display.Javascript('window.open(\"{url}\");'.format(url='https://colab.research.google.com/drive/1Cxxj2YzrJgYF4fWnaK8gofKi7JUvUu0g#scrollTo=h7L9Px7BaS7I' if in_colab() else 'Grovers_Search_Implementation_Solutions.ipynb#task5')))\n",
        "SolutionToTask6 = lambda: IPython.display.display(IPython.display.Javascript('window.open(\"{url}\");'.format(url='https://colab.research.google.com/drive/1Cxxj2YzrJgYF4fWnaK8gofKi7JUvUu0g#scrollTo=sFoDkTRtaS7I' if in_colab() else 'Grovers_Search_Implementation_Solutions.ipynb#task6')))\n",
        "SolutionToTask8 = lambda: IPython.display.display(IPython.display.Javascript('window.open(\"{url}\");'.format(url='https://colab.research.google.com/drive/1Cxxj2YzrJgYF4fWnaK8gofKi7JUvUu0g#scrollTo=vMEu35p9aS7I' if in_colab() else 'Grovers_Search_Implementation_Solutions.ipynb#task8')))\n",
        "\n",
        "if in_colab():\n",
        "    url = \"https://gitlab.com/qworld/qeducation/qbook101/raw/main/qworld/include/quantum.py\"\n",
        "    !wget --no-cache -O quantum.py {url}\n",
        "\n",
        "    url = \"https://gitlab.com/qworld/qeducation/qbook101/raw/main/qworld/include/drawing.py\"\n",
        "    !wget --no-cache -O drawing.py {url}\n",
        "\n",
        "    url = \"https://gitlab.com/qworld/qeducation/qbook101/raw/main/qworld/include/quantum_state.py\"\n",
        "    !wget --no-cache -O quantum_state.py {url}\n",
        "\n",
        "    url = \"https://gitlab.com/qworld/qeducation/qbook101/raw/main/qworld/include/grover.py\"\n",
        "    !wget --no-cache -O grover.py {url}\n",
        "\n",
        "    !pip install qiskit[visualization]==0.43.3\n",
        "    !pip install qiskit-aer"
      ]
    },
    {
      "cell_type": "markdown",
      "metadata": {
        "id": "9l_8QPb3eJB_"
      },
      "source": [
        "#<h3>Task 1 (Discussion)</h3>\n"
      ]
    },
    {
      "cell_type": "markdown",
      "metadata": {
        "id": "JwiWXKXHeJB_"
      },
      "source": [
        "Consider the following function $f:\\{0,1\\}^2 \\rightarrow \\{0,1\\}$. Which element is marked? How many queries should you make to $f$ to find out the marked element in the worst case?\n",
        "$$\n",
        "f: \\begin{array}{c|c} \\mathbf{In} & \\mathbf{Out} \\\\ \\hline  \\ket{00} & 0 \\\\ \\ket{01} & 0 \\\\ \\ket{10} & 0 \\\\ \\ket{11} & 1      \\end{array}\n",
        "$$\n"
      ]
    },
    {
      "cell_type": "markdown",
      "metadata": {
        "id": "TzSrZ97zeJB_"
      },
      "source": [
        "<h3>Task 2</h3>\n"
      ]
    },
    {
      "cell_type": "markdown",
      "metadata": {
        "id": "7KEcftXMeJB_"
      },
      "source": [
        "Let $N=4$. Implement the query phase and check the unitary matrix for the query operator. Note that we are interested in the top-left $4 \\times 4$ part of the matrix since the remaining parts are due to the ancilla qubit."
      ]
    },
    {
      "cell_type": "markdown",
      "metadata": {
        "id": "sSWfDlipeJB_"
      },
      "source": [
        "You are given a function $f$ and its corresponding quantum operator $U_f$. First run the following cell to load operator $U_f$. Then you can make queries to $f$ by applying the operator $U_f$ via the following command:\n",
        "\n",
        "<pre>Uf(circuit,qreg)."
      ]
    },
    {
      "cell_type": "code",
      "execution_count": null,
      "metadata": {
        "id": "oX5gmYZQeJB_"
      },
      "outputs": [],
      "source": [
        "quantum_file = path_files+\"quantum.py\"\n",
        "%run $quantum_file"
      ]
    },
    {
      "cell_type": "markdown",
      "metadata": {
        "id": "iL1MHb8LeJB_"
      },
      "source": [
        "Now use phase kickback to flip the sign of the marked element:\n",
        "\n",
        "- Set output qubit (qreg[2]) to $\\ket{-}$ by applying X and H.\n",
        "- Apply operator $U_f$\n",
        "- Set output qubit (qreg[2]) back.\n",
        "\n",
        "(Can you guess the marked element by looking at the unitary matrix?)"
      ]
    },
    {
      "cell_type": "code",
      "execution_count": null,
      "metadata": {
        "id": "DUAso5GeeJB_"
      },
      "outputs": [],
      "source": [
        "from qiskit import QuantumRegister, ClassicalRegister, QuantumCircuit, execute, Aer\n",
        "\n",
        "qreg = QuantumRegister(3)\n",
        "#No need to define classical register as we are not measuring\n",
        "\n",
        "mycircuit = QuantumCircuit(qreg)\n",
        "\n",
        "\n",
        "#\n",
        "#Your code here\n",
        "#\n",
        "\n",
        "\n",
        "job = execute(mycircuit,Aer.get_backend('unitary_simulator'))\n",
        "u=job.result().get_unitary(mycircuit,decimals=3).data\n",
        "\n",
        "#We are interested in the top-left 4x4 part\n",
        "for i in range(4):\n",
        "    s=\"\"\n",
        "    for j in range(4):\n",
        "        val = str(u[i][j].real)\n",
        "        while(len(val)<5): val  = \" \"+val\n",
        "        s = s + val\n",
        "    print(s)\n",
        "\n",
        "\n",
        "mycircuit.draw(output='mpl')"
      ]
    },
    {
      "cell_type": "markdown",
      "metadata": {
        "id": "160VWB5leJB_"
      },
      "source": [
        "To check out our solution, run the next cell:"
      ]
    },
    {
      "cell_type": "code",
      "execution_count": null,
      "metadata": {
        "id": "rSIh_m2neJB_",
        "colab": {
          "base_uri": "https://localhost:8080/",
          "height": 17
        },
        "outputId": "209ec5a0-b178-4385-af17-b70ebad41279"
      },
      "outputs": [
        {
          "output_type": "display_data",
          "data": {
            "text/plain": [
              "<IPython.core.display.Javascript object>"
            ],
            "application/javascript": [
              "window.open(\"https://colab.research.google.com/drive/1Cxxj2YzrJgYF4fWnaK8gofKi7JUvUu0g#scrollTo=e_z1TJLtaS7H\");"
            ]
          },
          "metadata": {}
        }
      ],
      "source": [
        "SolutionToTask2()  # show solution for task 2"
      ]
    },
    {
      "cell_type": "markdown",
      "metadata": {
        "id": "kWpn0k1EeJCA"
      },
      "source": [
        "<h3>Task 3</h3>\n",
        "\n",
        "Let $N=4$. Implement the inversion operator and check whether you obtain the following matrix:\n",
        "\n",
        "$\\mymatrix{cccc}{-0.5 & 0.5 & 0.5 & 0.5 \\\\ 0.5 & -0.5 & 0.5 & 0.5 \\\\ 0.5 & 0.5 & -0.5 & 0.5 \\\\ 0.5 & 0.5 & 0.5 & -0.5}$."
      ]
    },
    {
      "cell_type": "code",
      "execution_count": null,
      "metadata": {
        "id": "ZDJ0o4QueJCA"
      },
      "outputs": [],
      "source": [
        "def inversion(circuit,quantum_reg):\n",
        "\n",
        "#don't implement the first and last steps in which ancilla qubit is set\n",
        "\n",
        "\n",
        "#\n",
        "# your code is here\n",
        "#"
      ]
    },
    {
      "cell_type": "markdown",
      "metadata": {
        "id": "pP6l0sbYeJCA"
      },
      "source": [
        "Below you can check the matrix of your inversion operator and how the circuit looks like. We are interested in the top-left $4 \\times 4$ part of the matrix, the remaining parts are because we used ancilla qubit."
      ]
    },
    {
      "cell_type": "code",
      "execution_count": null,
      "metadata": {
        "id": "9ThG-qSYeJCA"
      },
      "outputs": [],
      "source": [
        "from qiskit import QuantumRegister, ClassicalRegister, QuantumCircuit, execute, Aer\n",
        "\n",
        "qreg1 =  QuantumRegister(3)\n",
        "\n",
        "mycircuit1 = QuantumCircuit(qreg1)\n",
        "\n",
        "#set ancilla qubit\n",
        "mycircuit1.x(qreg1[2])\n",
        "mycircuit1.h(qreg1[2])\n",
        "\n",
        "inversion(mycircuit1,qreg1)\n",
        "\n",
        "#set ancilla qubit back\n",
        "mycircuit1.h(qreg1[2])\n",
        "mycircuit1.x(qreg1[2])\n",
        "\n",
        "\n",
        "job = execute(mycircuit1,Aer.get_backend('unitary_simulator'))\n",
        "u=job.result().get_unitary(mycircuit1,decimals=3).data\n",
        "for i in range(4):\n",
        "    s=\"\"\n",
        "    for j in range(4):\n",
        "        val = str(u[i][j].real)\n",
        "        while(len(val)<5): val  = \" \"+val\n",
        "        s = s + val\n",
        "    print(s)\n",
        "\n",
        "mycircuit1.draw(output='mpl')"
      ]
    },
    {
      "cell_type": "markdown",
      "metadata": {
        "id": "X6EWGit1eJCA"
      },
      "source": [
        "To check out our solution, run the next cell:"
      ]
    },
    {
      "cell_type": "code",
      "execution_count": null,
      "metadata": {
        "id": "VFfC_vu7eJCA"
      },
      "outputs": [],
      "source": [
        "SolutionToTask3()  # show solution for task 3"
      ]
    },
    {
      "cell_type": "markdown",
      "metadata": {
        "id": "rK7v_MNieJCA"
      },
      "source": [
        "<h3>Task 4: Testing Grover's search</h3>\n",
        "\n",
        "Now we are ready to test our operations and run Grover's search. Suppose that there are 4 elements in the list and try to find the marked element.\n",
        "\n",
        "You are given the operator $U_f$. First run the following cell to load it. You can access it via <pre>Uf(circuit,qreg).</pre>\n",
        "qreg[2] is the ancilla qubit and it is shared by the query and the inversion operators.\n",
        "    \n",
        "Which state do you observe the most?"
      ]
    },
    {
      "cell_type": "code",
      "execution_count": null,
      "metadata": {
        "id": "NKkEkYm7eJCA"
      },
      "outputs": [],
      "source": [
        "quantum_file = path_files+\"quantum.py\"\n",
        "%run $quantum_file"
      ]
    },
    {
      "cell_type": "code",
      "execution_count": null,
      "metadata": {
        "id": "o5WXoOm6eJCB"
      },
      "outputs": [],
      "source": [
        "from qiskit import QuantumRegister, ClassicalRegister, QuantumCircuit, execute, Aer\n",
        "\n",
        "qreg = QuantumRegister(3)\n",
        "creg = ClassicalRegister(2)\n",
        "\n",
        "mycircuit = QuantumCircuit(qreg,creg)\n",
        "\n",
        "#Grover\n",
        "\n",
        "\n",
        "#initial step - equal superposition\n",
        "#\n",
        "#your code here\n",
        "#\n",
        "\n",
        "#set ancilla\n",
        "#\n",
        "#your code here\n",
        "#\n",
        "\n",
        "\n",
        "\n",
        "#change the number of iterations\n",
        "iterations=1\n",
        "\n",
        "#Grover's iterations.\n",
        "#\n",
        "#Query operator\n",
        "#\n",
        "#Inversion operator\n",
        "#\n",
        "\n",
        "#set ancilla\n",
        "#\n",
        "#your code here\n",
        "#\n",
        "\n",
        "mycircuit.measure(qreg[0],creg[0])\n",
        "mycircuit.measure(qreg[1],creg[1])\n",
        "\n",
        "job = execute(mycircuit,Aer.get_backend('qasm_simulator'),shots=10000)\n",
        "counts = job.result().get_counts(mycircuit)\n",
        "\n",
        "# print the outcome\n",
        "for outcome in counts:\n",
        "    print(outcome,\"is observed\",counts[outcome],\"times\")\n",
        "\n",
        "mycircuit.draw(output='mpl')"
      ]
    },
    {
      "cell_type": "markdown",
      "metadata": {
        "id": "6CgEKdijeJCB"
      },
      "source": [
        "To check out our solution, run the next cell:"
      ]
    },
    {
      "cell_type": "code",
      "execution_count": null,
      "metadata": {
        "id": "19Ut22I3eJCB"
      },
      "outputs": [],
      "source": [
        "SolutionToTask4()  # show solution for task 4"
      ]
    },
    {
      "cell_type": "markdown",
      "metadata": {
        "id": "nkMc9bM3eJCB"
      },
      "source": [
        "<h3>Task 5 (Optional, challenging)</h3>\n",
        "\n",
        "Implement the inversion operation for $n=3$ ($N=8$). This time you will need 5 qubits - 3 for the operation, 1 for ancilla, and one more qubit to implement not gate controlled by three qubits.\n",
        "\n",
        "In the implementation the ancilla qubit will be qubit 3, while qubits for control are 0, 1 and 2; qubit 4 is used for the multiple control operation. As a result you should obtain the following values in the top-left $8 \\times 8$ entries:\n",
        "\n",
        "$\\mymatrix{cccccccc}{-0.75 & 0.25 & 0.25 & 0.25 & 0.25 & 0.25 & 0.25 & 0.25 \\\\ 0.25 & -0.75 & 0.25 & 0.25 & 0.25 & 0.25 & 0.25 & 0.25 \\\\ 0.25 & 0.25 & -0.75 & 0.25 & 0.25 & 0.25 & 0.25 & 0.25 \\\\ 0.25 & 0.25 & 0.25 & -0.75 & 0.25 & 0.25 & 0.25 & 0.25 \\\\ 0.25 & 0.25 & 0.25 & 0.25 & -0.75 & 0.25 & 0.25 & 0.25 \\\\ 0.25 & 0.25 & 0.25 & 0.25 & 0.25 & -0.75 & 0.25 & 0.25 \\\\ 0.25 & 0.25 & 0.25 & 0.25 & 0.25 & 0.25 & -0.75 & 0.25 \\\\ 0.25 & 0.25 & 0.25 & 0.25 & 0.25 & 0.25 & 0.25 & -0.75}$."
      ]
    },
    {
      "cell_type": "code",
      "execution_count": null,
      "metadata": {
        "id": "PBlAMMrDeJCB"
      },
      "outputs": [],
      "source": [
        "def big_inversion(circuit,quantum_reg):\n",
        "\n",
        "\n",
        "#\n",
        "# your code is here\n",
        "#\n"
      ]
    },
    {
      "cell_type": "markdown",
      "metadata": {
        "id": "zKpzf3vIeJCB"
      },
      "source": [
        "Below you can check the matrix of your inversion operator. We are interested in the top-left $8 \\times 8$ part of the matrix, the remaining parts are because of additional qubits."
      ]
    },
    {
      "cell_type": "code",
      "execution_count": null,
      "metadata": {
        "id": "CX4aSk4EeJCB"
      },
      "outputs": [],
      "source": [
        "from qiskit import QuantumRegister, ClassicalRegister, QuantumCircuit, execute, Aer\n",
        "\n",
        "big_qreg2 =  QuantumRegister(5)\n",
        "\n",
        "big_mycircuit2 = QuantumCircuit(big_qreg2)\n",
        "\n",
        "#set ancilla\n",
        "big_mycircuit2.x(big_qreg2[3])\n",
        "big_mycircuit2.h(big_qreg2[3])\n",
        "\n",
        "big_inversion(big_mycircuit2,big_qreg2)\n",
        "\n",
        "#set ancilla back\n",
        "big_mycircuit2.h(big_qreg2[3])\n",
        "big_mycircuit2.x(big_qreg2[3])\n",
        "\n",
        "job = execute(big_mycircuit2,Aer.get_backend('unitary_simulator'))\n",
        "u=job.result().get_unitary(big_mycircuit2,decimals=3).data\n",
        "for i in range(8):\n",
        "    s=\"\"\n",
        "    for j in range(8):\n",
        "        val = str(u[i][j].real)\n",
        "        while(len(val)<6): val  = \" \"+val\n",
        "        s = s + val\n",
        "    print(s)"
      ]
    },
    {
      "cell_type": "markdown",
      "metadata": {
        "id": "3L0XU6ZleJCB"
      },
      "source": [
        "To check out our solution, run the next cell:"
      ]
    },
    {
      "cell_type": "code",
      "execution_count": null,
      "metadata": {
        "id": "mZeCHPkXeJCB",
        "colab": {
          "base_uri": "https://localhost:8080/",
          "height": 17
        },
        "outputId": "68c3a7c0-97cb-4ed6-926d-47bb53c2053a"
      },
      "outputs": [
        {
          "output_type": "display_data",
          "data": {
            "text/plain": [
              "<IPython.core.display.Javascript object>"
            ],
            "application/javascript": [
              "window.open(\"https://colab.research.google.com/drive/1Cxxj2YzrJgYF4fWnaK8gofKi7JUvUu0g#scrollTo=h7L9Px7BaS7I\");"
            ]
          },
          "metadata": {}
        }
      ],
      "source": [
        "SolutionToTask5()  # show solution for task 5"
      ]
    },
    {
      "cell_type": "markdown",
      "metadata": {
        "id": "PdHQWjt5eJCB"
      },
      "source": [
        "<h3>Task 6: Testing Grover's search for 8 elements (Optional, challenging)</h3>\n",
        "\n",
        "Now we will test Grover's search on 8 elements.\n",
        "\n",
        "You are given the operator $U_{f_8}$. First run the following cell to load it. You can access it via:\n",
        "\n",
        "<pre>Uf_8(circuit,qreg)</pre>\n",
        "    \n",
        "Which state do you observe the most?"
      ]
    },
    {
      "cell_type": "code",
      "execution_count": null,
      "metadata": {
        "id": "3-Vt3EJzeJCB"
      },
      "outputs": [],
      "source": [
        "quantum_file = path_files+\"quantum.py\"\n",
        "%run $quantum_file"
      ]
    },
    {
      "cell_type": "code",
      "execution_count": null,
      "metadata": {
        "id": "aOMbWRqueJCB"
      },
      "outputs": [],
      "source": [
        "from qiskit import QuantumRegister, ClassicalRegister, QuantumCircuit, execute, Aer\n",
        "\n",
        "qreg8 =  QuantumRegister(5)\n",
        "creg8 = ClassicalRegister(3)\n",
        "\n",
        "mycircuit8 = QuantumCircuit(qreg8,creg8)\n",
        "\n",
        "\n",
        "#\n",
        "#Your code here\n",
        "#\n",
        "\n",
        "job = execute(mycircuit8,Aer.get_backend('qasm_simulator'),shots=10000)\n",
        "counts8 = job.result().get_counts(mycircuit8)\n",
        "# print the reverse of the outcome\n",
        "for outcome in counts8:\n",
        "    print(outcome,\"is observed\",counts8[outcome],\"times\")\n",
        "\n",
        "mycircuit8.draw(output='mpl')"
      ]
    },
    {
      "cell_type": "markdown",
      "metadata": {
        "id": "U6-EQw_MeJCB"
      },
      "source": [
        "To check out our solution, run the next cell:"
      ]
    },
    {
      "cell_type": "code",
      "execution_count": null,
      "metadata": {
        "id": "pPMjjBOfeJCC"
      },
      "outputs": [],
      "source": [
        "SolutionToTask6()  # show solution for task 6"
      ]
    },
    {
      "cell_type": "markdown",
      "metadata": {
        "id": "pK_p7acpeJCC"
      },
      "source": [
        "<h3>Task 7 (optional)</h3>\n",
        "\n",
        "Do you remember the optimal number of iterations to find the marked element with Grover's search? You are given the following code which implements Grover's search. (<i>giant_oracle</i> and <i>giant_diffusion</i> are already implemented.) There is a single marked element. First, determine the total number of elements in the search space. After that, try to find the optimal number of iterations. You can check your guess by changing the value of <i>iteration_count</i>. Please also check less optimal options like <i>iteration_count-1</i>, <i>iteration_count+1</i>.\n",
        "    \n",
        "Try also calling <i>giant_oracle2</i> which marks 2 elements and try to find out the optimal number of iterations."
      ]
    },
    {
      "cell_type": "code",
      "execution_count": null,
      "metadata": {
        "scrolled": true,
        "id": "s2IxHObmeJCC"
      },
      "outputs": [],
      "source": [
        "quantum_file = path_files+\"quantum.py\"\n",
        "%run $quantum_file\n",
        "\n",
        "from qiskit import QuantumRegister, ClassicalRegister, QuantumCircuit, execute, Aer\n",
        "\n",
        "qreg12 =  QuantumRegister(19)\n",
        "creg12 = ClassicalRegister(10)\n",
        "\n",
        "mycircuit12 = QuantumCircuit(qreg12,creg12)\n",
        "\n",
        "for i in range(10):\n",
        "    mycircuit12.h(qreg12[i])\n",
        "\n",
        "mycircuit12.x(qreg12[10])\n",
        "mycircuit12.h(qreg12[10])\n",
        "\n",
        "#number of iterations - change this value\n",
        "iteration_count = 1\n",
        "for i in range(iteration_count):\n",
        "    giant_oracle2(mycircuit12,qreg12)\n",
        "    giant_diffusion(mycircuit12,qreg12)\n",
        "\n",
        "mycircuit12.h(qreg12[10])\n",
        "mycircuit12.x(qreg12[10])\n",
        "\n",
        "for i in range(10):\n",
        "    mycircuit12.measure(qreg12[i],creg12[i])\n",
        "\n",
        "job = execute(mycircuit12,Aer.get_backend('qasm_simulator'),shots=100000)\n",
        "counts12 = job.result().get_counts(mycircuit12)\n",
        "# print the reverse of the outcome\n",
        "for outcome in counts12:\n",
        "    print(outcome,\"is observed\",counts12[outcome],\"times\")"
      ]
    },
    {
      "cell_type": "markdown",
      "metadata": {
        "id": "3dwUpIMReJCD"
      },
      "source": [
        "<h3>Task 8</h3>\n",
        "\n",
        "Implement an oracle function which marks the element $\\ket{00}$. Run Grover's search with the oracle you have implemented."
      ]
    },
    {
      "cell_type": "code",
      "execution_count": null,
      "metadata": {
        "id": "NCxr-WCeeJCD"
      },
      "outputs": [],
      "source": [
        "def oracle_00(circuit,qreg):\n",
        "    #Your code here\n",
        "    #\n",
        "    #"
      ]
    },
    {
      "cell_type": "code",
      "execution_count": null,
      "metadata": {
        "id": "s2-yG1oPeJCD"
      },
      "outputs": [],
      "source": [
        "from qiskit import QuantumRegister, ClassicalRegister, QuantumCircuit, execute, Aer\n",
        "\n",
        "#Grover's search\n",
        "\n",
        "\n",
        "\n"
      ]
    },
    {
      "cell_type": "markdown",
      "metadata": {
        "id": "H1UoQg_LeJCD"
      },
      "source": [
        "To check out our solution, run the next cell:"
      ]
    },
    {
      "cell_type": "code",
      "execution_count": null,
      "metadata": {
        "id": "0o4G6Q0ceJCD",
        "colab": {
          "base_uri": "https://localhost:8080/",
          "height": 17
        },
        "outputId": "71404aae-2ae0-4b9a-b98b-9b9e63fd9bfa"
      },
      "outputs": [
        {
          "output_type": "display_data",
          "data": {
            "text/plain": [
              "<IPython.core.display.Javascript object>"
            ],
            "application/javascript": [
              "window.open(\"https://colab.research.google.com/drive/1Cxxj2YzrJgYF4fWnaK8gofKi7JUvUu0g#scrollTo=vMEu35p9aS7I\");"
            ]
          },
          "metadata": {}
        }
      ],
      "source": [
        "SolutionToTask8()  # show solution for task 8"
      ]
    },
    {
      "cell_type": "markdown",
      "metadata": {
        "id": "icVahFvReJCD"
      },
      "source": [
        "<h3>Task 9 (Optional)</h3>\n",
        "\n",
        "Let $N=8$. Implement an oracle function which marks the elements $\\ket{001}$ and $\\ket{111}$. Run Grover's search with the oracle you have implemented."
      ]
    },
    {
      "cell_type": "code",
      "execution_count": null,
      "metadata": {
        "id": "B3-vXySveJCD"
      },
      "outputs": [],
      "source": [
        "def oracle_001_111(circuit,qreg):\n",
        "    #Your code here\n",
        "    #\n",
        "    #"
      ]
    }
  ],
  "metadata": {
    "kernelspec": {
      "display_name": "Python 3 (ipykernel)",
      "language": "python",
      "name": "python3"
    },
    "language_info": {
      "codemirror_mode": {
        "name": "ipython",
        "version": 3
      },
      "file_extension": ".py",
      "mimetype": "text/x-python",
      "name": "python",
      "nbconvert_exporter": "python",
      "pygments_lexer": "ipython3",
      "version": "3.11.4"
    },
    "colab": {
      "provenance": [],
      "collapsed_sections": [
        "YV_c_ctFeJB-"
      ],
      "include_colab_link": true
    }
  },
  "nbformat": 4,
  "nbformat_minor": 0
}