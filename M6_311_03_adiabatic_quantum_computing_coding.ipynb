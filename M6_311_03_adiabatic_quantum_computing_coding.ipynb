{
  "cells": [
    {
      "cell_type": "markdown",
      "metadata": {
        "id": "view-in-github",
        "colab_type": "text"
      },
      "source": [
        "<a href=\"https://colab.research.google.com/github/james-lucius/qureca_ADEQUATE/blob/main/MD_311_03_adiabatic_quantum_computing_coding.ipynb\" target=\"_parent\"><img src=\"https://colab.research.google.com/assets/colab-badge.svg\" alt=\"Open In Colab\"/></a>"
      ]
    },
    {
      "cell_type": "markdown",
      "metadata": {
        "id": "41GrN-mfORx_"
      },
      "source": [
        "<img src=\"https://gitlab.com/qworld/qeducation/educational-materials/adequate-qbook1/raw/main/qworld/images/adq_1.png\" align=\"left\" width=450></a>\n",
        "$ \\newcommand{\\bra}[1]{\\langle #1|} $\n",
        "$ \\newcommand{\\ket}[1]{|#1\\rangle} $\n",
        "$ \\newcommand{\\braket}[2]{\\langle #1|#2\\rangle} $\n",
        "$ \\newcommand{\\dot}[2]{ #1 \\cdot #2} $\n",
        "$ \\newcommand{\\biginner}[2]{\\left\\langle #1,#2\\right\\rangle} $\n",
        "$ \\newcommand{\\mymatrix}[2]{\\left( \\begin{array}{#1} #2\\end{array} \\right)} $\n",
        "$ \\newcommand{\\myvector}[1]{\\mymatrix{c}{#1}} $\n",
        "$ \\newcommand{\\myrvector}[1]{\\mymatrix{r}{#1}} $\n",
        "$ \\newcommand{\\mypar}[1]{\\left( #1 \\right)} $\n",
        "$ \\newcommand{\\mybigpar}[1]{ \\Big( #1 \\Big)} $\n",
        "$ \\newcommand{\\sqrttwo}{\\frac{1}{\\sqrt{2}}} $\n",
        "$ \\newcommand{\\dsqrttwo}{\\dfrac{1}{\\sqrt{2}}} $\n",
        "$ \\newcommand{\\onehalf}{\\frac{1}{2}} $\n",
        "$ \\newcommand{\\donehalf}{\\dfrac{1}{2}} $\n",
        "$ \\newcommand{\\hadamard}{ \\mymatrix{rr}{ \\sqrttwo & \\sqrttwo \\\\ \\sqrttwo & -\\sqrttwo }} $\n",
        "$ \\newcommand{\\vzero}{\\myvector{1\\\\0}} $\n",
        "$ \\newcommand{\\vone}{\\myvector{0\\\\1}} $\n",
        "$ \\newcommand{\\stateplus}{\\myvector{ \\sqrttwo \\\\  \\sqrttwo } } $\n",
        "$ \\newcommand{\\stateminus}{ \\myrvector{ \\sqrttwo \\\\ -\\sqrttwo } } $\n",
        "$ \\newcommand{\\myarray}[2]{ \\begin{array}{#1}#2\\end{array}} $\n",
        "$ \\newcommand{\\X}{ \\mymatrix{cc}{0 & 1 \\\\ 1 & 0}  } $\n",
        "$ \\newcommand{\\I}{ \\mymatrix{rr}{1 & 0 \\\\ 0 & 1}  } $\n",
        "$ \\newcommand{\\Z}{ \\mymatrix{rr}{1 & 0 \\\\ 0 & -1}  } $\n",
        "$ \\newcommand{\\Htwo}{ \\mymatrix{rrrr}{ \\frac{1}{2} & \\frac{1}{2} & \\frac{1}{2} & \\frac{1}{2} \\\\ \\frac{1}{2} & -\\frac{1}{2} & \\frac{1}{2} & -\\frac{1}{2} \\\\ \\frac{1}{2} & \\frac{1}{2} & -\\frac{1}{2} & -\\frac{1}{2} \\\\ \\frac{1}{2} & -\\frac{1}{2} & -\\frac{1}{2} & \\frac{1}{2} } } $\n",
        "$ \\newcommand{\\CNOT}{ \\mymatrix{cccc}{1 & 0 & 0 & 0 \\\\ 0 & 1 & 0 & 0 \\\\ 0 & 0 & 0 & 1 \\\\ 0 & 0 & 1 & 0} } $\n",
        "$ \\newcommand{\\norm}[1]{ \\left\\lVert #1 \\right\\rVert } $\n",
        "$ \\newcommand{\\pstate}[1]{ \\lceil \\mspace{-1mu} #1 \\mspace{-1.5mu} \\rfloor } $\n",
        "$ \\newcommand{\\greenbit}[1] {\\mathbf{{\\color{green}#1}}} $\n",
        "$ \\newcommand{\\bluebit}[1] {\\mathbf{{\\color{blue}#1}}} $\n",
        "$ \\newcommand{\\redbit}[1] {\\mathbf{{\\color{red}#1}}} $\n",
        "$ \\newcommand{\\brownbit}[1] {\\mathbf{{\\color{brown}#1}}} $\n",
        "$ \\newcommand{\\blackbit}[1] {\\mathbf{{\\color{black}#1}}} $"
      ]
    },
    {
      "cell_type": "markdown",
      "metadata": {
        "id": "ZdFFnm9UORyB"
      },
      "source": [
        "_prepared by Özlem Salehi_"
      ]
    },
    {
      "cell_type": "markdown",
      "metadata": {
        "id": "PKwB3kSHORyB"
      },
      "source": [
        "<font size=\"28px\" style=\"font-size:28px;\" align=\"left\"><b>Exercises: Adiabatic Quantum Computing</b></font>\n"
      ]
    },
    {
      "cell_type": "code",
      "source": [
        "try:\n",
        "  import qiskit, qiskit_aer\n",
        "  print(\"Qiskit has been imported \")\n",
        "except:\n",
        "  print(\"Installing Qiskit...\")\n",
        "  !pip install -U -q qiskit[visualization]\n",
        "  !pip install -U -q qiskit-aer\n",
        "  print(\"Qiskit has been installed\")"
      ],
      "metadata": {
        "id": "FTLJVeQ9peqe",
        "outputId": "de9e1511-4c0c-4f54-98b9-0e1b0d5d86ff",
        "colab": {
          "base_uri": "https://localhost:8080/"
        }
      },
      "execution_count": 1,
      "outputs": [
        {
          "output_type": "stream",
          "name": "stdout",
          "text": [
            "Installing Qiskit...\n",
            "\u001b[2K     \u001b[90m━━━━━━━━━━━━━━━━━━━━━━━━━━━━━━━━━━━━━━━\u001b[0m \u001b[32m162.6/162.6 kB\u001b[0m \u001b[31m4.1 MB/s\u001b[0m eta \u001b[36m0:00:00\u001b[0m\n",
            "\u001b[?25h  Preparing metadata (setup.py) ... \u001b[?25l\u001b[?25hdone\n",
            "\u001b[2K   \u001b[90m━━━━━━━━━━━━━━━━━━━━━━━━━━━━━━━━━━━━━━━━\u001b[0m \u001b[32m2.1/2.1 MB\u001b[0m \u001b[31m28.1 MB/s\u001b[0m eta \u001b[36m0:00:00\u001b[0m\n",
            "\u001b[2K   \u001b[90m━━━━━━━━━━━━━━━━━━━━━━━━━━━━━━━━━━━━━━━━\u001b[0m \u001b[32m49.5/49.5 kB\u001b[0m \u001b[31m2.8 MB/s\u001b[0m eta \u001b[36m0:00:00\u001b[0m\n",
            "\u001b[2K   \u001b[90m━━━━━━━━━━━━━━━━━━━━━━━━━━━━━━━━━━━━━━━━\u001b[0m \u001b[32m7.5/7.5 MB\u001b[0m \u001b[31m51.0 MB/s\u001b[0m eta \u001b[36m0:00:00\u001b[0m\n",
            "\u001b[2K   \u001b[90m━━━━━━━━━━━━━━━━━━━━━━━━━━━━━━━━━━━━━━━━\u001b[0m \u001b[32m109.0/109.0 kB\u001b[0m \u001b[31m4.1 MB/s\u001b[0m eta \u001b[36m0:00:00\u001b[0m\n",
            "\u001b[?25h  Building wheel for pylatexenc (setup.py) ... \u001b[?25l\u001b[?25hdone\n",
            "\u001b[2K   \u001b[90m━━━━━━━━━━━━━━━━━━━━━━━━━━━━━━━━━━━━━━━━\u001b[0m \u001b[32m12.4/12.4 MB\u001b[0m \u001b[31m94.9 MB/s\u001b[0m eta \u001b[36m0:00:00\u001b[0m\n",
            "\u001b[?25hQiskit has been installed\n"
          ]
        }
      ]
    },
    {
      "cell_type": "markdown",
      "source": [
        "### Task 1\n",
        "\n",
        "Compute $U(t,t_0) = exp \\left(-iH\\cdot(t-t_0)\\right)$ for $t_0=0$, $t=\\pi$, and $H=Z$ on paper, using the matrix exponentials for Pauli operators."
      ],
      "metadata": {
        "id": "DrtLd-A5yBVn"
      }
    },
    {
      "cell_type": "markdown",
      "source": [
        "### Solution"
      ],
      "metadata": {
        "id": "LbNuLsJGyUJ8"
      }
    },
    {
      "cell_type": "markdown",
      "source": [
        "We want to compute $\n",
        "U(\\pi, 0) = \\exp\\left( -i Z \\pi \\right).\n",
        "$\n",
        "\n",
        "Recall that,\n",
        "\\begin{align}\n",
        "exp({-i Z t})  = \\begin{pmatrix}\n",
        "                  e^{-it} & 0 \\\\\n",
        "                  0 & e^{it}\n",
        "                  \\end{pmatrix} = R_z(2t).\n",
        "\\end{align}\n",
        "\n",
        "Thus we can write $U(\\pi, 0) = R_z(2\\pi)$ and $\n",
        "R_z(2\\pi) = \\begin{pmatrix}\n",
        "e^{-i \\pi} & 0 \\\\\n",
        "0 & e^{i \\pi}\n",
        "\\end{pmatrix}\n",
        ".$\n",
        "\n",
        "Since $ e^{i \\pi} = -1 $ and $ e^{-i \\pi} = -1 $, we get\n",
        "\n",
        "$$\n",
        "R_z(2\\pi) = \\begin{pmatrix}\n",
        "-1 & 0 \\\\\n",
        "0 & -1\n",
        "\\end{pmatrix} .\n",
        "$$\n",
        "\n",
        "Therefore, the unitary evolution operator is:\n",
        "$$\n",
        "\\begin{pmatrix}\n",
        "-1 & 0 \\\\\n",
        "0 & -1\n",
        "\\end{pmatrix}.\n",
        "$$"
      ],
      "metadata": {
        "id": "YrIJX23Vy_q3"
      }
    },
    {
      "cell_type": "markdown",
      "source": [
        "### Task 2\n",
        "\n",
        "For $H=Z$, obtain the unitary matrix using Qiskit in three different ways:\n",
        "- Implement $R_z(\\theta)$ with the corresponding angle.\n",
        "- Use `HamiltonianGate` from Qiskit, which takes as input the Hamiltonian and the duration of the evolution and returns the corresponding unitary.\n",
        "- Use `PauliEvolutionGate` from Qiskit, which takes as input the Hamiltonian and the duration of the evolution and returns the corresponding unitary."
      ],
      "metadata": {
        "id": "DuoUFACOwx9u"
      }
    },
    {
      "cell_type": "code",
      "source": [
        "from qiskit import QuantumCircuit\n",
        "from qiskit.quantum_info import Operator\n",
        "from math import pi\n",
        "\n",
        "qc = QuantumCircuit(1)\n",
        "\n",
        "#Your code here\n",
        "qc.rz(2 * pi, 0)\n",
        "\n",
        "qcOp = Operator.from_circuit(qc)\n",
        "qcOp.draw('latex')"
      ],
      "metadata": {
        "id": "yrx0lcoTy2Lv",
        "outputId": "ccd03439-6efe-4318-f69f-eb6bef152008",
        "colab": {
          "base_uri": "https://localhost:8080/",
          "height": 78
        }
      },
      "execution_count": 2,
      "outputs": [
        {
          "output_type": "execute_result",
          "data": {
            "text/plain": [
              "<IPython.core.display.Latex object>"
            ],
            "text/latex": "$$\n\n\\begin{bmatrix}\n-1 & 0  \\\\\n 0 & -1  \\\\\n \\end{bmatrix}\n$$"
          },
          "metadata": {},
          "execution_count": 2
        }
      ]
    },
    {
      "cell_type": "code",
      "source": [
        "from qiskit.circuit.library import HamiltonianGate\n",
        "from qiskit.quantum_info import SparsePauliOp\n",
        "from qiskit import QuantumCircuit\n",
        "from math import pi\n",
        "\n",
        "qc = QuantumCircuit(1)\n",
        "H = SparsePauliOp(['Z'], coeffs=[1])\n",
        "\n",
        "### Your code here\n",
        "qc.append(HamiltonianGate(H, pi), [0])\n",
        "\n",
        "qcOp = Operator.from_circuit(qc)\n",
        "qcOp.draw('latex')"
      ],
      "metadata": {
        "id": "8mNGmN75EsBW",
        "outputId": "379d7034-c4f4-4c1f-8574-f9012723d70c",
        "colab": {
          "base_uri": "https://localhost:8080/",
          "height": 78
        }
      },
      "execution_count": 3,
      "outputs": [
        {
          "output_type": "execute_result",
          "data": {
            "text/plain": [
              "<IPython.core.display.Latex object>"
            ],
            "text/latex": "$$\n\n\\begin{bmatrix}\n-1 & 0  \\\\\n 0 & -1  \\\\\n \\end{bmatrix}\n$$"
          },
          "metadata": {},
          "execution_count": 3
        }
      ]
    },
    {
      "cell_type": "code",
      "source": [
        "from qiskit.circuit.library import PauliEvolutionGate\n",
        "from qiskit.quantum_info import SparsePauliOp\n",
        "from qiskit import QuantumCircuit\n",
        "from math import pi\n",
        "\n",
        "qc = QuantumCircuit(1)\n",
        "op = SparsePauliOp(['Z'], coeffs=[1])\n",
        "\n",
        "### Your code here\n",
        "qc.append(PauliEvolutionGate(op, pi), [0])\n",
        "\n",
        "qcOp = Operator.from_circuit(qc)\n",
        "qcOp.draw('latex')\n"
      ],
      "metadata": {
        "id": "E0ysWD9rE8a9",
        "outputId": "afe573b7-f59c-4d9f-e59e-98a8b468f13a",
        "colab": {
          "base_uri": "https://localhost:8080/",
          "height": 78
        }
      },
      "execution_count": 4,
      "outputs": [
        {
          "output_type": "execute_result",
          "data": {
            "text/plain": [
              "<IPython.core.display.Latex object>"
            ],
            "text/latex": "$$\n\n\\begin{bmatrix}\n-1 & 0  \\\\\n 0 & -1  \\\\\n \\end{bmatrix}\n$$"
          },
          "metadata": {},
          "execution_count": 4
        }
      ]
    },
    {
      "cell_type": "markdown",
      "source": [
        "### Solution"
      ],
      "metadata": {
        "id": "7jsN160VEpXp"
      }
    },
    {
      "cell_type": "code",
      "source": [
        "from qiskit import QuantumCircuit\n",
        "from math import pi\n",
        "\n",
        "qc = QuantumCircuit(1)\n",
        "qc.rz(2*pi,0)\n",
        "qcOp = Operator.from_circuit(qc)\n",
        "qcOp.draw('latex')"
      ],
      "metadata": {
        "id": "gfKIRNy5pxo9",
        "outputId": "ac74c2a4-f0cd-48dc-df1b-58de36b5c1af",
        "colab": {
          "base_uri": "https://localhost:8080/",
          "height": 78
        }
      },
      "execution_count": 5,
      "outputs": [
        {
          "output_type": "execute_result",
          "data": {
            "text/plain": [
              "<IPython.core.display.Latex object>"
            ],
            "text/latex": "$$\n\n\\begin{bmatrix}\n-1 & 0  \\\\\n 0 & -1  \\\\\n \\end{bmatrix}\n$$"
          },
          "metadata": {},
          "execution_count": 5
        }
      ]
    },
    {
      "cell_type": "code",
      "source": [
        "from qiskit.circuit.library import HamiltonianGate\n",
        "from qiskit.quantum_info import SparsePauliOp\n",
        "from qiskit import QuantumCircuit\n",
        "from math import pi\n",
        "\n",
        "H = SparsePauliOp(['Z'], coeffs=[1])\n",
        "qc = QuantumCircuit(1)\n",
        "qc.append(HamiltonianGate(H, pi),[0])\n",
        "qcOp = Operator.from_circuit(qc)\n",
        "qcOp.draw('latex')"
      ],
      "metadata": {
        "id": "C8rxziFHDmn_",
        "outputId": "ee66d17f-896f-4f9e-cf8d-afe107f1e93a",
        "colab": {
          "base_uri": "https://localhost:8080/",
          "height": 78
        }
      },
      "execution_count": 6,
      "outputs": [
        {
          "output_type": "execute_result",
          "data": {
            "text/plain": [
              "<IPython.core.display.Latex object>"
            ],
            "text/latex": "$$\n\n\\begin{bmatrix}\n-1 & 0  \\\\\n 0 & -1  \\\\\n \\end{bmatrix}\n$$"
          },
          "metadata": {},
          "execution_count": 6
        }
      ]
    },
    {
      "cell_type": "code",
      "source": [
        "from qiskit.circuit.library import PauliEvolutionGate\n",
        "from qiskit.quantum_info import SparsePauliOp\n",
        "from qiskit import QuantumCircuit\n",
        "from math import pi\n",
        "\n",
        "qc = QuantumCircuit(1)\n",
        "op = SparsePauliOp(['Z'], coeffs=[1])\n",
        "evo = PauliEvolutionGate(op, pi)\n",
        "qc.append(evo, [0])\n",
        "print(qc.decompose().draw())\n",
        "qcOp = Operator.from_circuit(qc)\n",
        "qcOp.draw('latex')\n"
      ],
      "metadata": {
        "id": "RiLo_7vgEPor",
        "outputId": "73933c92-1d80-40c6-d2b5-9cfbb2192691",
        "colab": {
          "base_uri": "https://localhost:8080/",
          "height": 130
        }
      },
      "execution_count": 7,
      "outputs": [
        {
          "output_type": "stream",
          "name": "stdout",
          "text": [
            "   ┌────────┐\n",
            "q: ┤ Rz(2π) ├\n",
            "   └────────┘\n"
          ]
        },
        {
          "output_type": "execute_result",
          "data": {
            "text/plain": [
              "<IPython.core.display.Latex object>"
            ],
            "text/latex": "$$\n\n\\begin{bmatrix}\n-1 & 0  \\\\\n 0 & -1  \\\\\n \\end{bmatrix}\n$$"
          },
          "metadata": {},
          "execution_count": 7
        }
      ]
    },
    {
      "cell_type": "markdown",
      "source": [
        "### Task 3\n",
        "\n",
        "For  $H= X+Z$ , compute $U(t,t_0) = exp \\left(-iH\\cdot(t-t_0)\\right)$ for $t_0=0$ and $t=1$ in Python, using the identity $exp(A) = Pexp(D)P^{-1}$."
      ],
      "metadata": {
        "id": "uvRv0IwTFMH-"
      }
    },
    {
      "cell_type": "code",
      "source": [
        "from qiskit.quantum_info import SparsePauliOp\n",
        "import numpy as np\n",
        "from scipy.linalg import eig\n",
        "np.set_printoptions(precision=6, suppress=True)\n",
        "\n",
        "X = np.array([[0, 1], [1, 0]])\n",
        "Z = np.array([[1 ,0], [0, -1]])\n",
        "H = X+Z\n",
        "\n",
        "### Your code here\n",
        "eigenvalues, eigenvectors = eig(H)\n",
        "P = eigenvectors\n",
        "D = np.diag(eigenvalues)\n",
        "P_inv = np.linalg.inv(P)\n",
        "expD = np.diag(np.exp(-1j * 1 * np.diagonal(D)))\n",
        "result = P @ expD @ P_inv\n",
        "print(result)"
      ],
      "metadata": {
        "id": "8y3RJFnxFqFX",
        "outputId": "7403c231-f427-402e-b543-9c6f348511de",
        "colab": {
          "base_uri": "https://localhost:8080/"
        }
      },
      "execution_count": 9,
      "outputs": [
        {
          "output_type": "stream",
          "name": "stdout",
          "text": [
            "[[0.155944-0.698456j 0.      -0.698456j]\n",
            " [0.      -0.698456j 0.155944+0.698456j]]\n"
          ]
        }
      ]
    },
    {
      "cell_type": "markdown",
      "source": [
        "### Solution"
      ],
      "metadata": {
        "id": "2dj3WMYuIeWc"
      }
    },
    {
      "cell_type": "code",
      "source": [
        "from qiskit.quantum_info import SparsePauliOp\n",
        "import numpy as np\n",
        "from scipy.linalg import eig\n",
        "np.set_printoptions(precision=6, suppress=True)\n",
        "\n",
        "X = np.array([[0, 1], [1, 0]])\n",
        "Z = np.array([[1 ,0], [0, -1]])\n",
        "H = X+Z\n",
        "\n",
        "eigenvalues, eigenvectors = eig(H)\n",
        "P = eigenvectors\n",
        "D = np.diag(eigenvalues)\n",
        "P_inv = np.linalg.inv(P)\n",
        "expD = np.diag(np.exp(-1j * 1* np.diagonal(D)))\n",
        "result = P @ expD @ P_inv\n",
        "print(result)"
      ],
      "metadata": {
        "id": "GK9mEITpIdwO",
        "outputId": "8f6bf4c7-9065-416d-cbb6-7488310eb8fd",
        "colab": {
          "base_uri": "https://localhost:8080/"
        }
      },
      "execution_count": 10,
      "outputs": [
        {
          "output_type": "stream",
          "name": "stdout",
          "text": [
            "[[0.155944-0.698456j 0.      -0.698456j]\n",
            " [0.      -0.698456j 0.155944+0.698456j]]\n"
          ]
        }
      ]
    },
    {
      "cell_type": "markdown",
      "source": [
        "### Task 4\n",
        "\n",
        "For $H=X+Z$, construct the unitary operator using `HamiltonianGate` and `PauliEvolutionGate` from Qiskit. Compare the two results you obtain with the result of the previous task. What can you conclude by looking at the circuits?"
      ],
      "metadata": {
        "id": "ir-Zmw8N6jsW"
      }
    },
    {
      "cell_type": "code",
      "source": [
        "from qiskit.circuit.library import PauliEvolutionGate\n",
        "from qiskit.quantum_info import SparsePauliOp\n",
        "from qiskit import QuantumCircuit\n",
        "from math import pi\n",
        "\n",
        "qc = QuantumCircuit(1)\n",
        "\n",
        "### Your code here\n",
        "op = SparsePauliOp(['X', 'Z'], coeffs = [1, 1])\n",
        "evo = PauliEvolutionGate(op, 1)\n",
        "qc.append(evo, [0])\n",
        "\n",
        "print(qc.decompose().draw())\n",
        "qcOp = Operator.from_circuit(qc)\n",
        "qcOp.draw('latex')\n"
      ],
      "metadata": {
        "id": "rO4AL0XX8FRc",
        "outputId": "4d23184a-efd2-43f5-8be4-c5e319051acd",
        "colab": {
          "base_uri": "https://localhost:8080/",
          "height": 130
        }
      },
      "execution_count": 11,
      "outputs": [
        {
          "output_type": "stream",
          "name": "stdout",
          "text": [
            "   ┌───────┐┌───────┐\n",
            "q: ┤ Rx(2) ├┤ Rz(2) ├\n",
            "   └───────┘└───────┘\n"
          ]
        },
        {
          "output_type": "execute_result",
          "data": {
            "text/plain": [
              "<IPython.core.display.Latex object>"
            ],
            "text/latex": "$$\n\n\\begin{bmatrix}\n0.2919265817 - 0.4546487134 i & -0.7080734183 - 0.4546487134 i  \\\\\n 0.7080734183 - 0.4546487134 i & 0.2919265817 + 0.4546487134 i  \\\\\n \\end{bmatrix}\n$$"
          },
          "metadata": {},
          "execution_count": 11
        }
      ]
    },
    {
      "cell_type": "code",
      "source": [
        "from qiskit.quantum_info import Operator\n",
        "from qiskit.circuit.library import HamiltonianGate\n",
        "from qiskit import QuantumCircuit\n",
        "from math import pi\n",
        "\n",
        "qc = QuantumCircuit(1)\n",
        "\n",
        "# Your code here\n",
        "op = SparsePauliOp(['X', 'Z'], coeffs = [1, 1])\n",
        "evo = HamiltonianGate(op, 1)\n",
        "qc.append(evo, [0])\n",
        "\n",
        "print(qc.decompose(reps=2).draw())\n",
        "qcOp = Operator.from_circuit(qc)\n",
        "qcOp.draw('latex')"
      ],
      "metadata": {
        "id": "Ms2U8Se0_JZr",
        "outputId": "6daf73e9-08cd-480c-8064-b8b8adb8ba0d",
        "colab": {
          "base_uri": "https://localhost:8080/",
          "height": 147
        }
      },
      "execution_count": 12,
      "outputs": [
        {
          "output_type": "stream",
          "name": "stdout",
          "text": [
            "global phase: 4.9321\n",
            "   ┌───────────────────────────┐\n",
            "q: ┤ U(1.5465,-0.21967,2.9219) ├\n",
            "   └───────────────────────────┘\n"
          ]
        },
        {
          "output_type": "execute_result",
          "data": {
            "text/plain": [
              "<IPython.core.display.Latex object>"
            ],
            "text/latex": "$$\n\n\\begin{bmatrix}\n0.1559436948 - 0.6984559986 i & - 0.6984559986 i  \\\\\n - 0.6984559986 i & 0.1559436948 + 0.6984559986 i  \\\\\n \\end{bmatrix}\n$$"
          },
          "metadata": {},
          "execution_count": 12
        }
      ]
    },
    {
      "cell_type": "markdown",
      "source": [
        "### Solution\n"
      ],
      "metadata": {
        "id": "rcCmVX3R8QW7"
      }
    },
    {
      "cell_type": "code",
      "source": [
        "from qiskit.circuit.library import PauliEvolutionGate\n",
        "from qiskit.quantum_info import SparsePauliOp\n",
        "from qiskit import QuantumCircuit\n",
        "from math import pi\n",
        "\n",
        "qc = QuantumCircuit(1)\n",
        "op = SparsePauliOp(['X', 'Z'], coeffs=[1, 1])\n",
        "evo = PauliEvolutionGate(op,1)\n",
        "qc.append(evo, [0])\n",
        "print(qc.decompose().draw())\n",
        "qcOp = Operator.from_circuit(qc)\n",
        "qcOp.draw('latex')\n"
      ],
      "metadata": {
        "id": "HREhZk6PQqAe",
        "outputId": "012475a8-d3fb-44db-a834-7e26c6247406",
        "colab": {
          "base_uri": "https://localhost:8080/",
          "height": 130
        }
      },
      "execution_count": 13,
      "outputs": [
        {
          "output_type": "stream",
          "name": "stdout",
          "text": [
            "   ┌───────┐┌───────┐\n",
            "q: ┤ Rx(2) ├┤ Rz(2) ├\n",
            "   └───────┘└───────┘\n"
          ]
        },
        {
          "output_type": "execute_result",
          "data": {
            "text/plain": [
              "<IPython.core.display.Latex object>"
            ],
            "text/latex": "$$\n\n\\begin{bmatrix}\n0.2919265817 - 0.4546487134 i & -0.7080734183 - 0.4546487134 i  \\\\\n 0.7080734183 - 0.4546487134 i & 0.2919265817 + 0.4546487134 i  \\\\\n \\end{bmatrix}\n$$"
          },
          "metadata": {},
          "execution_count": 13
        }
      ]
    },
    {
      "cell_type": "code",
      "source": [
        "from qiskit.quantum_info import Operator\n",
        "from qiskit.circuit.library import HamiltonianGate\n",
        "from qiskit import QuantumCircuit\n",
        "from math import pi\n",
        "\n",
        "qc = QuantumCircuit(1)\n",
        "op = SparsePauliOp(['X', 'Z'], coeffs=[1, 1])\n",
        "qc.append(HamiltonianGate(op, 1),[0])\n",
        "print(qc.decompose(reps=2).draw())\n",
        "qcOp = Operator.from_circuit(qc)\n",
        "qcOp.draw('latex')"
      ],
      "metadata": {
        "id": "CcW_8zhQQp8n",
        "outputId": "3ff92e25-0628-4a05-b673-de5aa803a408",
        "colab": {
          "base_uri": "https://localhost:8080/",
          "height": 147
        }
      },
      "execution_count": 14,
      "outputs": [
        {
          "output_type": "stream",
          "name": "stdout",
          "text": [
            "global phase: 4.9321\n",
            "   ┌───────────────────────────┐\n",
            "q: ┤ U(1.5465,-0.21967,2.9219) ├\n",
            "   └───────────────────────────┘\n"
          ]
        },
        {
          "output_type": "execute_result",
          "data": {
            "text/plain": [
              "<IPython.core.display.Latex object>"
            ],
            "text/latex": "$$\n\n\\begin{bmatrix}\n0.1559436948 - 0.6984559986 i & - 0.6984559986 i  \\\\\n - 0.6984559986 i & 0.1559436948 + 0.6984559986 i  \\\\\n \\end{bmatrix}\n$$"
          },
          "metadata": {},
          "execution_count": 14
        }
      ]
    },
    {
      "cell_type": "markdown",
      "source": [
        "If we check the quantum circuit from the first code, we see that $R_X$ and $R_Z$ gates are implemented consecutively. Implemented unitary corresponds to $exp(-iX)exp(-iZ)$. The reason is that `PauliEvolutionGate`is implemented using Lie-Trotter product formula with a single repetition $n=1$:\n",
        "\n",
        "$$\\exp(A+B) = \\lim_{n → \\infty} \\left (exp\\left (\\frac{A}{n} \\right )exp\\left (\\frac{B}{n} \\right ) \\right)^n.$$\n",
        "\n",
        "Hence, $exp(-i(X+Z))$ is implemented as $exp(-iX)exp(-iZ)$.\n",
        "\n",
        "The second code implements the circuit exactly, which can be verified by Task 1.\n",
        "\n",
        "Note that `HamiltonianGate` is also not exact for more than 2 qubits."
      ],
      "metadata": {
        "id": "0CvZV_l8RI6i"
      }
    },
    {
      "cell_type": "markdown",
      "source": [
        "### Task 5\n",
        "\n",
        "For $H_i = XII + IXI + IIX$ and $H_f = XZX+YZY+ZZZ$, plot the eigenvalues of the Hamiltonian  $H(t) = (1-t/T)H_i + (t/T)H_f$ for starting from $t=0$ to $t=T=50$. For each eigenvalue, use a different color."
      ],
      "metadata": {
        "id": "thfy2yFdry4I"
      }
    },
    {
      "cell_type": "code",
      "source": [
        "from qiskit.quantum_info import SparsePauliOp\n",
        "import scipy\n",
        "import matplotlib.pyplot as plt\n",
        "\n",
        "# Define the Hamiltonians\n",
        "T=50\n",
        "Hi = SparsePauliOp([\"XII\", \"IXI\", \"IIX\"], [1, 1, 1])\n",
        "Hf = SparsePauliOp([\"XZX\", \"YZY\", \"ZZZ\"], [1, 1, 1])\n",
        "\n",
        "for t in range(T):\n",
        "  # Compute H_t and its eigenvalues\n",
        "  Ht = (1 - t / T) * Hi + t / T * Hf\n",
        "  eigenvalues, _ = scipy.linalg.eig(Ht.to_matrix())\n",
        "\n",
        "\n",
        "  for i in range(len(eigenvalues)):\n",
        "    color = plt.cm.tab10(i)\n",
        "    # Add the value of each eigenvalue at time t to the plot\n",
        "    plt.scatter(t, sorted(eigenvalues)[i], color = color, marker = \".\")\n",
        "\n"
      ],
      "metadata": {
        "id": "vbzFECLFta2u",
        "outputId": "0f1080cc-b4b6-4ffc-b7b1-9575098eaa95",
        "colab": {
          "base_uri": "https://localhost:8080/",
          "height": 485
        }
      },
      "execution_count": 15,
      "outputs": [
        {
          "output_type": "stream",
          "name": "stderr",
          "text": [
            "/usr/local/lib/python3.11/dist-packages/matplotlib/collections.py:200: ComplexWarning: Casting complex values to real discards the imaginary part\n",
            "  offsets = np.asanyarray(offsets, float)\n"
          ]
        },
        {
          "output_type": "display_data",
          "data": {
            "text/plain": [
              "<Figure size 640x480 with 1 Axes>"
            ],
            "image/png": "[encoded data removed]"
          },
          "metadata": {}
        }
      ]
    },
    {
      "cell_type": "markdown",
      "source": [
        "### Solution"
      ],
      "metadata": {
        "id": "edWx9ZTPtlcS"
      }
    },
    {
      "cell_type": "code",
      "source": [
        "from qiskit.quantum_info import SparsePauliOp\n",
        "import scipy\n",
        "import matplotlib.pyplot as plt\n",
        "\n",
        "# Define the Hamiltonians\n",
        "Hi =  SparsePauliOp([\"XII\",\"IXI\",\"IIX\"], [1,1,1])\n",
        "Hf =  SparsePauliOp([\"XZX\",\"YZY\",\"ZZZ\"], [1,1,1])\n",
        "T=50\n",
        "\n",
        "for t in range(T):\n",
        "  # Find H_t and its eigenvalues\n",
        "  Ht = (1-t/T)*Hi + t/T*Hf\n",
        "  eigenvalues, _ = scipy.linalg.eig(Ht.to_matrix())\n",
        "  for i in range(len(eigenvalues)):\n",
        "    color = plt.cm.tab10(i)\n",
        "    # Add the value of each eigenvalue at time t to the plot\n",
        "    plt.scatter(t, sorted(eigenvalues)[i], color = color, marker = \".\")\n",
        "\n",
        "\n",
        "\n"
      ],
      "metadata": {
        "id": "dAAZnzEPYdUX",
        "outputId": "3738d903-6c39-4106-adbb-b20a35c60ecb",
        "colab": {
          "base_uri": "https://localhost:8080/",
          "height": 450
        }
      },
      "execution_count": 16,
      "outputs": [
        {
          "output_type": "display_data",
          "data": {
            "text/plain": [
              "<Figure size 640x480 with 1 Axes>"
            ],
            "image/png": "[encoded data removed]"
          },
          "metadata": {}
        }
      ]
    }
  ],
  "metadata": {
    "kernelspec": {
      "display_name": "Python 3 (ipykernel)",
      "language": "python",
      "name": "python3"
    },
    "language_info": {
      "codemirror_mode": {
        "name": "ipython",
        "version": 3
      },
      "file_extension": ".py",
      "mimetype": "text/x-python",
      "name": "python",
      "nbconvert_exporter": "python",
      "pygments_lexer": "ipython3",
      "version": "3.11.4"
    },
    "colab": {
      "provenance": [],
      "include_colab_link": true
    }
  },
  "nbformat": 4,
  "nbformat_minor": 0
}
