{
  "nbformat": 4,
  "nbformat_minor": 0,
  "metadata": {
    "colab": {
      "provenance": [],
      "collapsed_sections": [
        "Pb_nKnVK46GV"
      ],
      "include_colab_link": true
    },
    "kernelspec": {
      "name": "python3",
      "display_name": "Python 3"
    },
    "language_info": {
      "name": "python"
    }
  },
  "cells": [
    {
      "cell_type": "markdown",
      "metadata": {
        "id": "view-in-github",
        "colab_type": "text"
      },
      "source": [
        "<a href=\"https://colab.research.google.com/github/james-lucius/qureca_ADEQUATE/blob/main/M9_2222_QNNs_2_2_1_Training_a_QNN_Exercises_Solutions.ipynb\" target=\"_parent\"><img src=\"https://colab.research.google.com/assets/colab-badge.svg\" alt=\"Open In Colab\"/></a>"
      ]
    },
    {
      "cell_type": "markdown",
      "source": [
        "<img src=\"https://gitlab.com/qworld/qeducation/educational-materials/adequate-qbook1/raw/main/qworld/images/adq_1.png\" align=\"left\" width=450>"
      ],
      "metadata": {
        "id": "8fozsJF9WrTZ"
      }
    },
    {
      "cell_type": "markdown",
      "source": [
        "_prepared by Claudia Zendejas-Morales_"
      ],
      "metadata": {
        "id": "XmdLWP6ZGlGH"
      }
    },
    {
      "cell_type": "markdown",
      "source": [
        "### 2.2.1 Training a QNN Exercises Solutions"
      ],
      "metadata": {
        "id": "xDQrqKqx37AU"
      }
    },
    {
      "cell_type": "markdown",
      "source": [
        "##### <font color=\"#08b806\">Please run the following (hidden) cell; it is required to set up the environment for Google Colab"
      ],
      "metadata": {
        "id": "Pb_nKnVK46GV"
      }
    },
    {
      "cell_type": "code",
      "execution_count": null,
      "metadata": {
        "id": "XgKx7mzp354t"
      },
      "outputs": [],
      "source": [
        "import IPython\n",
        "\n",
        "def in_colab():\n",
        "    try:\n",
        "        import google.colab\n",
        "        return True\n",
        "    except:\n",
        "        return False\n",
        "\n",
        "if in_colab():\n",
        "    !pip install qiskit[visualization]==1.4.2 &> /dev/null # use \"&> /dev/null\" so that the standard output of the installation is not displayed\n",
        "    !pip install qiskit-machine-learning==0.8.2 &> /dev/nul\n",
        "\n",
        "import warnings\n",
        "warnings.filterwarnings(\"ignore\")"
      ]
    },
    {
      "cell_type": "markdown",
      "source": [
        "<a name=\"task1\"></a>\n",
        "## Task 1\n",
        "\n",
        "At the end of section \"2.2 Training a QNN,\" we reviewed a very simple example that started in state |0> and aimed to end in state |1> with a single rotation around the y-axis. To achieve this, a single parameter was optimized.\n",
        "\n",
        "Create a cost function to find the parameter needed to move from state $|0\\rangle$ to state $|-i\\rangle$ (along the negative _y-axis_).\n",
        "\n",
        "To test your cost function, copy the code from section \"2.2 Training a QNN,\" but now pass your new function as a parameter to `minimize`, and use `initial_guess = 0`."
      ],
      "metadata": {
        "id": "rwSvtAttCdSn"
      }
    },
    {
      "cell_type": "markdown",
      "source": [
        "You can use the same code from the def `average_cost(angle, fn_costo, shots=2000)` function, just copy it."
      ],
      "metadata": {
        "id": "qB24GE6cM6zv"
      }
    },
    {
      "cell_type": "markdown",
      "source": [
        "Corroborate the result with the help of a Bloch sphere, similar to the example shown in section 2.2."
      ],
      "metadata": {
        "id": "tCcWQV5_Hv0Z"
      }
    },
    {
      "cell_type": "markdown",
      "source": [
        "### Solution"
      ],
      "metadata": {
        "id": "pJlYaL9iNYo7"
      }
    },
    {
      "cell_type": "code",
      "source": [
        "def cost_state_minus_i(prob_meas_state_minus_i):\n",
        "   return (prob_meas_state_minus_i - 0.5)**2      # we are interested in a positive value so that the cost reaches 0"
      ],
      "metadata": {
        "id": "80oENtV9NUSI"
      },
      "execution_count": null,
      "outputs": []
    },
    {
      "cell_type": "markdown",
      "source": [
        "You can use the same code from the def `average_cost(angle, fn_costo, shots=2000)` function, just copy it."
      ],
      "metadata": {
        "id": "FWcKvfuiVyDe"
      }
    },
    {
      "cell_type": "code",
      "source": [
        "from qiskit import QuantumCircuit\n",
        "import qiskit.quantum_info as qi\n",
        "from math import radians, degrees\n",
        "\n",
        "def average_cost(angle, fn_costo, shots=2000):\n",
        "\n",
        "    qc = QuantumCircuit(1)                      # we only need one qubit\n",
        "                                                # already start in state |0> (no need for encoding)\n",
        "\n",
        "    qc.ry(radians(angle[0]), 0)                 # rotation aroud Y by an amount of 'angle' degrees (variational form)\n",
        "                                                # 'ry' must receive the parameter in radians\n",
        "\n",
        "    sv = qi.Statevector(qc)                     # we do a simple simulation\n",
        "    counts = sv.sample_counts(shots=shots)      # we get the counts\n",
        "\n",
        "    average_state_1 = (counts['1'] if '1' in counts else 0)/shots    # we calculate the average of the state obtained\n",
        "\n",
        "    average_cost = fn_costo(average_state_1)    # we evaluate the cost function\n",
        "\n",
        "    print('Try: angle =', angle, 'produces an average cost =', average_cost)    # show the cost for this step\n",
        "\n",
        "    return average_cost"
      ],
      "metadata": {
        "id": "60sfqCgSVrcE"
      },
      "execution_count": null,
      "outputs": []
    },
    {
      "cell_type": "code",
      "source": [
        "from scipy.optimize import minimize\n",
        "\n",
        "\n",
        "initial_guess = 0\n",
        "\n",
        "result = minimize(average_cost,                   # we use the same function that contains the quantum circuit\n",
        "                  initial_guess,                  # we use the indicated initial value\n",
        "                  args=(cost_state_minus_i,),     # we use the new cost function\n",
        "                  method='Powell')                # we use the same optimization method\n",
        "\n",
        "# The value searched must be very close to 90, it is possible that some execution does not find it, so run the cell again if this is the case"
      ],
      "metadata": {
        "id": "Q-t-JXyJV18e"
      },
      "execution_count": null,
      "outputs": []
    },
    {
      "cell_type": "markdown",
      "source": [
        "Corroborate the result with the help of a Bloch sphere, similar to the example shown in section 2.2."
      ],
      "metadata": {
        "id": "lfNfZDP1WT0b"
      }
    },
    {
      "cell_type": "code",
      "source": [
        "from qiskit.visualization import plot_bloch_multivector\n",
        "\n",
        "\n",
        "qc = QuantumCircuit(1)\n",
        "qc.rx(radians(result.x[0]), 0)      # The rotation must be around the x axis, in order to reach the state |-i>\n",
        "\n",
        "sv = qi.Statevector(qc)\n",
        "plot_bloch_multivector(sv)"
      ],
      "metadata": {
        "id": "lzTjf-dhV6eS"
      },
      "execution_count": null,
      "outputs": []
    },
    {
      "cell_type": "markdown",
      "source": [
        "## Task 2: Regression\n",
        "\n",
        "\n",
        "We'll be using [Qiskit Machine Learning](https://qiskit-community.github.io/qiskit-machine-learning/) for the following tasks. The initial cell has already taken care of installing this library, so we only need to import what's necessary.\n",
        "\n",
        "**Qiskit Machine Learning** introduces fundamental computational building blocks, such as quantum kernels and quantum neural networks, which are used in various applications, including classification and regression.\n",
        "\n",
        "This library provides several classes to help us solve problems with classification and regression models, such as [NeuralNetworkClassifier](https://qiskit-community.github.io/qiskit-machine-learning/stubs/qiskit_machine_learning.algorithms.NeuralNetworkClassifier.html) and [NeuralNetworkRegressor](https://qiskit-community.github.io/qiskit-machine-learning/stubs/qiskit_machine_learning.algorithms.NeuralNetworkRegressor.html). Both classes take a [NeuralNetwork](https://qiskit-community.github.io/qiskit-machine-learning/stubs/qiskit_machine_learning.neural_networks.NeuralNetwork.html) object as input and use it depending on the specific context."
      ],
      "metadata": {
        "id": "aSXUCDM5YyPG"
      }
    },
    {
      "cell_type": "markdown",
      "source": [
        "We will work with a regression exercise: we will use our dataset, generating random numbers around a sine function (samples) so that our regression results behave exactly like a sine.\n",
        "\n",
        "The code that does this is as follows:"
      ],
      "metadata": {
        "id": "xslSeBCTYHm_"
      }
    },
    {
      "cell_type": "code",
      "source": [
        "import matplotlib.pyplot as plt\n",
        "import numpy as np\n",
        "\n",
        "num_samples = 20                                           # number of samples to train the QNN\n",
        "\n",
        "eps = 0.2                                                  # tolerance value (epsilon)\n",
        "\n",
        "lb, ub = -np.pi, np.pi                                     # lower and upper limits for x\n",
        "\n",
        "X_ = np.linspace(lb, ub, num=50).reshape(50, 1)            # generate 50 numbers in the range (lb, ub) to plot f\n",
        "\n",
        "f = lambda x: np.sin(x)                                    # lambda function that calculates the sine\n",
        "\n",
        "X = (ub - lb)*np.random.rand(num_samples, 1) + lb          # generate 20 samples randomly (num_samples)\n",
        "                                                           # but in the interval (lb, ub)\n",
        "\n",
        "y = f(X[:,0]) + eps*(2*np.random.rand(num_samples)-1)      # generate the results (vector 'y') randomly\n",
        "                                                           # but following a sine function, and with tolerance of 'eps'\n",
        "                                                           # that is, ± 0.2 above or below the sine function\n",
        "\n",
        "plt.plot(X_, f(X_), 'r--')                                 # plot the function f (sine), using the 50 points in X_\n",
        "plt.plot(X, y, 'bo')                                       # plot the samples\n",
        "plt.show()"
      ],
      "metadata": {
        "id": "6HcB5CnyIjXy"
      },
      "execution_count": null,
      "outputs": []
    },
    {
      "cell_type": "markdown",
      "source": [
        "Now we are going to build our QNN."
      ],
      "metadata": {
        "id": "fwIA2RnTbDjf"
      }
    },
    {
      "cell_type": "markdown",
      "source": [
        "<a name=\"task21\"></a>\n",
        "### Task 2.1: Feature Map\n",
        "\n",
        "Create a feature map that is a quantum circuit with a single gate $R_y$ on a single qubit, since we only have one feature for each sample (the value $x$).\n",
        "\n",
        "We need to make $R_y$'s angle argument to be a parameter, by using Qiskit's [Parameter](https://docs.quantum.ibm.com/api/qiskit/qiskit.circuit.Parameter) class. Name it `\"x\"`. Visit the link to see how."
      ],
      "metadata": {
        "id": "-9VbuS_BbFYX"
      }
    },
    {
      "cell_type": "markdown",
      "source": [
        "### Solution"
      ],
      "metadata": {
        "id": "z1vyJkjhWVzv"
      }
    },
    {
      "cell_type": "code",
      "source": [
        "from qiskit import QuantumCircuit\n",
        "from qiskit.circuit import Parameter\n",
        "\n",
        "# create a Parameter named 'x'\n",
        "param_x = Parameter(\"x\")\n",
        "\n",
        "# create a circuit for the feature map\n",
        "feature_map = QuantumCircuit(1, name=\"fm\")\n",
        "\n",
        "# add the parameterized ry gate\n",
        "feature_map.ry(param_x, 0)"
      ],
      "metadata": {
        "id": "tuXVVqwcIplM"
      },
      "execution_count": null,
      "outputs": []
    },
    {
      "cell_type": "markdown",
      "source": [
        "<a name=\"task22\"></a>\n",
        "### Task 2.2: Variational Form\n",
        "\n",
        "Create a variational form (or ansatz) that is a quantum circuit with a single gate $R_y$ on a single qubit, since we only have one parameter $\\theta$ to optimize for each sample.\n",
        "\n",
        "We need to make $R_y$'s angle argument to be a parameter, by using Qiskit's [Parameter](https://docs.quantum.ibm.com/api/qiskit/qiskit.circuit.Parameter) class. Name it `\"theta\"`. Visit the link to see how."
      ],
      "metadata": {
        "id": "7XwlGikVdTmt"
      }
    },
    {
      "cell_type": "markdown",
      "source": [
        "### Solution"
      ],
      "metadata": {
        "id": "tuI317HGdTmu"
      }
    },
    {
      "cell_type": "code",
      "source": [
        "from qiskit import QuantumCircuit\n",
        "from qiskit.circuit import Parameter\n",
        "\n",
        "# create a Parameter named 'theta'\n",
        "param_theta = Parameter(\"theta\")\n",
        "\n",
        "# create a circuit for the ansatz\n",
        "ansatz = QuantumCircuit(1, name=\"vf\")\n",
        "\n",
        "# add the parameterized ry gate\n",
        "ansatz.ry(param_theta, 0)"
      ],
      "metadata": {
        "id": "6_MMvEIBIs3M"
      },
      "execution_count": null,
      "outputs": []
    },
    {
      "cell_type": "markdown",
      "source": [
        "<a name=\"task23\"></a>\n",
        "### Task 2.3: Full Quantum Circuit\n",
        "\n",
        "Create a single circuit containing both the variational form and the ansatz, remember the `compose()` method. Display it with `draw()`."
      ],
      "metadata": {
        "id": "Jt-F9ii-e9Hy"
      }
    },
    {
      "cell_type": "markdown",
      "source": [
        "### Solution"
      ],
      "metadata": {
        "id": "SxVczQK6e9Hz"
      }
    },
    {
      "cell_type": "code",
      "source": [
        "from qiskit import QuantumCircuit\n",
        "\n",
        "\n",
        "qc = QuantumCircuit(1)\n",
        "qc.compose(feature_map, inplace=True)\n",
        "qc.compose(ansatz, inplace=True)\n",
        "\n",
        "qc.draw('mpl')"
      ],
      "metadata": {
        "id": "P8xDuGZpQalN"
      },
      "execution_count": null,
      "outputs": []
    },
    {
      "cell_type": "markdown",
      "source": [
        "<a name=\"task24\"></a>\n",
        "### Task 2.4: QNN\n",
        "\n",
        "Create a QNN using the [EstimatorQNN](https://qiskit-community.github.io/qiskit-machine-learning/stubs/qiskit_machine_learning.neural_networks.EstimatorQNN.html) class provided by Qiskit Machine Learning.\n",
        "\n",
        "This class expects a quantum circuit containing both a variational form and an ansatz. Additionally, the parameters for each must be explicitly specified using the arguments `input_params` and `weight_params`, respectively. Visit the link to see how."
      ],
      "metadata": {
        "id": "2-70FlJSgujk"
      }
    },
    {
      "cell_type": "markdown",
      "source": [
        "### Solution"
      ],
      "metadata": {
        "id": "XveLYovWgujk"
      }
    },
    {
      "cell_type": "code",
      "source": [
        "from qiskit_machine_learning.neural_networks import EstimatorQNN\n",
        "\n",
        "qnn = EstimatorQNN(\n",
        "    circuit=qc,                               # circuit created in task 2.3\n",
        "    input_params=feature_map.parameters,      # parameters of the feature map created in task 2.1\n",
        "    weight_params=ansatz.parameters           # parameters of the ansatz created in task 2.2\n",
        ")"
      ],
      "metadata": {
        "id": "qxGfQvGmIvcB"
      },
      "execution_count": null,
      "outputs": []
    },
    {
      "cell_type": "markdown",
      "source": [
        "<a name=\"task25\"></a>\n",
        "### Task 2.5: Regressor\n",
        "\n",
        "Create a basic quantum neural network regressor using the [NeuralNetworkRegressor](https://qiskit-community.github.io/qiskit-machine-learning/stubs/qiskit_machine_learning.algorithms.NeuralNetworkRegressor.html) class provided by Qiskit Machine Learning. This is necessary to specialize the QNN for our type of problem: regression.\n",
        "\n",
        "- The main argument is the object containing the QNN, sent through the `neural_network` variable.\n",
        "\n",
        "- You can specify the loss function with the `loss` argument; the default value is `'squared_error'`, but you can experiment with others.\n",
        "\n",
        "- Using the optimizer argument, you specify a class with which you want to train the QNN. First, try [L_BFGS_B](https://qiskit-community.github.io/qiskit-machine-learning/stubs/qiskit_machine_learning.optimizers.L_BFGS_B.html) (Limited-memory BFGS Bound), and if you wish, experiment with other [optimizers](https://qiskit-community.github.io/qiskit-machine-learning/apidocs/qiskit_machine_learning.optimizers.html). Optimizers have their own parameters that you can experiment with.\n",
        "\n",
        "- An optional but very useful argument is `callback`, in which you can specify a function to be executed as the training progresses. Below is a function (`callback_plot`) that plots the progress of the cost function value. Include it when creating the `NeuralNetworkRegressor`."
      ],
      "metadata": {
        "id": "mzYrQ4wNlsom"
      }
    },
    {
      "cell_type": "code",
      "source": [
        "from IPython.display import clear_output, display\n",
        "import time\n",
        "\n",
        "objective_func_vals = []                              # to store the full history\n",
        "\n",
        "def callback_plot(weights, obj_func_eval):\n",
        "  plt.clf()\n",
        "  objective_func_vals.append(obj_func_eval)\n",
        "  plt.title(\"Loss function value versus iteration\")\n",
        "  plt.xlabel(\"Iteration\")\n",
        "  plt.ylabel(\"Loss\")\n",
        "  plt.plot(range(len(objective_func_vals)), objective_func_vals)\n",
        "  display(plt.gcf())\n",
        "  clear_output(wait=True)\n",
        "  time.sleep(1)                                       # to reduce the speed of the plot updates"
      ],
      "metadata": {
        "id": "ozxMM9YwI2ZN"
      },
      "execution_count": null,
      "outputs": []
    },
    {
      "cell_type": "markdown",
      "source": [
        "### Solution"
      ],
      "metadata": {
        "id": "2rMxmg3Hlson"
      }
    },
    {
      "cell_type": "code",
      "source": [
        "from qiskit_machine_learning.algorithms.regressors import NeuralNetworkRegressor\n",
        "from qiskit_machine_learning.optimizers import L_BFGS_B\n",
        "\n",
        "\n",
        "regressor = NeuralNetworkRegressor(\n",
        "    neural_network=qnn,                 # QNN created in task 2.4\n",
        "    loss=\"squared_error\",               # loss function\n",
        "    optimizer=L_BFGS_B(),               # optimizer\n",
        "    callback=callback_plot,             # function that will plot the value of the loss function\n",
        ")"
      ],
      "metadata": {
        "id": "uPpyuJltI5YN"
      },
      "execution_count": null,
      "outputs": []
    },
    {
      "cell_type": "markdown",
      "source": [
        "<a name=\"task26\"></a>\n",
        "### Task 2.6: Training\n",
        "\n",
        "Train the regressor by calling the `NeuralNetworkRegressor.fit()` method, which receives the samples (`X`) and labels (`y`).\n",
        "\n",
        "Check how well the model performed by calling the `NeuralNetworkRegressor.score()` method, using the same `X` and `y`."
      ],
      "metadata": {
        "id": "QE-oNPiysGma"
      }
    },
    {
      "cell_type": "markdown",
      "source": [
        "### Solution"
      ],
      "metadata": {
        "id": "ooIhvw2_sGmb"
      }
    },
    {
      "cell_type": "code",
      "source": [
        "objective_func_vals = []    # we make sure the history is empty\n",
        "\n",
        "regressor.fit(X, y)         # adjust the data\n",
        "\n",
        "regressor.score(X, y)       # get the score"
      ],
      "metadata": {
        "id": "B2j-Lnw-I7sF"
      },
      "execution_count": null,
      "outputs": []
    },
    {
      "cell_type": "markdown",
      "source": [
        "---\n",
        "\n",
        "Finally, let's look at the result of the regressor with the help of the `NeuralNetworkRegressor.predict()` method to observe the function it fitted."
      ],
      "metadata": {
        "id": "HqTvYenMeoxi"
      }
    },
    {
      "cell_type": "code",
      "source": [
        "plt.plot(X_, f(X_), \"r--\")          # plot the original function (in red)\n",
        "\n",
        "plt.plot(X, y, \"bo\")                # plot the samples (in blue)\n",
        "\n",
        "y_ = regressor.predict(X_)          # suppose the NeuralNetworkRegressor object was created in the variable 'regressor'\n",
        "\n",
        "plt.plot(X_, y_, \"g-\")              # plot the fitted curve (in green)\n",
        "plt.show()"
      ],
      "metadata": {
        "id": "W5bP5SBglsoo"
      },
      "execution_count": null,
      "outputs": []
    }
  ]
}