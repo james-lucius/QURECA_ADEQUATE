{
  "cells": [
    {
      "cell_type": "markdown",
      "metadata": {
        "id": "view-in-github",
        "colab_type": "text"
      },
      "source": [
        "<a href=\"https://colab.research.google.com/github/james-lucius/qureca_ADEQUATE/blob/main/M5_211_Order_Finding_Algorithm_Exercise.ipynb\" target=\"_parent\"><img src=\"https://colab.research.google.com/assets/colab-badge.svg\" alt=\"Open In Colab\"/></a>"
      ]
    },
    {
      "cell_type": "markdown",
      "source": [
        "<img src=\"https://gitlab.com/qworld/qeducation/educational-materials/adequate-qbook1/raw/main/qworld/images/adq_1.png\" align=\"left\" width=450></a>\n",
        "$ \\newcommand{\\bra}[1]{\\langle #1|} $\n",
        "$ \\newcommand{\\ket}[1]{|#1\\rangle} $\n",
        "$ \\newcommand{\\braket}[2]{\\langle #1|#2\\rangle} $\n",
        "$ \\newcommand{\\dot}[2]{ #1 \\cdot #2} $\n",
        "$ \\newcommand{\\biginner}[2]{\\left\\langle #1,#2\\right\\rangle} $\n",
        "$ \\newcommand{\\mymatrix}[2]{\\left( \\begin{array}{#1} #2\\end{array} \\right)} $\n",
        "$ \\newcommand{\\myvector}[1]{\\mymatrix{c}{#1}} $\n",
        "$ \\newcommand{\\myrvector}[1]{\\mymatrix{r}{#1}} $\n",
        "$ \\newcommand{\\mypar}[1]{\\left( #1 \\right)} $\n",
        "$ \\newcommand{\\mybigpar}[1]{ \\Big( #1 \\Big)} $\n",
        "$ \\newcommand{\\sqrttwo}{\\frac{1}{\\sqrt{2}}} $\n",
        "$ \\newcommand{\\dsqrttwo}{\\dfrac{1}{\\sqrt{2}}} $\n",
        "$ \\newcommand{\\onehalf}{\\frac{1}{2}} $\n",
        "$ \\newcommand{\\donehalf}{\\dfrac{1}{2}} $\n",
        "$ \\newcommand{\\hadamard}{ \\mymatrix{rr}{ \\sqrttwo & \\sqrttwo \\\\ \\sqrttwo & -\\sqrttwo }} $\n",
        "$ \\newcommand{\\vzero}{\\myvector{1\\\\0}} $\n",
        "$ \\newcommand{\\vone}{\\myvector{0\\\\1}} $\n",
        "$ \\newcommand{\\stateplus}{\\myvector{ \\sqrttwo \\\\  \\sqrttwo } } $\n",
        "$ \\newcommand{\\stateminus}{ \\myrvector{ \\sqrttwo \\\\ -\\sqrttwo } } $\n",
        "$ \\newcommand{\\myarray}[2]{ \\begin{array}{#1}#2\\end{array}} $\n",
        "$ \\newcommand{\\X}{ \\mymatrix{cc}{0 & 1 \\\\ 1 & 0}  } $\n",
        "$ \\newcommand{\\I}{ \\mymatrix{rr}{1 & 0 \\\\ 0 & 1}  } $\n",
        "$ \\newcommand{\\Z}{ \\mymatrix{rr}{1 & 0 \\\\ 0 & -1}  } $\n",
        "$ \\newcommand{\\Htwo}{ \\mymatrix{rrrr}{ \\frac{1}{2} & \\frac{1}{2} & \\frac{1}{2} & \\frac{1}{2} \\\\ \\frac{1}{2} & -\\frac{1}{2} & \\frac{1}{2} & -\\frac{1}{2} \\\\ \\frac{1}{2} & \\frac{1}{2} & -\\frac{1}{2} & -\\frac{1}{2} \\\\ \\frac{1}{2} & -\\frac{1}{2} & -\\frac{1}{2} & \\frac{1}{2} } } $\n",
        "$ \\newcommand{\\CNOT}{ \\mymatrix{cccc}{1 & 0 & 0 & 0 \\\\ 0 & 1 & 0 & 0 \\\\ 0 & 0 & 0 & 1 \\\\ 0 & 0 & 1 & 0} } $\n",
        "$ \\newcommand{\\norm}[1]{ \\left\\lVert #1 \\right\\rVert } $\n",
        "$ \\newcommand{\\pstate}[1]{ \\lceil \\mspace{-1mu} #1 \\mspace{-1.5mu} \\rfloor } $\n",
        "$ \\newcommand{\\greenbit}[1] {\\mathbf{{\\color{green}#1}}} $\n",
        "$ \\newcommand{\\bluebit}[1] {\\mathbf{{\\color{blue}#1}}} $\n",
        "$ \\newcommand{\\redbit}[1] {\\mathbf{{\\color{red}#1}}} $\n",
        "$ \\newcommand{\\brownbit}[1] {\\mathbf{{\\color{brown}#1}}} $\n",
        "$ \\newcommand{\\blackbit}[1] {\\mathbf{{\\color{black}#1}}} $"
      ],
      "metadata": {
        "id": "Lqew_Gsei1pD"
      }
    },
    {
      "cell_type": "markdown",
      "metadata": {
        "id": "EYtaCizqjOtp"
      },
      "source": [
        "_prepared by Özlem Salehi and Abuzer Yakaryilmaz_\n",
        "<br><br>\n",
        "_Cirq adaptation by Claudia Zendejas-Morales_"
      ]
    },
    {
      "cell_type": "markdown",
      "metadata": {
        "id": "f8ZM7Q_ijOtp"
      },
      "source": [
        "<font size=\"28px\" style=\"font-size:28px;\" align=\"left\"><b>Exercise: Order Finding Algorithm </b></font>\n",
        "<br>\n",
        "<br><br>"
      ]
    },
    {
      "cell_type": "markdown",
      "metadata": {
        "jp-MarkdownHeadingCollapsed": true,
        "id": "shsGvhL4jOtp"
      },
      "source": [
        "##### <font color=\"#08b806\">Please execute the following cell, it is necessary to distinguish between your local environment and Google Colab's"
      ]
    },
    {
      "cell_type": "code",
      "execution_count": null,
      "metadata": {
        "id": "25mhC5cMjOtp",
        "colab": {
          "base_uri": "https://localhost:8080/"
        },
        "outputId": "98128dc2-ddd6-4c99-f90d-5380e970cd8e"
      },
      "outputs": [
        {
          "output_type": "stream",
          "name": "stdout",
          "text": [
            "--2024-12-17 04:57:20--  https://gitlab.com/qworld/qeducation/qbook101/raw/main/qworld/include/shor.py\n",
            "Resolving gitlab.com (gitlab.com)... 172.65.251.78, 2606:4700:90:0:f22e:fbec:5bed:a9b9\n",
            "Connecting to gitlab.com (gitlab.com)|172.65.251.78|:443... connected.\n",
            "HTTP request sent, awaiting response... 200 OK\n",
            "Length: 569 [text/plain]\n",
            "Saving to: ‘shor.py’\n",
            "\n",
            "shor.py             100%[===================>]     569  --.-KB/s    in 0s      \n",
            "\n",
            "2024-12-17 04:57:20 (197 MB/s) - ‘shor.py’ saved [569/569]\n",
            "\n",
            "Requirement already satisfied: cirq in /usr/local/lib/python3.10/dist-packages (1.4.1)\n",
            "Requirement already satisfied: cirq-aqt==1.4.1 in /usr/local/lib/python3.10/dist-packages (from cirq) (1.4.1)\n",
            "Requirement already satisfied: cirq-core==1.4.1 in /usr/local/lib/python3.10/dist-packages (from cirq) (1.4.1)\n",
            "Requirement already satisfied: cirq-google==1.4.1 in /usr/local/lib/python3.10/dist-packages (from cirq) (1.4.1)\n",
            "Requirement already satisfied: cirq-ionq==1.4.1 in /usr/local/lib/python3.10/dist-packages (from cirq) (1.4.1)\n",
            "Requirement already satisfied: cirq-pasqal==1.4.1 in /usr/local/lib/python3.10/dist-packages (from cirq) (1.4.1)\n",
            "Requirement already satisfied: cirq-rigetti==1.4.1 in /usr/local/lib/python3.10/dist-packages (from cirq) (1.4.1)\n",
            "Requirement already satisfied: cirq-web==1.4.1 in /usr/local/lib/python3.10/dist-packages (from cirq) (1.4.1)\n",
            "Requirement already satisfied: requests~=2.18 in /usr/local/lib/python3.10/dist-packages (from cirq-aqt==1.4.1->cirq) (2.32.3)\n",
            "Requirement already satisfied: attrs>=21.3.0 in /usr/local/lib/python3.10/dist-packages (from cirq-core==1.4.1->cirq) (24.2.0)\n",
            "Requirement already satisfied: duet>=0.2.8 in /usr/local/lib/python3.10/dist-packages (from cirq-core==1.4.1->cirq) (0.2.9)\n",
            "Requirement already satisfied: matplotlib~=3.0 in /usr/local/lib/python3.10/dist-packages (from cirq-core==1.4.1->cirq) (3.8.0)\n",
            "Requirement already satisfied: networkx>=2.4 in /usr/local/lib/python3.10/dist-packages (from cirq-core==1.4.1->cirq) (3.4.2)\n",
            "Requirement already satisfied: numpy~=1.22 in /usr/local/lib/python3.10/dist-packages (from cirq-core==1.4.1->cirq) (1.26.4)\n",
            "Requirement already satisfied: pandas in /usr/local/lib/python3.10/dist-packages (from cirq-core==1.4.1->cirq) (2.2.2)\n",
            "Requirement already satisfied: sortedcontainers~=2.0 in /usr/local/lib/python3.10/dist-packages (from cirq-core==1.4.1->cirq) (2.4.0)\n",
            "Requirement already satisfied: scipy~=1.0 in /usr/local/lib/python3.10/dist-packages (from cirq-core==1.4.1->cirq) (1.13.1)\n",
            "Requirement already satisfied: sympy in /usr/local/lib/python3.10/dist-packages (from cirq-core==1.4.1->cirq) (1.13.1)\n",
            "Requirement already satisfied: typing-extensions>=4.2 in /usr/local/lib/python3.10/dist-packages (from cirq-core==1.4.1->cirq) (4.12.2)\n",
            "Requirement already satisfied: tqdm in /usr/local/lib/python3.10/dist-packages (from cirq-core==1.4.1->cirq) (4.66.6)\n",
            "Requirement already satisfied: google-api-core>=1.14.0 in /usr/local/lib/python3.10/dist-packages (from google-api-core[grpc]>=1.14.0->cirq-google==1.4.1->cirq) (2.19.2)\n",
            "Requirement already satisfied: proto-plus>=1.20.0 in /usr/local/lib/python3.10/dist-packages (from cirq-google==1.4.1->cirq) (1.25.0)\n",
            "Requirement already satisfied: protobuf<5.0.0,>=3.15.0 in /usr/local/lib/python3.10/dist-packages (from cirq-google==1.4.1->cirq) (4.25.5)\n",
            "Requirement already satisfied: pyquil<5.0.0,>=4.11.0 in /usr/local/lib/python3.10/dist-packages (from cirq-rigetti==1.4.1->cirq) (4.15.0)\n",
            "Requirement already satisfied: googleapis-common-protos<2.0.dev0,>=1.56.2 in /usr/local/lib/python3.10/dist-packages (from google-api-core>=1.14.0->google-api-core[grpc]>=1.14.0->cirq-google==1.4.1->cirq) (1.66.0)\n",
            "Requirement already satisfied: google-auth<3.0.dev0,>=2.14.1 in /usr/local/lib/python3.10/dist-packages (from google-api-core>=1.14.0->google-api-core[grpc]>=1.14.0->cirq-google==1.4.1->cirq) (2.27.0)\n",
            "Requirement already satisfied: grpcio<2.0dev,>=1.33.2 in /usr/local/lib/python3.10/dist-packages (from google-api-core[grpc]>=1.14.0->cirq-google==1.4.1->cirq) (1.68.1)\n",
            "Requirement already satisfied: grpcio-status<2.0.dev0,>=1.33.2 in /usr/local/lib/python3.10/dist-packages (from google-api-core[grpc]>=1.14.0->cirq-google==1.4.1->cirq) (1.62.3)\n",
            "Requirement already satisfied: contourpy>=1.0.1 in /usr/local/lib/python3.10/dist-packages (from matplotlib~=3.0->cirq-core==1.4.1->cirq) (1.3.1)\n",
            "Requirement already satisfied: cycler>=0.10 in /usr/local/lib/python3.10/dist-packages (from matplotlib~=3.0->cirq-core==1.4.1->cirq) (0.12.1)\n",
            "Requirement already satisfied: fonttools>=4.22.0 in /usr/local/lib/python3.10/dist-packages (from matplotlib~=3.0->cirq-core==1.4.1->cirq) (4.55.3)\n",
            "Requirement already satisfied: kiwisolver>=1.0.1 in /usr/local/lib/python3.10/dist-packages (from matplotlib~=3.0->cirq-core==1.4.1->cirq) (1.4.7)\n",
            "Requirement already satisfied: packaging>=20.0 in /usr/local/lib/python3.10/dist-packages (from matplotlib~=3.0->cirq-core==1.4.1->cirq) (23.2)\n",
            "Requirement already satisfied: pillow>=6.2.0 in /usr/local/lib/python3.10/dist-packages (from matplotlib~=3.0->cirq-core==1.4.1->cirq) (11.0.0)\n",
            "Requirement already satisfied: pyparsing>=2.3.1 in /usr/local/lib/python3.10/dist-packages (from matplotlib~=3.0->cirq-core==1.4.1->cirq) (3.2.0)\n",
            "Requirement already satisfied: python-dateutil>=2.7 in /usr/local/lib/python3.10/dist-packages (from matplotlib~=3.0->cirq-core==1.4.1->cirq) (2.8.2)\n",
            "Requirement already satisfied: deprecated<2.0.0,>=1.2.14 in /usr/local/lib/python3.10/dist-packages (from pyquil<5.0.0,>=4.11.0->cirq-rigetti==1.4.1->cirq) (1.2.15)\n",
            "Requirement already satisfied: matplotlib-inline<0.2.0,>=0.1.7 in /usr/local/lib/python3.10/dist-packages (from pyquil<5.0.0,>=4.11.0->cirq-rigetti==1.4.1->cirq) (0.1.7)\n",
            "Requirement already satisfied: qcs-sdk-python>=0.20.1 in /usr/local/lib/python3.10/dist-packages (from pyquil<5.0.0,>=4.11.0->cirq-rigetti==1.4.1->cirq) (0.21.5)\n",
            "Requirement already satisfied: quil>=0.13.2 in /usr/local/lib/python3.10/dist-packages (from pyquil<5.0.0,>=4.11.0->cirq-rigetti==1.4.1->cirq) (0.13.2)\n",
            "Requirement already satisfied: rpcq<4.0.0,>=3.11.0 in /usr/local/lib/python3.10/dist-packages (from pyquil<5.0.0,>=4.11.0->cirq-rigetti==1.4.1->cirq) (3.11.0)\n",
            "Requirement already satisfied: types-deprecated<2.0.0.0,>=1.2.9.3 in /usr/local/lib/python3.10/dist-packages (from pyquil<5.0.0,>=4.11.0->cirq-rigetti==1.4.1->cirq) (1.2.15.20241117)\n",
            "Requirement already satisfied: charset-normalizer<4,>=2 in /usr/local/lib/python3.10/dist-packages (from requests~=2.18->cirq-aqt==1.4.1->cirq) (3.4.0)\n",
            "Requirement already satisfied: idna<4,>=2.5 in /usr/local/lib/python3.10/dist-packages (from requests~=2.18->cirq-aqt==1.4.1->cirq) (3.10)\n",
            "Requirement already satisfied: urllib3<3,>=1.21.1 in /usr/local/lib/python3.10/dist-packages (from requests~=2.18->cirq-aqt==1.4.1->cirq) (2.2.3)\n",
            "Requirement already satisfied: certifi>=2017.4.17 in /usr/local/lib/python3.10/dist-packages (from requests~=2.18->cirq-aqt==1.4.1->cirq) (2024.8.30)\n",
            "Requirement already satisfied: pytz>=2020.1 in /usr/local/lib/python3.10/dist-packages (from pandas->cirq-core==1.4.1->cirq) (2024.2)\n",
            "Requirement already satisfied: tzdata>=2022.7 in /usr/local/lib/python3.10/dist-packages (from pandas->cirq-core==1.4.1->cirq) (2024.2)\n",
            "Requirement already satisfied: mpmath<1.4,>=1.1.0 in /usr/local/lib/python3.10/dist-packages (from sympy->cirq-core==1.4.1->cirq) (1.3.0)\n",
            "Requirement already satisfied: wrapt<2,>=1.10 in /usr/local/lib/python3.10/dist-packages (from deprecated<2.0.0,>=1.2.14->pyquil<5.0.0,>=4.11.0->cirq-rigetti==1.4.1->cirq) (1.17.0)\n",
            "Requirement already satisfied: cachetools<6.0,>=2.0.0 in /usr/local/lib/python3.10/dist-packages (from google-auth<3.0.dev0,>=2.14.1->google-api-core>=1.14.0->google-api-core[grpc]>=1.14.0->cirq-google==1.4.1->cirq) (5.5.0)\n",
            "Requirement already satisfied: pyasn1-modules>=0.2.1 in /usr/local/lib/python3.10/dist-packages (from google-auth<3.0.dev0,>=2.14.1->google-api-core>=1.14.0->google-api-core[grpc]>=1.14.0->cirq-google==1.4.1->cirq) (0.4.1)\n",
            "Requirement already satisfied: rsa<5,>=3.1.4 in /usr/local/lib/python3.10/dist-packages (from google-auth<3.0.dev0,>=2.14.1->google-api-core>=1.14.0->google-api-core[grpc]>=1.14.0->cirq-google==1.4.1->cirq) (4.9)\n",
            "Requirement already satisfied: traitlets in /usr/local/lib/python3.10/dist-packages (from matplotlib-inline<0.2.0,>=0.1.7->pyquil<5.0.0,>=4.11.0->cirq-rigetti==1.4.1->cirq) (5.7.1)\n",
            "Requirement already satisfied: six>=1.5 in /usr/local/lib/python3.10/dist-packages (from python-dateutil>=2.7->matplotlib~=3.0->cirq-core==1.4.1->cirq) (1.17.0)\n",
            "Requirement already satisfied: qcs-api-client-common>=0.10.0 in /usr/local/lib/python3.10/dist-packages (from qcs-sdk-python>=0.20.1->pyquil<5.0.0,>=4.11.0->cirq-rigetti==1.4.1->cirq) (0.10.0)\n",
            "Requirement already satisfied: msgpack<2.0,>=0.6 in /usr/local/lib/python3.10/dist-packages (from rpcq<4.0.0,>=3.11.0->pyquil<5.0.0,>=4.11.0->cirq-rigetti==1.4.1->cirq) (1.1.0)\n",
            "Requirement already satisfied: python-rapidjson in /usr/local/lib/python3.10/dist-packages (from rpcq<4.0.0,>=3.11.0->pyquil<5.0.0,>=4.11.0->cirq-rigetti==1.4.1->cirq) (1.20)\n",
            "Requirement already satisfied: pyzmq>=17 in /usr/local/lib/python3.10/dist-packages (from rpcq<4.0.0,>=3.11.0->pyquil<5.0.0,>=4.11.0->cirq-rigetti==1.4.1->cirq) (24.0.1)\n",
            "Requirement already satisfied: ruamel.yaml in /usr/local/lib/python3.10/dist-packages (from rpcq<4.0.0,>=3.11.0->pyquil<5.0.0,>=4.11.0->cirq-rigetti==1.4.1->cirq) (0.18.6)\n",
            "Requirement already satisfied: pyasn1<0.7.0,>=0.4.6 in /usr/local/lib/python3.10/dist-packages (from pyasn1-modules>=0.2.1->google-auth<3.0.dev0,>=2.14.1->google-api-core>=1.14.0->google-api-core[grpc]>=1.14.0->cirq-google==1.4.1->cirq) (0.6.1)\n",
            "Requirement already satisfied: grpc-interceptor>=0.15.0 in /usr/local/lib/python3.10/dist-packages (from qcs-api-client-common>=0.10.0->qcs-sdk-python>=0.20.1->pyquil<5.0.0,>=4.11.0->cirq-rigetti==1.4.1->cirq) (0.15.4)\n",
            "Requirement already satisfied: httpx>=0.27.0 in /usr/local/lib/python3.10/dist-packages (from qcs-api-client-common>=0.10.0->qcs-sdk-python>=0.20.1->pyquil<5.0.0,>=4.11.0->cirq-rigetti==1.4.1->cirq) (0.28.1)\n",
            "Requirement already satisfied: ruamel.yaml.clib>=0.2.7 in /usr/local/lib/python3.10/dist-packages (from ruamel.yaml->rpcq<4.0.0,>=3.11.0->pyquil<5.0.0,>=4.11.0->cirq-rigetti==1.4.1->cirq) (0.2.12)\n",
            "Requirement already satisfied: anyio in /usr/local/lib/python3.10/dist-packages (from httpx>=0.27.0->qcs-api-client-common>=0.10.0->qcs-sdk-python>=0.20.1->pyquil<5.0.0,>=4.11.0->cirq-rigetti==1.4.1->cirq) (3.7.1)\n",
            "Requirement already satisfied: httpcore==1.* in /usr/local/lib/python3.10/dist-packages (from httpx>=0.27.0->qcs-api-client-common>=0.10.0->qcs-sdk-python>=0.20.1->pyquil<5.0.0,>=4.11.0->cirq-rigetti==1.4.1->cirq) (1.0.7)\n",
            "Requirement already satisfied: h11<0.15,>=0.13 in /usr/local/lib/python3.10/dist-packages (from httpcore==1.*->httpx>=0.27.0->qcs-api-client-common>=0.10.0->qcs-sdk-python>=0.20.1->pyquil<5.0.0,>=4.11.0->cirq-rigetti==1.4.1->cirq) (0.14.0)\n",
            "Requirement already satisfied: sniffio>=1.1 in /usr/local/lib/python3.10/dist-packages (from anyio->httpx>=0.27.0->qcs-api-client-common>=0.10.0->qcs-sdk-python>=0.20.1->pyquil<5.0.0,>=4.11.0->cirq-rigetti==1.4.1->cirq) (1.3.1)\n",
            "Requirement already satisfied: exceptiongroup in /usr/local/lib/python3.10/dist-packages (from anyio->httpx>=0.27.0->qcs-api-client-common>=0.10.0->qcs-sdk-python>=0.20.1->pyquil<5.0.0,>=4.11.0->cirq-rigetti==1.4.1->cirq) (1.2.2)\n"
          ]
        }
      ],
      "source": [
        "import IPython\n",
        "\n",
        "def in_colab():\n",
        "    try:\n",
        "        import google.colab\n",
        "        return True\n",
        "    except:\n",
        "        return False\n",
        "\n",
        "path_files = \"./\" if in_colab() else \"../qworld/include/\"\n",
        "\n",
        "SolutionToTask1 = lambda: IPython.display.display(IPython.display.Javascript('window.open(\"{url}\");'.format(url='https://colab.research.google.com/drive/1o3MapxiIJJ_s1rftfVUUO8pdMAZTxQfZ#scrollTo=V1hSncbJg9re' if in_colab() else 'Order_Finding_Algorithm_Solutions.ipynb#task1')))\n",
        "SolutionToTask2 = lambda: IPython.display.display(IPython.display.Javascript('window.open(\"{url}\");'.format(url='https://colab.research.google.com/drive/1o3MapxiIJJ_s1rftfVUUO8pdMAZTxQfZ#scrollTo=zo5SZP_Gg9rf' if in_colab() else 'Order_Finding_Algorithm_Solutions.ipynb#task2')))\n",
        "SolutionToTask3 = lambda: IPython.display.display(IPython.display.Javascript('window.open(\"{url}\");'.format(url='https://colab.research.google.com/drive/1o3MapxiIJJ_s1rftfVUUO8pdMAZTxQfZ#scrollTo=SBXhjqJAg9rf' if in_colab() else 'Order_Finding_Algorithm_Solutions.ipynb#task3')))\n",
        "SolutionToTask4 = lambda: IPython.display.display(IPython.display.Javascript('window.open(\"{url}\");'.format(url='https://colab.research.google.com/drive/1o3MapxiIJJ_s1rftfVUUO8pdMAZTxQfZ#scrollTo=oSVPnHg5g9rg' if in_colab() else 'Order_Finding_Algorithm_Solutions.ipynb#task4')))\n",
        "SolutionToTask5 = lambda: IPython.display.display(IPython.display.Javascript('window.open(\"{url}\");'.format(url='https://colab.research.google.com/drive/1o3MapxiIJJ_s1rftfVUUO8pdMAZTxQfZ#scrollTo=jCltmUh5g9rg' if in_colab() else 'Order_Finding_Algorithm_Solutions.ipynb#task5')))\n",
        "SolutionToTask6 = lambda: IPython.display.display(IPython.display.Javascript('window.open(\"{url}\");'.format(url='https://colab.research.google.com/drive/1o3MapxiIJJ_s1rftfVUUO8pdMAZTxQfZ#scrollTo=0qR1Xnjjg9rh' if in_colab() else 'Order_Finding_Algorithm_Solutions.ipynb#task6')))\n",
        "\n",
        "if in_colab():\n",
        "    url = \"https://gitlab.com/qworld/qeducation/qbook101/raw/main/qworld/include/shor.py\"\n",
        "    !wget --no-cache -O shor.py {url}\n",
        "\n",
        "    !pip install cirq"
      ]
    },
    {
      "cell_type": "markdown",
      "metadata": {
        "id": "qXSVw0CxjOtq"
      },
      "source": [
        "#<h1>Task 1</h1>\n",
        "\n",
        "Let $x=5$ and $N=21$. Plot $x^ i \\mod{N}$ for $i$ values between $1$ and $50$ and find the order of $x$."
      ]
    },
    {
      "cell_type": "markdown",
      "metadata": {
        "id": "HeZKUOrsjOtq"
      },
      "source": [
        "To check out our solution, run the next cell:"
      ]
    },
    {
      "cell_type": "code",
      "execution_count": null,
      "metadata": {
        "id": "aXSPZqDRjOtq",
        "colab": {
          "base_uri": "https://localhost:8080/",
          "height": 17
        },
        "outputId": "0d4f9876-ea6e-4167-e115-f2745d67f66e"
      },
      "outputs": [
        {
          "output_type": "display_data",
          "data": {
            "text/plain": [
              "<IPython.core.display.Javascript object>"
            ],
            "application/javascript": [
              "window.open(\"https://colab.research.google.com/drive/1o3MapxiIJJ_s1rftfVUUO8pdMAZTxQfZ#scrollTo=V1hSncbJg9re\");"
            ]
          },
          "metadata": {}
        }
      ],
      "source": [
        "SolutionToTask1()  # show solution for task 1"
      ]
    },
    {
      "cell_type": "markdown",
      "metadata": {
        "id": "Y6s87QDZjOtr"
      },
      "source": [
        "<h3>Task 2 (on paper)</h3>\n",
        "\n",
        "Let $\\ket{v_0}=\\ket{1 \\mod{N}}+\\ket{x\\mod{N}}+\\ket{x^2\\mod{N}}+ \\cdots + \\ket{x^{r-1}\\mod{N}}$.\n",
        "\n",
        "Verify that $ \\ket{v_0} $ is an eigenvector of $ U_x $ with eigenvalue 1.\n",
        "\n",
        "Let $ \\omega = e^{2 \\pi i /r} $.\n",
        "\n",
        "We define $\\ket{v_1}=\\ket{1 \\mod{N}}+ \\omega^{-1}\\ket{x\\mod{N}}+\\omega^{-2}\\ket{x^2\\mod{N}}+ \\cdots + \\omega^{-(r-1)}  \\ket{x^{r-1}\\mod{N}}$\n",
        "\n",
        "Verify that $ \\ket{v_1} $ is also an eigenvector of $ U_x $ with eigenvalue $ \\omega $."
      ]
    },
    {
      "cell_type": "markdown",
      "metadata": {
        "id": "xs2lYN7ZjOtr"
      },
      "source": [
        "To check out our solution, run the next cell:"
      ]
    },
    {
      "cell_type": "code",
      "execution_count": null,
      "metadata": {
        "id": "ZXq1L4Z5jOtr"
      },
      "outputs": [],
      "source": [
        "SolutionToTask2()  # show solution for task 2"
      ]
    },
    {
      "cell_type": "markdown",
      "metadata": {
        "id": "rO2Z6DgZjOts"
      },
      "source": [
        "<h3>Task 3 (on paper)</h3>\n",
        "\n",
        "Show that $\\displaystyle \\frac{1}{\\sqrt{r}}\\sum_{s=0}^{r-1}\\ket{u_s}= \\ket{1}$."
      ]
    },
    {
      "cell_type": "markdown",
      "metadata": {
        "id": "szdWjamxjOts"
      },
      "source": [
        "To check out our solution, run the next cell:"
      ]
    },
    {
      "cell_type": "code",
      "execution_count": null,
      "metadata": {
        "id": "PA-fXQhwjOts"
      },
      "outputs": [],
      "source": [
        "SolutionToTask3()  # show solution for task 3"
      ]
    },
    {
      "cell_type": "markdown",
      "metadata": {
        "id": "ldLOvvGGjOt4"
      },
      "source": [
        "<h3>Task 4</h3>\n",
        "\n",
        "Find the continued fractions expression for $\\frac{31}{13}$ and the convergents first using pen and paper and then using the functions defined above."
      ]
    },
    {
      "cell_type": "code",
      "execution_count": null,
      "metadata": {
        "id": "V6VNNecwjOt4"
      },
      "outputs": [],
      "source": [
        "#Your code here\n",
        "\n"
      ]
    },
    {
      "cell_type": "markdown",
      "metadata": {
        "id": "D3ypS8x4jOt4"
      },
      "source": [
        "To check out our solution, run the next cell:"
      ]
    },
    {
      "cell_type": "code",
      "execution_count": null,
      "metadata": {
        "id": "4l_rPn16jOt4"
      },
      "outputs": [],
      "source": [
        "SolutionToTask4()  # show solution for task 4"
      ]
    },
    {
      "cell_type": "markdown",
      "metadata": {
        "id": "ms1r9uLqjOt4"
      },
      "source": [
        "<a id =\"task5\"></a>\n",
        "<h3>Task 5</h3>\n",
        "\n",
        "You are given a function named `opUx` which returns the gate implementing $ U_x \\ket{y} \\rightarrow \\ket{xy {\\mod{N}}}$."
      ]
    },
    {
      "cell_type": "code",
      "execution_count": null,
      "metadata": {
        "id": "QKS9Ir4sjOt4"
      },
      "outputs": [],
      "source": [
        "import cirq\n",
        "import numpy as np\n",
        "\n",
        "def opUx(N, x):\n",
        "\n",
        "    k = 1\n",
        "    while(N > 2**k):\n",
        "        k = k + 1\n",
        "\n",
        "    u = np.zeros([2**k, 2**k], dtype = int)\n",
        "\n",
        "    for i in range(N):\n",
        "        u[x*i % N][i] = 1\n",
        "    for i in range(N, 2**k):\n",
        "        u[i][i] = 1\n",
        "\n",
        "    return cirq.MatrixGate(u, name='Ux').controlled()\n"
      ]
    },
    {
      "cell_type": "markdown",
      "metadata": {
        "id": "qvvlQD2UjOt4"
      },
      "source": [
        "_In order to use the function you should pass $N$ and $x$ as parameter: `Ux = opUx(N, x)`._"
      ]
    },
    {
      "cell_type": "markdown",
      "metadata": {
        "id": "19MmJKVHjOt4"
      },
      "source": [
        "For $N=20$ and $x=3$, use phase estimation procedure to find the estimates for $\\frac{s}{r}$.\n",
        "\n",
        "Pick the correct values for $t$ and $L$.\n",
        "\n",
        "Use `myInvQFT` function you have already implemented [here](https://colab.research.google.com/drive/1C0_tK9KD7iHrsmwqdsHtG6i_J0CYs85o?usp=sharing#scrollTo=leUvkPgoA7mb).\n",
        "\n",
        "Detect the outcomes with peak frequencies (will be used in the next task)."
      ]
    },
    {
      "cell_type": "code",
      "execution_count": null,
      "metadata": {
        "id": "eKnNixPJjOt5"
      },
      "outputs": [],
      "source": [
        "#\n",
        "# Your code here\n",
        "#"
      ]
    },
    {
      "cell_type": "markdown",
      "metadata": {
        "id": "ihGql4HkjOt5"
      },
      "source": [
        "To check out our solution, run the next cell:"
      ]
    },
    {
      "cell_type": "code",
      "execution_count": null,
      "metadata": {
        "id": "iIR6O3ypjOt5",
        "colab": {
          "base_uri": "https://localhost:8080/",
          "height": 17
        },
        "outputId": "75a4a214-ebf0-4ed2-c6e9-b59f4b54d803"
      },
      "outputs": [
        {
          "output_type": "display_data",
          "data": {
            "text/plain": [
              "<IPython.core.display.Javascript object>"
            ],
            "application/javascript": [
              "window.open(\"https://colab.research.google.com/drive/1o3MapxiIJJ_s1rftfVUUO8pdMAZTxQfZ#scrollTo=jCltmUh5g9rg\");"
            ]
          },
          "metadata": {}
        }
      ],
      "source": [
        "SolutionToTask5()  # show solution for task 5"
      ]
    },
    {
      "cell_type": "markdown",
      "metadata": {
        "id": "LaTe0QtyjOt5"
      },
      "source": [
        "<a id =\"task6\"></a>\n",
        "<h3>Task 6</h3>\n",
        "\n",
        "For each one of the possible outcomes in Task 5, try to find out the value of $r$ using continued fractions algorithm.\n",
        "\n",
        "You can use the functions defined above."
      ]
    },
    {
      "cell_type": "code",
      "execution_count": null,
      "metadata": {
        "id": "eDnM4U2ujOt5"
      },
      "outputs": [],
      "source": [
        "#\n",
        "# Your code here\n",
        "#"
      ]
    },
    {
      "cell_type": "markdown",
      "metadata": {
        "id": "aBwYobCzjOt5"
      },
      "source": [
        "To check out our solution, run the next cell:"
      ]
    },
    {
      "cell_type": "code",
      "execution_count": null,
      "metadata": {
        "id": "zes7qUjWjOt5"
      },
      "outputs": [],
      "source": [
        "SolutionToTask6()  # show solution for task 6"
      ]
    }
  ],
  "metadata": {
    "kernelspec": {
      "display_name": "Python 3 (ipykernel)",
      "language": "python",
      "name": "python3"
    },
    "language_info": {
      "codemirror_mode": {
        "name": "ipython",
        "version": 3
      },
      "file_extension": ".py",
      "mimetype": "text/x-python",
      "name": "python",
      "nbconvert_exporter": "python",
      "pygments_lexer": "ipython3",
      "version": "3.11.4"
    },
    "colab": {
      "provenance": [],
      "collapsed_sections": [
        "shsGvhL4jOtp"
      ],
      "include_colab_link": true
    }
  },
  "nbformat": 4,
  "nbformat_minor": 0
}