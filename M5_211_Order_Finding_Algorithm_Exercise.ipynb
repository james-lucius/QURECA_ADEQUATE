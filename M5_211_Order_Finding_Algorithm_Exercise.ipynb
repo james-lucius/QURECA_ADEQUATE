{
  "cells": [
    {
      "cell_type": "markdown",
      "metadata": {
        "id": "view-in-github",
        "colab_type": "text"
      },
      "source": [
        "<a href=\"https://colab.research.google.com/github/james-lucius/qureca_ADEQUATE/blob/main/M5_211_Order_Finding_Algorithm_Exercise.ipynb\" target=\"_parent\"><img src=\"https://colab.research.google.com/assets/colab-badge.svg\" alt=\"Open In Colab\"/></a>"
      ]
    },
    {
      "cell_type": "markdown",
      "source": [
        "<img src=\"https://gitlab.com/qworld/qeducation/educational-materials/adequate-qbook1/raw/main/qworld/images/adq_1.png\" align=\"left\" width=450></a>\n",
        "$ \\newcommand{\\bra}[1]{\\langle #1|} $\n",
        "$ \\newcommand{\\ket}[1]{|#1\\rangle} $\n",
        "$ \\newcommand{\\braket}[2]{\\langle #1|#2\\rangle} $\n",
        "$ \\newcommand{\\dot}[2]{ #1 \\cdot #2} $\n",
        "$ \\newcommand{\\biginner}[2]{\\left\\langle #1,#2\\right\\rangle} $\n",
        "$ \\newcommand{\\mymatrix}[2]{\\left( \\begin{array}{#1} #2\\end{array} \\right)} $\n",
        "$ \\newcommand{\\myvector}[1]{\\mymatrix{c}{#1}} $\n",
        "$ \\newcommand{\\myrvector}[1]{\\mymatrix{r}{#1}} $\n",
        "$ \\newcommand{\\mypar}[1]{\\left( #1 \\right)} $\n",
        "$ \\newcommand{\\mybigpar}[1]{ \\Big( #1 \\Big)} $\n",
        "$ \\newcommand{\\sqrttwo}{\\frac{1}{\\sqrt{2}}} $\n",
        "$ \\newcommand{\\dsqrttwo}{\\dfrac{1}{\\sqrt{2}}} $\n",
        "$ \\newcommand{\\onehalf}{\\frac{1}{2}} $\n",
        "$ \\newcommand{\\donehalf}{\\dfrac{1}{2}} $\n",
        "$ \\newcommand{\\hadamard}{ \\mymatrix{rr}{ \\sqrttwo & \\sqrttwo \\\\ \\sqrttwo & -\\sqrttwo }} $\n",
        "$ \\newcommand{\\vzero}{\\myvector{1\\\\0}} $\n",
        "$ \\newcommand{\\vone}{\\myvector{0\\\\1}} $\n",
        "$ \\newcommand{\\stateplus}{\\myvector{ \\sqrttwo \\\\  \\sqrttwo } } $\n",
        "$ \\newcommand{\\stateminus}{ \\myrvector{ \\sqrttwo \\\\ -\\sqrttwo } } $\n",
        "$ \\newcommand{\\myarray}[2]{ \\begin{array}{#1}#2\\end{array}} $\n",
        "$ \\newcommand{\\X}{ \\mymatrix{cc}{0 & 1 \\\\ 1 & 0}  } $\n",
        "$ \\newcommand{\\I}{ \\mymatrix{rr}{1 & 0 \\\\ 0 & 1}  } $\n",
        "$ \\newcommand{\\Z}{ \\mymatrix{rr}{1 & 0 \\\\ 0 & -1}  } $\n",
        "$ \\newcommand{\\Htwo}{ \\mymatrix{rrrr}{ \\frac{1}{2} & \\frac{1}{2} & \\frac{1}{2} & \\frac{1}{2} \\\\ \\frac{1}{2} & -\\frac{1}{2} & \\frac{1}{2} & -\\frac{1}{2} \\\\ \\frac{1}{2} & \\frac{1}{2} & -\\frac{1}{2} & -\\frac{1}{2} \\\\ \\frac{1}{2} & -\\frac{1}{2} & -\\frac{1}{2} & \\frac{1}{2} } } $\n",
        "$ \\newcommand{\\CNOT}{ \\mymatrix{cccc}{1 & 0 & 0 & 0 \\\\ 0 & 1 & 0 & 0 \\\\ 0 & 0 & 0 & 1 \\\\ 0 & 0 & 1 & 0} } $\n",
        "$ \\newcommand{\\norm}[1]{ \\left\\lVert #1 \\right\\rVert } $\n",
        "$ \\newcommand{\\pstate}[1]{ \\lceil \\mspace{-1mu} #1 \\mspace{-1.5mu} \\rfloor } $\n",
        "$ \\newcommand{\\greenbit}[1] {\\mathbf{{\\color{green}#1}}} $\n",
        "$ \\newcommand{\\bluebit}[1] {\\mathbf{{\\color{blue}#1}}} $\n",
        "$ \\newcommand{\\redbit}[1] {\\mathbf{{\\color{red}#1}}} $\n",
        "$ \\newcommand{\\brownbit}[1] {\\mathbf{{\\color{brown}#1}}} $\n",
        "$ \\newcommand{\\blackbit}[1] {\\mathbf{{\\color{black}#1}}} $"
      ],
      "metadata": {
        "id": "Lqew_Gsei1pD"
      }
    },
    {
      "cell_type": "markdown",
      "metadata": {
        "id": "EYtaCizqjOtp"
      },
      "source": [
        "_prepared by Özlem Salehi and Abuzer Yakaryilmaz_\n",
        "<br><br>\n",
        "_Cirq adaptation by Claudia Zendejas-Morales_"
      ]
    },
    {
      "cell_type": "markdown",
      "metadata": {
        "id": "f8ZM7Q_ijOtp"
      },
      "source": [
        "<font size=\"28px\" style=\"font-size:28px;\" align=\"left\"><b>Exercise: Order Finding Algorithm </b></font>\n",
        "<br>\n",
        "<br><br>"
      ]
    },
    {
      "cell_type": "markdown",
      "metadata": {
        "jp-MarkdownHeadingCollapsed": true,
        "id": "shsGvhL4jOtp"
      },
      "source": [
        "##### <font color=\"#08b806\">Please execute the following cell, it is necessary to distinguish between your local environment and Google Colab's"
      ]
    },
    {
      "cell_type": "code",
      "execution_count": 12,
      "metadata": {
        "id": "25mhC5cMjOtp",
        "colab": {
          "base_uri": "https://localhost:8080/"
        },
        "outputId": "825cfe03-278f-42a1-ab99-45d2301ff008"
      },
      "outputs": [
        {
          "output_type": "stream",
          "name": "stdout",
          "text": [
            "--2025-07-03 21:03:34--  https://gitlab.com/qworld/qeducation/qbook101/raw/main/qworld/include/shor.py\n",
            "Resolving gitlab.com (gitlab.com)... 172.65.251.78, 2606:4700:90:0:f22e:fbec:5bed:a9b9\n",
            "Connecting to gitlab.com (gitlab.com)|172.65.251.78|:443... connected.\n",
            "HTTP request sent, awaiting response... 200 OK\n",
            "Length: 569 [text/plain]\n",
            "Saving to: ‘shor.py’\n",
            "\n",
            "shor.py             100%[===================>]     569  --.-KB/s    in 0s      \n",
            "\n",
            "2025-07-03 21:03:34 (303 MB/s) - ‘shor.py’ saved [569/569]\n",
            "\n",
            "Requirement already satisfied: cirq in /usr/local/lib/python3.11/dist-packages (1.5.0)\n",
            "Requirement already satisfied: cirq-aqt==1.5.0 in /usr/local/lib/python3.11/dist-packages (from cirq) (1.5.0)\n",
            "Requirement already satisfied: cirq-core==1.5.0 in /usr/local/lib/python3.11/dist-packages (from cirq) (1.5.0)\n",
            "Requirement already satisfied: cirq-google==1.5.0 in /usr/local/lib/python3.11/dist-packages (from cirq) (1.5.0)\n",
            "Requirement already satisfied: cirq-ionq==1.5.0 in /usr/local/lib/python3.11/dist-packages (from cirq) (1.5.0)\n",
            "Requirement already satisfied: cirq-pasqal==1.5.0 in /usr/local/lib/python3.11/dist-packages (from cirq) (1.5.0)\n",
            "Requirement already satisfied: cirq-web==1.5.0 in /usr/local/lib/python3.11/dist-packages (from cirq) (1.5.0)\n",
            "Requirement already satisfied: requests~=2.32 in /usr/local/lib/python3.11/dist-packages (from cirq-aqt==1.5.0->cirq) (2.32.3)\n",
            "Requirement already satisfied: attrs>=21.3.0 in /usr/local/lib/python3.11/dist-packages (from cirq-core==1.5.0->cirq) (25.3.0)\n",
            "Requirement already satisfied: duet>=0.2.8 in /usr/local/lib/python3.11/dist-packages (from cirq-core==1.5.0->cirq) (0.2.9)\n",
            "Requirement already satisfied: matplotlib~=3.7 in /usr/local/lib/python3.11/dist-packages (from cirq-core==1.5.0->cirq) (3.10.0)\n",
            "Requirement already satisfied: networkx~=3.1 in /usr/local/lib/python3.11/dist-packages (from cirq-core==1.5.0->cirq) (3.5)\n",
            "Requirement already satisfied: numpy>=1.25 in /usr/local/lib/python3.11/dist-packages (from cirq-core==1.5.0->cirq) (2.0.2)\n",
            "Requirement already satisfied: pandas~=2.0 in /usr/local/lib/python3.11/dist-packages (from cirq-core==1.5.0->cirq) (2.2.2)\n",
            "Requirement already satisfied: sortedcontainers~=2.0 in /usr/local/lib/python3.11/dist-packages (from cirq-core==1.5.0->cirq) (2.4.0)\n",
            "Requirement already satisfied: scipy~=1.11 in /usr/local/lib/python3.11/dist-packages (from cirq-core==1.5.0->cirq) (1.15.3)\n",
            "Requirement already satisfied: sympy in /usr/local/lib/python3.11/dist-packages (from cirq-core==1.5.0->cirq) (1.13.1)\n",
            "Requirement already satisfied: typing_extensions>=4.2 in /usr/local/lib/python3.11/dist-packages (from cirq-core==1.5.0->cirq) (4.14.0)\n",
            "Requirement already satisfied: tqdm>=4.12 in /usr/local/lib/python3.11/dist-packages (from cirq-core==1.5.0->cirq) (4.67.1)\n",
            "Requirement already satisfied: google-api-core>=1.14.0 in /usr/local/lib/python3.11/dist-packages (from google-api-core[grpc]>=1.14.0->cirq-google==1.5.0->cirq) (2.25.1)\n",
            "Requirement already satisfied: proto-plus>=1.20.0 in /usr/local/lib/python3.11/dist-packages (from cirq-google==1.5.0->cirq) (1.26.1)\n",
            "Requirement already satisfied: protobuf<6.0,>=4.25 in /usr/local/lib/python3.11/dist-packages (from cirq-google==1.5.0->cirq) (5.29.5)\n",
            "Requirement already satisfied: typedunits in /usr/local/lib/python3.11/dist-packages (from cirq-google==1.5.0->cirq) (0.0.1.dev20250509200845)\n",
            "Requirement already satisfied: googleapis-common-protos<2.0.0,>=1.56.2 in /usr/local/lib/python3.11/dist-packages (from google-api-core>=1.14.0->google-api-core[grpc]>=1.14.0->cirq-google==1.5.0->cirq) (1.70.0)\n",
            "Requirement already satisfied: google-auth<3.0.0,>=2.14.1 in /usr/local/lib/python3.11/dist-packages (from google-api-core>=1.14.0->google-api-core[grpc]>=1.14.0->cirq-google==1.5.0->cirq) (2.38.0)\n",
            "Requirement already satisfied: grpcio<2.0.0,>=1.33.2 in /usr/local/lib/python3.11/dist-packages (from google-api-core[grpc]>=1.14.0->cirq-google==1.5.0->cirq) (1.73.1)\n",
            "Requirement already satisfied: grpcio-status<2.0.0,>=1.33.2 in /usr/local/lib/python3.11/dist-packages (from google-api-core[grpc]>=1.14.0->cirq-google==1.5.0->cirq) (1.71.2)\n",
            "Requirement already satisfied: contourpy>=1.0.1 in /usr/local/lib/python3.11/dist-packages (from matplotlib~=3.7->cirq-core==1.5.0->cirq) (1.3.2)\n",
            "Requirement already satisfied: cycler>=0.10 in /usr/local/lib/python3.11/dist-packages (from matplotlib~=3.7->cirq-core==1.5.0->cirq) (0.12.1)\n",
            "Requirement already satisfied: fonttools>=4.22.0 in /usr/local/lib/python3.11/dist-packages (from matplotlib~=3.7->cirq-core==1.5.0->cirq) (4.58.4)\n",
            "Requirement already satisfied: kiwisolver>=1.3.1 in /usr/local/lib/python3.11/dist-packages (from matplotlib~=3.7->cirq-core==1.5.0->cirq) (1.4.8)\n",
            "Requirement already satisfied: packaging>=20.0 in /usr/local/lib/python3.11/dist-packages (from matplotlib~=3.7->cirq-core==1.5.0->cirq) (24.2)\n",
            "Requirement already satisfied: pillow>=8 in /usr/local/lib/python3.11/dist-packages (from matplotlib~=3.7->cirq-core==1.5.0->cirq) (11.2.1)\n",
            "Requirement already satisfied: pyparsing>=2.3.1 in /usr/local/lib/python3.11/dist-packages (from matplotlib~=3.7->cirq-core==1.5.0->cirq) (3.2.3)\n",
            "Requirement already satisfied: python-dateutil>=2.7 in /usr/local/lib/python3.11/dist-packages (from matplotlib~=3.7->cirq-core==1.5.0->cirq) (2.9.0.post0)\n",
            "Requirement already satisfied: pytz>=2020.1 in /usr/local/lib/python3.11/dist-packages (from pandas~=2.0->cirq-core==1.5.0->cirq) (2025.2)\n",
            "Requirement already satisfied: tzdata>=2022.7 in /usr/local/lib/python3.11/dist-packages (from pandas~=2.0->cirq-core==1.5.0->cirq) (2025.2)\n",
            "Requirement already satisfied: charset-normalizer<4,>=2 in /usr/local/lib/python3.11/dist-packages (from requests~=2.32->cirq-aqt==1.5.0->cirq) (3.4.2)\n",
            "Requirement already satisfied: idna<4,>=2.5 in /usr/local/lib/python3.11/dist-packages (from requests~=2.32->cirq-aqt==1.5.0->cirq) (3.10)\n",
            "Requirement already satisfied: urllib3<3,>=1.21.1 in /usr/local/lib/python3.11/dist-packages (from requests~=2.32->cirq-aqt==1.5.0->cirq) (2.4.0)\n",
            "Requirement already satisfied: certifi>=2017.4.17 in /usr/local/lib/python3.11/dist-packages (from requests~=2.32->cirq-aqt==1.5.0->cirq) (2025.6.15)\n",
            "Requirement already satisfied: mpmath<1.4,>=1.1.0 in /usr/local/lib/python3.11/dist-packages (from sympy->cirq-core==1.5.0->cirq) (1.3.0)\n",
            "Requirement already satisfied: cython>=3.0.0 in /usr/local/lib/python3.11/dist-packages (from typedunits->cirq-google==1.5.0->cirq) (3.0.12)\n",
            "Requirement already satisfied: cachetools<6.0,>=2.0.0 in /usr/local/lib/python3.11/dist-packages (from google-auth<3.0.0,>=2.14.1->google-api-core>=1.14.0->google-api-core[grpc]>=1.14.0->cirq-google==1.5.0->cirq) (5.5.2)\n",
            "Requirement already satisfied: pyasn1-modules>=0.2.1 in /usr/local/lib/python3.11/dist-packages (from google-auth<3.0.0,>=2.14.1->google-api-core>=1.14.0->google-api-core[grpc]>=1.14.0->cirq-google==1.5.0->cirq) (0.4.2)\n",
            "Requirement already satisfied: rsa<5,>=3.1.4 in /usr/local/lib/python3.11/dist-packages (from google-auth<3.0.0,>=2.14.1->google-api-core>=1.14.0->google-api-core[grpc]>=1.14.0->cirq-google==1.5.0->cirq) (4.9.1)\n",
            "Requirement already satisfied: six>=1.5 in /usr/local/lib/python3.11/dist-packages (from python-dateutil>=2.7->matplotlib~=3.7->cirq-core==1.5.0->cirq) (1.17.0)\n",
            "Requirement already satisfied: pyasn1<0.7.0,>=0.6.1 in /usr/local/lib/python3.11/dist-packages (from pyasn1-modules>=0.2.1->google-auth<3.0.0,>=2.14.1->google-api-core>=1.14.0->google-api-core[grpc]>=1.14.0->cirq-google==1.5.0->cirq) (0.6.1)\n"
          ]
        }
      ],
      "source": [
        "import IPython\n",
        "\n",
        "def in_colab():\n",
        "    try:\n",
        "        import google.colab\n",
        "        return True\n",
        "    except:\n",
        "        return False\n",
        "\n",
        "path_files = \"./\" if in_colab() else \"../qworld/include/\"\n",
        "\n",
        "SolutionToTask1 = lambda: IPython.display.display(IPython.display.Javascript('window.open(\"{url}\");'.format(url='https://colab.research.google.com/drive/1o3MapxiIJJ_s1rftfVUUO8pdMAZTxQfZ#scrollTo=V1hSncbJg9re' if in_colab() else 'Order_Finding_Algorithm_Solutions.ipynb#task1')))\n",
        "SolutionToTask2 = lambda: IPython.display.display(IPython.display.Javascript('window.open(\"{url}\");'.format(url='https://colab.research.google.com/drive/1o3MapxiIJJ_s1rftfVUUO8pdMAZTxQfZ#scrollTo=zo5SZP_Gg9rf' if in_colab() else 'Order_Finding_Algorithm_Solutions.ipynb#task2')))\n",
        "SolutionToTask3 = lambda: IPython.display.display(IPython.display.Javascript('window.open(\"{url}\");'.format(url='https://colab.research.google.com/drive/1o3MapxiIJJ_s1rftfVUUO8pdMAZTxQfZ#scrollTo=SBXhjqJAg9rf' if in_colab() else 'Order_Finding_Algorithm_Solutions.ipynb#task3')))\n",
        "SolutionToTask4 = lambda: IPython.display.display(IPython.display.Javascript('window.open(\"{url}\");'.format(url='https://colab.research.google.com/drive/1o3MapxiIJJ_s1rftfVUUO8pdMAZTxQfZ#scrollTo=oSVPnHg5g9rg' if in_colab() else 'Order_Finding_Algorithm_Solutions.ipynb#task4')))\n",
        "SolutionToTask5 = lambda: IPython.display.display(IPython.display.Javascript('window.open(\"{url}\");'.format(url='https://colab.research.google.com/drive/1o3MapxiIJJ_s1rftfVUUO8pdMAZTxQfZ#scrollTo=jCltmUh5g9rg' if in_colab() else 'Order_Finding_Algorithm_Solutions.ipynb#task5')))\n",
        "SolutionToTask6 = lambda: IPython.display.display(IPython.display.Javascript('window.open(\"{url}\");'.format(url='https://colab.research.google.com/drive/1o3MapxiIJJ_s1rftfVUUO8pdMAZTxQfZ#scrollTo=0qR1Xnjjg9rh' if in_colab() else 'Order_Finding_Algorithm_Solutions.ipynb#task6')))\n",
        "\n",
        "if in_colab():\n",
        "    url = \"https://gitlab.com/qworld/qeducation/qbook101/raw/main/qworld/include/shor.py\"\n",
        "    !wget --no-cache -O shor.py {url}\n",
        "\n",
        "    !pip install cirq"
      ]
    },
    {
      "cell_type": "markdown",
      "metadata": {
        "id": "qXSVw0CxjOtq"
      },
      "source": [
        "#<h1>Task 1</h1>\n",
        "\n",
        "Let $x=5$ and $N=21$. Plot $x^ i \\mod{N}$ for $i$ values between $1$ and $50$ and find the order of $x$."
      ]
    },
    {
      "cell_type": "code",
      "source": [
        "import matplotlib.pyplot as plt\n",
        "l = []\n",
        "x = 5\n",
        "N = 21\n",
        "for i in range(1, 51): l.append((x ** i) % N)\n",
        "plt.plot(l)\n",
        "plt.show()"
      ],
      "metadata": {
        "id": "gegh1_TXHCR8",
        "outputId": "8a732cc7-7ca3-4d07-86ca-f21de02e264d",
        "colab": {
          "base_uri": "https://localhost:8080/",
          "height": 450
        }
      },
      "execution_count": 17,
      "outputs": [
        {
          "output_type": "display_data",
          "data": {
            "text/plain": [
              "<Figure size 640x480 with 1 Axes>"
            ],
            "image/png": "[encoded data removed]"
          },
          "metadata": {}
        }
      ]
    },
    {
      "cell_type": "markdown",
      "metadata": {
        "id": "HeZKUOrsjOtq"
      },
      "source": [
        "To check out our solution, run the next cell:"
      ]
    },
    {
      "cell_type": "code",
      "execution_count": null,
      "metadata": {
        "id": "aXSPZqDRjOtq",
        "colab": {
          "base_uri": "https://localhost:8080/",
          "height": 17
        },
        "outputId": "0d4f9876-ea6e-4167-e115-f2745d67f66e"
      },
      "outputs": [
        {
          "output_type": "display_data",
          "data": {
            "text/plain": [
              "<IPython.core.display.Javascript object>"
            ],
            "application/javascript": [
              "window.open(\"https://colab.research.google.com/drive/1o3MapxiIJJ_s1rftfVUUO8pdMAZTxQfZ#scrollTo=V1hSncbJg9re\");"
            ]
          },
          "metadata": {}
        }
      ],
      "source": [
        "SolutionToTask1()  # show solution for task 1"
      ]
    },
    {
      "cell_type": "markdown",
      "metadata": {
        "id": "Y6s87QDZjOtr"
      },
      "source": [
        "<h3>Task 2 (on paper)</h3>\n",
        "\n",
        "Let $\\ket{v_0}=\\ket{1 \\mod{N}}+\\ket{x\\mod{N}}+\\ket{x^2\\mod{N}}+ \\cdots + \\ket{x^{r-1}\\mod{N}}$.\n",
        "\n",
        "Verify that $ \\ket{v_0} $ is an eigenvector of $ U_x $ with eigenvalue 1.\n",
        "\n",
        "Let $ \\omega = e^{2 \\pi i /r} $.\n",
        "\n",
        "We define $\\ket{v_1}=\\ket{1 \\mod{N}}+ \\omega^{-1}\\ket{x\\mod{N}}+\\omega^{-2}\\ket{x^2\\mod{N}}+ \\cdots + \\omega^{-(r-1)}  \\ket{x^{r-1}\\mod{N}}$\n",
        "\n",
        "Verify that $ \\ket{v_1} $ is also an eigenvector of $ U_x $ with eigenvalue $ \\omega $."
      ]
    },
    {
      "cell_type": "markdown",
      "metadata": {
        "id": "xs2lYN7ZjOtr"
      },
      "source": [
        "To check out our solution, run the next cell:"
      ]
    },
    {
      "cell_type": "code",
      "execution_count": null,
      "metadata": {
        "id": "ZXq1L4Z5jOtr"
      },
      "outputs": [],
      "source": [
        "SolutionToTask2()  # show solution for task 2"
      ]
    },
    {
      "cell_type": "markdown",
      "metadata": {
        "id": "rO2Z6DgZjOts"
      },
      "source": [
        "<h3>Task 3 (on paper)</h3>\n",
        "\n",
        "Show that $\\displaystyle \\frac{1}{\\sqrt{r}}\\sum_{s=0}^{r-1}\\ket{u_s}= \\ket{1}$."
      ]
    },
    {
      "cell_type": "markdown",
      "metadata": {
        "id": "szdWjamxjOts"
      },
      "source": [
        "To check out our solution, run the next cell:"
      ]
    },
    {
      "cell_type": "code",
      "execution_count": null,
      "metadata": {
        "id": "PA-fXQhwjOts"
      },
      "outputs": [],
      "source": [
        "SolutionToTask3()  # show solution for task 3"
      ]
    },
    {
      "cell_type": "markdown",
      "metadata": {
        "id": "ldLOvvGGjOt4"
      },
      "source": [
        "<h3>Task 4</h3>\n",
        "\n",
        "Find the continued fractions expression for $\\frac{31}{13}$ and the convergents first using pen and paper and then using the functions defined above."
      ]
    },
    {
      "cell_type": "code",
      "execution_count": 13,
      "metadata": {
        "id": "V6VNNecwjOt4"
      },
      "outputs": [],
      "source": [
        "#Your code here\n",
        "quantum_file = path_files + \"shor.py\"\n",
        "%run $quantum_file"
      ]
    },
    {
      "cell_type": "code",
      "source": [
        "cf = contFrac(31 / 13)\n",
        "print(cf)\n",
        "cv = convergents(cf)\n",
        "print(cv)"
      ],
      "metadata": {
        "id": "EPf1UkoaGl0l",
        "outputId": "b87ec2eb-ac2a-43a0-8381-5c5b66c2215b",
        "colab": {
          "base_uri": "https://localhost:8080/"
        }
      },
      "execution_count": 14,
      "outputs": [
        {
          "output_type": "stream",
          "name": "stdout",
          "text": [
            "[2, 2, 1, 1, 2]\n",
            "[Fraction(2, 1), Fraction(5, 2), Fraction(7, 3), Fraction(12, 5), Fraction(31, 13)]\n"
          ]
        }
      ]
    },
    {
      "cell_type": "markdown",
      "metadata": {
        "id": "D3ypS8x4jOt4"
      },
      "source": [
        "To check out our solution, run the next cell:"
      ]
    },
    {
      "cell_type": "code",
      "execution_count": null,
      "metadata": {
        "id": "4l_rPn16jOt4"
      },
      "outputs": [],
      "source": [
        "SolutionToTask4()  # show solution for task 4"
      ]
    },
    {
      "cell_type": "markdown",
      "metadata": {
        "id": "ms1r9uLqjOt4"
      },
      "source": [
        "<a id =\"task5\"></a>\n",
        "<h3>Task 5</h3>\n",
        "\n",
        "You are given a function named `opUx` which returns the gate implementing $ U_x \\ket{y} \\rightarrow \\ket{xy {\\mod{N}}}$."
      ]
    },
    {
      "cell_type": "code",
      "execution_count": 16,
      "metadata": {
        "id": "QKS9Ir4sjOt4"
      },
      "outputs": [],
      "source": [
        "import cirq\n",
        "import numpy as np\n",
        "\n",
        "def opUx(N, x):\n",
        "\n",
        "    k = 1\n",
        "    while(N > 2**k):\n",
        "        k = k + 1\n",
        "\n",
        "    u = np.zeros([2**k, 2**k], dtype = int)\n",
        "\n",
        "    for i in range(N):\n",
        "        u[x*i % N][i] = 1\n",
        "    for i in range(N, 2**k):\n",
        "        u[i][i] = 1\n",
        "\n",
        "    return cirq.MatrixGate(u, name='Ux').controlled()\n"
      ]
    },
    {
      "cell_type": "markdown",
      "metadata": {
        "id": "qvvlQD2UjOt4"
      },
      "source": [
        "_In order to use the function you should pass $N$ and $x$ as parameter: `Ux = opUx(N, x)`._"
      ]
    },
    {
      "cell_type": "markdown",
      "metadata": {
        "id": "19MmJKVHjOt4"
      },
      "source": [
        "For $N=20$ and $x=3$, use phase estimation procedure to find the estimates for $\\frac{s}{r}$.\n",
        "\n",
        "Pick the correct values for $t$ and $L$.\n",
        "\n",
        "Use `myInvQFT` function you have already implemented [here](https://colab.research.google.com/drive/1C0_tK9KD7iHrsmwqdsHtG6i_J0CYs85o?usp=sharing#scrollTo=leUvkPgoA7mb).\n",
        "\n",
        "Detect the outcomes with peak frequencies (will be used in the next task)."
      ]
    },
    {
      "cell_type": "code",
      "execution_count": 18,
      "metadata": {
        "id": "eKnNixPJjOt5"
      },
      "outputs": [],
      "source": [
        "#\n",
        "# Your code here\n",
        "#\n",
        "from cirq import H, SWAP, X, measure\n",
        "from cirq.circuits import InsertStrategy\n",
        "from math import ceil, pi, log2\n",
        "import numpy as np\n",
        "\n",
        "N = 20\n",
        "x = 3\n",
        "L = ceil(log2(N))\n",
        "e = 0.1\n",
        "t = 2 * L + 1 + ceil(log2(2 + 1 / (2 * e)))\n",
        "\n",
        "def myInvQFT(qubits):\n",
        "  circuit = cirq.Circuit()\n",
        "  n = len(qubits)\n",
        "  for j in range(n // 2):\n",
        "    circuit.append(SWAP(qubits[j], qubits[n - 1 - j]), strategy = InsertStrategy.NEW)\n",
        "  for i in range(n - 1, -1, -1):\n",
        "    phase_divisor = 2 ** (n - i)\n",
        "    for j in range(n - 1, i, -1):\n",
        "      circuit.append(cirq.CZPowGate(exponent = -2 / phase_divisor).on(qubits[j], qubits[i]), strategy = InsertStrategy.NEW)\n",
        "      phase_divisor = phase_divisor / 2\n",
        "    circuit.append(H(qubits[i]), strategy = InsertStrategy.NEW)\n",
        "  return circuit"
      ]
    },
    {
      "cell_type": "code",
      "source": [
        "circuit = cirq.Circuit()\n",
        "reg1 = [cirq.LineQubit(i) for i in range(t)]\n",
        "reg2 = [cirq.LineQubit(i) for i in range(t, t + L)]\n",
        "\n",
        "circuit.append(H.on_each(reg1))\n",
        "circuit.append(X(reg2[-1]))\n",
        "\n",
        "Ux = opUx(N, x)\n",
        "for j in range(t):\n",
        "  Uxj = Ux ** (2 ** j)\n",
        "  circuit.append(Uxj(reg1[t - j - 1], * reg2))\n",
        "\n",
        "circuit += myInvQFT(reg1)\n",
        "circuit.append(measure(*reg1, key = 'result'))\n",
        "\n",
        "sim = cirq.Simulator()\n",
        "samples = sim.run(circuit, repetitions = 1000)\n",
        "\n",
        "def bitstring(bits):\n",
        "  return \"\".join(str(int(b)) for b in bits)\n",
        "\n",
        "print(\"outcomes in binary:\")\n",
        "print(samples.histogram(key = 'result', fold_func = bitstring))\n",
        "print()\n",
        "print(\"outcomes in decimal:\")\n",
        "outcomes = samples.histogram(key = 'result')\n",
        "print(outcomes)\n",
        "for outcome in outcomes:\n",
        "  print(f\"{outcome}\\tobserved {outcomes[outcome]} times\")"
      ],
      "metadata": {
        "id": "0WZ7Ip_MI-H9",
        "outputId": "b4fd9442-809d-41ff-add8-856494d1b032",
        "colab": {
          "base_uri": "https://localhost:8080/"
        }
      },
      "execution_count": 21,
      "outputs": [
        {
          "output_type": "stream",
          "name": "stdout",
          "text": [
            "outcomes in binary:\n",
            "Counter({'11000000000000': 275, '10000000000000': 259, '01000000000000': 240, '00000000000000': 226})\n",
            "\n",
            "outcomes in decimal:\n",
            "Counter({12288: 275, 8192: 259, 4096: 240, 0: 226})\n",
            "8192\tobserved 259 times\n",
            "4096\tobserved 240 times\n",
            "0\tobserved 226 times\n",
            "12288\tobserved 275 times\n"
          ]
        }
      ]
    },
    {
      "cell_type": "markdown",
      "metadata": {
        "id": "ihGql4HkjOt5"
      },
      "source": [
        "To check out our solution, run the next cell:"
      ]
    },
    {
      "cell_type": "code",
      "execution_count": null,
      "metadata": {
        "id": "iIR6O3ypjOt5",
        "colab": {
          "base_uri": "https://localhost:8080/",
          "height": 17
        },
        "outputId": "75a4a214-ebf0-4ed2-c6e9-b59f4b54d803"
      },
      "outputs": [
        {
          "output_type": "display_data",
          "data": {
            "text/plain": [
              "<IPython.core.display.Javascript object>"
            ],
            "application/javascript": [
              "window.open(\"https://colab.research.google.com/drive/1o3MapxiIJJ_s1rftfVUUO8pdMAZTxQfZ#scrollTo=jCltmUh5g9rg\");"
            ]
          },
          "metadata": {}
        }
      ],
      "source": [
        "SolutionToTask5()  # show solution for task 5"
      ]
    },
    {
      "cell_type": "markdown",
      "metadata": {
        "id": "LaTe0QtyjOt5"
      },
      "source": [
        "<a id =\"task6\"></a>\n",
        "<h3>Task 6</h3>\n",
        "\n",
        "For each one of the possible outcomes in Task 5, try to find out the value of $r$ using continued fractions algorithm.\n",
        "\n",
        "You can use the functions defined above."
      ]
    },
    {
      "cell_type": "code",
      "execution_count": 24,
      "metadata": {
        "id": "eDnM4U2ujOt5",
        "outputId": "9993fd0b-002f-4bc2-f9eb-1cfd7cdaf7df",
        "colab": {
          "base_uri": "https://localhost:8080/"
        }
      },
      "outputs": [
        {
          "output_type": "stream",
          "name": "stdout",
          "text": [
            "8192\n",
            "[Fraction(0, 1), Fraction(1, 2)]\n",
            "\n",
            "4096\n",
            "[Fraction(0, 1), Fraction(1, 4)]\n",
            "\n",
            "0\n",
            "[Fraction(0, 1)]\n",
            "\n",
            "12288\n",
            "[Fraction(0, 1), Fraction(1, 1), Fraction(3, 4)]\n",
            "\n"
          ]
        }
      ],
      "source": [
        "#\n",
        "# Your code here\n",
        "#\n",
        "for outcome in outcomes:\n",
        "  print(outcome)\n",
        "  cf = contFrac(outcome / 2 ** t)\n",
        "  cv = convergents(cf)\n",
        "  print(cv)\n",
        "  print()"
      ]
    },
    {
      "cell_type": "markdown",
      "metadata": {
        "id": "aBwYobCzjOt5"
      },
      "source": [
        "To check out our solution, run the next cell:"
      ]
    },
    {
      "cell_type": "code",
      "execution_count": null,
      "metadata": {
        "id": "zes7qUjWjOt5"
      },
      "outputs": [],
      "source": [
        "SolutionToTask6()  # show solution for task 6"
      ]
    }
  ],
  "metadata": {
    "kernelspec": {
      "display_name": "Python 3 (ipykernel)",
      "language": "python",
      "name": "python3"
    },
    "language_info": {
      "codemirror_mode": {
        "name": "ipython",
        "version": 3
      },
      "file_extension": ".py",
      "mimetype": "text/x-python",
      "name": "python",
      "nbconvert_exporter": "python",
      "pygments_lexer": "ipython3",
      "version": "3.11.4"
    },
    "colab": {
      "provenance": [],
      "collapsed_sections": [
        "shsGvhL4jOtp"
      ],
      "include_colab_link": true
    }
  },
  "nbformat": 4,
  "nbformat_minor": 0
}