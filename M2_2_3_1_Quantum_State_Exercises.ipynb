{
  "cells": [
    {
      "cell_type": "markdown",
      "metadata": {
        "id": "view-in-github",
        "colab_type": "text"
      },
      "source": [
        "<a href=\"https://colab.research.google.com/github/james-lucius/QURECA_ADEQUATE/blob/main/M2_2_3_1_Quantum_State_Exercises.ipynb\" target=\"_parent\"><img src=\"https://colab.research.google.com/assets/colab-badge.svg\" alt=\"Open In Colab\"/></a>"
      ]
    },
    {
      "cell_type": "markdown",
      "source": [
        "<img src=\"https://gitlab.com/qworld/qeducation/educational-materials/adequate-qbook1/raw/main/qworld/images/adq_1.png\" align=\"left\" width=450></a>\n",
        "\n",
        "\n",
        "\n",
        "$ \\newcommand{\\bra}[1]{\\langle #1|} $\n",
        "$ \\newcommand{\\ket}[1]{|#1\\rangle} $\n",
        "$ \\newcommand{\\braket}[2]{\\langle #1|#2\\rangle} $\n",
        "$ \\newcommand{\\dot}[2]{ #1 \\cdot #2} $\n",
        "$ \\newcommand{\\biginner}[2]{\\left\\langle #1,#2\\right\\rangle} $\n",
        "$ \\newcommand{\\mymatrix}[2]{\\left( \\begin{array}{#1} #2\\end{array} \\right)} $\n",
        "$ \\newcommand{\\myvector}[1]{\\mymatrix{c}{#1}} $\n",
        "$ \\newcommand{\\myrvector}[1]{\\mymatrix{r}{#1}} $\n",
        "$ \\newcommand{\\mypar}[1]{\\left( #1 \\right)} $\n",
        "$ \\newcommand{\\mybigpar}[1]{ \\Big( #1 \\Big)} $\n",
        "$ \\newcommand{\\sqrttwo}{\\frac{1}{\\sqrt{2}}} $\n",
        "$ \\newcommand{\\dsqrttwo}{\\dfrac{1}{\\sqrt{2}}} $\n",
        "$ \\newcommand{\\onehalf}{\\frac{1}{2}} $\n",
        "$ \\newcommand{\\donehalf}{\\dfrac{1}{2}} $\n",
        "$ \\newcommand{\\hadamard}{ \\mymatrix{rr}{ \\sqrttwo & \\sqrttwo \\\\ \\sqrttwo & -\\sqrttwo }} $\n",
        "$ \\newcommand{\\vzero}{\\myvector{1\\\\0}} $\n",
        "$ \\newcommand{\\vone}{\\myvector{0\\\\1}} $\n",
        "$ \\newcommand{\\stateplus}{\\myvector{ \\sqrttwo \\\\  \\sqrttwo } } $\n",
        "$ \\newcommand{\\stateminus}{ \\myrvector{ \\sqrttwo \\\\ -\\sqrttwo } } $\n",
        "$ \\newcommand{\\myarray}[2]{ \\begin{array}{#1}#2\\end{array}} $\n",
        "$ \\newcommand{\\X}{ \\mymatrix{cc}{0 & 1 \\\\ 1 & 0}  } $\n",
        "$ \\newcommand{\\I}{ \\mymatrix{rr}{1 & 0 \\\\ 0 & 1}  } $\n",
        "$ \\newcommand{\\Z}{ \\mymatrix{rr}{1 & 0 \\\\ 0 & -1}  } $\n",
        "$ \\newcommand{\\Htwo}{ \\mymatrix{rrrr}{ \\frac{1}{2} & \\frac{1}{2} & \\frac{1}{2} & \\frac{1}{2} \\\\ \\frac{1}{2} & -\\frac{1}{2} & \\frac{1}{2} & -\\frac{1}{2} \\\\ \\frac{1}{2} & \\frac{1}{2} & -\\frac{1}{2} & -\\frac{1}{2} \\\\ \\frac{1}{2} & -\\frac{1}{2} & -\\frac{1}{2} & \\frac{1}{2} } } $\n",
        "$ \\newcommand{\\CNOT}{ \\mymatrix{cccc}{1 & 0 & 0 & 0 \\\\ 0 & 1 & 0 & 0 \\\\ 0 & 0 & 0 & 1 \\\\ 0 & 0 & 1 & 0} } $\n",
        "$ \\newcommand{\\norm}[1]{ \\left\\lVert #1 \\right\\rVert } $\n",
        "$ \\newcommand{\\pstate}[1]{ \\lceil \\mspace{-1mu} #1 \\mspace{-1.5mu} \\rfloor } $\n",
        "$ \\newcommand{\\greenbit}[1] {\\mathbf{{\\color{green}#1}}} $\n",
        "$ \\newcommand{\\bluebit}[1] {\\mathbf{{\\color{blue}#1}}} $\n",
        "$ \\newcommand{\\redbit}[1] {\\mathbf{{\\color{red}#1}}} $\n",
        "$ \\newcommand{\\brownbit}[1] {\\mathbf{{\\color{brown}#1}}} $\n",
        "$ \\newcommand{\\blackbit}[1] {\\mathbf{{\\color{black}#1}}} $"
      ],
      "metadata": {
        "id": "7XszpE05EBbP"
      }
    },
    {
      "cell_type": "markdown",
      "metadata": {
        "id": "4FE6PN6a7gvp"
      },
      "source": [
        "_prepared by Abuzer Yakaryilmaz_"
      ]
    },
    {
      "cell_type": "markdown",
      "metadata": {
        "id": "-2vY4DE_7gvq"
      },
      "source": [
        "<font size=\"28px\" style=\"font-size:28px;\" align=\"left\"><b>Exercises: Quantum State </b></font>\n"
      ]
    },
    {
      "cell_type": "markdown",
      "metadata": {
        "jp-MarkdownHeadingCollapsed": true,
        "id": "m2jHD0IM7gvq"
      },
      "source": [
        "##### <font color=\"#08b806\">Please execute the following cell, it is necessary to distinguish between your local environment and Google Colab's"
      ]
    },
    {
      "cell_type": "code",
      "execution_count": 1,
      "metadata": {
        "id": "gphVvFiE7gvq"
      },
      "outputs": [],
      "source": [
        "import IPython\n",
        "\n",
        "def in_colab():\n",
        "    try:\n",
        "        import google.colab\n",
        "        return True\n",
        "    except:\n",
        "        return False\n",
        "\n",
        "SolutionToTask1 = lambda: IPython.display.display(IPython.display.Javascript('window.open(\"{url}\");'.format(url='https://colab.research.google.com/drive/1OaNowU3MqruXfCW7K3PSKtyZ-CEt_ql5#scrollTo=XXuoqfer6paJ' if in_colab() else 'Quantum_State_Solutions.ipynb#task1')))\n",
        "SolutionToTask2 = lambda: IPython.display.display(IPython.display.Javascript('window.open(\"{url}\");'.format(url='https://colab.research.google.com/drive/1OaNowU3MqruXfCW7K3PSKtyZ-CEt_ql5#scrollTo=Czw25x7_6paL' if in_colab() else 'Quantum_State_Solutions.ipynb#task2')))"
      ]
    },
    {
      "cell_type": "markdown",
      "metadata": {
        "id": "QnhhLmJi7gvt"
      },
      "source": [
        "<h3> Task 1 </h3>\n",
        "\n",
        "If the following vectors are valid quantum states defined with real numbers, then what can be the values of $a$ and $b$?\n",
        "\n",
        "$$\n",
        "    \\ket{v} = \\myrvector{a \\\\ -0.1 \\\\ -0.3 \\\\ 0.4 \\\\ 0.5}\n",
        "    ~~~~~ \\mbox{and} ~~~~~\n",
        "   \\ket{u} = \\myrvector{ \\frac{1}{\\sqrt{2}} \\\\ \\frac{1}{\\sqrt{b}} \\\\ -\\frac{1}{\\sqrt{3}} }.\n",
        "$$"
      ]
    },
    {
      "cell_type": "code",
      "execution_count": 2,
      "metadata": {
        "id": "NhgKadDf7gvt",
        "outputId": "997b4ac9-8eb6-42fe-edb3-11cf98f38ca6",
        "colab": {
          "base_uri": "https://localhost:8080/"
        }
      },
      "outputs": [
        {
          "output_type": "stream",
          "name": "stdout",
          "text": [
            "a = 0.7\n",
            "b = 5.999999999999997\n"
          ]
        }
      ],
      "source": [
        "#\n",
        "# your code is here\n",
        "#    (you may find the values by hand (in mind) as well)\n",
        "#\n",
        "import numpy as np\n",
        "from math import sqrt\n",
        "v_prime = np.array([-0.1, -0.3, 0.4, 0.5])\n",
        "u_prime = np.array([1 / sqrt(2), -1 / sqrt(3)])\n",
        "length_v_prime = np.linalg.norm(v_prime)\n",
        "length_u_prime = np.linalg.norm(u_prime)\n",
        "a = sqrt(1 - (length_v_prime ** 2))\n",
        "b = 1 / (1 - (length_u_prime ** 2))\n",
        "print(f\"a = {a}\")\n",
        "print(f\"b = {b}\")"
      ]
    },
    {
      "cell_type": "markdown",
      "metadata": {
        "id": "HJpCdhK47gvt"
      },
      "source": [
        "To check out our solution, run the next cell:"
      ]
    },
    {
      "cell_type": "code",
      "execution_count": null,
      "metadata": {
        "id": "vnBJIhl-7gvt",
        "colab": {
          "base_uri": "https://localhost:8080/",
          "height": 17
        },
        "outputId": "b9bef769-beb1-4655-f510-e15c80553424"
      },
      "outputs": [
        {
          "output_type": "display_data",
          "data": {
            "text/plain": [
              "<IPython.core.display.Javascript object>"
            ],
            "application/javascript": [
              "window.open(\"https://colab.research.google.com/drive/1OaNowU3MqruXfCW7K3PSKtyZ-CEt_ql5#scrollTo=XXuoqfer6paJ\");"
            ]
          },
          "metadata": {}
        }
      ],
      "source": [
        "SolutionToTask1()  # show solution for task 1"
      ]
    },
    {
      "cell_type": "markdown",
      "metadata": {
        "id": "O0i4py7F7gvt"
      },
      "source": [
        "<a name=\"task2\"></a>\n",
        "<h3> Task 2</h3>\n",
        "\n",
        "Remember Hadamard operator:\n",
        "\n",
        "$$\n",
        "    H = \\hadamard.\n",
        "$$"
      ]
    },
    {
      "cell_type": "markdown",
      "metadata": {
        "id": "f_Ag1Vo-7gvt"
      },
      "source": [
        "Randomly create a 2-dimensional quantum state, and test whether Hadamard operator preserves its length or not.\n",
        "\n",
        "<b>Write a function</b> that returns a randomly created 2-dimensional quantum state.\n",
        "\n",
        "<i>Hint:\n",
        "<ul>\n",
        "    <li> Pick two random values between -100 and 100 for the amplitudes of state 0 and state 1 </li>\n",
        "    <li> Find an appropriate normalization factor to divide each amplitude such that the length of quantum state should be 1 </li>\n",
        "</ul>\n",
        "</i>"
      ]
    },
    {
      "cell_type": "markdown",
      "metadata": {
        "id": "T48bqfgJ7gvt"
      },
      "source": [
        "<b>Write a function</b> that determines whether a given vector is a valid quantum state or not.\n",
        "\n",
        "(Due to precision problem, the summation of squares may not be exactly 1 but very close to 1, e.g., 0.9999999999999998.)\n",
        "\n",
        "<b>Repeat 10 times:</b>\n",
        "<ul>\n",
        "    <li> Randomly pick a quantum state </li>\n",
        "    <li> Check whether the picked quantum state is valid </li>\n",
        "    <li> Multiply Hadamard operator with the randomly created quantum state </li>\n",
        "    <li> Check whether the quantum state in result is valid </li>\n",
        "</ul>"
      ]
    },
    {
      "cell_type": "code",
      "execution_count": 16,
      "metadata": {
        "id": "qz19p8mt7gvt"
      },
      "outputs": [],
      "source": [
        "#\n",
        "# you may define your first function in a separate cell\n",
        "#\n",
        "\n",
        "from random import randrange\n",
        "from math import sqrt\n",
        "def random_quantum_state():\n",
        "    # quantum state\n",
        "    a , b = randrange(-100, 101), randrange(-100, 101)\n",
        "    while a == 0 and b == 0:\n",
        "      a , b = randrange(-100, 101), randrange(-100, 101)\n",
        "    np_quantum_state = np.array([a / sqrt(a ** 2 + b ** 2), b / sqrt(a ** 2 + b ** 2)])\n",
        "    return np_quantum_state"
      ]
    },
    {
      "cell_type": "code",
      "execution_count": 22,
      "metadata": {
        "id": "RSF1TG6L7gvu",
        "outputId": "44ea4727-aa9c-4edb-ecc4-8c2db55210a8",
        "colab": {
          "base_uri": "https://localhost:8080/"
        }
      },
      "outputs": [
        {
          "output_type": "stream",
          "name": "stdout",
          "text": [
            "[-0.96  0.28]\n",
            "[-0.96  0.28] is valid\n",
            "[-0.48083261 -0.87681241] is valid\n",
            "[ 0.9456866  -0.32507977]\n",
            "[ 0.9456866  -0.32507977] is valid\n",
            "[0.4388353  0.89856752] is valid\n",
            "[ 0.99972969 -0.02324953]\n",
            "[ 0.99972969 -0.02324953] is valid\n",
            "[0.69047575 0.72335554] is valid\n",
            "[-0.31232107  0.9499766 ]\n",
            "[-0.31232107  0.9499766 ] is valid\n",
            "[ 0.45089055 -0.89257925] is valid\n",
            "[ 0.5938523  -0.80457408]\n",
            "[ 0.5938523  -0.80457408] is valid\n",
            "[-0.1490028   0.98883677] is valid\n",
            "[0.6818764  0.73146741]\n",
            "[0.6818764  0.73146741] is valid\n",
            "[ 0.99938499 -0.03506614] is valid\n",
            "[ 0.62173649 -0.78322649]\n",
            "[ 0.62173649 -0.78322649] is valid\n",
            "[-0.11419067  0.99345885] is valid\n",
            "[0.76675767 0.64193666]\n",
            "[0.76675767 0.64193666] is valid\n",
            "[0.99609731 0.08826179] is valid\n",
            "[-0.38461538  0.92307692]\n",
            "[-0.38461538  0.92307692] is valid\n",
            "[ 0.38074981 -0.9246781 ] is valid\n",
            "[-0.03527216 -0.99937774]\n",
            "[-0.03527216 -0.99937774] is valid\n",
            "[-0.73160796  0.6817256 ] is valid\n"
          ]
        }
      ],
      "source": [
        "#\n",
        "# your code is here\n",
        "#\n",
        "for i in range(10):\n",
        "  quantum_state = random_quantum_state()\n",
        "  print(quantum_state)\n",
        "\n",
        "  if np.linalg.norm(quantum_state) > 0.99: print(f\"{quantum_state} is valid\")\n",
        "  else: print(f\"{quantum_state} is invalid with length {np.linalg.norm(quantum_state)}\")\n",
        "\n",
        "  hadamard = np.array([[1 / sqrt(2), 1 / sqrt(2)], [1 / sqrt(2), -1 / sqrt(2)]])\n",
        "  hadamard_quantum_state = hadamard.dot(quantum_state)\n",
        "\n",
        "  if np.linalg.norm(hadamard_quantum_state) > 0.99: print(f\"{hadamard_quantum_state} is valid\")\n",
        "  else: print(f\"{hadamard_quantum_state} is invalid with length {np.linalg.norm(hadamard_quantum_state)}\")"
      ]
    },
    {
      "cell_type": "markdown",
      "metadata": {
        "id": "bqwjgmZU7gvu"
      },
      "source": [
        "To check out our solution, run the next cell:"
      ]
    },
    {
      "cell_type": "code",
      "execution_count": null,
      "metadata": {
        "id": "DfyJKNlv7gvu"
      },
      "outputs": [],
      "source": [
        "SolutionToTask2()  # show solution for task 2"
      ]
    },
    {
      "cell_type": "markdown",
      "metadata": {
        "id": "EtJ5_x5V7gvu"
      },
      "source": [
        "<a name=\"task3\"></a>\n",
        "<h3> Task 3 (extra)</h3>\n",
        "\n",
        "Let $ \\ket{u} =  \\myvector{x \\\\ y} \\in \\mathbb{R}^2 $ is a quantum state.\n",
        "\n",
        "Show that $ \\ket{u'} = H \\ket{u} $ is also a quantum state.\n",
        "\n",
        "_Hint: The length of $ \\ket{u'} $ must be 1, given that the length of $ \\ket{u} $ is 1._"
      ]
    }
  ],
  "metadata": {
    "kernelspec": {
      "display_name": "Python 3 (ipykernel)",
      "language": "python",
      "name": "python3"
    },
    "language_info": {
      "codemirror_mode": {
        "name": "ipython",
        "version": 3
      },
      "file_extension": ".py",
      "mimetype": "text/x-python",
      "name": "python",
      "nbconvert_exporter": "python",
      "pygments_lexer": "ipython3",
      "version": "3.11.4"
    },
    "colab": {
      "provenance": [],
      "include_colab_link": true
    }
  },
  "nbformat": 4,
  "nbformat_minor": 0
}