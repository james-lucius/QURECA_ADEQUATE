{
  "nbformat": 4,
  "nbformat_minor": 0,
  "metadata": {
    "colab": {
      "provenance": [],
      "include_colab_link": true
    },
    "kernelspec": {
      "name": "python3",
      "display_name": "Python 3"
    },
    "language_info": {
      "name": "python"
    }
  },
  "cells": [
    {
      "cell_type": "markdown",
      "metadata": {
        "id": "view-in-github",
        "colab_type": "text"
      },
      "source": [
        "<a href=\"https://colab.research.google.com/github/james-lucius/qureca_ADEQUATE/blob/main/M5_131_Quantum_Fourier_Transform_Exercises.ipynb\" target=\"_parent\"><img src=\"https://colab.research.google.com/assets/colab-badge.svg\" alt=\"Open In Colab\"/></a>"
      ]
    },
    {
      "cell_type": "markdown",
      "metadata": {
        "id": "FaxpHcUEFlHX"
      },
      "source": [
        "<img src=\"https://gitlab.com/qworld/qeducation/educational-materials/adequate-qbook1/raw/main/qworld/images/adq_1.png\" align=\"left\" width=450></a>\n",
        "$ \\newcommand{\\bra}[1]{\\langle #1|} $\n",
        "$ \\newcommand{\\ket}[1]{|#1\\rangle} $\n",
        "$ \\newcommand{\\braket}[2]{\\langle #1|#2\\rangle} $\n",
        "$ \\newcommand{\\dot}[2]{ #1 \\cdot #2} $\n",
        "$ \\newcommand{\\biginner}[2]{\\left\\langle #1,#2\\right\\rangle} $\n",
        "$ \\newcommand{\\mymatrix}[2]{\\left( \\begin{array}{#1} #2\\end{array} \\right)} $\n",
        "$ \\newcommand{\\myvector}[1]{\\mymatrix{c}{#1}} $\n",
        "$ \\newcommand{\\myrvector}[1]{\\mymatrix{r}{#1}} $\n",
        "$ \\newcommand{\\mypar}[1]{\\left( #1 \\right)} $\n",
        "$ \\newcommand{\\mybigpar}[1]{ \\Big( #1 \\Big)} $\n",
        "$ \\newcommand{\\sqrttwo}{\\frac{1}{\\sqrt{2}}} $\n",
        "$ \\newcommand{\\dsqrttwo}{\\dfrac{1}{\\sqrt{2}}} $\n",
        "$ \\newcommand{\\onehalf}{\\frac{1}{2}} $\n",
        "$ \\newcommand{\\donehalf}{\\dfrac{1}{2}} $\n",
        "$ \\newcommand{\\hadamard}{ \\mymatrix{rr}{ \\sqrttwo & \\sqrttwo \\\\ \\sqrttwo & -\\sqrttwo }} $\n",
        "$ \\newcommand{\\vzero}{\\myvector{1\\\\0}} $\n",
        "$ \\newcommand{\\vone}{\\myvector{0\\\\1}} $\n",
        "$ \\newcommand{\\stateplus}{\\myvector{ \\sqrttwo \\\\  \\sqrttwo } } $\n",
        "$ \\newcommand{\\stateminus}{ \\myrvector{ \\sqrttwo \\\\ -\\sqrttwo } } $\n",
        "$ \\newcommand{\\myarray}[2]{ \\begin{array}{#1}#2\\end{array}} $\n",
        "$ \\newcommand{\\X}{ \\mymatrix{cc}{0 & 1 \\\\ 1 & 0}  } $\n",
        "$ \\newcommand{\\Z}{ \\mymatrix{rr}{1 & 0 \\\\ 0 & -1}  } $\n",
        "$ \\newcommand{\\Htwo}{ \\mymatrix{rrrr}{ \\frac{1}{2} & \\frac{1}{2} & \\frac{1}{2} & \\frac{1}{2} \\\\ \\frac{1}{2} & -\\frac{1}{2} & \\frac{1}{2} & -\\frac{1}{2} \\\\ \\frac{1}{2} & \\frac{1}{2} & -\\frac{1}{2} & -\\frac{1}{2} \\\\ \\frac{1}{2} & -\\frac{1}{2} & -\\frac{1}{2} & \\frac{1}{2} } } $\n",
        "$ \\newcommand{\\CNOT}{ \\mymatrix{cccc}{1 & 0 & 0 & 0 \\\\ 0 & 1 & 0 & 0 \\\\ 0 & 0 & 0 & 1 \\\\ 0 & 0 & 1 & 0} } $\n",
        "$ \\newcommand{\\norm}[1]{ \\left\\lVert #1 \\right\\rVert } $\n",
        "$ \\newcommand{\\pstate}[1]{ \\lceil \\mspace{-1mu} #1 \\mspace{-1.5mu} \\rfloor } $\n",
        "$ \\newcommand{\\Y}{ \\mymatrix{rr}{0 & -i \\\\ i & 0} } $\n",
        "$ \\newcommand{\\S}{ \\mymatrix{rr}{1 & 0 \\\\ 0 & i} } $\n",
        "$ \\newcommand{\\T}{ \\mymatrix{rr}{1 & 0 \\\\ 0 & e^{i \\frac{\\pi}{4}}} } $\n",
        "$ \\newcommand{\\Sdg}{ \\mymatrix{rr}{1 & 0 \\\\ 0 & -i} } $\n",
        "$ \\newcommand{\\Tdg}{ \\mymatrix{rr}{1 & 0 \\\\ 0 & e^{-i \\frac{\\pi}{4}}} } $\n",
        "$ \\newcommand{\\qgate}[1]{ \\mathop{\\\\textit{#1} } }$"
      ]
    },
    {
      "cell_type": "markdown",
      "metadata": {
        "id": "LRmMmD20FlHY"
      },
      "source": [
        "_prepared by Özlem Salehi and Abuzer Yakaryilmaz_\n",
        "<br><br>\n",
        "_Cirq adaptation by Claudia Zendejas-Morales_"
      ]
    },
    {
      "cell_type": "markdown",
      "metadata": {
        "id": "S9z46dfoFlHZ"
      },
      "source": [
        "<font size=\"28px\" style=\"font-size:28px;\" align=\"left\"><b><font color=\"blue\"> Exercises for </font>Quantum Fourier Transform</b></font>"
      ]
    },
    {
      "cell_type": "markdown",
      "metadata": {
        "jp-MarkdownHeadingCollapsed": true,
        "id": "f0WbGSrqFlHZ"
      },
      "source": [
        "##### <font color=\"#08b806\">Please execute the following cell, it is necessary to distinguish between your local environment and Google Colab's"
      ]
    },
    {
      "cell_type": "code",
      "execution_count": 1,
      "metadata": {
        "id": "oOXMt-QiFlHZ",
        "colab": {
          "base_uri": "https://localhost:8080/"
        },
        "outputId": "fbc5f7e5-49ac-4e87-dcd7-1660fdb82978"
      },
      "outputs": [
        {
          "output_type": "stream",
          "name": "stdout",
          "text": [
            "Collecting cirq\n",
            "  Downloading cirq-1.5.0-py3-none-any.whl.metadata (15 kB)\n",
            "Collecting cirq-aqt==1.5.0 (from cirq)\n",
            "  Downloading cirq_aqt-1.5.0-py3-none-any.whl.metadata (4.8 kB)\n",
            "Collecting cirq-core==1.5.0 (from cirq)\n",
            "  Downloading cirq_core-1.5.0-py3-none-any.whl.metadata (4.9 kB)\n",
            "Collecting cirq-google==1.5.0 (from cirq)\n",
            "  Downloading cirq_google-1.5.0-py3-none-any.whl.metadata (4.9 kB)\n",
            "Collecting cirq-ionq==1.5.0 (from cirq)\n",
            "  Downloading cirq_ionq-1.5.0-py3-none-any.whl.metadata (4.7 kB)\n",
            "Collecting cirq-pasqal==1.5.0 (from cirq)\n",
            "  Downloading cirq_pasqal-1.5.0-py3-none-any.whl.metadata (4.8 kB)\n",
            "Collecting cirq-web==1.5.0 (from cirq)\n",
            "  Downloading cirq_web-1.5.0-py3-none-any.whl.metadata (5.5 kB)\n",
            "Requirement already satisfied: requests~=2.32 in /usr/local/lib/python3.11/dist-packages (from cirq-aqt==1.5.0->cirq) (2.32.3)\n",
            "Requirement already satisfied: attrs>=21.3.0 in /usr/local/lib/python3.11/dist-packages (from cirq-core==1.5.0->cirq) (25.3.0)\n",
            "Collecting duet>=0.2.8 (from cirq-core==1.5.0->cirq)\n",
            "  Downloading duet-0.2.9-py3-none-any.whl.metadata (2.3 kB)\n",
            "Requirement already satisfied: matplotlib~=3.7 in /usr/local/lib/python3.11/dist-packages (from cirq-core==1.5.0->cirq) (3.10.0)\n",
            "Requirement already satisfied: networkx~=3.1 in /usr/local/lib/python3.11/dist-packages (from cirq-core==1.5.0->cirq) (3.5)\n",
            "Requirement already satisfied: numpy>=1.25 in /usr/local/lib/python3.11/dist-packages (from cirq-core==1.5.0->cirq) (2.0.2)\n",
            "Requirement already satisfied: pandas~=2.0 in /usr/local/lib/python3.11/dist-packages (from cirq-core==1.5.0->cirq) (2.2.2)\n",
            "Requirement already satisfied: sortedcontainers~=2.0 in /usr/local/lib/python3.11/dist-packages (from cirq-core==1.5.0->cirq) (2.4.0)\n",
            "Requirement already satisfied: scipy~=1.11 in /usr/local/lib/python3.11/dist-packages (from cirq-core==1.5.0->cirq) (1.15.3)\n",
            "Requirement already satisfied: sympy in /usr/local/lib/python3.11/dist-packages (from cirq-core==1.5.0->cirq) (1.13.1)\n",
            "Requirement already satisfied: typing_extensions>=4.2 in /usr/local/lib/python3.11/dist-packages (from cirq-core==1.5.0->cirq) (4.14.0)\n",
            "Requirement already satisfied: tqdm>=4.12 in /usr/local/lib/python3.11/dist-packages (from cirq-core==1.5.0->cirq) (4.67.1)\n",
            "Requirement already satisfied: google-api-core>=1.14.0 in /usr/local/lib/python3.11/dist-packages (from google-api-core[grpc]>=1.14.0->cirq-google==1.5.0->cirq) (2.25.1)\n",
            "Requirement already satisfied: proto-plus>=1.20.0 in /usr/local/lib/python3.11/dist-packages (from cirq-google==1.5.0->cirq) (1.26.1)\n",
            "Requirement already satisfied: protobuf<6.0,>=4.25 in /usr/local/lib/python3.11/dist-packages (from cirq-google==1.5.0->cirq) (5.29.5)\n",
            "Collecting typedunits (from cirq-google==1.5.0->cirq)\n",
            "  Downloading typedunits-0.0.1.dev20250509200845-cp311-cp311-manylinux_2_17_x86_64.manylinux2014_x86_64.whl.metadata (4.8 kB)\n",
            "Requirement already satisfied: googleapis-common-protos<2.0.0,>=1.56.2 in /usr/local/lib/python3.11/dist-packages (from google-api-core>=1.14.0->google-api-core[grpc]>=1.14.0->cirq-google==1.5.0->cirq) (1.70.0)\n",
            "Requirement already satisfied: google-auth<3.0.0,>=2.14.1 in /usr/local/lib/python3.11/dist-packages (from google-api-core>=1.14.0->google-api-core[grpc]>=1.14.0->cirq-google==1.5.0->cirq) (2.38.0)\n",
            "Requirement already satisfied: grpcio<2.0.0,>=1.33.2 in /usr/local/lib/python3.11/dist-packages (from google-api-core[grpc]>=1.14.0->cirq-google==1.5.0->cirq) (1.73.0)\n",
            "Requirement already satisfied: grpcio-status<2.0.0,>=1.33.2 in /usr/local/lib/python3.11/dist-packages (from google-api-core[grpc]>=1.14.0->cirq-google==1.5.0->cirq) (1.71.0)\n",
            "Requirement already satisfied: contourpy>=1.0.1 in /usr/local/lib/python3.11/dist-packages (from matplotlib~=3.7->cirq-core==1.5.0->cirq) (1.3.2)\n",
            "Requirement already satisfied: cycler>=0.10 in /usr/local/lib/python3.11/dist-packages (from matplotlib~=3.7->cirq-core==1.5.0->cirq) (0.12.1)\n",
            "Requirement already satisfied: fonttools>=4.22.0 in /usr/local/lib/python3.11/dist-packages (from matplotlib~=3.7->cirq-core==1.5.0->cirq) (4.58.4)\n",
            "Requirement already satisfied: kiwisolver>=1.3.1 in /usr/local/lib/python3.11/dist-packages (from matplotlib~=3.7->cirq-core==1.5.0->cirq) (1.4.8)\n",
            "Requirement already satisfied: packaging>=20.0 in /usr/local/lib/python3.11/dist-packages (from matplotlib~=3.7->cirq-core==1.5.0->cirq) (24.2)\n",
            "Requirement already satisfied: pillow>=8 in /usr/local/lib/python3.11/dist-packages (from matplotlib~=3.7->cirq-core==1.5.0->cirq) (11.2.1)\n",
            "Requirement already satisfied: pyparsing>=2.3.1 in /usr/local/lib/python3.11/dist-packages (from matplotlib~=3.7->cirq-core==1.5.0->cirq) (3.2.3)\n",
            "Requirement already satisfied: python-dateutil>=2.7 in /usr/local/lib/python3.11/dist-packages (from matplotlib~=3.7->cirq-core==1.5.0->cirq) (2.9.0.post0)\n",
            "Requirement already satisfied: pytz>=2020.1 in /usr/local/lib/python3.11/dist-packages (from pandas~=2.0->cirq-core==1.5.0->cirq) (2025.2)\n",
            "Requirement already satisfied: tzdata>=2022.7 in /usr/local/lib/python3.11/dist-packages (from pandas~=2.0->cirq-core==1.5.0->cirq) (2025.2)\n",
            "Requirement already satisfied: charset-normalizer<4,>=2 in /usr/local/lib/python3.11/dist-packages (from requests~=2.32->cirq-aqt==1.5.0->cirq) (3.4.2)\n",
            "Requirement already satisfied: idna<4,>=2.5 in /usr/local/lib/python3.11/dist-packages (from requests~=2.32->cirq-aqt==1.5.0->cirq) (3.10)\n",
            "Requirement already satisfied: urllib3<3,>=1.21.1 in /usr/local/lib/python3.11/dist-packages (from requests~=2.32->cirq-aqt==1.5.0->cirq) (2.4.0)\n",
            "Requirement already satisfied: certifi>=2017.4.17 in /usr/local/lib/python3.11/dist-packages (from requests~=2.32->cirq-aqt==1.5.0->cirq) (2025.6.15)\n",
            "Requirement already satisfied: mpmath<1.4,>=1.1.0 in /usr/local/lib/python3.11/dist-packages (from sympy->cirq-core==1.5.0->cirq) (1.3.0)\n",
            "Requirement already satisfied: cython>=3.0.0 in /usr/local/lib/python3.11/dist-packages (from typedunits->cirq-google==1.5.0->cirq) (3.0.12)\n",
            "Requirement already satisfied: cachetools<6.0,>=2.0.0 in /usr/local/lib/python3.11/dist-packages (from google-auth<3.0.0,>=2.14.1->google-api-core>=1.14.0->google-api-core[grpc]>=1.14.0->cirq-google==1.5.0->cirq) (5.5.2)\n",
            "Requirement already satisfied: pyasn1-modules>=0.2.1 in /usr/local/lib/python3.11/dist-packages (from google-auth<3.0.0,>=2.14.1->google-api-core>=1.14.0->google-api-core[grpc]>=1.14.0->cirq-google==1.5.0->cirq) (0.4.2)\n",
            "Requirement already satisfied: rsa<5,>=3.1.4 in /usr/local/lib/python3.11/dist-packages (from google-auth<3.0.0,>=2.14.1->google-api-core>=1.14.0->google-api-core[grpc]>=1.14.0->cirq-google==1.5.0->cirq) (4.9.1)\n",
            "Requirement already satisfied: six>=1.5 in /usr/local/lib/python3.11/dist-packages (from python-dateutil>=2.7->matplotlib~=3.7->cirq-core==1.5.0->cirq) (1.17.0)\n",
            "Requirement already satisfied: pyasn1<0.7.0,>=0.6.1 in /usr/local/lib/python3.11/dist-packages (from pyasn1-modules>=0.2.1->google-auth<3.0.0,>=2.14.1->google-api-core>=1.14.0->google-api-core[grpc]>=1.14.0->cirq-google==1.5.0->cirq) (0.6.1)\n",
            "Downloading cirq-1.5.0-py3-none-any.whl (10 kB)\n",
            "Downloading cirq_aqt-1.5.0-py3-none-any.whl (31 kB)\n",
            "Downloading cirq_core-1.5.0-py3-none-any.whl (2.0 MB)\n",
            "\u001b[2K   \u001b[90m━━━━━━━━━━━━━━━━━━━━━━━━━━━━━━━━━━━━━━━━\u001b[0m \u001b[32m2.0/2.0 MB\u001b[0m \u001b[31m60.0 MB/s\u001b[0m eta \u001b[36m0:00:00\u001b[0m\n",
            "\u001b[?25hDownloading cirq_google-1.5.0-py3-none-any.whl (597 kB)\n",
            "\u001b[2K   \u001b[90m━━━━━━━━━━━━━━━━━━━━━━━━━━━━━━━━━━━━━━━━\u001b[0m \u001b[32m597.5/597.5 kB\u001b[0m \u001b[31m32.7 MB/s\u001b[0m eta \u001b[36m0:00:00\u001b[0m\n",
            "\u001b[?25hDownloading cirq_ionq-1.5.0-py3-none-any.whl (72 kB)\n",
            "\u001b[2K   \u001b[90m━━━━━━━━━━━━━━━━━━━━━━━━━━━━━━━━━━━━━━━━\u001b[0m \u001b[32m72.0/72.0 kB\u001b[0m \u001b[31m5.4 MB/s\u001b[0m eta \u001b[36m0:00:00\u001b[0m\n",
            "\u001b[?25hDownloading cirq_pasqal-1.5.0-py3-none-any.whl (33 kB)\n",
            "Downloading cirq_web-1.5.0-py3-none-any.whl (425 kB)\n",
            "\u001b[2K   \u001b[90m━━━━━━━━━━━━━━━━━━━━━━━━━━━━━━━━━━━━━━━━\u001b[0m \u001b[32m425.1/425.1 kB\u001b[0m \u001b[31m24.2 MB/s\u001b[0m eta \u001b[36m0:00:00\u001b[0m\n",
            "\u001b[?25hDownloading duet-0.2.9-py3-none-any.whl (29 kB)\n",
            "Downloading typedunits-0.0.1.dev20250509200845-cp311-cp311-manylinux_2_17_x86_64.manylinux2014_x86_64.whl (2.8 MB)\n",
            "\u001b[2K   \u001b[90m━━━━━━━━━━━━━━━━━━━━━━━━━━━━━━━━━━━━━━━━\u001b[0m \u001b[32m2.8/2.8 MB\u001b[0m \u001b[31m36.3 MB/s\u001b[0m eta \u001b[36m0:00:00\u001b[0m\n",
            "\u001b[?25hInstalling collected packages: typedunits, duet, cirq-core, cirq-web, cirq-pasqal, cirq-ionq, cirq-aqt, cirq-google, cirq\n",
            "Successfully installed cirq-1.5.0 cirq-aqt-1.5.0 cirq-core-1.5.0 cirq-google-1.5.0 cirq-ionq-1.5.0 cirq-pasqal-1.5.0 cirq-web-1.5.0 duet-0.2.9 typedunits-0.0.1.dev20250509200845\n"
          ]
        }
      ],
      "source": [
        "import IPython\n",
        "\n",
        "def in_colab():\n",
        "    try:\n",
        "        import google.colab\n",
        "        return True\n",
        "    except:\n",
        "        return False\n",
        "\n",
        "path_files = \"./\" if in_colab() else \"../qworld/include/\"\n",
        "\n",
        "\n",
        "SolutionToTask4 = lambda: IPython.display.display(IPython.display.Javascript('window.open(\"{url}\");'.format(url='https://colab.research.google.com/drive/1mLcPeMqxmQs5xLzqWNPvpPTcAVVXFPxq#scrollTo=dbFt5U2RA7mZ&line=2&uniqifier=1' if in_colab() else 'QB51_D02_Quantum_Fourier_Transform_Solutions.ipynb#task4')))\n",
        "SolutionToTask5 = lambda: IPython.display.display(IPython.display.Javascript('window.open(\"{url}\");'.format(url='https://colab.research.google.com/drive/1mLcPeMqxmQs5xLzqWNPvpPTcAVVXFPxq#scrollTo=REQnur6WA7mZ&line=2&uniqifier=1' if in_colab() else 'QB51_D02_Quantum_Fourier_Transform_Solutions.ipynb#task5')))\n",
        "SolutionToTask6 = lambda: IPython.display.display(IPython.display.Javascript('window.open(\"{url}\");'.format(url='https://colab.research.google.com/drive/1mLcPeMqxmQs5xLzqWNPvpPTcAVVXFPxq#scrollTo=9c3dm32UA7mZ&line=2&uniqifier=1' if in_colab() else 'QB51_D02_Quantum_Fourier_Transform_Solutions.ipynb#task6')))\n",
        "SolutionToTask7 = lambda: IPython.display.display(IPython.display.Javascript('window.open(\"{url}\");'.format(url='https://colab.research.google.com/drive/1mLcPeMqxmQs5xLzqWNPvpPTcAVVXFPxq#scrollTo=WvGsyKzpA7ma&line=2&uniqifier=1' if in_colab() else 'QB51_D02_Quantum_Fourier_Transform_Solutions.ipynb#task7')))\n",
        "SolutionToTask8 = lambda: IPython.display.display(IPython.display.Javascript('window.open(\"{url}\");'.format(url='https://colab.research.google.com/drive/1mLcPeMqxmQs5xLzqWNPvpPTcAVVXFPxq#scrollTo=M6o51_q5A7ma&line=2&uniqifier=1' if in_colab() else 'QB51_D02_Quantum_Fourier_Transform_Solutions.ipynb#task8')))\n",
        "SolutionToTask9 = lambda: IPython.display.display(IPython.display.Javascript('window.open(\"{url}\");'.format(url='https://colab.research.google.com/drive/1mLcPeMqxmQs5xLzqWNPvpPTcAVVXFPxq#scrollTo=leUvkPgoA7mb' if in_colab() else 'QB51_D02_Quantum_Fourier_Transform_Solutions.ipynb#task9')))\n",
        "\n",
        "if in_colab():\n",
        "    !pip install cirq"
      ]
    },
    {
      "cell_type": "markdown",
      "metadata": {
        "id": "rs7Bj9bVFlHa"
      },
      "source": [
        "<a name=\"task4\"></a>\n",
        "### Task 4\n",
        "\n",
        "Apply $QFT$ to the state $ \\ket \\psi=\\frac{1}{\\sqrt{2}} \\ket {01}+\\frac{1}{\\sqrt{2}} \\ket {10} $."
      ]
    },
    {
      "cell_type": "markdown",
      "metadata": {
        "id": "CU1KBm4CFlHa"
      },
      "source": [
        "To check out our solution, run the next cell:"
      ]
    },
    {
      "cell_type": "code",
      "execution_count": null,
      "metadata": {
        "id": "za4FRcPCFlHa"
      },
      "outputs": [],
      "source": [
        "SolutionToTask4()  # show solution for task 2"
      ]
    },
    {
      "cell_type": "markdown",
      "metadata": {
        "id": "RKKjxh1pFlHb"
      },
      "source": [
        "<a name=\"task5\"></a>\n",
        "### Task 5\n",
        "\n",
        "Apply $QFT$ to the quantum state $\\ket{\\psi}=\\alpha \\ket{0} + \\beta \\ket{1}$ and find the new quantum state.\n",
        "\n",
        "Conclude that applying 1 qubit $QFT$ is equivalent to applying Hadamard gate."
      ]
    },
    {
      "cell_type": "markdown",
      "metadata": {
        "id": "b7fOcUjMFlHb"
      },
      "source": [
        "To check out our solution, run the next cell:"
      ]
    },
    {
      "cell_type": "code",
      "execution_count": null,
      "metadata": {
        "id": "2234GgFwFlHb"
      },
      "outputs": [],
      "source": [
        "SolutionToTask5()  # show solution for task 5"
      ]
    },
    {
      "cell_type": "markdown",
      "metadata": {
        "id": "7-XKfq2CFlHb"
      },
      "source": [
        "<a name=\"task6\"></a>\n",
        "### Task 6\n",
        "\n",
        "Apply $QFT$ to the basis state $\\ket{10}$ using the matrix representation and find the new quantum state."
      ]
    },
    {
      "cell_type": "markdown",
      "metadata": {
        "id": "a9UrVLwaFlHb"
      },
      "source": [
        "To check out our solution, run the next cell:"
      ]
    },
    {
      "cell_type": "code",
      "execution_count": null,
      "metadata": {
        "id": "c9YmXGrpFlHb"
      },
      "outputs": [],
      "source": [
        "SolutionToTask6()  # show solution for task 6"
      ]
    },
    {
      "cell_type": "markdown",
      "metadata": {
        "id": "r7P-k0vzFlHb"
      },
      "source": [
        "<a name=\"task7\"></a>\n",
        "### Task 7\n",
        "\n",
        "What is the quantum state obtained after applying $QFT$ to the state $\\ket{11}$? Find using Task 4 and the linear shift property."
      ]
    },
    {
      "cell_type": "markdown",
      "metadata": {
        "id": "jjB8VMQzFlHb"
      },
      "source": [
        "To check out our solution, run the next cell:"
      ]
    },
    {
      "cell_type": "code",
      "execution_count": null,
      "metadata": {
        "id": "UOUHDvVhFlHb"
      },
      "outputs": [],
      "source": [
        "SolutionToTask7()  # show solution for task 7"
      ]
    },
    {
      "cell_type": "markdown",
      "metadata": {
        "id": "LKdE2FJuFlHe"
      },
      "source": [
        "<a name=\"task8\"></a>\n",
        "### Task 8\n",
        "\n",
        "Write down the matrix of QFT for $ n =3 $ by using Python.\n",
        "\n",
        "Write down the matrix of circuit $ n =3 $ by using `myQFT`.\n",
        "\n",
        "Compare both results."
      ]
    },
    {
      "cell_type": "code",
      "source": [
        "import cirq\n",
        "from cirq import H, SWAP\n",
        "from cirq.circuits import InsertStrategy\n",
        "from math import pi\n",
        "\n",
        "def myQFT(qubits):\n",
        "  circuit = cirq.Circuit()\n",
        "\n",
        "  n = len(qubits)\n",
        "  for i in range(n):\n",
        "    circuit.append(H(qubits[i]), strategy = InsertStrategy.NEW)\n",
        "    phase_divisor = 4\n",
        "    for j in range(i + 1, n):\n",
        "      circuit.append(cirq.CZPowGate(exponent = 2 / phase_divisor).on(qubits[j], qubits[i]))\n",
        "      phase_divisor = phase_divisor * 2\n",
        "\n",
        "  for j in range(n // 2):\n",
        "    circuit.append(SWAP.on(qubits[j], qubits[n - j - 1]), strategy = InsertStrategy.NEW)\n",
        "\n",
        "  return circuit"
      ],
      "metadata": {
        "id": "p7Fcf0E1eO9B"
      },
      "execution_count": 2,
      "outputs": []
    },
    {
      "cell_type": "code",
      "execution_count": 3,
      "metadata": {
        "id": "JpA3dJrbFlHe",
        "outputId": "6c33ff8a-26d1-40ed-b8ab-755a329c57af",
        "colab": {
          "base_uri": "https://localhost:8080/"
        }
      },
      "outputs": [
        {
          "output_type": "stream",
          "name": "stdout",
          "text": [
            "QFT from python:\n",
            "0.35+i(0.0)  0.35+i(0.0)  0.35+i(0.0)  0.35+i(0.0)  0.35+i(0.0)  0.35+i(0.0)  0.35+i(0.0)  0.35+i(0.0)  \n",
            "0.35+i(0.0)  0.25+i(0.25)  0.0+i(0.35)  -0.25+i(0.25)  -0.35+i(0.0)  -0.25+i(-0.25)  -0.0+i(-0.35)  0.25+i(-0.25)  \n",
            "0.35+i(0.0)  0.0+i(0.35)  -0.35+i(0.0)  -0.0+i(-0.35)  0.35+i(-0.0)  0.0+i(0.35)  -0.35+i(0.0)  -0.0+i(-0.35)  \n",
            "0.35+i(0.0)  -0.25+i(0.25)  -0.0+i(-0.35)  0.25+i(0.25)  -0.35+i(0.0)  0.25+i(-0.25)  0.0+i(0.35)  -0.25+i(-0.25)  \n",
            "0.35+i(0.0)  -0.35+i(0.0)  0.35+i(-0.0)  -0.35+i(0.0)  0.35+i(-0.0)  -0.35+i(0.0)  0.35+i(-0.0)  -0.35+i(0.0)  \n",
            "0.35+i(0.0)  -0.25+i(-0.25)  0.0+i(0.35)  0.25+i(-0.25)  -0.35+i(0.0)  0.25+i(0.25)  -0.0+i(-0.35)  -0.25+i(0.25)  \n",
            "0.35+i(0.0)  -0.0+i(-0.35)  -0.35+i(0.0)  0.0+i(0.35)  0.35+i(-0.0)  -0.0+i(-0.35)  -0.35+i(0.0)  0.0+i(0.35)  \n",
            "0.35+i(0.0)  0.25+i(-0.25)  -0.0+i(-0.35)  -0.25+i(-0.25)  -0.35+i(0.0)  -0.25+i(0.25)  0.0+i(0.35)  0.25+i(0.25)  \n",
            "\n",
            "\n",
            "QFT from myQFT:\n",
            "0.35+i(0.0)  0.35+i(0.0)  0.35+i(0.0)  0.35+i(0.0)  0.35+i(0.0)  0.35+i(0.0)  0.35+i(0.0)  0.35+i(0.0)  \n",
            "0.35+i(0.0)  0.25+i(0.25)  0.0+i(0.35)  -0.25+i(0.25)  -0.35+i(0.0)  -0.25+i(-0.25)  0.0+i(-0.35)  0.25+i(-0.25)  \n",
            "0.35+i(0.0)  0.0+i(0.35)  -0.35+i(0.0)  0.0+i(-0.35)  0.35+i(0.0)  0.0+i(0.35)  -0.35+i(0.0)  0.0+i(-0.35)  \n",
            "0.35+i(0.0)  -0.25+i(0.25)  0.0+i(-0.35)  0.25+i(0.25)  -0.35+i(0.0)  0.25+i(-0.25)  0.0+i(0.35)  -0.25+i(-0.25)  \n",
            "0.35+i(0.0)  -0.35+i(0.0)  0.35+i(0.0)  -0.35+i(0.0)  0.35+i(0.0)  -0.35+i(0.0)  0.35+i(0.0)  -0.35+i(0.0)  \n",
            "0.35+i(0.0)  -0.25+i(-0.25)  0.0+i(0.35)  0.25+i(-0.25)  -0.35+i(0.0)  0.25+i(0.25)  0.0+i(-0.35)  -0.25+i(0.25)  \n",
            "0.35+i(0.0)  0.0+i(-0.35)  -0.35+i(0.0)  0.0+i(0.35)  0.35+i(0.0)  0.0+i(-0.35)  -0.35+i(0.0)  0.0+i(0.35)  \n",
            "0.35+i(0.0)  0.25+i(-0.25)  0.0+i(-0.35)  -0.25+i(-0.25)  -0.35+i(0.0)  -0.25+i(0.25)  0.0+i(0.35)  0.25+i(0.25)  \n"
          ]
        }
      ],
      "source": [
        "from math import pi, sin, cos\n",
        "#\n",
        "# our code here\n",
        "#\n",
        "n = 3\n",
        "N = 2 ** n\n",
        "\n",
        "phi = 2 * pi / N\n",
        "\n",
        "coefficient = 1 / (N ** 0.5)\n",
        "omega = complex(cos(phi), sin(phi))\n",
        "\n",
        "print(\"QFT from python:\")\n",
        "for i in range(N):\n",
        "  row_str = \"\"\n",
        "  for j in range(N):\n",
        "    val = coefficient * omega ** (i * j)\n",
        "    R = round(val.real, 2)\n",
        "    I = round(val.imag, 2)\n",
        "    row_str += str(R) + \"+i(\" + str(I) + \")  \"\n",
        "  print(row_str)\n",
        "\n",
        "print()\n",
        "print()\n",
        "\n",
        "print(\"QFT from myQFT:\")\n",
        "qubits = cirq.LineQubit.range(n)\n",
        "QFT = myQFT(qubits)\n",
        "matrix = cirq.unitary(QFT)\n",
        "\n",
        "for row in matrix:\n",
        "  row_str = \"\"\n",
        "  for val in row:\n",
        "    R = round(val.real, 2)\n",
        "    I = round(val.imag, 2)\n",
        "    row_str += str(R) + \"+i(\" + str(I) + \")  \"\n",
        "  print(row_str)"
      ]
    },
    {
      "cell_type": "markdown",
      "metadata": {
        "id": "fpK4eDcjFlHe"
      },
      "source": [
        "To check out our solution, run the next cell:"
      ]
    },
    {
      "cell_type": "code",
      "execution_count": null,
      "metadata": {
        "id": "e_1ArElHFlHe"
      },
      "outputs": [],
      "source": [
        "SolutionToTask8()  # show solution for task 8"
      ]
    },
    {
      "cell_type": "markdown",
      "metadata": {
        "id": "oQ7XVxsMFlHf"
      },
      "source": [
        "<a name=\"task9\"></a>\n",
        "<h3>Task 9</h3>\n",
        "\n",
        "Write an explicit method named `myInvQFT` for desgining the circuit of inverse QFT on the given list of qubits.\n",
        "\n",
        "Test it for $ n=4 $ by comparing your circuit matrix with the circuit matrix generated with built-in inverse QFT."
      ]
    },
    {
      "cell_type": "code",
      "execution_count": 10,
      "metadata": {
        "id": "1264ZiIzFlHf"
      },
      "outputs": [],
      "source": [
        "import cirq\n",
        "from cirq import H, SWAP\n",
        "from cirq.circuits import InsertStrategy\n",
        "from math import pi\n",
        "\n",
        "def myInvQFT(qubits):\n",
        "\n",
        "    circuit = cirq.Circuit() # create a circuit\n",
        "    #\n",
        "    #Your code here\n",
        "    #\n",
        "    n = len(qubits)\n",
        "    for j in range(n // 2):\n",
        "      circuit.append(SWAP.on(qubits[j], qubits[n - j - 1]), strategy = InsertStrategy.NEW)\n",
        "\n",
        "    for i in range(n - 1, -1, -1):\n",
        "      phase_divisor = 2 ** (n - i)\n",
        "      for j in range(n - 1, i, -1):\n",
        "        circuit.append(cirq.CZPowGate(exponent = -2 / phase_divisor).on(qubits[j], qubits[i]), strategy = InsertStrategy.NEW)\n",
        "        phase_divisor = phase_divisor / 2\n",
        "      circuit.append(H(qubits[i]), strategy = InsertStrategy.NEW)\n",
        "\n",
        "    return circuit"
      ]
    },
    {
      "cell_type": "code",
      "execution_count": 11,
      "metadata": {
        "id": "oXw88XedFlHf",
        "outputId": "4d925080-93a8-4c88-d594-42e3411af6a1",
        "colab": {
          "base_uri": "https://localhost:8080/"
        }
      },
      "outputs": [
        {
          "output_type": "stream",
          "name": "stdout",
          "text": [
            "n = 4 \n",
            "\n",
            "my circuit for IQFT:\n",
            "0: ───×───────────────────────────────────────────────@──────────@─────────@────────H───\n",
            "      │                                               │          │         │\n",
            "1: ───┼───×────────────────────@─────────@────────H───┼──────────┼─────────@^-0.5───────\n",
            "      │   │                    │         │            │          │\n",
            "2: ───┼───×───────@────────H───┼─────────@^-0.5───────┼──────────@^-0.25────────────────\n",
            "      │           │            │                      │\n",
            "3: ───×───────H───@^-0.5───────@^-0.25────────────────@^(-1/8)──────────────────────────\n",
            "\n",
            "\n",
            "Are the two matrices of the inverse of QFT equal?\n",
            "True\n"
          ]
        }
      ],
      "source": [
        "import numpy as np\n",
        "\n",
        "qubits = cirq.LineQubit.range(4) #create 4 qubits\n",
        "\n",
        "myInvQFT_circuit = myInvQFT(qubits)\n",
        "\n",
        "InvQFT_circuit = cirq.Circuit(cirq.qft(*qubits, without_reverse=False, inverse=True))\n",
        "\n",
        "print(\"n = 4 \")\n",
        "print()\n",
        "print(\"my circuit for IQFT:\")\n",
        "print(myInvQFT_circuit)\n",
        "print()\n",
        "\n",
        "\n",
        "# Check equality of the 'manual' and 'built-in' QFTs.\n",
        "myInvQFT_matrix = cirq.unitary(myInvQFT_circuit)\n",
        "InvQFT_matrix = cirq.unitary(InvQFT_circuit)\n",
        "print()\n",
        "print(\"Are the two matrices of the inverse of QFT equal?\")\n",
        "print(np.allclose(myInvQFT_matrix, InvQFT_matrix))  # element-wise equal within a tolerance"
      ]
    },
    {
      "cell_type": "markdown",
      "metadata": {
        "id": "JSBiUCOZFlHf"
      },
      "source": [
        "To check out our solution, run the next cell:"
      ]
    },
    {
      "cell_type": "code",
      "execution_count": null,
      "metadata": {
        "id": "BXyJCdvDFlHf",
        "outputId": "02225acc-57aa-4965-ad8a-a0398d6d6880",
        "colab": {
          "base_uri": "https://localhost:8080/",
          "height": 17
        }
      },
      "outputs": [
        {
          "output_type": "display_data",
          "data": {
            "text/plain": [
              "<IPython.core.display.Javascript object>"
            ],
            "application/javascript": [
              "window.open(\"https://colab.research.google.com/drive/1mLcPeMqxmQs5xLzqWNPvpPTcAVVXFPxq#scrollTo=leUvkPgoA7mb\");"
            ]
          },
          "metadata": {}
        }
      ],
      "source": [
        "SolutionToTask9()  # show solution for task 9"
      ]
    }
  ]
}