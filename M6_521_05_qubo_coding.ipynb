{
  "cells": [
    {
      "cell_type": "markdown",
      "metadata": {
        "id": "view-in-github",
        "colab_type": "text"
      },
      "source": [
        "<a href=\"https://colab.research.google.com/github/james-lucius/qureca_ADEQUATE/blob/main/M6_521_05_qubo_coding.ipynb\" target=\"_parent\"><img src=\"https://colab.research.google.com/assets/colab-badge.svg\" alt=\"Open In Colab\"/></a>"
      ]
    },
    {
      "cell_type": "markdown",
      "metadata": {
        "id": "41GrN-mfORx_"
      },
      "source": [
        "<img src=\"https://gitlab.com/qworld/qeducation/educational-materials/adequate-qbook1/raw/main/qworld/images/adq_1.png\" align=\"left\" width=450></a>\n",
        "$ \\newcommand{\\bra}[1]{\\langle #1|} $\n",
        "$ \\newcommand{\\ket}[1]{|#1\\rangle} $\n",
        "$ \\newcommand{\\braket}[2]{\\langle #1|#2\\rangle} $\n",
        "$ \\newcommand{\\dot}[2]{ #1 \\cdot #2} $\n",
        "$ \\newcommand{\\biginner}[2]{\\left\\langle #1,#2\\right\\rangle} $\n",
        "$ \\newcommand{\\mymatrix}[2]{\\left( \\begin{array}{#1} #2\\end{array} \\right)} $\n",
        "$ \\newcommand{\\myvector}[1]{\\mymatrix{c}{#1}} $\n",
        "$ \\newcommand{\\myrvector}[1]{\\mymatrix{r}{#1}} $\n",
        "$ \\newcommand{\\mypar}[1]{\\left( #1 \\right)} $\n",
        "$ \\newcommand{\\mybigpar}[1]{ \\Big( #1 \\Big)} $\n",
        "$ \\newcommand{\\sqrttwo}{\\frac{1}{\\sqrt{2}}} $\n",
        "$ \\newcommand{\\dsqrttwo}{\\dfrac{1}{\\sqrt{2}}} $\n",
        "$ \\newcommand{\\onehalf}{\\frac{1}{2}} $\n",
        "$ \\newcommand{\\donehalf}{\\dfrac{1}{2}} $\n",
        "$ \\newcommand{\\hadamard}{ \\mymatrix{rr}{ \\sqrttwo & \\sqrttwo \\\\ \\sqrttwo & -\\sqrttwo }} $\n",
        "$ \\newcommand{\\vzero}{\\myvector{1\\\\0}} $\n",
        "$ \\newcommand{\\vone}{\\myvector{0\\\\1}} $\n",
        "$ \\newcommand{\\stateplus}{\\myvector{ \\sqrttwo \\\\  \\sqrttwo } } $\n",
        "$ \\newcommand{\\stateminus}{ \\myrvector{ \\sqrttwo \\\\ -\\sqrttwo } } $\n",
        "$ \\newcommand{\\myarray}[2]{ \\begin{array}{#1}#2\\end{array}} $\n",
        "$ \\newcommand{\\X}{ \\mymatrix{cc}{0 & 1 \\\\ 1 & 0}  } $\n",
        "$ \\newcommand{\\I}{ \\mymatrix{rr}{1 & 0 \\\\ 0 & 1}  } $\n",
        "$ \\newcommand{\\Z}{ \\mymatrix{rr}{1 & 0 \\\\ 0 & -1}  } $\n",
        "$ \\newcommand{\\Htwo}{ \\mymatrix{rrrr}{ \\frac{1}{2} & \\frac{1}{2} & \\frac{1}{2} & \\frac{1}{2} \\\\ \\frac{1}{2} & -\\frac{1}{2} & \\frac{1}{2} & -\\frac{1}{2} \\\\ \\frac{1}{2} & \\frac{1}{2} & -\\frac{1}{2} & -\\frac{1}{2} \\\\ \\frac{1}{2} & -\\frac{1}{2} & -\\frac{1}{2} & \\frac{1}{2} } } $\n",
        "$ \\newcommand{\\CNOT}{ \\mymatrix{cccc}{1 & 0 & 0 & 0 \\\\ 0 & 1 & 0 & 0 \\\\ 0 & 0 & 0 & 1 \\\\ 0 & 0 & 1 & 0} } $\n",
        "$ \\newcommand{\\norm}[1]{ \\left\\lVert #1 \\right\\rVert } $\n",
        "$ \\newcommand{\\pstate}[1]{ \\lceil \\mspace{-1mu} #1 \\mspace{-1.5mu} \\rfloor } $\n",
        "$ \\newcommand{\\greenbit}[1] {\\mathbf{{\\color{green}#1}}} $\n",
        "$ \\newcommand{\\bluebit}[1] {\\mathbf{{\\color{blue}#1}}} $\n",
        "$ \\newcommand{\\redbit}[1] {\\mathbf{{\\color{red}#1}}} $\n",
        "$ \\newcommand{\\brownbit}[1] {\\mathbf{{\\color{brown}#1}}} $\n",
        "$ \\newcommand{\\blackbit}[1] {\\mathbf{{\\color{black}#1}}} $"
      ]
    },
    {
      "cell_type": "markdown",
      "metadata": {
        "id": "ZdFFnm9UORyB"
      },
      "source": [
        "_prepared by Özlem Salehi_"
      ]
    },
    {
      "cell_type": "markdown",
      "metadata": {
        "id": "PKwB3kSHORyB"
      },
      "source": [
        "<font size=\"28px\" style=\"font-size:28px;\" align=\"left\"><b>Exercises: QUBO</b></font>\n"
      ]
    },
    {
      "cell_type": "markdown",
      "source": [
        "Run the following cell to perform necessary installations:"
      ],
      "metadata": {
        "id": "qbBhtYRuvM6C"
      }
    },
    {
      "cell_type": "code",
      "source": [
        "try:\n",
        "  import qiskit, qiskit_aer, qiskit_optimization, networkx\n",
        "  print(\"Qiskit has been imported \")\n",
        "except:\n",
        "  print(\"Installing Qiskit...\")\n",
        "  !pip install -U -q qiskit[visualization]\n",
        "  !pip install -U -q qiskit-aer\n",
        "  !pip install -U -q qiskit_optimization\n",
        "  !pip install -U -q networkx\n",
        "  print(\"Qiskit has been installed\")"
      ],
      "metadata": {
        "id": "vgFYZSNUL7zi",
        "outputId": "a077454a-cda7-4627-a258-9c4f9f1800c2",
        "colab": {
          "base_uri": "https://localhost:8080/"
        }
      },
      "execution_count": 1,
      "outputs": [
        {
          "output_type": "stream",
          "name": "stdout",
          "text": [
            "Installing Qiskit...\n",
            "\u001b[2K     \u001b[90m━━━━━━━━━━━━━━━━━━━━━━━━━━━━━━━━━━━━━━\u001b[0m \u001b[32m162.6/162.6 kB\u001b[0m \u001b[31m13.0 MB/s\u001b[0m eta \u001b[36m0:00:00\u001b[0m\n",
            "\u001b[?25h  Preparing metadata (setup.py) ... \u001b[?25l\u001b[?25hdone\n",
            "\u001b[2K   \u001b[90m━━━━━━━━━━━━━━━━━━━━━━━━━━━━━━━━━━━━━━━━\u001b[0m \u001b[32m2.1/2.1 MB\u001b[0m \u001b[31m40.2 MB/s\u001b[0m eta \u001b[36m0:00:00\u001b[0m\n",
            "\u001b[2K   \u001b[90m━━━━━━━━━━━━━━━━━━━━━━━━━━━━━━━━━━━━━━━━\u001b[0m \u001b[32m49.5/49.5 kB\u001b[0m \u001b[31m3.4 MB/s\u001b[0m eta \u001b[36m0:00:00\u001b[0m\n",
            "\u001b[2K   \u001b[90m━━━━━━━━━━━━━━━━━━━━━━━━━━━━━━━━━━━━━━━━\u001b[0m \u001b[32m7.5/7.5 MB\u001b[0m \u001b[31m38.2 MB/s\u001b[0m eta \u001b[36m0:00:00\u001b[0m\n",
            "\u001b[2K   \u001b[90m━━━━━━━━━━━━━━━━━━━━━━━━━━━━━━━━━━━━━━━━\u001b[0m \u001b[32m109.0/109.0 kB\u001b[0m \u001b[31m6.4 MB/s\u001b[0m eta \u001b[36m0:00:00\u001b[0m\n",
            "\u001b[?25h  Building wheel for pylatexenc (setup.py) ... \u001b[?25l\u001b[?25hdone\n",
            "\u001b[2K   \u001b[90m━━━━━━━━━━━━━━━━━━━━━━━━━━━━━━━━━━━━━━━━\u001b[0m \u001b[32m12.4/12.4 MB\u001b[0m \u001b[31m102.2 MB/s\u001b[0m eta \u001b[36m0:00:00\u001b[0m\n",
            "\u001b[2K     \u001b[90m━━━━━━━━━━━━━━━━━━━━━━━━━━━━━━━━━━━━━━\u001b[0m \u001b[32m646.5/646.5 kB\u001b[0m \u001b[31m34.1 MB/s\u001b[0m eta \u001b[36m0:00:00\u001b[0m\n",
            "\u001b[?25h  Installing build dependencies ... \u001b[?25l\u001b[?25hdone\n",
            "  Getting requirements to build wheel ... \u001b[?25l\u001b[?25hdone\n",
            "  Installing backend dependencies ... \u001b[?25l\u001b[?25hdone\n",
            "  Preparing metadata (pyproject.toml) ... \u001b[?25l\u001b[?25hdone\n",
            "\u001b[2K   \u001b[90m━━━━━━━━━━━━━━━━━━━━━━━━━━━━━━━━━━━━━━━━\u001b[0m \u001b[32m167.6/167.6 kB\u001b[0m \u001b[31m13.3 MB/s\u001b[0m eta \u001b[36m0:00:00\u001b[0m\n",
            "\u001b[2K   \u001b[90m━━━━━━━━━━━━━━━━━━━━━━━━━━━━━━━━━━━━━━━━\u001b[0m \u001b[32m310.5/310.5 kB\u001b[0m \u001b[31m21.5 MB/s\u001b[0m eta \u001b[36m0:00:00\u001b[0m\n",
            "\u001b[?25h  Building wheel for docplex (pyproject.toml) ... \u001b[?25l\u001b[?25hdone\n",
            "Qiskit has been installed\n"
          ]
        }
      ]
    },
    {
      "cell_type": "markdown",
      "source": [
        "### Task 1"
      ],
      "metadata": {
        "id": "3vRS7nVBAuKA"
      }
    },
    {
      "cell_type": "markdown",
      "source": [
        "\n",
        "Find out what assignment of $x_1,x_2,x_3,x_4$ minimizes the following objective function\n",
        "\n",
        "$$f(x_1, x_2, x_3, x_4) = - 5x_1 - 3x_2 - 8x_3 - 6x_4 + 4x_1 x_2 + 8x_1 x_3 + 2x_2 x_3 + 10x_3 x_4.$$\n",
        "\n",
        "Write a function to compute $f(x_1, x_2, x_3, x_4)$ for different  assignments to $x_1$ and $x_2$ and use this function to find the lowest value of the function."
      ],
      "metadata": {
        "id": "vA2y2aHsAuGr"
      }
    },
    {
      "cell_type": "code",
      "source": [
        "def calc_energy(x_1, x_2, x_3, x_4):\n",
        "    #your code here\n",
        "    return (-5 * x_1) + (-3 * x_2) + (-8 * x_3) + (-6 * x_4) + (4 * x_1 * x_2) + (8 * x_1 * x_3) + (2 * x_2 * x_3) + (10 * x_3 * x_4)"
      ],
      "metadata": {
        "id": "NKEsMRPyE4tY"
      },
      "execution_count": 2,
      "outputs": []
    },
    {
      "cell_type": "code",
      "source": [
        "from itertools import product\n",
        "configurations = list(product([0,1], repeat = 4))\n",
        "\n",
        "#Your code here\n",
        "conf_dict = {}\n",
        "lowest_e = 1000\n",
        "ground_state = []\n",
        "for c in configurations:\n",
        "  e = calc_energy(c[0], c[1], c[2], c[3])\n",
        "  print(f\"Energy for assignment {c}: {e}\")\n",
        "  if e < lowest_e:\n",
        "    lowest_e = e\n",
        "    ground_state = c\n",
        "print(f\"Ground_state: {ground_state}\")\n",
        "print(f\"Lowest energy: {lowest_e}\")"
      ],
      "metadata": {
        "id": "EFG0LJFWE8Jz",
        "outputId": "87b2f60f-46b4-4d70-e049-0c29b7605789",
        "colab": {
          "base_uri": "https://localhost:8080/"
        }
      },
      "execution_count": 3,
      "outputs": [
        {
          "output_type": "stream",
          "name": "stdout",
          "text": [
            "Energy for assignment (0, 0, 0, 0): 0\n",
            "Energy for assignment (0, 0, 0, 1): -6\n",
            "Energy for assignment (0, 0, 1, 0): -8\n",
            "Energy for assignment (0, 0, 1, 1): -4\n",
            "Energy for assignment (0, 1, 0, 0): -3\n",
            "Energy for assignment (0, 1, 0, 1): -9\n",
            "Energy for assignment (0, 1, 1, 0): -9\n",
            "Energy for assignment (0, 1, 1, 1): -5\n",
            "Energy for assignment (1, 0, 0, 0): -5\n",
            "Energy for assignment (1, 0, 0, 1): -11\n",
            "Energy for assignment (1, 0, 1, 0): -5\n",
            "Energy for assignment (1, 0, 1, 1): -1\n",
            "Energy for assignment (1, 1, 0, 0): -4\n",
            "Energy for assignment (1, 1, 0, 1): -10\n",
            "Energy for assignment (1, 1, 1, 0): -2\n",
            "Energy for assignment (1, 1, 1, 1): 2\n",
            "Ground_state: (1, 0, 0, 1)\n",
            "Lowest energy: -11\n"
          ]
        }
      ]
    },
    {
      "cell_type": "markdown",
      "source": [
        "### Solution"
      ],
      "metadata": {
        "id": "tmEYT2rUAuDB"
      }
    },
    {
      "cell_type": "code",
      "source": [
        "def calc_energy(x_1, x_2, x_3, x_4):\n",
        "    return -5*x_1-3*x_2-8*x_3-6*x_4+4*x_1*x_2+8*x_1*x_3+2*x_2*x_3+10*x_3*x_4"
      ],
      "metadata": {
        "id": "9p3ACeSaDqVV"
      },
      "execution_count": 4,
      "outputs": []
    },
    {
      "cell_type": "code",
      "source": [
        "from itertools import product\n",
        "configurations = list(product([0,1], repeat = 4))\n",
        "\n",
        "conf_dict = {}\n",
        "lowest_e = 1000\n",
        "ground_state = []\n",
        "for x in configurations:\n",
        "    e = calc_energy(x[0],x[1],x[2], x[3])\n",
        "    print(\"Energy for assignment\",x,\": \", e)\n",
        "    if e < lowest_e:\n",
        "        lowest_e = e\n",
        "        ground_state = x\n",
        "print(\"Ground state: \", ground_state)\n",
        "print(\"Lowest value: \", lowest_e)"
      ],
      "metadata": {
        "id": "OlWS7_PsESR0",
        "outputId": "0cceedf4-e6a4-4316-e5af-c5dd0fd46a4b",
        "colab": {
          "base_uri": "https://localhost:8080/"
        }
      },
      "execution_count": 5,
      "outputs": [
        {
          "output_type": "stream",
          "name": "stdout",
          "text": [
            "Energy for assignment (0, 0, 0, 0) :  0\n",
            "Energy for assignment (0, 0, 0, 1) :  -6\n",
            "Energy for assignment (0, 0, 1, 0) :  -8\n",
            "Energy for assignment (0, 0, 1, 1) :  -4\n",
            "Energy for assignment (0, 1, 0, 0) :  -3\n",
            "Energy for assignment (0, 1, 0, 1) :  -9\n",
            "Energy for assignment (0, 1, 1, 0) :  -9\n",
            "Energy for assignment (0, 1, 1, 1) :  -5\n",
            "Energy for assignment (1, 0, 0, 0) :  -5\n",
            "Energy for assignment (1, 0, 0, 1) :  -11\n",
            "Energy for assignment (1, 0, 1, 0) :  -5\n",
            "Energy for assignment (1, 0, 1, 1) :  -1\n",
            "Energy for assignment (1, 1, 0, 0) :  -4\n",
            "Energy for assignment (1, 1, 0, 1) :  -10\n",
            "Energy for assignment (1, 1, 1, 0) :  -2\n",
            "Energy for assignment (1, 1, 1, 1) :  2\n",
            "Ground state:  (1, 0, 0, 1)\n",
            "Lowest value:  -11\n"
          ]
        }
      ]
    },
    {
      "cell_type": "markdown",
      "source": [
        "### Task 2\n",
        "\n",
        "Convert the following QUBO formulation into Ising formulation:\n",
        "\n",
        "$$f (x_1, x_2) = 5x_1 + 7x_1 x_2 - 3x_2.$$"
      ],
      "metadata": {
        "id": "_gNdEtKMRk5O"
      }
    },
    {
      "cell_type": "markdown",
      "source": [
        "### Solution"
      ],
      "metadata": {
        "id": "bpq_1PJ7Ru52"
      }
    },
    {
      "cell_type": "markdown",
      "source": [
        "We replace each occurence of $x_1$ with $\\frac{1+s_1}{2}$ and $x_2$ with $\\frac{1+s_2}{2}$.\n",
        "\n",
        "\n",
        "\n",
        "\n",
        "\\begin{align*}\n",
        "5\\frac{(1+s_1)}{2} + 7\\frac{(1+s_1)}{2}\\frac{(1+s_2)}{2} - 3 \\frac{(1+s_2)}{2}\n",
        "&= \\frac{(5+5s_1)}{2} + \\frac{(7+7s_1+7s_2+7s_1s_2)}{4} +  \\frac{(-3-3s_2)}{2} \\\\\n",
        "&= \\frac{17}{4}s_1 + \\frac{1}{4}s_2 + \\frac{7}{4}s_1s_2 + \\frac{11}{4}\n",
        "\\end{align*}"
      ],
      "metadata": {
        "id": "RpNwBVSNRwmV"
      }
    },
    {
      "cell_type": "markdown",
      "source": [
        "### Task 3\n",
        "\n",
        "In Qiskit, one can create quadratic programs and convert them to QUBO as follows."
      ],
      "metadata": {
        "id": "c24_XRivSN6h"
      }
    },
    {
      "cell_type": "code",
      "source": [
        "from qiskit_optimization import QuadraticProgram\n",
        "from qiskit_optimization.converters import QuadraticProgramToQubo\n",
        "\n",
        "mod = QuadraticProgram(\"my problem\")\n",
        "\n",
        "mod.binary_var(name=\"x1\")\n",
        "mod.binary_var(name=\"x2\")\n",
        "\n",
        "mod.minimize(constant=0, linear={\"x1\": 5, \"x2\": -3}, quadratic={(\"x1\", \"x2\"): 7})\n",
        "conv = QuadraticProgramToQubo()\n",
        "qubo = conv.convert(mod)\n",
        "\n",
        "# Your code here\n",
        "ising, x = qubo.to_ising()\n",
        "print(ising, x)"
      ],
      "metadata": {
        "id": "eIbDiRRNSHHb",
        "outputId": "07764ae0-181d-4892-cc08-fbbeb649c301",
        "colab": {
          "base_uri": "https://localhost:8080/"
        }
      },
      "execution_count": 6,
      "outputs": [
        {
          "output_type": "stream",
          "name": "stdout",
          "text": [
            "SparsePauliOp(['IZ', 'ZI', 'ZZ'],\n",
            "              coeffs=[-4.25+0.j, -0.25+0.j,  1.75+0.j]) 2.75\n"
          ]
        }
      ]
    },
    {
      "cell_type": "markdown",
      "source": [
        "Use `to_ising()` function of QUBO to obtain the corresponding Ising model and compare your result with Task 3.\n"
      ],
      "metadata": {
        "id": "RnJHRdxaSitq"
      }
    },
    {
      "cell_type": "markdown",
      "source": [
        "### Solution"
      ],
      "metadata": {
        "id": "DZBiPMpZStgO"
      }
    },
    {
      "cell_type": "code",
      "source": [
        "from qiskit_optimization import QuadraticProgram\n",
        "from qiskit_optimization.converters import QuadraticProgramToQubo\n",
        "\n",
        "mod = QuadraticProgram(\"my problem\")\n",
        "\n",
        "mod.binary_var(name=\"x1\")\n",
        "mod.binary_var(name=\"x2\")\n",
        "\n",
        "mod.minimize(constant=0, linear={\"x1\": 5, \"x2\": -3}, quadratic={(\"x1\", \"x2\"): 7})\n",
        "conv = QuadraticProgramToQubo()\n",
        "qubo = conv.convert(mod)\n",
        "\n",
        "ising, x = qubo.to_ising()\n",
        "print(ising, x)"
      ],
      "metadata": {
        "id": "9lcugKwkSgi-",
        "outputId": "240c8c60-19ae-4029-fbd8-f8b88a0c3c47",
        "colab": {
          "base_uri": "https://localhost:8080/"
        }
      },
      "execution_count": 7,
      "outputs": [
        {
          "output_type": "stream",
          "name": "stdout",
          "text": [
            "SparsePauliOp(['IZ', 'ZI', 'ZZ'],\n",
            "              coeffs=[-4.25+0.j, -0.25+0.j,  1.75+0.j]) 2.75\n"
          ]
        }
      ]
    },
    {
      "cell_type": "markdown",
      "source": [
        "### Task 4"
      ],
      "metadata": {
        "id": "WXLh4VRPFBxM"
      }
    },
    {
      "cell_type": "markdown",
      "source": [
        "Suppose that we want to minimize the following function:\n",
        "\n",
        "$$2x_1x_2 - x_1 + 3$$\n",
        "\n",
        "such that the constraint $x_1 + x_2 = 1$ is satisfied.\n",
        "\n",
        "In Qiskit, you don't need to worry about the penalty method. Constraints are automatically converted for you. You can also provide a `penalty` parameter to the converter.\n"
      ],
      "metadata": {
        "id": "WcdTETVbHrZC"
      }
    },
    {
      "cell_type": "code",
      "source": [
        "from qiskit_optimization import QuadraticProgram\n",
        "from qiskit_optimization.converters import QuadraticProgramToQubo\n",
        "\n",
        "mod = QuadraticProgram(\"my problem\")\n",
        "\n",
        "mod.binary_var(name=\"x1\")\n",
        "mod.binary_var(name=\"x2\")\n",
        "\n",
        "mod.minimize(constant=3, linear={\"x1\": 1}, quadratic={(\"x1\", \"x2\"): 2})\n",
        "mod.linear_constraint(linear={\"x1\": 1, \"x2\": 1}, sense=\"==\", rhs=1, name=\"c1\")\n",
        "\n",
        "conv = QuadraticProgramToQubo(penalty = 4)\n",
        "qubo = conv.convert(mod)\n",
        "print(qubo)\n",
        "ising, x = qubo.to_ising()\n",
        "print(ising, x)\n"
      ],
      "metadata": {
        "id": "3B2pn_hxLDmy",
        "outputId": "69e23232-9b6c-42b7-88b5-bdf927fd172e",
        "colab": {
          "base_uri": "https://localhost:8080/"
        }
      },
      "execution_count": 8,
      "outputs": [
        {
          "output_type": "stream",
          "name": "stdout",
          "text": [
            "minimize 4*x1^2 + 10*x1*x2 + 4*x2^2 - 7*x1 - 8*x2 + 7 (2 variables, 0 constraints, 'my problem')\n",
            "SparsePauliOp(['IZ', 'ZI', 'ZZ'],\n",
            "              coeffs=[-1. +0.j, -0.5+0.j,  2.5+0.j]) 6.0\n"
          ]
        }
      ]
    },
    {
      "cell_type": "markdown",
      "source": [
        "For the graph given below, create the QUBO formulation. Set penalty as 40. Then obtain the corresponding Ising model."
      ],
      "metadata": {
        "id": "xqKuTV2aI-wi"
      }
    },
    {
      "cell_type": "markdown",
      "source": [
        "![image.png](data:image/png;base64,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)"
      ],
      "metadata": {
        "id": "IwjuLcM1NJUv"
      }
    },
    {
      "cell_type": "code",
      "source": [
        "from qiskit_optimization import QuadraticProgram\n",
        "from qiskit_optimization.converters import QuadraticProgramToQubo\n",
        "import numpy as np\n",
        "\n",
        "# Weight matrix\n",
        "W = np.array([[0,12,14,17],\n",
        "             [12,0,15,18],\n",
        "             [14,15,0,29],\n",
        "             [17,18,29,0]])\n",
        "\n",
        "#Create the problem\n",
        "tsp = QuadraticProgram(\"my problem\")\n",
        "N = 4\n",
        "#Create the binary variables\n",
        "for i in range(N):\n",
        "  for j in range(N):\n",
        "    tsp.binary_var(name=f\"x_{i}_{j}\")\n"
      ],
      "metadata": {
        "id": "uVzRmHeQOFYG"
      },
      "execution_count": 9,
      "outputs": []
    },
    {
      "cell_type": "code",
      "source": [
        "# Add the constraints\n",
        "for i in range(N):\n",
        "  linear_dict = {f\"x_{i}_{j}\": 1 for j in range(N)}\n",
        "  tsp.linear_constraint(linear = linear_dict, sense = \"==\", rhs = 1, name = f\"cons1_{i}\")\n",
        "for t in range(N):\n",
        "  linear_dict = {f\"x_{i}_{j}\": 1 for i in range(N)}\n",
        "  tsp.linear_constraint(linear = linear_dict, sense = \"==\", rhs = 1, name = f\"cons2_{t}\")"
      ],
      "metadata": {
        "id": "UYER2cmIOFu1"
      },
      "execution_count": 10,
      "outputs": []
    },
    {
      "cell_type": "code",
      "source": [
        "# Add the cost function\n",
        "quadratic_dict = {}\n",
        "for i in range(N):\n",
        "  for j in range(N):\n",
        "    if i!= j:\n",
        "      for t in range(N - 1):\n",
        "        quadratic_dict[(f\"x_{i}_{t}\", f\"x_{j}_{t+1}\")]  = W[i][j]\n",
        "      quadratic_dict[(f\"x_{i}_{N-1}\", f\"x_{j}_{0}\")]  = W[i][j]\n",
        "tsp.minimize(quadratic=quadratic_dict)\n",
        "conv = QuadraticProgramToQubo(penalty = 40)\n",
        "tsp_qubo = conv.convert(tsp)\n",
        "tsp_ising, x = tsp_qubo.to_ising()"
      ],
      "metadata": {
        "id": "re7Zd5ibOSVL"
      },
      "execution_count": 11,
      "outputs": []
    },
    {
      "cell_type": "markdown",
      "source": [
        "### Solution"
      ],
      "metadata": {
        "id": "5Gj7L5lNNNcw"
      }
    },
    {
      "cell_type": "code",
      "source": [
        "from qiskit_optimization import QuadraticProgram\n",
        "from qiskit_optimization.converters import QuadraticProgramToQubo\n",
        "import numpy as np\n",
        "\n",
        "# Weight matrix\n",
        "W = np.array([[0,12,14,17],\n",
        "             [12,0,15,18],\n",
        "             [14,15,0,29],\n",
        "             [17,18,29,0]])\n",
        "\n",
        "#Create the problem\n",
        "tsp = QuadraticProgram(\"my problem\")\n",
        "N = 4\n",
        "#Create the binary variables\n",
        "for i in range(N):\n",
        "  for j in range(N):\n",
        "    tsp.binary_var(name=f\"x_{i}_{j}\")\n"
      ],
      "metadata": {
        "id": "9GpNUinw-572"
      },
      "execution_count": 12,
      "outputs": []
    },
    {
      "cell_type": "code",
      "source": [
        "# Add the constraints\n",
        "\n",
        "for i in range(N):\n",
        "  linear_dict = {f\"x_{i}_{j}\":1 for j in range(N)}\n",
        "  tsp.linear_constraint(linear=linear_dict, sense=\"==\", rhs=1, name=f\"cons1_{i}\")\n",
        "for t in range(N):\n",
        "  linear_dict = {f\"x_{i}_{t}\":1 for i in range(N)}\n",
        "  tsp.linear_constraint(linear=linear_dict, sense=\"==\", rhs=1, name=f\"cons2_{t}\")"
      ],
      "metadata": {
        "id": "5zkF17ulNdjM"
      },
      "execution_count": 13,
      "outputs": []
    },
    {
      "cell_type": "code",
      "source": [
        "# Add the cost function\n",
        "\n",
        "quadratic_dict = {}\n",
        "for i in range(N):\n",
        "  for j in range(N):\n",
        "    if i!= j:\n",
        "      for t in range(N - 1):\n",
        "        quadratic_dict[(f\"x_{i}_{t}\", f\"x_{j}_{t+1}\")]  = W[i][j]\n",
        "      quadratic_dict[(f\"x_{i}_{N-1}\", f\"x_{j}_{0}\")]  = W[i][j]\n",
        "tsp.minimize(quadratic=quadratic_dict)\n",
        "conv = QuadraticProgramToQubo(penalty = 40)\n",
        "tsp_qubo = conv.convert(tsp)\n",
        "tsp_ising, x = tsp_qubo.to_ising()"
      ],
      "metadata": {
        "id": "PJ6cVhWANdfI"
      },
      "execution_count": 14,
      "outputs": []
    },
    {
      "cell_type": "markdown",
      "source": [
        "### Task 5"
      ],
      "metadata": {
        "id": "bq0sM-BeCEvN"
      }
    },
    {
      "cell_type": "markdown",
      "source": [
        "Write a function that takes as input a bistring encoding a TSP problem, and the weight matrix, and returns the cost of the tour. Note that the variables are ordered as $x_{0,0}, x_{0,1}, x_{0,2},\\dots,x_{N-1,N-1}$."
      ],
      "metadata": {
        "id": "dYf8PnC-DUnQ"
      }
    },
    {
      "cell_type": "code",
      "source": [
        "def calculate_cost(bit_string, W):\n",
        "  ### Your code here\n",
        "  total = 0\n",
        "  index = 0\n",
        "  N= len(W)\n",
        "  bit_string = list(bit_string)\n",
        "  for i in range(N):\n",
        "    for j in range(N):\n",
        "      if bit_string[index]==\"1\":\n",
        "        total += W[i][j]\n",
        "      index += 1\n",
        "  return total"
      ],
      "metadata": {
        "id": "2Wy6gKS7Iir-"
      },
      "execution_count": 15,
      "outputs": []
    },
    {
      "cell_type": "markdown",
      "source": [
        "### Solution"
      ],
      "metadata": {
        "id": "L_ar4UWGDjrB"
      }
    },
    {
      "cell_type": "code",
      "source": [
        "def calculate_cost(bit_string, W):\n",
        "  total = 0\n",
        "  index = 0\n",
        "  N= len(W)\n",
        "  bit_string = list(bit_string)\n",
        "  for i in range(N):\n",
        "    for j in range(N):\n",
        "      if bit_string[index]==\"1\":\n",
        "        total += W[i][j]\n",
        "      index += 1\n",
        "  return total"
      ],
      "metadata": {
        "id": "0ZpL6xvyDTXK"
      },
      "execution_count": 16,
      "outputs": []
    }
  ],
  "metadata": {
    "kernelspec": {
      "display_name": "Python 3 (ipykernel)",
      "language": "python",
      "name": "python3"
    },
    "language_info": {
      "codemirror_mode": {
        "name": "ipython",
        "version": 3
      },
      "file_extension": ".py",
      "mimetype": "text/x-python",
      "name": "python",
      "nbconvert_exporter": "python",
      "pygments_lexer": "ipython3",
      "version": "3.11.4"
    },
    "colab": {
      "provenance": [],
      "toc_visible": true,
      "include_colab_link": true
    }
  },
  "nbformat": 4,
  "nbformat_minor": 0
}