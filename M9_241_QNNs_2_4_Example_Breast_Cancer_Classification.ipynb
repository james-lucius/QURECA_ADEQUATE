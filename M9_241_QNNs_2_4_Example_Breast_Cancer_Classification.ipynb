{
  "nbformat": 4,
  "nbformat_minor": 0,
  "metadata": {
    "colab": {
      "provenance": [],
      "include_colab_link": true
    },
    "kernelspec": {
      "name": "python3",
      "display_name": "Python 3"
    },
    "language_info": {
      "name": "python"
    }
  },
  "cells": [
    {
      "cell_type": "markdown",
      "metadata": {
        "id": "view-in-github",
        "colab_type": "text"
      },
      "source": [
        "<a href=\"https://colab.research.google.com/github/james-lucius/qureca_ADEQUATE/blob/main/M9_241_QNNs_2_4_Example_Breast_Cancer_Classification.ipynb\" target=\"_parent\"><img src=\"https://colab.research.google.com/assets/colab-badge.svg\" alt=\"Open In Colab\"/></a>"
      ]
    },
    {
      "cell_type": "markdown",
      "source": [
        "<img src=\"https://gitlab.com/qworld/qeducation/educational-materials/adequate-qbook1/raw/main/qworld/images/adq_1.png\" align=\"left\" width=450>"
      ],
      "metadata": {
        "id": "8fozsJF9WrTZ"
      }
    },
    {
      "cell_type": "markdown",
      "source": [
        "_prepared by Claudia Zendejas-Morales_"
      ],
      "metadata": {
        "id": "XmdLWP6ZGlGH"
      }
    },
    {
      "cell_type": "markdown",
      "source": [
        "## 2.4 Example: Breast Cancer Classification\n",
        "\n",
        "Let's look at a complete example in [PennyLane](https://pennylane.ai/), which is a flexible and powerful open-source framework for quantum programming, and it shines especially when working with quantum neural network models.\n",
        "\n",
        "We will use it along with [TensorFlow](https://www.tensorflow.org/) to train a QNN to perform a binary classification.\n",
        "\n",
        "We are going to use one of the toy datasets provided by the\n",
        "scikit-learn package: the \"[Breast cancer Wisconsin dataset](https://scikit-learn.org/stable/datasets/toy_dataset.html#breast-cancer-dataset).\" This dataset has $569$ samples with $30$ numerical features each that can be used to characterize whether a breast mass is benign or malignant. The label of each sample can be either $0$ or $1$, respectively."
      ],
      "metadata": {
        "id": "z8LYnrbrYH3u"
      }
    },
    {
      "cell_type": "markdown",
      "source": [
        "Setting up the environment:"
      ],
      "metadata": {
        "id": "F-oJ5perC2sr"
      }
    },
    {
      "cell_type": "code",
      "source": [
        "!pip install pennylane==0.40.0 &> /dev/null   # use \"&> /dev/null\" so that the standard output of the installation is not displayed\n",
        "\n",
        "!pip install silence-tensorflow &> /dev/null\n",
        "\n",
        "import os\n",
        "os.environ[\"TF_USE_LEGACY_KERAS\"] = \"1\"       # to configure compatibility with PennyLane\n",
        "\n",
        "from silence_tensorflow import silence_tensorflow\n",
        "silence_tensorflow()                          # do not show annoying TensorFlow warnings\n",
        "\n",
        "print(\"Setup completed\")"
      ],
      "metadata": {
        "colab": {
          "base_uri": "https://localhost:8080/"
        },
        "id": "esX4re_SCuzb",
        "outputId": "2571de8f-0f68-4489-f4f6-477353397488"
      },
      "execution_count": 1,
      "outputs": [
        {
          "output_type": "stream",
          "name": "stdout",
          "text": [
            "Setup completed\n"
          ]
        }
      ]
    },
    {
      "cell_type": "markdown",
      "source": [
        "Let's begin with some necessary imports and setting some seeds to make sure that our results are reproducible:"
      ],
      "metadata": {
        "id": "cjFeHYq1Dgxe"
      }
    },
    {
      "cell_type": "code",
      "source": [
        "import pennylane as qml\n",
        "import numpy as np\n",
        "import tensorflow as tf\n",
        "\n",
        "seed = 4321\n",
        "np.random.seed(seed)\n",
        "tf.random.set_seed(seed)\n",
        "\n",
        "tf.keras.backend.set_floatx('float64')  # ask TensorFlow to work with doubles just as PennyLane does"
      ],
      "metadata": {
        "id": "6siAAcm4DH3W"
      },
      "execution_count": 2,
      "outputs": []
    },
    {
      "cell_type": "markdown",
      "source": [
        "We load the dataset and separate the features and labels into two different variables:"
      ],
      "metadata": {
        "id": "Pxh5Zj0wJOTi"
      }
    },
    {
      "cell_type": "code",
      "source": [
        "from sklearn.datasets import load_breast_cancer\n",
        "\n",
        "\n",
        "bc_data = load_breast_cancer()\n",
        "\n",
        "x = bc_data.data      # features\n",
        "y = bc_data.target    # labels"
      ],
      "metadata": {
        "id": "_LQTf-xEDnvC"
      },
      "execution_count": 3,
      "outputs": []
    },
    {
      "cell_type": "markdown",
      "source": [
        "Let's print the description of the dataset and see what is inside:"
      ],
      "metadata": {
        "id": "Ys7Q9uzGwyE_"
      }
    },
    {
      "cell_type": "code",
      "source": [
        "print(bc_data.DESCR)"
      ],
      "metadata": {
        "colab": {
          "base_uri": "https://localhost:8080/"
        },
        "id": "BMrNNwkIwgor",
        "outputId": "5a834c83-550e-4353-ff48-fa788d5b5185"
      },
      "execution_count": 4,
      "outputs": [
        {
          "output_type": "stream",
          "name": "stdout",
          "text": [
            ".. _breast_cancer_dataset:\n",
            "\n",
            "Breast cancer wisconsin (diagnostic) dataset\n",
            "--------------------------------------------\n",
            "\n",
            "**Data Set Characteristics:**\n",
            "\n",
            ":Number of Instances: 569\n",
            "\n",
            ":Number of Attributes: 30 numeric, predictive attributes and the class\n",
            "\n",
            ":Attribute Information:\n",
            "    - radius (mean of distances from center to points on the perimeter)\n",
            "    - texture (standard deviation of gray-scale values)\n",
            "    - perimeter\n",
            "    - area\n",
            "    - smoothness (local variation in radius lengths)\n",
            "    - compactness (perimeter^2 / area - 1.0)\n",
            "    - concavity (severity of concave portions of the contour)\n",
            "    - concave points (number of concave portions of the contour)\n",
            "    - symmetry\n",
            "    - fractal dimension (\"coastline approximation\" - 1)\n",
            "\n",
            "    The mean, standard error, and \"worst\" or largest (mean of the three\n",
            "    worst/largest values) of these features were computed for each image,\n",
            "    resulting in 30 features.  For instance, field 0 is Mean Radius, field\n",
            "    10 is Radius SE, field 20 is Worst Radius.\n",
            "\n",
            "    - class:\n",
            "            - WDBC-Malignant\n",
            "            - WDBC-Benign\n",
            "\n",
            ":Summary Statistics:\n",
            "\n",
            "===================================== ====== ======\n",
            "                                        Min    Max\n",
            "===================================== ====== ======\n",
            "radius (mean):                        6.981  28.11\n",
            "texture (mean):                       9.71   39.28\n",
            "perimeter (mean):                     43.79  188.5\n",
            "area (mean):                          143.5  2501.0\n",
            "smoothness (mean):                    0.053  0.163\n",
            "compactness (mean):                   0.019  0.345\n",
            "concavity (mean):                     0.0    0.427\n",
            "concave points (mean):                0.0    0.201\n",
            "symmetry (mean):                      0.106  0.304\n",
            "fractal dimension (mean):             0.05   0.097\n",
            "radius (standard error):              0.112  2.873\n",
            "texture (standard error):             0.36   4.885\n",
            "perimeter (standard error):           0.757  21.98\n",
            "area (standard error):                6.802  542.2\n",
            "smoothness (standard error):          0.002  0.031\n",
            "compactness (standard error):         0.002  0.135\n",
            "concavity (standard error):           0.0    0.396\n",
            "concave points (standard error):      0.0    0.053\n",
            "symmetry (standard error):            0.008  0.079\n",
            "fractal dimension (standard error):   0.001  0.03\n",
            "radius (worst):                       7.93   36.04\n",
            "texture (worst):                      12.02  49.54\n",
            "perimeter (worst):                    50.41  251.2\n",
            "area (worst):                         185.2  4254.0\n",
            "smoothness (worst):                   0.071  0.223\n",
            "compactness (worst):                  0.027  1.058\n",
            "concavity (worst):                    0.0    1.252\n",
            "concave points (worst):               0.0    0.291\n",
            "symmetry (worst):                     0.156  0.664\n",
            "fractal dimension (worst):            0.055  0.208\n",
            "===================================== ====== ======\n",
            "\n",
            ":Missing Attribute Values: None\n",
            "\n",
            ":Class Distribution: 212 - Malignant, 357 - Benign\n",
            "\n",
            ":Creator:  Dr. William H. Wolberg, W. Nick Street, Olvi L. Mangasarian\n",
            "\n",
            ":Donor: Nick Street\n",
            "\n",
            ":Date: November, 1995\n",
            "\n",
            "This is a copy of UCI ML Breast Cancer Wisconsin (Diagnostic) datasets.\n",
            "https://goo.gl/U2Uwz2\n",
            "\n",
            "Features are computed from a digitized image of a fine needle\n",
            "aspirate (FNA) of a breast mass.  They describe\n",
            "characteristics of the cell nuclei present in the image.\n",
            "\n",
            "Separating plane described above was obtained using\n",
            "Multisurface Method-Tree (MSM-T) [K. P. Bennett, \"Decision Tree\n",
            "Construction Via Linear Programming.\" Proceedings of the 4th\n",
            "Midwest Artificial Intelligence and Cognitive Science Society,\n",
            "pp. 97-101, 1992], a classification method which uses linear\n",
            "programming to construct a decision tree.  Relevant features\n",
            "were selected using an exhaustive search in the space of 1-4\n",
            "features and 1-3 separating planes.\n",
            "\n",
            "The actual linear program used to obtain the separating plane\n",
            "in the 3-dimensional space is that described in:\n",
            "[K. P. Bennett and O. L. Mangasarian: \"Robust Linear\n",
            "Programming Discrimination of Two Linearly Inseparable Sets\",\n",
            "Optimization Methods and Software 1, 1992, 23-34].\n",
            "\n",
            "This database is also available through the UW CS ftp server:\n",
            "\n",
            "ftp ftp.cs.wisc.edu\n",
            "cd math-prog/cpo-dataset/machine-learn/WDBC/\n",
            "\n",
            ".. dropdown:: References\n",
            "\n",
            "  - W.N. Street, W.H. Wolberg and O.L. Mangasarian. Nuclear feature extraction\n",
            "    for breast tumor diagnosis. IS&T/SPIE 1993 International Symposium on\n",
            "    Electronic Imaging: Science and Technology, volume 1905, pages 861-870,\n",
            "    San Jose, CA, 1993.\n",
            "  - O.L. Mangasarian, W.N. Street and W.H. Wolberg. Breast cancer diagnosis and\n",
            "    prognosis via linear programming. Operations Research, 43(4), pages 570-577,\n",
            "    July-August 1995.\n",
            "  - W.H. Wolberg, W.N. Street, and O.L. Mangasarian. Machine learning techniques\n",
            "    to diagnose breast cancer from fine-needle aspirates. Cancer Letters 77 (1994)\n",
            "    163-171.\n",
            "\n"
          ]
        }
      ]
    },
    {
      "cell_type": "markdown",
      "source": [
        "We split our dataset into a training, validation, and test dataset:"
      ],
      "metadata": {
        "id": "1JVpBT_wOP-P"
      }
    },
    {
      "cell_type": "code",
      "source": [
        "from sklearn.model_selection import train_test_split\n",
        "\n",
        "x_train, x_test, y_train, y_test = train_test_split(x, y, test_size=0.8)\n",
        "\n",
        "x_val, x_test, y_val, y_test = train_test_split(x_test, y_test, test_size=0.5)"
      ],
      "metadata": {
        "id": "F4JLi8sDJud-"
      },
      "execution_count": 5,
      "outputs": []
    },
    {
      "cell_type": "markdown",
      "source": [
        "All the features in the dataset are non-zero, but they are not normalized. To use them with a feature map, we normalize them to be between $0$ and $1$:"
      ],
      "metadata": {
        "id": "UqcGc-2COzWX"
      }
    },
    {
      "cell_type": "code",
      "source": [
        "from sklearn.preprocessing import MaxAbsScaler\n",
        "\n",
        "scaler = MaxAbsScaler()\n",
        "x_train = scaler.fit_transform(x_train)\n",
        "x_val = scaler.transform(x_val)\n",
        "x_test = scaler.transform(x_test)\n",
        "\n",
        "x_test = np.clip(x_test, 0, 1)        # all values must be between 0 and 1\n",
        "x_val = np.clip(x_val, 0, 1)"
      ],
      "metadata": {
        "id": "rZwQbQqrOcMt"
      },
      "execution_count": 6,
      "outputs": []
    },
    {
      "cell_type": "markdown",
      "source": [
        "Now, let's consider the problem of our dataset having $30$ features, which is a rather large number. Although quantum hardware with this (or more) number of qubits already exists, we can explore other alternatives: use amplitude encoding with $5$ qubits, allowing us to accommodate $2^5=32$ features; or use some dimensionality reduction technique, such as [PCA](https://en.wikipedia.org/wiki/Principal_component_analysis).\n",
        "\n",
        "By using principal component analysis, we can reduce the number of features to $4$, which will allow us to create our QNN with only $4$ qubits:"
      ],
      "metadata": {
        "id": "6oNY7SQxSXZb"
      }
    },
    {
      "cell_type": "code",
      "source": [
        "from sklearn.decomposition import PCA\n",
        "\n",
        "pca = PCA(n_components=4)                   # use the 4 principal features\n",
        "xs_train = pca.fit_transform(x_train)\n",
        "xs_val = pca.transform(x_val)\n",
        "xs_test = pca.transform(x_test)"
      ],
      "metadata": {
        "id": "1DPd9KWFSWZi"
      },
      "execution_count": 7,
      "outputs": []
    },
    {
      "cell_type": "markdown",
      "source": [
        "We'll use **angle encoding** for the feature map, which is implemented in PennyLane in the [qml.AngleEmbedding](https://docs.pennylane.ai/en/stable/code/api/pennylane.AngleEmbedding.html) class.\n",
        "\n",
        "For the variational form, we'll use **two-local**. Since this isn't directly implemented in PennyLane, we'll create our own implementation using a linear entanglement chain, as described in section 2.1.2."
      ],
      "metadata": {
        "id": "2X1MEGZ0pXVc"
      }
    },
    {
      "cell_type": "code",
      "source": [
        "def TwoLocal(n_qubits, theta, reps=1):\n",
        "\n",
        "  for r in range(reps):\n",
        "\n",
        "    for i in range(n_qubits):\n",
        "      qml.RY(theta[r*n_qubits + i], wires=i)\n",
        "    for i in range(n_qubits-1):\n",
        "      qml.CNOT(wires=[i, i + 1])\n",
        "\n",
        "  for i in range(n_qubits):\n",
        "    qml.RY(theta[reps*n_qubits + i], wires=i)"
      ],
      "metadata": {
        "id": "8Mcg_rcjpcS7"
      },
      "execution_count": 8,
      "outputs": []
    },
    {
      "cell_type": "markdown",
      "source": [
        "Let's visualize the two-local implementation for the case of 4 qubits and 2 repetitions:"
      ],
      "metadata": {
        "id": "EtQv4OojFcsJ"
      }
    },
    {
      "cell_type": "code",
      "source": [
        "fig, ax = qml.draw_mpl(TwoLocal, style='pennylane')(4, np.random.rand(12), 2)\n",
        "fig.set_size_inches(8.5, 3.5)\n",
        "fig.show()"
      ],
      "metadata": {
        "colab": {
          "base_uri": "https://localhost:8080/",
          "height": 407
        },
        "id": "4vjyI0NPFeld",
        "outputId": "094b591a-4a31-45f4-9f8b-8b490b5647ed"
      },
      "execution_count": 9,
      "outputs": [
        {
          "output_type": "display_data",
          "data": {
            "text/plain": [
              "<Figure size 850x350 with 1 Axes>"
            ],
            "image/png": "[encoded data removed]"
          },
          "metadata": {}
        }
      ]
    },
    {
      "cell_type": "markdown",
      "source": [
        "PennyLane has a version of two-local with a circular entanglement chain in the [qml.BasicEntanglerLayers](https://docs.pennylane.ai/en/stable/code/api/pennylane.BasicEntanglerLayers.html) class."
      ],
      "metadata": {
        "id": "0hz6qZ1Ypxgl"
      }
    },
    {
      "cell_type": "markdown",
      "source": [
        "Now, let us remember that a _Hermitian operator_ can represent any physical observable, so all the possible outcomes of measuring the observable can be matched to the operator's different eigenvalues.\n",
        "\n",
        "When we measure a single qubit in the computational basis, the matrix with respect to the computational basis of the associated Hermitian operator can be, for example, one of the following:\n",
        "\n",
        "$$\n",
        "M = \\begin{pmatrix} 1 & 0 \\\\ 0 & 0 \\end{pmatrix}, \\quad\\quad\\quad\\quad Z = \\begin{pmatrix} 1 & 0 \\\\ 0 & -1 \\end{pmatrix}\n",
        "$$\n",
        "\n",
        "Both of these operators represent the measurement of a qubit, but they differ in the eigenvalues that they associate with the distinct outputs. The first operator associates the eigenvalues $1$ and $0$ to the qubit's value being $0$ and $1$, respectively, while the second observable associates the eigenvalues $1$ and $-1$ to these outcomes."
      ],
      "metadata": {
        "id": "LclD80fZp2wl"
      }
    },
    {
      "cell_type": "markdown",
      "source": [
        "PennyLane offers several [measurement possibilities](https://pennylane.ai/blog/2022/06/how-to-do-measurements-in-pennylane/) for our quantum circuits. For example, given a Hermitian matrix, we can obtain the expectation value for a set of qubits (wires) by calling `qml.expval()`; of course, the matrix dimension must be compatible with the number of qubits we wish to measure.\n",
        "\n",
        "This is useful in our case; to obtain the expected value for the first qubit, we only need to create the matrix $M$. Using this Hermitian operator, we will get an output with a value between $0$ and $1$, which is perfect for a QNN, which is a classifier, assigning class $1$ to each sample with a value of $0.5$ or greater, and class $0$ to the rest."
      ],
      "metadata": {
        "id": "2yJ8F8iFt6vP"
      }
    },
    {
      "cell_type": "code",
      "source": [
        "state0 = [[1], [0]]               # define state |0>\n",
        "\n",
        "M = state0 * np.conj(state0).T    # create matrix M = |0><0|"
      ],
      "metadata": {
        "id": "3hSAIIqEpwkH"
      },
      "execution_count": 10,
      "outputs": []
    },
    {
      "cell_type": "markdown",
      "source": [
        "Now we create our QNN as a quantum circuit, which we achieve by creating a function and annotating it with `qml.qnode`, which receives the argument `interface=\"tf\"` to indicate that this quantum node will work with tensors, the TensorFlow data objects.\n",
        "\n",
        "The function receives two arguments (`inputs` and `theta`), the first one is mandatory so that PennyLane can treat the qnode as a QNN with TensorFlow, and the name must be exactly `inputs`:"
      ],
      "metadata": {
        "id": "v2OiiNZZvZPx"
      }
    },
    {
      "cell_type": "code",
      "source": [
        "n_qubits = 4\n",
        "dev = qml.device(\"default.qubit\", wires=n_qubits)\n",
        "\n",
        "@qml.qnode(dev, interface=\"tf\")\n",
        "def qnn(inputs, theta):\n",
        "\n",
        "  qml.templates.AngleEmbedding(inputs, wires=range(n_qubits))     # encoding\n",
        "\n",
        "  TwoLocal(n_qubits, theta, reps=3)                               # variational form\n",
        "\n",
        "  return qml.expval(qml.Hermitian(M, wires=[0]))                  # measure qubit 0\n"
      ],
      "metadata": {
        "id": "y7D7ZK7kuyiy"
      },
      "execution_count": 11,
      "outputs": []
    },
    {
      "cell_type": "markdown",
      "source": [
        "Thanks to PennyLane's great interoperability, we can train our QNN with TensorFlow almost as if it were a classic one.\n",
        "\n",
        "We create a Keras layer that contains our QNN, just as if it were a layer of a classic model:"
      ],
      "metadata": {
        "id": "XkpG7Ie-x6Ha"
      }
    },
    {
      "cell_type": "code",
      "source": [
        "weights_dict = {\"theta\": 16}\n",
        "\n",
        "qlayer = qml.qnn.KerasLayer(qnode=qnn,\n",
        "                            weight_shapes=weights_dict,\n",
        "                            output_dim=1)               # we obtain a single measurement from the QNN"
      ],
      "metadata": {
        "id": "50iaQJHWwuyW"
      },
      "execution_count": 12,
      "outputs": []
    },
    {
      "cell_type": "markdown",
      "source": [
        "Note that we must specify information about the shape of the tensor containing the weights (the parameters to be optimized); in our case, we are using two-local with $3$ repetitions, so we need $16$ elements in the vector $\\boldsymbol{\\theta}$ (this is how it is received in `TwoLocal`), $4$ for each repetition, plus $4$ that complete the variational form, refer to section 2.1.2."
      ],
      "metadata": {
        "id": "fS73N2u4zY77"
      }
    },
    {
      "cell_type": "markdown",
      "source": [
        "Now let's create the Keras model:"
      ],
      "metadata": {
        "id": "sUQ44Jz70OK7"
      }
    },
    {
      "cell_type": "code",
      "source": [
        "model = tf.keras.models.Sequential([qlayer])"
      ],
      "metadata": {
        "id": "ilIBaBrh0ObI"
      },
      "execution_count": 13,
      "outputs": []
    },
    {
      "cell_type": "markdown",
      "source": [
        "We need to choose an optimizer and a loss function to compile the model, just like in a classic NN. We choose the [Adam](https://keras.io/api/optimizers/adam/) optimizer with a learning rate of $0.007$ and the [binary cross entropy loss](https://keras.io/api/losses/probabilistic_losses/), since we are training a binary classifier:"
      ],
      "metadata": {
        "id": "1mn_I4i80nrP"
      }
    },
    {
      "cell_type": "code",
      "source": [
        "opt = tf.keras.optimizers.Adam(learning_rate=0.007)\n",
        "\n",
        "model.compile(optimizer=opt,\n",
        "              loss=tf.keras.losses.BinaryCrossentropy())"
      ],
      "metadata": {
        "id": "OvPbJVGK0U2y"
      },
      "execution_count": 14,
      "outputs": []
    },
    {
      "cell_type": "markdown",
      "source": [
        "The next step is to train the model, for which we call the `fit` method.\n",
        "\n",
        "We configure an [early stopping](https://en.wikipedia.org/wiki/Early_stopping) regularization to avoid overfitting on the validation loss. With this, we can choose several epochs without many restrictions; we choose $150$. We configure a [batch size](https://www.geeksforgeeks.org/batch-size-in-neural-network/) of $35$, which in code is as follows:"
      ],
      "metadata": {
        "id": "C8rdzEjz4PqZ"
      }
    },
    {
      "cell_type": "code",
      "source": [
        "early_stop = tf.keras.callbacks.EarlyStopping(monitor='val_loss',         # quantity to be monitored\n",
        "                                              patience=2,                 # number of epochs with no improvement after training stopped\n",
        "                                              verbose=1,                  # display messages\n",
        "                                              restore_best_weights=True)  # restore model weights from the epoch with the best value\n",
        "\n",
        "\n",
        "# save history to be able to plot the training progress\n",
        "history = model.fit(xs_train,                                             # use the data obtained after PCA\n",
        "                    y_train,\n",
        "                    epochs=150,\n",
        "                    batch_size=35,\n",
        "                    shuffle=True,\n",
        "                    validation_data=(xs_val, y_val),\n",
        "                    callbacks=[early_stop])"
      ],
      "metadata": {
        "colab": {
          "base_uri": "https://localhost:8080/"
        },
        "id": "HctyE1qP2N0u",
        "outputId": "55829455-6d18-429a-d841-10b7c1785a2f"
      },
      "execution_count": 15,
      "outputs": [
        {
          "output_type": "stream",
          "name": "stdout",
          "text": [
            "Epoch 1/150\n",
            "4/4 [==============================] - 2s 405ms/step - loss: 0.6902 - val_loss: 0.6342\n",
            "Epoch 2/150\n",
            "4/4 [==============================] - 1s 259ms/step - loss: 0.6722 - val_loss: 0.6181\n",
            "Epoch 3/150\n",
            "4/4 [==============================] - 1s 341ms/step - loss: 0.6519 - val_loss: 0.6051\n",
            "Epoch 4/150\n",
            "4/4 [==============================] - 1s 256ms/step - loss: 0.6407 - val_loss: 0.5945\n",
            "Epoch 5/150\n",
            "4/4 [==============================] - 1s 344ms/step - loss: 0.6267 - val_loss: 0.5872\n",
            "Epoch 6/150\n",
            "4/4 [==============================] - 1s 341ms/step - loss: 0.6174 - val_loss: 0.5823\n",
            "Epoch 7/150\n",
            "4/4 [==============================] - 1s 254ms/step - loss: 0.6121 - val_loss: 0.5796\n",
            "Epoch 8/150\n",
            "4/4 [==============================] - 1s 261ms/step - loss: 0.6068 - val_loss: 0.5785\n",
            "Epoch 9/150\n",
            "4/4 [==============================] - 1s 347ms/step - loss: 0.6051 - val_loss: 0.5784\n",
            "Epoch 10/150\n",
            "4/4 [==============================] - 1s 258ms/step - loss: 0.6043 - val_loss: 0.5786\n",
            "Epoch 11/150\n",
            "4/4 [==============================] - 1s 259ms/step - loss: 0.6036 - val_loss: 0.5784\n",
            "Epoch 12/150\n",
            "4/4 [==============================] - 1s 386ms/step - loss: 0.6028 - val_loss: 0.5778\n",
            "Epoch 13/150\n",
            "4/4 [==============================] - 1s 254ms/step - loss: 0.6026 - val_loss: 0.5775\n",
            "Epoch 14/150\n",
            "4/4 [==============================] - 1s 257ms/step - loss: 0.6018 - val_loss: 0.5768\n",
            "Epoch 15/150\n",
            "4/4 [==============================] - 1s 347ms/step - loss: 0.6013 - val_loss: 0.5760\n",
            "Epoch 16/150\n",
            "4/4 [==============================] - 1s 343ms/step - loss: 0.6009 - val_loss: 0.5750\n",
            "Epoch 17/150\n",
            "4/4 [==============================] - 1s 258ms/step - loss: 0.6001 - val_loss: 0.5741\n",
            "Epoch 18/150\n",
            "4/4 [==============================] - 1s 258ms/step - loss: 0.5996 - val_loss: 0.5729\n",
            "Epoch 19/150\n",
            "4/4 [==============================] - 1s 347ms/step - loss: 0.5990 - val_loss: 0.5720\n",
            "Epoch 20/150\n",
            "4/4 [==============================] - 1s 342ms/step - loss: 0.5985 - val_loss: 0.5706\n",
            "Epoch 21/150\n",
            "4/4 [==============================] - 1s 251ms/step - loss: 0.5979 - val_loss: 0.5697\n",
            "Epoch 22/150\n",
            "4/4 [==============================] - 1s 340ms/step - loss: 0.5976 - val_loss: 0.5688\n",
            "Epoch 23/150\n",
            "4/4 [==============================] - 1s 408ms/step - loss: 0.5969 - val_loss: 0.5680\n",
            "Epoch 24/150\n",
            "4/4 [==============================] - 1s 349ms/step - loss: 0.5966 - val_loss: 0.5671\n",
            "Epoch 25/150\n",
            "4/4 [==============================] - 1s 258ms/step - loss: 0.5964 - val_loss: 0.5665\n",
            "Epoch 26/150\n",
            "4/4 [==============================] - 1s 348ms/step - loss: 0.5959 - val_loss: 0.5656\n",
            "Epoch 27/150\n",
            "4/4 [==============================] - 1s 257ms/step - loss: 0.5956 - val_loss: 0.5651\n",
            "Epoch 28/150\n",
            "4/4 [==============================] - 1s 250ms/step - loss: 0.5955 - val_loss: 0.5643\n",
            "Epoch 29/150\n",
            "4/4 [==============================] - 1s 252ms/step - loss: 0.5948 - val_loss: 0.5637\n",
            "Epoch 30/150\n",
            "4/4 [==============================] - 1s 348ms/step - loss: 0.5941 - val_loss: 0.5634\n",
            "Epoch 31/150\n",
            "4/4 [==============================] - 1s 351ms/step - loss: 0.5937 - val_loss: 0.5631\n",
            "Epoch 32/150\n",
            "4/4 [==============================] - 1s 255ms/step - loss: 0.5934 - val_loss: 0.5628\n",
            "Epoch 33/150\n",
            "4/4 [==============================] - 1s 384ms/step - loss: 0.5927 - val_loss: 0.5619\n",
            "Epoch 34/150\n",
            "4/4 [==============================] - 1s 260ms/step - loss: 0.5933 - val_loss: 0.5609\n",
            "Epoch 35/150\n",
            "4/4 [==============================] - 1s 255ms/step - loss: 0.5924 - val_loss: 0.5604\n",
            "Epoch 36/150\n",
            "4/4 [==============================] - 1s 347ms/step - loss: 0.5919 - val_loss: 0.5604\n",
            "Epoch 37/150\n",
            "4/4 [==============================] - 1s 254ms/step - loss: 0.5918 - val_loss: 0.5601\n",
            "Epoch 38/150\n",
            "4/4 [==============================] - 1s 259ms/step - loss: 0.5912 - val_loss: 0.5595\n",
            "Epoch 39/150\n",
            "4/4 [==============================] - 2s 663ms/step - loss: 0.5908 - val_loss: 0.5587\n",
            "Epoch 40/150\n",
            "4/4 [==============================] - 3s 753ms/step - loss: 0.5906 - val_loss: 0.5581\n",
            "Epoch 41/150\n",
            "4/4 [==============================] - 3s 761ms/step - loss: 0.5906 - val_loss: 0.5577\n",
            "Epoch 42/150\n",
            "4/4 [==============================] - 2s 448ms/step - loss: 0.5903 - val_loss: 0.5575\n",
            "Epoch 43/150\n",
            "4/4 [==============================] - 1s 342ms/step - loss: 0.5901 - val_loss: 0.5572\n",
            "Epoch 44/150\n",
            "4/4 [==============================] - 1s 343ms/step - loss: 0.5907 - val_loss: 0.5578\n",
            "Epoch 45/150\n",
            "4/4 [==============================] - 1s 348ms/step - loss: 0.5900 - val_loss: 0.5581\n",
            "Epoch 45: early stopping\n",
            "Restoring model weights from the end of the best epoch: 43.\n"
          ]
        }
      ]
    },
    {
      "cell_type": "markdown",
      "source": [
        "Remember that we discussed the different ways in which **gradients** involving QNNs could be computed. And you might wonder why we haven't had to deal with that to get our model trained.\n",
        "\n",
        "It turns out that _PennyLane has already picked the best differentiation method for computing gradients_. Each quantum node can use specific differentiation methods; for example, nodes with devices that act as interfaces to real hardware can't use automatic differentiation methods, but nodes with simulators can, and most do."
      ],
      "metadata": {
        "id": "zrI70SdR3Qh6"
      }
    },
    {
      "cell_type": "markdown",
      "source": [
        "Although we can observe the progress with the previous output, it's always helpful to have a plot that allows us to see the training process at a glance.\n",
        "\n",
        "Let's also calculate the accuracy for each subset."
      ],
      "metadata": {
        "id": "LfpRlEka60ky"
      }
    },
    {
      "cell_type": "code",
      "source": [
        "import matplotlib.pyplot as plt\n",
        "from sklearn.metrics import accuracy_score\n",
        "\n",
        "\n",
        "train_loss = history.history['loss']\n",
        "val_loss = history.history['val_loss']\n",
        "plt.plot(train_loss, label='Training Loss')\n",
        "plt.plot(val_loss, label='Validation Loss')\n",
        "plt.xlabel('Epoch')\n",
        "plt.ylabel('Loss')\n",
        "plt.legend()\n",
        "plt.show()\n",
        "\n",
        "\n",
        "train_acc = accuracy_score(model.predict(xs_train) >= 0.5, y_train)\n",
        "val_acc = accuracy_score(model.predict(xs_val) >= 0.5, y_val)\n",
        "test_acc = accuracy_score(model.predict(xs_test) >= 0.5, y_test)\n",
        "\n",
        "print(f\"Train accuracy: {train_acc}\")\n",
        "print(f\"Validation accuracy: {val_acc}\")\n",
        "print(f\"Test accuracy: {test_acc}\")"
      ],
      "metadata": {
        "colab": {
          "base_uri": "https://localhost:8080/",
          "height": 573
        },
        "id": "03VS5vkc3SjF",
        "outputId": "ec9d7680-923f-4e4e-ed66-823036756a78"
      },
      "execution_count": 16,
      "outputs": [
        {
          "output_type": "display_data",
          "data": {
            "text/plain": [
              "<Figure size 640x480 with 1 Axes>"
            ],
            "image/png": "[encoded data removed]"
          },
          "metadata": {}
        },
        {
          "output_type": "stream",
          "name": "stdout",
          "text": [
            "4/4 [==============================] - 0s 69ms/step\n",
            "8/8 [==============================] - 1s 61ms/step\n",
            "8/8 [==============================] - 1s 70ms/step\n",
            "Train accuracy: 0.6991150442477876\n",
            "Validation accuracy: 0.7543859649122807\n",
            "Test accuracy: 0.6798245614035088\n"
          ]
        }
      ]
    },
    {
      "cell_type": "markdown",
      "source": [
        "The model works, but it's not very good. We can start changing the hyperparameters to improve the accuracy, but before that, let's change the variational form. Let's now use **strongly entangling layers**. Instead of creating our implementation, let's use the one provided by PennyLane ([qml.StronglyEntanglingLayers](https://docs.pennylane.ai/en/stable/code/api/pennylane.StronglyEntanglingLayers.html))."
      ],
      "metadata": {
        "id": "fKi3_ZPZDgWC"
      }
    },
    {
      "cell_type": "code",
      "source": [
        "@qml.qnode(dev, interface=\"tf\")\n",
        "def qnn2(inputs, theta):\n",
        "\n",
        "  qml.templates.AngleEmbedding(inputs, wires=range(n_qubits))\n",
        "  qml.StronglyEntanglingLayers(theta, wires=range(n_qubits))\n",
        "\n",
        "  return qml.expval(qml.Hermitian(M, wires=[0]))"
      ],
      "metadata": {
        "id": "zQ9LCxfd7NqS"
      },
      "execution_count": 17,
      "outputs": []
    },
    {
      "cell_type": "markdown",
      "source": [
        "We create the Keras layer as before.\n",
        "\n",
        "Notice that the dictionary specifying the dimension of $\\boldsymbol{\\theta}$ has changed. We now specify three numbers, just as the `qml.StronglyEntanglingLayers` class expects. The first indicates the number of layers we want in our variational form ($3$ in this example), the second indicates the number of qubits, and the third indicates the number of parameters per qubit."
      ],
      "metadata": {
        "id": "ygj4-FPjEBq2"
      }
    },
    {
      "cell_type": "code",
      "source": [
        "weights_dict2 = {\"theta\": (3, n_qubits, 3)}\n",
        "\n",
        "qlayer2 = qml.qnn.KerasLayer(qnode=qnn2,\n",
        "                             weight_shapes=weights_dict2,\n",
        "                             output_dim=1)"
      ],
      "metadata": {
        "id": "IaBXl0w_D4ST"
      },
      "execution_count": 18,
      "outputs": []
    },
    {
      "cell_type": "markdown",
      "source": [
        "We create a new model, compile it, and train it with the same options as before:"
      ],
      "metadata": {
        "id": "DDWWgLnNGAiG"
      }
    },
    {
      "cell_type": "code",
      "source": [
        "model2 = tf.keras.models.Sequential([qlayer2])\n",
        "\n",
        "opt2 = tf.keras.optimizers.Adam(learning_rate=0.007)          # we use the same optimizer (a new instance must be created)\n",
        "model2.compile(optimizer=opt2,\n",
        "               loss=tf.keras.losses.BinaryCrossentropy())     # we use the same loss function\n",
        "\n",
        "history2 = model2.fit(xs_train,                               # use the data obtained after PCA\n",
        "                      y_train,\n",
        "                      epochs=150,                             # we use the same number of epochs\n",
        "                      batch_size=35,                          # we use the same batch size\n",
        "                      shuffle=True,\n",
        "                      validation_data=(xs_val, y_val),\n",
        "                      callbacks=[early_stop])                 # we use the same early stopping"
      ],
      "metadata": {
        "colab": {
          "base_uri": "https://localhost:8080/"
        },
        "id": "keKmi1k8Fqzx",
        "outputId": "e9395b38-e606-419e-820f-cfab314e9453"
      },
      "execution_count": 19,
      "outputs": [
        {
          "output_type": "stream",
          "name": "stdout",
          "text": [
            "Epoch 1/150\n",
            "4/4 [==============================] - 1s 403ms/step - loss: 1.0891 - val_loss: 1.0438\n",
            "Epoch 2/150\n",
            "4/4 [==============================] - 1s 340ms/step - loss: 1.0143 - val_loss: 0.9660\n",
            "Epoch 3/150\n",
            "4/4 [==============================] - 1s 343ms/step - loss: 0.9305 - val_loss: 0.8935\n",
            "Epoch 4/150\n",
            "4/4 [==============================] - 2s 452ms/step - loss: 0.8670 - val_loss: 0.8263\n",
            "Epoch 5/150\n",
            "4/4 [==============================] - 1s 338ms/step - loss: 0.7991 - val_loss: 0.7681\n",
            "Epoch 6/150\n",
            "4/4 [==============================] - 1s 389ms/step - loss: 0.7441 - val_loss: 0.7194\n",
            "Epoch 7/150\n",
            "4/4 [==============================] - 1s 341ms/step - loss: 0.7013 - val_loss: 0.6794\n",
            "Epoch 8/150\n",
            "4/4 [==============================] - 1s 339ms/step - loss: 0.6614 - val_loss: 0.6483\n",
            "Epoch 9/150\n",
            "4/4 [==============================] - 1s 399ms/step - loss: 0.6355 - val_loss: 0.6230\n",
            "Epoch 10/150\n",
            "4/4 [==============================] - 1s 338ms/step - loss: 0.6134 - val_loss: 0.6028\n",
            "Epoch 11/150\n",
            "4/4 [==============================] - 1s 399ms/step - loss: 0.5938 - val_loss: 0.5863\n",
            "Epoch 12/150\n",
            "4/4 [==============================] - 1s 393ms/step - loss: 0.5774 - val_loss: 0.5708\n",
            "Epoch 13/150\n",
            "4/4 [==============================] - 1s 415ms/step - loss: 0.5651 - val_loss: 0.5563\n",
            "Epoch 14/150\n",
            "4/4 [==============================] - 1s 340ms/step - loss: 0.5515 - val_loss: 0.5430\n",
            "Epoch 15/150\n",
            "4/4 [==============================] - 1s 348ms/step - loss: 0.5388 - val_loss: 0.5308\n",
            "Epoch 16/150\n",
            "4/4 [==============================] - 1s 394ms/step - loss: 0.5270 - val_loss: 0.5190\n",
            "Epoch 17/150\n",
            "4/4 [==============================] - 1s 391ms/step - loss: 0.5167 - val_loss: 0.5077\n",
            "Epoch 18/150\n",
            "4/4 [==============================] - 1s 388ms/step - loss: 0.5052 - val_loss: 0.4973\n",
            "Epoch 19/150\n",
            "4/4 [==============================] - 1s 337ms/step - loss: 0.4953 - val_loss: 0.4869\n",
            "Epoch 20/150\n",
            "4/4 [==============================] - 1s 394ms/step - loss: 0.4852 - val_loss: 0.4772\n",
            "Epoch 21/150\n",
            "4/4 [==============================] - 2s 664ms/step - loss: 0.4757 - val_loss: 0.4678\n",
            "Epoch 22/150\n",
            "4/4 [==============================] - 1s 389ms/step - loss: 0.4672 - val_loss: 0.4587\n",
            "Epoch 23/150\n",
            "4/4 [==============================] - 1s 338ms/step - loss: 0.4578 - val_loss: 0.4507\n",
            "Epoch 24/150\n",
            "4/4 [==============================] - 1s 335ms/step - loss: 0.4498 - val_loss: 0.4431\n",
            "Epoch 25/150\n",
            "4/4 [==============================] - 1s 398ms/step - loss: 0.4425 - val_loss: 0.4356\n",
            "Epoch 26/150\n",
            "4/4 [==============================] - 1s 341ms/step - loss: 0.4351 - val_loss: 0.4285\n",
            "Epoch 27/150\n",
            "4/4 [==============================] - 1s 344ms/step - loss: 0.4283 - val_loss: 0.4221\n",
            "Epoch 28/150\n",
            "4/4 [==============================] - 1s 328ms/step - loss: 0.4218 - val_loss: 0.4158\n",
            "Epoch 29/150\n",
            "4/4 [==============================] - 1s 397ms/step - loss: 0.4158 - val_loss: 0.4100\n",
            "Epoch 30/150\n",
            "4/4 [==============================] - 2s 460ms/step - loss: 0.4103 - val_loss: 0.4048\n",
            "Epoch 31/150\n",
            "4/4 [==============================] - 1s 339ms/step - loss: 0.4052 - val_loss: 0.3996\n",
            "Epoch 32/150\n",
            "4/4 [==============================] - 1s 338ms/step - loss: 0.4003 - val_loss: 0.3943\n",
            "Epoch 33/150\n",
            "4/4 [==============================] - 1s 344ms/step - loss: 0.3955 - val_loss: 0.3894\n",
            "Epoch 34/150\n",
            "4/4 [==============================] - 1s 334ms/step - loss: 0.3912 - val_loss: 0.3850\n",
            "Epoch 35/150\n",
            "4/4 [==============================] - 1s 333ms/step - loss: 0.3871 - val_loss: 0.3803\n",
            "Epoch 36/150\n",
            "4/4 [==============================] - 1s 395ms/step - loss: 0.3830 - val_loss: 0.3756\n",
            "Epoch 37/150\n",
            "4/4 [==============================] - 1s 333ms/step - loss: 0.3792 - val_loss: 0.3709\n",
            "Epoch 38/150\n",
            "4/4 [==============================] - 2s 488ms/step - loss: 0.3751 - val_loss: 0.3664\n",
            "Epoch 39/150\n",
            "4/4 [==============================] - 2s 462ms/step - loss: 0.3715 - val_loss: 0.3621\n",
            "Epoch 40/150\n",
            "4/4 [==============================] - 1s 343ms/step - loss: 0.3679 - val_loss: 0.3582\n",
            "Epoch 41/150\n",
            "4/4 [==============================] - 1s 389ms/step - loss: 0.3649 - val_loss: 0.3543\n",
            "Epoch 42/150\n",
            "4/4 [==============================] - 1s 388ms/step - loss: 0.3617 - val_loss: 0.3506\n",
            "Epoch 43/150\n",
            "4/4 [==============================] - 1s 394ms/step - loss: 0.3590 - val_loss: 0.3469\n",
            "Epoch 44/150\n",
            "4/4 [==============================] - 1s 398ms/step - loss: 0.3565 - val_loss: 0.3436\n",
            "Epoch 45/150\n",
            "4/4 [==============================] - 1s 339ms/step - loss: 0.3540 - val_loss: 0.3407\n",
            "Epoch 46/150\n",
            "4/4 [==============================] - 1s 338ms/step - loss: 0.3515 - val_loss: 0.3379\n",
            "Epoch 47/150\n",
            "4/4 [==============================] - 2s 442ms/step - loss: 0.3494 - val_loss: 0.3354\n",
            "Epoch 48/150\n",
            "4/4 [==============================] - 2s 407ms/step - loss: 0.3478 - val_loss: 0.3331\n",
            "Epoch 49/150\n",
            "4/4 [==============================] - 1s 394ms/step - loss: 0.3461 - val_loss: 0.3307\n",
            "Epoch 50/150\n",
            "4/4 [==============================] - 1s 334ms/step - loss: 0.3444 - val_loss: 0.3285\n",
            "Epoch 51/150\n",
            "4/4 [==============================] - 1s 335ms/step - loss: 0.3430 - val_loss: 0.3268\n",
            "Epoch 52/150\n",
            "4/4 [==============================] - 1s 341ms/step - loss: 0.3417 - val_loss: 0.3252\n",
            "Epoch 53/150\n",
            "4/4 [==============================] - 1s 392ms/step - loss: 0.3408 - val_loss: 0.3238\n",
            "Epoch 54/150\n",
            "4/4 [==============================] - 1s 341ms/step - loss: 0.3397 - val_loss: 0.3231\n",
            "Epoch 55/150\n",
            "4/4 [==============================] - 1s 390ms/step - loss: 0.3388 - val_loss: 0.3222\n",
            "Epoch 56/150\n",
            "4/4 [==============================] - 2s 467ms/step - loss: 0.3382 - val_loss: 0.3213\n",
            "Epoch 57/150\n",
            "4/4 [==============================] - 1s 390ms/step - loss: 0.3376 - val_loss: 0.3203\n",
            "Epoch 58/150\n",
            "4/4 [==============================] - 1s 393ms/step - loss: 0.3368 - val_loss: 0.3191\n",
            "Epoch 59/150\n",
            "4/4 [==============================] - 1s 331ms/step - loss: 0.3362 - val_loss: 0.3180\n",
            "Epoch 60/150\n",
            "4/4 [==============================] - 1s 394ms/step - loss: 0.3356 - val_loss: 0.3172\n",
            "Epoch 61/150\n",
            "4/4 [==============================] - 1s 397ms/step - loss: 0.3351 - val_loss: 0.3166\n",
            "Epoch 62/150\n",
            "4/4 [==============================] - 1s 390ms/step - loss: 0.3347 - val_loss: 0.3160\n",
            "Epoch 63/150\n",
            "4/4 [==============================] - 1s 331ms/step - loss: 0.3345 - val_loss: 0.3156\n",
            "Epoch 64/150\n",
            "4/4 [==============================] - 1s 423ms/step - loss: 0.3342 - val_loss: 0.3152\n",
            "Epoch 65/150\n",
            "4/4 [==============================] - 1s 358ms/step - loss: 0.3338 - val_loss: 0.3147\n",
            "Epoch 66/150\n",
            "4/4 [==============================] - 1s 394ms/step - loss: 0.3336 - val_loss: 0.3143\n",
            "Epoch 67/150\n",
            "4/4 [==============================] - 1s 397ms/step - loss: 0.3334 - val_loss: 0.3138\n",
            "Epoch 68/150\n",
            "4/4 [==============================] - 1s 388ms/step - loss: 0.3331 - val_loss: 0.3133\n",
            "Epoch 69/150\n",
            "4/4 [==============================] - 1s 400ms/step - loss: 0.3330 - val_loss: 0.3127\n",
            "Epoch 70/150\n",
            "4/4 [==============================] - 1s 396ms/step - loss: 0.3329 - val_loss: 0.3123\n",
            "Epoch 71/150\n",
            "4/4 [==============================] - 1s 387ms/step - loss: 0.3326 - val_loss: 0.3122\n",
            "Epoch 72/150\n",
            "4/4 [==============================] - 1s 396ms/step - loss: 0.3324 - val_loss: 0.3120\n",
            "Epoch 73/150\n",
            "4/4 [==============================] - 1s 421ms/step - loss: 0.3325 - val_loss: 0.3117\n",
            "Epoch 74/150\n",
            "4/4 [==============================] - 1s 392ms/step - loss: 0.3324 - val_loss: 0.3115\n",
            "Epoch 75/150\n",
            "4/4 [==============================] - 1s 391ms/step - loss: 0.3323 - val_loss: 0.3112\n",
            "Epoch 76/150\n",
            "4/4 [==============================] - 1s 397ms/step - loss: 0.3321 - val_loss: 0.3109\n",
            "Epoch 77/150\n",
            "4/4 [==============================] - 1s 392ms/step - loss: 0.3321 - val_loss: 0.3108\n",
            "Epoch 78/150\n",
            "4/4 [==============================] - 1s 348ms/step - loss: 0.3319 - val_loss: 0.3107\n",
            "Epoch 79/150\n",
            "4/4 [==============================] - 1s 341ms/step - loss: 0.3318 - val_loss: 0.3106\n",
            "Epoch 80/150\n",
            "4/4 [==============================] - 1s 390ms/step - loss: 0.3317 - val_loss: 0.3106\n",
            "Epoch 81/150\n",
            "4/4 [==============================] - 2s 470ms/step - loss: 0.3316 - val_loss: 0.3108\n",
            "Epoch 81: early stopping\n",
            "Restoring model weights from the end of the best epoch: 79.\n"
          ]
        }
      ]
    },
    {
      "cell_type": "markdown",
      "source": [
        "Let's review the training progress and accuracies:"
      ],
      "metadata": {
        "id": "q6G9HoEJHSB3"
      }
    },
    {
      "cell_type": "code",
      "source": [
        "train_loss2 = history2.history['loss']\n",
        "val_loss2 = history2.history['val_loss']\n",
        "plt.plot(train_loss2, label='Training Loss')\n",
        "plt.plot(val_loss2, label='Validation Loss')\n",
        "plt.xlabel('Epoch')\n",
        "plt.ylabel('Loss')\n",
        "plt.legend()\n",
        "plt.show()\n",
        "\n",
        "\n",
        "train_acc2 = accuracy_score(model2.predict(xs_train) >= 0.5, y_train)\n",
        "val_acc2 = accuracy_score(model2.predict(xs_val) >= 0.5, y_val)\n",
        "test_acc2 = accuracy_score(model2.predict(xs_test) >= 0.5, y_test)\n",
        "\n",
        "print(f\"Train accuracy: {train_acc2}\")\n",
        "print(f\"Validation accuracy: {val_acc2}\")\n",
        "print(f\"Test accuracy: {test_acc2}\")"
      ],
      "metadata": {
        "colab": {
          "base_uri": "https://localhost:8080/",
          "height": 573
        },
        "id": "Q2MWQGoxGwon",
        "outputId": "f413c52a-7a5b-4936-f3c3-96498496100e"
      },
      "execution_count": 20,
      "outputs": [
        {
          "output_type": "display_data",
          "data": {
            "text/plain": [
              "<Figure size 640x480 with 1 Axes>"
            ],
            "image/png": "[encoded data removed]"
          },
          "metadata": {}
        },
        {
          "output_type": "stream",
          "name": "stdout",
          "text": [
            "4/4 [==============================] - 0s 64ms/step\n",
            "8/8 [==============================] - 1s 67ms/step\n",
            "8/8 [==============================] - 1s 65ms/step\n",
            "Train accuracy: 0.9026548672566371\n",
            "Validation accuracy: 0.8947368421052632\n",
            "Test accuracy: 0.9122807017543859\n"
          ]
        }
      ]
    },
    {
      "cell_type": "markdown",
      "source": [
        "This second model is better, as its accuracy has improved considerably.\n",
        "\n",
        "Even better results can be achieved by changing the encoding, variational form, optimizer, and hyperparameters (early stopping settings, batch size, etc.).\n",
        "\n",
        "We could also consider using more qubits, depending on the encoding, as well as considering more components in the PCA or not using PCA and using the $30$ features from the original dataset. Here is where the art of adjusting a QNN model comes in, just like the classical counterpart."
      ],
      "metadata": {
        "id": "Q6arqLQ1JTro"
      }
    },
    {
      "cell_type": "markdown",
      "source": [
        "On the other hand, we could also modify the **differentiation method**, which would give us different results. We mentioned above that PennyLane uses the \"best\" method by default, but we can explicitly specify one. This is achieved when defining the _qnode_:\n",
        "\n",
        "```python\n",
        "@qml.qnode(dev, interface=\"tf\", diff_method=\"method\")  # default set to \"best\"\n",
        "\n",
        "```\n",
        "\n",
        "To learn more about the various optimizers and differentiation methods that can be used in PennyLane, visit this [link](https://docs.pennylane.ai/en/stable/introduction/interfaces.html)."
      ],
      "metadata": {
        "id": "ojC70V6mK3ev"
      }
    }
  ]
}