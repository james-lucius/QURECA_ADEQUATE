{
  "nbformat": 4,
  "nbformat_minor": 0,
  "metadata": {
    "colab": {
      "provenance": [],
      "include_colab_link": true
    },
    "kernelspec": {
      "name": "python3",
      "display_name": "Python 3"
    },
    "language_info": {
      "name": "python"
    }
  },
  "cells": [
    {
      "cell_type": "markdown",
      "metadata": {
        "id": "view-in-github",
        "colab_type": "text"
      },
      "source": [
        "<a href=\"https://colab.research.google.com/github/james-lucius/qureca_ADEQUATE/blob/main/M9_241_QNNs_2_4_Example_Breast_Cancer_Classification.ipynb\" target=\"_parent\"><img src=\"https://colab.research.google.com/assets/colab-badge.svg\" alt=\"Open In Colab\"/></a>"
      ]
    },
    {
      "cell_type": "markdown",
      "source": [
        "<img src=\"https://gitlab.com/qworld/qeducation/educational-materials/adequate-qbook1/raw/main/qworld/images/adq_1.png\" align=\"left\" width=450>"
      ],
      "metadata": {
        "id": "8fozsJF9WrTZ"
      }
    },
    {
      "cell_type": "markdown",
      "source": [
        "_prepared by Claudia Zendejas-Morales_"
      ],
      "metadata": {
        "id": "XmdLWP6ZGlGH"
      }
    },
    {
      "cell_type": "markdown",
      "source": [
        "## 2.4 Example: Breast Cancer Classification\n",
        "\n",
        "Let's look at a complete example in [PennyLane](https://pennylane.ai/), which is a flexible and powerful open-source framework for quantum programming, and it shines especially when working with quantum neural network models.\n",
        "\n",
        "We will use it along with [TensorFlow](https://www.tensorflow.org/) to train a QNN to perform a binary classification.\n",
        "\n",
        "We are going to use one of the toy datasets provided by the\n",
        "scikit-learn package: the \"[Breast cancer Wisconsin dataset](https://scikit-learn.org/stable/datasets/toy_dataset.html#breast-cancer-dataset).\" This dataset has $569$ samples with $30$ numerical features each that can be used to characterize whether a breast mass is benign or malignant. The label of each sample can be either $0$ or $1$, respectively."
      ],
      "metadata": {
        "id": "z8LYnrbrYH3u"
      }
    },
    {
      "cell_type": "markdown",
      "source": [
        "Setting up the environment:"
      ],
      "metadata": {
        "id": "F-oJ5perC2sr"
      }
    },
    {
      "cell_type": "code",
      "source": [
        "!pip install pennylane==0.40.0 &> /dev/null   # use \"&> /dev/null\" so that the standard output of the installation is not displayed\n",
        "\n",
        "!pip install silence-tensorflow &> /dev/null\n",
        "\n",
        "import os\n",
        "os.environ[\"TF_USE_LEGACY_KERAS\"] = \"1\"       # to configure compatibility with PennyLane\n",
        "\n",
        "from silence_tensorflow import silence_tensorflow\n",
        "silence_tensorflow()                          # do not show annoying TensorFlow warnings\n",
        "\n",
        "print(\"Setup completed\")"
      ],
      "metadata": {
        "colab": {
          "base_uri": "https://localhost:8080/"
        },
        "id": "esX4re_SCuzb",
        "outputId": "12e5c003-1a6e-4d08-e5e2-3280cf8794e2"
      },
      "execution_count": null,
      "outputs": [
        {
          "output_type": "stream",
          "name": "stdout",
          "text": [
            "Setup completed\n"
          ]
        }
      ]
    },
    {
      "cell_type": "markdown",
      "source": [
        "Let's begin with some necessary imports and setting some seeds to make sure that our results are reproducible:"
      ],
      "metadata": {
        "id": "cjFeHYq1Dgxe"
      }
    },
    {
      "cell_type": "code",
      "source": [
        "import pennylane as qml\n",
        "import numpy as np\n",
        "import tensorflow as tf\n",
        "\n",
        "seed = 4321\n",
        "np.random.seed(seed)\n",
        "tf.random.set_seed(seed)\n",
        "\n",
        "tf.keras.backend.set_floatx('float64')  # ask TensorFlow to work with doubles just as PennyLane does"
      ],
      "metadata": {
        "id": "6siAAcm4DH3W"
      },
      "execution_count": null,
      "outputs": []
    },
    {
      "cell_type": "markdown",
      "source": [
        "We load the dataset and separate the features and labels into two different variables:"
      ],
      "metadata": {
        "id": "Pxh5Zj0wJOTi"
      }
    },
    {
      "cell_type": "code",
      "source": [
        "from sklearn.datasets import load_breast_cancer\n",
        "\n",
        "\n",
        "bc_data = load_breast_cancer()\n",
        "\n",
        "x = bc_data.data      # features\n",
        "y = bc_data.target    # labels"
      ],
      "metadata": {
        "id": "_LQTf-xEDnvC"
      },
      "execution_count": null,
      "outputs": []
    },
    {
      "cell_type": "markdown",
      "source": [
        "Let's print the description of the dataset and see what is inside:"
      ],
      "metadata": {
        "id": "Ys7Q9uzGwyE_"
      }
    },
    {
      "cell_type": "code",
      "source": [
        "print(bc_data.DESCR)"
      ],
      "metadata": {
        "colab": {
          "base_uri": "https://localhost:8080/"
        },
        "id": "BMrNNwkIwgor",
        "outputId": "f6e3a0a6-caae-4908-a7e7-786dd8182068"
      },
      "execution_count": null,
      "outputs": [
        {
          "output_type": "stream",
          "name": "stdout",
          "text": [
            ".. _breast_cancer_dataset:\n",
            "\n",
            "Breast cancer wisconsin (diagnostic) dataset\n",
            "--------------------------------------------\n",
            "\n",
            "**Data Set Characteristics:**\n",
            "\n",
            ":Number of Instances: 569\n",
            "\n",
            ":Number of Attributes: 30 numeric, predictive attributes and the class\n",
            "\n",
            ":Attribute Information:\n",
            "    - radius (mean of distances from center to points on the perimeter)\n",
            "    - texture (standard deviation of gray-scale values)\n",
            "    - perimeter\n",
            "    - area\n",
            "    - smoothness (local variation in radius lengths)\n",
            "    - compactness (perimeter^2 / area - 1.0)\n",
            "    - concavity (severity of concave portions of the contour)\n",
            "    - concave points (number of concave portions of the contour)\n",
            "    - symmetry\n",
            "    - fractal dimension (\"coastline approximation\" - 1)\n",
            "\n",
            "    The mean, standard error, and \"worst\" or largest (mean of the three\n",
            "    worst/largest values) of these features were computed for each image,\n",
            "    resulting in 30 features.  For instance, field 0 is Mean Radius, field\n",
            "    10 is Radius SE, field 20 is Worst Radius.\n",
            "\n",
            "    - class:\n",
            "            - WDBC-Malignant\n",
            "            - WDBC-Benign\n",
            "\n",
            ":Summary Statistics:\n",
            "\n",
            "===================================== ====== ======\n",
            "                                        Min    Max\n",
            "===================================== ====== ======\n",
            "radius (mean):                        6.981  28.11\n",
            "texture (mean):                       9.71   39.28\n",
            "perimeter (mean):                     43.79  188.5\n",
            "area (mean):                          143.5  2501.0\n",
            "smoothness (mean):                    0.053  0.163\n",
            "compactness (mean):                   0.019  0.345\n",
            "concavity (mean):                     0.0    0.427\n",
            "concave points (mean):                0.0    0.201\n",
            "symmetry (mean):                      0.106  0.304\n",
            "fractal dimension (mean):             0.05   0.097\n",
            "radius (standard error):              0.112  2.873\n",
            "texture (standard error):             0.36   4.885\n",
            "perimeter (standard error):           0.757  21.98\n",
            "area (standard error):                6.802  542.2\n",
            "smoothness (standard error):          0.002  0.031\n",
            "compactness (standard error):         0.002  0.135\n",
            "concavity (standard error):           0.0    0.396\n",
            "concave points (standard error):      0.0    0.053\n",
            "symmetry (standard error):            0.008  0.079\n",
            "fractal dimension (standard error):   0.001  0.03\n",
            "radius (worst):                       7.93   36.04\n",
            "texture (worst):                      12.02  49.54\n",
            "perimeter (worst):                    50.41  251.2\n",
            "area (worst):                         185.2  4254.0\n",
            "smoothness (worst):                   0.071  0.223\n",
            "compactness (worst):                  0.027  1.058\n",
            "concavity (worst):                    0.0    1.252\n",
            "concave points (worst):               0.0    0.291\n",
            "symmetry (worst):                     0.156  0.664\n",
            "fractal dimension (worst):            0.055  0.208\n",
            "===================================== ====== ======\n",
            "\n",
            ":Missing Attribute Values: None\n",
            "\n",
            ":Class Distribution: 212 - Malignant, 357 - Benign\n",
            "\n",
            ":Creator:  Dr. William H. Wolberg, W. Nick Street, Olvi L. Mangasarian\n",
            "\n",
            ":Donor: Nick Street\n",
            "\n",
            ":Date: November, 1995\n",
            "\n",
            "This is a copy of UCI ML Breast Cancer Wisconsin (Diagnostic) datasets.\n",
            "https://goo.gl/U2Uwz2\n",
            "\n",
            "Features are computed from a digitized image of a fine needle\n",
            "aspirate (FNA) of a breast mass.  They describe\n",
            "characteristics of the cell nuclei present in the image.\n",
            "\n",
            "Separating plane described above was obtained using\n",
            "Multisurface Method-Tree (MSM-T) [K. P. Bennett, \"Decision Tree\n",
            "Construction Via Linear Programming.\" Proceedings of the 4th\n",
            "Midwest Artificial Intelligence and Cognitive Science Society,\n",
            "pp. 97-101, 1992], a classification method which uses linear\n",
            "programming to construct a decision tree.  Relevant features\n",
            "were selected using an exhaustive search in the space of 1-4\n",
            "features and 1-3 separating planes.\n",
            "\n",
            "The actual linear program used to obtain the separating plane\n",
            "in the 3-dimensional space is that described in:\n",
            "[K. P. Bennett and O. L. Mangasarian: \"Robust Linear\n",
            "Programming Discrimination of Two Linearly Inseparable Sets\",\n",
            "Optimization Methods and Software 1, 1992, 23-34].\n",
            "\n",
            "This database is also available through the UW CS ftp server:\n",
            "\n",
            "ftp ftp.cs.wisc.edu\n",
            "cd math-prog/cpo-dataset/machine-learn/WDBC/\n",
            "\n",
            ".. dropdown:: References\n",
            "\n",
            "  - W.N. Street, W.H. Wolberg and O.L. Mangasarian. Nuclear feature extraction\n",
            "    for breast tumor diagnosis. IS&T/SPIE 1993 International Symposium on\n",
            "    Electronic Imaging: Science and Technology, volume 1905, pages 861-870,\n",
            "    San Jose, CA, 1993.\n",
            "  - O.L. Mangasarian, W.N. Street and W.H. Wolberg. Breast cancer diagnosis and\n",
            "    prognosis via linear programming. Operations Research, 43(4), pages 570-577,\n",
            "    July-August 1995.\n",
            "  - W.H. Wolberg, W.N. Street, and O.L. Mangasarian. Machine learning techniques\n",
            "    to diagnose breast cancer from fine-needle aspirates. Cancer Letters 77 (1994)\n",
            "    163-171.\n",
            "\n"
          ]
        }
      ]
    },
    {
      "cell_type": "markdown",
      "source": [
        "We split our dataset into a training, validation, and test dataset:"
      ],
      "metadata": {
        "id": "1JVpBT_wOP-P"
      }
    },
    {
      "cell_type": "code",
      "source": [
        "from sklearn.model_selection import train_test_split\n",
        "\n",
        "x_train, x_test, y_train, y_test = train_test_split(x, y, test_size=0.8)\n",
        "\n",
        "x_val, x_test, y_val, y_test = train_test_split(x_test, y_test, test_size=0.5)"
      ],
      "metadata": {
        "id": "F4JLi8sDJud-"
      },
      "execution_count": null,
      "outputs": []
    },
    {
      "cell_type": "markdown",
      "source": [
        "All the features in the dataset are non-zero, but they are not normalized. To use them with a feature map, we normalize them to be between $0$ and $1$:"
      ],
      "metadata": {
        "id": "UqcGc-2COzWX"
      }
    },
    {
      "cell_type": "code",
      "source": [
        "from sklearn.preprocessing import MaxAbsScaler\n",
        "\n",
        "scaler = MaxAbsScaler()\n",
        "x_train = scaler.fit_transform(x_train)\n",
        "x_val = scaler.transform(x_val)\n",
        "x_test = scaler.transform(x_test)\n",
        "\n",
        "x_test = np.clip(x_test, 0, 1)        # all values must be between 0 and 1\n",
        "x_val = np.clip(x_val, 0, 1)"
      ],
      "metadata": {
        "id": "rZwQbQqrOcMt"
      },
      "execution_count": null,
      "outputs": []
    },
    {
      "cell_type": "markdown",
      "source": [
        "Now, let's consider the problem of our dataset having $30$ features, which is a rather large number. Although quantum hardware with this (or more) number of qubits already exists, we can explore other alternatives: use amplitude encoding with $5$ qubits, allowing us to accommodate $2^5=32$ features; or use some dimensionality reduction technique, such as [PCA](https://en.wikipedia.org/wiki/Principal_component_analysis).\n",
        "\n",
        "By using principal component analysis, we can reduce the number of features to $4$, which will allow us to create our QNN with only $4$ qubits:"
      ],
      "metadata": {
        "id": "6oNY7SQxSXZb"
      }
    },
    {
      "cell_type": "code",
      "source": [
        "from sklearn.decomposition import PCA\n",
        "\n",
        "pca = PCA(n_components=4)                   # use the 4 principal features\n",
        "xs_train = pca.fit_transform(x_train)\n",
        "xs_val = pca.transform(x_val)\n",
        "xs_test = pca.transform(x_test)"
      ],
      "metadata": {
        "id": "1DPd9KWFSWZi"
      },
      "execution_count": null,
      "outputs": []
    },
    {
      "cell_type": "markdown",
      "source": [
        "We'll use **angle encoding** for the feature map, which is implemented in PennyLane in the [qml.AngleEmbedding](https://docs.pennylane.ai/en/stable/code/api/pennylane.AngleEmbedding.html) class.\n",
        "\n",
        "For the variational form, we'll use **two-local**. Since this isn't directly implemented in PennyLane, we'll create our own implementation using a linear entanglement chain, as described in section 2.1.2."
      ],
      "metadata": {
        "id": "2X1MEGZ0pXVc"
      }
    },
    {
      "cell_type": "code",
      "source": [
        "def TwoLocal(n_qubits, theta, reps=1):\n",
        "\n",
        "  for r in range(reps):\n",
        "\n",
        "    for i in range(n_qubits):\n",
        "      qml.RY(theta[r*n_qubits + i], wires=i)\n",
        "    for i in range(n_qubits-1):\n",
        "      qml.CNOT(wires=[i, i + 1])\n",
        "\n",
        "  for i in range(n_qubits):\n",
        "    qml.RY(theta[reps*n_qubits + i], wires=i)"
      ],
      "metadata": {
        "id": "8Mcg_rcjpcS7"
      },
      "execution_count": null,
      "outputs": []
    },
    {
      "cell_type": "markdown",
      "source": [
        "Let's visualize the two-local implementation for the case of 4 qubits and 2 repetitions:"
      ],
      "metadata": {
        "id": "EtQv4OojFcsJ"
      }
    },
    {
      "cell_type": "code",
      "source": [
        "fig, ax = qml.draw_mpl(TwoLocal, style='pennylane')(4, np.random.rand(12), 2)\n",
        "fig.set_size_inches(8.5, 3.5)\n",
        "fig.show()"
      ],
      "metadata": {
        "colab": {
          "base_uri": "https://localhost:8080/",
          "height": 387
        },
        "id": "4vjyI0NPFeld",
        "outputId": "4b2fbb12-a328-44b0-80ec-450b6ad620c0"
      },
      "execution_count": null,
      "outputs": [
        {
          "output_type": "display_data",
          "data": {
            "text/plain": [
              "<Figure size 850x350 with 1 Axes>"
            ],
            "image/png": "[encoded data removed]"
          },
          "metadata": {}
        }
      ]
    },
    {
      "cell_type": "markdown",
      "source": [
        "PennyLane has a version of two-local with a circular entanglement chain in the [qml.BasicEntanglerLayers](https://docs.pennylane.ai/en/stable/code/api/pennylane.BasicEntanglerLayers.html) class."
      ],
      "metadata": {
        "id": "0hz6qZ1Ypxgl"
      }
    },
    {
      "cell_type": "markdown",
      "source": [
        "Now, let us remember that a _Hermitian operator_ can represent any physical observable, so all the possible outcomes of measuring the observable can be matched to the operator's different eigenvalues.\n",
        "\n",
        "When we measure a single qubit in the computational basis, the matrix with respect to the computational basis of the associated Hermitian operator can be, for example, one of the following:\n",
        "\n",
        "$$\n",
        "M = \\begin{pmatrix} 1 & 0 \\\\ 0 & 0 \\end{pmatrix}, \\quad\\quad\\quad\\quad Z = \\begin{pmatrix} 1 & 0 \\\\ 0 & -1 \\end{pmatrix}\n",
        "$$\n",
        "\n",
        "Both of these operators represent the measurement of a qubit, but they differ in the eigenvalues that they associate with the distinct outputs. The first operator associates the eigenvalues $1$ and $0$ to the qubit's value being $0$ and $1$, respectively, while the second observable associates the eigenvalues $1$ and $-1$ to these outcomes."
      ],
      "metadata": {
        "id": "LclD80fZp2wl"
      }
    },
    {
      "cell_type": "markdown",
      "source": [
        "PennyLane offers several [measurement possibilities](https://pennylane.ai/blog/2022/06/how-to-do-measurements-in-pennylane/) for our quantum circuits. For example, given a Hermitian matrix, we can obtain the expectation value for a set of qubits (wires) by calling `qml.expval()`; of course, the matrix dimension must be compatible with the number of qubits we wish to measure.\n",
        "\n",
        "This is useful in our case; to obtain the expected value for the first qubit, we only need to create the matrix $M$. Using this Hermitian operator, we will get an output with a value between $0$ and $1$, which is perfect for a QNN, which is a classifier, assigning class $1$ to each sample with a value of $0.5$ or greater, and class $0$ to the rest."
      ],
      "metadata": {
        "id": "2yJ8F8iFt6vP"
      }
    },
    {
      "cell_type": "code",
      "source": [
        "state0 = [[1], [0]]               # define state |0>\n",
        "\n",
        "M = state0 * np.conj(state0).T    # create matrix M = |0><0|"
      ],
      "metadata": {
        "id": "3hSAIIqEpwkH"
      },
      "execution_count": null,
      "outputs": []
    },
    {
      "cell_type": "markdown",
      "source": [
        "Now we create our QNN as a quantum circuit, which we achieve by creating a function and annotating it with `qml.qnode`, which receives the argument `interface=\"tf\"` to indicate that this quantum node will work with tensors, the TensorFlow data objects.\n",
        "\n",
        "The function receives two arguments (`inputs` and `theta`), the first one is mandatory so that PennyLane can treat the qnode as a QNN with TensorFlow, and the name must be exactly `inputs`:"
      ],
      "metadata": {
        "id": "v2OiiNZZvZPx"
      }
    },
    {
      "cell_type": "code",
      "source": [
        "n_qubits = 4\n",
        "dev = qml.device(\"default.qubit\", wires=n_qubits)\n",
        "\n",
        "@qml.qnode(dev, interface=\"tf\")\n",
        "def qnn(inputs, theta):\n",
        "\n",
        "  qml.templates.AngleEmbedding(inputs, wires=range(n_qubits))     # encoding\n",
        "\n",
        "  TwoLocal(n_qubits, theta, reps=3)                               # variational form\n",
        "\n",
        "  return qml.expval(qml.Hermitian(M, wires=[0]))                  # measure qubit 0\n"
      ],
      "metadata": {
        "id": "y7D7ZK7kuyiy"
      },
      "execution_count": null,
      "outputs": []
    },
    {
      "cell_type": "markdown",
      "source": [
        "Thanks to PennyLane's great interoperability, we can train our QNN with TensorFlow almost as if it were a classic one.\n",
        "\n",
        "We create a Keras layer that contains our QNN, just as if it were a layer of a classic model:"
      ],
      "metadata": {
        "id": "XkpG7Ie-x6Ha"
      }
    },
    {
      "cell_type": "code",
      "source": [
        "weights_dict = {\"theta\": 16}\n",
        "\n",
        "qlayer = qml.qnn.KerasLayer(qnode=qnn,\n",
        "                            weight_shapes=weights_dict,\n",
        "                            output_dim=1)               # we obtain a single measurement from the QNN"
      ],
      "metadata": {
        "id": "50iaQJHWwuyW"
      },
      "execution_count": null,
      "outputs": []
    },
    {
      "cell_type": "markdown",
      "source": [
        "Note that we must specify information about the shape of the tensor containing the weights (the parameters to be optimized); in our case, we are using two-local with $3$ repetitions, so we need $16$ elements in the vector $\\boldsymbol{\\theta}$ (this is how it is received in `TwoLocal`), $4$ for each repetition, plus $4$ that complete the variational form, refer to section 2.1.2."
      ],
      "metadata": {
        "id": "fS73N2u4zY77"
      }
    },
    {
      "cell_type": "markdown",
      "source": [
        "Now let's create the Keras model:"
      ],
      "metadata": {
        "id": "sUQ44Jz70OK7"
      }
    },
    {
      "cell_type": "code",
      "source": [
        "model = tf.keras.models.Sequential([qlayer])"
      ],
      "metadata": {
        "id": "ilIBaBrh0ObI"
      },
      "execution_count": null,
      "outputs": []
    },
    {
      "cell_type": "markdown",
      "source": [
        "We need to choose an optimizer and a loss function to compile the model, just like in a classic NN. We choose the [Adam](https://keras.io/api/optimizers/adam/) optimizer with a learning rate of $0.007$ and the [binary cross entropy loss](https://keras.io/api/losses/probabilistic_losses/), since we are training a binary classifier:"
      ],
      "metadata": {
        "id": "1mn_I4i80nrP"
      }
    },
    {
      "cell_type": "code",
      "source": [
        "opt = tf.keras.optimizers.Adam(learning_rate=0.007)\n",
        "\n",
        "model.compile(optimizer=opt,\n",
        "              loss=tf.keras.losses.BinaryCrossentropy())"
      ],
      "metadata": {
        "id": "OvPbJVGK0U2y"
      },
      "execution_count": null,
      "outputs": []
    },
    {
      "cell_type": "markdown",
      "source": [
        "The next step is to train the model, for which we call the `fit` method.\n",
        "\n",
        "We configure an [early stopping](https://en.wikipedia.org/wiki/Early_stopping) regularization to avoid overfitting on the validation loss. With this, we can choose several epochs without many restrictions; we choose $150$. We configure a [batch size](https://www.geeksforgeeks.org/batch-size-in-neural-network/) of $35$, which in code is as follows:"
      ],
      "metadata": {
        "id": "C8rdzEjz4PqZ"
      }
    },
    {
      "cell_type": "code",
      "source": [
        "early_stop = tf.keras.callbacks.EarlyStopping(monitor='val_loss',         # quantity to be monitored\n",
        "                                              patience=2,                 # number of epochs with no improvement after training stopped\n",
        "                                              verbose=1,                  # display messages\n",
        "                                              restore_best_weights=True)  # restore model weights from the epoch with the best value\n",
        "\n",
        "\n",
        "# save history to be able to plot the training progress\n",
        "history = model.fit(xs_train,                                             # use the data obtained after PCA\n",
        "                    y_train,\n",
        "                    epochs=150,\n",
        "                    batch_size=35,\n",
        "                    shuffle=True,\n",
        "                    validation_data=(xs_val, y_val),\n",
        "                    callbacks=[early_stop])"
      ],
      "metadata": {
        "colab": {
          "base_uri": "https://localhost:8080/"
        },
        "id": "HctyE1qP2N0u",
        "outputId": "d4b60dde-bc07-42fc-f846-ead55373a672"
      },
      "execution_count": null,
      "outputs": [
        {
          "output_type": "stream",
          "name": "stdout",
          "text": [
            "Epoch 1/150\n",
            "4/4 [==============================] - 2s 468ms/step - loss: 0.7445 - val_loss: 0.6782\n",
            "Epoch 2/150\n",
            "4/4 [==============================] - 2s 431ms/step - loss: 0.7194 - val_loss: 0.6536\n",
            "Epoch 3/150\n",
            "4/4 [==============================] - 2s 436ms/step - loss: 0.6906 - val_loss: 0.6324\n",
            "Epoch 4/150\n",
            "4/4 [==============================] - 1s 418ms/step - loss: 0.6722 - val_loss: 0.6142\n",
            "Epoch 5/150\n",
            "4/4 [==============================] - 1s 414ms/step - loss: 0.6504 - val_loss: 0.6004\n",
            "Epoch 6/150\n",
            "4/4 [==============================] - 2s 640ms/step - loss: 0.6345 - val_loss: 0.5900\n",
            "Epoch 7/150\n",
            "4/4 [==============================] - 2s 549ms/step - loss: 0.6236 - val_loss: 0.5829\n",
            "Epoch 8/150\n",
            "4/4 [==============================] - 1s 404ms/step - loss: 0.6135 - val_loss: 0.5787\n",
            "Epoch 9/150\n",
            "4/4 [==============================] - 1s 412ms/step - loss: 0.6084 - val_loss: 0.5766\n",
            "Epoch 10/150\n",
            "4/4 [==============================] - 1s 417ms/step - loss: 0.6055 - val_loss: 0.5759\n",
            "Epoch 11/150\n",
            "4/4 [==============================] - 2s 432ms/step - loss: 0.6036 - val_loss: 0.5758\n",
            "Epoch 12/150\n",
            "4/4 [==============================] - 2s 625ms/step - loss: 0.6016 - val_loss: 0.5757\n",
            "Epoch 13/150\n",
            "4/4 [==============================] - 2s 442ms/step - loss: 0.6017 - val_loss: 0.5758\n",
            "Epoch 14/150\n",
            "4/4 [==============================] - 2s 615ms/step - loss: 0.6008 - val_loss: 0.5758\n",
            "Epoch 14: early stopping\n",
            "Restoring model weights from the end of the best epoch: 12.\n"
          ]
        }
      ]
    },
    {
      "cell_type": "markdown",
      "source": [
        "Remember that we discussed the different ways in which **gradients** involving QNNs could be computed. And you might wonder why we haven't had to deal with that to get our model trained.\n",
        "\n",
        "It turns out that _PennyLane has already picked the best differentiation method for computing gradients_. Each quantum node can use specific differentiation methods; for example, nodes with devices that act as interfaces to real hardware can't use automatic differentiation methods, but nodes with simulators can, and most do."
      ],
      "metadata": {
        "id": "zrI70SdR3Qh6"
      }
    },
    {
      "cell_type": "markdown",
      "source": [
        "Although we can observe the progress with the previous output, it's always helpful to have a plot that allows us to see the training process at a glance.\n",
        "\n",
        "Let's also calculate the accuracy for each subset."
      ],
      "metadata": {
        "id": "LfpRlEka60ky"
      }
    },
    {
      "cell_type": "code",
      "source": [
        "import matplotlib.pyplot as plt\n",
        "from sklearn.metrics import accuracy_score\n",
        "\n",
        "\n",
        "train_loss = history.history['loss']\n",
        "val_loss = history.history['val_loss']\n",
        "plt.plot(train_loss, label='Training Loss')\n",
        "plt.plot(val_loss, label='Validation Loss')\n",
        "plt.xlabel('Epoch')\n",
        "plt.ylabel('Loss')\n",
        "plt.legend()\n",
        "plt.show()\n",
        "\n",
        "\n",
        "train_acc = accuracy_score(model.predict(xs_train) >= 0.5, y_train)\n",
        "val_acc = accuracy_score(model.predict(xs_val) >= 0.5, y_val)\n",
        "test_acc = accuracy_score(model.predict(xs_test) >= 0.5, y_test)\n",
        "\n",
        "print(f\"Train accuracy: {train_acc}\")\n",
        "print(f\"Validation accuracy: {val_acc}\")\n",
        "print(f\"Test accuracy: {test_acc}\")"
      ],
      "metadata": {
        "colab": {
          "base_uri": "https://localhost:8080/",
          "height": 557
        },
        "id": "03VS5vkc3SjF",
        "outputId": "4dfdb397-d6e1-42dd-e8ed-80605ca03e82"
      },
      "execution_count": null,
      "outputs": [
        {
          "output_type": "display_data",
          "data": {
            "text/plain": [
              "<Figure size 640x480 with 1 Axes>"
            ],
            "image/png": "[encoded data removed]"
          },
          "metadata": {}
        },
        {
          "output_type": "stream",
          "name": "stdout",
          "text": [
            "4/4 [==============================] - 1s 185ms/step\n",
            "8/8 [==============================] - 1s 151ms/step\n",
            "8/8 [==============================] - 1s 167ms/step\n",
            "Train accuracy: 0.6814159292035398\n",
            "Validation accuracy: 0.7236842105263158\n",
            "Test accuracy: 0.6535087719298246\n"
          ]
        }
      ]
    },
    {
      "cell_type": "markdown",
      "source": [
        "The model works, but it's not very good. We can start changing the hyperparameters to improve the accuracy, but before that, let's change the variational form. Let's now use **strongly entangling layers**. Instead of creating our implementation, let's use the one provided by PennyLane ([qml.StronglyEntanglingLayers](https://docs.pennylane.ai/en/stable/code/api/pennylane.StronglyEntanglingLayers.html))."
      ],
      "metadata": {
        "id": "fKi3_ZPZDgWC"
      }
    },
    {
      "cell_type": "code",
      "source": [
        "@qml.qnode(dev, interface=\"tf\")\n",
        "def qnn2(inputs, theta):\n",
        "\n",
        "  qml.templates.AngleEmbedding(inputs, wires=range(n_qubits))\n",
        "  qml.StronglyEntanglingLayers(theta, wires=range(n_qubits))\n",
        "\n",
        "  return qml.expval(qml.Hermitian(M, wires=[0]))"
      ],
      "metadata": {
        "id": "zQ9LCxfd7NqS"
      },
      "execution_count": null,
      "outputs": []
    },
    {
      "cell_type": "markdown",
      "source": [
        "We create the Keras layer as before.\n",
        "\n",
        "Notice that the dictionary specifying the dimension of $\\boldsymbol{\\theta}$ has changed. We now specify three numbers, just as the `qml.StronglyEntanglingLayers` class expects. The first indicates the number of layers we want in our variational form ($3$ in this example), the second indicates the number of qubits, and the third indicates the number of parameters per qubit."
      ],
      "metadata": {
        "id": "ygj4-FPjEBq2"
      }
    },
    {
      "cell_type": "code",
      "source": [
        "weights_dict2 = {\"theta\": (3, n_qubits, 3)}\n",
        "\n",
        "qlayer2 = qml.qnn.KerasLayer(qnode=qnn2,\n",
        "                             weight_shapes=weights_dict2,\n",
        "                             output_dim=1)"
      ],
      "metadata": {
        "id": "IaBXl0w_D4ST"
      },
      "execution_count": null,
      "outputs": []
    },
    {
      "cell_type": "markdown",
      "source": [
        "We create a new model, compile it, and train it with the same options as before:"
      ],
      "metadata": {
        "id": "DDWWgLnNGAiG"
      }
    },
    {
      "cell_type": "code",
      "source": [
        "model2 = tf.keras.models.Sequential([qlayer2])\n",
        "\n",
        "opt2 = tf.keras.optimizers.Adam(learning_rate=0.007)          # we use the same optimizer (a new instance must be created)\n",
        "model2.compile(optimizer=opt2,\n",
        "               loss=tf.keras.losses.BinaryCrossentropy())     # we use the same loss function\n",
        "\n",
        "history2 = model2.fit(xs_train,                               # use the data obtained after PCA\n",
        "                      y_train,\n",
        "                      epochs=150,                             # we use the same number of epochs\n",
        "                      batch_size=35,                          # we use the same batch size\n",
        "                      shuffle=True,\n",
        "                      validation_data=(xs_val, y_val),\n",
        "                      callbacks=[early_stop])                 # we use the same early stopping"
      ],
      "metadata": {
        "colab": {
          "base_uri": "https://localhost:8080/"
        },
        "id": "keKmi1k8Fqzx",
        "outputId": "f8276458-287c-4622-9448-e0620c3cb305"
      },
      "execution_count": null,
      "outputs": [
        {
          "output_type": "stream",
          "name": "stdout",
          "text": [
            "Epoch 1/150\n",
            "4/4 [==============================] - 6s 2s/step - loss: 0.8221 - val_loss: 0.8103\n",
            "Epoch 2/150\n",
            "4/4 [==============================] - 2s 542ms/step - loss: 0.7747 - val_loss: 0.7621\n",
            "Epoch 3/150\n",
            "4/4 [==============================] - 2s 547ms/step - loss: 0.7240 - val_loss: 0.7178\n",
            "Epoch 4/150\n",
            "4/4 [==============================] - 2s 731ms/step - loss: 0.6864 - val_loss: 0.6751\n",
            "Epoch 5/150\n",
            "4/4 [==============================] - 3s 814ms/step - loss: 0.6445 - val_loss: 0.6369\n",
            "Epoch 6/150\n",
            "4/4 [==============================] - 5s 1s/step - loss: 0.6090 - val_loss: 0.6039\n",
            "Epoch 7/150\n",
            "4/4 [==============================] - 8s 2s/step - loss: 0.5828 - val_loss: 0.5751\n",
            "Epoch 8/150\n",
            "4/4 [==============================] - 5s 1s/step - loss: 0.5560 - val_loss: 0.5525\n",
            "Epoch 9/150\n",
            "4/4 [==============================] - 5s 1s/step - loss: 0.5377 - val_loss: 0.5344\n",
            "Epoch 10/150\n",
            "4/4 [==============================] - 6s 2s/step - loss: 0.5223 - val_loss: 0.5198\n",
            "Epoch 11/150\n",
            "4/4 [==============================] - 4s 1s/step - loss: 0.5093 - val_loss: 0.5079\n",
            "Epoch 12/150\n",
            "4/4 [==============================] - 7s 2s/step - loss: 0.4990 - val_loss: 0.4974\n",
            "Epoch 13/150\n",
            "4/4 [==============================] - 4s 1s/step - loss: 0.4901 - val_loss: 0.4875\n",
            "Epoch 14/150\n",
            "4/4 [==============================] - 3s 772ms/step - loss: 0.4810 - val_loss: 0.4775\n",
            "Epoch 15/150\n",
            "4/4 [==============================] - 3s 748ms/step - loss: 0.4717 - val_loss: 0.4677\n",
            "Epoch 16/150\n",
            "4/4 [==============================] - 2s 648ms/step - loss: 0.4624 - val_loss: 0.4582\n",
            "Epoch 17/150\n",
            "4/4 [==============================] - 3s 729ms/step - loss: 0.4544 - val_loss: 0.4494\n",
            "Epoch 18/150\n",
            "4/4 [==============================] - 2s 542ms/step - loss: 0.4463 - val_loss: 0.4419\n",
            "Epoch 19/150\n",
            "4/4 [==============================] - 2s 556ms/step - loss: 0.4399 - val_loss: 0.4348\n",
            "Epoch 20/150\n",
            "4/4 [==============================] - 2s 541ms/step - loss: 0.4337 - val_loss: 0.4284\n",
            "Epoch 21/150\n",
            "4/4 [==============================] - 3s 769ms/step - loss: 0.4282 - val_loss: 0.4222\n",
            "Epoch 22/150\n",
            "4/4 [==============================] - 3s 732ms/step - loss: 0.4235 - val_loss: 0.4163\n",
            "Epoch 23/150\n",
            "4/4 [==============================] - 2s 553ms/step - loss: 0.4181 - val_loss: 0.4110\n",
            "Epoch 24/150\n",
            "4/4 [==============================] - 2s 542ms/step - loss: 0.4138 - val_loss: 0.4060\n",
            "Epoch 25/150\n",
            "4/4 [==============================] - 14s 5s/step - loss: 0.4098 - val_loss: 0.4008\n",
            "Epoch 26/150\n",
            "4/4 [==============================] - 3s 763ms/step - loss: 0.4055 - val_loss: 0.3959\n",
            "Epoch 27/150\n",
            "4/4 [==============================] - 2s 626ms/step - loss: 0.4015 - val_loss: 0.3912\n",
            "Epoch 28/150\n",
            "4/4 [==============================] - 3s 741ms/step - loss: 0.3978 - val_loss: 0.3867\n",
            "Epoch 29/150\n",
            "4/4 [==============================] - 2s 571ms/step - loss: 0.3941 - val_loss: 0.3825\n",
            "Epoch 30/150\n",
            "4/4 [==============================] - 3s 736ms/step - loss: 0.3908 - val_loss: 0.3785\n",
            "Epoch 31/150\n",
            "4/4 [==============================] - 3s 737ms/step - loss: 0.3875 - val_loss: 0.3745\n",
            "Epoch 32/150\n",
            "4/4 [==============================] - 3s 839ms/step - loss: 0.3842 - val_loss: 0.3705\n",
            "Epoch 33/150\n",
            "4/4 [==============================] - 3s 732ms/step - loss: 0.3810 - val_loss: 0.3664\n",
            "Epoch 34/150\n",
            "4/4 [==============================] - 2s 558ms/step - loss: 0.3781 - val_loss: 0.3627\n",
            "Epoch 35/150\n",
            "4/4 [==============================] - 2s 563ms/step - loss: 0.3750 - val_loss: 0.3590\n",
            "Epoch 36/150\n",
            "4/4 [==============================] - 2s 606ms/step - loss: 0.3720 - val_loss: 0.3552\n",
            "Epoch 37/150\n",
            "4/4 [==============================] - 3s 752ms/step - loss: 0.3692 - val_loss: 0.3515\n",
            "Epoch 38/150\n",
            "4/4 [==============================] - 2s 554ms/step - loss: 0.3660 - val_loss: 0.3479\n",
            "Epoch 39/150\n",
            "4/4 [==============================] - 3s 741ms/step - loss: 0.3633 - val_loss: 0.3445\n",
            "Epoch 40/150\n",
            "4/4 [==============================] - 2s 732ms/step - loss: 0.3607 - val_loss: 0.3414\n",
            "Epoch 41/150\n",
            "4/4 [==============================] - 3s 732ms/step - loss: 0.3585 - val_loss: 0.3383\n",
            "Epoch 42/150\n",
            "4/4 [==============================] - 5s 1s/step - loss: 0.3560 - val_loss: 0.3354\n",
            "Epoch 43/150\n",
            "4/4 [==============================] - 2s 560ms/step - loss: 0.3541 - val_loss: 0.3326\n",
            "Epoch 44/150\n",
            "4/4 [==============================] - 3s 740ms/step - loss: 0.3526 - val_loss: 0.3307\n",
            "Epoch 45/150\n",
            "4/4 [==============================] - 5s 2s/step - loss: 0.3507 - val_loss: 0.3282\n",
            "Epoch 46/150\n",
            "4/4 [==============================] - 4s 1s/step - loss: 0.3488 - val_loss: 0.3256\n",
            "Epoch 47/150\n",
            "4/4 [==============================] - 2s 730ms/step - loss: 0.3466 - val_loss: 0.3237\n",
            "Epoch 48/150\n",
            "4/4 [==============================] - 3s 729ms/step - loss: 0.3456 - val_loss: 0.3219\n",
            "Epoch 49/150\n",
            "4/4 [==============================] - 3s 735ms/step - loss: 0.3442 - val_loss: 0.3197\n",
            "Epoch 50/150\n",
            "4/4 [==============================] - 3s 834ms/step - loss: 0.3426 - val_loss: 0.3179\n",
            "Epoch 51/150\n",
            "4/4 [==============================] - 2s 561ms/step - loss: 0.3419 - val_loss: 0.3166\n",
            "Epoch 52/150\n",
            "4/4 [==============================] - 2s 569ms/step - loss: 0.3407 - val_loss: 0.3149\n",
            "Epoch 53/150\n",
            "4/4 [==============================] - 2s 574ms/step - loss: 0.3396 - val_loss: 0.3132\n",
            "Epoch 54/150\n",
            "4/4 [==============================] - 2s 730ms/step - loss: 0.3385 - val_loss: 0.3122\n",
            "Epoch 55/150\n",
            "4/4 [==============================] - 3s 891ms/step - loss: 0.3374 - val_loss: 0.3111\n",
            "Epoch 56/150\n",
            "4/4 [==============================] - 2s 550ms/step - loss: 0.3368 - val_loss: 0.3102\n",
            "Epoch 57/150\n",
            "4/4 [==============================] - 2s 560ms/step - loss: 0.3367 - val_loss: 0.3092\n",
            "Epoch 58/150\n",
            "4/4 [==============================] - 2s 557ms/step - loss: 0.3355 - val_loss: 0.3080\n",
            "Epoch 59/150\n",
            "4/4 [==============================] - 3s 739ms/step - loss: 0.3350 - val_loss: 0.3071\n",
            "Epoch 60/150\n",
            "4/4 [==============================] - 3s 803ms/step - loss: 0.3344 - val_loss: 0.3061\n",
            "Epoch 61/150\n",
            "4/4 [==============================] - 3s 735ms/step - loss: 0.3338 - val_loss: 0.3052\n",
            "Epoch 62/150\n",
            "4/4 [==============================] - 3s 746ms/step - loss: 0.3331 - val_loss: 0.3044\n",
            "Epoch 63/150\n",
            "4/4 [==============================] - 3s 742ms/step - loss: 0.3335 - val_loss: 0.3038\n",
            "Epoch 64/150\n",
            "4/4 [==============================] - 2s 731ms/step - loss: 0.3330 - val_loss: 0.3028\n",
            "Epoch 65/150\n",
            "4/4 [==============================] - 3s 867ms/step - loss: 0.3319 - val_loss: 0.3022\n",
            "Epoch 66/150\n",
            "4/4 [==============================] - 3s 797ms/step - loss: 0.3320 - val_loss: 0.3017\n",
            "Epoch 67/150\n",
            "4/4 [==============================] - 3s 860ms/step - loss: 0.3315 - val_loss: 0.3009\n",
            "Epoch 68/150\n",
            "4/4 [==============================] - 2s 563ms/step - loss: 0.3310 - val_loss: 0.3004\n",
            "Epoch 69/150\n",
            "4/4 [==============================] - 2s 597ms/step - loss: 0.3309 - val_loss: 0.2998\n",
            "Epoch 70/150\n",
            "4/4 [==============================] - 3s 880ms/step - loss: 0.3310 - val_loss: 0.2994\n",
            "Epoch 71/150\n",
            "4/4 [==============================] - 2s 548ms/step - loss: 0.3303 - val_loss: 0.2989\n",
            "Epoch 72/150\n",
            "4/4 [==============================] - 2s 552ms/step - loss: 0.3300 - val_loss: 0.2987\n",
            "Epoch 73/150\n",
            "4/4 [==============================] - 2s 539ms/step - loss: 0.3303 - val_loss: 0.2988\n",
            "Epoch 74/150\n",
            "4/4 [==============================] - 3s 735ms/step - loss: 0.3306 - val_loss: 0.2989\n",
            "Epoch 74: early stopping\n",
            "Restoring model weights from the end of the best epoch: 72.\n"
          ]
        }
      ]
    },
    {
      "cell_type": "markdown",
      "source": [
        "Let's review the training progress and accuracies:"
      ],
      "metadata": {
        "id": "q6G9HoEJHSB3"
      }
    },
    {
      "cell_type": "code",
      "source": [
        "train_loss2 = history2.history['loss']\n",
        "val_loss2 = history2.history['val_loss']\n",
        "plt.plot(train_loss2, label='Training Loss')\n",
        "plt.plot(val_loss2, label='Validation Loss')\n",
        "plt.xlabel('Epoch')\n",
        "plt.ylabel('Loss')\n",
        "plt.legend()\n",
        "plt.show()\n",
        "\n",
        "\n",
        "train_acc2 = accuracy_score(model2.predict(xs_train) >= 0.5, y_train)\n",
        "val_acc2 = accuracy_score(model2.predict(xs_val) >= 0.5, y_val)\n",
        "test_acc2 = accuracy_score(model2.predict(xs_test) >= 0.5, y_test)\n",
        "\n",
        "print(f\"Train accuracy: {train_acc2}\")\n",
        "print(f\"Validation accuracy: {val_acc2}\")\n",
        "print(f\"Test accuracy: {test_acc2}\")"
      ],
      "metadata": {
        "colab": {
          "base_uri": "https://localhost:8080/",
          "height": 557
        },
        "id": "Q2MWQGoxGwon",
        "outputId": "322fdd0f-f041-43d3-a90a-ecf87f4cb883"
      },
      "execution_count": null,
      "outputs": [
        {
          "output_type": "display_data",
          "data": {
            "text/plain": [
              "<Figure size 640x480 with 1 Axes>"
            ],
            "image/png": "[encoded data removed]"
          },
          "metadata": {}
        },
        {
          "output_type": "stream",
          "name": "stdout",
          "text": [
            "4/4 [==============================] - 1s 187ms/step\n",
            "8/8 [==============================] - 1s 184ms/step\n",
            "8/8 [==============================] - 1s 101ms/step\n",
            "Train accuracy: 0.9026548672566371\n",
            "Validation accuracy: 0.8859649122807017\n",
            "Test accuracy: 0.8991228070175439\n"
          ]
        }
      ]
    },
    {
      "cell_type": "markdown",
      "source": [
        "This second model is better, as its accuracy has improved considerably.\n",
        "\n",
        "Even better results can be achieved by changing the encoding, variational form, optimizer, and hyperparameters (early stopping settings, batch size, etc.).\n",
        "\n",
        "We could also consider using more qubits, depending on the encoding, as well as considering more components in the PCA or not using PCA and using the $30$ features from the original dataset. Here is where the art of adjusting a QNN model comes in, just like the classical counterpart."
      ],
      "metadata": {
        "id": "Q6arqLQ1JTro"
      }
    },
    {
      "cell_type": "markdown",
      "source": [
        "On the other hand, we could also modify the **differentiation method**, which would give us different results. We mentioned above that PennyLane uses the \"best\" method by default, but we can explicitly specify one. This is achieved when defining the _qnode_:\n",
        "\n",
        "```python\n",
        "@qml.qnode(dev, interface=\"tf\", diff_method=\"method\")  # default set to \"best\"\n",
        "\n",
        "```\n",
        "\n",
        "To learn more about the various optimizers and differentiation methods that can be used in PennyLane, visit this [link](https://docs.pennylane.ai/en/stable/introduction/interfaces.html)."
      ],
      "metadata": {
        "id": "ojC70V6mK3ev"
      }
    }
  ]
}