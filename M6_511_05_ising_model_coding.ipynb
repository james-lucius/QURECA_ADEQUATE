{
  "cells": [
    {
      "cell_type": "markdown",
      "metadata": {
        "id": "view-in-github",
        "colab_type": "text"
      },
      "source": [
        "<a href=\"https://colab.research.google.com/github/james-lucius/qureca_ADEQUATE/blob/main/M6_511_05_ising_model_coding.ipynb\" target=\"_parent\"><img src=\"https://colab.research.google.com/assets/colab-badge.svg\" alt=\"Open In Colab\"/></a>"
      ]
    },
    {
      "cell_type": "markdown",
      "metadata": {
        "id": "41GrN-mfORx_"
      },
      "source": [
        "<img src=\"https://gitlab.com/qworld/qeducation/educational-materials/adequate-qbook1/raw/main/qworld/images/adq_1.png\" align=\"left\" width=450></a>\n",
        "$ \\newcommand{\\bra}[1]{\\langle #1|} $\n",
        "$ \\newcommand{\\ket}[1]{|#1\\rangle} $\n",
        "$ \\newcommand{\\braket}[2]{\\langle #1|#2\\rangle} $\n",
        "$ \\newcommand{\\dot}[2]{ #1 \\cdot #2} $\n",
        "$ \\newcommand{\\biginner}[2]{\\left\\langle #1,#2\\right\\rangle} $\n",
        "$ \\newcommand{\\mymatrix}[2]{\\left( \\begin{array}{#1} #2\\end{array} \\right)} $\n",
        "$ \\newcommand{\\myvector}[1]{\\mymatrix{c}{#1}} $\n",
        "$ \\newcommand{\\myrvector}[1]{\\mymatrix{r}{#1}} $\n",
        "$ \\newcommand{\\mypar}[1]{\\left( #1 \\right)} $\n",
        "$ \\newcommand{\\mybigpar}[1]{ \\Big( #1 \\Big)} $\n",
        "$ \\newcommand{\\sqrttwo}{\\frac{1}{\\sqrt{2}}} $\n",
        "$ \\newcommand{\\dsqrttwo}{\\dfrac{1}{\\sqrt{2}}} $\n",
        "$ \\newcommand{\\onehalf}{\\frac{1}{2}} $\n",
        "$ \\newcommand{\\donehalf}{\\dfrac{1}{2}} $\n",
        "$ \\newcommand{\\hadamard}{ \\mymatrix{rr}{ \\sqrttwo & \\sqrttwo \\\\ \\sqrttwo & -\\sqrttwo }} $\n",
        "$ \\newcommand{\\vzero}{\\myvector{1\\\\0}} $\n",
        "$ \\newcommand{\\vone}{\\myvector{0\\\\1}} $\n",
        "$ \\newcommand{\\stateplus}{\\myvector{ \\sqrttwo \\\\  \\sqrttwo } } $\n",
        "$ \\newcommand{\\stateminus}{ \\myrvector{ \\sqrttwo \\\\ -\\sqrttwo } } $\n",
        "$ \\newcommand{\\myarray}[2]{ \\begin{array}{#1}#2\\end{array}} $\n",
        "$ \\newcommand{\\X}{ \\mymatrix{cc}{0 & 1 \\\\ 1 & 0}  } $\n",
        "$ \\newcommand{\\I}{ \\mymatrix{rr}{1 & 0 \\\\ 0 & 1}  } $\n",
        "$ \\newcommand{\\Z}{ \\mymatrix{rr}{1 & 0 \\\\ 0 & -1}  } $\n",
        "$ \\newcommand{\\Htwo}{ \\mymatrix{rrrr}{ \\frac{1}{2} & \\frac{1}{2} & \\frac{1}{2} & \\frac{1}{2} \\\\ \\frac{1}{2} & -\\frac{1}{2} & \\frac{1}{2} & -\\frac{1}{2} \\\\ \\frac{1}{2} & \\frac{1}{2} & -\\frac{1}{2} & -\\frac{1}{2} \\\\ \\frac{1}{2} & -\\frac{1}{2} & -\\frac{1}{2} & \\frac{1}{2} } } $\n",
        "$ \\newcommand{\\CNOT}{ \\mymatrix{cccc}{1 & 0 & 0 & 0 \\\\ 0 & 1 & 0 & 0 \\\\ 0 & 0 & 0 & 1 \\\\ 0 & 0 & 1 & 0} } $\n",
        "$ \\newcommand{\\norm}[1]{ \\left\\lVert #1 \\right\\rVert } $\n",
        "$ \\newcommand{\\pstate}[1]{ \\lceil \\mspace{-1mu} #1 \\mspace{-1.5mu} \\rfloor } $\n",
        "$ \\newcommand{\\greenbit}[1] {\\mathbf{{\\color{green}#1}}} $\n",
        "$ \\newcommand{\\bluebit}[1] {\\mathbf{{\\color{blue}#1}}} $\n",
        "$ \\newcommand{\\redbit}[1] {\\mathbf{{\\color{red}#1}}} $\n",
        "$ \\newcommand{\\brownbit}[1] {\\mathbf{{\\color{brown}#1}}} $\n",
        "$ \\newcommand{\\blackbit}[1] {\\mathbf{{\\color{black}#1}}} $"
      ]
    },
    {
      "cell_type": "markdown",
      "metadata": {
        "id": "ZdFFnm9UORyB"
      },
      "source": [
        "_prepared by Özlem Salehi_"
      ]
    },
    {
      "cell_type": "markdown",
      "metadata": {
        "id": "PKwB3kSHORyB"
      },
      "source": [
        "<font size=\"28px\" style=\"font-size:28px;\" align=\"left\"><b>Exercises: Ising Model</b></font>\n"
      ]
    },
    {
      "cell_type": "markdown",
      "source": [
        "Run the following cell to perform necessary installations:"
      ],
      "metadata": {
        "id": "-oWEYDc5vDiJ"
      }
    },
    {
      "cell_type": "code",
      "source": [
        "try:\n",
        "  import qiskit, qiskit_aer, qiskit_optimization, networkx\n",
        "  print(\"Qiskit has been imported \")\n",
        "except:\n",
        "  print(\"Installing Qiskit...\")\n",
        "  !pip install -U -q qiskit[visualization]\n",
        "  !pip install -U -q qiskit-aer\n",
        "  !pip install -U -q qiskit_optimization\n",
        "  !pip install -U -q networkx\n",
        "  print(\"Qiskit has been installed\")"
      ],
      "metadata": {
        "id": "vgFYZSNUL7zi",
        "outputId": "8a53264d-62bf-461a-e638-de55618a74df",
        "colab": {
          "base_uri": "https://localhost:8080/"
        }
      },
      "execution_count": 1,
      "outputs": [
        {
          "output_type": "stream",
          "name": "stdout",
          "text": [
            "Installing Qiskit...\n",
            "\u001b[2K     \u001b[90m━━━━━━━━━━━━━━━━━━━━━━━━━━━━━━━━━━━━━━━\u001b[0m \u001b[32m162.6/162.6 kB\u001b[0m \u001b[31m5.3 MB/s\u001b[0m eta \u001b[36m0:00:00\u001b[0m\n",
            "\u001b[?25h  Preparing metadata (setup.py) ... \u001b[?25l\u001b[?25hdone\n",
            "\u001b[2K   \u001b[90m━━━━━━━━━━━━━━━━━━━━━━━━━━━━━━━━━━━━━━━━\u001b[0m \u001b[32m2.1/2.1 MB\u001b[0m \u001b[31m30.8 MB/s\u001b[0m eta \u001b[36m0:00:00\u001b[0m\n",
            "\u001b[2K   \u001b[90m━━━━━━━━━━━━━━━━━━━━━━━━━━━━━━━━━━━━━━━━\u001b[0m \u001b[32m49.5/49.5 kB\u001b[0m \u001b[31m3.5 MB/s\u001b[0m eta \u001b[36m0:00:00\u001b[0m\n",
            "\u001b[2K   \u001b[90m━━━━━━━━━━━━━━━━━━━━━━━━━━━━━━━━━━━━━━━━\u001b[0m \u001b[32m7.5/7.5 MB\u001b[0m \u001b[31m46.3 MB/s\u001b[0m eta \u001b[36m0:00:00\u001b[0m\n",
            "\u001b[2K   \u001b[90m━━━━━━━━━━━━━━━━━━━━━━━━━━━━━━━━━━━━━━━━\u001b[0m \u001b[32m109.0/109.0 kB\u001b[0m \u001b[31m6.9 MB/s\u001b[0m eta \u001b[36m0:00:00\u001b[0m\n",
            "\u001b[?25h  Building wheel for pylatexenc (setup.py) ... \u001b[?25l\u001b[?25hdone\n",
            "\u001b[2K   \u001b[90m━━━━━━━━━━━━━━━━━━━━━━━━━━━━━━━━━━━━━━━━\u001b[0m \u001b[32m12.4/12.4 MB\u001b[0m \u001b[31m67.6 MB/s\u001b[0m eta \u001b[36m0:00:00\u001b[0m\n",
            "\u001b[2K     \u001b[90m━━━━━━━━━━━━━━━━━━━━━━━━━━━━━━━━━━━━━━\u001b[0m \u001b[32m646.5/646.5 kB\u001b[0m \u001b[31m20.5 MB/s\u001b[0m eta \u001b[36m0:00:00\u001b[0m\n",
            "\u001b[?25h  Installing build dependencies ... \u001b[?25l\u001b[?25hdone\n",
            "  Getting requirements to build wheel ... \u001b[?25l\u001b[?25hdone\n",
            "  Installing backend dependencies ... \u001b[?25l\u001b[?25hdone\n",
            "  Preparing metadata (pyproject.toml) ... \u001b[?25l\u001b[?25hdone\n",
            "\u001b[2K   \u001b[90m━━━━━━━━━━━━━━━━━━━━━━━━━━━━━━━━━━━━━━━━\u001b[0m \u001b[32m167.6/167.6 kB\u001b[0m \u001b[31m12.1 MB/s\u001b[0m eta \u001b[36m0:00:00\u001b[0m\n",
            "\u001b[2K   \u001b[90m━━━━━━━━━━━━━━━━━━━━━━━━━━━━━━━━━━━━━━━━\u001b[0m \u001b[32m310.5/310.5 kB\u001b[0m \u001b[31m19.7 MB/s\u001b[0m eta \u001b[36m0:00:00\u001b[0m\n",
            "\u001b[?25h  Building wheel for docplex (pyproject.toml) ... \u001b[?25l\u001b[?25hdone\n",
            "Qiskit has been installed\n"
          ]
        }
      ]
    },
    {
      "cell_type": "markdown",
      "source": [
        "### Task 1\n",
        "\n",
        "Given the Ising Model with the following properities, write a function to calculate the energy for different spin assignments and use that function to find the lowest energy state.\n",
        "\n",
        "- There are 3 spins $s_0, s_1, s_2$.\n",
        "- $h_0=4, h_1=2, h_2=-6$.\n",
        "- $J_{0,1}=3, J_{0,2}=-1.3, J_{1,2}=2$\n",
        "\n",
        "Your function should take as input the values for $s_0,s_1,s_2$ and return the energy."
      ],
      "metadata": {
        "id": "fv669QN8AUnK"
      }
    },
    {
      "cell_type": "code",
      "source": [
        "def calc_energy(s_0,s_1,s_2):\n",
        "    #your code here\n",
        "    return (3 * s_0 * s_1) + (-1.3 * s_0 * s_2) + (2 * s_1 * s_2) + (4 * s_0) + (2 * s_1) + (-6 * s_2)"
      ],
      "metadata": {
        "id": "No31UNJXAaV5"
      },
      "execution_count": 2,
      "outputs": []
    },
    {
      "cell_type": "code",
      "source": [
        "configurations = [[-1,-1,-1],[-1,-1,1],[-1,1,-1],[-1,1,1],[1,-1,-1],[1,-1,1],[1,1,-1],[1,1,1]]\n",
        "\n",
        "#Your code here\n",
        "conf_dict = {}\n",
        "lowest_e = 1000\n",
        "ground_state = []\n",
        "for c in configurations:\n",
        "  e = calc_energy(c[0], c[1], c[2])\n",
        "  print(f\"Ehergy of spin configuration {c}: {e}\")\n",
        "  if e < lowest_e:\n",
        "    lowest_e = e\n",
        "    ground_state = c\n",
        "print(f\"Ground state: {ground_state}\")\n",
        "print(f\"Lowest energy: {lowest_e}\")"
      ],
      "metadata": {
        "id": "EMr2b5w3AfJC",
        "outputId": "d74ea8f8-b3ab-4e32-ca5d-a7dacd98f2ed",
        "colab": {
          "base_uri": "https://localhost:8080/"
        }
      },
      "execution_count": 3,
      "outputs": [
        {
          "output_type": "stream",
          "name": "stdout",
          "text": [
            "Ehergy of spin configuration [-1, -1, -1]: 3.7\n",
            "Ehergy of spin configuration [-1, -1, 1]: -9.7\n",
            "Ehergy of spin configuration [-1, 1, -1]: -2.3000000000000007\n",
            "Ehergy of spin configuration [-1, 1, 1]: -7.7\n",
            "Ehergy of spin configuration [1, -1, -1]: 8.3\n",
            "Ehergy of spin configuration [1, -1, 1]: -10.3\n",
            "Ehergy of spin configuration [1, 1, -1]: 14.3\n",
            "Ehergy of spin configuration [1, 1, 1]: 3.6999999999999993\n",
            "Ground state: [1, -1, 1]\n",
            "Lowest energy: -10.3\n"
          ]
        }
      ]
    },
    {
      "cell_type": "markdown",
      "source": [
        "### Solution\n"
      ],
      "metadata": {
        "id": "lfURxEkjAW0l"
      }
    },
    {
      "cell_type": "code",
      "source": [
        "def calc_energy(s_0,s_1,s_2):\n",
        "    return 3*s_0*s_1 + -1.3*s_0*s_2 + 2*s_1*s_2 + 4*s_0 + 2*s_1 + -6*s_2"
      ],
      "metadata": {
        "id": "ZmcIUza1An5m"
      },
      "execution_count": 4,
      "outputs": []
    },
    {
      "cell_type": "code",
      "source": [
        "configurations = [[-1,-1,-1], [-1,-1,1],[-1,1,-1], [-1,1,1],[1,-1,-1], [1,-1,1],[1,1,-1], [1,1,1]]\n",
        "\n",
        "conf_dict = {}\n",
        "lowest_e = 1000\n",
        "ground_state = []\n",
        "for c in configurations:\n",
        "    e = calc_energy(c[0],c[1],c[2])\n",
        "    print(\"Energy for spin configuration\",c,\": \", e)\n",
        "    if e < lowest_e:\n",
        "        lowest_e = e\n",
        "        ground_state = c\n",
        "print(\"Ground state: \", ground_state)\n",
        "print(\"Lowest energy: \", lowest_e)"
      ],
      "metadata": {
        "id": "271RqLWrAnyW",
        "outputId": "31dd1ddb-90c3-4d8a-c067-51ee5fd0c2e3",
        "colab": {
          "base_uri": "https://localhost:8080/"
        }
      },
      "execution_count": 5,
      "outputs": [
        {
          "output_type": "stream",
          "name": "stdout",
          "text": [
            "Energy for spin configuration [-1, -1, -1] :  3.7\n",
            "Energy for spin configuration [-1, -1, 1] :  -9.7\n",
            "Energy for spin configuration [-1, 1, -1] :  -2.3000000000000007\n",
            "Energy for spin configuration [-1, 1, 1] :  -7.7\n",
            "Energy for spin configuration [1, -1, -1] :  8.3\n",
            "Energy for spin configuration [1, -1, 1] :  -10.3\n",
            "Energy for spin configuration [1, 1, -1] :  14.3\n",
            "Energy for spin configuration [1, 1, 1] :  3.6999999999999993\n",
            "Ground state:  [1, -1, 1]\n",
            "Lowest energy:  -10.3\n"
          ]
        }
      ]
    },
    {
      "cell_type": "markdown",
      "source": [
        "### Task 2\n",
        "\n",
        "For the Max-Cut problem, write a function that takes the number of nodes and the list of edges as input and returns the cost Hamiltonian."
      ],
      "metadata": {
        "id": "Cr9KYMu2WLb3"
      }
    },
    {
      "cell_type": "code",
      "source": [
        "### Your code here\n",
        "from qiskit.quantum_info import SparsePauliOp\n",
        "\n",
        "def maxcut_cost_hamiltonian(n, edges):\n",
        "  # Your code here\n",
        "  terms = []\n",
        "  for e in edges:\n",
        "    term = [\"I\"] * n\n",
        "    term[e[0]] = \"Z\"\n",
        "    term[e[1]] = \"Z\"\n",
        "  H = SparsePauliOp(terms, [1] * len(terms))\n",
        "  return H\n"
      ],
      "metadata": {
        "id": "QL7E5nX5W3GI"
      },
      "execution_count": 6,
      "outputs": []
    },
    {
      "cell_type": "markdown",
      "source": [
        "### Solution"
      ],
      "metadata": {
        "id": "wy7JwaXGW4x_"
      }
    },
    {
      "cell_type": "markdown",
      "source": [
        "The cost Hamiltonian is given as\n",
        "\n",
        "$$\n",
        "H_C = \\sum_{(i,j) \\in E}Z_iZ_j​.\n",
        "$$"
      ],
      "metadata": {
        "id": "_YTM4ZolXeLz"
      }
    },
    {
      "cell_type": "code",
      "source": [
        "### Your code here\n",
        "from qiskit.quantum_info import SparsePauliOp\n",
        "\n",
        "def maxcut_cost_hamiltonian(n, edges):\n",
        "\n",
        "  terms = []\n",
        "  for e in edges:\n",
        "    term = [\"I\"]*n\n",
        "    term[e[0]] = \"Z\"\n",
        "    term[e[1]] = \"Z\"\n",
        "    terms.append(\"\".join(term))\n",
        "  H = SparsePauliOp(terms, [1]*len(terms))\n",
        "  return H"
      ],
      "metadata": {
        "id": "QkNPlEtvW69y"
      },
      "execution_count": 7,
      "outputs": []
    },
    {
      "cell_type": "markdown",
      "source": [
        "### Task 3\n",
        "\n",
        "Write a function that takes a bit string encoding a Max-Cut problem as input and returns the number of edges in the cut."
      ],
      "metadata": {
        "id": "WXHdqBc0bCpB"
      }
    },
    {
      "cell_type": "code",
      "source": [
        "def count_edges(bit_string, edges):\n",
        "  #Your code here\n",
        "  total = 0\n",
        "  for edge in edges:\n",
        "    xi = int(bit_string[edge[0]])\n",
        "    xj = int(bit_string[edge[1]])\n",
        "    total += xi + xj - 2 * xi * xj\n",
        "  return total"
      ],
      "metadata": {
        "id": "lJ7T1HAYbLCv"
      },
      "execution_count": 8,
      "outputs": []
    },
    {
      "cell_type": "markdown",
      "source": [
        "### Solution"
      ],
      "metadata": {
        "id": "F-HpEWSncJ6F"
      }
    },
    {
      "cell_type": "code",
      "source": [
        "def count_edges(bit_string, edges):\n",
        "  total = 0\n",
        "  for edge in edges:\n",
        "    xi = int(bit_string[edge[0]])\n",
        "    xj = int(bit_string[edge[1]])\n",
        "    total += xi+xj- 2*xi*xj\n",
        "  return total"
      ],
      "metadata": {
        "id": "OliFBvXTcLRH"
      },
      "execution_count": 9,
      "outputs": []
    },
    {
      "cell_type": "markdown",
      "source": [
        "### Task 4\n",
        "\n",
        "Run QAOA setting $p=5$ for the graph given below to solve the Max-Cut problem. Use the functions defined in the previous notebook to create the initial state, mixer and ansatz, and the cost Hamiltonian you have written in Task 6. Complete the functions named `qaoa_circuit` and `expectation_value`. `qaoa_circuit` takes as input the number of nodes, Hamiltonian, number of layers, and parameters, and returns the complete circuit after assigning parameters and transpiling. `expectation_value`returns the expected number of edges in the cut based on the simulation results."
      ],
      "metadata": {
        "id": "pWyB2hhrQxOW"
      }
    },
    {
      "cell_type": "code",
      "source": [
        "import networkx as nx\n",
        "G = nx.house_x_graph()\n",
        "nx.draw_networkx(G)\n",
        "print(G.nodes)\n",
        "print(G.edges)"
      ],
      "metadata": {
        "id": "nlaeYne-WLAf",
        "outputId": "158cdbf7-58f3-42b5-fd5f-1f6a4be5300f",
        "colab": {
          "base_uri": "https://localhost:8080/",
          "height": 461
        }
      },
      "execution_count": 10,
      "outputs": [
        {
          "output_type": "stream",
          "name": "stdout",
          "text": [
            "[0, 1, 2, 3, 4]\n",
            "[(0, 1), (0, 2), (0, 3), (1, 3), (1, 2), (2, 3), (2, 4), (3, 4)]\n"
          ]
        },
        {
          "output_type": "display_data",
          "data": {
            "text/plain": [
              "<Figure size 640x480 with 1 Axes>"
            ],
            "image/png": "[encoded data removed]"
          },
          "metadata": {}
        }
      ]
    },
    {
      "cell_type": "code",
      "source": [
        "from qiskit import  QuantumCircuit\n",
        "from qiskit.circuit import Parameter\n",
        "from qiskit.quantum_info import SparsePauliOp\n",
        "from qiskit import transpile\n",
        "from scipy.optimize import minimize\n",
        "from qiskit_aer import AerSimulator\n"
      ],
      "metadata": {
        "id": "81qUWjJaVa7J"
      },
      "execution_count": 11,
      "outputs": []
    },
    {
      "cell_type": "code",
      "source": [
        "def initial_state(n):\n",
        "  qc = QuantumCircuit(n)\n",
        "  for i in range(n):\n",
        "    qc.h(i)\n",
        "  return qc"
      ],
      "metadata": {
        "id": "73yMWzRLVWDb"
      },
      "execution_count": 12,
      "outputs": []
    },
    {
      "cell_type": "code",
      "source": [
        "def mixer(n, i):\n",
        "  qc = QuantumCircuit(n)\n",
        "  beta = Parameter(f'beta{i}')\n",
        "  for i in range(n):\n",
        "    qc.rx(2*beta,i)\n",
        "  return qc"
      ],
      "metadata": {
        "id": "aPnIqLPZVEjx"
      },
      "execution_count": 13,
      "outputs": []
    },
    {
      "cell_type": "code",
      "source": [
        "def cost(n, op, i):\n",
        "  qc = QuantumCircuit(n)\n",
        "  gamma = Parameter(f\"gamma{i}\")\n",
        "  for term in op:\n",
        "    indices = [i for i, p in enumerate(term.paulis[0]) if str(p) != \"I\"]\n",
        "    if len(indices) == 2:\n",
        "      qc.rzz(2*term.coeffs[0].real*gamma, *indices)\n",
        "    elif len(indices) == 1:\n",
        "      qc.rz(2*term.coeffs[0].real*gamma, *indices)\n",
        "  return qc"
      ],
      "metadata": {
        "id": "1wMRqgfuVEma"
      },
      "execution_count": 14,
      "outputs": []
    },
    {
      "cell_type": "code",
      "source": [
        "def qaoa_circuit(n, H, p, params):\n",
        "  #Your code here\n",
        "  qc = QuantumCircuit(n, n)\n",
        "  qc.append(initial_state(n), range(n))\n",
        "  for i in range(p):\n",
        "    qc.append(mixer(n, i), range(n))\n",
        "    qc.append(cost(n, H, i), range(n))\n",
        "  for i in range(n):\n",
        "      qc.measure(i, i)\n",
        "  bc = qc.assign_parameters(params)\n",
        "  bc = transpile(bc, basis_gates = ['u', 'cx'])\n",
        "  return bc"
      ],
      "metadata": {
        "id": "y4-l6MVIep5a"
      },
      "execution_count": 15,
      "outputs": []
    },
    {
      "cell_type": "code",
      "source": [
        "def expectation_value(params):\n",
        "  # Your code here\n",
        "  n = 5\n",
        "  p = 10\n",
        "  H = maxcut_cost_hamiltonian(n, G.edges)\n",
        "  qc = qaoa_circuit(n, H, p, params)\n",
        "  shots = 10000\n",
        "  job = AerSimulator().run(qc, shots = shots)\n",
        "  counts = job.result().get_counts(qc)\n",
        "  e = 0\n",
        "  for bit_string, occurence in counts.items():\n",
        "    e += - (count_edges(bit_string, G.edges()) *occurence)\n",
        "  return e/shots\n"
      ],
      "metadata": {
        "id": "DuC7O7Fne3sg"
      },
      "execution_count": 16,
      "outputs": []
    },
    {
      "cell_type": "code",
      "source": [
        "p = 10\n",
        "params = [1]*p*2\n",
        "e = expectation_value(params)\n",
        "print(\"Initial expectation value estimation:\", e)\n",
        "result = minimize(expectation_value, params, method='COBYLA')\n",
        "print(\"Optimized parameters:\", result.x)\n",
        "print(\"Expectation value at optimized parameters:\", expectation_value(result.x))\n"
      ],
      "metadata": {
        "id": "2fSq9fLufArF",
        "outputId": "9f234a63-ab92-44a8-a4c8-e939414a097e",
        "colab": {
          "base_uri": "https://localhost:8080/"
        }
      },
      "execution_count": 17,
      "outputs": [
        {
          "output_type": "stream",
          "name": "stdout",
          "text": [
            "Initial expectation value estimation: -3.9919\n",
            "Optimized parameters: [2.03335236 1.03948048 0.93776353 1.00589971 1.03089135 1.98421303\n",
            " 1.21424246 1.0841874  0.92190164 1.05601839 1.06070965 1.08049769\n",
            " 1.07232037 0.95068596 1.20519107 0.99099505 1.03001299 1.15876618\n",
            " 0.96249687 0.92798994]\n",
            "Expectation value at optimized parameters: -5.7019\n"
          ]
        }
      ]
    },
    {
      "cell_type": "markdown",
      "source": [
        "### Solution"
      ],
      "metadata": {
        "id": "3JEh7i0Fert1"
      }
    },
    {
      "cell_type": "code",
      "source": [
        "def qaoa_circuit(n, H, p, params):\n",
        "  qc = QuantumCircuit(n,n)\n",
        "  qc.append(initial_state(n), range(n))\n",
        "  for i in range(p):\n",
        "    qc.append(mixer(n, i), range(n))\n",
        "    qc.append(cost(n,H, i), range(n))\n",
        "  for i in range(n):\n",
        "    qc.measure(i,i)\n",
        "  bc = qc.assign_parameters(params)\n",
        "  bc = transpile(bc, basis_gates=['u', 'cx'])\n",
        "  return bc"
      ],
      "metadata": {
        "id": "YCG3oyP_cd7t"
      },
      "execution_count": 18,
      "outputs": []
    },
    {
      "cell_type": "code",
      "source": [
        "def expectation_value(params):\n",
        "  n = 5\n",
        "  p = 10\n",
        "  H = maxcut_cost_hamiltonian(n, G.edges)\n",
        "  qc = qaoa_circuit(n, H, p, params)\n",
        "  shots = 10000\n",
        "  job = AerSimulator().run(qc,shots=shots)\n",
        "  counts = job.result().get_counts(qc)\n",
        "  e = 0\n",
        "  for bit_string, occurence in counts.items():\n",
        "      e += - (count_edges(bit_string, G.edges())*occurence)\n",
        "  return e/shots\n"
      ],
      "metadata": {
        "id": "ceHOrK5dNdU3"
      },
      "execution_count": 19,
      "outputs": []
    },
    {
      "cell_type": "code",
      "source": [
        "p = 10\n",
        "params = [1]*p*2\n",
        "e = expectation_value(params)\n",
        "print(\"Initial expectation value estimation:\", e)\n",
        "result = minimize(expectation_value, params, method='COBYLA')\n",
        "print(\"Optimized parameters:\", result.x)\n",
        "print(\"Expectation value at optimized parameters:\", expectation_value(result.x))\n"
      ],
      "metadata": {
        "id": "hfPjcYMd-64x",
        "outputId": "e6d84b52-467d-4209-b2a9-6c12ec7118b6",
        "colab": {
          "base_uri": "https://localhost:8080/"
        }
      },
      "execution_count": 20,
      "outputs": [
        {
          "output_type": "stream",
          "name": "stdout",
          "text": [
            "Initial expectation value estimation: -4.0064\n",
            "Optimized parameters: [2.00572404 1.06558135 1.04699207 1.06879571 1.02757867 1.90406294\n",
            " 1.35198908 1.14243737 0.84865632 0.96744326 0.95132591 0.9693431\n",
            " 0.9563428  1.03305696 1.0449123  1.04253801 1.12238537 1.03694538\n",
            " 1.09670792 1.00196269]\n",
            "Expectation value at optimized parameters: -5.663\n"
          ]
        }
      ]
    },
    {
      "cell_type": "markdown",
      "source": [
        "### Task 5\n",
        "\n",
        "For the optimal parameters you have obtained in Task 4, create the QAOA circuit and run it using Aer simulator. Use the most frequently obtained bitstring to determine the number of edges in the cut."
      ],
      "metadata": {
        "id": "kXkmPTWMfD6Q"
      }
    },
    {
      "cell_type": "markdown",
      "source": [
        "### Solution"
      ],
      "metadata": {
        "id": "5x7MsknRfXQd"
      }
    },
    {
      "cell_type": "code",
      "source": [
        "n = 5\n",
        "H = maxcut_cost_hamiltonian(n, G.edges)\n",
        "qc = qaoa_circuit(n, H, 10, result.x)\n",
        "job = AerSimulator().run(qc,shots=1000)\n",
        "counts = job.result().get_counts(qc)"
      ],
      "metadata": {
        "id": "s0sl_Ds7cu7j"
      },
      "execution_count": 21,
      "outputs": []
    },
    {
      "cell_type": "markdown",
      "source": [
        "Let us check which bitstring occurred the most."
      ],
      "metadata": {
        "id": "rfrQ6SltfaaC"
      }
    },
    {
      "cell_type": "code",
      "source": [
        "print(counts)"
      ],
      "metadata": {
        "id": "xfnE5AY5dB8q",
        "outputId": "43060eaf-909c-4da8-fc9d-924885826f5f",
        "colab": {
          "base_uri": "https://localhost:8080/"
        }
      },
      "execution_count": 22,
      "outputs": [
        {
          "output_type": "stream",
          "name": "stdout",
          "text": [
            "{'11101': 1, '00100': 1, '11000': 9, '11110': 1, '10000': 6, '00010': 2, '01111': 4, '01100': 5, '01011': 8, '01010': 6, '10100': 11, '01101': 14, '00000': 2, '11001': 392, '00011': 7, '00111': 10, '01000': 3, '00110': 356, '10011': 16, '01110': 30, '10110': 25, '10111': 4, '10101': 9, '11100': 9, '10010': 11, '01001': 19, '10001': 21, '00101': 5, '11010': 13}\n"
          ]
        }
      ]
    },
    {
      "cell_type": "markdown",
      "source": [
        "We see that \"11001\" and \"00110\" occurred the most. They actually correspond to the same solution, up to the naming of the groups. Let's pick \"00110\"."
      ],
      "metadata": {
        "id": "fVCihHBmfe3Y"
      }
    },
    {
      "cell_type": "code",
      "source": [
        "print(\"Number of edges in the cut at optimized parameters:\", count_edges(\"00110\", G.edges()) )"
      ],
      "metadata": {
        "id": "4oJ1x9_Y-62P",
        "outputId": "04a819d4-5266-42d0-9b45-be733c50d277",
        "colab": {
          "base_uri": "https://localhost:8080/"
        }
      },
      "execution_count": 23,
      "outputs": [
        {
          "output_type": "stream",
          "name": "stdout",
          "text": [
            "Number of edges in the cut at optimized parameters: 6\n"
          ]
        }
      ]
    }
  ],
  "metadata": {
    "kernelspec": {
      "display_name": "Python 3 (ipykernel)",
      "language": "python",
      "name": "python3"
    },
    "language_info": {
      "codemirror_mode": {
        "name": "ipython",
        "version": 3
      },
      "file_extension": ".py",
      "mimetype": "text/x-python",
      "name": "python",
      "nbconvert_exporter": "python",
      "pygments_lexer": "ipython3",
      "version": "3.11.4"
    },
    "colab": {
      "provenance": [],
      "include_colab_link": true
    }
  },
  "nbformat": 4,
  "nbformat_minor": 0
}