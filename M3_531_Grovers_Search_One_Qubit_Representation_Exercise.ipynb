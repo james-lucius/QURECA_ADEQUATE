{
  "cells": [
    {
      "cell_type": "markdown",
      "metadata": {
        "id": "view-in-github",
        "colab_type": "text"
      },
      "source": [
        "<a href=\"https://colab.research.google.com/github/james-lucius/qureca_ADEQUATE/blob/main/M3_531_Grovers_Search_One_Qubit_Representation_Exercise.ipynb\" target=\"_parent\"><img src=\"https://colab.research.google.com/assets/colab-badge.svg\" alt=\"Open In Colab\"/></a>"
      ]
    },
    {
      "cell_type": "markdown",
      "source": [
        "<img src=\"https://gitlab.com/qworld/qeducation/educational-materials/adequate-qbook1/raw/main/qworld/images/adq_1.png\" align=\"left\" width=450></a>\n",
        "$ \\newcommand{\\bra}[1]{\\langle #1|} $\n",
        "$ \\newcommand{\\ket}[1]{|#1\\rangle} $\n",
        "$ \\newcommand{\\braket}[2]{\\langle #1|#2\\rangle} $\n",
        "$ \\newcommand{\\dot}[2]{ #1 \\cdot #2} $\n",
        "$ \\newcommand{\\biginner}[2]{\\left\\langle #1,#2\\right\\rangle} $\n",
        "$ \\newcommand{\\mymatrix}[2]{\\left( \\begin{array}{#1} #2\\end{array} \\right)} $\n",
        "$ \\newcommand{\\myvector}[1]{\\mymatrix{c}{#1}} $\n",
        "$ \\newcommand{\\myrvector}[1]{\\mymatrix{r}{#1}} $\n",
        "$ \\newcommand{\\mypar}[1]{\\left( #1 \\right)} $\n",
        "$ \\newcommand{\\mybigpar}[1]{ \\Big( #1 \\Big)} $\n",
        "$ \\newcommand{\\sqrttwo}{\\frac{1}{\\sqrt{2}}} $\n",
        "$ \\newcommand{\\dsqrttwo}{\\dfrac{1}{\\sqrt{2}}} $\n",
        "$ \\newcommand{\\onehalf}{\\frac{1}{2}} $\n",
        "$ \\newcommand{\\donehalf}{\\dfrac{1}{2}} $\n",
        "$ \\newcommand{\\hadamard}{ \\mymatrix{rr}{ \\sqrttwo & \\sqrttwo \\\\ \\sqrttwo & -\\sqrttwo }} $\n",
        "$ \\newcommand{\\vzero}{\\myvector{1\\\\0}} $\n",
        "$ \\newcommand{\\vone}{\\myvector{0\\\\1}} $\n",
        "$ \\newcommand{\\stateplus}{\\myvector{ \\sqrttwo \\\\  \\sqrttwo } } $\n",
        "$ \\newcommand{\\stateminus}{ \\myrvector{ \\sqrttwo \\\\ -\\sqrttwo } } $\n",
        "$ \\newcommand{\\myarray}[2]{ \\begin{array}{#1}#2\\end{array}} $\n",
        "$ \\newcommand{\\X}{ \\mymatrix{cc}{0 & 1 \\\\ 1 & 0}  } $\n",
        "$ \\newcommand{\\I}{ \\mymatrix{rr}{1 & 0 \\\\ 0 & 1}  } $\n",
        "$ \\newcommand{\\Z}{ \\mymatrix{rr}{1 & 0 \\\\ 0 & -1}  } $\n",
        "$ \\newcommand{\\Htwo}{ \\mymatrix{rrrr}{ \\frac{1}{2} & \\frac{1}{2} & \\frac{1}{2} & \\frac{1}{2} \\\\ \\frac{1}{2} & -\\frac{1}{2} & \\frac{1}{2} & -\\frac{1}{2} \\\\ \\frac{1}{2} & \\frac{1}{2} & -\\frac{1}{2} & -\\frac{1}{2} \\\\ \\frac{1}{2} & -\\frac{1}{2} & -\\frac{1}{2} & \\frac{1}{2} } } $\n",
        "$ \\newcommand{\\CNOT}{ \\mymatrix{cccc}{1 & 0 & 0 & 0 \\\\ 0 & 1 & 0 & 0 \\\\ 0 & 0 & 0 & 1 \\\\ 0 & 0 & 1 & 0} } $\n",
        "$ \\newcommand{\\norm}[1]{ \\left\\lVert #1 \\right\\rVert } $\n",
        "$ \\newcommand{\\pstate}[1]{ \\lceil \\mspace{-1mu} #1 \\mspace{-1.5mu} \\rfloor } $\n",
        "$ \\newcommand{\\greenbit}[1] {\\mathbf{{\\color{green}#1}}} $\n",
        "$ \\newcommand{\\bluebit}[1] {\\mathbf{{\\color{blue}#1}}} $\n",
        "$ \\newcommand{\\redbit}[1] {\\mathbf{{\\color{red}#1}}} $\n",
        "$ \\newcommand{\\brownbit}[1] {\\mathbf{{\\color{brown}#1}}} $\n",
        "$ \\newcommand{\\blackbit}[1] {\\mathbf{{\\color{black}#1}}} $"
      ],
      "metadata": {
        "id": "XlyNScW8c0pj"
      }
    },
    {
      "cell_type": "markdown",
      "metadata": {
        "id": "GxpzAOglUzcq"
      },
      "source": [
        "_prepared by Abuzer Yakaryilmaz_"
      ]
    },
    {
      "cell_type": "markdown",
      "metadata": {
        "id": "hqrnoL24Uzcq"
      },
      "source": [
        "<font size=\"28px\" style=\"font-size:28px;\" align=\"left\"><b>Exercise: Grover's Search: One Qubit Representation </b></font>\n"
      ]
    },
    {
      "cell_type": "markdown",
      "metadata": {
        "jp-MarkdownHeadingCollapsed": true,
        "id": "37-KekcJUzcq"
      },
      "source": [
        "##### <font color=\"#08b806\">Please execute the following cell, it is necessary to distinguish between your local environment and Google Colab's"
      ]
    },
    {
      "cell_type": "code",
      "execution_count": null,
      "metadata": {
        "id": "hUqonphWUzcq",
        "colab": {
          "base_uri": "https://localhost:8080/"
        },
        "outputId": "63b3fbe3-d05e-4932-c0a4-46b6e08f894e"
      },
      "outputs": [
        {
          "output_type": "stream",
          "name": "stdout",
          "text": [
            "--2024-12-07 19:04:55--  https://gitlab.com/qworld/qeducation/qbook101/raw/main/qworld/include/quantum.py\n",
            "Resolving gitlab.com (gitlab.com)... 172.65.251.78, 2606:4700:90:0:f22e:fbec:5bed:a9b9\n",
            "Connecting to gitlab.com (gitlab.com)|172.65.251.78|:443... connected.\n",
            "HTTP request sent, awaiting response... 200 OK\n",
            "Length: 2760 (2.7K) [text/plain]\n",
            "Saving to: ‘quantum.py’\n",
            "\n",
            "\rquantum.py            0%[                    ]       0  --.-KB/s               \rquantum.py          100%[===================>]   2.70K  --.-KB/s    in 0s      \n",
            "\n",
            "2024-12-07 19:04:55 (35.4 MB/s) - ‘quantum.py’ saved [2760/2760]\n",
            "\n",
            "--2024-12-07 19:04:55--  https://gitlab.com/qworld/qeducation/qbook101/raw/main/qworld/include/drawing.py\n",
            "Resolving gitlab.com (gitlab.com)... 172.65.251.78, 2606:4700:90:0:f22e:fbec:5bed:a9b9\n",
            "Connecting to gitlab.com (gitlab.com)|172.65.251.78|:443... connected.\n",
            "HTTP request sent, awaiting response... 200 OK\n",
            "Length: 6260 (6.1K) [text/plain]\n",
            "Saving to: ‘drawing.py’\n",
            "\n",
            "drawing.py          100%[===================>]   6.11K  --.-KB/s    in 0s      \n",
            "\n",
            "2024-12-07 19:04:55 (63.4 MB/s) - ‘drawing.py’ saved [6260/6260]\n",
            "\n",
            "--2024-12-07 19:04:55--  https://gitlab.com/qworld/qeducation/qbook101/raw/main/qworld/include/quantum_state.py\n",
            "Resolving gitlab.com (gitlab.com)... 172.65.251.78, 2606:4700:90:0:f22e:fbec:5bed:a9b9\n",
            "Connecting to gitlab.com (gitlab.com)|172.65.251.78|:443... connected.\n",
            "HTTP request sent, awaiting response... 200 OK\n",
            "Length: 1391 (1.4K) [text/plain]\n",
            "Saving to: ‘quantum_state.py’\n",
            "\n",
            "quantum_state.py    100%[===================>]   1.36K  --.-KB/s    in 0s      \n",
            "\n",
            "2024-12-07 19:04:56 (22.2 MB/s) - ‘quantum_state.py’ saved [1391/1391]\n",
            "\n",
            "--2024-12-07 19:04:56--  https://gitlab.com/qworld/qeducation/qbook101/raw/main/qworld/include/grover.py\n",
            "Resolving gitlab.com (gitlab.com)... 172.65.251.78, 2606:4700:90:0:f22e:fbec:5bed:a9b9\n",
            "Connecting to gitlab.com (gitlab.com)|172.65.251.78|:443... connected.\n",
            "HTTP request sent, awaiting response... 200 OK\n",
            "Length: 6778 (6.6K) [text/plain]\n",
            "Saving to: ‘grover.py’\n",
            "\n",
            "grover.py           100%[===================>]   6.62K  --.-KB/s    in 0s      \n",
            "\n",
            "2024-12-07 19:04:56 (40.1 MB/s) - ‘grover.py’ saved [6778/6778]\n",
            "\n"
          ]
        }
      ],
      "source": [
        "import IPython\n",
        "\n",
        "def in_colab():\n",
        "    try:\n",
        "        import google.colab\n",
        "        return True\n",
        "    except:\n",
        "        return False\n",
        "\n",
        "path_files = \"./\" if in_colab() else \"../qworld/include/\"\n",
        "\n",
        "SolutionToTask1 = lambda: IPython.display.display(IPython.display.Javascript('window.open(\"{url}\");'.format(url='https://colab.research.google.com/drive/1s5qKEvAT4Jx3lgK-nqERig-ba8TOEfqN#scrollTo=xkM_yjnNTakO' if in_colab() else 'QB42_Q88_Grovers_Search_One_Qubit_Representation_Solutions.ipynb#task1')))\n",
        "SolutionToTask2 = lambda: IPython.display.display(IPython.display.Javascript('window.open(\"{url}\");'.format(url='https://colab.research.google.com/drive/1s5qKEvAT4Jx3lgK-nqERig-ba8TOEfqN#scrollTo=3kZ-rE2BTakP' if in_colab() else 'QB42_Q88_Grovers_Search_One_Qubit_Representation_Solutions.ipynb#task2')))\n",
        "SolutionToTask3 = lambda: IPython.display.display(IPython.display.Javascript('window.open(\"{url}\");'.format(url='https://colab.research.google.com/drive/1s5qKEvAT4Jx3lgK-nqERig-ba8TOEfqN#scrollTo=ljHT0lgrTakP' if in_colab() else 'QB42_Q88_Grovers_Search_One_Qubit_Representation_Solutions.ipynb#task3')))\n",
        "SolutionToTask4 = lambda: IPython.display.display(IPython.display.Javascript('window.open(\"{url}\");'.format(url='https://colab.research.google.com/drive/1s5qKEvAT4Jx3lgK-nqERig-ba8TOEfqN#scrollTo=OHKCyIESTakP' if in_colab() else 'QB42_Q88_Grovers_Search_One_Qubit_Representation_Solutions.ipynb#task4')))\n",
        "\n",
        "if in_colab():\n",
        "    url = \"https://gitlab.com/qworld/qeducation/qbook101/raw/main/qworld/include/quantum.py\"\n",
        "    !wget --no-cache -O quantum.py {url}\n",
        "\n",
        "    url = \"https://gitlab.com/qworld/qeducation/qbook101/raw/main/qworld/include/drawing.py\"\n",
        "    !wget --no-cache -O drawing.py {url}\n",
        "\n",
        "    url = \"https://gitlab.com/qworld/qeducation/qbook101/raw/main/qworld/include/quantum_state.py\"\n",
        "    !wget --no-cache -O quantum_state.py {url}\n",
        "\n",
        "    url = \"https://gitlab.com/qworld/qeducation/qbook101/raw/main/qworld/include/grover.py\"\n",
        "    !wget --no-cache -O grover.py {url}"
      ]
    },
    {
      "cell_type": "markdown",
      "metadata": {
        "id": "_1O8TbW8Uzcs"
      },
      "source": [
        "#<h3> Task 1 </h3>\n",
        "\n",
        "Execute Grover's search algorithm for 5 steps where $ N = 16 $ and the first element is marked.\n",
        "\n",
        "Draw all quantum states on the unit circle during the execution.\n",
        "\n",
        "Print the angle of each state in degree (use $\\sin^{-1}$), and check whether there is any pattern for the oracle and inversion operators?\n",
        "\n",
        "Is there any pattern for each step of Grover's algorithm?"
      ]
    },
    {
      "cell_type": "code",
      "execution_count": null,
      "metadata": {
        "id": "fgNdtuWRUzcs"
      },
      "outputs": [],
      "source": [
        "def query(elements=[1],marked_elements=[0]):\n",
        "    for i in marked_elements:\n",
        "        elements[i] = -1 * elements[i]\n",
        "    return elements\n",
        "\n",
        "def inversion (elements=[1]):\n",
        "    # summation of all values\n",
        "    summation = 0\n",
        "    for i in range(len(elements)):\n",
        "        summation += elements[i]\n",
        "\n",
        "    # mean of all values\n",
        "    mean = summation / len(elements)\n",
        "\n",
        "    # reflection over mean\n",
        "    for i in range(len(elements)):\n",
        "        value = elements[i]\n",
        "        new_value = mean - (elements[i]-mean)\n",
        "        elements[i] = new_value\n",
        "    return elements"
      ]
    },
    {
      "cell_type": "code",
      "execution_count": null,
      "metadata": {
        "id": "IkQm9MnBUzcs"
      },
      "outputs": [],
      "source": [
        "from math import asin, pi\n",
        "\n",
        "# initial values\n",
        "iteration = 5\n",
        "N = 16\n",
        "marked_elements = [0]\n",
        "k = len(marked_elements)\n",
        "elements = []\n",
        "states_on_unit_circle= []\n",
        "\n",
        "# initial quantum state\n",
        "for i in range(N):\n",
        "    elements.append(1/N**0.5)\n",
        "\n",
        "#\n",
        "# your code is here\n",
        "#\n",
        "\n",
        "# quantum_file = path_files+\"quantum.py\"\n",
        "# %run $quantum_file\n",
        "# draw_qubit_grover()\n",
        "# draw_quantum_state(x,y,name)"
      ]
    },
    {
      "cell_type": "markdown",
      "metadata": {
        "id": "NoR_VLgiUzcs"
      },
      "source": [
        "To check out our solution, run the next cell:"
      ]
    },
    {
      "cell_type": "code",
      "execution_count": null,
      "metadata": {
        "id": "cBlKtmD7Uzcs",
        "colab": {
          "base_uri": "https://localhost:8080/",
          "height": 17
        },
        "outputId": "56de2439-3dce-4993-e66a-c570e823e959"
      },
      "outputs": [
        {
          "output_type": "display_data",
          "data": {
            "text/plain": [
              "<IPython.core.display.Javascript object>"
            ],
            "application/javascript": [
              "window.open(\"https://colab.research.google.com/drive/1s5qKEvAT4Jx3lgK-nqERig-ba8TOEfqN#scrollTo=xkM_yjnNTakO\");"
            ]
          },
          "metadata": {}
        }
      ],
      "source": [
        "SolutionToTask1()  # show solution for task 1"
      ]
    },
    {
      "cell_type": "markdown",
      "metadata": {
        "id": "9BYxbYOhUzcs"
      },
      "source": [
        "<h3> Task 2 </h3>\n",
        "\n",
        "In Task 1, after which step the probability of observing a marked element is the highest?"
      ]
    },
    {
      "cell_type": "markdown",
      "metadata": {
        "id": "pHPUUsSKUzcs"
      },
      "source": [
        "To check out our solution, run the next cell:"
      ]
    },
    {
      "cell_type": "code",
      "execution_count": null,
      "metadata": {
        "id": "eZfDdHVfUzcs"
      },
      "outputs": [],
      "source": [
        "SolutionToTask2()  # show solution for task 2"
      ]
    },
    {
      "cell_type": "markdown",
      "metadata": {
        "id": "Ig0mfVLBUzcs"
      },
      "source": [
        "<h3> Task 3 </h3>\n",
        "\n",
        "We have a list of size $ N = 128 $. We iterate Grover's search algorithm 10 steps.\n",
        "\n",
        "Visually determine (i.e., Tasks 1 & 2) the good number of iterations if the number of marked elements is 1, 2, 4, or 8. (The quantum state on the unit circle should be close to the $y$-axis.)"
      ]
    },
    {
      "cell_type": "code",
      "execution_count": null,
      "metadata": {
        "id": "xzK2AkSFUzcs"
      },
      "outputs": [],
      "source": [
        "def query(elements=[1],marked_elements=[0]):\n",
        "    for i in marked_elements:\n",
        "        elements[i] = -1 * elements[i]\n",
        "    return elements\n",
        "\n",
        "def inversion (elements=[1]):\n",
        "    # summation of all values\n",
        "    summation = 0\n",
        "    for i in range(len(elements)):\n",
        "        summation += elements[i]\n",
        "\n",
        "    # mean of all values\n",
        "    mean = summation / len(elements)\n",
        "\n",
        "    # reflection over mean\n",
        "    for i in range(len(elements)):\n",
        "        value = elements[i]\n",
        "        new_value = mean - (elements[i]-mean)\n",
        "        elements[i] = new_value\n",
        "    return elements"
      ]
    },
    {
      "cell_type": "code",
      "execution_count": null,
      "metadata": {
        "id": "rFZKM0awUzcs"
      },
      "outputs": [],
      "source": [
        "from math import asin, pi\n",
        "\n",
        "# initial values\n",
        "iteration = 10\n",
        "N = 128\n",
        "marked_elements = [0]\n",
        "#marked_elements = [0,1]\n",
        "#marked_elements = [0,1,2,3]\n",
        "#marked_elements = [0,1,2,3,4,5,6,7]\n",
        "k = len(marked_elements)\n",
        "elements = []\n",
        "states_on_unit_circle= []\n",
        "\n",
        "# initial quantum state\n",
        "for i in range(N):\n",
        "    elements.append(1/N**0.5)\n",
        "\n",
        "#\n",
        "# your code is here\n",
        "#\n",
        "\n",
        "# quantum_file = path_files+\"quantum.py\"\n",
        "# %run $quantum_file\n",
        "# draw_qubit_grover()\n",
        "# draw_quantum_state(x,y,name)"
      ]
    },
    {
      "cell_type": "markdown",
      "metadata": {
        "id": "9zJHB74PUzcs"
      },
      "source": [
        "To check out our solution, run the next cell:"
      ]
    },
    {
      "cell_type": "code",
      "execution_count": null,
      "metadata": {
        "id": "pxBbi4wjUzct"
      },
      "outputs": [],
      "source": [
        "SolutionToTask3()  # show solution for task 3"
      ]
    },
    {
      "cell_type": "markdown",
      "metadata": {
        "id": "cIWHZ92sUzct"
      },
      "source": [
        "<h3> Task 4 </h3>\n",
        "\n",
        "We have a list of size $ N = 256 $. We iterate Grover's search algorithm 20 (or 10) steps.\n",
        "\n",
        "Visually determine (i.e., Tasks 1 & 2) the good number of iterations if the number of marked elements is 1, 2, 4, or 8. (The quantum state on the unit circle should be close to the $y$-axis.)"
      ]
    },
    {
      "cell_type": "code",
      "execution_count": null,
      "metadata": {
        "id": "9lH-bwHoUzct"
      },
      "outputs": [],
      "source": [
        "def query(elements=[1],marked_elements=[0]):\n",
        "    for i in marked_elements:\n",
        "        elements[i] = -1 * elements[i]\n",
        "    return elements\n",
        "\n",
        "def inversion (elements=[1]):\n",
        "    # summation of all values\n",
        "    summation = 0\n",
        "    for i in range(len(elements)):\n",
        "        summation += elements[i]\n",
        "\n",
        "    # mean of all values\n",
        "    mean = summation / len(elements)\n",
        "\n",
        "    # reflection over mean\n",
        "    for i in range(len(elements)):\n",
        "        value = elements[i]\n",
        "        new_value = mean - (elements[i]-mean)\n",
        "        elements[i] = new_value\n",
        "    return elements"
      ]
    },
    {
      "cell_type": "code",
      "execution_count": null,
      "metadata": {
        "id": "4mV88SsnUzct"
      },
      "outputs": [],
      "source": [
        "from math import asin, pi\n",
        "\n",
        "# initial values\n",
        "iteration = 20\n",
        "N = 256\n",
        "marked_elements = [0]\n",
        "#marked_elements = [0,1]\n",
        "#marked_elements = [0,1,2,3]\n",
        "#marked_elements = [0,1,2,3,4,5,6,7]\n",
        "k = len(marked_elements)\n",
        "elements = []\n",
        "states_on_unit_circle= []\n",
        "\n",
        "# initial quantum state\n",
        "for i in range(N):\n",
        "    elements.append(1/N**0.5)\n",
        "\n",
        "#\n",
        "# your code is here\n",
        "#\n",
        "\n",
        "# quantum_file = path_files+\"quantum.py\"\n",
        "# %run $quantum_file\n",
        "# draw_qubit_grover()\n",
        "# draw_quantum_state(x,y,name)"
      ]
    },
    {
      "cell_type": "markdown",
      "metadata": {
        "id": "zi7Y3157Uzct"
      },
      "source": [
        "To check out our solution, run the next cell:"
      ]
    },
    {
      "cell_type": "code",
      "execution_count": null,
      "metadata": {
        "id": "Bru6RqIHUzct",
        "colab": {
          "base_uri": "https://localhost:8080/",
          "height": 17
        },
        "outputId": "56238248-26b7-4a6a-e8bd-a7ce9e3af22a"
      },
      "outputs": [
        {
          "output_type": "display_data",
          "data": {
            "text/plain": [
              "<IPython.core.display.Javascript object>"
            ],
            "application/javascript": [
              "window.open(\"https://colab.research.google.com/drive/1s5qKEvAT4Jx3lgK-nqERig-ba8TOEfqN#scrollTo=OHKCyIESTakP\");"
            ]
          },
          "metadata": {}
        }
      ],
      "source": [
        "SolutionToTask4()  # show solution for task 4"
      ]
    }
  ],
  "metadata": {
    "kernelspec": {
      "display_name": "Python 3 (ipykernel)",
      "language": "python",
      "name": "python3"
    },
    "language_info": {
      "codemirror_mode": {
        "name": "ipython",
        "version": 3
      },
      "file_extension": ".py",
      "mimetype": "text/x-python",
      "name": "python",
      "nbconvert_exporter": "python",
      "pygments_lexer": "ipython3",
      "version": "3.11.4"
    },
    "colab": {
      "provenance": [],
      "include_colab_link": true
    }
  },
  "nbformat": 4,
  "nbformat_minor": 0
}