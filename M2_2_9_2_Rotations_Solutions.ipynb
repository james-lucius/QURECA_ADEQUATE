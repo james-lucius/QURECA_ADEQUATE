{
  "cells": [
    {
      "cell_type": "markdown",
      "metadata": {
        "id": "view-in-github",
        "colab_type": "text"
      },
      "source": [
        "<a href=\"https://colab.research.google.com/github/james-lucius/qureca_ADEQUATE/blob/main/M2_2_9_2_Rotations_Solutions.ipynb\" target=\"_parent\"><img src=\"https://colab.research.google.com/assets/colab-badge.svg\" alt=\"Open In Colab\"/></a>"
      ]
    },
    {
      "cell_type": "code",
      "source": [
        "import IPython\n",
        "\n",
        "def in_colab():\n",
        "    try:\n",
        "        import google.colab\n",
        "        return True\n",
        "    except:\n",
        "        return False\n",
        "\n",
        "path_files = \"./\" if in_colab() else \"../qworld/include/\"\n",
        "\n",
        "if in_colab():\n",
        "    url = \"https://gitlab.com/qworld/qeducation/qbook101/raw/main/qworld/include/quantum.py\"\n",
        "    !wget --no-cache -O quantum.py {url}\n",
        "\n",
        "    url = \"https://gitlab.com/qworld/qeducation/qbook101/raw/main/qworld/include/drawing.py\"\n",
        "    !wget --no-cache -O drawing.py {url}\n",
        "\n",
        "    url = \"https://gitlab.com/qworld/qeducation/qbook101/raw/main/qworld/include/quantum_state.py\"\n",
        "    !wget --no-cache -O quantum_state.py {url}\n",
        "\n",
        "    url = \"https://gitlab.com/qworld/qeducation/qbook101/raw/main/qworld/include/grover.py\"\n",
        "    !wget --no-cache -O grover.py {url}\n",
        "\n",
        "    !pip install qiskit[visualization]==0.43.3\n",
        "    !pip install qiskit-aer"
      ],
      "metadata": {
        "collapsed": true,
        "id": "H10jm5gBMlgG",
        "outputId": "5a2f90c9-d98a-47b8-b3d3-a43d0827ee93",
        "colab": {
          "base_uri": "https://localhost:8080/"
        }
      },
      "execution_count": 2,
      "outputs": [
        {
          "output_type": "stream",
          "name": "stdout",
          "text": [
            "--2025-06-09 00:59:50--  https://gitlab.com/qworld/qeducation/qbook101/raw/main/qworld/include/quantum.py\n",
            "Resolving gitlab.com (gitlab.com)... 172.65.251.78, 2606:4700:90:0:f22e:fbec:5bed:a9b9\n",
            "Connecting to gitlab.com (gitlab.com)|172.65.251.78|:443... connected.\n",
            "HTTP request sent, awaiting response... 200 OK\n",
            "Length: 2760 (2.7K) [text/plain]\n",
            "Saving to: ‘quantum.py’\n",
            "\n",
            "quantum.py          100%[===================>]   2.70K  --.-KB/s    in 0s      \n",
            "\n",
            "2025-06-09 00:59:50 (20.1 MB/s) - ‘quantum.py’ saved [2760/2760]\n",
            "\n",
            "--2025-06-09 00:59:50--  https://gitlab.com/qworld/qeducation/qbook101/raw/main/qworld/include/drawing.py\n",
            "Resolving gitlab.com (gitlab.com)... 172.65.251.78, 2606:4700:90:0:f22e:fbec:5bed:a9b9\n",
            "Connecting to gitlab.com (gitlab.com)|172.65.251.78|:443... connected.\n",
            "HTTP request sent, awaiting response... 200 OK\n",
            "Length: 6260 (6.1K) [text/plain]\n",
            "Saving to: ‘drawing.py’\n",
            "\n",
            "drawing.py          100%[===================>]   6.11K  --.-KB/s    in 0s      \n",
            "\n",
            "2025-06-09 00:59:51 (58.9 MB/s) - ‘drawing.py’ saved [6260/6260]\n",
            "\n",
            "--2025-06-09 00:59:51--  https://gitlab.com/qworld/qeducation/qbook101/raw/main/qworld/include/quantum_state.py\n",
            "Resolving gitlab.com (gitlab.com)... 172.65.251.78, 2606:4700:90:0:f22e:fbec:5bed:a9b9\n",
            "Connecting to gitlab.com (gitlab.com)|172.65.251.78|:443... connected.\n",
            "HTTP request sent, awaiting response... 200 OK\n",
            "Length: 1391 (1.4K) [text/plain]\n",
            "Saving to: ‘quantum_state.py’\n",
            "\n",
            "quantum_state.py    100%[===================>]   1.36K  --.-KB/s    in 0s      \n",
            "\n",
            "2025-06-09 00:59:51 (20.8 MB/s) - ‘quantum_state.py’ saved [1391/1391]\n",
            "\n",
            "--2025-06-09 00:59:51--  https://gitlab.com/qworld/qeducation/qbook101/raw/main/qworld/include/grover.py\n",
            "Resolving gitlab.com (gitlab.com)... 172.65.251.78, 2606:4700:90:0:f22e:fbec:5bed:a9b9\n",
            "Connecting to gitlab.com (gitlab.com)|172.65.251.78|:443... connected.\n",
            "HTTP request sent, awaiting response... 200 OK\n",
            "Length: 6778 (6.6K) [text/plain]\n",
            "Saving to: ‘grover.py’\n",
            "\n",
            "grover.py           100%[===================>]   6.62K  --.-KB/s    in 0s      \n",
            "\n",
            "2025-06-09 00:59:51 (63.5 MB/s) - ‘grover.py’ saved [6778/6778]\n",
            "\n",
            "Requirement already satisfied: qiskit==0.43.3 in /usr/local/lib/python3.11/dist-packages (from qiskit[visualization]==0.43.3) (0.43.3)\n",
            "Requirement already satisfied: qiskit-terra==0.24.2 in /usr/local/lib/python3.11/dist-packages (from qiskit==0.43.3->qiskit[visualization]==0.43.3) (0.24.2)\n",
            "Requirement already satisfied: qiskit-aer==0.12.2 in /usr/local/lib/python3.11/dist-packages (from qiskit==0.43.3->qiskit[visualization]==0.43.3) (0.12.2)\n",
            "Requirement already satisfied: qiskit-ibmq-provider==0.20.2 in /usr/local/lib/python3.11/dist-packages (from qiskit==0.43.3->qiskit[visualization]==0.43.3) (0.20.2)\n",
            "Requirement already satisfied: matplotlib>=2.1 in /usr/local/lib/python3.11/dist-packages (from qiskit[visualization]==0.43.3) (3.10.0)\n",
            "Requirement already satisfied: ipywidgets>=7.3.0 in /usr/local/lib/python3.11/dist-packages (from qiskit[visualization]==0.43.3) (7.7.1)\n",
            "Requirement already satisfied: pydot in /usr/local/lib/python3.11/dist-packages (from qiskit[visualization]==0.43.3) (3.0.4)\n",
            "Requirement already satisfied: pillow>=4.2.1 in /usr/local/lib/python3.11/dist-packages (from qiskit[visualization]==0.43.3) (11.2.1)\n",
            "Requirement already satisfied: pylatexenc>=1.4 in /usr/local/lib/python3.11/dist-packages (from qiskit[visualization]==0.43.3) (2.10)\n",
            "Requirement already satisfied: seaborn>=0.9.0 in /usr/local/lib/python3.11/dist-packages (from qiskit[visualization]==0.43.3) (0.13.2)\n",
            "Requirement already satisfied: pygments>=2.4 in /usr/local/lib/python3.11/dist-packages (from qiskit[visualization]==0.43.3) (2.19.1)\n",
            "Requirement already satisfied: numpy>=1.16.3 in /usr/local/lib/python3.11/dist-packages (from qiskit-aer==0.12.2->qiskit==0.43.3->qiskit[visualization]==0.43.3) (1.23.5)\n",
            "Requirement already satisfied: scipy>=1.0 in /usr/local/lib/python3.11/dist-packages (from qiskit-aer==0.12.2->qiskit==0.43.3->qiskit[visualization]==0.43.3) (1.15.3)\n",
            "Requirement already satisfied: requests>=2.19 in /usr/local/lib/python3.11/dist-packages (from qiskit-ibmq-provider==0.20.2->qiskit==0.43.3->qiskit[visualization]==0.43.3) (2.32.3)\n",
            "Requirement already satisfied: requests-ntlm<=1.1.0 in /usr/local/lib/python3.11/dist-packages (from qiskit-ibmq-provider==0.20.2->qiskit==0.43.3->qiskit[visualization]==0.43.3) (1.1.0)\n",
            "Requirement already satisfied: urllib3>=1.21.1 in /usr/local/lib/python3.11/dist-packages (from qiskit-ibmq-provider==0.20.2->qiskit==0.43.3->qiskit[visualization]==0.43.3) (2.4.0)\n",
            "Requirement already satisfied: python-dateutil>=2.8.0 in /usr/local/lib/python3.11/dist-packages (from qiskit-ibmq-provider==0.20.2->qiskit==0.43.3->qiskit[visualization]==0.43.3) (2.9.0.post0)\n",
            "Requirement already satisfied: websocket-client>=1.5.1 in /usr/local/lib/python3.11/dist-packages (from qiskit-ibmq-provider==0.20.2->qiskit==0.43.3->qiskit[visualization]==0.43.3) (1.8.0)\n",
            "Requirement already satisfied: websockets>=10.0 in /usr/local/lib/python3.11/dist-packages (from qiskit-ibmq-provider==0.20.2->qiskit==0.43.3->qiskit[visualization]==0.43.3) (15.0.1)\n",
            "Requirement already satisfied: rustworkx>=0.12.0 in /usr/local/lib/python3.11/dist-packages (from qiskit-terra==0.24.2->qiskit==0.43.3->qiskit[visualization]==0.43.3) (0.16.0)\n",
            "Requirement already satisfied: ply>=3.10 in /usr/local/lib/python3.11/dist-packages (from qiskit-terra==0.24.2->qiskit==0.43.3->qiskit[visualization]==0.43.3) (3.11)\n",
            "Requirement already satisfied: psutil>=5 in /usr/local/lib/python3.11/dist-packages (from qiskit-terra==0.24.2->qiskit==0.43.3->qiskit[visualization]==0.43.3) (5.9.5)\n",
            "Requirement already satisfied: sympy>=1.3 in /usr/local/lib/python3.11/dist-packages (from qiskit-terra==0.24.2->qiskit==0.43.3->qiskit[visualization]==0.43.3) (1.13.1)\n",
            "Requirement already satisfied: dill>=0.3 in /usr/local/lib/python3.11/dist-packages (from qiskit-terra==0.24.2->qiskit==0.43.3->qiskit[visualization]==0.43.3) (0.3.7)\n",
            "Requirement already satisfied: stevedore>=3.0.0 in /usr/local/lib/python3.11/dist-packages (from qiskit-terra==0.24.2->qiskit==0.43.3->qiskit[visualization]==0.43.3) (5.4.1)\n",
            "Requirement already satisfied: symengine<0.10,>=0.9 in /usr/local/lib/python3.11/dist-packages (from qiskit-terra==0.24.2->qiskit==0.43.3->qiskit[visualization]==0.43.3) (0.9.2)\n",
            "Requirement already satisfied: ipykernel>=4.5.1 in /usr/local/lib/python3.11/dist-packages (from ipywidgets>=7.3.0->qiskit[visualization]==0.43.3) (6.17.1)\n",
            "Requirement already satisfied: ipython-genutils~=0.2.0 in /usr/local/lib/python3.11/dist-packages (from ipywidgets>=7.3.0->qiskit[visualization]==0.43.3) (0.2.0)\n",
            "Requirement already satisfied: traitlets>=4.3.1 in /usr/local/lib/python3.11/dist-packages (from ipywidgets>=7.3.0->qiskit[visualization]==0.43.3) (5.7.1)\n",
            "Requirement already satisfied: widgetsnbextension~=3.6.0 in /usr/local/lib/python3.11/dist-packages (from ipywidgets>=7.3.0->qiskit[visualization]==0.43.3) (3.6.10)\n",
            "Requirement already satisfied: ipython>=4.0.0 in /usr/local/lib/python3.11/dist-packages (from ipywidgets>=7.3.0->qiskit[visualization]==0.43.3) (7.34.0)\n",
            "Requirement already satisfied: jupyterlab-widgets>=1.0.0 in /usr/local/lib/python3.11/dist-packages (from ipywidgets>=7.3.0->qiskit[visualization]==0.43.3) (3.0.15)\n",
            "Requirement already satisfied: contourpy>=1.0.1 in /usr/local/lib/python3.11/dist-packages (from matplotlib>=2.1->qiskit[visualization]==0.43.3) (1.3.2)\n",
            "Requirement already satisfied: cycler>=0.10 in /usr/local/lib/python3.11/dist-packages (from matplotlib>=2.1->qiskit[visualization]==0.43.3) (0.12.1)\n",
            "Requirement already satisfied: fonttools>=4.22.0 in /usr/local/lib/python3.11/dist-packages (from matplotlib>=2.1->qiskit[visualization]==0.43.3) (4.58.1)\n",
            "Requirement already satisfied: kiwisolver>=1.3.1 in /usr/local/lib/python3.11/dist-packages (from matplotlib>=2.1->qiskit[visualization]==0.43.3) (1.4.8)\n",
            "Requirement already satisfied: packaging>=20.0 in /usr/local/lib/python3.11/dist-packages (from matplotlib>=2.1->qiskit[visualization]==0.43.3) (24.2)\n",
            "Requirement already satisfied: pyparsing>=2.3.1 in /usr/local/lib/python3.11/dist-packages (from matplotlib>=2.1->qiskit[visualization]==0.43.3) (3.2.3)\n",
            "Requirement already satisfied: pandas>=1.2 in /usr/local/lib/python3.11/dist-packages (from seaborn>=0.9.0->qiskit[visualization]==0.43.3) (2.2.2)\n",
            "Requirement already satisfied: debugpy>=1.0 in /usr/local/lib/python3.11/dist-packages (from ipykernel>=4.5.1->ipywidgets>=7.3.0->qiskit[visualization]==0.43.3) (1.8.0)\n",
            "Requirement already satisfied: jupyter-client>=6.1.12 in /usr/local/lib/python3.11/dist-packages (from ipykernel>=4.5.1->ipywidgets>=7.3.0->qiskit[visualization]==0.43.3) (6.1.12)\n",
            "Requirement already satisfied: matplotlib-inline>=0.1 in /usr/local/lib/python3.11/dist-packages (from ipykernel>=4.5.1->ipywidgets>=7.3.0->qiskit[visualization]==0.43.3) (0.1.7)\n",
            "Requirement already satisfied: nest-asyncio in /usr/local/lib/python3.11/dist-packages (from ipykernel>=4.5.1->ipywidgets>=7.3.0->qiskit[visualization]==0.43.3) (1.6.0)\n",
            "Requirement already satisfied: pyzmq>=17 in /usr/local/lib/python3.11/dist-packages (from ipykernel>=4.5.1->ipywidgets>=7.3.0->qiskit[visualization]==0.43.3) (24.0.1)\n",
            "Requirement already satisfied: tornado>=6.1 in /usr/local/lib/python3.11/dist-packages (from ipykernel>=4.5.1->ipywidgets>=7.3.0->qiskit[visualization]==0.43.3) (6.4.2)\n",
            "Requirement already satisfied: setuptools>=18.5 in /usr/local/lib/python3.11/dist-packages (from ipython>=4.0.0->ipywidgets>=7.3.0->qiskit[visualization]==0.43.3) (75.2.0)\n",
            "Requirement already satisfied: jedi>=0.16 in /usr/local/lib/python3.11/dist-packages (from ipython>=4.0.0->ipywidgets>=7.3.0->qiskit[visualization]==0.43.3) (0.19.2)\n",
            "Requirement already satisfied: decorator in /usr/local/lib/python3.11/dist-packages (from ipython>=4.0.0->ipywidgets>=7.3.0->qiskit[visualization]==0.43.3) (4.4.2)\n",
            "Requirement already satisfied: pickleshare in /usr/local/lib/python3.11/dist-packages (from ipython>=4.0.0->ipywidgets>=7.3.0->qiskit[visualization]==0.43.3) (0.7.5)\n",
            "Requirement already satisfied: prompt-toolkit!=3.0.0,!=3.0.1,<3.1.0,>=2.0.0 in /usr/local/lib/python3.11/dist-packages (from ipython>=4.0.0->ipywidgets>=7.3.0->qiskit[visualization]==0.43.3) (3.0.51)\n",
            "Requirement already satisfied: backcall in /usr/local/lib/python3.11/dist-packages (from ipython>=4.0.0->ipywidgets>=7.3.0->qiskit[visualization]==0.43.3) (0.2.0)\n",
            "Requirement already satisfied: pexpect>4.3 in /usr/local/lib/python3.11/dist-packages (from ipython>=4.0.0->ipywidgets>=7.3.0->qiskit[visualization]==0.43.3) (4.9.0)\n",
            "Requirement already satisfied: pytz>=2020.1 in /usr/local/lib/python3.11/dist-packages (from pandas>=1.2->seaborn>=0.9.0->qiskit[visualization]==0.43.3) (2025.2)\n",
            "Requirement already satisfied: tzdata>=2022.7 in /usr/local/lib/python3.11/dist-packages (from pandas>=1.2->seaborn>=0.9.0->qiskit[visualization]==0.43.3) (2025.2)\n",
            "Requirement already satisfied: six>=1.5 in /usr/local/lib/python3.11/dist-packages (from python-dateutil>=2.8.0->qiskit-ibmq-provider==0.20.2->qiskit==0.43.3->qiskit[visualization]==0.43.3) (1.17.0)\n",
            "Requirement already satisfied: charset-normalizer<4,>=2 in /usr/local/lib/python3.11/dist-packages (from requests>=2.19->qiskit-ibmq-provider==0.20.2->qiskit==0.43.3->qiskit[visualization]==0.43.3) (3.4.2)\n",
            "Requirement already satisfied: idna<4,>=2.5 in /usr/local/lib/python3.11/dist-packages (from requests>=2.19->qiskit-ibmq-provider==0.20.2->qiskit==0.43.3->qiskit[visualization]==0.43.3) (3.10)\n",
            "Requirement already satisfied: certifi>=2017.4.17 in /usr/local/lib/python3.11/dist-packages (from requests>=2.19->qiskit-ibmq-provider==0.20.2->qiskit==0.43.3->qiskit[visualization]==0.43.3) (2025.4.26)\n",
            "Requirement already satisfied: ntlm-auth>=1.0.2 in /usr/local/lib/python3.11/dist-packages (from requests-ntlm<=1.1.0->qiskit-ibmq-provider==0.20.2->qiskit==0.43.3->qiskit[visualization]==0.43.3) (1.5.0)\n",
            "Requirement already satisfied: cryptography>=1.3 in /usr/local/lib/python3.11/dist-packages (from requests-ntlm<=1.1.0->qiskit-ibmq-provider==0.20.2->qiskit==0.43.3->qiskit[visualization]==0.43.3) (43.0.3)\n",
            "Requirement already satisfied: pbr>=2.0.0 in /usr/local/lib/python3.11/dist-packages (from stevedore>=3.0.0->qiskit-terra==0.24.2->qiskit==0.43.3->qiskit[visualization]==0.43.3) (6.1.1)\n",
            "Requirement already satisfied: mpmath<1.4,>=1.1.0 in /usr/local/lib/python3.11/dist-packages (from sympy>=1.3->qiskit-terra==0.24.2->qiskit==0.43.3->qiskit[visualization]==0.43.3) (1.3.0)\n",
            "Requirement already satisfied: notebook>=4.4.1 in /usr/local/lib/python3.11/dist-packages (from widgetsnbextension~=3.6.0->ipywidgets>=7.3.0->qiskit[visualization]==0.43.3) (6.5.7)\n",
            "Requirement already satisfied: cffi>=1.12 in /usr/local/lib/python3.11/dist-packages (from cryptography>=1.3->requests-ntlm<=1.1.0->qiskit-ibmq-provider==0.20.2->qiskit==0.43.3->qiskit[visualization]==0.43.3) (1.17.1)\n",
            "Requirement already satisfied: parso<0.9.0,>=0.8.4 in /usr/local/lib/python3.11/dist-packages (from jedi>=0.16->ipython>=4.0.0->ipywidgets>=7.3.0->qiskit[visualization]==0.43.3) (0.8.4)\n",
            "Requirement already satisfied: jupyter-core>=4.6.0 in /usr/local/lib/python3.11/dist-packages (from jupyter-client>=6.1.12->ipykernel>=4.5.1->ipywidgets>=7.3.0->qiskit[visualization]==0.43.3) (5.8.1)\n",
            "Requirement already satisfied: jinja2 in /usr/local/lib/python3.11/dist-packages (from notebook>=4.4.1->widgetsnbextension~=3.6.0->ipywidgets>=7.3.0->qiskit[visualization]==0.43.3) (3.1.6)\n",
            "Requirement already satisfied: argon2-cffi in /usr/local/lib/python3.11/dist-packages (from notebook>=4.4.1->widgetsnbextension~=3.6.0->ipywidgets>=7.3.0->qiskit[visualization]==0.43.3) (25.1.0)\n",
            "Requirement already satisfied: nbformat in /usr/local/lib/python3.11/dist-packages (from notebook>=4.4.1->widgetsnbextension~=3.6.0->ipywidgets>=7.3.0->qiskit[visualization]==0.43.3) (5.10.4)\n",
            "Requirement already satisfied: nbconvert>=5 in /usr/local/lib/python3.11/dist-packages (from notebook>=4.4.1->widgetsnbextension~=3.6.0->ipywidgets>=7.3.0->qiskit[visualization]==0.43.3) (7.16.6)\n",
            "Requirement already satisfied: Send2Trash>=1.8.0 in /usr/local/lib/python3.11/dist-packages (from notebook>=4.4.1->widgetsnbextension~=3.6.0->ipywidgets>=7.3.0->qiskit[visualization]==0.43.3) (1.8.3)\n",
            "Requirement already satisfied: terminado>=0.8.3 in /usr/local/lib/python3.11/dist-packages (from notebook>=4.4.1->widgetsnbextension~=3.6.0->ipywidgets>=7.3.0->qiskit[visualization]==0.43.3) (0.18.1)\n",
            "Requirement already satisfied: prometheus-client in /usr/local/lib/python3.11/dist-packages (from notebook>=4.4.1->widgetsnbextension~=3.6.0->ipywidgets>=7.3.0->qiskit[visualization]==0.43.3) (0.22.1)\n",
            "Requirement already satisfied: nbclassic>=0.4.7 in /usr/local/lib/python3.11/dist-packages (from notebook>=4.4.1->widgetsnbextension~=3.6.0->ipywidgets>=7.3.0->qiskit[visualization]==0.43.3) (1.3.1)\n",
            "Requirement already satisfied: ptyprocess>=0.5 in /usr/local/lib/python3.11/dist-packages (from pexpect>4.3->ipython>=4.0.0->ipywidgets>=7.3.0->qiskit[visualization]==0.43.3) (0.7.0)\n",
            "Requirement already satisfied: wcwidth in /usr/local/lib/python3.11/dist-packages (from prompt-toolkit!=3.0.0,!=3.0.1,<3.1.0,>=2.0.0->ipython>=4.0.0->ipywidgets>=7.3.0->qiskit[visualization]==0.43.3) (0.2.13)\n",
            "Requirement already satisfied: pycparser in /usr/local/lib/python3.11/dist-packages (from cffi>=1.12->cryptography>=1.3->requests-ntlm<=1.1.0->qiskit-ibmq-provider==0.20.2->qiskit==0.43.3->qiskit[visualization]==0.43.3) (2.22)\n",
            "Requirement already satisfied: platformdirs>=2.5 in /usr/local/lib/python3.11/dist-packages (from jupyter-core>=4.6.0->jupyter-client>=6.1.12->ipykernel>=4.5.1->ipywidgets>=7.3.0->qiskit[visualization]==0.43.3) (4.3.8)\n",
            "Requirement already satisfied: notebook-shim>=0.2.3 in /usr/local/lib/python3.11/dist-packages (from nbclassic>=0.4.7->notebook>=4.4.1->widgetsnbextension~=3.6.0->ipywidgets>=7.3.0->qiskit[visualization]==0.43.3) (0.2.4)\n",
            "Requirement already satisfied: beautifulsoup4 in /usr/local/lib/python3.11/dist-packages (from nbconvert>=5->notebook>=4.4.1->widgetsnbextension~=3.6.0->ipywidgets>=7.3.0->qiskit[visualization]==0.43.3) (4.13.4)\n",
            "Requirement already satisfied: bleach!=5.0.0 in /usr/local/lib/python3.11/dist-packages (from bleach[css]!=5.0.0->nbconvert>=5->notebook>=4.4.1->widgetsnbextension~=3.6.0->ipywidgets>=7.3.0->qiskit[visualization]==0.43.3) (6.2.0)\n",
            "Requirement already satisfied: defusedxml in /usr/local/lib/python3.11/dist-packages (from nbconvert>=5->notebook>=4.4.1->widgetsnbextension~=3.6.0->ipywidgets>=7.3.0->qiskit[visualization]==0.43.3) (0.7.1)\n",
            "Requirement already satisfied: jupyterlab-pygments in /usr/local/lib/python3.11/dist-packages (from nbconvert>=5->notebook>=4.4.1->widgetsnbextension~=3.6.0->ipywidgets>=7.3.0->qiskit[visualization]==0.43.3) (0.3.0)\n",
            "Requirement already satisfied: markupsafe>=2.0 in /usr/local/lib/python3.11/dist-packages (from nbconvert>=5->notebook>=4.4.1->widgetsnbextension~=3.6.0->ipywidgets>=7.3.0->qiskit[visualization]==0.43.3) (3.0.2)\n",
            "Requirement already satisfied: mistune<4,>=2.0.3 in /usr/local/lib/python3.11/dist-packages (from nbconvert>=5->notebook>=4.4.1->widgetsnbextension~=3.6.0->ipywidgets>=7.3.0->qiskit[visualization]==0.43.3) (3.1.3)\n",
            "Requirement already satisfied: nbclient>=0.5.0 in /usr/local/lib/python3.11/dist-packages (from nbconvert>=5->notebook>=4.4.1->widgetsnbextension~=3.6.0->ipywidgets>=7.3.0->qiskit[visualization]==0.43.3) (0.10.2)\n",
            "Requirement already satisfied: pandocfilters>=1.4.1 in /usr/local/lib/python3.11/dist-packages (from nbconvert>=5->notebook>=4.4.1->widgetsnbextension~=3.6.0->ipywidgets>=7.3.0->qiskit[visualization]==0.43.3) (1.5.1)\n",
            "Requirement already satisfied: fastjsonschema>=2.15 in /usr/local/lib/python3.11/dist-packages (from nbformat->notebook>=4.4.1->widgetsnbextension~=3.6.0->ipywidgets>=7.3.0->qiskit[visualization]==0.43.3) (2.21.1)\n",
            "Requirement already satisfied: jsonschema>=2.6 in /usr/local/lib/python3.11/dist-packages (from nbformat->notebook>=4.4.1->widgetsnbextension~=3.6.0->ipywidgets>=7.3.0->qiskit[visualization]==0.43.3) (4.24.0)\n",
            "Requirement already satisfied: argon2-cffi-bindings in /usr/local/lib/python3.11/dist-packages (from argon2-cffi->notebook>=4.4.1->widgetsnbextension~=3.6.0->ipywidgets>=7.3.0->qiskit[visualization]==0.43.3) (21.2.0)\n",
            "Requirement already satisfied: webencodings in /usr/local/lib/python3.11/dist-packages (from bleach!=5.0.0->bleach[css]!=5.0.0->nbconvert>=5->notebook>=4.4.1->widgetsnbextension~=3.6.0->ipywidgets>=7.3.0->qiskit[visualization]==0.43.3) (0.5.1)\n",
            "Requirement already satisfied: tinycss2<1.5,>=1.1.0 in /usr/local/lib/python3.11/dist-packages (from bleach[css]!=5.0.0->nbconvert>=5->notebook>=4.4.1->widgetsnbextension~=3.6.0->ipywidgets>=7.3.0->qiskit[visualization]==0.43.3) (1.4.0)\n",
            "Requirement already satisfied: attrs>=22.2.0 in /usr/local/lib/python3.11/dist-packages (from jsonschema>=2.6->nbformat->notebook>=4.4.1->widgetsnbextension~=3.6.0->ipywidgets>=7.3.0->qiskit[visualization]==0.43.3) (25.3.0)\n",
            "Requirement already satisfied: jsonschema-specifications>=2023.03.6 in /usr/local/lib/python3.11/dist-packages (from jsonschema>=2.6->nbformat->notebook>=4.4.1->widgetsnbextension~=3.6.0->ipywidgets>=7.3.0->qiskit[visualization]==0.43.3) (2025.4.1)\n",
            "Requirement already satisfied: referencing>=0.28.4 in /usr/local/lib/python3.11/dist-packages (from jsonschema>=2.6->nbformat->notebook>=4.4.1->widgetsnbextension~=3.6.0->ipywidgets>=7.3.0->qiskit[visualization]==0.43.3) (0.36.2)\n",
            "Requirement already satisfied: rpds-py>=0.7.1 in /usr/local/lib/python3.11/dist-packages (from jsonschema>=2.6->nbformat->notebook>=4.4.1->widgetsnbextension~=3.6.0->ipywidgets>=7.3.0->qiskit[visualization]==0.43.3) (0.25.1)\n",
            "Requirement already satisfied: jupyter-server<3,>=1.8 in /usr/local/lib/python3.11/dist-packages (from notebook-shim>=0.2.3->nbclassic>=0.4.7->notebook>=4.4.1->widgetsnbextension~=3.6.0->ipywidgets>=7.3.0->qiskit[visualization]==0.43.3) (1.16.0)\n",
            "Requirement already satisfied: soupsieve>1.2 in /usr/local/lib/python3.11/dist-packages (from beautifulsoup4->nbconvert>=5->notebook>=4.4.1->widgetsnbextension~=3.6.0->ipywidgets>=7.3.0->qiskit[visualization]==0.43.3) (2.7)\n",
            "Requirement already satisfied: typing-extensions>=4.0.0 in /usr/local/lib/python3.11/dist-packages (from beautifulsoup4->nbconvert>=5->notebook>=4.4.1->widgetsnbextension~=3.6.0->ipywidgets>=7.3.0->qiskit[visualization]==0.43.3) (4.14.0)\n",
            "Requirement already satisfied: anyio>=3.1.0 in /usr/local/lib/python3.11/dist-packages (from jupyter-server<3,>=1.8->notebook-shim>=0.2.3->nbclassic>=0.4.7->notebook>=4.4.1->widgetsnbextension~=3.6.0->ipywidgets>=7.3.0->qiskit[visualization]==0.43.3) (4.9.0)\n",
            "Requirement already satisfied: sniffio>=1.1 in /usr/local/lib/python3.11/dist-packages (from anyio>=3.1.0->jupyter-server<3,>=1.8->notebook-shim>=0.2.3->nbclassic>=0.4.7->notebook>=4.4.1->widgetsnbextension~=3.6.0->ipywidgets>=7.3.0->qiskit[visualization]==0.43.3) (1.3.1)\n",
            "Requirement already satisfied: qiskit-aer in /usr/local/lib/python3.11/dist-packages (0.12.2)\n",
            "Requirement already satisfied: qiskit-terra>=0.21.0 in /usr/local/lib/python3.11/dist-packages (from qiskit-aer) (0.24.2)\n",
            "Requirement already satisfied: numpy>=1.16.3 in /usr/local/lib/python3.11/dist-packages (from qiskit-aer) (1.23.5)\n",
            "Requirement already satisfied: scipy>=1.0 in /usr/local/lib/python3.11/dist-packages (from qiskit-aer) (1.15.3)\n",
            "Requirement already satisfied: rustworkx>=0.12.0 in /usr/local/lib/python3.11/dist-packages (from qiskit-terra>=0.21.0->qiskit-aer) (0.16.0)\n",
            "Requirement already satisfied: ply>=3.10 in /usr/local/lib/python3.11/dist-packages (from qiskit-terra>=0.21.0->qiskit-aer) (3.11)\n",
            "Requirement already satisfied: psutil>=5 in /usr/local/lib/python3.11/dist-packages (from qiskit-terra>=0.21.0->qiskit-aer) (5.9.5)\n",
            "Requirement already satisfied: sympy>=1.3 in /usr/local/lib/python3.11/dist-packages (from qiskit-terra>=0.21.0->qiskit-aer) (1.13.1)\n",
            "Requirement already satisfied: dill>=0.3 in /usr/local/lib/python3.11/dist-packages (from qiskit-terra>=0.21.0->qiskit-aer) (0.3.7)\n",
            "Requirement already satisfied: python-dateutil>=2.8.0 in /usr/local/lib/python3.11/dist-packages (from qiskit-terra>=0.21.0->qiskit-aer) (2.9.0.post0)\n",
            "Requirement already satisfied: stevedore>=3.0.0 in /usr/local/lib/python3.11/dist-packages (from qiskit-terra>=0.21.0->qiskit-aer) (5.4.1)\n",
            "Requirement already satisfied: symengine<0.10,>=0.9 in /usr/local/lib/python3.11/dist-packages (from qiskit-terra>=0.21.0->qiskit-aer) (0.9.2)\n",
            "Requirement already satisfied: six>=1.5 in /usr/local/lib/python3.11/dist-packages (from python-dateutil>=2.8.0->qiskit-terra>=0.21.0->qiskit-aer) (1.17.0)\n",
            "Requirement already satisfied: pbr>=2.0.0 in /usr/local/lib/python3.11/dist-packages (from stevedore>=3.0.0->qiskit-terra>=0.21.0->qiskit-aer) (6.1.1)\n",
            "Requirement already satisfied: mpmath<1.4,>=1.1.0 in /usr/local/lib/python3.11/dist-packages (from sympy>=1.3->qiskit-terra>=0.21.0->qiskit-aer) (1.3.0)\n",
            "Requirement already satisfied: setuptools in /usr/local/lib/python3.11/dist-packages (from pbr>=2.0.0->stevedore>=3.0.0->qiskit-terra>=0.21.0->qiskit-aer) (75.2.0)\n"
          ]
        }
      ]
    },
    {
      "cell_type": "markdown",
      "metadata": {
        "id": "kdGilpuMJ9hM"
      },
      "source": [
        "<a href=\"https://qworld.net\" target=\"_blank\" align=\"left\"><img src=\"https://github.com/james-lucius/qureca_ADEQUATE/blob/qworld/images/header.jpg?raw=1\"  align=\"left\"></a>\n",
        "$ \\newcommand{\\bra}[1]{\\langle #1|} $\n",
        "$ \\newcommand{\\ket}[1]{|#1\\rangle} $\n",
        "$ \\newcommand{\\braket}[2]{\\langle #1|#2\\rangle} $\n",
        "$ \\newcommand{\\dot}[2]{ #1 \\cdot #2} $\n",
        "$ \\newcommand{\\biginner}[2]{\\left\\langle #1,#2\\right\\rangle} $\n",
        "$ \\newcommand{\\mymatrix}[2]{\\left( \\begin{array}{#1} #2\\end{array} \\right)} $\n",
        "$ \\newcommand{\\myvector}[1]{\\mymatrix{c}{#1}} $\n",
        "$ \\newcommand{\\myrvector}[1]{\\mymatrix{r}{#1}} $\n",
        "$ \\newcommand{\\mypar}[1]{\\left( #1 \\right)} $\n",
        "$ \\newcommand{\\mybigpar}[1]{ \\Big( #1 \\Big)} $\n",
        "$ \\newcommand{\\sqrttwo}{\\frac{1}{\\sqrt{2}}} $\n",
        "$ \\newcommand{\\dsqrttwo}{\\dfrac{1}{\\sqrt{2}}} $\n",
        "$ \\newcommand{\\onehalf}{\\frac{1}{2}} $\n",
        "$ \\newcommand{\\donehalf}{\\dfrac{1}{2}} $\n",
        "$ \\newcommand{\\hadamard}{ \\mymatrix{rr}{ \\sqrttwo & \\sqrttwo \\\\ \\sqrttwo & -\\sqrttwo }} $\n",
        "$ \\newcommand{\\vzero}{\\myvector{1\\\\0}} $\n",
        "$ \\newcommand{\\vone}{\\myvector{0\\\\1}} $\n",
        "$ \\newcommand{\\stateplus}{\\myvector{ \\sqrttwo \\\\  \\sqrttwo } } $\n",
        "$ \\newcommand{\\stateminus}{ \\myrvector{ \\sqrttwo \\\\ -\\sqrttwo } } $\n",
        "$ \\newcommand{\\myarray}[2]{ \\begin{array}{#1}#2\\end{array}} $\n",
        "$ \\newcommand{\\X}{ \\mymatrix{cc}{0 & 1 \\\\ 1 & 0}  } $\n",
        "$ \\newcommand{\\I}{ \\mymatrix{rr}{1 & 0 \\\\ 0 & 1}  } $\n",
        "$ \\newcommand{\\Z}{ \\mymatrix{rr}{1 & 0 \\\\ 0 & -1}  } $\n",
        "$ \\newcommand{\\Htwo}{ \\mymatrix{rrrr}{ \\frac{1}{2} & \\frac{1}{2} & \\frac{1}{2} & \\frac{1}{2} \\\\ \\frac{1}{2} & -\\frac{1}{2} & \\frac{1}{2} & -\\frac{1}{2} \\\\ \\frac{1}{2} & \\frac{1}{2} & -\\frac{1}{2} & -\\frac{1}{2} \\\\ \\frac{1}{2} & -\\frac{1}{2} & -\\frac{1}{2} & \\frac{1}{2} } } $\n",
        "$ \\newcommand{\\CNOT}{ \\mymatrix{cccc}{1 & 0 & 0 & 0 \\\\ 0 & 1 & 0 & 0 \\\\ 0 & 0 & 0 & 1 \\\\ 0 & 0 & 1 & 0} } $\n",
        "$ \\newcommand{\\norm}[1]{ \\left\\lVert #1 \\right\\rVert } $\n",
        "$ \\newcommand{\\pstate}[1]{ \\lceil \\mspace{-1mu} #1 \\mspace{-1.5mu} \\rfloor } $\n",
        "$ \\newcommand{\\greenbit}[1] {\\mathbf{{\\color{green}#1}}} $\n",
        "$ \\newcommand{\\bluebit}[1] {\\mathbf{{\\color{blue}#1}}} $\n",
        "$ \\newcommand{\\redbit}[1] {\\mathbf{{\\color{red}#1}}} $\n",
        "$ \\newcommand{\\brownbit}[1] {\\mathbf{{\\color{brown}#1}}} $\n",
        "$ \\newcommand{\\blackbit}[1] {\\mathbf{{\\color{black}#1}}} $"
      ]
    },
    {
      "cell_type": "markdown",
      "metadata": {
        "id": "g2ux-qAlJ9hR"
      },
      "source": [
        "<font style=\"font-size:28px;\" align=\"left\"><b><font color=\"blue\"> Solutions for </font>Rotations  </b></font>\n",
        "<br>\n",
        "_prepared by Abuzer Yakaryilmaz_\n",
        "<br><br>"
      ]
    },
    {
      "cell_type": "markdown",
      "metadata": {
        "id": "sdzQFLZwJ9hS"
      },
      "source": [
        "<a id=\"task2\"></a>\n",
        "<h3> Task 2 </h3>\n",
        "\n",
        "Start with state $ \\ket{0} $.\n",
        "\n",
        "Apply $ R(\\pi/4) $ 7 times, and draw each state on the unit circle."
      ]
    },
    {
      "cell_type": "markdown",
      "metadata": {
        "id": "9WmR-CgXJ9hT"
      },
      "source": [
        "<h3>Solution</h3>"
      ]
    },
    {
      "cell_type": "code",
      "execution_count": 11,
      "metadata": {
        "id": "nJEQVyhRJ9hU",
        "outputId": "5fc5f66c-8da4-43a0-bf12-d1454e3090fe",
        "colab": {
          "base_uri": "https://localhost:8080/",
          "height": 358
        }
      },
      "outputs": [
        {
          "output_type": "display_data",
          "data": {
            "text/plain": [
              "<Figure size 640x480 with 0 Axes>"
            ]
          },
          "metadata": {}
        },
        {
          "output_type": "display_data",
          "data": {
            "text/plain": [
              "<Figure size 360x360 with 1 Axes>"
            ],
            "image/png": "[encoded data removed]"
          },
          "metadata": {}
        }
      ],
      "source": [
        "%run quantum.py\n",
        "\n",
        "draw_qubit()\n",
        "\n",
        "[x,y]=[1,0]\n",
        "\n",
        "draw_quantum_state(x,y,\"v0\")\n",
        "\n",
        "sqrttwo = 2**0.5\n",
        "oversqrttwo = 1/sqrttwo\n",
        "\n",
        "R = [ [oversqrttwo, -1*oversqrttwo], [oversqrttwo,oversqrttwo] ]\n",
        "\n",
        "# function for rotation R\n",
        "def rotate(px,py):\n",
        "    newx = R[0][0]*px + R[0][1]*py\n",
        "    newy = R[1][0]*px + R[1][1]*py\n",
        "    return [newx,newy]\n",
        "\n",
        "# apply rotation R 7 times\n",
        "for i in range(1,8):\n",
        "    [x,y] = rotate(x,y)\n",
        "    draw_quantum_state(x,y,\"|v\"+str(i)+\">\")\n",
        "\n",
        "show_plt()"
      ]
    },
    {
      "cell_type": "markdown",
      "metadata": {
        "id": "UZufNgKQJ9hW"
      },
      "source": [
        "<a id=\"task3\"></a>\n",
        "<h3> Task 3 </h3>\n",
        "\n",
        "We implement Task 2 by using \"ry-gate\" and \"statevector_simulator\".\n",
        "\n",
        "Define a quantum circuit with one qubit.\n",
        "\n",
        "Iterate seven times\n",
        "- Apply the rotation with angle $ \\pi \\over 4 $ by using ry-gate\n",
        "- Read the current quantum state\n",
        "- Print the current quantum state\n",
        "- Draw the quantum state on the unit circle by using the values of the current quantum state"
      ]
    },
    {
      "cell_type": "markdown",
      "metadata": {
        "id": "wJk7szbDJ9hX"
      },
      "source": [
        "<h3>Solution</h3>"
      ]
    },
    {
      "cell_type": "code",
      "execution_count": 4,
      "metadata": {
        "id": "L6pqoy9QJ9hY",
        "outputId": "e6ee48b2-3811-45a4-92fe-883bf7805a43",
        "colab": {
          "base_uri": "https://localhost:8080/",
          "height": 480
        }
      },
      "outputs": [
        {
          "output_type": "stream",
          "name": "stdout",
          "text": [
            "iteration 1 : the quantum state is ( 0.707 ) |0> +( 0.707 ) |1>\n",
            "iteration 2 : the quantum state is ( 0.0 ) |0> +( 1.0 ) |1>\n",
            "iteration 3 : the quantum state is ( -0.707 ) |0> +( 0.707 ) |1>\n",
            "iteration 4 : the quantum state is ( -1.0 ) |0> +( 0.0 ) |1>\n",
            "iteration 5 : the quantum state is ( -0.707 ) |0> +( -0.707 ) |1>\n",
            "iteration 6 : the quantum state is ( -0.0 ) |0> +( -1.0 ) |1>\n",
            "iteration 7 : the quantum state is ( 0.707 ) |0> +( -0.707 ) |1>\n"
          ]
        },
        {
          "output_type": "display_data",
          "data": {
            "text/plain": [
              "<Figure size 640x480 with 0 Axes>"
            ]
          },
          "metadata": {}
        },
        {
          "output_type": "display_data",
          "data": {
            "text/plain": [
              "<Figure size 360x360 with 1 Axes>"
            ],
            "image/png": "[encoded data removed]"
          },
          "metadata": {}
        }
      ],
      "source": [
        "%run quantum.py\n",
        "\n",
        "draw_qubit()\n",
        "\n",
        "[x,y]=[1,0]\n",
        "\n",
        "draw_quantum_state(x,y,\"v0\")\n",
        "\n",
        "from qiskit import QuantumRegister, ClassicalRegister, QuantumCircuit\n",
        "from qiskit_aer import StatevectorSimulator\n",
        "from math import pi\n",
        "\n",
        "# we define a quantum circuit with one qubit and one bit\n",
        "q =  QuantumRegister(1) # quantum register with a single qubit\n",
        "c = ClassicalRegister(1) # classical register with a single bit\n",
        "qc = QuantumCircuit(q,c) # quantum circuit with quantum and classical registers\n",
        "\n",
        "rotation_angle = pi/4\n",
        "\n",
        "for i in range(1,8):\n",
        "    # rotate the qubit with angle pi/4\n",
        "    qc.ry(2*rotation_angle,q[0])\n",
        "\n",
        "    # read the current quantum state\n",
        "    job = StatevectorSimulator().run(qc,optimization_level=0)\n",
        "    current_quantum_state=job.result().get_statevector(qc,3).data\n",
        "\n",
        "    # print the current quantum state\n",
        "    x_value = current_quantum_state[0].real # get the amplitude of |0>\n",
        "    y_value = current_quantum_state[1].real # get the amplitude of |1>\n",
        "    print(\"iteration\",i,\": the quantum state is (\",x_value,\") |0>\",\"+(\",y_value,\") |1>\")\n",
        "\n",
        "    # draw the current quantum state\n",
        "    draw_quantum_state(x_value,y_value,\"|v\"+str(i)+\">\")\n",
        "\n",
        "show_plt()"
      ]
    },
    {
      "cell_type": "markdown",
      "metadata": {
        "id": "RwiXnnXVJ9ha"
      },
      "source": [
        "<a id=\"task4\"></a>\n",
        "<h3> Task 4 </h3>\n",
        "\n",
        "Repeat Task 3 for the angle $ \\pi/6 $ by applying the rotation 12 times.\n",
        "\n",
        "Repeat Task 3 for the angle $ 3\\pi/8 $ by applying the rotation 16 times.\n",
        "\n",
        "Repeat Task 3 for the angle $ \\sqrt{2}\\pi $ by applying the rotation 20 times."
      ]
    },
    {
      "cell_type": "markdown",
      "metadata": {
        "id": "98yzJK_bJ9ha"
      },
      "source": [
        "<h3>Solution</h3>"
      ]
    },
    {
      "cell_type": "markdown",
      "metadata": {
        "id": "uj2fY0h4J9ha"
      },
      "source": [
        "Repeat Task 3 for the angle $ \\pi/6 $ by applying the rotation 12 times."
      ]
    },
    {
      "cell_type": "code",
      "execution_count": 5,
      "metadata": {
        "id": "DXfRt9EIJ9hb",
        "outputId": "93e100fb-deaf-49e8-94ad-58664bb3baaa",
        "colab": {
          "base_uri": "https://localhost:8080/",
          "height": 567
        }
      },
      "outputs": [
        {
          "output_type": "stream",
          "name": "stdout",
          "text": [
            "iteration 1 : the quantum state is ( 0.866 ) |0> +( 0.5 ) |1>\n",
            "iteration 2 : the quantum state is ( 0.5 ) |0> +( 0.866 ) |1>\n",
            "iteration 3 : the quantum state is ( 0.0 ) |0> +( 1.0 ) |1>\n",
            "iteration 4 : the quantum state is ( -0.5 ) |0> +( 0.866 ) |1>\n",
            "iteration 5 : the quantum state is ( -0.866 ) |0> +( 0.5 ) |1>\n",
            "iteration 6 : the quantum state is ( -1.0 ) |0> +( 0.0 ) |1>\n",
            "iteration 7 : the quantum state is ( -0.866 ) |0> +( -0.5 ) |1>\n",
            "iteration 8 : the quantum state is ( -0.5 ) |0> +( -0.866 ) |1>\n",
            "iteration 9 : the quantum state is ( -0.0 ) |0> +( -1.0 ) |1>\n",
            "iteration 10 : the quantum state is ( 0.5 ) |0> +( -0.866 ) |1>\n",
            "iteration 11 : the quantum state is ( 0.866 ) |0> +( -0.5 ) |1>\n",
            "iteration 12 : the quantum state is ( 1.0 ) |0> +( -0.0 ) |1>\n"
          ]
        },
        {
          "output_type": "display_data",
          "data": {
            "text/plain": [
              "<Figure size 640x480 with 0 Axes>"
            ]
          },
          "metadata": {}
        },
        {
          "output_type": "display_data",
          "data": {
            "text/plain": [
              "<Figure size 360x360 with 1 Axes>"
            ],
            "image/png": "[encoded data removed]"
          },
          "metadata": {}
        }
      ],
      "source": [
        "%run quantum.py\n",
        "\n",
        "draw_qubit()\n",
        "\n",
        "from qiskit import QuantumRegister, ClassicalRegister, QuantumCircuit\n",
        "from qiskit_aer import StatevectorSimulator\n",
        "from math import pi\n",
        "\n",
        "# we define a quantum circuit with one qubit and one bit\n",
        "q =  QuantumRegister(1) # quantum register with a single qubit\n",
        "c = ClassicalRegister(1) # classical register with a single bit\n",
        "qc = QuantumCircuit(q,c) # quantum circuit with quantum and classical registers\n",
        "\n",
        "rotation_angle = pi/6\n",
        "\n",
        "for i in range(1,13):\n",
        "    # rotate the qubit with the specified angle\n",
        "    qc.ry(2*rotation_angle,q[0])\n",
        "\n",
        "    # read the current quantum state\n",
        "    job = StatevectorSimulator().run(qc,optimization_level=0)\n",
        "    current_quantum_state=job.result().get_statevector(qc,3).data\n",
        "\n",
        "    # print the current quantum state\n",
        "    x_value = current_quantum_state[0].real # get the amplitude of |0>\n",
        "    y_value = current_quantum_state[1].real # get the amplitude of |1>\n",
        "    print(\"iteration\",i,\": the quantum state is (\",x_value,\") |0>\",\"+(\",y_value,\") |1>\")\n",
        "\n",
        "    # draw the current quantum state\n",
        "    draw_quantum_state(x_value,y_value,\"|v\"+str(i)+\">\")\n",
        "\n",
        "show_plt()"
      ]
    },
    {
      "cell_type": "markdown",
      "metadata": {
        "id": "WR41P53_J9hb"
      },
      "source": [
        "Repeat Task 3 for the angle $ 3\\pi/8 $ by applying the rotation 16 times."
      ]
    },
    {
      "cell_type": "code",
      "execution_count": 6,
      "metadata": {
        "id": "1j8LKzx2J9hc",
        "outputId": "08758b77-9b20-4cee-de50-3f4f5bc902b6",
        "colab": {
          "base_uri": "https://localhost:8080/",
          "height": 636
        }
      },
      "outputs": [
        {
          "output_type": "stream",
          "name": "stdout",
          "text": [
            "iteration 1 : the quantum state is ( 0.383 ) |0> +( 0.924 ) |1>\n",
            "iteration 2 : the quantum state is ( -0.707 ) |0> +( 0.707 ) |1>\n",
            "iteration 3 : the quantum state is ( -0.924 ) |0> +( -0.383 ) |1>\n",
            "iteration 4 : the quantum state is ( -0.0 ) |0> +( -1.0 ) |1>\n",
            "iteration 5 : the quantum state is ( 0.924 ) |0> +( -0.383 ) |1>\n",
            "iteration 6 : the quantum state is ( 0.707 ) |0> +( 0.707 ) |1>\n",
            "iteration 7 : the quantum state is ( -0.383 ) |0> +( 0.924 ) |1>\n",
            "iteration 8 : the quantum state is ( -1.0 ) |0> +( 0.0 ) |1>\n",
            "iteration 9 : the quantum state is ( -0.383 ) |0> +( -0.924 ) |1>\n",
            "iteration 10 : the quantum state is ( 0.707 ) |0> +( -0.707 ) |1>\n",
            "iteration 11 : the quantum state is ( 0.924 ) |0> +( 0.383 ) |1>\n",
            "iteration 12 : the quantum state is ( 0.0 ) |0> +( 1.0 ) |1>\n",
            "iteration 13 : the quantum state is ( -0.924 ) |0> +( 0.383 ) |1>\n",
            "iteration 14 : the quantum state is ( -0.707 ) |0> +( -0.707 ) |1>\n",
            "iteration 15 : the quantum state is ( 0.383 ) |0> +( -0.924 ) |1>\n",
            "iteration 16 : the quantum state is ( 1.0 ) |0> +( -0.0 ) |1>\n"
          ]
        },
        {
          "output_type": "display_data",
          "data": {
            "text/plain": [
              "<Figure size 640x480 with 0 Axes>"
            ]
          },
          "metadata": {}
        },
        {
          "output_type": "display_data",
          "data": {
            "text/plain": [
              "<Figure size 360x360 with 1 Axes>"
            ],
            "image/png": "[encoded data removed]"
          },
          "metadata": {}
        }
      ],
      "source": [
        "%run quantum.py\n",
        "\n",
        "draw_qubit()\n",
        "\n",
        "from qiskit import QuantumRegister, ClassicalRegister, QuantumCircuit\n",
        "from qiskit_aer import StatevectorSimulator\n",
        "from math import pi\n",
        "\n",
        "# we define a quantum circuit with one qubit and one bit\n",
        "q =  QuantumRegister(1) # quantum register with a single qubit\n",
        "c = ClassicalRegister(1) # classical register with a single bit\n",
        "qc = QuantumCircuit(q,c) # quantum circuit with quantum and classical registers\n",
        "\n",
        "rotation_angle = 3*pi/8\n",
        "\n",
        "for i in range(1,17):\n",
        "    # rotate the qubit with the specified angle\n",
        "    qc.ry(2*rotation_angle,q[0])\n",
        "\n",
        "    # read the current quantum state\n",
        "    job = StatevectorSimulator().run(qc,optimization_level=0)\n",
        "    current_quantum_state=job.result().get_statevector(qc,3).data\n",
        "\n",
        "    # print the current quantum state\n",
        "    x_value = current_quantum_state[0].real # get the amplitude of |0>\n",
        "    y_value = current_quantum_state[1].real # get the amplitude of |1>\n",
        "    print(\"iteration\",i,\": the quantum state is (\",x_value,\") |0>\",\"+(\",y_value,\") |1>\")\n",
        "\n",
        "    # draw the current quantum state\n",
        "    draw_quantum_state(x_value,y_value,\"|v\"+str(i)+\">\")\n",
        "\n",
        "show_plt()"
      ]
    },
    {
      "cell_type": "markdown",
      "metadata": {
        "id": "iAcMYlTpJ9hd"
      },
      "source": [
        "Repeat Task 3 for the angle $ \\sqrt{2}\\pi $ by applying the rotation 20 times."
      ]
    },
    {
      "cell_type": "code",
      "execution_count": 7,
      "metadata": {
        "id": "weR9yLKZJ9hd",
        "outputId": "cf21423d-5438-4900-b703-d898685b1a18",
        "colab": {
          "base_uri": "https://localhost:8080/",
          "height": 705
        }
      },
      "outputs": [
        {
          "output_type": "stream",
          "name": "stdout",
          "text": [
            "iteration 1 : the quantum state is ( -0.266 ) |0> +( -0.964 ) |1>\n",
            "iteration 2 : the quantum state is ( -0.858 ) |0> +( 0.513 ) |1>\n",
            "iteration 3 : the quantum state is ( 0.723 ) |0> +( 0.691 ) |1>\n",
            "iteration 4 : the quantum state is ( 0.473 ) |0> +( -0.881 ) |1>\n",
            "iteration 5 : the quantum state is ( -0.975 ) |0> +( -0.221 ) |1>\n",
            "iteration 6 : the quantum state is ( 0.046 ) |0> +( 0.999 ) |1>\n",
            "iteration 7 : the quantum state is ( 0.951 ) |0> +( -0.311 ) |1>\n",
            "iteration 8 : the quantum state is ( -0.552 ) |0> +( -0.834 ) |1>\n",
            "iteration 9 : the quantum state is ( -0.656 ) |0> +( 0.754 ) |1>\n",
            "iteration 10 : the quantum state is ( 0.902 ) |0> +( 0.432 ) |1>\n",
            "iteration 11 : the quantum state is ( 0.176 ) |0> +( -0.984 ) |1>\n",
            "iteration 12 : the quantum state is ( -0.996 ) |0> +( 0.092 ) |1>\n",
            "iteration 13 : the quantum state is ( 0.354 ) |0> +( 0.935 ) |1>\n",
            "iteration 14 : the quantum state is ( 0.807 ) |0> +( -0.59 ) |1>\n",
            "iteration 15 : the quantum state is ( -0.784 ) |0> +( -0.621 ) |1>\n",
            "iteration 16 : the quantum state is ( -0.39 ) |0> +( 0.921 ) |1>\n",
            "iteration 17 : the quantum state is ( 0.991 ) |0> +( 0.13 ) |1>\n",
            "iteration 18 : the quantum state is ( -0.138 ) |0> +( -0.99 ) |1>\n",
            "iteration 19 : the quantum state is ( -0.918 ) |0> +( 0.397 ) |1>\n",
            "iteration 20 : the quantum state is ( 0.627 ) |0> +( 0.779 ) |1>\n"
          ]
        },
        {
          "output_type": "display_data",
          "data": {
            "text/plain": [
              "<Figure size 640x480 with 0 Axes>"
            ]
          },
          "metadata": {}
        },
        {
          "output_type": "display_data",
          "data": {
            "text/plain": [
              "<Figure size 360x360 with 1 Axes>"
            ],
            "image/png": "[encoded data removed]"
          },
          "metadata": {}
        }
      ],
      "source": [
        "%run quantum.py\n",
        "\n",
        "draw_qubit()\n",
        "\n",
        "from qiskit import QuantumRegister, ClassicalRegister, QuantumCircuit\n",
        "from qiskit_aer import StatevectorSimulator\n",
        "from math import pi\n",
        "\n",
        "# we define a quantum circuit with one qubit and one bit\n",
        "q =  QuantumRegister(1) # quantum register with a single qubit\n",
        "c = ClassicalRegister(1) # classical register with a single bit\n",
        "qc = QuantumCircuit(q,c) # quantum circuit with quantum and classical registers\n",
        "\n",
        "rotation_angle = 2**(0.5) * pi\n",
        "\n",
        "for i in range(1,21):\n",
        "    # rotate the qubit with the specified angle\n",
        "    qc.ry(2*rotation_angle,q[0])\n",
        "\n",
        "    # read the current quantum state\n",
        "    job = StatevectorSimulator().run(qc,optimization_level=0)\n",
        "    current_quantum_state=job.result().get_statevector(qc,3).data\n",
        "\n",
        "    # print the current quantum state\n",
        "    x_value = current_quantum_state[0].real # get the amplitude of |0>\n",
        "    y_value = current_quantum_state[1].real # get the amplitude of |1>\n",
        "    print(\"iteration\",i,\": the quantum state is (\",x_value,\") |0>\",\"+(\",y_value,\") |1>\")\n",
        "\n",
        "    # draw the current quantum state\n",
        "    draw_quantum_state(x_value,y_value,\"|v\"+str(i)+\">\")\n",
        "\n",
        "show_plt()"
      ]
    },
    {
      "cell_type": "markdown",
      "metadata": {
        "id": "TIecl7-HJ9hf"
      },
      "source": [
        "<a id=\"task6\"></a>\n",
        "<h3> Task 6 </h3>\n",
        "\n",
        "We randomly pick an angle $ \\theta \\in [0,2\\pi) $.\n",
        "\n",
        "We have two separate qubits initially set to state $ \\ket{0} $.\n",
        "\n",
        "The first qubit is rotated by the angle $ \\theta $ and the second qubit is rotated by the angle $ \\theta + \\pi/2 $.\n",
        "\n",
        "Implement each qubit and its rotation as a separate quantum circuit.\n",
        "\n",
        "Then, read both quantum states and calculate their dot product.\n",
        "\n",
        "Check the result of the dot product for different random angles."
      ]
    },
    {
      "cell_type": "markdown",
      "metadata": {
        "id": "hYsZIzTTJ9hf"
      },
      "source": [
        "<h3>Solution</h3>"
      ]
    },
    {
      "cell_type": "code",
      "execution_count": 8,
      "metadata": {
        "id": "p6Cbq0viJ9hg",
        "outputId": "351aefbc-bbd3-4fdf-cd1d-73acafeb0807",
        "colab": {
          "base_uri": "https://localhost:8080/"
        }
      },
      "outputs": [
        {
          "output_type": "stream",
          "name": "stdout",
          "text": [
            "0 - the result of dot product is  0.0\n",
            "random angle is 91.0\n",
            "x1 , y1 = -0.01745 0.99985\n",
            "x2 , y2 = -0.99985 -0.01745\n",
            "\n",
            "1 - the result of dot product is  0.0\n",
            "random angle is 238.8\n",
            "x1 , y1 = -0.51803 -0.85536\n",
            "x2 , y2 = 0.85536 -0.51803\n",
            "\n",
            "2 - the result of dot product is  0.0\n",
            "random angle is 307.1\n",
            "x1 , y1 = 0.60321 -0.79758\n",
            "x2 , y2 = 0.79758 0.60321\n",
            "\n",
            "3 - the result of dot product is  0.0\n",
            "random angle is 38.1\n",
            "x1 , y1 = 0.78694 0.61704\n",
            "x2 , y2 = -0.61704 0.78694\n",
            "\n",
            "4 - the result of dot product is  -0.0\n",
            "random angle is 79.2\n",
            "x1 , y1 = 0.18738 0.98229\n",
            "x2 , y2 = -0.98229 0.18738\n",
            "\n",
            "5 - the result of dot product is  0.0\n",
            "random angle is 174.0\n",
            "x1 , y1 = -0.99452 0.10453\n",
            "x2 , y2 = -0.10453 -0.99452\n",
            "\n",
            "6 - the result of dot product is  0.0\n",
            "random angle is 130.6\n",
            "x1 , y1 = -0.65077 0.75927\n",
            "x2 , y2 = -0.75927 -0.65077\n",
            "\n",
            "7 - the result of dot product is  0.0\n",
            "random angle is 342.6\n",
            "x1 , y1 = 0.95424 -0.29904\n",
            "x2 , y2 = 0.29904 0.95424\n",
            "\n",
            "8 - the result of dot product is  0.0\n",
            "random angle is 302.0\n",
            "x1 , y1 = 0.52992 -0.84805\n",
            "x2 , y2 = 0.84805 0.52992\n",
            "\n",
            "9 - the result of dot product is  0.0\n",
            "random angle is 225.4\n",
            "x1 , y1 = -0.70215 -0.71203\n",
            "x2 , y2 = 0.71203 -0.70215\n",
            "\n"
          ]
        }
      ],
      "source": [
        "from random import randrange\n",
        "from math import pi\n",
        "from qiskit import QuantumRegister, ClassicalRegister, QuantumCircuit\n",
        "from qiskit_aer import StatevectorSimulator\n",
        "\n",
        "\n",
        "# implement the experiment 10 times\n",
        "for i in range(10):\n",
        "    # pick a random angle\n",
        "    random_angle = randrange(3600)/10\n",
        "\n",
        "    # specify the angles\n",
        "    rotation_angle1 = random_angle/360*2*pi\n",
        "    rotation_angle2 = rotation_angle1 + pi/2\n",
        "\n",
        "    #\n",
        "    # first qubit\n",
        "    #\n",
        "    q1 =  QuantumRegister(1)\n",
        "    c1 = ClassicalRegister(1)\n",
        "    qc1 = QuantumCircuit(q1,c1)\n",
        "\n",
        "    # rotate the qubit\n",
        "    qc1.ry(2 * rotation_angle1,q1[0])\n",
        "\n",
        "    # read the quantum state\n",
        "    job = StatevectorSimulator().run(qc1,optimization_level=0)\n",
        "    current_quantum_state1=job.result().get_statevector(qc1).data\n",
        "    [x1,y1]=[current_quantum_state1[0].real,current_quantum_state1[1].real]\n",
        "\n",
        "    #\n",
        "    # second qubit\n",
        "    #\n",
        "    q2 =  QuantumRegister(1)\n",
        "    c2 = ClassicalRegister(1)\n",
        "    qc2 = QuantumCircuit(q2,c2)\n",
        "\n",
        "    # rotate the qubit\n",
        "    qc2.ry(2 * rotation_angle2,q2[0])\n",
        "\n",
        "    # read the quantum state\n",
        "    job = StatevectorSimulator().run(qc2,optimization_level=0)\n",
        "    current_quantum_state2=job.result().get_statevector(qc2).data\n",
        "    [x2,y2]=[current_quantum_state2[0].real,current_quantum_state2[1].real]\n",
        "\n",
        "\n",
        "    #\n",
        "    # dot product\n",
        "    #\n",
        "    print(i,\"- the result of dot product is \",round(x1*x2+y1*y2,5))\n",
        "    print(\"random angle is\",random_angle)\n",
        "    print(\"x1 , y1 =\",round(x1,5),round(y1,5))\n",
        "    print(\"x2 , y2 =\",round(x2,5),round(y2,5))\n",
        "    print()"
      ]
    },
    {
      "cell_type": "markdown",
      "metadata": {
        "id": "rXB-UUyHJ9hi"
      },
      "source": [
        "<a id=\"task7\"></a>\n",
        "<h3> Task 7 </h3>\n",
        "\n",
        "We randomly pick an angle $ \\theta \\in [0,2\\pi) $.\n",
        "\n",
        "We have a single qubit initially set to state $ \\ket{0} $.\n",
        "\n",
        "The qubit is rotated by the angle either $ \\theta_1 =  \\theta $ or $ \\theta_2 =  \\theta-\\pi/2 $.\n",
        "\n",
        "You are allowed to do one more rotation $ \\theta' $ and then make a measurement.\n",
        "\n",
        "Can you determine the angle of the first rotation angle by looking/using the measurement result? Is it $ \\theta_1 $ or $ \\theta_2 $?\n",
        "\n",
        "Check your solution for different random angles."
      ]
    },
    {
      "cell_type": "markdown",
      "metadata": {
        "id": "Mn0ImWfjJ9hi"
      },
      "source": [
        "<h3>Solution</h3>"
      ]
    },
    {
      "cell_type": "code",
      "execution_count": 9,
      "metadata": {
        "id": "yCy31MSKJ9hj",
        "outputId": "91b683d2-13a3-47fa-d25d-d76a315a48b7",
        "colab": {
          "base_uri": "https://localhost:8080/"
        }
      },
      "outputs": [
        {
          "output_type": "stream",
          "name": "stdout",
          "text": [
            "{'0': 100}\n",
            "your guess is theta1\n",
            "picked_angle is theta1\n"
          ]
        }
      ],
      "source": [
        "from random import randrange\n",
        "from math import pi\n",
        "from qiskit import QuantumRegister, ClassicalRegister, QuantumCircuit\n",
        "from qiskit_aer import AerSimulator\n",
        "\n",
        "random_angle = randrange(3600)/10\n",
        "rotation_angle1 = random_angle/360*2*pi\n",
        "rotation_angle2 = rotation_angle1 - pi/2\n",
        "\n",
        "# we define a quantum circuit with one qubit and one bit\n",
        "q =  QuantumRegister(1) # quantum register with a single qubit\n",
        "c = ClassicalRegister(1) # classical register with a single bit\n",
        "qc = QuantumCircuit(q,c) # quantum circuit with quantum and classical registers\n",
        "\n",
        "if randrange(2)==0:\n",
        "    qc.ry(2 * rotation_angle1,q[0])\n",
        "    picked_angle = \"theta1\"\n",
        "else:\n",
        "    qc.ry(2 * rotation_angle2,q[0])\n",
        "    picked_angle = \"theta2\"\n",
        "\n",
        "#\n",
        "# your code is here\n",
        "#\n",
        "your_guess = \"\"\n",
        "\n",
        "qc.ry(-2 * rotation_angle1,q[0]) # the new state will be either |0> or -|1>\n",
        "\n",
        "qc.measure(q,c)\n",
        "\n",
        "job = AerSimulator().run(qc,shots=100)\n",
        "counts = job.result().get_counts(qc)\n",
        "print(counts)\n",
        "\n",
        "if '0' in counts:\n",
        "    your_guess = \"theta1\"\n",
        "else:\n",
        "    your_guess = \"theta2\"\n",
        "\n",
        "\n",
        "######################\n",
        "print(\"your guess is\",your_guess)\n",
        "print(\"picked_angle is\",picked_angle)"
      ]
    }
  ],
  "metadata": {
    "kernelspec": {
      "display_name": "Python 3 (ipykernel)",
      "language": "python",
      "name": "python3"
    },
    "language_info": {
      "codemirror_mode": {
        "name": "ipython",
        "version": 3
      },
      "file_extension": ".py",
      "mimetype": "text/x-python",
      "name": "python",
      "nbconvert_exporter": "python",
      "pygments_lexer": "ipython3",
      "version": "3.12.2"
    },
    "colab": {
      "provenance": [],
      "include_colab_link": true
    }
  },
  "nbformat": 4,
  "nbformat_minor": 0
}