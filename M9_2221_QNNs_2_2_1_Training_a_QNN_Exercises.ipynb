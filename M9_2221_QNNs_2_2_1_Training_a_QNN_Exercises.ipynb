{
  "nbformat": 4,
  "nbformat_minor": 0,
  "metadata": {
    "colab": {
      "provenance": [],
      "collapsed_sections": [
        "Pb_nKnVK46GV"
      ],
      "include_colab_link": true
    },
    "kernelspec": {
      "name": "python3",
      "display_name": "Python 3"
    },
    "language_info": {
      "name": "python"
    }
  },
  "cells": [
    {
      "cell_type": "markdown",
      "metadata": {
        "id": "view-in-github",
        "colab_type": "text"
      },
      "source": [
        "<a href=\"https://colab.research.google.com/github/james-lucius/qureca_ADEQUATE/blob/main/M9_2221_QNNs_2_2_1_Training_a_QNN_Exercises.ipynb\" target=\"_parent\"><img src=\"https://colab.research.google.com/assets/colab-badge.svg\" alt=\"Open In Colab\"/></a>"
      ]
    },
    {
      "cell_type": "markdown",
      "source": [
        "<img src=\"https://gitlab.com/qworld/qeducation/educational-materials/adequate-qbook1/raw/main/qworld/images/adq_1.png\" align=\"left\" width=450>"
      ],
      "metadata": {
        "id": "8fozsJF9WrTZ"
      }
    },
    {
      "cell_type": "markdown",
      "source": [
        "_prepared by Claudia Zendejas-Morales_"
      ],
      "metadata": {
        "id": "XmdLWP6ZGlGH"
      }
    },
    {
      "cell_type": "markdown",
      "source": [
        "### 2.2.1 Training a QNN Exercises"
      ],
      "metadata": {
        "id": "xDQrqKqx37AU"
      }
    },
    {
      "cell_type": "markdown",
      "source": [
        "##### <font color=\"#08b806\">Please run the following (hidden) cell; it is required to set up the environment for Google Colab"
      ],
      "metadata": {
        "id": "Pb_nKnVK46GV"
      }
    },
    {
      "cell_type": "code",
      "execution_count": null,
      "metadata": {
        "id": "XgKx7mzp354t"
      },
      "outputs": [],
      "source": [
        "import IPython\n",
        "\n",
        "def in_colab():\n",
        "    try:\n",
        "        import google.colab\n",
        "        return True\n",
        "    except:\n",
        "        return False\n",
        "\n",
        "SolutionToTask1  = lambda: IPython.display.display(IPython.display.Javascript('window.open(\"{url}\");'.format(url='https://colab.research.google.com/drive/1zw8DxGNh2flwX2RPuoplvDv_aq2GSBlN#scrollTo=rwSvtAttCdSn' if in_colab() else 'QNNs - 2.2.1 Training a QNN Exercises Solutions.ipynb#task1')))\n",
        "SolutionToTask21 = lambda: IPython.display.display(IPython.display.Javascript('window.open(\"{url}\");'.format(url='https://colab.research.google.com/drive/1zw8DxGNh2flwX2RPuoplvDv_aq2GSBlN#scrollTo=-9VbuS_BbFYX' if in_colab() else 'QNNs - 2.2.1 Training a QNN Exercises Solutions.ipynb#task21')))\n",
        "SolutionToTask22 = lambda: IPython.display.display(IPython.display.Javascript('window.open(\"{url}\");'.format(url='https://colab.research.google.com/drive/1zw8DxGNh2flwX2RPuoplvDv_aq2GSBlN#scrollTo=7XwlGikVdTmt' if in_colab() else 'QNNs - 2.2.1 Training a QNN Exercises Solutions.ipynb#task22')))\n",
        "SolutionToTask23 = lambda: IPython.display.display(IPython.display.Javascript('window.open(\"{url}\");'.format(url='https://colab.research.google.com/drive/1zw8DxGNh2flwX2RPuoplvDv_aq2GSBlN#scrollTo=Jt-F9ii-e9Hy' if in_colab() else 'QNNs - 2.2.1 Training a QNN Exercises Solutions.ipynb#task23')))\n",
        "SolutionToTask24 = lambda: IPython.display.display(IPython.display.Javascript('window.open(\"{url}\");'.format(url='https://colab.research.google.com/drive/1zw8DxGNh2flwX2RPuoplvDv_aq2GSBlN#scrollTo=2-70FlJSgujk' if in_colab() else 'QNNs - 2.2.1 Training a QNN Exercises Solutions.ipynb#task24')))\n",
        "SolutionToTask25 = lambda: IPython.display.display(IPython.display.Javascript('window.open(\"{url}\");'.format(url='https://colab.research.google.com/drive/1zw8DxGNh2flwX2RPuoplvDv_aq2GSBlN#scrollTo=mzYrQ4wNlsom' if in_colab() else 'QNNs - 2.2.1 Training a QNN Exercises Solutions.ipynb#task25')))\n",
        "SolutionToTask26 = lambda: IPython.display.display(IPython.display.Javascript('window.open(\"{url}\");'.format(url='https://colab.research.google.com/drive/1zw8DxGNh2flwX2RPuoplvDv_aq2GSBlN#scrollTo=QE-oNPiysGma' if in_colab() else 'QNNs - 2.2.1 Training a QNN Exercises Solutions.ipynb#task26')))\n",
        "\n",
        "if in_colab():\n",
        "    !pip install qiskit[visualization]==1.4.2 &> /dev/null # use \"&> /dev/null\" so that the standard output of the installation is not displayed\n",
        "    !pip install qiskit-machine-learning==0.8.2 &> /dev/nul\n",
        "\n",
        "import warnings\n",
        "warnings.filterwarnings(\"ignore\")"
      ]
    },
    {
      "cell_type": "markdown",
      "source": [
        "## Task 1\n",
        "\n",
        "At the end of section \"2.2 Training a QNN,\" we reviewed a very simple example that started in state |0> and aimed to end in state |1> with a single rotation around the y-axis. To achieve this, a single parameter was optimized.\n",
        "\n",
        "Create a cost function to find the parameter needed to move from state $|0\\rangle$ to state $|-i\\rangle$ (along the negative _y-axis_).\n",
        "\n",
        "To test your cost function, copy the code from section \"2.2 Training a QNN,\" but now pass your new function as a parameter to `minimize`, and use `initial_guess = 0`."
      ],
      "metadata": {
        "id": "rwSvtAttCdSn"
      }
    },
    {
      "cell_type": "markdown",
      "source": [
        "You can use the same code from the def `average_cost(angle, fn_costo, shots=2000)` function, just copy it."
      ],
      "metadata": {
        "id": "qB24GE6cM6zv"
      }
    },
    {
      "cell_type": "code",
      "source": [
        "def cost_state_minus_i(prob_meas_state_minus_i):\n",
        "  pass  ### your code goes here"
      ],
      "metadata": {
        "id": "ZwPu6RhmHZqo"
      },
      "execution_count": null,
      "outputs": []
    },
    {
      "cell_type": "code",
      "source": [
        "initial_guess = 0\n",
        "\n",
        "### your code goes here\n",
        "#result = ..."
      ],
      "metadata": {
        "id": "4jEZTjfuHwvm"
      },
      "execution_count": null,
      "outputs": []
    },
    {
      "cell_type": "markdown",
      "source": [
        "Corroborate the result with the help of a Bloch sphere, similar to the example shown in section 2.2."
      ],
      "metadata": {
        "id": "tCcWQV5_Hv0Z"
      }
    },
    {
      "cell_type": "markdown",
      "source": [
        "To check out our solution, run the next cell:"
      ],
      "metadata": {
        "id": "O4uWBaDuNYo6"
      }
    },
    {
      "cell_type": "code",
      "source": [
        "SolutionToTask1()  # show solution for task 1"
      ],
      "metadata": {
        "id": "n8JpQNqnNYo7"
      },
      "execution_count": null,
      "outputs": []
    },
    {
      "cell_type": "markdown",
      "source": [
        "## Task 2: Regression\n",
        "\n",
        "\n",
        "We'll be using [Qiskit Machine Learning](https://qiskit-community.github.io/qiskit-machine-learning/) for the following tasks. The initial cell has already taken care of installing this library, so we only need to import what's necessary.\n",
        "\n",
        "**Qiskit Machine Learning** introduces fundamental computational building blocks, such as quantum kernels and quantum neural networks, which are used in various applications, including classification and regression.\n",
        "\n",
        "This library provides several classes to help us solve problems with classification and regression models, such as [NeuralNetworkClassifier](https://qiskit-community.github.io/qiskit-machine-learning/stubs/qiskit_machine_learning.algorithms.NeuralNetworkClassifier.html) and [NeuralNetworkRegressor](https://qiskit-community.github.io/qiskit-machine-learning/stubs/qiskit_machine_learning.algorithms.NeuralNetworkRegressor.html). Both classes take a [NeuralNetwork](https://qiskit-community.github.io/qiskit-machine-learning/stubs/qiskit_machine_learning.neural_networks.NeuralNetwork.html) object as input and use it depending on the specific context."
      ],
      "metadata": {
        "id": "aSXUCDM5YyPG"
      }
    },
    {
      "cell_type": "markdown",
      "source": [
        "We will work with a regression exercise: we will use our dataset, generating random numbers around a sine function (samples) so that our regression results behave exactly like a sine.\n",
        "\n",
        "The code that does this is as follows:"
      ],
      "metadata": {
        "id": "xslSeBCTYHm_"
      }
    },
    {
      "cell_type": "code",
      "source": [
        "import matplotlib.pyplot as plt\n",
        "import numpy as np\n",
        "\n",
        "num_samples = 20                                           # number of samples to train the QNN\n",
        "\n",
        "eps = 0.2                                                  # tolerance value (epsilon)\n",
        "\n",
        "lb, ub = -np.pi, np.pi                                     # lower and upper limits for x\n",
        "\n",
        "X_ = np.linspace(lb, ub, num=50).reshape(50, 1)            # generate 50 numbers in the range (lb, ub) to plot f\n",
        "\n",
        "f = lambda x: np.sin(x)                                    # lambda function that calculates the sine\n",
        "\n",
        "X = (ub - lb)*np.random.rand(num_samples, 1) + lb          # generate 20 samples randomly (num_samples)\n",
        "                                                           # but in the interval (lb, ub)\n",
        "\n",
        "y = f(X[:,0]) + eps*(2*np.random.rand(num_samples)-1)      # generate the results (vector 'y') randomly\n",
        "                                                           # but following a sine function, and with tolerance of 'eps'\n",
        "                                                           # that is, ± 0.2 above or below the sine function\n",
        "\n",
        "plt.plot(X_, f(X_), 'r--')                                 # plot the function f (sine), using the 50 points in X_\n",
        "plt.plot(X, y, 'bo')                                       # plot the samples\n",
        "plt.show()"
      ],
      "metadata": {
        "id": "6HcB5CnyIjXy"
      },
      "execution_count": null,
      "outputs": []
    },
    {
      "cell_type": "markdown",
      "source": [
        "Now we are going to build our QNN."
      ],
      "metadata": {
        "id": "fwIA2RnTbDjf"
      }
    },
    {
      "cell_type": "markdown",
      "source": [
        "### Task 2.1: Feature Map\n",
        "\n",
        "Create a feature map that is a quantum circuit with a single gate $R_y$ on a single qubit, since we only have one feature for each sample (the value $x$).\n",
        "\n",
        "We need to make $R_y$'s angle argument to be a parameter, by using Qiskit's [Parameter](https://docs.quantum.ibm.com/api/qiskit/qiskit.circuit.Parameter) class. Name it `\"x\"`. Visit the link to see how."
      ],
      "metadata": {
        "id": "-9VbuS_BbFYX"
      }
    },
    {
      "cell_type": "code",
      "source": [
        "## your code goes here\n",
        "\n",
        "# create a Parameter named 'x'\n",
        "\n",
        "# create a circuit for the feature map\n",
        "\n",
        "# add the parameterized ry gate\n"
      ],
      "metadata": {
        "id": "aoNeJTs8cJ45"
      },
      "execution_count": null,
      "outputs": []
    },
    {
      "cell_type": "markdown",
      "source": [
        "To check out our solution, run the next cell:"
      ],
      "metadata": {
        "id": "ugOy57RMWVzu"
      }
    },
    {
      "cell_type": "code",
      "source": [
        "SolutionToTask21()  # show solution for task 2.1"
      ],
      "metadata": {
        "id": "CI3cstr0WVzv"
      },
      "execution_count": null,
      "outputs": []
    },
    {
      "cell_type": "markdown",
      "source": [
        "### Task 2.2: Variational Form\n",
        "\n",
        "Create a variational form (or ansatz) that is a quantum circuit with a single gate $R_y$ on a single qubit, since we only have one parameter $\\theta$ to optimize for each sample.\n",
        "\n",
        "We need to make $R_y$'s angle argument to be a parameter, by using Qiskit's [Parameter](https://docs.quantum.ibm.com/api/qiskit/qiskit.circuit.Parameter) class. Name it `\"theta\"`. Visit the link to see how."
      ],
      "metadata": {
        "id": "7XwlGikVdTmt"
      }
    },
    {
      "cell_type": "code",
      "source": [
        "## your code goes here\n",
        "\n",
        "# create a Parameter named 'theta'\n",
        "\n",
        "# create a circuit for the ansatz\n",
        "\n",
        "# add the parameterized ry gate\n"
      ],
      "metadata": {
        "id": "i1zw2WQ4dTmu"
      },
      "execution_count": null,
      "outputs": []
    },
    {
      "cell_type": "markdown",
      "source": [
        "To check out our solution, run the next cell:"
      ],
      "metadata": {
        "id": "bnucNNXddTmu"
      }
    },
    {
      "cell_type": "code",
      "source": [
        "SolutionToTask22()  # show solution for task 2.2"
      ],
      "metadata": {
        "id": "twmSDSTjdTmu"
      },
      "execution_count": null,
      "outputs": []
    },
    {
      "cell_type": "markdown",
      "source": [
        "### Task 2.3: Full Quantum Circuit\n",
        "\n",
        "Create a single circuit containing both the variational form and the ansatz, remember the `compose()` method. Display it with `draw()`."
      ],
      "metadata": {
        "id": "Jt-F9ii-e9Hy"
      }
    },
    {
      "cell_type": "code",
      "source": [
        "## your code goes here\n",
        "\n",
        "# create a QuantumCircuit"
      ],
      "metadata": {
        "id": "AjmDDCxXe9Hz"
      },
      "execution_count": null,
      "outputs": []
    },
    {
      "cell_type": "markdown",
      "source": [
        "To check out our solution, run the next cell:"
      ],
      "metadata": {
        "id": "pBSRGfk_e9Hz"
      }
    },
    {
      "cell_type": "code",
      "source": [
        "SolutionToTask23()  # show solution for task 2.3"
      ],
      "metadata": {
        "id": "cMsu1eAVe9Hz"
      },
      "execution_count": null,
      "outputs": []
    },
    {
      "cell_type": "markdown",
      "source": [
        "### Task 2.4: QNN\n",
        "\n",
        "Create a QNN using the [EstimatorQNN](https://qiskit-community.github.io/qiskit-machine-learning/stubs/qiskit_machine_learning.neural_networks.EstimatorQNN.html) class provided by Qiskit Machine Learning.\n",
        "\n",
        "This class expects a quantum circuit containing both a variational form and an ansatz. Additionally, the parameters for each must be explicitly specified using the arguments `input_params` and `weight_params`, respectively. Visit the link to see how."
      ],
      "metadata": {
        "id": "2-70FlJSgujk"
      }
    },
    {
      "cell_type": "code",
      "source": [
        "## your code goes here\n",
        "\n",
        "# create a EstimatorQNN"
      ],
      "metadata": {
        "id": "6O0FIO_Mgujk"
      },
      "execution_count": null,
      "outputs": []
    },
    {
      "cell_type": "markdown",
      "source": [
        "To check out our solution, run the next cell:"
      ],
      "metadata": {
        "id": "Jd4CAnm7gujk"
      }
    },
    {
      "cell_type": "code",
      "source": [
        "SolutionToTask24()  # show solution for task 2.4"
      ],
      "metadata": {
        "id": "lBDPxsCtgujk"
      },
      "execution_count": null,
      "outputs": []
    },
    {
      "cell_type": "markdown",
      "source": [
        "### Task 2.5: Regressor\n",
        "\n",
        "Create a basic quantum neural network regressor using the [NeuralNetworkRegressor](https://qiskit-community.github.io/qiskit-machine-learning/stubs/qiskit_machine_learning.algorithms.NeuralNetworkRegressor.html) class provided by Qiskit Machine Learning. This is necessary to specialize the QNN for our type of problem: regression.\n",
        "\n",
        "- The main argument is the object containing the QNN, sent through the `neural_network` variable.\n",
        "\n",
        "- You can specify the loss function with the `loss` argument; the default value is `'squared_error'`, but you can experiment with others.\n",
        "\n",
        "- Using the optimizer argument, you specify a class with which you want to train the QNN. First, try [L_BFGS_B](https://qiskit-community.github.io/qiskit-machine-learning/stubs/qiskit_machine_learning.optimizers.L_BFGS_B.html) (Limited-memory BFGS Bound), and if you wish, experiment with other [optimizers](https://qiskit-community.github.io/qiskit-machine-learning/apidocs/qiskit_machine_learning.optimizers.html). Optimizers have their own parameters that you can experiment with.\n",
        "\n",
        "- An optional but very useful argument is `callback`, in which you can specify a function to be executed as the training progresses. Below is a function (`callback_plot`) that plots the progress of the cost function value. Include it when creating the `NeuralNetworkRegressor`."
      ],
      "metadata": {
        "id": "mzYrQ4wNlsom"
      }
    },
    {
      "cell_type": "code",
      "source": [
        "from IPython.display import clear_output, display\n",
        "import time\n",
        "\n",
        "objective_func_vals = []                              # to store the full history\n",
        "\n",
        "def callback_plot(weights, obj_func_eval):\n",
        "  plt.clf()\n",
        "  objective_func_vals.append(obj_func_eval)\n",
        "  plt.title(\"Loss function value versus iteration\")\n",
        "  plt.xlabel(\"Iteration\")\n",
        "  plt.ylabel(\"Loss\")\n",
        "  plt.plot(range(len(objective_func_vals)), objective_func_vals)\n",
        "  display(plt.gcf())\n",
        "  clear_output(wait=True)\n",
        "  time.sleep(1)                                       # to reduce the speed of the plot updates"
      ],
      "metadata": {
        "id": "ozxMM9YwI2ZN"
      },
      "execution_count": null,
      "outputs": []
    },
    {
      "cell_type": "code",
      "source": [
        "## your code goes here\n",
        "\n",
        "# create a NeuralNetworkRegressor"
      ],
      "metadata": {
        "id": "IJPbO7wAlson"
      },
      "execution_count": null,
      "outputs": []
    },
    {
      "cell_type": "markdown",
      "source": [
        "To check out our solution, run the next cell:"
      ],
      "metadata": {
        "id": "74rirhiQlson"
      }
    },
    {
      "cell_type": "code",
      "source": [
        "SolutionToTask25()  # show solution for task 2.5"
      ],
      "metadata": {
        "id": "rvC58ks3lson"
      },
      "execution_count": null,
      "outputs": []
    },
    {
      "cell_type": "markdown",
      "source": [
        "### Task 2.6: Training\n",
        "\n",
        "Train the regressor by calling the `NeuralNetworkRegressor.fit()` method, which receives the samples (`X`) and labels (`y`).\n",
        "\n",
        "Check how well the model performed by calling the `NeuralNetworkRegressor.score()` method, using the same `X` and `y`."
      ],
      "metadata": {
        "id": "QE-oNPiysGma"
      }
    },
    {
      "cell_type": "code",
      "source": [
        "## your code goes here"
      ],
      "metadata": {
        "id": "vFmvT7oHsGmb"
      },
      "execution_count": null,
      "outputs": []
    },
    {
      "cell_type": "markdown",
      "source": [
        "To check out our solution, run the next cell:"
      ],
      "metadata": {
        "id": "8cctxUfCsGmb"
      }
    },
    {
      "cell_type": "code",
      "source": [
        "SolutionToTask26()  # show solution for task 2.6"
      ],
      "metadata": {
        "id": "pisBW0edsGmb"
      },
      "execution_count": null,
      "outputs": []
    },
    {
      "cell_type": "markdown",
      "source": [
        "---\n",
        "\n",
        "Finally, let's look at the result of the regressor with the help of the `NeuralNetworkRegressor.predict()` method to observe the function it fitted."
      ],
      "metadata": {
        "id": "HqTvYenMeoxi"
      }
    },
    {
      "cell_type": "code",
      "source": [
        "plt.plot(X_, f(X_), \"r--\")          # plot the original function (in red)\n",
        "\n",
        "plt.plot(X, y, \"bo\")                # plot the samples (in blue)\n",
        "\n",
        "y_ = regressor.predict(X_)          # suppose the NeuralNetworkRegressor object was created in the variable 'regressor'\n",
        "\n",
        "plt.plot(X_, y_, \"g-\")              # plot the fitted curve (in green)\n",
        "plt.show()"
      ],
      "metadata": {
        "id": "W5bP5SBglsoo"
      },
      "execution_count": null,
      "outputs": []
    }
  ]
}