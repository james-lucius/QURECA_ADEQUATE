{
  "cells": [
    {
      "cell_type": "markdown",
      "metadata": {
        "id": "view-in-github",
        "colab_type": "text"
      },
      "source": [
        "<a href=\"https://colab.research.google.com/github/james-lucius/qureca_ADEQUATE/blob/main/M2_331_Multiple_Control_Constructions_Exercise.ipynb\" target=\"_parent\"><img src=\"https://colab.research.google.com/assets/colab-badge.svg\" alt=\"Open In Colab\"/></a>"
      ]
    },
    {
      "cell_type": "markdown",
      "source": [
        "<img src=\"https://gitlab.com/qworld/qeducation/educational-materials/adequate-qbook1/raw/main/qworld/images/adq_1.png\" align=\"left\" width=450></a>\n",
        "\n",
        "\n",
        "\n",
        "$ \\newcommand{\\bra}[1]{\\langle #1|} $\n",
        "$ \\newcommand{\\ket}[1]{|#1\\rangle} $\n",
        "$ \\newcommand{\\braket}[2]{\\langle #1|#2\\rangle} $\n",
        "$ \\newcommand{\\dot}[2]{ #1 \\cdot #2} $\n",
        "$ \\newcommand{\\biginner}[2]{\\left\\langle #1,#2\\right\\rangle} $\n",
        "$ \\newcommand{\\mymatrix}[2]{\\left( \\begin{array}{#1} #2\\end{array} \\right)} $\n",
        "$ \\newcommand{\\myvector}[1]{\\mymatrix{c}{#1}} $\n",
        "$ \\newcommand{\\myrvector}[1]{\\mymatrix{r}{#1}} $\n",
        "$ \\newcommand{\\mypar}[1]{\\left( #1 \\right)} $\n",
        "$ \\newcommand{\\mybigpar}[1]{ \\Big( #1 \\Big)} $\n",
        "$ \\newcommand{\\sqrttwo}{\\frac{1}{\\sqrt{2}}} $\n",
        "$ \\newcommand{\\dsqrttwo}{\\dfrac{1}{\\sqrt{2}}} $\n",
        "$ \\newcommand{\\onehalf}{\\frac{1}{2}} $\n",
        "$ \\newcommand{\\donehalf}{\\dfrac{1}{2}} $\n",
        "$ \\newcommand{\\hadamard}{ \\mymatrix{rr}{ \\sqrttwo & \\sqrttwo \\\\ \\sqrttwo & -\\sqrttwo }} $\n",
        "$ \\newcommand{\\vzero}{\\myvector{1\\\\0}} $\n",
        "$ \\newcommand{\\vone}{\\myvector{0\\\\1}} $\n",
        "$ \\newcommand{\\stateplus}{\\myvector{ \\sqrttwo \\\\  \\sqrttwo } } $\n",
        "$ \\newcommand{\\stateminus}{ \\myrvector{ \\sqrttwo \\\\ -\\sqrttwo } } $\n",
        "$ \\newcommand{\\myarray}[2]{ \\begin{array}{#1}#2\\end{array}} $\n",
        "$ \\newcommand{\\X}{ \\mymatrix{cc}{0 & 1 \\\\ 1 & 0}  } $\n",
        "$ \\newcommand{\\I}{ \\mymatrix{rr}{1 & 0 \\\\ 0 & 1}  } $\n",
        "$ \\newcommand{\\Z}{ \\mymatrix{rr}{1 & 0 \\\\ 0 & -1}  } $\n",
        "$ \\newcommand{\\Htwo}{ \\mymatrix{rrrr}{ \\frac{1}{2} & \\frac{1}{2} & \\frac{1}{2} & \\frac{1}{2} \\\\ \\frac{1}{2} & -\\frac{1}{2} & \\frac{1}{2} & -\\frac{1}{2} \\\\ \\frac{1}{2} & \\frac{1}{2} & -\\frac{1}{2} & -\\frac{1}{2} \\\\ \\frac{1}{2} & -\\frac{1}{2} & -\\frac{1}{2} & \\frac{1}{2} } } $\n",
        "$ \\newcommand{\\CNOT}{ \\mymatrix{cccc}{1 & 0 & 0 & 0 \\\\ 0 & 1 & 0 & 0 \\\\ 0 & 0 & 0 & 1 \\\\ 0 & 0 & 1 & 0} } $\n",
        "$ \\newcommand{\\norm}[1]{ \\left\\lVert #1 \\right\\rVert } $\n",
        "$ \\newcommand{\\pstate}[1]{ \\lceil \\mspace{-1mu} #1 \\mspace{-1.5mu} \\rfloor } $\n",
        "$ \\newcommand{\\greenbit}[1] {\\mathbf{{\\color{green}#1}}} $\n",
        "$ \\newcommand{\\bluebit}[1] {\\mathbf{{\\color{blue}#1}}} $\n",
        "$ \\newcommand{\\redbit}[1] {\\mathbf{{\\color{red}#1}}} $\n",
        "$ \\newcommand{\\brownbit}[1] {\\mathbf{{\\color{brown}#1}}} $\n",
        "$ \\newcommand{\\blackbit}[1] {\\mathbf{{\\color{black}#1}}} $"
      ],
      "metadata": {
        "id": "VG5MeOYyL-S_"
      }
    },
    {
      "cell_type": "markdown",
      "metadata": {
        "id": "Mxt6Z8yBY4Fr"
      },
      "source": [
        "_prepared by Maksim Dimitrijev and Abuzer Yakaryilmaz_"
      ]
    },
    {
      "cell_type": "markdown",
      "metadata": {
        "id": "f1RzCBU3Y4Fr"
      },
      "source": [
        "<font size=\"28px\" style=\"font-size:28px;\" align=\"left\"><b>Exercise: Multiple Control Constructions </b></font>\n"
      ]
    },
    {
      "cell_type": "markdown",
      "metadata": {
        "jp-MarkdownHeadingCollapsed": true,
        "id": "7oOgTIIwY4Fs"
      },
      "source": [
        "##### <font color=\"#08b806\">Please execute the following cell, it is necessary to distinguish between your local environment and Google Colab's"
      ]
    },
    {
      "cell_type": "code",
      "execution_count": 1,
      "metadata": {
        "id": "LoxQr2i_Y4Fs",
        "colab": {
          "base_uri": "https://localhost:8080/"
        },
        "outputId": "a66fe4ee-1cdc-45bc-b810-78512c32d5fd",
        "collapsed": true
      },
      "outputs": [
        {
          "output_type": "stream",
          "name": "stdout",
          "text": [
            "Requirement already satisfied: qiskit==0.43.3 in /usr/local/lib/python3.11/dist-packages (from qiskit[visualization]==0.43.3) (0.43.3)\n",
            "Requirement already satisfied: qiskit-terra==0.24.2 in /usr/local/lib/python3.11/dist-packages (from qiskit==0.43.3->qiskit[visualization]==0.43.3) (0.24.2)\n",
            "Requirement already satisfied: qiskit-aer==0.12.2 in /usr/local/lib/python3.11/dist-packages (from qiskit==0.43.3->qiskit[visualization]==0.43.3) (0.12.2)\n",
            "Requirement already satisfied: qiskit-ibmq-provider==0.20.2 in /usr/local/lib/python3.11/dist-packages (from qiskit==0.43.3->qiskit[visualization]==0.43.3) (0.20.2)\n",
            "Requirement already satisfied: matplotlib>=2.1 in /usr/local/lib/python3.11/dist-packages (from qiskit[visualization]==0.43.3) (3.10.0)\n",
            "Requirement already satisfied: ipywidgets>=7.3.0 in /usr/local/lib/python3.11/dist-packages (from qiskit[visualization]==0.43.3) (7.7.1)\n",
            "Requirement already satisfied: pydot in /usr/local/lib/python3.11/dist-packages (from qiskit[visualization]==0.43.3) (3.0.4)\n",
            "Requirement already satisfied: pillow>=4.2.1 in /usr/local/lib/python3.11/dist-packages (from qiskit[visualization]==0.43.3) (11.2.1)\n",
            "Requirement already satisfied: pylatexenc>=1.4 in /usr/local/lib/python3.11/dist-packages (from qiskit[visualization]==0.43.3) (2.10)\n",
            "Requirement already satisfied: seaborn>=0.9.0 in /usr/local/lib/python3.11/dist-packages (from qiskit[visualization]==0.43.3) (0.13.2)\n",
            "Requirement already satisfied: pygments>=2.4 in /usr/local/lib/python3.11/dist-packages (from qiskit[visualization]==0.43.3) (2.19.1)\n",
            "Requirement already satisfied: numpy>=1.16.3 in /usr/local/lib/python3.11/dist-packages (from qiskit-aer==0.12.2->qiskit==0.43.3->qiskit[visualization]==0.43.3) (1.23.5)\n",
            "Requirement already satisfied: scipy>=1.0 in /usr/local/lib/python3.11/dist-packages (from qiskit-aer==0.12.2->qiskit==0.43.3->qiskit[visualization]==0.43.3) (1.15.3)\n",
            "Requirement already satisfied: requests>=2.19 in /usr/local/lib/python3.11/dist-packages (from qiskit-ibmq-provider==0.20.2->qiskit==0.43.3->qiskit[visualization]==0.43.3) (2.32.3)\n",
            "Requirement already satisfied: requests-ntlm<=1.1.0 in /usr/local/lib/python3.11/dist-packages (from qiskit-ibmq-provider==0.20.2->qiskit==0.43.3->qiskit[visualization]==0.43.3) (1.1.0)\n",
            "Requirement already satisfied: urllib3>=1.21.1 in /usr/local/lib/python3.11/dist-packages (from qiskit-ibmq-provider==0.20.2->qiskit==0.43.3->qiskit[visualization]==0.43.3) (2.4.0)\n",
            "Requirement already satisfied: python-dateutil>=2.8.0 in /usr/local/lib/python3.11/dist-packages (from qiskit-ibmq-provider==0.20.2->qiskit==0.43.3->qiskit[visualization]==0.43.3) (2.9.0.post0)\n",
            "Requirement already satisfied: websocket-client>=1.5.1 in /usr/local/lib/python3.11/dist-packages (from qiskit-ibmq-provider==0.20.2->qiskit==0.43.3->qiskit[visualization]==0.43.3) (1.8.0)\n",
            "Requirement already satisfied: websockets>=10.0 in /usr/local/lib/python3.11/dist-packages (from qiskit-ibmq-provider==0.20.2->qiskit==0.43.3->qiskit[visualization]==0.43.3) (15.0.1)\n",
            "Requirement already satisfied: rustworkx>=0.12.0 in /usr/local/lib/python3.11/dist-packages (from qiskit-terra==0.24.2->qiskit==0.43.3->qiskit[visualization]==0.43.3) (0.16.0)\n",
            "Requirement already satisfied: ply>=3.10 in /usr/local/lib/python3.11/dist-packages (from qiskit-terra==0.24.2->qiskit==0.43.3->qiskit[visualization]==0.43.3) (3.11)\n",
            "Requirement already satisfied: psutil>=5 in /usr/local/lib/python3.11/dist-packages (from qiskit-terra==0.24.2->qiskit==0.43.3->qiskit[visualization]==0.43.3) (5.9.5)\n",
            "Requirement already satisfied: sympy>=1.3 in /usr/local/lib/python3.11/dist-packages (from qiskit-terra==0.24.2->qiskit==0.43.3->qiskit[visualization]==0.43.3) (1.13.1)\n",
            "Requirement already satisfied: dill>=0.3 in /usr/local/lib/python3.11/dist-packages (from qiskit-terra==0.24.2->qiskit==0.43.3->qiskit[visualization]==0.43.3) (0.3.7)\n",
            "Requirement already satisfied: stevedore>=3.0.0 in /usr/local/lib/python3.11/dist-packages (from qiskit-terra==0.24.2->qiskit==0.43.3->qiskit[visualization]==0.43.3) (5.4.1)\n",
            "Requirement already satisfied: symengine<0.10,>=0.9 in /usr/local/lib/python3.11/dist-packages (from qiskit-terra==0.24.2->qiskit==0.43.3->qiskit[visualization]==0.43.3) (0.9.2)\n",
            "Requirement already satisfied: ipykernel>=4.5.1 in /usr/local/lib/python3.11/dist-packages (from ipywidgets>=7.3.0->qiskit[visualization]==0.43.3) (6.17.1)\n",
            "Requirement already satisfied: ipython-genutils~=0.2.0 in /usr/local/lib/python3.11/dist-packages (from ipywidgets>=7.3.0->qiskit[visualization]==0.43.3) (0.2.0)\n",
            "Requirement already satisfied: traitlets>=4.3.1 in /usr/local/lib/python3.11/dist-packages (from ipywidgets>=7.3.0->qiskit[visualization]==0.43.3) (5.7.1)\n",
            "Requirement already satisfied: widgetsnbextension~=3.6.0 in /usr/local/lib/python3.11/dist-packages (from ipywidgets>=7.3.0->qiskit[visualization]==0.43.3) (3.6.10)\n",
            "Requirement already satisfied: ipython>=4.0.0 in /usr/local/lib/python3.11/dist-packages (from ipywidgets>=7.3.0->qiskit[visualization]==0.43.3) (7.34.0)\n",
            "Requirement already satisfied: jupyterlab-widgets>=1.0.0 in /usr/local/lib/python3.11/dist-packages (from ipywidgets>=7.3.0->qiskit[visualization]==0.43.3) (3.0.15)\n",
            "Requirement already satisfied: contourpy>=1.0.1 in /usr/local/lib/python3.11/dist-packages (from matplotlib>=2.1->qiskit[visualization]==0.43.3) (1.3.2)\n",
            "Requirement already satisfied: cycler>=0.10 in /usr/local/lib/python3.11/dist-packages (from matplotlib>=2.1->qiskit[visualization]==0.43.3) (0.12.1)\n",
            "Requirement already satisfied: fonttools>=4.22.0 in /usr/local/lib/python3.11/dist-packages (from matplotlib>=2.1->qiskit[visualization]==0.43.3) (4.58.1)\n",
            "Requirement already satisfied: kiwisolver>=1.3.1 in /usr/local/lib/python3.11/dist-packages (from matplotlib>=2.1->qiskit[visualization]==0.43.3) (1.4.8)\n",
            "Requirement already satisfied: packaging>=20.0 in /usr/local/lib/python3.11/dist-packages (from matplotlib>=2.1->qiskit[visualization]==0.43.3) (24.2)\n",
            "Requirement already satisfied: pyparsing>=2.3.1 in /usr/local/lib/python3.11/dist-packages (from matplotlib>=2.1->qiskit[visualization]==0.43.3) (3.2.3)\n",
            "Requirement already satisfied: pandas>=1.2 in /usr/local/lib/python3.11/dist-packages (from seaborn>=0.9.0->qiskit[visualization]==0.43.3) (2.2.2)\n",
            "Requirement already satisfied: debugpy>=1.0 in /usr/local/lib/python3.11/dist-packages (from ipykernel>=4.5.1->ipywidgets>=7.3.0->qiskit[visualization]==0.43.3) (1.8.0)\n",
            "Requirement already satisfied: jupyter-client>=6.1.12 in /usr/local/lib/python3.11/dist-packages (from ipykernel>=4.5.1->ipywidgets>=7.3.0->qiskit[visualization]==0.43.3) (6.1.12)\n",
            "Requirement already satisfied: matplotlib-inline>=0.1 in /usr/local/lib/python3.11/dist-packages (from ipykernel>=4.5.1->ipywidgets>=7.3.0->qiskit[visualization]==0.43.3) (0.1.7)\n",
            "Requirement already satisfied: nest-asyncio in /usr/local/lib/python3.11/dist-packages (from ipykernel>=4.5.1->ipywidgets>=7.3.0->qiskit[visualization]==0.43.3) (1.6.0)\n",
            "Requirement already satisfied: pyzmq>=17 in /usr/local/lib/python3.11/dist-packages (from ipykernel>=4.5.1->ipywidgets>=7.3.0->qiskit[visualization]==0.43.3) (24.0.1)\n",
            "Requirement already satisfied: tornado>=6.1 in /usr/local/lib/python3.11/dist-packages (from ipykernel>=4.5.1->ipywidgets>=7.3.0->qiskit[visualization]==0.43.3) (6.4.2)\n",
            "Requirement already satisfied: setuptools>=18.5 in /usr/local/lib/python3.11/dist-packages (from ipython>=4.0.0->ipywidgets>=7.3.0->qiskit[visualization]==0.43.3) (75.2.0)\n",
            "Requirement already satisfied: jedi>=0.16 in /usr/local/lib/python3.11/dist-packages (from ipython>=4.0.0->ipywidgets>=7.3.0->qiskit[visualization]==0.43.3) (0.19.2)\n",
            "Requirement already satisfied: decorator in /usr/local/lib/python3.11/dist-packages (from ipython>=4.0.0->ipywidgets>=7.3.0->qiskit[visualization]==0.43.3) (4.4.2)\n",
            "Requirement already satisfied: pickleshare in /usr/local/lib/python3.11/dist-packages (from ipython>=4.0.0->ipywidgets>=7.3.0->qiskit[visualization]==0.43.3) (0.7.5)\n",
            "Requirement already satisfied: prompt-toolkit!=3.0.0,!=3.0.1,<3.1.0,>=2.0.0 in /usr/local/lib/python3.11/dist-packages (from ipython>=4.0.0->ipywidgets>=7.3.0->qiskit[visualization]==0.43.3) (3.0.51)\n",
            "Requirement already satisfied: backcall in /usr/local/lib/python3.11/dist-packages (from ipython>=4.0.0->ipywidgets>=7.3.0->qiskit[visualization]==0.43.3) (0.2.0)\n",
            "Requirement already satisfied: pexpect>4.3 in /usr/local/lib/python3.11/dist-packages (from ipython>=4.0.0->ipywidgets>=7.3.0->qiskit[visualization]==0.43.3) (4.9.0)\n",
            "Requirement already satisfied: pytz>=2020.1 in /usr/local/lib/python3.11/dist-packages (from pandas>=1.2->seaborn>=0.9.0->qiskit[visualization]==0.43.3) (2025.2)\n",
            "Requirement already satisfied: tzdata>=2022.7 in /usr/local/lib/python3.11/dist-packages (from pandas>=1.2->seaborn>=0.9.0->qiskit[visualization]==0.43.3) (2025.2)\n",
            "Requirement already satisfied: six>=1.5 in /usr/local/lib/python3.11/dist-packages (from python-dateutil>=2.8.0->qiskit-ibmq-provider==0.20.2->qiskit==0.43.3->qiskit[visualization]==0.43.3) (1.17.0)\n",
            "Requirement already satisfied: charset-normalizer<4,>=2 in /usr/local/lib/python3.11/dist-packages (from requests>=2.19->qiskit-ibmq-provider==0.20.2->qiskit==0.43.3->qiskit[visualization]==0.43.3) (3.4.2)\n",
            "Requirement already satisfied: idna<4,>=2.5 in /usr/local/lib/python3.11/dist-packages (from requests>=2.19->qiskit-ibmq-provider==0.20.2->qiskit==0.43.3->qiskit[visualization]==0.43.3) (3.10)\n",
            "Requirement already satisfied: certifi>=2017.4.17 in /usr/local/lib/python3.11/dist-packages (from requests>=2.19->qiskit-ibmq-provider==0.20.2->qiskit==0.43.3->qiskit[visualization]==0.43.3) (2025.4.26)\n",
            "Requirement already satisfied: ntlm-auth>=1.0.2 in /usr/local/lib/python3.11/dist-packages (from requests-ntlm<=1.1.0->qiskit-ibmq-provider==0.20.2->qiskit==0.43.3->qiskit[visualization]==0.43.3) (1.5.0)\n",
            "Requirement already satisfied: cryptography>=1.3 in /usr/local/lib/python3.11/dist-packages (from requests-ntlm<=1.1.0->qiskit-ibmq-provider==0.20.2->qiskit==0.43.3->qiskit[visualization]==0.43.3) (43.0.3)\n",
            "Requirement already satisfied: pbr>=2.0.0 in /usr/local/lib/python3.11/dist-packages (from stevedore>=3.0.0->qiskit-terra==0.24.2->qiskit==0.43.3->qiskit[visualization]==0.43.3) (6.1.1)\n",
            "Requirement already satisfied: mpmath<1.4,>=1.1.0 in /usr/local/lib/python3.11/dist-packages (from sympy>=1.3->qiskit-terra==0.24.2->qiskit==0.43.3->qiskit[visualization]==0.43.3) (1.3.0)\n",
            "Requirement already satisfied: notebook>=4.4.1 in /usr/local/lib/python3.11/dist-packages (from widgetsnbextension~=3.6.0->ipywidgets>=7.3.0->qiskit[visualization]==0.43.3) (6.5.7)\n",
            "Requirement already satisfied: cffi>=1.12 in /usr/local/lib/python3.11/dist-packages (from cryptography>=1.3->requests-ntlm<=1.1.0->qiskit-ibmq-provider==0.20.2->qiskit==0.43.3->qiskit[visualization]==0.43.3) (1.17.1)\n",
            "Requirement already satisfied: parso<0.9.0,>=0.8.4 in /usr/local/lib/python3.11/dist-packages (from jedi>=0.16->ipython>=4.0.0->ipywidgets>=7.3.0->qiskit[visualization]==0.43.3) (0.8.4)\n",
            "Requirement already satisfied: jupyter-core>=4.6.0 in /usr/local/lib/python3.11/dist-packages (from jupyter-client>=6.1.12->ipykernel>=4.5.1->ipywidgets>=7.3.0->qiskit[visualization]==0.43.3) (5.8.1)\n",
            "Requirement already satisfied: jinja2 in /usr/local/lib/python3.11/dist-packages (from notebook>=4.4.1->widgetsnbextension~=3.6.0->ipywidgets>=7.3.0->qiskit[visualization]==0.43.3) (3.1.6)\n",
            "Requirement already satisfied: argon2-cffi in /usr/local/lib/python3.11/dist-packages (from notebook>=4.4.1->widgetsnbextension~=3.6.0->ipywidgets>=7.3.0->qiskit[visualization]==0.43.3) (25.1.0)\n",
            "Requirement already satisfied: nbformat in /usr/local/lib/python3.11/dist-packages (from notebook>=4.4.1->widgetsnbextension~=3.6.0->ipywidgets>=7.3.0->qiskit[visualization]==0.43.3) (5.10.4)\n",
            "Requirement already satisfied: nbconvert>=5 in /usr/local/lib/python3.11/dist-packages (from notebook>=4.4.1->widgetsnbextension~=3.6.0->ipywidgets>=7.3.0->qiskit[visualization]==0.43.3) (7.16.6)\n",
            "Requirement already satisfied: Send2Trash>=1.8.0 in /usr/local/lib/python3.11/dist-packages (from notebook>=4.4.1->widgetsnbextension~=3.6.0->ipywidgets>=7.3.0->qiskit[visualization]==0.43.3) (1.8.3)\n",
            "Requirement already satisfied: terminado>=0.8.3 in /usr/local/lib/python3.11/dist-packages (from notebook>=4.4.1->widgetsnbextension~=3.6.0->ipywidgets>=7.3.0->qiskit[visualization]==0.43.3) (0.18.1)\n",
            "Requirement already satisfied: prometheus-client in /usr/local/lib/python3.11/dist-packages (from notebook>=4.4.1->widgetsnbextension~=3.6.0->ipywidgets>=7.3.0->qiskit[visualization]==0.43.3) (0.22.1)\n",
            "Requirement already satisfied: nbclassic>=0.4.7 in /usr/local/lib/python3.11/dist-packages (from notebook>=4.4.1->widgetsnbextension~=3.6.0->ipywidgets>=7.3.0->qiskit[visualization]==0.43.3) (1.3.1)\n",
            "Requirement already satisfied: ptyprocess>=0.5 in /usr/local/lib/python3.11/dist-packages (from pexpect>4.3->ipython>=4.0.0->ipywidgets>=7.3.0->qiskit[visualization]==0.43.3) (0.7.0)\n",
            "Requirement already satisfied: wcwidth in /usr/local/lib/python3.11/dist-packages (from prompt-toolkit!=3.0.0,!=3.0.1,<3.1.0,>=2.0.0->ipython>=4.0.0->ipywidgets>=7.3.0->qiskit[visualization]==0.43.3) (0.2.13)\n",
            "Requirement already satisfied: pycparser in /usr/local/lib/python3.11/dist-packages (from cffi>=1.12->cryptography>=1.3->requests-ntlm<=1.1.0->qiskit-ibmq-provider==0.20.2->qiskit==0.43.3->qiskit[visualization]==0.43.3) (2.22)\n",
            "Requirement already satisfied: platformdirs>=2.5 in /usr/local/lib/python3.11/dist-packages (from jupyter-core>=4.6.0->jupyter-client>=6.1.12->ipykernel>=4.5.1->ipywidgets>=7.3.0->qiskit[visualization]==0.43.3) (4.3.8)\n",
            "Requirement already satisfied: notebook-shim>=0.2.3 in /usr/local/lib/python3.11/dist-packages (from nbclassic>=0.4.7->notebook>=4.4.1->widgetsnbextension~=3.6.0->ipywidgets>=7.3.0->qiskit[visualization]==0.43.3) (0.2.4)\n",
            "Requirement already satisfied: beautifulsoup4 in /usr/local/lib/python3.11/dist-packages (from nbconvert>=5->notebook>=4.4.1->widgetsnbextension~=3.6.0->ipywidgets>=7.3.0->qiskit[visualization]==0.43.3) (4.13.4)\n",
            "Requirement already satisfied: bleach!=5.0.0 in /usr/local/lib/python3.11/dist-packages (from bleach[css]!=5.0.0->nbconvert>=5->notebook>=4.4.1->widgetsnbextension~=3.6.0->ipywidgets>=7.3.0->qiskit[visualization]==0.43.3) (6.2.0)\n",
            "Requirement already satisfied: defusedxml in /usr/local/lib/python3.11/dist-packages (from nbconvert>=5->notebook>=4.4.1->widgetsnbextension~=3.6.0->ipywidgets>=7.3.0->qiskit[visualization]==0.43.3) (0.7.1)\n",
            "Requirement already satisfied: jupyterlab-pygments in /usr/local/lib/python3.11/dist-packages (from nbconvert>=5->notebook>=4.4.1->widgetsnbextension~=3.6.0->ipywidgets>=7.3.0->qiskit[visualization]==0.43.3) (0.3.0)\n",
            "Requirement already satisfied: markupsafe>=2.0 in /usr/local/lib/python3.11/dist-packages (from nbconvert>=5->notebook>=4.4.1->widgetsnbextension~=3.6.0->ipywidgets>=7.3.0->qiskit[visualization]==0.43.3) (3.0.2)\n",
            "Requirement already satisfied: mistune<4,>=2.0.3 in /usr/local/lib/python3.11/dist-packages (from nbconvert>=5->notebook>=4.4.1->widgetsnbextension~=3.6.0->ipywidgets>=7.3.0->qiskit[visualization]==0.43.3) (3.1.3)\n",
            "Requirement already satisfied: nbclient>=0.5.0 in /usr/local/lib/python3.11/dist-packages (from nbconvert>=5->notebook>=4.4.1->widgetsnbextension~=3.6.0->ipywidgets>=7.3.0->qiskit[visualization]==0.43.3) (0.10.2)\n",
            "Requirement already satisfied: pandocfilters>=1.4.1 in /usr/local/lib/python3.11/dist-packages (from nbconvert>=5->notebook>=4.4.1->widgetsnbextension~=3.6.0->ipywidgets>=7.3.0->qiskit[visualization]==0.43.3) (1.5.1)\n",
            "Requirement already satisfied: fastjsonschema>=2.15 in /usr/local/lib/python3.11/dist-packages (from nbformat->notebook>=4.4.1->widgetsnbextension~=3.6.0->ipywidgets>=7.3.0->qiskit[visualization]==0.43.3) (2.21.1)\n",
            "Requirement already satisfied: jsonschema>=2.6 in /usr/local/lib/python3.11/dist-packages (from nbformat->notebook>=4.4.1->widgetsnbextension~=3.6.0->ipywidgets>=7.3.0->qiskit[visualization]==0.43.3) (4.24.0)\n",
            "Requirement already satisfied: argon2-cffi-bindings in /usr/local/lib/python3.11/dist-packages (from argon2-cffi->notebook>=4.4.1->widgetsnbextension~=3.6.0->ipywidgets>=7.3.0->qiskit[visualization]==0.43.3) (21.2.0)\n",
            "Requirement already satisfied: webencodings in /usr/local/lib/python3.11/dist-packages (from bleach!=5.0.0->bleach[css]!=5.0.0->nbconvert>=5->notebook>=4.4.1->widgetsnbextension~=3.6.0->ipywidgets>=7.3.0->qiskit[visualization]==0.43.3) (0.5.1)\n",
            "Requirement already satisfied: tinycss2<1.5,>=1.1.0 in /usr/local/lib/python3.11/dist-packages (from bleach[css]!=5.0.0->nbconvert>=5->notebook>=4.4.1->widgetsnbextension~=3.6.0->ipywidgets>=7.3.0->qiskit[visualization]==0.43.3) (1.4.0)\n",
            "Requirement already satisfied: attrs>=22.2.0 in /usr/local/lib/python3.11/dist-packages (from jsonschema>=2.6->nbformat->notebook>=4.4.1->widgetsnbextension~=3.6.0->ipywidgets>=7.3.0->qiskit[visualization]==0.43.3) (25.3.0)\n",
            "Requirement already satisfied: jsonschema-specifications>=2023.03.6 in /usr/local/lib/python3.11/dist-packages (from jsonschema>=2.6->nbformat->notebook>=4.4.1->widgetsnbextension~=3.6.0->ipywidgets>=7.3.0->qiskit[visualization]==0.43.3) (2025.4.1)\n",
            "Requirement already satisfied: referencing>=0.28.4 in /usr/local/lib/python3.11/dist-packages (from jsonschema>=2.6->nbformat->notebook>=4.4.1->widgetsnbextension~=3.6.0->ipywidgets>=7.3.0->qiskit[visualization]==0.43.3) (0.36.2)\n",
            "Requirement already satisfied: rpds-py>=0.7.1 in /usr/local/lib/python3.11/dist-packages (from jsonschema>=2.6->nbformat->notebook>=4.4.1->widgetsnbextension~=3.6.0->ipywidgets>=7.3.0->qiskit[visualization]==0.43.3) (0.25.1)\n",
            "Requirement already satisfied: jupyter-server<3,>=1.8 in /usr/local/lib/python3.11/dist-packages (from notebook-shim>=0.2.3->nbclassic>=0.4.7->notebook>=4.4.1->widgetsnbextension~=3.6.0->ipywidgets>=7.3.0->qiskit[visualization]==0.43.3) (1.16.0)\n",
            "Requirement already satisfied: soupsieve>1.2 in /usr/local/lib/python3.11/dist-packages (from beautifulsoup4->nbconvert>=5->notebook>=4.4.1->widgetsnbextension~=3.6.0->ipywidgets>=7.3.0->qiskit[visualization]==0.43.3) (2.7)\n",
            "Requirement already satisfied: typing-extensions>=4.0.0 in /usr/local/lib/python3.11/dist-packages (from beautifulsoup4->nbconvert>=5->notebook>=4.4.1->widgetsnbextension~=3.6.0->ipywidgets>=7.3.0->qiskit[visualization]==0.43.3) (4.14.0)\n",
            "Requirement already satisfied: anyio>=3.1.0 in /usr/local/lib/python3.11/dist-packages (from jupyter-server<3,>=1.8->notebook-shim>=0.2.3->nbclassic>=0.4.7->notebook>=4.4.1->widgetsnbextension~=3.6.0->ipywidgets>=7.3.0->qiskit[visualization]==0.43.3) (4.9.0)\n",
            "Requirement already satisfied: sniffio>=1.1 in /usr/local/lib/python3.11/dist-packages (from anyio>=3.1.0->jupyter-server<3,>=1.8->notebook-shim>=0.2.3->nbclassic>=0.4.7->notebook>=4.4.1->widgetsnbextension~=3.6.0->ipywidgets>=7.3.0->qiskit[visualization]==0.43.3) (1.3.1)\n",
            "Requirement already satisfied: qiskit-aer in /usr/local/lib/python3.11/dist-packages (0.12.2)\n",
            "Requirement already satisfied: qiskit-terra>=0.21.0 in /usr/local/lib/python3.11/dist-packages (from qiskit-aer) (0.24.2)\n",
            "Requirement already satisfied: numpy>=1.16.3 in /usr/local/lib/python3.11/dist-packages (from qiskit-aer) (1.23.5)\n",
            "Requirement already satisfied: scipy>=1.0 in /usr/local/lib/python3.11/dist-packages (from qiskit-aer) (1.15.3)\n",
            "Requirement already satisfied: rustworkx>=0.12.0 in /usr/local/lib/python3.11/dist-packages (from qiskit-terra>=0.21.0->qiskit-aer) (0.16.0)\n",
            "Requirement already satisfied: ply>=3.10 in /usr/local/lib/python3.11/dist-packages (from qiskit-terra>=0.21.0->qiskit-aer) (3.11)\n",
            "Requirement already satisfied: psutil>=5 in /usr/local/lib/python3.11/dist-packages (from qiskit-terra>=0.21.0->qiskit-aer) (5.9.5)\n",
            "Requirement already satisfied: sympy>=1.3 in /usr/local/lib/python3.11/dist-packages (from qiskit-terra>=0.21.0->qiskit-aer) (1.13.1)\n",
            "Requirement already satisfied: dill>=0.3 in /usr/local/lib/python3.11/dist-packages (from qiskit-terra>=0.21.0->qiskit-aer) (0.3.7)\n",
            "Requirement already satisfied: python-dateutil>=2.8.0 in /usr/local/lib/python3.11/dist-packages (from qiskit-terra>=0.21.0->qiskit-aer) (2.9.0.post0)\n",
            "Requirement already satisfied: stevedore>=3.0.0 in /usr/local/lib/python3.11/dist-packages (from qiskit-terra>=0.21.0->qiskit-aer) (5.4.1)\n",
            "Requirement already satisfied: symengine<0.10,>=0.9 in /usr/local/lib/python3.11/dist-packages (from qiskit-terra>=0.21.0->qiskit-aer) (0.9.2)\n",
            "Requirement already satisfied: six>=1.5 in /usr/local/lib/python3.11/dist-packages (from python-dateutil>=2.8.0->qiskit-terra>=0.21.0->qiskit-aer) (1.17.0)\n",
            "Requirement already satisfied: pbr>=2.0.0 in /usr/local/lib/python3.11/dist-packages (from stevedore>=3.0.0->qiskit-terra>=0.21.0->qiskit-aer) (6.1.1)\n",
            "Requirement already satisfied: mpmath<1.4,>=1.1.0 in /usr/local/lib/python3.11/dist-packages (from sympy>=1.3->qiskit-terra>=0.21.0->qiskit-aer) (1.3.0)\n",
            "Requirement already satisfied: setuptools in /usr/local/lib/python3.11/dist-packages (from pbr>=2.0.0->stevedore>=3.0.0->qiskit-terra>=0.21.0->qiskit-aer) (75.2.0)\n"
          ]
        }
      ],
      "source": [
        "import IPython\n",
        "\n",
        "def in_colab():\n",
        "    try:\n",
        "        import google.colab\n",
        "        return True\n",
        "    except:\n",
        "        return False\n",
        "\n",
        "SolutionToTask1 = lambda: IPython.display.display(IPython.display.Javascript('window.open(\"{url}\");'.format(url='https://colab.research.google.com/drive/1HNqmNvoPa7CBZdjOcmFb9N0zIWVYAwKR#scrollTo=cFBvm44rYSTU' if in_colab() else 'Multiple_Control_Constructions_Solutions.ipynb#task1')))\n",
        "SolutionToTask2 = lambda: IPython.display.display(IPython.display.Javascript('window.open(\"{url}\");'.format(url='https://colab.research.google.com/drive/1HNqmNvoPa7CBZdjOcmFb9N0zIWVYAwKR#scrollTo=iSCKmgCxYSTW' if in_colab() else 'Multiple_Control_Constructions_Solutions.ipynb#task2')))\n",
        "SolutionToTask3 = lambda: IPython.display.display(IPython.display.Javascript('window.open(\"{url}\");'.format(url='https://colab.research.google.com/drive/1HNqmNvoPa7CBZdjOcmFb9N0zIWVYAwKR#scrollTo=e_tcpFNyYSTW' if in_colab() else 'Multiple_Control_Constructions_Solutions.ipynb#task3')))\n",
        "SolutionToTask4 = lambda: IPython.display.display(IPython.display.Javascript('window.open(\"{url}\");'.format(url='https://colab.research.google.com/drive/1HNqmNvoPa7CBZdjOcmFb9N0zIWVYAwKR#scrollTo=13fCrLY8YSTW' if in_colab() else 'Multiple_Control_Constructions_Solutions.ipynb#task4')))\n",
        "\n",
        "if in_colab():\n",
        "    !pip install qiskit[visualization]==0.43.3\n",
        "    !pip install qiskit-aer"
      ]
    },
    {
      "cell_type": "markdown",
      "metadata": {
        "id": "YBL1IHvHY4Ft"
      },
      "source": [
        "<h3>Task 1</h3>\n",
        "\n",
        "Implement each of the following operators in Qiskit by using three qubits. Verify your implementation by using \"unitary_simulator\" backend. <br><br>\n",
        "\n",
        "<font size=\"-2\">\n",
        "$$\n",
        "    C_0C_0NOT = \\mymatrix{cc|cc|cc|cc}{0 & \\bluebit{1} & 0 & 0 & 0 & 0 & 0 & 0 \\\\ \\bluebit{1} & 0 & 0 & 0 & 0 & 0 & 0 & 0 \\\\ \\hline 0 & 0 & \\blackbit{1} & 0 & 0 & 0 & 0 & 0 \\\\ 0 & 0 & 0 & \\blackbit{1} & 0 & 0 & 0 & 0 \\\\ \\hline 0 & 0 & 0 & 0 & \\blackbit{1} & 0 & 0 & 0 \\\\ 0 & 0 & 0 & 0 & 0 & \\blackbit{1} & 0 & 0 \\\\ \\hline 0 & 0 & 0 & 0 & 0 & 0 & \\blackbit{1} & 0 \\\\ 0 & 0 & 0 & 0 & 0 & 0 & 0 & \\blackbit{1}}, ~~\n",
        "    C_0C_1NOT = \\mymatrix{cc|cc|cc|cc}{ \\blackbit{1} & 0 & 0 & 0 & 0 & 0 & 0 & 0 \\\\ 0 & \\blackbit{1} & 0 & 0 & 0 & 0 & 0 & 0 \\\\ \\hline 0 & 0 & 0 & \\bluebit{1}  & 0 & 0 & 0 & 0 \\\\ 0 & 0 & \\bluebit{1}  & 0 & 0 & 0 & 0 & 0 \\\\ \\hline 0 & 0 & 0 & 0 & \\blackbit{1} & 0 & 0 & 0 \\\\ 0 & 0 & 0 & 0 & 0 & \\blackbit{1} & 0 & 0 \\\\ \\hline 0 & 0 & 0 & 0 & 0 & 0 & \\blackbit{1} & 0 \\\\ 0 & 0 & 0 & 0 & 0 & 0 & 0 & \\blackbit{1}}, ~~ \\mbox{and} ~~\n",
        "    C_1C_0NOT = \\mymatrix{cc|cc|cc|cc}{\\blackbit{1} & 0 & 0 & 0 & 0 & 0 & 0 & 0 \\\\ 0 & \\blackbit{1} & 0 & 0 & 0 & 0 & 0 & 0 \\\\ \\hline 0 & 0 & \\blackbit{1} & 0 & 0 & 0 & 0 & 0 \\\\ 0 & 0 & 0 & \\blackbit{1} & 0 & 0 & 0 & 0 \\\\ \\hline 0 & 0 & 0 & 0 & 0 & \\bluebit{1} & 0 & 0 \\\\ 0 & 0 & 0 & 0 & \\bluebit{1} & 0 & 0 & 0 \\\\ \\hline 0 & 0 & 0 & 0 & 0 & 0 & \\blackbit{1} & 0 \\\\ 0 & 0 & 0 & 0 & 0 & 0 & 0 & \\blackbit{1}}.   \n",
        "$$\n",
        "    </font>"
      ]
    },
    {
      "cell_type": "code",
      "execution_count": 9,
      "metadata": {
        "id": "0zp0aDC1Y4Ft",
        "outputId": "a49ba578-f5e1-4584-83bc-ee3308690e04",
        "colab": {
          "base_uri": "https://localhost:8080/",
          "height": 431
        }
      },
      "outputs": [
        {
          "output_type": "stream",
          "name": "stdout",
          "text": [
            "C0C0NOT\n"
          ]
        },
        {
          "output_type": "display_data",
          "data": {
            "text/plain": [
              "<Figure size 371.107x284.278 with 1 Axes>"
            ],
            "image/png": "[encoded data removed]"
          },
          "metadata": {}
        },
        {
          "output_type": "stream",
          "name": "stdout",
          "text": [
            "0.0  1.0  0.0  0.0  0.0  0.0  0.0  0.0  \n",
            "1.0  0.0  0.0  0.0  0.0  0.0  0.0  0.0  \n",
            "0.0  0.0  1.0  0.0  0.0  0.0  0.0  0.0  \n",
            "0.0  0.0  0.0  1.0  0.0  0.0  0.0  0.0  \n",
            "0.0  0.0  0.0  0.0  1.0  0.0  0.0  0.0  \n",
            "0.0  0.0  0.0  0.0  0.0  1.0  0.0  0.0  \n",
            "0.0  0.0  0.0  0.0  0.0  0.0  1.0  0.0  \n",
            "0.0  0.0  0.0  0.0  0.0  0.0  0.0  1.0  \n"
          ]
        }
      ],
      "source": [
        "#\n",
        "# your solution is here\n",
        "#\n",
        "from qiskit import QuantumRegister, ClassicalRegister, QuantumCircuit, execute, Aer\n",
        "qc = QuantumCircuit(3)\n",
        "\n",
        "print(\"C0C0NOT\")\n",
        "qc.x(2)\n",
        "qc.x(1)\n",
        "qc.ccx(2, 1, 0)\n",
        "qc.x(2)\n",
        "qc.x(1)\n",
        "\n",
        "display(qc.draw(output = 'mpl', reverse_bits = True))\n",
        "\n",
        "job = execute(qc, Aer.get_backend('unitary_simulator'), shots = 1)\n",
        "current_unitary = job.result().get_unitary(qc, decimals = 3).data\n",
        "\n",
        "for row in current_unitary:\n",
        "  column = \"\"\n",
        "  for element in row:\n",
        "    column = column + str(round(element.real, 2)) + \"  \"\n",
        "  print(column)"
      ]
    },
    {
      "cell_type": "code",
      "source": [
        "from qiskit import QuantumRegister, ClassicalRegister, QuantumCircuit, execute, Aer\n",
        "qc = QuantumCircuit(3)\n",
        "\n",
        "print(\"C0C0NOT\")\n",
        "qc.x(2)\n",
        "qc.ccx(2, 1, 0)\n",
        "qc.x(2)\n",
        "\n",
        "display(qc.draw(output = 'mpl', reverse_bits = True))\n",
        "\n",
        "job = execute(qc, Aer.get_backend('unitary_simulator'), shots = 1)\n",
        "current_unitary = job.result().get_unitary(qc, decimals = 3).data\n",
        "\n",
        "for row in current_unitary:\n",
        "  column = \"\"\n",
        "  for element in row:\n",
        "    column = column + str(round(element.real, 2)) + \"  \"\n",
        "  print(column)"
      ],
      "metadata": {
        "id": "jFRi9ACxt4OB",
        "outputId": "4747a17e-4dc5-4022-e96e-32bd5a5b45db",
        "colab": {
          "base_uri": "https://localhost:8080/",
          "height": 431
        }
      },
      "execution_count": 10,
      "outputs": [
        {
          "output_type": "stream",
          "name": "stdout",
          "text": [
            "C0C0NOT\n"
          ]
        },
        {
          "output_type": "display_data",
          "data": {
            "text/plain": [
              "<Figure size 371.107x284.278 with 1 Axes>"
            ],
            "image/png": "[encoded data removed]"
          },
          "metadata": {}
        },
        {
          "output_type": "stream",
          "name": "stdout",
          "text": [
            "1.0  0.0  0.0  0.0  0.0  0.0  0.0  0.0  \n",
            "0.0  1.0  0.0  0.0  0.0  0.0  0.0  0.0  \n",
            "0.0  0.0  0.0  1.0  0.0  0.0  0.0  0.0  \n",
            "0.0  0.0  1.0  0.0  0.0  0.0  0.0  0.0  \n",
            "0.0  0.0  0.0  0.0  1.0  0.0  0.0  0.0  \n",
            "0.0  0.0  0.0  0.0  0.0  1.0  0.0  0.0  \n",
            "0.0  0.0  0.0  0.0  0.0  0.0  1.0  0.0  \n",
            "0.0  0.0  0.0  0.0  0.0  0.0  0.0  1.0  \n"
          ]
        }
      ]
    },
    {
      "cell_type": "code",
      "source": [
        "from qiskit import QuantumRegister, ClassicalRegister, QuantumCircuit, execute, Aer\n",
        "qc = QuantumCircuit(3)\n",
        "\n",
        "print(\"C0C0NOT\")\n",
        "qc.x(1)\n",
        "qc.ccx(2, 1, 0)\n",
        "qc.x(1)\n",
        "\n",
        "display(qc.draw(output = 'mpl', reverse_bits = True))\n",
        "\n",
        "job = execute(qc, Aer.get_backend('unitary_simulator'), shots = 1)\n",
        "current_unitary = job.result().get_unitary(qc, decimals = 3).data\n",
        "\n",
        "for row in current_unitary:\n",
        "  column = \"\"\n",
        "  for element in row:\n",
        "    column = column + str(round(element.real, 2)) + \"  \"\n",
        "  print(column)"
      ],
      "metadata": {
        "id": "4D7HEzUpuCtH",
        "outputId": "096ffda5-6ddd-4dc7-cbcf-227bca5e31b4",
        "colab": {
          "base_uri": "https://localhost:8080/",
          "height": 431
        }
      },
      "execution_count": 11,
      "outputs": [
        {
          "output_type": "stream",
          "name": "stdout",
          "text": [
            "C0C0NOT\n"
          ]
        },
        {
          "output_type": "display_data",
          "data": {
            "text/plain": [
              "<Figure size 371.107x284.278 with 1 Axes>"
            ],
            "image/png": "[encoded data removed]"
          },
          "metadata": {}
        },
        {
          "output_type": "stream",
          "name": "stdout",
          "text": [
            "1.0  0.0  0.0  0.0  0.0  0.0  0.0  0.0  \n",
            "0.0  1.0  0.0  0.0  0.0  0.0  0.0  0.0  \n",
            "0.0  0.0  1.0  0.0  0.0  0.0  0.0  0.0  \n",
            "0.0  0.0  0.0  1.0  0.0  0.0  0.0  0.0  \n",
            "0.0  0.0  0.0  0.0  0.0  1.0  0.0  0.0  \n",
            "0.0  0.0  0.0  0.0  1.0  0.0  0.0  0.0  \n",
            "0.0  0.0  0.0  0.0  0.0  0.0  1.0  0.0  \n",
            "0.0  0.0  0.0  0.0  0.0  0.0  0.0  1.0  \n"
          ]
        }
      ]
    },
    {
      "cell_type": "markdown",
      "metadata": {
        "id": "U2BgX0OyY4Ft"
      },
      "source": [
        "To check out our solution, run the next cell:"
      ]
    },
    {
      "cell_type": "code",
      "execution_count": null,
      "metadata": {
        "id": "oE-PzxqMY4Ft",
        "colab": {
          "base_uri": "https://localhost:8080/",
          "height": 17
        },
        "outputId": "dece92c8-01ae-49f3-9a33-03d713a434c7"
      },
      "outputs": [
        {
          "output_type": "display_data",
          "data": {
            "text/plain": [
              "<IPython.core.display.Javascript object>"
            ],
            "application/javascript": [
              "window.open(\"https://colab.research.google.com/drive/1HNqmNvoPa7CBZdjOcmFb9N0zIWVYAwKR#scrollTo=cFBvm44rYSTU\");"
            ]
          },
          "metadata": {}
        }
      ],
      "source": [
        "SolutionToTask1()  # show solution for task 1"
      ]
    },
    {
      "cell_type": "markdown",
      "metadata": {
        "id": "W-HItpH7Y4Fu"
      },
      "source": [
        "<h3>Task 2</h3>\n",
        "\n",
        "Provide an implementation of the NOT operator controlled by 4 qubits ($CCCCNOT$) in Qiskit. Verify its correctness by executing your solution on all possible inputs. (See the above example)\n",
        "\n",
        "*You may use two auxiliary qubits.*"
      ]
    },
    {
      "cell_type": "code",
      "source": [
        "from qiskit import QuantumRegister, ClassicalRegister, QuantumCircuit, execute, Aer\n",
        "\n",
        "qaux = QuantumRegister(2, 'qaux')\n",
        "q = QuantumRegister(5, 'q')\n",
        "c = ClassicalRegister(5, 'c')\n",
        "qc = QuantumCircuit(q, qaux, c)\n",
        "\n",
        "qc.ccx(q[4], q[3], qaux[1])\n",
        "qc.ccx(q[2], q[1], qaux[0])\n",
        "qc.ccx(qaux[1], qaux[0], q[0])\n",
        "qc.ccx(q[4], q[3], qaux[1])\n",
        "qc.ccx(q[2], q[1], qaux[0])\n",
        "\n",
        "qc.draw(output = 'mpl', reverse_bits = True)"
      ],
      "metadata": {
        "id": "gRQkDl6Ey5YD",
        "outputId": "3fec56a9-d08a-4d3b-b41e-b352c53b5c66",
        "colab": {
          "base_uri": "https://localhost:8080/",
          "height": 855
        }
      },
      "execution_count": 17,
      "outputs": [
        {
          "output_type": "execute_result",
          "data": {
            "text/plain": [
              "<Figure size 591.214x1036.78 with 1 Axes>"
            ],
            "image/png": "[encoded data removed]"
          },
          "metadata": {},
          "execution_count": 17
        }
      ]
    },
    {
      "cell_type": "code",
      "execution_count": 20,
      "metadata": {
        "id": "QxsNNjwvY4Fu",
        "outputId": "46863bea-180c-4a7c-c037-815e582d53bc",
        "colab": {
          "base_uri": "https://localhost:8080/"
        }
      },
      "outputs": [
        {
          "output_type": "stream",
          "name": "stdout",
          "text": [
            "input  ---> output\n",
            "0000 0 ---> 0000 0\n",
            "0000 1 ---> 0000 1\n",
            "0001 0 ---> 0001 0\n",
            "0001 1 ---> 0001 1\n",
            "0010 0 ---> 0010 0\n",
            "0010 1 ---> 0010 1\n",
            "0011 0 ---> 0011 0\n",
            "0011 1 ---> 0011 1\n",
            "0100 0 ---> 0100 0\n",
            "0100 1 ---> 0100 1\n",
            "0101 0 ---> 0101 0\n",
            "0101 1 ---> 0101 1\n",
            "0110 0 ---> 0110 0\n",
            "0110 1 ---> 0110 1\n",
            "0111 0 ---> 0111 0\n",
            "0111 1 ---> 0111 1\n",
            "1000 0 ---> 1000 0\n",
            "1000 1 ---> 1000 1\n",
            "1001 0 ---> 1001 0\n",
            "1001 1 ---> 1001 1\n",
            "1010 0 ---> 1010 0\n",
            "1010 1 ---> 1010 1\n",
            "1011 0 ---> 1011 0\n",
            "1011 1 ---> 1011 1\n",
            "1100 0 ---> 1100 0\n",
            "1100 1 ---> 1100 1\n",
            "1101 0 ---> 1101 0\n",
            "1101 1 ---> 1101 1\n",
            "1110 0 ---> 1110 0\n",
            "1110 1 ---> 1110 1\n",
            "1111 0 ---> 1111 1 The input and output are different\n",
            "1111 1 ---> 1111 0 The input and output are different\n"
          ]
        }
      ],
      "source": [
        "#\n",
        "# your solution is here\n",
        "#\n",
        "from qiskit import QuantumRegister, ClassicalRegister, QuantumCircuit, execute, Aer\n",
        "\n",
        "inputs = []\n",
        "for q4 in ['0', '1']:\n",
        "  for q3 in ['0', '1']:\n",
        "    for q2 in ['0', '1']:\n",
        "      for q1 in ['0', '1']:\n",
        "        for q0 in ['0', '1']:\n",
        "          inputs.append(q4 + q3 + q2 + q1 + q0)\n",
        "\n",
        "print(\"input  ---> output\")\n",
        "for input in inputs:\n",
        "  qaux = QuantumRegister(2, 'qaux')\n",
        "  q = QuantumRegister(5, 'q')\n",
        "  c = ClassicalRegister(5, 'c')\n",
        "  qc = QuantumCircuit(q, qaux, c)\n",
        "\n",
        "  if input[0] == '1': qc.x(q[4])\n",
        "  if input[1] == '1': qc.x(q[3])\n",
        "  if input[2] == '1': qc.x(q[2])\n",
        "  if input[3] == '1': qc.x(q[1])\n",
        "  if input[4] == '1': qc.x(q[0])\n",
        "  qc.barrier()\n",
        "\n",
        "  qc.ccx(q[4], q[3], qaux[1])\n",
        "  qc.ccx(q[2], q[1], qaux[0])\n",
        "  qc.ccx(qaux[1], qaux[0], q[0])\n",
        "  qc.ccx(q[4], q[3], qaux[1])\n",
        "  qc.ccx(q[2], q[1], qaux[0])\n",
        "  qc.barrier()\n",
        "\n",
        "  qc.measure(q, c)\n",
        "\n",
        "  job = execute(qc, Aer.get_backend('qasm_simulator'), shots = 1)\n",
        "  counts = job.result().get_counts(qc)\n",
        "  for key in counts: output = key\n",
        "  statement = input[0:4] + \" \" + input[4] + \" ---> \" + output[0:4] + \" \" + output[4]\n",
        "  if input != output: statement = statement + \" The input and output are different\"\n",
        "  print(statement)"
      ]
    },
    {
      "cell_type": "markdown",
      "metadata": {
        "id": "S1S8rc1MY4Fu"
      },
      "source": [
        "To check out our solution, run the next cell:"
      ]
    },
    {
      "cell_type": "code",
      "execution_count": null,
      "metadata": {
        "id": "x2SQE42HY4Fu",
        "colab": {
          "base_uri": "https://localhost:8080/",
          "height": 17
        },
        "outputId": "792b5444-5fb7-4ed4-cd5a-ffcb85abbe8e"
      },
      "outputs": [
        {
          "output_type": "display_data",
          "data": {
            "text/plain": [
              "<IPython.core.display.Javascript object>"
            ],
            "application/javascript": [
              "window.open(\"https://colab.research.google.com/drive/1HNqmNvoPa7CBZdjOcmFb9N0zIWVYAwKR#scrollTo=iSCKmgCxYSTW\");"
            ]
          },
          "metadata": {}
        }
      ],
      "source": [
        "SolutionToTask2()  # show solution for task 2"
      ]
    },
    {
      "cell_type": "markdown",
      "metadata": {
        "id": "iYsV4BAYY4Fu"
      },
      "source": [
        "<h3>Task 3</h3>\n",
        "\n",
        "Repeat Task 2 for the operator $C_1C_0C_1C_0NOT$: $NOT$ operator is applied to the target qubit if the four control qubits are in state $ \\ket{1010} $."
      ]
    },
    {
      "cell_type": "code",
      "source": [
        "from qiskit import QuantumRegister, ClassicalRegister, QuantumCircuit, execute, Aer\n",
        "\n",
        "qaux = QuantumRegister(2, 'qaux')\n",
        "q = QuantumRegister(5, 'q')\n",
        "c = ClassicalRegister(5, 'c')\n",
        "qc = QuantumCircuit(q, qaux, c)\n",
        "\n",
        "qc.x(q[3])\n",
        "qc.x(q[1])\n",
        "\n",
        "qc.ccx(q[4], q[3], qaux[1])\n",
        "qc.ccx(q[2], q[1], qaux[0])\n",
        "qc.ccx(qaux[1], qaux[0], q[0])\n",
        "qc.ccx(q[4], q[3], qaux[1])\n",
        "qc.ccx(q[2], q[1], qaux[0])\n",
        "\n",
        "qc.x(q[3])\n",
        "qc.x(q[1])\n",
        "\n",
        "qc.draw(output = 'mpl', reverse_bits = True)"
      ],
      "metadata": {
        "id": "Om2bTZ3U0HlO",
        "outputId": "779487da-4629-48d2-d0c5-b7022026b160",
        "colab": {
          "base_uri": "https://localhost:8080/",
          "height": 835
        }
      },
      "execution_count": 22,
      "outputs": [
        {
          "output_type": "execute_result",
          "data": {
            "text/plain": [
              "<Figure size 758.436x1036.78 with 1 Axes>"
            ],
            "image/png": "[encoded data removed]"
          },
          "metadata": {},
          "execution_count": 22
        }
      ]
    },
    {
      "cell_type": "code",
      "execution_count": 23,
      "metadata": {
        "id": "eI5bDXoGY4Fu",
        "outputId": "a3e554de-fce5-4c0b-b24f-3787070665ab",
        "colab": {
          "base_uri": "https://localhost:8080/"
        }
      },
      "outputs": [
        {
          "output_type": "stream",
          "name": "stdout",
          "text": [
            "input  ---> output\n",
            "0000 0 ---> 0000 0\n",
            "0000 1 ---> 0000 1\n",
            "0001 0 ---> 0001 0\n",
            "0001 1 ---> 0001 1\n",
            "0010 0 ---> 0010 0\n",
            "0010 1 ---> 0010 1\n",
            "0011 0 ---> 0011 0\n",
            "0011 1 ---> 0011 1\n",
            "0100 0 ---> 0100 0\n",
            "0100 1 ---> 0100 1\n",
            "0101 0 ---> 0101 0\n",
            "0101 1 ---> 0101 1\n",
            "0110 0 ---> 0110 0\n",
            "0110 1 ---> 0110 1\n",
            "0111 0 ---> 0111 0\n",
            "0111 1 ---> 0111 1\n",
            "1000 0 ---> 1000 0\n",
            "1000 1 ---> 1000 1\n",
            "1001 0 ---> 1001 0\n",
            "1001 1 ---> 1001 1\n",
            "1010 0 ---> 1010 1 The input and output are different\n",
            "1010 1 ---> 1010 0 The input and output are different\n",
            "1011 0 ---> 1011 0\n",
            "1011 1 ---> 1011 1\n",
            "1100 0 ---> 1100 0\n",
            "1100 1 ---> 1100 1\n",
            "1101 0 ---> 1101 0\n",
            "1101 1 ---> 1101 1\n",
            "1110 0 ---> 1110 0\n",
            "1110 1 ---> 1110 1\n",
            "1111 0 ---> 1111 0\n",
            "1111 1 ---> 1111 1\n"
          ]
        }
      ],
      "source": [
        "#\n",
        "# your solution is here\n",
        "#\n",
        "#\n",
        "# your solution is here\n",
        "#\n",
        "from qiskit import QuantumRegister, ClassicalRegister, QuantumCircuit, execute, Aer\n",
        "\n",
        "inputs = []\n",
        "for q4 in ['0', '1']:\n",
        "  for q3 in ['0', '1']:\n",
        "    for q2 in ['0', '1']:\n",
        "      for q1 in ['0', '1']:\n",
        "        for q0 in ['0', '1']:\n",
        "          inputs.append(q4 + q3 + q2 + q1 + q0)\n",
        "\n",
        "print(\"input  ---> output\")\n",
        "for input in inputs:\n",
        "  qaux = QuantumRegister(2, 'qaux')\n",
        "  q = QuantumRegister(5, 'q')\n",
        "  c = ClassicalRegister(5, 'c')\n",
        "  qc = QuantumCircuit(q, qaux, c)\n",
        "\n",
        "  if input[0] == '1': qc.x(q[4])\n",
        "  if input[1] == '1': qc.x(q[3])\n",
        "  if input[2] == '1': qc.x(q[2])\n",
        "  if input[3] == '1': qc.x(q[1])\n",
        "  if input[4] == '1': qc.x(q[0])\n",
        "  qc.barrier()\n",
        "\n",
        "  qc.x(q[3])\n",
        "  qc.x(q[1])\n",
        "\n",
        "  qc.ccx(q[4], q[3], qaux[1])\n",
        "  qc.ccx(q[2], q[1], qaux[0])\n",
        "  qc.ccx(qaux[1], qaux[0], q[0])\n",
        "  qc.ccx(q[4], q[3], qaux[1])\n",
        "  qc.ccx(q[2], q[1], qaux[0])\n",
        "  qc.barrier()\n",
        "\n",
        "  qc.x(q[3])\n",
        "  qc.x(q[1])\n",
        "\n",
        "  qc.measure(q, c)\n",
        "\n",
        "  job = execute(qc, Aer.get_backend('qasm_simulator'), shots = 1)\n",
        "  counts = job.result().get_counts(qc)\n",
        "  for key in counts: output = key\n",
        "  statement = input[0:4] + \" \" + input[4] + \" ---> \" + output[0:4] + \" \" + output[4]\n",
        "  if input != output: statement = statement + \" The input and output are different\"\n",
        "  print(statement)"
      ]
    },
    {
      "cell_type": "markdown",
      "metadata": {
        "id": "kWee9PLqY4Fu"
      },
      "source": [
        "To check out our solution, run the next cell:"
      ]
    },
    {
      "cell_type": "code",
      "execution_count": null,
      "metadata": {
        "id": "h_K2cNw1Y4Fu",
        "colab": {
          "base_uri": "https://localhost:8080/",
          "height": 17
        },
        "outputId": "7e6f6031-453c-4fb4-e234-fb825d4dd627"
      },
      "outputs": [
        {
          "output_type": "display_data",
          "data": {
            "text/plain": [
              "<IPython.core.display.Javascript object>"
            ],
            "application/javascript": [
              "window.open(\"https://colab.research.google.com/drive/1HNqmNvoPa7CBZdjOcmFb9N0zIWVYAwKR#scrollTo=e_tcpFNyYSTW\");"
            ]
          },
          "metadata": {}
        }
      ],
      "source": [
        "SolutionToTask3()  # show solution for task 3"
      ]
    },
    {
      "cell_type": "markdown",
      "metadata": {
        "id": "alT4H_s6Y4Fu"
      },
      "source": [
        "<h3>Task 4 (extra)</h3>\n",
        "\n",
        "Write a function taking a binary string \"$ b_1 b_2 b_3 b_4$ that repeats Task 2 for the operator $ C_{b_1}C_{b_2}C_{b_3}C_{b_4}NOT $ gate, where $ b_1,\\ldots,b_4$ are bits and $ NOT $ operator is applied to target qubit if the control qubits are in state $ \\ket{b_1b_2b_3b_4} $."
      ]
    },
    {
      "cell_type": "code",
      "execution_count": 27,
      "metadata": {
        "id": "PnPVzd6IY4Fu"
      },
      "outputs": [],
      "source": [
        "from qiskit import QuantumRegister, ClassicalRegister, QuantumCircuit, execute, Aer\n",
        "\n",
        "def c4not(control_state='1111'):\n",
        "    #\n",
        "    # your code is here\n",
        "    #\n",
        "    print(f\"control state is {control_state}\")\n",
        "    qaux = QuantumRegister(2, 'qaux')\n",
        "    q = QuantumRegister(5, 'q')\n",
        "    c = ClassicalRegister(5, 'c')\n",
        "    qc = QuantumCircuit(q, qaux, c)\n",
        "\n",
        "    for i in range(len(control_state)):\n",
        "      if control_state[i] == '0': qc.x(q[4 - i])\n",
        "\n",
        "    qc.ccx(q[4], q[3], qaux[1])\n",
        "    qc.ccx(q[2], q[1], qaux[0])\n",
        "    qc.ccx(qaux[1], qaux[0], q[0])\n",
        "    qc.ccx(q[4], q[3], qaux[1])\n",
        "    qc.ccx(q[2], q[1], qaux[0])\n",
        "\n",
        "    for i in range(len(control_state)):\n",
        "      if control_state[i] == '0': qc.x(q[4 - i])\n",
        "\n",
        "    display(qc.draw(output = 'mpl', reverse_bits = True))\n",
        "\n",
        "    inputs = []\n",
        "    for q4 in ['0', '1']:\n",
        "      for q3 in ['0', '1']:\n",
        "        for q2 in ['0', '1']:\n",
        "          for q1 in ['0', '1']:\n",
        "            for q0 in ['0', '1']:\n",
        "              inputs.append(q4 + q3 + q2 + q1 + q0)\n",
        "\n",
        "    print(f\"control state is {control_state}\")\n",
        "    print(\"input  ---> output\")\n",
        "    for input in inputs:\n",
        "      qaux = QuantumRegister(2, 'qaux')\n",
        "      q = QuantumRegister(5, 'q')\n",
        "      c = ClassicalRegister(5, 'c')\n",
        "      qc = QuantumCircuit(q, qaux, c)\n",
        "\n",
        "      if input[0] == '1': qc.x(q[4])\n",
        "      if input[1] == '1': qc.x(q[3])\n",
        "      if input[2] == '1': qc.x(q[2])\n",
        "      if input[3] == '1': qc.x(q[1])\n",
        "      if input[4] == '1': qc.x(q[0])\n",
        "      qc.barrier()\n",
        "\n",
        "      for i in range(len(control_state)):\n",
        "        if control_state[i] == '0': qc.x(q[4 - i])\n",
        "\n",
        "      qc.ccx(q[4], q[3], qaux[1])\n",
        "      qc.ccx(q[2], q[1], qaux[0])\n",
        "      qc.ccx(qaux[1], qaux[0], q[0])\n",
        "      qc.ccx(q[4], q[3], qaux[1])\n",
        "      qc.ccx(q[2], q[1], qaux[0])\n",
        "      qc.barrier()\n",
        "\n",
        "      for i in range(len(control_state)):\n",
        "        if control_state[i] == '0': qc.x(q[4 - i])\n",
        "\n",
        "      qc.measure(q, c)\n",
        "\n",
        "      job = execute(qc, Aer.get_backend('qasm_simulator'), shots = 1)\n",
        "      counts = job.result().get_counts(qc)\n",
        "      for key in counts: output = key\n",
        "      statement = input[0:4] + \" \" + input[4] + \" ---> \" + output[0:4] + \" \" + output[4]\n",
        "      if input != output: statement = statement + \" The input and output are different\"\n",
        "      print(statement)"
      ]
    },
    {
      "cell_type": "code",
      "execution_count": 28,
      "metadata": {
        "id": "rfk9nPhdY4Fu",
        "outputId": "88fdc46a-c469-4ba3-bc98-ca8aff10e176",
        "colab": {
          "base_uri": "https://localhost:8080/",
          "height": 1000
        }
      },
      "outputs": [
        {
          "output_type": "stream",
          "name": "stdout",
          "text": [
            "control state is 0011\n"
          ]
        },
        {
          "output_type": "display_data",
          "data": {
            "text/plain": [
              "<Figure size 758.436x1036.78 with 1 Axes>"
            ],
            "image/png": "[encoded data removed]"
          },
          "metadata": {}
        },
        {
          "output_type": "stream",
          "name": "stdout",
          "text": [
            "control state is 0011\n",
            "input  ---> output\n",
            "0000 0 ---> 0000 0\n",
            "0000 1 ---> 0000 1\n",
            "0001 0 ---> 0001 0\n",
            "0001 1 ---> 0001 1\n",
            "0010 0 ---> 0010 0\n",
            "0010 1 ---> 0010 1\n",
            "0011 0 ---> 0011 1 The input and output are different\n",
            "0011 1 ---> 0011 0 The input and output are different\n",
            "0100 0 ---> 0100 0\n",
            "0100 1 ---> 0100 1\n",
            "0101 0 ---> 0101 0\n",
            "0101 1 ---> 0101 1\n",
            "0110 0 ---> 0110 0\n",
            "0110 1 ---> 0110 1\n",
            "0111 0 ---> 0111 0\n",
            "0111 1 ---> 0111 1\n",
            "1000 0 ---> 1000 0\n",
            "1000 1 ---> 1000 1\n",
            "1001 0 ---> 1001 0\n",
            "1001 1 ---> 1001 1\n",
            "1010 0 ---> 1010 0\n",
            "1010 1 ---> 1010 1\n",
            "1011 0 ---> 1011 0\n",
            "1011 1 ---> 1011 1\n",
            "1100 0 ---> 1100 0\n",
            "1100 1 ---> 1100 1\n",
            "1101 0 ---> 1101 0\n",
            "1101 1 ---> 1101 1\n",
            "1110 0 ---> 1110 0\n",
            "1110 1 ---> 1110 1\n",
            "1111 0 ---> 1111 0\n",
            "1111 1 ---> 1111 1\n"
          ]
        }
      ],
      "source": [
        "# try different values\n",
        "\n",
        "#c4not()\n",
        "#c4not('1001')\n",
        "c4not('0011')\n",
        "#c4not('1101')\n",
        "#c4not('0000')"
      ]
    },
    {
      "cell_type": "markdown",
      "metadata": {
        "id": "YHh_r8ltY4Fu"
      },
      "source": [
        "To check out our solution, run the next cell:"
      ]
    },
    {
      "cell_type": "code",
      "execution_count": null,
      "metadata": {
        "id": "DBFTwx9ZY4Fu",
        "colab": {
          "base_uri": "https://localhost:8080/",
          "height": 17
        },
        "outputId": "d9a3ec7a-8944-46c1-fd5b-d8178b51f81c"
      },
      "outputs": [
        {
          "output_type": "display_data",
          "data": {
            "text/plain": [
              "<IPython.core.display.Javascript object>"
            ],
            "application/javascript": [
              "window.open(\"https://colab.research.google.com/drive/1HNqmNvoPa7CBZdjOcmFb9N0zIWVYAwKR#scrollTo=13fCrLY8YSTW\");"
            ]
          },
          "metadata": {}
        }
      ],
      "source": [
        "SolutionToTask4()  # show solution for task 4"
      ]
    }
  ],
  "metadata": {
    "kernelspec": {
      "display_name": "Python 3 (ipykernel)",
      "language": "python",
      "name": "python3"
    },
    "language_info": {
      "codemirror_mode": {
        "name": "ipython",
        "version": 3
      },
      "file_extension": ".py",
      "mimetype": "text/x-python",
      "name": "python",
      "nbconvert_exporter": "python",
      "pygments_lexer": "ipython3",
      "version": "3.11.4"
    },
    "colab": {
      "provenance": [],
      "include_colab_link": true
    }
  },
  "nbformat": 4,
  "nbformat_minor": 0
}