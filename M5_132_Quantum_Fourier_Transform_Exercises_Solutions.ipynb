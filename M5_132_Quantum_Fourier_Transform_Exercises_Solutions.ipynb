{
  "cells": [
    {
      "cell_type": "markdown",
      "metadata": {
        "id": "view-in-github",
        "colab_type": "text"
      },
      "source": [
        "<a href=\"https://colab.research.google.com/github/james-lucius/qureca_ADEQUATE/blob/main/M5_132_Quantum_Fourier_Transform_Exercises_Solutions.ipynb\" target=\"_parent\"><img src=\"https://colab.research.google.com/assets/colab-badge.svg\" alt=\"Open In Colab\"/></a>"
      ]
    },
    {
      "cell_type": "markdown",
      "metadata": {
        "id": "veb6B8hMA7mW"
      },
      "source": [
        "<img src=\"https://gitlab.com/qworld/qeducation/educational-materials/adequate-qbook1/raw/main/qworld/images/adq_1.png\" align=\"left\" width=450></a>\n",
        "$ \\newcommand{\\bra}[1]{\\langle #1|} $\n",
        "$ \\newcommand{\\ket}[1]{|#1\\rangle} $\n",
        "$ \\newcommand{\\braket}[2]{\\langle #1|#2\\rangle} $\n",
        "$ \\newcommand{\\dot}[2]{ #1 \\cdot #2} $\n",
        "$ \\newcommand{\\biginner}[2]{\\left\\langle #1,#2\\right\\rangle} $\n",
        "$ \\newcommand{\\mymatrix}[2]{\\left( \\begin{array}{#1} #2\\end{array} \\right)} $\n",
        "$ \\newcommand{\\myvector}[1]{\\mymatrix{c}{#1}} $\n",
        "$ \\newcommand{\\myrvector}[1]{\\mymatrix{r}{#1}} $\n",
        "$ \\newcommand{\\mypar}[1]{\\left( #1 \\right)} $\n",
        "$ \\newcommand{\\mybigpar}[1]{ \\Big( #1 \\Big)} $\n",
        "$ \\newcommand{\\sqrttwo}{\\frac{1}{\\sqrt{2}}} $\n",
        "$ \\newcommand{\\dsqrttwo}{\\dfrac{1}{\\sqrt{2}}} $\n",
        "$ \\newcommand{\\onehalf}{\\frac{1}{2}} $\n",
        "$ \\newcommand{\\donehalf}{\\dfrac{1}{2}} $\n",
        "$ \\newcommand{\\hadamard}{ \\mymatrix{rr}{ \\sqrttwo & \\sqrttwo \\\\ \\sqrttwo & -\\sqrttwo }} $\n",
        "$ \\newcommand{\\vzero}{\\myvector{1\\\\0}} $\n",
        "$ \\newcommand{\\vone}{\\myvector{0\\\\1}} $\n",
        "$ \\newcommand{\\stateplus}{\\myvector{ \\sqrttwo \\\\  \\sqrttwo } } $\n",
        "$ \\newcommand{\\stateminus}{ \\myrvector{ \\sqrttwo \\\\ -\\sqrttwo } } $\n",
        "$ \\newcommand{\\myarray}[2]{ \\begin{array}{#1}#2\\end{array}} $\n",
        "$ \\newcommand{\\X}{ \\mymatrix{cc}{0 & 1 \\\\ 1 & 0}  } $\n",
        "$ \\newcommand{\\Z}{ \\mymatrix{rr}{1 & 0 \\\\ 0 & -1}  } $\n",
        "$ \\newcommand{\\Htwo}{ \\mymatrix{rrrr}{ \\frac{1}{2} & \\frac{1}{2} & \\frac{1}{2} & \\frac{1}{2} \\\\ \\frac{1}{2} & -\\frac{1}{2} & \\frac{1}{2} & -\\frac{1}{2} \\\\ \\frac{1}{2} & \\frac{1}{2} & -\\frac{1}{2} & -\\frac{1}{2} \\\\ \\frac{1}{2} & -\\frac{1}{2} & -\\frac{1}{2} & \\frac{1}{2} } } $\n",
        "$ \\newcommand{\\CNOT}{ \\mymatrix{cccc}{1 & 0 & 0 & 0 \\\\ 0 & 1 & 0 & 0 \\\\ 0 & 0 & 0 & 1 \\\\ 0 & 0 & 1 & 0} } $\n",
        "$ \\newcommand{\\norm}[1]{ \\left\\lVert #1 \\right\\rVert } $\n",
        "$ \\newcommand{\\pstate}[1]{ \\lceil \\mspace{-1mu} #1 \\mspace{-1.5mu} \\rfloor } $\n",
        "$ \\newcommand{\\Y}{ \\mymatrix{rr}{0 & -i \\\\ i & 0} } $\n",
        "$ \\newcommand{\\S}{ \\mymatrix{rr}{1 & 0 \\\\ 0 & i} } $\n",
        "$ \\newcommand{\\T}{ \\mymatrix{rr}{1 & 0 \\\\ 0 & e^{i \\frac{\\pi}{4}}} } $\n",
        "$ \\newcommand{\\Sdg}{ \\mymatrix{rr}{1 & 0 \\\\ 0 & -i} } $\n",
        "$ \\newcommand{\\Tdg}{ \\mymatrix{rr}{1 & 0 \\\\ 0 & e^{-i \\frac{\\pi}{4}}} } $\n",
        "$ \\newcommand{\\qgate}[1]{ \\mathop{\\\\textit{#1} } }$"
      ]
    },
    {
      "cell_type": "markdown",
      "metadata": {
        "id": "QFOjxPUPA7mX"
      },
      "source": [
        "_prepared by Özlem Salehi and Abuzer Yakaryilmaz_\n",
        "<br><br>\n",
        "_Cirq adaptation by Claudia Zendejas-Morales_"
      ]
    },
    {
      "cell_type": "markdown",
      "metadata": {
        "id": "m70s-IWxA7mY"
      },
      "source": [
        "<font size=\"28px\" style=\"font-size:28px;\" align=\"left\"><b><font color=\"blue\"> Solutions for </font>Quantum Fourier Transform</b></font>\n"
      ]
    },
    {
      "cell_type": "markdown",
      "source": [
        "##### <font color=\"#08b806\">Please execute the following cell, it is necessary to distinguish between your local environment and Google Colab's"
      ],
      "metadata": {
        "id": "NsBLhlp3ydMP"
      }
    },
    {
      "cell_type": "code",
      "source": [
        "import IPython\n",
        "\n",
        "def in_colab():\n",
        "    try:\n",
        "        import google.colab\n",
        "        return True\n",
        "    except:\n",
        "        return False\n",
        "\n",
        "path_files = \"./\" if in_colab() else \"../qworld/include/\"\n",
        "\n",
        "\n",
        "if in_colab():\n",
        "    !pip install cirq"
      ],
      "metadata": {
        "id": "1zq0f9OwyfH1",
        "colab": {
          "base_uri": "https://localhost:8080/"
        },
        "outputId": "d454ed37-9fdc-49c3-b97f-c1c4edee626a"
      },
      "execution_count": null,
      "outputs": [
        {
          "output_type": "stream",
          "name": "stdout",
          "text": [
            "Collecting cirq\n",
            "  Downloading cirq-1.4.1-py3-none-any.whl.metadata (7.4 kB)\n",
            "Collecting cirq-aqt==1.4.1 (from cirq)\n",
            "  Downloading cirq_aqt-1.4.1-py3-none-any.whl.metadata (1.6 kB)\n",
            "Collecting cirq-core==1.4.1 (from cirq)\n",
            "  Downloading cirq_core-1.4.1-py3-none-any.whl.metadata (1.8 kB)\n",
            "Collecting cirq-google==1.4.1 (from cirq)\n",
            "  Downloading cirq_google-1.4.1-py3-none-any.whl.metadata (2.0 kB)\n",
            "Collecting cirq-ionq==1.4.1 (from cirq)\n",
            "  Downloading cirq_ionq-1.4.1-py3-none-any.whl.metadata (1.6 kB)\n",
            "Collecting cirq-pasqal==1.4.1 (from cirq)\n",
            "  Downloading cirq_pasqal-1.4.1-py3-none-any.whl.metadata (1.6 kB)\n",
            "Collecting cirq-rigetti==1.4.1 (from cirq)\n",
            "  Downloading cirq_rigetti-1.4.1-py3-none-any.whl.metadata (1.7 kB)\n",
            "Collecting cirq-web==1.4.1 (from cirq)\n",
            "  Downloading cirq_web-1.4.1-py3-none-any.whl.metadata (2.6 kB)\n",
            "Requirement already satisfied: requests~=2.18 in /usr/local/lib/python3.10/dist-packages (from cirq-aqt==1.4.1->cirq) (2.32.3)\n",
            "Requirement already satisfied: attrs>=21.3.0 in /usr/local/lib/python3.10/dist-packages (from cirq-core==1.4.1->cirq) (24.2.0)\n",
            "Collecting duet>=0.2.8 (from cirq-core==1.4.1->cirq)\n",
            "  Downloading duet-0.2.9-py3-none-any.whl.metadata (2.3 kB)\n",
            "Requirement already satisfied: matplotlib~=3.0 in /usr/local/lib/python3.10/dist-packages (from cirq-core==1.4.1->cirq) (3.8.0)\n",
            "Requirement already satisfied: networkx>=2.4 in /usr/local/lib/python3.10/dist-packages (from cirq-core==1.4.1->cirq) (3.4.2)\n",
            "Requirement already satisfied: numpy~=1.22 in /usr/local/lib/python3.10/dist-packages (from cirq-core==1.4.1->cirq) (1.26.4)\n",
            "Requirement already satisfied: pandas in /usr/local/lib/python3.10/dist-packages (from cirq-core==1.4.1->cirq) (2.2.2)\n",
            "Collecting sortedcontainers~=2.0 (from cirq-core==1.4.1->cirq)\n",
            "  Downloading sortedcontainers-2.4.0-py2.py3-none-any.whl.metadata (10 kB)\n",
            "Requirement already satisfied: scipy~=1.0 in /usr/local/lib/python3.10/dist-packages (from cirq-core==1.4.1->cirq) (1.13.1)\n",
            "Requirement already satisfied: sympy in /usr/local/lib/python3.10/dist-packages (from cirq-core==1.4.1->cirq) (1.13.1)\n",
            "Requirement already satisfied: typing-extensions>=4.2 in /usr/local/lib/python3.10/dist-packages (from cirq-core==1.4.1->cirq) (4.12.2)\n",
            "Requirement already satisfied: tqdm in /usr/local/lib/python3.10/dist-packages (from cirq-core==1.4.1->cirq) (4.66.6)\n",
            "Requirement already satisfied: google-api-core>=1.14.0 in /usr/local/lib/python3.10/dist-packages (from google-api-core[grpc]>=1.14.0->cirq-google==1.4.1->cirq) (2.19.2)\n",
            "Requirement already satisfied: proto-plus>=1.20.0 in /usr/local/lib/python3.10/dist-packages (from cirq-google==1.4.1->cirq) (1.25.0)\n",
            "Requirement already satisfied: protobuf<5.0.0,>=3.15.0 in /usr/local/lib/python3.10/dist-packages (from cirq-google==1.4.1->cirq) (4.25.5)\n",
            "Collecting pyquil<5.0.0,>=4.11.0 (from cirq-rigetti==1.4.1->cirq)\n",
            "  Downloading pyquil-4.15.0-py3-none-any.whl.metadata (10 kB)\n",
            "Requirement already satisfied: googleapis-common-protos<2.0.dev0,>=1.56.2 in /usr/local/lib/python3.10/dist-packages (from google-api-core>=1.14.0->google-api-core[grpc]>=1.14.0->cirq-google==1.4.1->cirq) (1.66.0)\n",
            "Requirement already satisfied: google-auth<3.0.dev0,>=2.14.1 in /usr/local/lib/python3.10/dist-packages (from google-api-core>=1.14.0->google-api-core[grpc]>=1.14.0->cirq-google==1.4.1->cirq) (2.27.0)\n",
            "Requirement already satisfied: grpcio<2.0dev,>=1.33.2 in /usr/local/lib/python3.10/dist-packages (from google-api-core[grpc]>=1.14.0->cirq-google==1.4.1->cirq) (1.68.1)\n",
            "Requirement already satisfied: grpcio-status<2.0.dev0,>=1.33.2 in /usr/local/lib/python3.10/dist-packages (from google-api-core[grpc]>=1.14.0->cirq-google==1.4.1->cirq) (1.62.3)\n",
            "Requirement already satisfied: contourpy>=1.0.1 in /usr/local/lib/python3.10/dist-packages (from matplotlib~=3.0->cirq-core==1.4.1->cirq) (1.3.1)\n",
            "Requirement already satisfied: cycler>=0.10 in /usr/local/lib/python3.10/dist-packages (from matplotlib~=3.0->cirq-core==1.4.1->cirq) (0.12.1)\n",
            "Requirement already satisfied: fonttools>=4.22.0 in /usr/local/lib/python3.10/dist-packages (from matplotlib~=3.0->cirq-core==1.4.1->cirq) (4.55.3)\n",
            "Requirement already satisfied: kiwisolver>=1.0.1 in /usr/local/lib/python3.10/dist-packages (from matplotlib~=3.0->cirq-core==1.4.1->cirq) (1.4.7)\n",
            "Requirement already satisfied: packaging>=20.0 in /usr/local/lib/python3.10/dist-packages (from matplotlib~=3.0->cirq-core==1.4.1->cirq) (24.2)\n",
            "Requirement already satisfied: pillow>=6.2.0 in /usr/local/lib/python3.10/dist-packages (from matplotlib~=3.0->cirq-core==1.4.1->cirq) (11.0.0)\n",
            "Requirement already satisfied: pyparsing>=2.3.1 in /usr/local/lib/python3.10/dist-packages (from matplotlib~=3.0->cirq-core==1.4.1->cirq) (3.2.0)\n",
            "Requirement already satisfied: python-dateutil>=2.7 in /usr/local/lib/python3.10/dist-packages (from matplotlib~=3.0->cirq-core==1.4.1->cirq) (2.8.2)\n",
            "Requirement already satisfied: deprecated<2.0.0,>=1.2.14 in /usr/local/lib/python3.10/dist-packages (from pyquil<5.0.0,>=4.11.0->cirq-rigetti==1.4.1->cirq) (1.2.15)\n",
            "Requirement already satisfied: matplotlib-inline<0.2.0,>=0.1.7 in /usr/local/lib/python3.10/dist-packages (from pyquil<5.0.0,>=4.11.0->cirq-rigetti==1.4.1->cirq) (0.1.7)\n",
            "Collecting packaging>=20.0 (from matplotlib~=3.0->cirq-core==1.4.1->cirq)\n",
            "  Downloading packaging-23.2-py3-none-any.whl.metadata (3.2 kB)\n",
            "Collecting qcs-sdk-python>=0.20.1 (from pyquil<5.0.0,>=4.11.0->cirq-rigetti==1.4.1->cirq)\n",
            "  Downloading qcs_sdk_python-0.21.5-cp310-cp310-manylinux_2_28_x86_64.whl.metadata (7.0 kB)\n",
            "Collecting quil>=0.13.2 (from pyquil<5.0.0,>=4.11.0->cirq-rigetti==1.4.1->cirq)\n",
            "  Downloading quil-0.13.2-cp310-cp310-manylinux_2_17_x86_64.manylinux2014_x86_64.whl.metadata (1.8 kB)\n",
            "Collecting rpcq<4.0.0,>=3.11.0 (from pyquil<5.0.0,>=4.11.0->cirq-rigetti==1.4.1->cirq)\n",
            "  Downloading rpcq-3.11.0.tar.gz (45 kB)\n",
            "\u001b[2K     \u001b[90m━━━━━━━━━━━━━━━━━━━━━━━━━━━━━━━━━━━━━━━━\u001b[0m \u001b[32m45.6/45.6 kB\u001b[0m \u001b[31m1.9 MB/s\u001b[0m eta \u001b[36m0:00:00\u001b[0m\n",
            "\u001b[?25h  Preparing metadata (setup.py) ... \u001b[?25l\u001b[?25hdone\n",
            "Collecting types-deprecated<2.0.0.0,>=1.2.9.3 (from pyquil<5.0.0,>=4.11.0->cirq-rigetti==1.4.1->cirq)\n",
            "  Downloading types_Deprecated-1.2.15.20241117-py3-none-any.whl.metadata (1.8 kB)\n",
            "Requirement already satisfied: charset-normalizer<4,>=2 in /usr/local/lib/python3.10/dist-packages (from requests~=2.18->cirq-aqt==1.4.1->cirq) (3.4.0)\n",
            "Requirement already satisfied: idna<4,>=2.5 in /usr/local/lib/python3.10/dist-packages (from requests~=2.18->cirq-aqt==1.4.1->cirq) (3.10)\n",
            "Requirement already satisfied: urllib3<3,>=1.21.1 in /usr/local/lib/python3.10/dist-packages (from requests~=2.18->cirq-aqt==1.4.1->cirq) (2.2.3)\n",
            "Requirement already satisfied: certifi>=2017.4.17 in /usr/local/lib/python3.10/dist-packages (from requests~=2.18->cirq-aqt==1.4.1->cirq) (2024.8.30)\n",
            "Requirement already satisfied: pytz>=2020.1 in /usr/local/lib/python3.10/dist-packages (from pandas->cirq-core==1.4.1->cirq) (2024.2)\n",
            "Requirement already satisfied: tzdata>=2022.7 in /usr/local/lib/python3.10/dist-packages (from pandas->cirq-core==1.4.1->cirq) (2024.2)\n",
            "Requirement already satisfied: mpmath<1.4,>=1.1.0 in /usr/local/lib/python3.10/dist-packages (from sympy->cirq-core==1.4.1->cirq) (1.3.0)\n",
            "Requirement already satisfied: wrapt<2,>=1.10 in /usr/local/lib/python3.10/dist-packages (from deprecated<2.0.0,>=1.2.14->pyquil<5.0.0,>=4.11.0->cirq-rigetti==1.4.1->cirq) (1.17.0)\n",
            "Requirement already satisfied: cachetools<6.0,>=2.0.0 in /usr/local/lib/python3.10/dist-packages (from google-auth<3.0.dev0,>=2.14.1->google-api-core>=1.14.0->google-api-core[grpc]>=1.14.0->cirq-google==1.4.1->cirq) (5.5.0)\n",
            "Requirement already satisfied: pyasn1-modules>=0.2.1 in /usr/local/lib/python3.10/dist-packages (from google-auth<3.0.dev0,>=2.14.1->google-api-core>=1.14.0->google-api-core[grpc]>=1.14.0->cirq-google==1.4.1->cirq) (0.4.1)\n",
            "Requirement already satisfied: rsa<5,>=3.1.4 in /usr/local/lib/python3.10/dist-packages (from google-auth<3.0.dev0,>=2.14.1->google-api-core>=1.14.0->google-api-core[grpc]>=1.14.0->cirq-google==1.4.1->cirq) (4.9)\n",
            "Requirement already satisfied: traitlets in /usr/local/lib/python3.10/dist-packages (from matplotlib-inline<0.2.0,>=0.1.7->pyquil<5.0.0,>=4.11.0->cirq-rigetti==1.4.1->cirq) (5.7.1)\n",
            "Requirement already satisfied: six>=1.5 in /usr/local/lib/python3.10/dist-packages (from python-dateutil>=2.7->matplotlib~=3.0->cirq-core==1.4.1->cirq) (1.17.0)\n",
            "Collecting qcs-api-client-common>=0.10.0 (from qcs-sdk-python>=0.20.1->pyquil<5.0.0,>=4.11.0->cirq-rigetti==1.4.1->cirq)\n",
            "  Downloading qcs_api_client_common-0.10.0-cp310-cp310-manylinux_2_28_x86_64.whl.metadata (2.5 kB)\n",
            "Requirement already satisfied: msgpack<2.0,>=0.6 in /usr/local/lib/python3.10/dist-packages (from rpcq<4.0.0,>=3.11.0->pyquil<5.0.0,>=4.11.0->cirq-rigetti==1.4.1->cirq) (1.1.0)\n",
            "Collecting python-rapidjson (from rpcq<4.0.0,>=3.11.0->pyquil<5.0.0,>=4.11.0->cirq-rigetti==1.4.1->cirq)\n",
            "  Downloading python_rapidjson-1.20-cp310-cp310-manylinux_2_17_x86_64.manylinux2014_x86_64.whl.metadata (22 kB)\n",
            "Requirement already satisfied: pyzmq>=17 in /usr/local/lib/python3.10/dist-packages (from rpcq<4.0.0,>=3.11.0->pyquil<5.0.0,>=4.11.0->cirq-rigetti==1.4.1->cirq) (24.0.1)\n",
            "Collecting ruamel.yaml (from rpcq<4.0.0,>=3.11.0->pyquil<5.0.0,>=4.11.0->cirq-rigetti==1.4.1->cirq)\n",
            "  Downloading ruamel.yaml-0.18.6-py3-none-any.whl.metadata (23 kB)\n",
            "Requirement already satisfied: pyasn1<0.7.0,>=0.4.6 in /usr/local/lib/python3.10/dist-packages (from pyasn1-modules>=0.2.1->google-auth<3.0.dev0,>=2.14.1->google-api-core>=1.14.0->google-api-core[grpc]>=1.14.0->cirq-google==1.4.1->cirq) (0.6.1)\n",
            "Collecting grpc-interceptor>=0.15.0 (from qcs-api-client-common>=0.10.0->qcs-sdk-python>=0.20.1->pyquil<5.0.0,>=4.11.0->cirq-rigetti==1.4.1->cirq)\n",
            "  Downloading grpc_interceptor-0.15.4-py3-none-any.whl.metadata (8.4 kB)\n",
            "Requirement already satisfied: httpx>=0.27.0 in /usr/local/lib/python3.10/dist-packages (from qcs-api-client-common>=0.10.0->qcs-sdk-python>=0.20.1->pyquil<5.0.0,>=4.11.0->cirq-rigetti==1.4.1->cirq) (0.28.1)\n",
            "Collecting ruamel.yaml.clib>=0.2.7 (from ruamel.yaml->rpcq<4.0.0,>=3.11.0->pyquil<5.0.0,>=4.11.0->cirq-rigetti==1.4.1->cirq)\n",
            "  Downloading ruamel.yaml.clib-0.2.12-cp310-cp310-manylinux_2_17_x86_64.manylinux2014_x86_64.whl.metadata (2.7 kB)\n",
            "Requirement already satisfied: anyio in /usr/local/lib/python3.10/dist-packages (from httpx>=0.27.0->qcs-api-client-common>=0.10.0->qcs-sdk-python>=0.20.1->pyquil<5.0.0,>=4.11.0->cirq-rigetti==1.4.1->cirq) (3.7.1)\n",
            "Requirement already satisfied: httpcore==1.* in /usr/local/lib/python3.10/dist-packages (from httpx>=0.27.0->qcs-api-client-common>=0.10.0->qcs-sdk-python>=0.20.1->pyquil<5.0.0,>=4.11.0->cirq-rigetti==1.4.1->cirq) (1.0.7)\n",
            "Requirement already satisfied: h11<0.15,>=0.13 in /usr/local/lib/python3.10/dist-packages (from httpcore==1.*->httpx>=0.27.0->qcs-api-client-common>=0.10.0->qcs-sdk-python>=0.20.1->pyquil<5.0.0,>=4.11.0->cirq-rigetti==1.4.1->cirq) (0.14.0)\n",
            "Requirement already satisfied: sniffio>=1.1 in /usr/local/lib/python3.10/dist-packages (from anyio->httpx>=0.27.0->qcs-api-client-common>=0.10.0->qcs-sdk-python>=0.20.1->pyquil<5.0.0,>=4.11.0->cirq-rigetti==1.4.1->cirq) (1.3.1)\n",
            "Requirement already satisfied: exceptiongroup in /usr/local/lib/python3.10/dist-packages (from anyio->httpx>=0.27.0->qcs-api-client-common>=0.10.0->qcs-sdk-python>=0.20.1->pyquil<5.0.0,>=4.11.0->cirq-rigetti==1.4.1->cirq) (1.2.2)\n",
            "Downloading cirq-1.4.1-py3-none-any.whl (8.0 kB)\n",
            "Downloading cirq_aqt-1.4.1-py3-none-any.whl (30 kB)\n",
            "Downloading cirq_core-1.4.1-py3-none-any.whl (1.9 MB)\n",
            "\u001b[2K   \u001b[90m━━━━━━━━━━━━━━━━━━━━━━━━━━━━━━━━━━━━━━━━\u001b[0m \u001b[32m1.9/1.9 MB\u001b[0m \u001b[31m25.8 MB/s\u001b[0m eta \u001b[36m0:00:00\u001b[0m\n",
            "\u001b[?25hDownloading cirq_google-1.4.1-py3-none-any.whl (532 kB)\n",
            "\u001b[2K   \u001b[90m━━━━━━━━━━━━━━━━━━━━━━━━━━━━━━━━━━━━━━━━\u001b[0m \u001b[32m532.7/532.7 kB\u001b[0m \u001b[31m28.7 MB/s\u001b[0m eta \u001b[36m0:00:00\u001b[0m\n",
            "\u001b[?25hDownloading cirq_ionq-1.4.1-py3-none-any.whl (60 kB)\n",
            "\u001b[2K   \u001b[90m━━━━━━━━━━━━━━━━━━━━━━━━━━━━━━━━━━━━━━━━\u001b[0m \u001b[32m60.5/60.5 kB\u001b[0m \u001b[31m4.1 MB/s\u001b[0m eta \u001b[36m0:00:00\u001b[0m\n",
            "\u001b[?25hDownloading cirq_pasqal-1.4.1-py3-none-any.whl (31 kB)\n",
            "Downloading cirq_rigetti-1.4.1-py3-none-any.whl (69 kB)\n",
            "\u001b[2K   \u001b[90m━━━━━━━━━━━━━━━━━━━━━━━━━━━━━━━━━━━━━━━━\u001b[0m \u001b[32m69.3/69.3 kB\u001b[0m \u001b[31m5.5 MB/s\u001b[0m eta \u001b[36m0:00:00\u001b[0m\n",
            "\u001b[?25hDownloading cirq_web-1.4.1-py3-none-any.whl (596 kB)\n",
            "\u001b[2K   \u001b[90m━━━━━━━━━━━━━━━━━━━━━━━━━━━━━━━━━━━━━━━━\u001b[0m \u001b[32m596.5/596.5 kB\u001b[0m \u001b[31m33.7 MB/s\u001b[0m eta \u001b[36m0:00:00\u001b[0m\n",
            "\u001b[?25hDownloading duet-0.2.9-py3-none-any.whl (29 kB)\n",
            "Downloading pyquil-4.15.0-py3-none-any.whl (202 kB)\n",
            "\u001b[2K   \u001b[90m━━━━━━━━━━━━━━━━━━━━━━━━━━━━━━━━━━━━━━━━\u001b[0m \u001b[32m202.9/202.9 kB\u001b[0m \u001b[31m15.3 MB/s\u001b[0m eta \u001b[36m0:00:00\u001b[0m\n",
            "\u001b[?25hDownloading sortedcontainers-2.4.0-py2.py3-none-any.whl (29 kB)\n",
            "Downloading packaging-23.2-py3-none-any.whl (53 kB)\n",
            "\u001b[2K   \u001b[90m━━━━━━━━━━━━━━━━━━━━━━━━━━━━━━━━━━━━━━━━\u001b[0m \u001b[32m53.0/53.0 kB\u001b[0m \u001b[31m4.4 MB/s\u001b[0m eta \u001b[36m0:00:00\u001b[0m\n",
            "\u001b[?25hDownloading qcs_sdk_python-0.21.5-cp310-cp310-manylinux_2_28_x86_64.whl (6.3 MB)\n",
            "\u001b[2K   \u001b[90m━━━━━━━━━━━━━━━━━━━━━━━━━━━━━━━━━━━━━━━━\u001b[0m \u001b[32m6.3/6.3 MB\u001b[0m \u001b[31m79.3 MB/s\u001b[0m eta \u001b[36m0:00:00\u001b[0m\n",
            "\u001b[?25hDownloading quil-0.13.2-cp310-cp310-manylinux_2_17_x86_64.manylinux2014_x86_64.whl (2.2 MB)\n",
            "\u001b[2K   \u001b[90m━━━━━━━━━━━━━━━━━━━━━━━━━━━━━━━━━━━━━━━━\u001b[0m \u001b[32m2.2/2.2 MB\u001b[0m \u001b[31m73.6 MB/s\u001b[0m eta \u001b[36m0:00:00\u001b[0m\n",
            "\u001b[?25hDownloading types_Deprecated-1.2.15.20241117-py3-none-any.whl (3.8 kB)\n",
            "Downloading qcs_api_client_common-0.10.0-cp310-cp310-manylinux_2_28_x86_64.whl (2.9 MB)\n",
            "\u001b[2K   \u001b[90m━━━━━━━━━━━━━━━━━━━━━━━━━━━━━━━━━━━━━━━━\u001b[0m \u001b[32m2.9/2.9 MB\u001b[0m \u001b[31m75.2 MB/s\u001b[0m eta \u001b[36m0:00:00\u001b[0m\n",
            "\u001b[?25hDownloading python_rapidjson-1.20-cp310-cp310-manylinux_2_17_x86_64.manylinux2014_x86_64.whl (1.7 MB)\n",
            "\u001b[2K   \u001b[90m━━━━━━━━━━━━━━━━━━━━━━━━━━━━━━━━━━━━━━━━\u001b[0m \u001b[32m1.7/1.7 MB\u001b[0m \u001b[31m45.3 MB/s\u001b[0m eta \u001b[36m0:00:00\u001b[0m\n",
            "\u001b[?25hDownloading ruamel.yaml-0.18.6-py3-none-any.whl (117 kB)\n",
            "\u001b[2K   \u001b[90m━━━━━━━━━━━━━━━━━━━━━━━━━━━━━━━━━━━━━━━━\u001b[0m \u001b[32m117.8/117.8 kB\u001b[0m \u001b[31m9.2 MB/s\u001b[0m eta \u001b[36m0:00:00\u001b[0m\n",
            "\u001b[?25hDownloading grpc_interceptor-0.15.4-py3-none-any.whl (20 kB)\n",
            "Downloading ruamel.yaml.clib-0.2.12-cp310-cp310-manylinux_2_17_x86_64.manylinux2014_x86_64.whl (722 kB)\n",
            "\u001b[2K   \u001b[90m━━━━━━━━━━━━━━━━━━━━━━━━━━━━━━━━━━━━━━━━\u001b[0m \u001b[32m722.2/722.2 kB\u001b[0m \u001b[31m39.8 MB/s\u001b[0m eta \u001b[36m0:00:00\u001b[0m\n",
            "\u001b[?25hBuilding wheels for collected packages: rpcq\n",
            "  Building wheel for rpcq (setup.py) ... \u001b[?25l\u001b[?25hdone\n",
            "  Created wheel for rpcq: filename=rpcq-3.11.0-py3-none-any.whl size=45967 sha256=d19b11e2f9d2c9b0884550b41babf4cb1ee3310705ef1455ce7de262750a0715\n",
            "  Stored in directory: /root/.cache/pip/wheels/91/97/0a/b384d94155345284ec00712ab814cbfb5bc2b631080b4fa4c3\n",
            "Successfully built rpcq\n",
            "Installing collected packages: sortedcontainers, types-deprecated, ruamel.yaml.clib, quil, python-rapidjson, packaging, grpc-interceptor, duet, ruamel.yaml, rpcq, qcs-api-client-common, cirq-core, qcs-sdk-python, cirq-web, cirq-pasqal, cirq-ionq, cirq-aqt, pyquil, cirq-google, cirq-rigetti, cirq\n",
            "  Attempting uninstall: packaging\n",
            "    Found existing installation: packaging 24.2\n",
            "    Uninstalling packaging-24.2:\n",
            "      Successfully uninstalled packaging-24.2\n",
            "Successfully installed cirq-1.4.1 cirq-aqt-1.4.1 cirq-core-1.4.1 cirq-google-1.4.1 cirq-ionq-1.4.1 cirq-pasqal-1.4.1 cirq-rigetti-1.4.1 cirq-web-1.4.1 duet-0.2.9 grpc-interceptor-0.15.4 packaging-23.2 pyquil-4.15.0 python-rapidjson-1.20 qcs-api-client-common-0.10.0 qcs-sdk-python-0.21.5 quil-0.13.2 rpcq-3.11.0 ruamel.yaml-0.18.6 ruamel.yaml.clib-0.2.12 sortedcontainers-2.4.0 types-deprecated-1.2.15.20241117\n"
          ]
        }
      ]
    },
    {
      "cell_type": "markdown",
      "metadata": {
        "id": "dbFt5U2RA7mZ"
      },
      "source": [
        "<a name=\"task4\"></a>\n",
        "### Task 4 (on paper)\n",
        "\n",
        "Apply $QFT$ to the quantum state $ \\ket \\psi=\\frac{1}{\\sqrt{2}} \\ket {01}+\\frac{1}{\\sqrt{2}} \\ket {10} $."
      ]
    },
    {
      "cell_type": "markdown",
      "metadata": {
        "id": "X_Jp8A9ZA7mZ"
      },
      "source": [
        "<h3>Solution </h3>"
      ]
    },
    {
      "cell_type": "markdown",
      "metadata": {
        "id": "6zUG_Z-_A7mZ"
      },
      "source": [
        "We have $n=2$ qubits and $N=4$. Note that $ x_0=0, x_1=\\frac{1}{\\sqrt{2}}, x_2= \\frac{1}{\\sqrt{2}}, x_3=0 $.\n",
        "\n",
        "\\begin{align*}\n",
        "\t\\ket{\\phi}&=\\sum_{k=0}^{3} \\frac{1}{\\sqrt{4}} \\sum_{j=0}^{3} e^{\\frac{2 \\pi i j k}{4}} x_{j} \\ket{k} \\\\\n",
        "\t&=\\sum_{k=0}^{3} \\frac{1}{2\\sqrt{2}}  \\left(e^{\\frac{\\pi i k}{ 2}}|k\\rangle+e^{\\pi i k}|k\\rangle\\right)\\\\\n",
        "\t&= \\frac{1}{2\\sqrt{2}}\\left(2\\ket{00}+e^{\\frac{\\pi i}{2}} \\ket {01}+e^{ \\pi i}\\ket {01}+e^{ \\pi i}\\ket {10}+e^{\\pi i 2}\\ket {10} +e^{\\frac{3 \\pi i}{2}}\\ket {11}+e^{3 \\pi i}\\ket {11} \\right) \\\\\n",
        "\t&= \\frac{1}{2\\sqrt{2}}\\left(2\\ket{00}+i \\ket {01}-\\ket {01}-\\ket {10} + \\ket{10} -i\\ket {11}-\\ket {11} \\right) \\\\\n",
        "\t&= \\frac{1}{\\sqrt{2}} \\ket {00}+\\frac{i-1}{2\\sqrt{2}}\\ket {01}+\\frac{-i-1}{2\\sqrt{2}} \\ket {11}\n",
        "\t\t\\end{align*}\n"
      ]
    },
    {
      "cell_type": "markdown",
      "metadata": {
        "id": "v11ij-YRA7mZ"
      },
      "source": [
        "Note that since we have already found $QFT$ of the state $\\ket{10}$, we can find $QFT\\ket{01}$ and take the linear combination."
      ]
    },
    {
      "cell_type": "markdown",
      "metadata": {
        "id": "REQnur6WA7mZ"
      },
      "source": [
        "<a name=\"task5\"></a>\n",
        "### Task 5 (on paper)\n",
        "\n",
        "Apply $QFT$ to the quantum state $\\ket{\\psi}=\\alpha \\ket{0} + \\beta \\ket{1}$ and find the new quantum state.\n",
        "\n",
        "Conclude that applying 1 qubit $QFT$ is equivalent to applying Hadamard gate."
      ]
    },
    {
      "cell_type": "markdown",
      "metadata": {
        "id": "7kX9ldE0A7mZ"
      },
      "source": [
        "<h3>Solution </h3>"
      ]
    },
    {
      "cell_type": "markdown",
      "metadata": {
        "id": "Smpb_S0IA7mZ"
      },
      "source": [
        "The quantum state $\\ket{\\psi}$ is represented by $\\myvector{\\alpha\\\\\\beta}$ where $x_0=\\alpha$ and $x_1=\\beta$."
      ]
    },
    {
      "cell_type": "markdown",
      "metadata": {
        "id": "w2x2Fi6iA7mZ"
      },
      "source": [
        "$$y_0=\\frac{1}{\\sqrt{2}} \\sum_{j=0}^{1}e^{\\frac{2\\pi i j \\cdot 0}{2}}x_j = \\frac{ \\alpha + \\beta }{\\sqrt{2}}  .$$"
      ]
    },
    {
      "cell_type": "markdown",
      "metadata": {
        "id": "dPdhFhnTA7mZ"
      },
      "source": [
        "$$y_1=\\frac{1}{\\sqrt{2}} \\sum_{j=0}^{1}e^{\\frac{2\\pi i \\cdot j \\cdot 1}{2}}x_j = \\frac{1}{\\sqrt{2}} \\biggl (e^{\\frac{2\\pi i \\cdot 1 \\cdot 0}{2}}  x_0 + e^{\\frac{2\\pi i\\cdot 1\\cdot 1}{2}}x_1 \\biggr )=\\frac{ \\alpha - \\beta }{\\sqrt{2}}  .$$"
      ]
    },
    {
      "cell_type": "markdown",
      "metadata": {
        "id": "3MLunIynA7mZ"
      },
      "source": [
        "Hence the new state is $  \\frac{\\alpha+\\beta}{\\sqrt{2}} \\ket{0} + \\frac{\\alpha-\\beta}{\\sqrt{2}} \\ket{1}.$"
      ]
    },
    {
      "cell_type": "markdown",
      "metadata": {
        "id": "9c3dm32UA7mZ"
      },
      "source": [
        "<a name=\"task6\"></a>\n",
        "### Task 6 (on paper)\n",
        "\n",
        "Apply $QFT$ to the basis state $\\ket{10}$ using the matrix representaiton and find the new quantum state."
      ]
    },
    {
      "cell_type": "markdown",
      "metadata": {
        "id": "nVngBih4A7mZ"
      },
      "source": [
        "<h3>Solution </h3>"
      ]
    },
    {
      "cell_type": "markdown",
      "metadata": {
        "id": "Sq33LFM-A7mZ"
      },
      "source": [
        "Let's first find the $QFT$ matrix for 2 qubits.\n",
        "\n",
        "$$\\frac{1}{2} \\mymatrix{rrrr}{1 & 1 & 1 &1 \\\\ 1 & \\omega & \\omega^2 & \\omega^3 \\\\ 1 & \\omega^2 &\\omega^4 & \\omega^6 \\\\ 1 & \\omega^3 & \\omega^6 & \\omega^9 }$$\n",
        "\n",
        "Since $\\omega = i$ for $N=4$, the matrix becomes\n",
        "\n",
        "$$\\frac{1}{2} \\mymatrix{rrrr}{1 & 1 & 1 &1 \\\\ 1 & i & -1 & -i \\\\ 1 & -1 &1 & -1 \\\\ 1 & -i & -1 & i }$$\n"
      ]
    },
    {
      "cell_type": "markdown",
      "metadata": {
        "id": "KtbdRkFtA7ma"
      },
      "source": [
        "The vector representation for the state $\\ket{10}$ is given by $\\myvector{0\\\\0\\\\1\\\\0}$. Let's multiply it with the above matrix to find its $QFT$."
      ]
    },
    {
      "cell_type": "markdown",
      "metadata": {
        "id": "w8Cr-KmaA7ma"
      },
      "source": [
        "$$ \\frac{1}{2} \\mymatrix{rrrr}{1 & 1 & 1 & 1 \\\\ 1 & i & -1 & -i \\\\ 1 & -1 &1 & -1 \\\\ 1 & -i & -1 & i } \\myvector{0\\\\0\\\\1\\\\0} = \\frac{1}{2} \\myvector{1 \\\\ -1 \\\\ 1 \\\\ -1}$$"
      ]
    },
    {
      "cell_type": "markdown",
      "metadata": {
        "id": "gbvpLMkrA7ma"
      },
      "source": [
        "Hence, we obtain the state $ \\frac{1}{2} \\bigl ( \\ket{00}- \\ket{01} + \\ket{10} - \\ket{11} \\bigr )$."
      ]
    },
    {
      "cell_type": "markdown",
      "metadata": {
        "id": "WvGsyKzpA7ma"
      },
      "source": [
        "<a name=\"task7\"></a>\n",
        "### Task 7 (on paper)\n",
        "\n",
        "What is the quantum state obtained after applying $QFT$ to the state $\\ket{11}$? Find using Task 6 and the linear shift property."
      ]
    },
    {
      "cell_type": "markdown",
      "metadata": {
        "id": "Ce_YoHwRA7ma"
      },
      "source": [
        "<h3>Solution </h3>"
      ]
    },
    {
      "cell_type": "markdown",
      "metadata": {
        "id": "1HAXy6BCA7ma"
      },
      "source": [
        "Note that the vector representation for the state $\\ket{11}$ is $\\myvector{0\\\\0\\\\0\\\\1}$. Since $QFT$ $ \\myvector{0 \\\\ 0 \\\\ 1 \\\\ 0} = \\frac{1}{2} \\myvector{1 \\\\ -1 \\\\ 1 \\\\ -1}$, using the linear shift property\n",
        "\n",
        "$$\n",
        "QFT \\myvector{0\\\\0\\\\0\\\\1} = \\frac{1}{2} \\myvector{1 \\\\ -\\omega \\\\ \\omega^2 \\\\ -\\omega^3} = \\frac{1}{2} \\myvector{1 \\\\ -i \\\\ -1 \\\\ i}.\n",
        "$$"
      ]
    },
    {
      "cell_type": "markdown",
      "metadata": {
        "id": "M6o51_q5A7ma"
      },
      "source": [
        "<a name=\"task8\"></a>\n",
        "### Task 8\n",
        "\n",
        "Write down the matrix of QFT for $ n =3 $ by using Python.\n",
        "\n",
        "Write down the matrix of circuit $ n =3 $ by using `myQFT`.\n",
        "\n",
        "Compare both results."
      ]
    },
    {
      "cell_type": "markdown",
      "metadata": {
        "id": "jo9KYiLYA7ma"
      },
      "source": [
        "<h3>Solution </h3>"
      ]
    },
    {
      "cell_type": "code",
      "source": [
        "import cirq\n",
        "from cirq import H, SWAP\n",
        "from cirq.circuits import InsertStrategy\n",
        "from math import pi\n",
        "\n",
        "def myQFT(qubits):\n",
        "\n",
        "    circuit = cirq.Circuit() # create a circuit\n",
        "\n",
        "    n = len(qubits)\n",
        "    for i in range(n):\n",
        "        #Apply Hadamard\n",
        "        circuit.append(H(qubits[i]), strategy = InsertStrategy.NEW) # strategy is for the circuit to look neat\n",
        "\n",
        "        # apply Controlled-PhaseShift\n",
        "        phase_divisor = 4 # 4,8,16,...\n",
        "        for j in range(i+1,n):\n",
        "            circuit.append(cirq.CZPowGate(exponent = 2/phase_divisor).on(qubits[j],qubits[i]))\n",
        "            phase_divisor = 2 * phase_divisor\n",
        "\n",
        "    # swap the qubits\n",
        "    for j in range(n//2): # integer division\n",
        "        circuit.append(SWAP.on(qubits[j],qubits[n-j-1]), strategy = InsertStrategy.NEW)\n",
        "\n",
        "    return circuit"
      ],
      "metadata": {
        "id": "ZOSsAJm20FcZ"
      },
      "execution_count": null,
      "outputs": []
    },
    {
      "cell_type": "code",
      "execution_count": null,
      "metadata": {
        "id": "dRIco_MYA7ma",
        "colab": {
          "base_uri": "https://localhost:8080/"
        },
        "outputId": "7c9f617a-7bef-4559-99a3-dee2290644df"
      },
      "outputs": [
        {
          "output_type": "stream",
          "name": "stdout",
          "text": [
            "QFT matrix directly calculated by Python:\n",
            "0.35+i(0.0)  0.35+i(0.0)  0.35+i(0.0)  0.35+i(0.0)  0.35+i(0.0)  0.35+i(0.0)  0.35+i(0.0)  0.35+i(0.0)  \n",
            "0.35+i(0.0)  0.25+i(0.25)  0.0+i(0.35)  -0.25+i(0.25)  -0.35+i(0.0)  -0.25+i(-0.25)  -0.0+i(-0.35)  0.25+i(-0.25)  \n",
            "0.35+i(0.0)  0.0+i(0.35)  -0.35+i(0.0)  -0.0+i(-0.35)  0.35+i(-0.0)  0.0+i(0.35)  -0.35+i(0.0)  -0.0+i(-0.35)  \n",
            "0.35+i(0.0)  -0.25+i(0.25)  -0.0+i(-0.35)  0.25+i(0.25)  -0.35+i(0.0)  0.25+i(-0.25)  0.0+i(0.35)  -0.25+i(-0.25)  \n",
            "0.35+i(0.0)  -0.35+i(0.0)  0.35+i(-0.0)  -0.35+i(0.0)  0.35+i(-0.0)  -0.35+i(0.0)  0.35+i(-0.0)  -0.35+i(0.0)  \n",
            "0.35+i(0.0)  -0.25+i(-0.25)  0.0+i(0.35)  0.25+i(-0.25)  -0.35+i(0.0)  0.25+i(0.25)  -0.0+i(-0.35)  -0.25+i(0.25)  \n",
            "0.35+i(0.0)  -0.0+i(-0.35)  -0.35+i(0.0)  0.0+i(0.35)  0.35+i(-0.0)  -0.0+i(-0.35)  -0.35+i(0.0)  0.0+i(0.35)  \n",
            "0.35+i(0.0)  0.25+i(-0.25)  -0.0+i(-0.35)  -0.25+i(-0.25)  -0.35+i(0.0)  -0.25+i(0.25)  0.0+i(0.35)  0.25+i(0.25)  \n",
            "\n",
            "\n",
            "QFT matrix by myQFT:\n",
            "0.35+i(0.0)  0.35+i(0.0)  0.35+i(0.0)  0.35+i(0.0)  0.35+i(0.0)  0.35+i(0.0)  0.35+i(0.0)  0.35+i(0.0)  \n",
            "0.35+i(0.0)  0.25+i(0.25)  0.0+i(0.35)  -0.25+i(0.25)  -0.35+i(0.0)  -0.25+i(-0.25)  0.0+i(-0.35)  0.25+i(-0.25)  \n",
            "0.35+i(0.0)  0.0+i(0.35)  -0.35+i(0.0)  0.0+i(-0.35)  0.35+i(0.0)  0.0+i(0.35)  -0.35+i(0.0)  0.0+i(-0.35)  \n",
            "0.35+i(0.0)  -0.25+i(0.25)  0.0+i(-0.35)  0.25+i(0.25)  -0.35+i(0.0)  0.25+i(-0.25)  0.0+i(0.35)  -0.25+i(-0.25)  \n",
            "0.35+i(0.0)  -0.35+i(0.0)  0.35+i(0.0)  -0.35+i(0.0)  0.35+i(0.0)  -0.35+i(0.0)  0.35+i(0.0)  -0.35+i(0.0)  \n",
            "0.35+i(0.0)  -0.25+i(-0.25)  0.0+i(0.35)  0.25+i(-0.25)  -0.35+i(0.0)  0.25+i(0.25)  0.0+i(-0.35)  -0.25+i(0.25)  \n",
            "0.35+i(0.0)  0.0+i(-0.35)  -0.35+i(0.0)  0.0+i(0.35)  0.35+i(0.0)  0.0+i(-0.35)  -0.35+i(0.0)  0.0+i(0.35)  \n",
            "0.35+i(0.0)  0.25+i(-0.25)  0.0+i(-0.35)  -0.25+i(-0.25)  -0.35+i(0.0)  -0.25+i(0.25)  0.0+i(0.35)  0.25+i(0.25)  \n"
          ]
        }
      ],
      "source": [
        "from math import pi, sin, cos\n",
        "\n",
        "n = 3\n",
        "N = 2**n\n",
        "\n",
        "phi = 2 * pi / N\n",
        "\n",
        "coefficient = 1/(N**0.5)\n",
        "omega = complex(cos(phi),sin(phi))\n",
        "\n",
        "print(\"QFT matrix directly calculated by Python:\")\n",
        "for i in range(N):\n",
        "    row_str = \"\"\n",
        "    for j in range(N):\n",
        "        val = coefficient*omega**(i*j)\n",
        "        R = round(val.real,2)\n",
        "        I = round(val.imag,2)\n",
        "        row_str += str(R)+\"+i(\"+str(I)+\")  \"\n",
        "    print(row_str)\n",
        "\n",
        "print()\n",
        "print()\n",
        "\n",
        "print(\"QFT matrix by myQFT:\")\n",
        "qubits = cirq.LineQubit.range(n)\n",
        "QFT = myQFT(qubits)\n",
        "matrix = cirq.unitary(QFT)\n",
        "\n",
        "for row in matrix:\n",
        "    row_str = \"\"\n",
        "    for val in row:\n",
        "        R = round(val.real,2)\n",
        "        I = round(val.imag,2)\n",
        "        row_str += str(R)+\"+i(\"+str(I)+\")  \"\n",
        "    print(row_str)"
      ]
    },
    {
      "cell_type": "markdown",
      "metadata": {
        "id": "leUvkPgoA7mb"
      },
      "source": [
        "<a name=\"task9\"></a>\n",
        "### Task 9\n",
        "\n",
        "Write an explicit method named `myInvQFT` for desgining the circuit of inverse QFT on the given list of qubits.\n",
        "\n",
        "Test it for $ n=4 $ by comparing your circuit matrix with the circuit matrix generated with built-in inverse QFT."
      ]
    },
    {
      "cell_type": "markdown",
      "metadata": {
        "id": "hzFsadlQA7mb"
      },
      "source": [
        "<h3>Solution </h3>"
      ]
    },
    {
      "cell_type": "code",
      "execution_count": null,
      "metadata": {
        "id": "XvHYot8bA7mb"
      },
      "outputs": [],
      "source": [
        "import cirq\n",
        "from cirq import H, SWAP\n",
        "from cirq.circuits import InsertStrategy\n",
        "from math import pi\n",
        "\n",
        "def myInvQFT(qubits):\n",
        "\n",
        "    circuit = cirq.Circuit() # create a circuit\n",
        "\n",
        "    n = len(qubits)\n",
        "\n",
        "    # swap the qubits\n",
        "    for j in range(n//2): # integer division\n",
        "        circuit.append(SWAP.on(qubits[j],qubits[n-j-1]), strategy = InsertStrategy.NEW)\n",
        "\n",
        "\n",
        "    # inverted phase gates are applied in reverse order and before the hadamard gate\n",
        "\n",
        "    for i in range(n-1,-1,-1):\n",
        "\n",
        "        phase_divisor = 2**(n-i)\n",
        "        for j in range(n-1,i,-1):\n",
        "            circuit.append(cirq.CZPowGate(exponent = -2/phase_divisor).on(qubits[j],qubits[i]),\n",
        "                           strategy = InsertStrategy.NEW)\n",
        "            phase_divisor = phase_divisor / 2\n",
        "\n",
        "        circuit.append(H(qubits[i]), strategy = InsertStrategy.NEW) # strategy is for the circuit to look neat\n",
        "\n",
        "    return circuit"
      ]
    },
    {
      "cell_type": "code",
      "execution_count": null,
      "metadata": {
        "id": "QYNQn3heA7mb",
        "colab": {
          "base_uri": "https://localhost:8080/"
        },
        "outputId": "d1dadd87-322f-41f6-fb3b-ab3e0bbd8bed"
      },
      "outputs": [
        {
          "output_type": "stream",
          "name": "stdout",
          "text": [
            "n = 4 \n",
            "\n",
            "my circuit for IQFT:\n",
            "0: ───×───────────────────────────────────────────────@──────────@─────────@────────H───\n",
            "      │                                               │          │         │\n",
            "1: ───┼───×────────────────────@─────────@────────H───┼──────────┼─────────@^-0.5───────\n",
            "      │   │                    │         │            │          │\n",
            "2: ───┼───×───────@────────H───┼─────────@^-0.5───────┼──────────@^-0.25────────────────\n",
            "      │           │            │                      │\n",
            "3: ───×───────H───@^-0.5───────@^-0.25────────────────@^(-1/8)──────────────────────────\n",
            "\n",
            "\n",
            "Are the two matrices of the inverse of QFT equal?\n",
            "True\n"
          ]
        }
      ],
      "source": [
        "import numpy as np\n",
        "\n",
        "qubits = cirq.LineQubit.range(4) #create 4 qubits\n",
        "\n",
        "myInvQFT_circuit = myInvQFT(qubits)\n",
        "\n",
        "InvQFT_circuit = cirq.Circuit(cirq.qft(*qubits, without_reverse=False, inverse=True))\n",
        "\n",
        "print(\"n = 4 \")\n",
        "print()\n",
        "print(\"my circuit for IQFT:\")\n",
        "print(myInvQFT_circuit)\n",
        "print()\n",
        "\n",
        "\n",
        "# Check equality of the 'manual' and 'built-in' QFTs.\n",
        "myInvQFT_matrix = cirq.unitary(myInvQFT_circuit)\n",
        "InvQFT_matrix = cirq.unitary(InvQFT_circuit)\n",
        "print()\n",
        "print(\"Are the two matrices of the inverse of QFT equal?\")\n",
        "print(np.allclose(myInvQFT_matrix, InvQFT_matrix))  # element-wise equal within a tolerance"
      ]
    }
  ],
  "metadata": {
    "kernelspec": {
      "display_name": "Python 3 (ipykernel)",
      "language": "python",
      "name": "python3"
    },
    "language_info": {
      "codemirror_mode": {
        "name": "ipython",
        "version": 3
      },
      "file_extension": ".py",
      "mimetype": "text/x-python",
      "name": "python",
      "nbconvert_exporter": "python",
      "pygments_lexer": "ipython3",
      "version": "3.11.4"
    },
    "colab": {
      "provenance": [],
      "collapsed_sections": [
        "NsBLhlp3ydMP"
      ],
      "include_colab_link": true
    }
  },
  "nbformat": 4,
  "nbformat_minor": 0
}