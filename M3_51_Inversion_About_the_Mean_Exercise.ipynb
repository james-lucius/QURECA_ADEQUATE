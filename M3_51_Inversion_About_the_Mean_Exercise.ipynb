{
  "cells": [
    {
      "cell_type": "markdown",
      "metadata": {
        "id": "view-in-github",
        "colab_type": "text"
      },
      "source": [
        "<a href=\"https://colab.research.google.com/github/james-lucius/qureca_ADEQUATE/blob/main/M3_51_Inversion_About_the_Mean_Exercise.ipynb\" target=\"_parent\"><img src=\"https://colab.research.google.com/assets/colab-badge.svg\" alt=\"Open In Colab\"/></a>"
      ]
    },
    {
      "cell_type": "markdown",
      "source": [
        "<img src=\"https://gitlab.com/qworld/qeducation/educational-materials/adequate-qbook1/raw/main/qworld/images/adq_1.png\" align=\"left\" width=450></a>\n",
        "$ \\newcommand{\\bra}[1]{\\langle #1|} $\n",
        "$ \\newcommand{\\ket}[1]{|#1\\rangle} $\n",
        "$ \\newcommand{\\braket}[2]{\\langle #1|#2\\rangle} $\n",
        "$ \\newcommand{\\dot}[2]{ #1 \\cdot #2} $\n",
        "$ \\newcommand{\\biginner}[2]{\\left\\langle #1,#2\\right\\rangle} $\n",
        "$ \\newcommand{\\mymatrix}[2]{\\left( \\begin{array}{#1} #2\\end{array} \\right)} $\n",
        "$ \\newcommand{\\myvector}[1]{\\mymatrix{c}{#1}} $\n",
        "$ \\newcommand{\\myrvector}[1]{\\mymatrix{r}{#1}} $\n",
        "$ \\newcommand{\\mypar}[1]{\\left( #1 \\right)} $\n",
        "$ \\newcommand{\\mybigpar}[1]{ \\Big( #1 \\Big)} $\n",
        "$ \\newcommand{\\sqrttwo}{\\frac{1}{\\sqrt{2}}} $\n",
        "$ \\newcommand{\\dsqrttwo}{\\dfrac{1}{\\sqrt{2}}} $\n",
        "$ \\newcommand{\\onehalf}{\\frac{1}{2}} $\n",
        "$ \\newcommand{\\donehalf}{\\dfrac{1}{2}} $\n",
        "$ \\newcommand{\\hadamard}{ \\mymatrix{rr}{ \\sqrttwo & \\sqrttwo \\\\ \\sqrttwo & -\\sqrttwo }} $\n",
        "$ \\newcommand{\\vzero}{\\myvector{1\\\\0}} $\n",
        "$ \\newcommand{\\vone}{\\myvector{0\\\\1}} $\n",
        "$ \\newcommand{\\stateplus}{\\myvector{ \\sqrttwo \\\\  \\sqrttwo } } $\n",
        "$ \\newcommand{\\stateminus}{ \\myrvector{ \\sqrttwo \\\\ -\\sqrttwo } } $\n",
        "$ \\newcommand{\\myarray}[2]{ \\begin{array}{#1}#2\\end{array}} $\n",
        "$ \\newcommand{\\X}{ \\mymatrix{cc}{0 & 1 \\\\ 1 & 0}  } $\n",
        "$ \\newcommand{\\I}{ \\mymatrix{rr}{1 & 0 \\\\ 0 & 1}  } $\n",
        "$ \\newcommand{\\Z}{ \\mymatrix{rr}{1 & 0 \\\\ 0 & -1}  } $\n",
        "$ \\newcommand{\\Htwo}{ \\mymatrix{rrrr}{ \\frac{1}{2} & \\frac{1}{2} & \\frac{1}{2} & \\frac{1}{2} \\\\ \\frac{1}{2} & -\\frac{1}{2} & \\frac{1}{2} & -\\frac{1}{2} \\\\ \\frac{1}{2} & \\frac{1}{2} & -\\frac{1}{2} & -\\frac{1}{2} \\\\ \\frac{1}{2} & -\\frac{1}{2} & -\\frac{1}{2} & \\frac{1}{2} } } $\n",
        "$ \\newcommand{\\CNOT}{ \\mymatrix{cccc}{1 & 0 & 0 & 0 \\\\ 0 & 1 & 0 & 0 \\\\ 0 & 0 & 0 & 1 \\\\ 0 & 0 & 1 & 0} } $\n",
        "$ \\newcommand{\\norm}[1]{ \\left\\lVert #1 \\right\\rVert } $\n",
        "$ \\newcommand{\\pstate}[1]{ \\lceil \\mspace{-1mu} #1 \\mspace{-1.5mu} \\rfloor } $\n",
        "$ \\newcommand{\\greenbit}[1] {\\mathbf{{\\color{green}#1}}} $\n",
        "$ \\newcommand{\\bluebit}[1] {\\mathbf{{\\color{blue}#1}}} $\n",
        "$ \\newcommand{\\redbit}[1] {\\mathbf{{\\color{red}#1}}} $\n",
        "$ \\newcommand{\\brownbit}[1] {\\mathbf{{\\color{brown}#1}}} $\n",
        "$ \\newcommand{\\blackbit}[1] {\\mathbf{{\\color{black}#1}}} $"
      ],
      "metadata": {
        "id": "R5K_7W7ia65y"
      }
    },
    {
      "cell_type": "markdown",
      "metadata": {
        "id": "vOyysxtBM2mG"
      },
      "source": [
        "_prepared by Abuzer Yakaryilmaz and Özlem Salehi_"
      ]
    },
    {
      "cell_type": "markdown",
      "metadata": {
        "id": "DLjdhUaYM2mG"
      },
      "source": [
        "<font size=\"28px\" style=\"font-size:28px;\" align=\"left\"><b>Exercise: Inversion About the Mean </b></font>\n"
      ]
    },
    {
      "cell_type": "markdown",
      "metadata": {
        "jp-MarkdownHeadingCollapsed": true,
        "id": "zYuLlvZVM2mG"
      },
      "source": [
        "##### <font color=\"#08b806\">Please execute the following cell, it is necessary to distinguish between your local environment and Google Colab's"
      ]
    },
    {
      "cell_type": "code",
      "execution_count": null,
      "metadata": {
        "id": "ISoQiHSmM2mG"
      },
      "outputs": [],
      "source": [
        "import IPython\n",
        "\n",
        "def in_colab():\n",
        "    try:\n",
        "        import google.colab\n",
        "        return True\n",
        "    except:\n",
        "        return False\n",
        "\n",
        "SolutionToTask1 = lambda: IPython.display.display(IPython.display.Javascript('window.open(\"{url}\");'.format(url='https://colab.research.google.com/drive/1R_mQoAKNQRrWdGRG2g9_JbW100E-rDHL#scrollTo=q7iXDlsBJfMd' if in_colab() else 'Inversion_About_the_Mean_Solutions.ipynb#task1')))\n",
        "SolutionToTask2 = lambda: IPython.display.display(IPython.display.Javascript('window.open(\"{url}\");'.format(url='https://colab.research.google.com/drive/1R_mQoAKNQRrWdGRG2g9_JbW100E-rDHL#scrollTo=WuoVoB77JfMe' if in_colab() else 'Inversion_About_the_Mean_Solutions.ipynb#task2')))\n",
        "SolutionToTask3 = lambda: IPython.display.display(IPython.display.Javascript('window.open(\"{url}\");'.format(url='https://colab.research.google.com/drive/1R_mQoAKNQRrWdGRG2g9_JbW100E-rDHL#scrollTo=tFMlvDn7JfMf' if in_colab() else 'Inversion_About_the_Mean_Solutions.ipynb#task3')))\n",
        "SolutionToTask4 = lambda: IPython.display.display(IPython.display.Javascript('window.open(\"{url}\");'.format(url='https://colab.research.google.com/drive/1R_mQoAKNQRrWdGRG2g9_JbW100E-rDHL#scrollTo=ChP59snuJfMf' if in_colab() else 'Inversion_About_the_Mean_Solutions.ipynb#task4')))\n",
        "SolutionToTask5 = lambda: IPython.display.display(IPython.display.Javascript('window.open(\"{url}\");'.format(url='https://colab.research.google.com/drive/1R_mQoAKNQRrWdGRG2g9_JbW100E-rDHL#scrollTo=Y0dYmhDFJfMf' if in_colab() else 'Inversion_About_the_Mean_Solutions.ipynb#task5')))\n",
        "SolutionToTask6 = lambda: IPython.display.display(IPython.display.Javascript('window.open(\"{url}\");'.format(url='https://colab.research.google.com/drive/1R_mQoAKNQRrWdGRG2g9_JbW100E-rDHL#scrollTo=jVx-krftJfMg' if in_colab() else 'Inversion_About_the_Mean_Solutions.ipynb#task6')))\n",
        "SolutionToTask7 = lambda: IPython.display.display(IPython.display.Javascript('window.open(\"{url}\");'.format(url='https://colab.research.google.com/drive/1R_mQoAKNQRrWdGRG2g9_JbW100E-rDHL#scrollTo=GbVqaIqhJfMg' if in_colab() else 'Inversion_About_the_Mean_Solutions.ipynb#task7')))\n",
        "SolutionToTask8 = lambda: IPython.display.display(IPython.display.Javascript('window.open(\"{url}\");'.format(url='https://colab.research.google.com/drive/1R_mQoAKNQRrWdGRG2g9_JbW100E-rDHL#scrollTo=66T52N7sJfMg' if in_colab() else 'Inversion_About_the_Mean_Solutions.ipynb#task8')))\n",
        "SolutionToTask9 = lambda: IPython.display.display(IPython.display.Javascript('window.open(\"{url}\");'.format(url='https://colab.research.google.com/drive/1R_mQoAKNQRrWdGRG2g9_JbW100E-rDHL#scrollTo=NWfkyeKxJfMh' if in_colab() else 'Inversion_About_the_Mean_Solutions.ipynb#task9')))"
      ]
    },
    {
      "cell_type": "markdown",
      "metadata": {
        "id": "F3T-Icy5M2mH"
      },
      "source": [
        "#<h3>Task 1</h3>\n",
        "\n",
        "We play this game for $ N = 8 $.\n",
        "\n",
        "Suppose that only the 4th element is marked.\n",
        "\n",
        "We can visualize the values of elements in the list in the beginning as follows."
      ]
    },
    {
      "cell_type": "code",
      "execution_count": null,
      "metadata": {
        "id": "TZcziFLCM2mH"
      },
      "outputs": [],
      "source": [
        "from matplotlib.pyplot import bar\n",
        "\n",
        "labels = []\n",
        "elements = []\n",
        "for i in range(8):\n",
        "    labels = labels + [i+1]\n",
        "    elements  = elements + [1]\n",
        "\n",
        "# visualize the values of elements in the list\n",
        "bar(labels,elements)"
      ]
    },
    {
      "cell_type": "markdown",
      "metadata": {
        "id": "MRRMgjesM2mH"
      },
      "source": [
        "Iterate the game for one step and visualize the values of elements in the list after each phase."
      ]
    },
    {
      "cell_type": "markdown",
      "metadata": {
        "id": "CMy7aKjaM2mH"
      },
      "source": [
        "1st step - query phase:"
      ]
    },
    {
      "cell_type": "code",
      "execution_count": null,
      "metadata": {
        "id": "OeYw5J1AM2mH"
      },
      "outputs": [],
      "source": [
        "#\n",
        "# 1st step - query\n",
        "#\n",
        "\n",
        "# change the sign of the marked element, i.e., multiply it by -1\n",
        "\n",
        "# visualize the values of elements in the list\n",
        "bar(labels,elements)"
      ]
    },
    {
      "cell_type": "markdown",
      "metadata": {
        "id": "2tlQmt1yM2mH"
      },
      "source": [
        "1st step - inversion phase:"
      ]
    },
    {
      "cell_type": "code",
      "execution_count": null,
      "metadata": {
        "id": "zaVondXlM2mH"
      },
      "outputs": [],
      "source": [
        "#\n",
        "# 1st step - inversion\n",
        "#\n",
        "\n",
        "# calculate the mean of all values\n",
        "\n",
        "# then reflect each element over the mean, e.g.:\n",
        "#   if the mean is 0, then the reflection of 3 is -3\n",
        "#   if the mean is 1, then the reflection of 3 is -1\n",
        "#   if the mean is -1, then the reflection of 3 is -5\n",
        "\n",
        "\n",
        "# visualize the values of elements in the list\n",
        "bar(labels,elements)"
      ]
    },
    {
      "cell_type": "markdown",
      "metadata": {
        "id": "7wbg64KbM2mH"
      },
      "source": [
        "Iterate the game for one more step and visualize the values of elements in the list after each phase."
      ]
    },
    {
      "cell_type": "markdown",
      "metadata": {
        "id": "9mRDAmgcM2mH"
      },
      "source": [
        "2nd step - query phase:"
      ]
    },
    {
      "cell_type": "code",
      "execution_count": null,
      "metadata": {
        "id": "P3tduhbwM2mH"
      },
      "outputs": [],
      "source": [
        "#\n",
        "# 2nd step - query\n",
        "#\n",
        "\n",
        "\n",
        "# visualize the values of elements in the list\n",
        "bar(labels,elements)"
      ]
    },
    {
      "cell_type": "markdown",
      "metadata": {
        "id": "jOz9r_9RM2mI"
      },
      "source": [
        "2nd step - inversion phase:"
      ]
    },
    {
      "cell_type": "code",
      "execution_count": null,
      "metadata": {
        "id": "9C5s_ZnKM2mI"
      },
      "outputs": [],
      "source": [
        "#\n",
        "# 2nd step - inversion\n",
        "#\n",
        "\n",
        "\n",
        "# visualize the values of elements in the list\n",
        "bar(labels,elements)"
      ]
    },
    {
      "cell_type": "markdown",
      "metadata": {
        "id": "-1H6Sb-PM2mI"
      },
      "source": [
        "Iterate the game three more steps and visualize the values of elements in the list at the end."
      ]
    },
    {
      "cell_type": "code",
      "execution_count": null,
      "metadata": {
        "id": "AG1I5BzOM2mI"
      },
      "outputs": [],
      "source": [
        "#\n",
        "# your code is here\n",
        "#\n",
        "\n",
        "\n",
        "# visualize the values of elements in the list\n",
        "bar(labels,elements)"
      ]
    },
    {
      "cell_type": "markdown",
      "metadata": {
        "id": "Ppq9nub8M2mI"
      },
      "source": [
        "To check out our solution, run the next cell:"
      ]
    },
    {
      "cell_type": "code",
      "execution_count": null,
      "metadata": {
        "id": "yDXplMB-M2mI",
        "colab": {
          "base_uri": "https://localhost:8080/",
          "height": 17
        },
        "outputId": "da80a709-88fc-4fdb-bbaf-bd008d9f8320"
      },
      "outputs": [
        {
          "output_type": "display_data",
          "data": {
            "text/plain": [
              "<IPython.core.display.Javascript object>"
            ],
            "application/javascript": [
              "window.open(\"https://colab.research.google.com/drive/1R_mQoAKNQRrWdGRG2g9_JbW100E-rDHL#scrollTo=q7iXDlsBJfMd\");"
            ]
          },
          "metadata": {}
        }
      ],
      "source": [
        "SolutionToTask1()  # show solution for task 1"
      ]
    },
    {
      "cell_type": "markdown",
      "metadata": {
        "id": "dLrnubCxM2mI"
      },
      "source": [
        "<a name=\"task2\"></a>\n",
        "<h3>Task 2</h3>\n",
        "\n",
        "Write a function called *query* that\n",
        "- takes a list of elements and the list of marked elements,\n",
        "- change the sign of the marked elements, and then\n",
        "- returns the list.\n",
        "\n",
        "Write a function called *inversion* that\n",
        "- takes a list of elements and\n",
        "- reflects the value of each element over the mean of all values, and then\n",
        "- return the list.\n",
        "\n",
        "We iterate the same game given in Task 1 ($ N = 8 $ and the 4th element is the only marked one) 20 steps by using the functions *query* and *inversion*.\n",
        "\n",
        "**This time we trace the values of only the 4th element. We store the values of the 4th element on a list after each step, and then, we display this list as a bar chart.**"
      ]
    },
    {
      "cell_type": "code",
      "execution_count": null,
      "metadata": {
        "id": "bvxyUtZSM2mI"
      },
      "outputs": [],
      "source": [
        "def query(elements=[1],marked_elements=[0]):\n",
        "    #\n",
        "    # your code is here\n",
        "    #\n",
        "    return elements"
      ]
    },
    {
      "cell_type": "code",
      "execution_count": null,
      "metadata": {
        "id": "eJZiVONYM2mI"
      },
      "outputs": [],
      "source": [
        "def inversion (elements=[1]):\n",
        "    #\n",
        "    # your code is here\n",
        "    #\n",
        "    return elements"
      ]
    },
    {
      "cell_type": "code",
      "execution_count": null,
      "metadata": {
        "id": "_utUT_7AM2mI"
      },
      "outputs": [],
      "source": [
        "from matplotlib.pyplot import bar\n",
        "\n",
        "# define the list of size 8 on which each element has value of 1\n",
        "elements = []\n",
        "for i in range(8):\n",
        "    elements  = elements + [1]\n",
        "\n",
        "# index of the marked element\n",
        "marked_elements = [3]\n",
        "\n",
        "# define the list of iterations\n",
        "iterations = []\n",
        "# the list storing the values of the 4th element after each step\n",
        "L = []\n",
        "\n",
        "# the first values\n",
        "iterations.append(0)\n",
        "L.append(elements[marked_elements[0]])\n",
        "\n",
        "for step in range(20):\n",
        "    # store the iteration\n",
        "    iterations.append(step+1)\n",
        "    #\n",
        "    # your code is here\n",
        "    #\n",
        "\n",
        "# visualize the values of the 4th elements after each iterations\n",
        "bar(iterations,L)"
      ]
    },
    {
      "cell_type": "markdown",
      "metadata": {
        "id": "Nd8j8B0PM2mI"
      },
      "source": [
        "To check out our solution, run the next cell:"
      ]
    },
    {
      "cell_type": "code",
      "execution_count": null,
      "metadata": {
        "id": "Nu-g_x6bM2mI",
        "colab": {
          "base_uri": "https://localhost:8080/",
          "height": 17
        },
        "outputId": "22ec7be9-059b-4f1e-8b22-93c65ffea375"
      },
      "outputs": [
        {
          "output_type": "display_data",
          "data": {
            "text/plain": [
              "<IPython.core.display.Javascript object>"
            ],
            "application/javascript": [
              "window.open(\"https://colab.research.google.com/drive/1R_mQoAKNQRrWdGRG2g9_JbW100E-rDHL#scrollTo=WuoVoB77JfMe\");"
            ]
          },
          "metadata": {}
        }
      ],
      "source": [
        "SolutionToTask2()  # show solution for task 2"
      ]
    },
    {
      "cell_type": "markdown",
      "metadata": {
        "id": "pcsSvhg5M2mI"
      },
      "source": [
        "<h3>Task 3</h3>\n",
        "\n",
        "Repeat Task 2 where $ N = 16 $ and the 11th element is marked."
      ]
    },
    {
      "cell_type": "code",
      "execution_count": null,
      "metadata": {
        "id": "m_L47H7nM2mI"
      },
      "outputs": [],
      "source": [
        "#\n",
        "# your code is here\n",
        "#\n"
      ]
    },
    {
      "cell_type": "markdown",
      "metadata": {
        "id": "lDMjCwatM2mI"
      },
      "source": [
        "To check out our solution, run the next cell:"
      ]
    },
    {
      "cell_type": "code",
      "execution_count": null,
      "metadata": {
        "id": "0KZO09EvM2mI",
        "colab": {
          "base_uri": "https://localhost:8080/",
          "height": 17
        },
        "outputId": "ad57fff9-df72-4937-c473-1447c6189f12"
      },
      "outputs": [
        {
          "output_type": "display_data",
          "data": {
            "text/plain": [
              "<IPython.core.display.Javascript object>"
            ],
            "application/javascript": [
              "window.open(\"https://colab.research.google.com/drive/1R_mQoAKNQRrWdGRG2g9_JbW100E-rDHL#scrollTo=tFMlvDn7JfMf\");"
            ]
          },
          "metadata": {}
        }
      ],
      "source": [
        "SolutionToTask3()  # show solution for task 3"
      ]
    },
    {
      "cell_type": "markdown",
      "metadata": {
        "id": "z7bDQCVKM2mI"
      },
      "source": [
        "<h3>Task 4</h3>\n",
        "\n",
        "Repeat Task 3 by tracing only the 5th element where $ N = 16 $ and the 5th, 8th, and 10th elements are marked."
      ]
    },
    {
      "cell_type": "code",
      "execution_count": null,
      "metadata": {
        "id": "-Ldrs7yLM2mI"
      },
      "outputs": [],
      "source": [
        "#\n",
        "# your code is here\n",
        "#\n"
      ]
    },
    {
      "cell_type": "markdown",
      "metadata": {
        "id": "LZ9rTPcAM2mI"
      },
      "source": [
        "To check out our solution, run the next cell:"
      ]
    },
    {
      "cell_type": "code",
      "execution_count": null,
      "metadata": {
        "id": "zBLEbZPSM2mI"
      },
      "outputs": [],
      "source": [
        "SolutionToTask4()  # show solution for task 4"
      ]
    },
    {
      "cell_type": "markdown",
      "metadata": {
        "id": "OaIMg-e8M2mI"
      },
      "source": [
        "<h3>Task 5</h3>\n",
        "\n",
        "We iterate the same game 20 steps where $ N = 16 $ and the marked elements are the first four elements.\n",
        "\n",
        "Print the length of the list of elements (_i.e., consider it as a vector_) after each query and inversion phases.\n",
        "\n",
        "*Remark that the initial length is $ \\sqrt{ \\sum_{i=1}^{N} 1^2 } = \\sqrt{N} = \\sqrt{16}  =4 $.*"
      ]
    },
    {
      "cell_type": "code",
      "execution_count": null,
      "metadata": {
        "id": "D6Cn4VCgM2mI"
      },
      "outputs": [],
      "source": [
        "#\n",
        "# your code is here\n",
        "#\n"
      ]
    },
    {
      "cell_type": "markdown",
      "metadata": {
        "id": "99i8JiWjM2mI"
      },
      "source": [
        "To check out our solution, run the next cell:"
      ]
    },
    {
      "cell_type": "code",
      "execution_count": null,
      "metadata": {
        "id": "3a8UH4Z-M2mP"
      },
      "outputs": [],
      "source": [
        "SolutionToTask5()  # show solution for task 5"
      ]
    },
    {
      "cell_type": "markdown",
      "metadata": {
        "id": "mtDQxPxJM2mP"
      },
      "source": [
        "<h3>Task 6 </h3>\n",
        "\n",
        "Repeat Task 5 where $ N = 10 $ and the last element is marked.\n",
        "\n",
        "*Remark that the initial length is $ \\sqrt{10} $.*"
      ]
    },
    {
      "cell_type": "code",
      "execution_count": null,
      "metadata": {
        "id": "2LzlKA3WM2mP"
      },
      "outputs": [],
      "source": [
        "#\n",
        "# your code is here\n",
        "#\n"
      ]
    },
    {
      "cell_type": "markdown",
      "metadata": {
        "id": "k_fgdoMvM2mP"
      },
      "source": [
        "To check out our solution, run the next cell:"
      ]
    },
    {
      "cell_type": "code",
      "execution_count": null,
      "metadata": {
        "id": "vo6MU7S_M2mP"
      },
      "outputs": [],
      "source": [
        "SolutionToTask6()  # show solution for task 6"
      ]
    },
    {
      "cell_type": "markdown",
      "metadata": {
        "id": "pXP5oSSsM2mP"
      },
      "source": [
        "<h3> Task 7</h3>\n",
        "\n",
        "What are the initial values for the modified game if $ N=8 $?"
      ]
    },
    {
      "cell_type": "markdown",
      "metadata": {
        "id": "ZVsOckqaM2mP"
      },
      "source": [
        "To check out our solution, run the next cell:"
      ]
    },
    {
      "cell_type": "code",
      "execution_count": null,
      "metadata": {
        "id": "SaByLACPM2mP"
      },
      "outputs": [],
      "source": [
        "SolutionToTask7()  # show solution for task 7"
      ]
    },
    {
      "cell_type": "markdown",
      "metadata": {
        "id": "JS7PNfZ8M2mP"
      },
      "source": [
        "<h3> Task 8</h3>\n",
        "\n",
        "Iterate the modified game for 20 steps where $ N = 8 $ and the second element is marked.\n",
        "\n",
        "Print the list of elements after each phase.\n",
        "\n",
        "Check whether the length of list is 1 after each iteration."
      ]
    },
    {
      "cell_type": "code",
      "execution_count": null,
      "metadata": {
        "id": "RQJStRFDM2mP"
      },
      "outputs": [],
      "source": [
        "#\n",
        "# your code is here\n",
        "#\n"
      ]
    },
    {
      "cell_type": "markdown",
      "metadata": {
        "id": "KIGQ6ADCM2mP"
      },
      "source": [
        "To check out our solution, run the next cell:"
      ]
    },
    {
      "cell_type": "code",
      "execution_count": null,
      "metadata": {
        "id": "KvY_UMwhM2mP"
      },
      "outputs": [],
      "source": [
        "SolutionToTask8()  # show solution for task 8"
      ]
    },
    {
      "cell_type": "markdown",
      "metadata": {
        "id": "U-eO1HWLM2mP"
      },
      "source": [
        "<h3> Task 9</h3>\n",
        "\n",
        "Repeat Task 8 for $ N = 16 $ where the first 12 elements are marked."
      ]
    },
    {
      "cell_type": "code",
      "execution_count": null,
      "metadata": {
        "id": "ClGRVGDIM2mP"
      },
      "outputs": [],
      "source": [
        "#\n",
        "# your code is here\n",
        "#\n"
      ]
    },
    {
      "cell_type": "markdown",
      "metadata": {
        "id": "9dRzHJh_M2mP"
      },
      "source": [
        "To check out our solution, run the next cell:"
      ]
    },
    {
      "cell_type": "code",
      "execution_count": null,
      "metadata": {
        "id": "uEUk6T_PM2mP",
        "colab": {
          "base_uri": "https://localhost:8080/",
          "height": 17
        },
        "outputId": "22e9403c-042c-4326-a9ed-84983e7b767b"
      },
      "outputs": [
        {
          "output_type": "display_data",
          "data": {
            "text/plain": [
              "<IPython.core.display.Javascript object>"
            ],
            "application/javascript": [
              "window.open(\"https://colab.research.google.com/drive/1R_mQoAKNQRrWdGRG2g9_JbW100E-rDHL#scrollTo=NWfkyeKxJfMh\");"
            ]
          },
          "metadata": {}
        }
      ],
      "source": [
        "SolutionToTask9()  # show solution for task 9"
      ]
    },
    {
      "cell_type": "markdown",
      "metadata": {
        "id": "9H6VeLGoM2mQ"
      },
      "source": [
        "<h3> Task 10</h3>\n",
        "\n",
        "Convince yourself that $ D \\myvector{x_1 \\\\ \\vdots \\\\ x_N} = \\myvector{ 2m-x_1 \\\\ \\vdots \\\\ 2m-x_N } $, where $ m = \\dfrac{ \\sum_{i=1}^N x_i } { N} $."
      ]
    },
    {
      "cell_type": "markdown",
      "metadata": {
        "id": "UtwdqVdTM2mQ"
      },
      "source": [
        "<h3> Task 11</h3>\n",
        "\n",
        "Let $ A =  \\mymatrix{ccc}{\n",
        "    \\frac{1}{N}  & \\cdots & \\frac{1}{N} \\\\\n",
        "    \\vdots & \\ddots & \\vdots \\\\\n",
        "    \\frac{1}{N}  & \\cdots & \\frac{1}{N} \\\\\n",
        "    }  $.\n",
        "Convince yourself that $ A^2 = A $ and $ D^T = D $.\n",
        "\n",
        "Since $ D = 2A - I $, convince yourself that $ D $ is unitary by showing that $ D^T \\cdot D = I $, i.e., $ (2A-I)(2A-I) = I $."
      ]
    }
  ],
  "metadata": {
    "kernelspec": {
      "display_name": "Python 3 (ipykernel)",
      "language": "python",
      "name": "python3"
    },
    "language_info": {
      "codemirror_mode": {
        "name": "ipython",
        "version": 3
      },
      "file_extension": ".py",
      "mimetype": "text/x-python",
      "name": "python",
      "nbconvert_exporter": "python",
      "pygments_lexer": "ipython3",
      "version": "3.11.4"
    },
    "colab": {
      "provenance": [],
      "include_colab_link": true
    }
  },
  "nbformat": 4,
  "nbformat_minor": 0
}