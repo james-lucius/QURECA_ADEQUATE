{
  "nbformat": 4,
  "nbformat_minor": 0,
  "metadata": {
    "colab": {
      "provenance": [],
      "include_colab_link": true
    },
    "kernelspec": {
      "name": "python3",
      "display_name": "Python 3"
    },
    "language_info": {
      "name": "python"
    }
  },
  "cells": [
    {
      "cell_type": "markdown",
      "metadata": {
        "id": "view-in-github",
        "colab_type": "text"
      },
      "source": [
        "<a href=\"https://colab.research.google.com/github/james-lucius/QURECA_ADEQUATE/blob/main/M2_1_5_1_Probablistic_Operators_Exercises.ipynb\" target=\"_parent\"><img src=\"https://colab.research.google.com/assets/colab-badge.svg\" alt=\"Open In Colab\"/></a>"
      ]
    },
    {
      "cell_type": "markdown",
      "source": [
        "<img src=\"https://gitlab.com/qworld/qeducation/educational-materials/adequate-qbook1/raw/main/qworld/images/adq_1.png\" align=\"left\" width=450></a>\n",
        "$ \\newcommand{\\bra}[1]{\\langle #1|} $\n",
        "$ \\newcommand{\\ket}[1]{|#1\\rangle} $\n",
        "$ \\newcommand{\\braket}[2]{\\langle #1|#2\\rangle} $\n",
        "$ \\newcommand{\\dot}[2]{ #1 \\cdot #2} $\n",
        "$ \\newcommand{\\biginner}[2]{\\left\\langle #1,#2\\right\\rangle} $\n",
        "$ \\newcommand{\\mymatrix}[2]{\\left( \\begin{array}{#1} #2\\end{array} \\right)} $\n",
        "$ \\newcommand{\\myvector}[1]{\\mymatrix{c}{#1}} $\n",
        "$ \\newcommand{\\myrvector}[1]{\\mymatrix{r}{#1}} $\n",
        "$ \\newcommand{\\mypar}[1]{\\left( #1 \\right)} $\n",
        "$ \\newcommand{\\mybigpar}[1]{ \\Big( #1 \\Big)} $\n",
        "$ \\newcommand{\\sqrttwo}{\\frac{1}{\\sqrt{2}}} $\n",
        "$ \\newcommand{\\dsqrttwo}{\\dfrac{1}{\\sqrt{2}}} $\n",
        "$ \\newcommand{\\onehalf}{\\frac{1}{2}} $\n",
        "$ \\newcommand{\\donehalf}{\\dfrac{1}{2}} $\n",
        "$ \\newcommand{\\hadamard}{ \\mymatrix{rr}{ \\sqrttwo & \\sqrttwo \\\\ \\sqrttwo & -\\sqrttwo }} $\n",
        "$ \\newcommand{\\vzero}{\\myvector{1\\\\0}} $\n",
        "$ \\newcommand{\\vone}{\\myvector{0\\\\1}} $\n",
        "$ \\newcommand{\\stateplus}{\\myvector{ \\sqrttwo \\\\  \\sqrttwo } } $\n",
        "$ \\newcommand{\\stateminus}{ \\myrvector{ \\sqrttwo \\\\ -\\sqrttwo } } $\n",
        "$ \\newcommand{\\myarray}[2]{ \\begin{array}{#1}#2\\end{array}} $\n",
        "$ \\newcommand{\\X}{ \\mymatrix{cc}{0 & 1 \\\\ 1 & 0}  } $\n",
        "$ \\newcommand{\\I}{ \\mymatrix{rr}{1 & 0 \\\\ 0 & 1}  } $\n",
        "$ \\newcommand{\\Z}{ \\mymatrix{rr}{1 & 0 \\\\ 0 & -1}  } $\n",
        "$ \\newcommand{\\Htwo}{ \\mymatrix{rrrr}{ \\frac{1}{2} & \\frac{1}{2} & \\frac{1}{2} & \\frac{1}{2} \\\\ \\frac{1}{2} & -\\frac{1}{2} & \\frac{1}{2} & -\\frac{1}{2} \\\\ \\frac{1}{2} & \\frac{1}{2} & -\\frac{1}{2} & -\\frac{1}{2} \\\\ \\frac{1}{2} & -\\frac{1}{2} & -\\frac{1}{2} & \\frac{1}{2} } } $\n",
        "$ \\newcommand{\\CNOT}{ \\mymatrix{cccc}{1 & 0 & 0 & 0 \\\\ 0 & 1 & 0 & 0 \\\\ 0 & 0 & 0 & 1 \\\\ 0 & 0 & 1 & 0} } $\n",
        "$ \\newcommand{\\norm}[1]{ \\left\\lVert #1 \\right\\rVert } $\n",
        "$ \\newcommand{\\pstate}[1]{ \\lceil \\mspace{-1mu} #1 \\mspace{-1.5mu} \\rfloor } $\n",
        "$ \\newcommand{\\greenbit}[1] {\\mathbf{{\\color{green}#1}}} $\n",
        "$ \\newcommand{\\bluebit}[1] {\\mathbf{{\\color{blue}#1}}} $\n",
        "$ \\newcommand{\\redbit}[1] {\\mathbf{{\\color{red}#1}}} $\n",
        "$ \\newcommand{\\brownbit}[1] {\\mathbf{{\\color{brown}#1}}} $\n",
        "$ \\newcommand{\\blackbit}[1] {\\mathbf{{\\color{black}#1}}} $"
      ],
      "metadata": {
        "id": "IlOznUUhj5Mq"
      }
    },
    {
      "cell_type": "markdown",
      "source": [
        "_prepared by Abuzer Yakaryilmaz_"
      ],
      "metadata": {
        "id": "NT8PdNtHkJRp"
      }
    },
    {
      "cell_type": "markdown",
      "source": [
        "<font size=\"28px\" style=\"font-size:28px;\" align=\"left\"><b> <font color=\"blue\"> Exercises for </font>Probabilistic Operators </b></font>"
      ],
      "metadata": {
        "id": "t1q5uelEkPsh"
      }
    },
    {
      "cell_type": "markdown",
      "source": [
        "##### <font color=\"#08b806\">Please execute the following cell, it is necessary to distinguish between your local environment and Google Colab's"
      ],
      "metadata": {
        "id": "qihuQn35aNpd"
      }
    },
    {
      "cell_type": "code",
      "source": [
        "import IPython\n",
        "\n",
        "def in_colab():\n",
        "    try:\n",
        "        import google.colab\n",
        "        return True\n",
        "    except:\n",
        "        return False\n",
        "\n",
        "SolutionToTask2 = lambda: IPython.display.display(IPython.display.Javascript('window.open(\"{url}\");'.format(url='https://colab.research.google.com/drive/12MousEBp_2vxS249g6j40Xrju3vdIBbF#scrollTo=d8F2QM47H_tD' if in_colab() else 'Probabilistic_Operators_Exercises_Solutions.ipynb#task2')))\n",
        "SolutionToTask3 = lambda: IPython.display.display(IPython.display.Javascript('window.open(\"{url}\");'.format(url='https://colab.research.google.com/drive/12MousEBp_2vxS249g6j40Xrju3vdIBbF#scrollTo=sJ0Rx2nKH_tD' if in_colab() else 'Probabilistic_Operators_Exercises_Solutions.ipynb#task3')))\n",
        "SolutionToTask4 = lambda: IPython.display.display(IPython.display.Javascript('window.open(\"{url}\");'.format(url='https://colab.research.google.com/drive/12MousEBp_2vxS249g6j40Xrju3vdIBbF#scrollTo=XA1SUq_LH_tE' if in_colab() else 'Probabilistic_Operators_Exercises_Solutions.ipynb#task4')))\n",
        "SolutionToTask5 = lambda: IPython.display.display(IPython.display.Javascript('window.open(\"{url}\");'.format(url='https://colab.research.google.com/drive/12MousEBp_2vxS249g6j40Xrju3vdIBbF#scrollTo=o3Dj7oxLH_tF' if in_colab() else 'Probabilistic_Operators_Exercises_Solutions.ipynb#task5')))"
      ],
      "metadata": {
        "id": "7E25KeV6aQ1L"
      },
      "execution_count": 1,
      "outputs": []
    },
    {
      "cell_type": "markdown",
      "metadata": {
        "id": "qyObqe0yIn3Y"
      },
      "source": [
        "#<h3> Task 2 </h3>\n",
        "\n",
        "We are given the following probabilistic operator: $ B =  \\mymatrix{ccc}{ 0.4 & 0.6 & 0 \\\\ 0.2 & 0.1 & 0.7 \\\\ 0.4 & 0.3 & 0.3 } $.\n",
        "\n",
        "What is the transition probability from the second state to the third state?\n",
        "\n",
        "What is the transition probability from the third state to the first state?\n",
        "\n",
        "What is the transition probability from the first state to the second state?"
      ]
    },
    {
      "cell_type": "markdown",
      "metadata": {
        "id": "UcA7lV6WIn3Y"
      },
      "source": [
        "To check out our solution, run the next cell:"
      ]
    },
    {
      "cell_type": "markdown",
      "source": [
        "# Solutions to Task 2\n",
        "second to third = 0.3\n",
        "third to first = 0\n",
        "first to second = 0.2"
      ],
      "metadata": {
        "id": "uGQtHUjG2xeo"
      }
    },
    {
      "cell_type": "code",
      "execution_count": null,
      "metadata": {
        "id": "5DQC2b-dIn3Y",
        "outputId": "ebe10add-16bf-4ec2-9919-ef20d58189f6",
        "colab": {
          "base_uri": "https://localhost:8080/",
          "height": 17
        }
      },
      "outputs": [
        {
          "output_type": "display_data",
          "data": {
            "text/plain": [
              "<IPython.core.display.Javascript object>"
            ],
            "application/javascript": [
              "window.open(\"https://colab.research.google.com/drive/12MousEBp_2vxS249g6j40Xrju3vdIBbF#scrollTo=d8F2QM47H_tD\");"
            ]
          },
          "metadata": {}
        }
      ],
      "source": [
        "SolutionToTask2()  # show solution for task 2"
      ]
    },
    {
      "cell_type": "markdown",
      "metadata": {
        "id": "e2w6rNM0In3Z"
      },
      "source": [
        "<h3>Task 3</h3>\n",
        "\n",
        "Randomly construct a $ (3 \\times 3 ) $-dimensional probabilistic operator.\n",
        "\n",
        "That is, randomly determine the entries of the matrix that represents a probabilistic operator."
      ]
    },
    {
      "cell_type": "code",
      "execution_count": 4,
      "metadata": {
        "id": "coxNvF82In3Z",
        "outputId": "0de5f25e-72ea-4697-c4d4-83ba1e46c73e",
        "colab": {
          "base_uri": "https://localhost:8080/"
        }
      },
      "outputs": [
        {
          "output_type": "stream",
          "name": "stdout",
          "text": [
            "[0.19 0.28 0.26]\n",
            "[0.27 0.31 0.35]\n",
            "[0.53 0.4  0.39]\n"
          ]
        }
      ],
      "source": [
        "#\n",
        "# your solution is here\n",
        "#\n",
        "import numpy as np\n",
        "from random import randrange\n",
        "probabilistic_operator = np.random.rand(3, 3)\n",
        "for i in range(3):\n",
        "  column_i = probabilistic_operator[:, i]\n",
        "  column_i /= np.sum(column_i)\n",
        "  probabilistic_operator[:, i] = column_i\n",
        "\n",
        "for i in range(3):\n",
        "  for j in range(3):\n",
        "    probabilistic_operator[i, j] = probabilistic_operator[i, j].round(2)\n",
        "for row in probabilistic_operator: print(row)"
      ]
    },
    {
      "cell_type": "markdown",
      "metadata": {
        "id": "hsya0BaxIn3Z"
      },
      "source": [
        "To check out our solution, run the next cell:"
      ]
    },
    {
      "cell_type": "code",
      "execution_count": null,
      "metadata": {
        "id": "HppA_CoRIn3Z"
      },
      "outputs": [],
      "source": [
        "SolutionToTask3()  # show solution for task 3"
      ]
    },
    {
      "cell_type": "markdown",
      "metadata": {
        "id": "7vmJHxBLIn3Z"
      },
      "source": [
        "<h3> Task 4 </h3>\n",
        "\n",
        "What is the new probabilistic state if the operator $ B =  \\mymatrix{ccc}{ 0.4 & 0.6 & 0 \\\\ 0.2 & 0.1 & 0.7 \\\\ 0.4 & 0.3 & 0.3 } $ is applied to the state $ \\myvector{ 0.1 \\\\ 0.3 \\\\ 0.6 } $.\n",
        "\n",
        "Please find the result by using matrix-vector multiplication.\n",
        "\n",
        "Please do not use any python library for matrix-vector multiplication.\n",
        "\n",
        "<i> The new probabilistic state should be $ \\myvector{0.22 \\\\ 0.47 \\\\ 0.31} $. </i>"
      ]
    },
    {
      "cell_type": "code",
      "execution_count": 5,
      "metadata": {
        "id": "VgDTKChbIn3Z",
        "outputId": "458f5bb0-cc78-46b8-9e56-ecbfe6bb5863",
        "colab": {
          "base_uri": "https://localhost:8080/"
        }
      },
      "outputs": [
        {
          "output_type": "stream",
          "name": "stdout",
          "text": [
            "[0.22, 0.47, 0.31]\n"
          ]
        }
      ],
      "source": [
        "# operator B\n",
        "B = [\n",
        "    [0.4,0.6,0],\n",
        "    [0.2,0.1,0.7],\n",
        "    [0.4,0.3,0.3]\n",
        "]\n",
        "\n",
        "# the current state\n",
        "v = [0.1,0.3,0.6]\n",
        "\n",
        "#\n",
        "# your solution is here\n",
        "#\n",
        "v_new = []\n",
        "for i in range(3):\n",
        "  result = 0\n",
        "  for j in range(3):\n",
        "    result += B[i][j] * v[j]\n",
        "  v_new.append(result)\n",
        "\n",
        "print(v_new)"
      ]
    },
    {
      "cell_type": "markdown",
      "metadata": {
        "id": "C56qfY1-In3Z"
      },
      "source": [
        "To check out our solution, run the next cell:"
      ]
    },
    {
      "cell_type": "code",
      "execution_count": null,
      "metadata": {
        "id": "7BZ7nOnsIn3Z"
      },
      "outputs": [],
      "source": [
        "SolutionToTask4()  # show solution for task 4"
      ]
    },
    {
      "cell_type": "markdown",
      "metadata": {
        "id": "jTviv-CCIn3Z"
      },
      "source": [
        "<h3> Task 5 </h3>\n",
        "\n",
        "Write a function named <i>linear_evolve</i> that takes a probabilistic operator and a probabilistic state, and then returns the new probabilistic state.\n",
        "\n",
        "Please do not use any python library for matrix-vector multiplication.\n",
        "\n",
        "Your function should work for any dimension.\n",
        "\n",
        "Save your function so that you can use it later.\n",
        "<br>\n",
        "<div style=\"background-color:#f8f8f8;\">\n",
        "<b><u>Write the content of a code cell</u></b> into an external file:\n",
        "    \n",
        "    %%writefile linear_evolve.py\n",
        "This command should be placed in the first line of cell, and then the cell should be executed.\n",
        "</div>\n",
        "\n",
        "Test your function on $ B = \\mymatrix{ccc}{ 0.4 & 0.6 & 0 \\\\ 0.2 & 0.1 & 0.7 \\\\ 0.4 & 0.3 & 0.3 } $ and $ \\myvector{0.1 \\\\ 0.3 \\\\ 0.6} $.\n",
        "\n",
        "The new probabilistic state should be $ \\myvector{0.22 \\\\ 0.47 \\\\ 0.31} $.\n",
        "\n",
        "Then, evolve your system for 5, 10, 20, and 40 steps.\n",
        "\n",
        "This system should evolve to a fixed probabilistic state.\n",
        "\n",
        "Change your initial state to  $ \\myvector{1 \\\\ 0 \\\\ 0} $, and see whether the converged state is the same or not."
      ]
    },
    {
      "cell_type": "code",
      "execution_count": 6,
      "metadata": {
        "id": "sIrZqI0EIn3Z",
        "outputId": "babe22c2-f28e-4c7e-f20e-531f1408eb41",
        "colab": {
          "base_uri": "https://localhost:8080/"
        }
      },
      "outputs": [
        {
          "output_type": "stream",
          "name": "stdout",
          "text": [
            "Writing linear_evolve.py\n"
          ]
        }
      ],
      "source": [
        "%%writefile linear_evolve.py\n",
        "# define function\n",
        "def linear_evolve(operator, state):\n",
        "  new_state = []\n",
        "  for i in range(len(operator)):\n",
        "    result = 0\n",
        "    for j in range(len(state)):\n",
        "      result += operator[i][j] * state[j]\n",
        "    new_state.append(result)\n",
        "  return new_state"
      ]
    },
    {
      "cell_type": "code",
      "execution_count": 7,
      "metadata": {
        "id": "o3ihva2wIn3Z",
        "outputId": "197fc015-f721-47e8-827f-4daec24d883e",
        "colab": {
          "base_uri": "https://localhost:8080/"
        }
      },
      "outputs": [
        {
          "output_type": "stream",
          "name": "stdout",
          "text": [
            "[0.22, 0.47, 0.31]\n"
          ]
        }
      ],
      "source": [
        "# run your script\n",
        "%run linear_evolve.py\n",
        "\n",
        "# operator for the test\n",
        "B = [\n",
        "    [0.4,0.6,0],\n",
        "    [0.2,0.1,0.7],\n",
        "    [0.4,0.3,0.3]\n",
        "]\n",
        "\n",
        "# state for test\n",
        "v = [0.1,0.3,0.6]\n",
        "\n",
        "#\n",
        "# your solution is here\n",
        "#\n",
        "print(linear_evolve(B, v))"
      ]
    },
    {
      "cell_type": "markdown",
      "metadata": {
        "id": "uzioS4qUIn3Z"
      },
      "source": [
        "To check out our solution, run the next cell:"
      ]
    },
    {
      "cell_type": "code",
      "execution_count": null,
      "metadata": {
        "id": "T4YtffR2In3Z"
      },
      "outputs": [],
      "source": [
        "SolutionToTask5()  # show solution for task 5"
      ]
    },
    {
      "cell_type": "markdown",
      "metadata": {
        "id": "-0qdewp9In3Z"
      },
      "source": [
        "---\n",
        "\n",
        "<h3> Extra: Task 6 </h3>\n",
        "\n",
        "The operator $ \\widetilde{I} = \\mymatrix{cc}{0.999 & 0.001\\\\ 0.001 & 0.999 } $ is very similar to Identity operator. However, it converges to a certain matrix.\n",
        "\n",
        "Find $  \\underbrace{\\widetilde{I} \\cdot \\widetilde{I} \\cdots \\widetilde{I}}_{k\\mbox{ times}} $ for $ k = 10, 100, 1000, 10000, 100000 $ and then guess the converging matrix."
      ]
    },
    {
      "cell_type": "markdown",
      "metadata": {
        "id": "Kuj38CEuIn3Z"
      },
      "source": [
        "<h3> Extra: Task 7 </h3>\n",
        "\n",
        "Repeat Task 6 for the operator $ \\widetilde{NOT} = \\mymatrix{cc}{0.001 & 0.999\\\\ 0.999 & 0.001 } $."
      ]
    }
  ]
}