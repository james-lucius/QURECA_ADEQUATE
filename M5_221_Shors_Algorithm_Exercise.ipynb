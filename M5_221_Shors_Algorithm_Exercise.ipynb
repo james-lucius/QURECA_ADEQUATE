{
  "cells": [
    {
      "cell_type": "markdown",
      "metadata": {
        "id": "view-in-github",
        "colab_type": "text"
      },
      "source": [
        "<a href=\"https://colab.research.google.com/github/james-lucius/qureca_ADEQUATE/blob/main/M5_221_Shors_Algorithm_Exercise.ipynb\" target=\"_parent\"><img src=\"https://colab.research.google.com/assets/colab-badge.svg\" alt=\"Open In Colab\"/></a>"
      ]
    },
    {
      "cell_type": "markdown",
      "source": [
        "<img src=\"https://gitlab.com/qworld/qeducation/educational-materials/adequate-qbook1/raw/main/qworld/images/adq_1.png\" align=\"left\" width=450></a>\n",
        "$ \\newcommand{\\bra}[1]{\\langle #1|} $\n",
        "$ \\newcommand{\\ket}[1]{|#1\\rangle} $\n",
        "$ \\newcommand{\\braket}[2]{\\langle #1|#2\\rangle} $\n",
        "$ \\newcommand{\\dot}[2]{ #1 \\cdot #2} $\n",
        "$ \\newcommand{\\biginner}[2]{\\left\\langle #1,#2\\right\\rangle} $\n",
        "$ \\newcommand{\\mymatrix}[2]{\\left( \\begin{array}{#1} #2\\end{array} \\right)} $\n",
        "$ \\newcommand{\\myvector}[1]{\\mymatrix{c}{#1}} $\n",
        "$ \\newcommand{\\myrvector}[1]{\\mymatrix{r}{#1}} $\n",
        "$ \\newcommand{\\mypar}[1]{\\left( #1 \\right)} $\n",
        "$ \\newcommand{\\mybigpar}[1]{ \\Big( #1 \\Big)} $\n",
        "$ \\newcommand{\\sqrttwo}{\\frac{1}{\\sqrt{2}}} $\n",
        "$ \\newcommand{\\dsqrttwo}{\\dfrac{1}{\\sqrt{2}}} $\n",
        "$ \\newcommand{\\onehalf}{\\frac{1}{2}} $\n",
        "$ \\newcommand{\\donehalf}{\\dfrac{1}{2}} $\n",
        "$ \\newcommand{\\hadamard}{ \\mymatrix{rr}{ \\sqrttwo & \\sqrttwo \\\\ \\sqrttwo & -\\sqrttwo }} $\n",
        "$ \\newcommand{\\vzero}{\\myvector{1\\\\0}} $\n",
        "$ \\newcommand{\\vone}{\\myvector{0\\\\1}} $\n",
        "$ \\newcommand{\\stateplus}{\\myvector{ \\sqrttwo \\\\  \\sqrttwo } } $\n",
        "$ \\newcommand{\\stateminus}{ \\myrvector{ \\sqrttwo \\\\ -\\sqrttwo } } $\n",
        "$ \\newcommand{\\myarray}[2]{ \\begin{array}{#1}#2\\end{array}} $\n",
        "$ \\newcommand{\\X}{ \\mymatrix{cc}{0 & 1 \\\\ 1 & 0}  } $\n",
        "$ \\newcommand{\\Z}{ \\mymatrix{rr}{1 & 0 \\\\ 0 & -1}  } $\n",
        "$ \\newcommand{\\Htwo}{ \\mymatrix{rrrr}{ \\frac{1}{2} & \\frac{1}{2} & \\frac{1}{2} & \\frac{1}{2} \\\\ \\frac{1}{2} & -\\frac{1}{2} & \\frac{1}{2} & -\\frac{1}{2} \\\\ \\frac{1}{2} & \\frac{1}{2} & -\\frac{1}{2} & -\\frac{1}{2} \\\\ \\frac{1}{2} & -\\frac{1}{2} & -\\frac{1}{2} & \\frac{1}{2} } } $\n",
        "$ \\newcommand{\\CNOT}{ \\mymatrix{cccc}{1 & 0 & 0 & 0 \\\\ 0 & 1 & 0 & 0 \\\\ 0 & 0 & 0 & 1 \\\\ 0 & 0 & 1 & 0} } $\n",
        "$ \\newcommand{\\norm}[1]{ \\left\\lVert #1 \\right\\rVert } $\n",
        "$ \\newcommand{\\pstate}[1]{ \\lceil \\mspace{-1mu} #1 \\mspace{-1.5mu} \\rfloor } $"
      ],
      "metadata": {
        "id": "A5elZd-TC8s7"
      }
    },
    {
      "cell_type": "markdown",
      "metadata": {
        "id": "jangoNLVmaOW"
      },
      "source": [
        "_prepared by Özlem Salehi_"
      ]
    },
    {
      "cell_type": "markdown",
      "metadata": {
        "id": "qgZnvV1gmaOW"
      },
      "source": [
        "<font size=\"28px\" style=\"font-size:28px;\" align=\"left\"><b> Exercise: Shor's Algorithm </b></font>\n"
      ]
    },
    {
      "cell_type": "markdown",
      "metadata": {
        "jp-MarkdownHeadingCollapsed": true,
        "id": "zIP07c1bmaOW"
      },
      "source": [
        "##### <font color=\"#08b806\">Please execute the following cell, it is necessary to distinguish between your local environment and Google Colab's"
      ]
    },
    {
      "cell_type": "code",
      "execution_count": 1,
      "metadata": {
        "id": "wvnlRALumaOW",
        "colab": {
          "base_uri": "https://localhost:8080/"
        },
        "outputId": "ba7e6025-8cf3-4a79-80fb-5e8beffb2d4c"
      },
      "outputs": [
        {
          "output_type": "stream",
          "name": "stdout",
          "text": [
            "--2025-07-04 00:25:58--  https://gitlab.com/qworld/qeducation/qbook101/raw/main/qworld/include/shor.py\n",
            "Resolving gitlab.com (gitlab.com)... 172.65.251.78, 2606:4700:90:0:f22e:fbec:5bed:a9b9\n",
            "Connecting to gitlab.com (gitlab.com)|172.65.251.78|:443... connected.\n",
            "HTTP request sent, awaiting response... 200 OK\n",
            "Length: 569 [text/plain]\n",
            "Saving to: ‘shor.py’\n",
            "\n",
            "shor.py             100%[===================>]     569  --.-KB/s    in 0s      \n",
            "\n",
            "2025-07-04 00:25:58 (311 MB/s) - ‘shor.py’ saved [569/569]\n",
            "\n",
            "Collecting cirq\n",
            "  Downloading cirq-1.5.0-py3-none-any.whl.metadata (15 kB)\n",
            "Collecting cirq-aqt==1.5.0 (from cirq)\n",
            "  Downloading cirq_aqt-1.5.0-py3-none-any.whl.metadata (4.8 kB)\n",
            "Collecting cirq-core==1.5.0 (from cirq)\n",
            "  Downloading cirq_core-1.5.0-py3-none-any.whl.metadata (4.9 kB)\n",
            "Collecting cirq-google==1.5.0 (from cirq)\n",
            "  Downloading cirq_google-1.5.0-py3-none-any.whl.metadata (4.9 kB)\n",
            "Collecting cirq-ionq==1.5.0 (from cirq)\n",
            "  Downloading cirq_ionq-1.5.0-py3-none-any.whl.metadata (4.7 kB)\n",
            "Collecting cirq-pasqal==1.5.0 (from cirq)\n",
            "  Downloading cirq_pasqal-1.5.0-py3-none-any.whl.metadata (4.8 kB)\n",
            "Collecting cirq-web==1.5.0 (from cirq)\n",
            "  Downloading cirq_web-1.5.0-py3-none-any.whl.metadata (5.5 kB)\n",
            "Requirement already satisfied: requests~=2.32 in /usr/local/lib/python3.11/dist-packages (from cirq-aqt==1.5.0->cirq) (2.32.3)\n",
            "Requirement already satisfied: attrs>=21.3.0 in /usr/local/lib/python3.11/dist-packages (from cirq-core==1.5.0->cirq) (25.3.0)\n",
            "Collecting duet>=0.2.8 (from cirq-core==1.5.0->cirq)\n",
            "  Downloading duet-0.2.9-py3-none-any.whl.metadata (2.3 kB)\n",
            "Requirement already satisfied: matplotlib~=3.7 in /usr/local/lib/python3.11/dist-packages (from cirq-core==1.5.0->cirq) (3.10.0)\n",
            "Requirement already satisfied: networkx~=3.1 in /usr/local/lib/python3.11/dist-packages (from cirq-core==1.5.0->cirq) (3.5)\n",
            "Requirement already satisfied: numpy>=1.25 in /usr/local/lib/python3.11/dist-packages (from cirq-core==1.5.0->cirq) (2.0.2)\n",
            "Requirement already satisfied: pandas~=2.0 in /usr/local/lib/python3.11/dist-packages (from cirq-core==1.5.0->cirq) (2.2.2)\n",
            "Requirement already satisfied: sortedcontainers~=2.0 in /usr/local/lib/python3.11/dist-packages (from cirq-core==1.5.0->cirq) (2.4.0)\n",
            "Requirement already satisfied: scipy~=1.11 in /usr/local/lib/python3.11/dist-packages (from cirq-core==1.5.0->cirq) (1.15.3)\n",
            "Requirement already satisfied: sympy in /usr/local/lib/python3.11/dist-packages (from cirq-core==1.5.0->cirq) (1.13.1)\n",
            "Requirement already satisfied: typing_extensions>=4.2 in /usr/local/lib/python3.11/dist-packages (from cirq-core==1.5.0->cirq) (4.14.0)\n",
            "Requirement already satisfied: tqdm>=4.12 in /usr/local/lib/python3.11/dist-packages (from cirq-core==1.5.0->cirq) (4.67.1)\n",
            "Requirement already satisfied: google-api-core>=1.14.0 in /usr/local/lib/python3.11/dist-packages (from google-api-core[grpc]>=1.14.0->cirq-google==1.5.0->cirq) (2.25.1)\n",
            "Requirement already satisfied: proto-plus>=1.20.0 in /usr/local/lib/python3.11/dist-packages (from cirq-google==1.5.0->cirq) (1.26.1)\n",
            "Requirement already satisfied: protobuf<6.0,>=4.25 in /usr/local/lib/python3.11/dist-packages (from cirq-google==1.5.0->cirq) (5.29.5)\n",
            "Collecting typedunits (from cirq-google==1.5.0->cirq)\n",
            "  Downloading typedunits-0.0.1.dev20250509200845-cp311-cp311-manylinux_2_17_x86_64.manylinux2014_x86_64.whl.metadata (4.8 kB)\n",
            "Requirement already satisfied: googleapis-common-protos<2.0.0,>=1.56.2 in /usr/local/lib/python3.11/dist-packages (from google-api-core>=1.14.0->google-api-core[grpc]>=1.14.0->cirq-google==1.5.0->cirq) (1.70.0)\n",
            "Requirement already satisfied: google-auth<3.0.0,>=2.14.1 in /usr/local/lib/python3.11/dist-packages (from google-api-core>=1.14.0->google-api-core[grpc]>=1.14.0->cirq-google==1.5.0->cirq) (2.38.0)\n",
            "Requirement already satisfied: grpcio<2.0.0,>=1.33.2 in /usr/local/lib/python3.11/dist-packages (from google-api-core[grpc]>=1.14.0->cirq-google==1.5.0->cirq) (1.73.1)\n",
            "Requirement already satisfied: grpcio-status<2.0.0,>=1.33.2 in /usr/local/lib/python3.11/dist-packages (from google-api-core[grpc]>=1.14.0->cirq-google==1.5.0->cirq) (1.71.2)\n",
            "Requirement already satisfied: contourpy>=1.0.1 in /usr/local/lib/python3.11/dist-packages (from matplotlib~=3.7->cirq-core==1.5.0->cirq) (1.3.2)\n",
            "Requirement already satisfied: cycler>=0.10 in /usr/local/lib/python3.11/dist-packages (from matplotlib~=3.7->cirq-core==1.5.0->cirq) (0.12.1)\n",
            "Requirement already satisfied: fonttools>=4.22.0 in /usr/local/lib/python3.11/dist-packages (from matplotlib~=3.7->cirq-core==1.5.0->cirq) (4.58.4)\n",
            "Requirement already satisfied: kiwisolver>=1.3.1 in /usr/local/lib/python3.11/dist-packages (from matplotlib~=3.7->cirq-core==1.5.0->cirq) (1.4.8)\n",
            "Requirement already satisfied: packaging>=20.0 in /usr/local/lib/python3.11/dist-packages (from matplotlib~=3.7->cirq-core==1.5.0->cirq) (24.2)\n",
            "Requirement already satisfied: pillow>=8 in /usr/local/lib/python3.11/dist-packages (from matplotlib~=3.7->cirq-core==1.5.0->cirq) (11.2.1)\n",
            "Requirement already satisfied: pyparsing>=2.3.1 in /usr/local/lib/python3.11/dist-packages (from matplotlib~=3.7->cirq-core==1.5.0->cirq) (3.2.3)\n",
            "Requirement already satisfied: python-dateutil>=2.7 in /usr/local/lib/python3.11/dist-packages (from matplotlib~=3.7->cirq-core==1.5.0->cirq) (2.9.0.post0)\n",
            "Requirement already satisfied: pytz>=2020.1 in /usr/local/lib/python3.11/dist-packages (from pandas~=2.0->cirq-core==1.5.0->cirq) (2025.2)\n",
            "Requirement already satisfied: tzdata>=2022.7 in /usr/local/lib/python3.11/dist-packages (from pandas~=2.0->cirq-core==1.5.0->cirq) (2025.2)\n",
            "Requirement already satisfied: charset-normalizer<4,>=2 in /usr/local/lib/python3.11/dist-packages (from requests~=2.32->cirq-aqt==1.5.0->cirq) (3.4.2)\n",
            "Requirement already satisfied: idna<4,>=2.5 in /usr/local/lib/python3.11/dist-packages (from requests~=2.32->cirq-aqt==1.5.0->cirq) (3.10)\n",
            "Requirement already satisfied: urllib3<3,>=1.21.1 in /usr/local/lib/python3.11/dist-packages (from requests~=2.32->cirq-aqt==1.5.0->cirq) (2.4.0)\n",
            "Requirement already satisfied: certifi>=2017.4.17 in /usr/local/lib/python3.11/dist-packages (from requests~=2.32->cirq-aqt==1.5.0->cirq) (2025.6.15)\n",
            "Requirement already satisfied: mpmath<1.4,>=1.1.0 in /usr/local/lib/python3.11/dist-packages (from sympy->cirq-core==1.5.0->cirq) (1.3.0)\n",
            "Requirement already satisfied: cython>=3.0.0 in /usr/local/lib/python3.11/dist-packages (from typedunits->cirq-google==1.5.0->cirq) (3.0.12)\n",
            "Requirement already satisfied: cachetools<6.0,>=2.0.0 in /usr/local/lib/python3.11/dist-packages (from google-auth<3.0.0,>=2.14.1->google-api-core>=1.14.0->google-api-core[grpc]>=1.14.0->cirq-google==1.5.0->cirq) (5.5.2)\n",
            "Requirement already satisfied: pyasn1-modules>=0.2.1 in /usr/local/lib/python3.11/dist-packages (from google-auth<3.0.0,>=2.14.1->google-api-core>=1.14.0->google-api-core[grpc]>=1.14.0->cirq-google==1.5.0->cirq) (0.4.2)\n",
            "Requirement already satisfied: rsa<5,>=3.1.4 in /usr/local/lib/python3.11/dist-packages (from google-auth<3.0.0,>=2.14.1->google-api-core>=1.14.0->google-api-core[grpc]>=1.14.0->cirq-google==1.5.0->cirq) (4.9.1)\n",
            "Requirement already satisfied: six>=1.5 in /usr/local/lib/python3.11/dist-packages (from python-dateutil>=2.7->matplotlib~=3.7->cirq-core==1.5.0->cirq) (1.17.0)\n",
            "Requirement already satisfied: pyasn1<0.7.0,>=0.6.1 in /usr/local/lib/python3.11/dist-packages (from pyasn1-modules>=0.2.1->google-auth<3.0.0,>=2.14.1->google-api-core>=1.14.0->google-api-core[grpc]>=1.14.0->cirq-google==1.5.0->cirq) (0.6.1)\n",
            "Downloading cirq-1.5.0-py3-none-any.whl (10 kB)\n",
            "Downloading cirq_aqt-1.5.0-py3-none-any.whl (31 kB)\n",
            "Downloading cirq_core-1.5.0-py3-none-any.whl (2.0 MB)\n",
            "\u001b[2K   \u001b[90m━━━━━━━━━━━━━━━━━━━━━━━━━━━━━━━━━━━━━━━━\u001b[0m \u001b[32m2.0/2.0 MB\u001b[0m \u001b[31m37.8 MB/s\u001b[0m eta \u001b[36m0:00:00\u001b[0m\n",
            "\u001b[?25hDownloading cirq_google-1.5.0-py3-none-any.whl (597 kB)\n",
            "\u001b[2K   \u001b[90m━━━━━━━━━━━━━━━━━━━━━━━━━━━━━━━━━━━━━━━━\u001b[0m \u001b[32m597.5/597.5 kB\u001b[0m \u001b[31m31.1 MB/s\u001b[0m eta \u001b[36m0:00:00\u001b[0m\n",
            "\u001b[?25hDownloading cirq_ionq-1.5.0-py3-none-any.whl (72 kB)\n",
            "\u001b[2K   \u001b[90m━━━━━━━━━━━━━━━━━━━━━━━━━━━━━━━━━━━━━━━━\u001b[0m \u001b[32m72.0/72.0 kB\u001b[0m \u001b[31m5.5 MB/s\u001b[0m eta \u001b[36m0:00:00\u001b[0m\n",
            "\u001b[?25hDownloading cirq_pasqal-1.5.0-py3-none-any.whl (33 kB)\n",
            "Downloading cirq_web-1.5.0-py3-none-any.whl (425 kB)\n",
            "\u001b[2K   \u001b[90m━━━━━━━━━━━━━━━━━━━━━━━━━━━━━━━━━━━━━━━━\u001b[0m \u001b[32m425.1/425.1 kB\u001b[0m \u001b[31m21.8 MB/s\u001b[0m eta \u001b[36m0:00:00\u001b[0m\n",
            "\u001b[?25hDownloading duet-0.2.9-py3-none-any.whl (29 kB)\n",
            "Downloading typedunits-0.0.1.dev20250509200845-cp311-cp311-manylinux_2_17_x86_64.manylinux2014_x86_64.whl (2.8 MB)\n",
            "\u001b[2K   \u001b[90m━━━━━━━━━━━━━━━━━━━━━━━━━━━━━━━━━━━━━━━━\u001b[0m \u001b[32m2.8/2.8 MB\u001b[0m \u001b[31m63.1 MB/s\u001b[0m eta \u001b[36m0:00:00\u001b[0m\n",
            "\u001b[?25hInstalling collected packages: typedunits, duet, cirq-core, cirq-web, cirq-pasqal, cirq-ionq, cirq-aqt, cirq-google, cirq\n",
            "Successfully installed cirq-1.5.0 cirq-aqt-1.5.0 cirq-core-1.5.0 cirq-google-1.5.0 cirq-ionq-1.5.0 cirq-pasqal-1.5.0 cirq-web-1.5.0 duet-0.2.9 typedunits-0.0.1.dev20250509200845\n"
          ]
        }
      ],
      "source": [
        "import IPython\n",
        "\n",
        "def in_colab():\n",
        "    try:\n",
        "        import google.colab\n",
        "        return True\n",
        "    except:\n",
        "        return False\n",
        "\n",
        "path_files = \"./\" if in_colab() else \"../qworld/include/\"\n",
        "\n",
        "SolutionToTask1 = lambda: IPython.display.display(IPython.display.Javascript('window.open(\"{url}\");'.format(url='https://colab.research.google.com/drive/1BtED4KUdLEHyTu1ylQTkELJdSkZtX3wK#scrollTo=mYXl8O3SlBwb' if in_colab() else 'Shors_Algorithm_Solutions.ipynb#task1')))\n",
        "SolutionToTask2 = lambda: IPython.display.display(IPython.display.Javascript('window.open(\"{url}\");'.format(url='https://colab.research.google.com/drive/1BtED4KUdLEHyTu1ylQTkELJdSkZtX3wK#scrollTo=9FrsaKWylBwc' if in_colab() else 'Shors_Algorithm_Solutions.ipynb#task2')))\n",
        "SolutionToTask3 = lambda: IPython.display.display(IPython.display.Javascript('window.open(\"{url}\");'.format(url='https://colab.research.google.com/drive/1BtED4KUdLEHyTu1ylQTkELJdSkZtX3wK#scrollTo=_CC6iv1ZlBwc' if in_colab() else 'Shors_Algorithm_Solutions.ipynb#task3')))\n",
        "SolutionToTask4 = lambda: IPython.display.display(IPython.display.Javascript('window.open(\"{url}\");'.format(url='https://colab.research.google.com/drive/1BtED4KUdLEHyTu1ylQTkELJdSkZtX3wK#scrollTo=vvLwNE1KlBwc' if in_colab() else 'Shors_Algorithm_Solutions.ipynb#task4')))\n",
        "\n",
        "if in_colab():\n",
        "    url = \"https://gitlab.com/qworld/qeducation/qbook101/raw/main/qworld/include/shor.py\"\n",
        "    !wget --no-cache -O shor.py {url}\n",
        "\n",
        "    !pip install cirq"
      ]
    },
    {
      "cell_type": "markdown",
      "metadata": {
        "id": "pOeA4Vy_maOX"
      },
      "source": [
        "#<h3>Task 1</h3>\n",
        "\n",
        "Let $N=111$. What percentage of the elements that are less than $N$ are relatively prime with $N$? Write a Python code to find out. (You can use gcd function of numpy)\n"
      ]
    },
    {
      "cell_type": "code",
      "execution_count": 11,
      "metadata": {
        "id": "4_5cbVzkmaOX",
        "colab": {
          "base_uri": "https://localhost:8080/"
        },
        "outputId": "58a73a13-174f-4d2a-b32a-d3a2e67af832"
      },
      "outputs": [
        {
          "output_type": "stream",
          "name": "stdout",
          "text": [
            "64.86486486486487%\n"
          ]
        }
      ],
      "source": [
        "#\n",
        "#Your code here\n",
        "#\n",
        "import numpy as np\n",
        "r_prime_list = []\n",
        "N = 111\n",
        "\n",
        "for i in range(1,N):\n",
        "  if np.gcd(i, N) == 1: r_prime_list.append(i)\n",
        "\n",
        "counts = len(r_prime_list)\n",
        "print(f\"{(counts / N) * 100}%\")"
      ]
    },
    {
      "cell_type": "markdown",
      "metadata": {
        "id": "l5qSXi_ZmaOY"
      },
      "source": [
        "To check out our solution, run the next cell:"
      ]
    },
    {
      "cell_type": "code",
      "execution_count": 5,
      "metadata": {
        "id": "9zNK68NfmaOY",
        "colab": {
          "base_uri": "https://localhost:8080/",
          "height": 37
        },
        "outputId": "7cc47789-a62f-42da-8f1c-bb7ac95948ca"
      },
      "outputs": [
        {
          "output_type": "display_data",
          "data": {
            "text/plain": [
              "<IPython.core.display.Javascript object>"
            ],
            "application/javascript": [
              "window.open(\"https://colab.research.google.com/drive/1BtED4KUdLEHyTu1ylQTkELJdSkZtX3wK#scrollTo=mYXl8O3SlBwb\");"
            ]
          },
          "metadata": {}
        }
      ],
      "source": [
        "SolutionToTask1()  # show solution for task 1"
      ]
    },
    {
      "cell_type": "markdown",
      "metadata": {
        "id": "nvQvjV3KmaOY"
      },
      "source": [
        "<h3>Task 2</h3>\n",
        "\n",
        "Calculate the order of each element $ x $ that is relatively prime with $N $.\n",
        "\n",
        "What percentage of the $ x $’s have even order and satisfy $x^{r/2} \\neq -1 \\mod{N}$?\n",
        "\n",
        "Put the elements that satisfy the conditions in a dictionary together with their order."
      ]
    },
    {
      "cell_type": "code",
      "execution_count": 14,
      "metadata": {
        "id": "DgD2J1NpmaOY",
        "colab": {
          "base_uri": "https://localhost:8080/"
        },
        "outputId": "13d54a0a-afb0-403e-f8d7-c824db07c42f"
      },
      "outputs": [
        {
          "output_type": "stream",
          "name": "stdout",
          "text": [
            "Order of 2 : 36\n",
            "Order of 4 : 18\n",
            "Order of 5 : 36\n",
            "Order of 8 : 12\n",
            "Order of 13 : 36\n",
            "Order of 14 : 12\n",
            "Order of 17 : 36\n",
            "Order of 19 : 36\n",
            "Order of 20 : 36\n",
            "Order of 22 : 36\n",
            "Order of 23 : 12\n",
            "Order of 25 : 18\n",
            "Order of 26 : 6\n",
            "Order of 28 : 18\n",
            "Order of 29 : 12\n",
            "Order of 31 : 4\n",
            "Order of 32 : 36\n",
            "Order of 35 : 36\n",
            "Order of 38 : 2\n",
            "Order of 40 : 18\n",
            "Order of 43 : 4\n",
            "Order of 44 : 18\n",
            "Order of 47 : 6\n",
            "Order of 50 : 36\n",
            "Order of 52 : 36\n",
            "Order of 53 : 18\n",
            "Order of 55 : 36\n",
            "Order of 56 : 36\n",
            "Order of 58 : 18\n",
            "Order of 59 : 36\n",
            "Order of 61 : 36\n",
            "Order of 64 : 6\n",
            "Order of 67 : 18\n",
            "Order of 68 : 4\n",
            "Order of 71 : 18\n",
            "Order of 73 : 2\n",
            "Order of 76 : 36\n",
            "Order of 79 : 36\n",
            "Order of 80 : 4\n",
            "Order of 82 : 12\n",
            "Order of 83 : 18\n",
            "Order of 85 : 6\n",
            "Order of 86 : 18\n",
            "Order of 88 : 12\n",
            "Order of 89 : 36\n",
            "Order of 91 : 36\n",
            "Order of 92 : 36\n",
            "Order of 94 : 36\n",
            "Order of 97 : 12\n",
            "Order of 98 : 36\n",
            "Order of 103 : 12\n",
            "Order of 106 : 36\n",
            "Order of 107 : 18\n",
            "Order of 109 : 36\n",
            "48.64864864864865%\n"
          ]
        }
      ],
      "source": [
        "#\n",
        "#Your code here\n",
        "#\n",
        "counter = 0\n",
        "satisfy = {}\n",
        "for i in range(len(r_prime_list)):\n",
        "  r = 1\n",
        "  while(1):\n",
        "    if (r_prime_list[i] ** r) % N == 1:\n",
        "      if (r % 2 == 0 and ((r_prime_list[i] ** int(r / 2)) % N != N - 1)):\n",
        "        counter += 1\n",
        "        print(f\"Order of {r_prime_list[i]} : {r}\")\n",
        "        satisfy[r_prime_list[i]] = r\n",
        "      break\n",
        "    r += 1\n",
        "\n",
        "print(f\"{(counter / N) * 100}%\")"
      ]
    },
    {
      "cell_type": "markdown",
      "metadata": {
        "id": "rdaPPc7DmaOY"
      },
      "source": [
        "To check out our solution, run the next cell:"
      ]
    },
    {
      "cell_type": "code",
      "execution_count": null,
      "metadata": {
        "id": "ueP-xhSqmaOY"
      },
      "outputs": [],
      "source": [
        "SolutionToTask2()  # show solution for task 2"
      ]
    },
    {
      "cell_type": "markdown",
      "metadata": {
        "id": "sQma9lcQmaOY"
      },
      "source": [
        "<h3>Task 3</h3>\n",
        "\n",
        "Pick randomly one of the $x$ you found in Task 2 and calculate gcd$(x^{r/2}-1,N)$ and gcd$(x^{r/2}+1,N)$.\n"
      ]
    },
    {
      "cell_type": "code",
      "execution_count": 22,
      "metadata": {
        "id": "LdocUO9CmaOY",
        "colab": {
          "base_uri": "https://localhost:8080/"
        },
        "outputId": "8302d697-6006-4924-95f9-677fdc304ae3"
      },
      "outputs": [
        {
          "output_type": "stream",
          "name": "stdout",
          "text": [
            "97 is picked with order 12\n",
            "Factors of 111: 3 and 37\n"
          ]
        }
      ],
      "source": [
        "#\n",
        "#Your code here\n",
        "#\n",
        "import random\n",
        "rand_index = random.randint(0, len(satisfy))\n",
        "x, r = random.choice(list(satisfy.items()))\n",
        "print(f\"{x} is picked with order {r}\")\n",
        "print(f\"Factors of {N}: {np.gcd((x ** int(r / 2)) - 1, N)} and {np.gcd((x ** int(r / 2)) + 1, N)}\")"
      ]
    },
    {
      "cell_type": "markdown",
      "metadata": {
        "id": "Q8Tp5x5TmaOY"
      },
      "source": [
        "To check out our solution, run the next cell:"
      ]
    },
    {
      "cell_type": "code",
      "execution_count": 20,
      "metadata": {
        "id": "3OA1vwPamaOY",
        "colab": {
          "base_uri": "https://localhost:8080/",
          "height": 37
        },
        "outputId": "6698ea99-9a28-4d0c-f82d-c84188b9d54d"
      },
      "outputs": [
        {
          "output_type": "display_data",
          "data": {
            "text/plain": [
              "<IPython.core.display.Javascript object>"
            ],
            "application/javascript": [
              "window.open(\"https://colab.research.google.com/drive/1BtED4KUdLEHyTu1ylQTkELJdSkZtX3wK#scrollTo=_CC6iv1ZlBwc\");"
            ]
          },
          "metadata": {}
        }
      ],
      "source": [
        "SolutionToTask3()  # show solution for task 3"
      ]
    },
    {
      "cell_type": "markdown",
      "metadata": {
        "id": "ReldFpVhmaOY"
      },
      "source": [
        "In the preceeding tasks, we computed factors of $N$ using the same idea as in Shor's algorithm but we calculated $r$ classicaly. The main advantage of Shor's algorithm is to be able to calculate $r$ efficiently."
      ]
    },
    {
      "cell_type": "markdown",
      "metadata": {
        "id": "9zrvtpBimaOY"
      },
      "source": [
        "<h3>Task 4</h3>\n",
        "\n",
        "Factor 21 by using Shor's Algorithm.\n",
        "\n",
        "- Pick a random $x$ which is relatively prime with 21.\n",
        "- Apply phase estimation circuit to the operator $U_x$.\n",
        "- Use continued fractions algorithm to find out $r$.\n",
        "- Compute $gcd(x^{r/2} -1, N)$ and $gcd(x^{r/2}+1, N)$"
      ]
    },
    {
      "cell_type": "code",
      "execution_count": 34,
      "metadata": {
        "id": "xPe-tZuSmaOY"
      },
      "outputs": [],
      "source": [
        "N=21"
      ]
    },
    {
      "cell_type": "code",
      "execution_count": 35,
      "metadata": {
        "id": "8DlcJlJomaOZ",
        "colab": {
          "base_uri": "https://localhost:8080/"
        },
        "outputId": "a953b95a-6d80-4c1a-9078-da7396887320"
      },
      "outputs": [
        {
          "output_type": "stream",
          "name": "stdout",
          "text": [
            "10\n"
          ]
        }
      ],
      "source": [
        "#Pick a random x relatively prime with N\n",
        "import random as rand\n",
        "while(True):\n",
        "  x = rand.randrange(2, N)\n",
        "  if np.gcd(x, N) == 1: break\n",
        "\n",
        "print(x)"
      ]
    },
    {
      "cell_type": "markdown",
      "metadata": {
        "id": "6s-nphzNmaOZ"
      },
      "source": [
        "Use your solutions for [Task 5](https://colab.research.google.com/drive/1vmO57cdCWd9MPl4K9zQ5lx2pqnwv3Zz_?usp=sharing#scrollTo=jCltmUh5g9rg) & [Task 6](https://colab.research.google.com/drive/1vmO57cdCWd9MPl4K9zQ5lx2pqnwv3Zz_?usp=sharing#scrollTo=0qR1Xnjjg9rh) in the previous notebook."
      ]
    },
    {
      "cell_type": "code",
      "execution_count": 36,
      "metadata": {
        "id": "IdPVMTkEmaOZ"
      },
      "outputs": [],
      "source": [
        "#Check if r is even and x^{r/2} is not equal to -1 Mod N\n",
        "from math import ceil, log2, pi\n",
        "L = ceil(log2(N))\n",
        "e = 0.1\n",
        "t = 2 * L + 1 + ceil(log2(2 + 1 / (2 * e)))"
      ]
    },
    {
      "cell_type": "code",
      "source": [
        "import cirq\n",
        "from cirq import H, X, SWAP, measure, Circuit\n",
        "from cirq.circuits import InsertStrategy\n",
        "\n",
        "def opUx(N, x):\n",
        "  k = 1\n",
        "  while(N > 2 ** k):\n",
        "    k = k + 1\n",
        "  u = np.zeros([2 ** k, 2 ** k], dtype = int)\n",
        "  for i in range(N):\n",
        "    u[x * i % N][i] = 1\n",
        "  for i in range(N, 2 ** k):\n",
        "    u[i][i] = 1\n",
        "  return cirq.MatrixGate(u, name = 'Ux').controlled()\n",
        "\n",
        "def myInvQFT(qubits):\n",
        "  circuit = Circuit()\n",
        "  n = len(qubits)\n",
        "  for j in range(n // 2):\n",
        "    circuit.append(SWAP.on(qubits[j], qubits[n - 1 - j]), strategy = InsertStrategy.NEW)\n",
        "  for i in range(n - 1, -1, -1):\n",
        "    phase_divisor = 2 ** (n - i)\n",
        "    for j in range(n - 1, i, -1):\n",
        "      circuit.append(cirq.CZPowGate(exponent = -2 / phase_divisor).on(qubits[j], qubits[i]), strategy = InsertStrategy.NEW)\n",
        "      phase_divisor = phase_divisor / 2\n",
        "    circuit.append(H(qubits[i]), strategy = InsertStrategy.NEW)\n",
        "  return circuit"
      ],
      "metadata": {
        "id": "lRPkn1d_-Hs8"
      },
      "execution_count": 37,
      "outputs": []
    },
    {
      "cell_type": "code",
      "source": [
        "circuit = Circuit()\n",
        "reg1 = [cirq.LineQubit(i) for i in range(t)]\n",
        "reg2 = [cirq.LineQubit(i) for i in range(t, t + L)]\n",
        "\n",
        "circuit.append(H.on_each(reg1))\n",
        "circuit.append(X.on_each(reg2[-1]))\n",
        "\n",
        "Ux = opUx(N, x)\n",
        "for j in range(t):\n",
        "  Uxj = Ux ** (2 ** j)\n",
        "  circuit.append(Uxj(reg1[t - j - 1], *reg2))\n",
        "\n",
        "circuit += myInvQFT(reg1)\n",
        "\n",
        "circuit.append(measure(*reg1, key = 'result'))\n",
        "sim = cirq.Simulator()\n",
        "samples = sim.run(circuit, repetitions = 1000)\n",
        "\n",
        "def bitstring(bits):\n",
        "  return \"\".join(str(int(b)) for b in bits)\n",
        "\n",
        "print(\"outcomes in binary:\")\n",
        "print(samples.histogram(key = 'result', fold_func = bitstring))\n",
        "print()\n",
        "print(\"outcomes in decimal:\")\n",
        "outcomes = samples.histogram(key = 'result')\n",
        "print(outcomes)\n",
        "print()\n",
        "\n",
        "for outcome in outcomes:\n",
        "  print(f\"{outcome}\\tobserved {outcomes[outcome]} times\")"
      ],
      "metadata": {
        "colab": {
          "base_uri": "https://localhost:8080/"
        },
        "id": "Km7PVLZsAGCJ",
        "outputId": "20791725-3f92-4bba-a802-246c346690f5"
      },
      "execution_count": 38,
      "outputs": [
        {
          "output_type": "stream",
          "name": "stdout",
          "text": [
            "outcomes in binary:\n",
            "Counter({'10000000000000': 193, '00000000000000': 175, '10101010101011': 111, '01010101010101': 110, '11010101010101': 109, '00101010101011': 93, '01010101010110': 35, '00101010101010': 34, '11010101010110': 33, '10101010101010': 19, '00101010101100': 11, '11010101010100': 8, '10101010101100': 6, '10101010101001': 5, '01010101010011': 5, '01010101010111': 4, '11010101010011': 3, '11010101010001': 3, '10101010101101': 3, '00101010110010': 2, '10101010101110': 2, '11010101010111': 2, '11010101011000': 2, '10101010100110': 2, '00101010101001': 2, '11010100100011': 1, '11010100000000': 1, '10101010110010': 1, '00101010101101': 1, '11010101011101': 1, '00101010101111': 1, '01010101010100': 1, '01010101011011': 1, '01010101001011': 1, '11010101001010': 1, '00101011001110': 1, '01010101010010': 1, '10101010110011': 1, '11010100111111': 1, '10101010101000': 1, '10101011111100': 1, '10101010010111': 1, '00101010110100': 1, '01010101011100': 1, '10101010101111': 1, '01010101011000': 1, '00101010100111': 1, '01010101010001': 1, '01011000000111': 1, '10101010100111': 1, '00101010101000': 1, '10101010100101': 1, '00101010000010': 1})\n",
            "\n",
            "outcomes in decimal:\n",
            "Counter({8192: 193, 0: 175, 10923: 111, 5461: 110, 13653: 109, 2731: 93, 5462: 35, 2730: 34, 13654: 33, 10922: 19, 2732: 11, 13652: 8, 10924: 6, 10921: 5, 5459: 5, 5463: 4, 13651: 3, 13649: 3, 10925: 3, 2738: 2, 10926: 2, 13655: 2, 13656: 2, 10918: 2, 2729: 2, 13603: 1, 13568: 1, 10930: 1, 2733: 1, 13661: 1, 2735: 1, 5460: 1, 5467: 1, 5451: 1, 13642: 1, 2766: 1, 5458: 1, 10931: 1, 13631: 1, 10920: 1, 11004: 1, 10903: 1, 2740: 1, 5468: 1, 10927: 1, 5464: 1, 2727: 1, 5457: 1, 5639: 1, 10919: 1, 2728: 1, 10917: 1, 2690: 1})\n",
            "\n",
            "8192\tobserved 193 times\n",
            "0\tobserved 175 times\n",
            "5461\tobserved 110 times\n",
            "10922\tobserved 19 times\n",
            "13653\tobserved 109 times\n",
            "5462\tobserved 35 times\n",
            "13652\tobserved 8 times\n",
            "2731\tobserved 93 times\n",
            "2730\tobserved 34 times\n",
            "10923\tobserved 111 times\n",
            "13603\tobserved 1 times\n",
            "2732\tobserved 11 times\n",
            "13654\tobserved 33 times\n",
            "13568\tobserved 1 times\n",
            "10930\tobserved 1 times\n",
            "2733\tobserved 1 times\n",
            "2738\tobserved 2 times\n",
            "10926\tobserved 2 times\n",
            "13655\tobserved 2 times\n",
            "13651\tobserved 3 times\n",
            "13661\tobserved 1 times\n",
            "10921\tobserved 5 times\n",
            "13649\tobserved 3 times\n",
            "2735\tobserved 1 times\n",
            "13656\tobserved 2 times\n",
            "10924\tobserved 6 times\n",
            "5460\tobserved 1 times\n",
            "10925\tobserved 3 times\n",
            "5467\tobserved 1 times\n",
            "5451\tobserved 1 times\n",
            "13642\tobserved 1 times\n",
            "5459\tobserved 5 times\n",
            "2766\tobserved 1 times\n",
            "5458\tobserved 1 times\n",
            "5463\tobserved 4 times\n",
            "10931\tobserved 1 times\n",
            "13631\tobserved 1 times\n",
            "10918\tobserved 2 times\n",
            "10920\tobserved 1 times\n",
            "11004\tobserved 1 times\n",
            "10903\tobserved 1 times\n",
            "2740\tobserved 1 times\n",
            "5468\tobserved 1 times\n",
            "2729\tobserved 2 times\n",
            "10927\tobserved 1 times\n",
            "5464\tobserved 1 times\n",
            "2727\tobserved 1 times\n",
            "5457\tobserved 1 times\n",
            "5639\tobserved 1 times\n",
            "10919\tobserved 1 times\n",
            "2728\tobserved 1 times\n",
            "10917\tobserved 1 times\n",
            "2690\tobserved 1 times\n"
          ]
        }
      ]
    },
    {
      "cell_type": "markdown",
      "metadata": {
        "id": "-y3fnD2zmaOZ"
      },
      "source": [
        "Note that you may not be able to get the $r$ value in your first trial. In such a case, you need to repeat the algorithm."
      ]
    },
    {
      "cell_type": "code",
      "execution_count": 39,
      "metadata": {
        "id": "kv8kzoIomaOZ",
        "colab": {
          "base_uri": "https://localhost:8080/"
        },
        "outputId": "ba77fb04-f217-4cee-b839-f7a9c65bfb4b"
      },
      "outputs": [
        {
          "output_type": "stream",
          "name": "stdout",
          "text": [
            "[8192, 5461, 10922, 13653, 5462, 2731, 2730, 10923, 2732, 13654]\n"
          ]
        }
      ],
      "source": [
        "#Compute gcd to find out the factors of N\n",
        "good = []\n",
        "for outcome in outcomes:\n",
        "  if outcome == 0: continue\n",
        "  if outcomes[outcome] > 10: good.append(outcome)\n",
        "\n",
        "print(good)"
      ]
    },
    {
      "cell_type": "code",
      "source": [
        "quantum_file = path_files + \"shor.py\"\n",
        "%run $quantum_file\n",
        "\n",
        "for b in good:\n",
        "  print(f\"for b = {b}\")\n",
        "  cf = contFrac(b / (2 ** t))\n",
        "  print(cf)\n",
        "  cv = convergents(cf)\n",
        "  print(cv)\n",
        "  print()"
      ],
      "metadata": {
        "colab": {
          "base_uri": "https://localhost:8080/"
        },
        "id": "1Eru_r-cGTz3",
        "outputId": "9adc5e0f-7326-4e94-e515-36619116fd90"
      },
      "execution_count": 40,
      "outputs": [
        {
          "output_type": "stream",
          "name": "stdout",
          "text": [
            "for b = 8192\n",
            "[0, 2]\n",
            "[Fraction(0, 1), Fraction(1, 2)]\n",
            "\n",
            "for b = 5461\n",
            "[0, 3, 5461]\n",
            "[Fraction(0, 1), Fraction(1, 3), Fraction(3333, 10000)]\n",
            "\n",
            "for b = 10922\n",
            "[0, 1, 1, 1, 2730]\n",
            "[Fraction(0, 1), Fraction(1, 1), Fraction(1, 2), Fraction(2, 3), Fraction(5461, 8192)]\n",
            "\n",
            "for b = 13653\n",
            "[0, 1, 4, 1, 1364, 2]\n",
            "[Fraction(0, 1), Fraction(1, 1), Fraction(4, 5), Fraction(5, 6), Fraction(6824, 8189), Fraction(6829, 8195)]\n",
            "\n",
            "for b = 5462\n",
            "[0, 2, 1, 2730]\n",
            "[Fraction(0, 1), Fraction(1, 2), Fraction(1, 3), Fraction(2731, 8192)]\n",
            "\n",
            "for b = 2731\n",
            "[0, 5, 1, 1364, 2]\n",
            "[Fraction(0, 1), Fraction(1, 5), Fraction(1, 6), Fraction(1365, 8189), Fraction(1366, 8195)]\n",
            "\n",
            "for b = 2730\n",
            "[0, 6, 682, 2]\n",
            "[Fraction(0, 1), Fraction(1, 6), Fraction(682, 4093), Fraction(1365, 8192)]\n",
            "\n",
            "for b = 10923\n",
            "[0, 1, 2, 5461]\n",
            "[Fraction(0, 1), Fraction(1, 1), Fraction(2, 3), Fraction(6667, 10000)]\n",
            "\n",
            "for b = 2732\n",
            "[0, 5, 1, 340, 2]\n",
            "[Fraction(0, 1), Fraction(1, 5), Fraction(1, 6), Fraction(341, 2045), Fraction(683, 4096)]\n",
            "\n",
            "for b = 13654\n",
            "[0, 1, 5, 682, 2]\n",
            "[Fraction(0, 1), Fraction(1, 1), Fraction(5, 6), Fraction(3411, 4093), Fraction(6827, 8192)]\n",
            "\n"
          ]
        }
      ]
    },
    {
      "cell_type": "code",
      "source": [
        "r = 6\n",
        "if (r % 2 == 0 and (x ** (r / 2)) % N != N - 1):\n",
        "  print(\"Proceed\")\n",
        "else:\n",
        "  print(\"Repeat\")"
      ],
      "metadata": {
        "colab": {
          "base_uri": "https://localhost:8080/"
        },
        "id": "xl26cVogHTej",
        "outputId": "87c75c49-e24b-4564-873d-6bc1781e3627"
      },
      "execution_count": 41,
      "outputs": [
        {
          "output_type": "stream",
          "name": "stdout",
          "text": [
            "Proceed\n"
          ]
        }
      ]
    },
    {
      "cell_type": "code",
      "source": [
        "print(f\"N = {N}\")\n",
        "print(f\"x = {x}\")\n",
        "print(f\"r = {r}\")\n",
        "print(f\"Factors 0f {N}:\")\n",
        "print(f\"{np.gcd((x ** int(r / 2) - 1), N)} and\")\n",
        "print(f\"{np.gcd((x ** int(r / 2) + 1), N)}\")"
      ],
      "metadata": {
        "colab": {
          "base_uri": "https://localhost:8080/"
        },
        "id": "f5od1kgoHp5L",
        "outputId": "05872332-76ff-4c4d-8be0-e4562fc9b63f"
      },
      "execution_count": 42,
      "outputs": [
        {
          "output_type": "stream",
          "name": "stdout",
          "text": [
            "N = 21\n",
            "x = 10\n",
            "r = 6\n",
            "Factors 0f 21:\n",
            "3 and\n",
            "7\n"
          ]
        }
      ]
    },
    {
      "cell_type": "markdown",
      "metadata": {
        "id": "z8nDYCOSmaOZ"
      },
      "source": [
        "To check out our solution, run the next cell:"
      ]
    },
    {
      "cell_type": "code",
      "execution_count": null,
      "metadata": {
        "id": "5Eyu3x7WmaOZ"
      },
      "outputs": [],
      "source": [
        "SolutionToTask4()  # show solution for task 4"
      ]
    }
  ],
  "metadata": {
    "kernelspec": {
      "display_name": "Python 3 (ipykernel)",
      "language": "python",
      "name": "python3"
    },
    "language_info": {
      "codemirror_mode": {
        "name": "ipython",
        "version": 3
      },
      "file_extension": ".py",
      "mimetype": "text/x-python",
      "name": "python",
      "nbconvert_exporter": "python",
      "pygments_lexer": "ipython3",
      "version": "3.11.4"
    },
    "colab": {
      "provenance": [],
      "collapsed_sections": [
        "zIP07c1bmaOW"
      ],
      "include_colab_link": true
    }
  },
  "nbformat": 4,
  "nbformat_minor": 0
}