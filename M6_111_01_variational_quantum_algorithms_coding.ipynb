{
  "cells": [
    {
      "cell_type": "markdown",
      "metadata": {
        "id": "view-in-github",
        "colab_type": "text"
      },
      "source": [
        "<a href=\"https://colab.research.google.com/github/james-lucius/qureca_ADEQUATE/blob/main/M6_111_01_variational_quantum_algorithms_coding.ipynb\" target=\"_parent\"><img src=\"https://colab.research.google.com/assets/colab-badge.svg\" alt=\"Open In Colab\"/></a>"
      ]
    },
    {
      "cell_type": "markdown",
      "metadata": {
        "id": "41GrN-mfORx_"
      },
      "source": [
        "<img src=\"https://gitlab.com/qworld/qeducation/educational-materials/adequate-qbook1/raw/main/qworld/images/adq_1.png\" align=\"left\" width=450></a>\n",
        "$ \\newcommand{\\bra}[1]{\\langle #1|} $\n",
        "$ \\newcommand{\\ket}[1]{|#1\\rangle} $\n",
        "$ \\newcommand{\\braket}[2]{\\langle #1|#2\\rangle} $\n",
        "$ \\newcommand{\\dot}[2]{ #1 \\cdot #2} $\n",
        "$ \\newcommand{\\biginner}[2]{\\left\\langle #1,#2\\right\\rangle} $\n",
        "$ \\newcommand{\\mymatrix}[2]{\\left( \\begin{array}{#1} #2\\end{array} \\right)} $\n",
        "$ \\newcommand{\\myvector}[1]{\\mymatrix{c}{#1}} $\n",
        "$ \\newcommand{\\myrvector}[1]{\\mymatrix{r}{#1}} $\n",
        "$ \\newcommand{\\mypar}[1]{\\left( #1 \\right)} $\n",
        "$ \\newcommand{\\mybigpar}[1]{ \\Big( #1 \\Big)} $\n",
        "$ \\newcommand{\\sqrttwo}{\\frac{1}{\\sqrt{2}}} $\n",
        "$ \\newcommand{\\dsqrttwo}{\\dfrac{1}{\\sqrt{2}}} $\n",
        "$ \\newcommand{\\onehalf}{\\frac{1}{2}} $\n",
        "$ \\newcommand{\\donehalf}{\\dfrac{1}{2}} $\n",
        "$ \\newcommand{\\hadamard}{ \\mymatrix{rr}{ \\sqrttwo & \\sqrttwo \\\\ \\sqrttwo & -\\sqrttwo }} $\n",
        "$ \\newcommand{\\vzero}{\\myvector{1\\\\0}} $\n",
        "$ \\newcommand{\\vone}{\\myvector{0\\\\1}} $\n",
        "$ \\newcommand{\\stateplus}{\\myvector{ \\sqrttwo \\\\  \\sqrttwo } } $\n",
        "$ \\newcommand{\\stateminus}{ \\myrvector{ \\sqrttwo \\\\ -\\sqrttwo } } $\n",
        "$ \\newcommand{\\myarray}[2]{ \\begin{array}{#1}#2\\end{array}} $\n",
        "$ \\newcommand{\\X}{ \\mymatrix{cc}{0 & 1 \\\\ 1 & 0}  } $\n",
        "$ \\newcommand{\\I}{ \\mymatrix{rr}{1 & 0 \\\\ 0 & 1}  } $\n",
        "$ \\newcommand{\\Z}{ \\mymatrix{rr}{1 & 0 \\\\ 0 & -1}  } $\n",
        "$ \\newcommand{\\Htwo}{ \\mymatrix{rrrr}{ \\frac{1}{2} & \\frac{1}{2} & \\frac{1}{2} & \\frac{1}{2} \\\\ \\frac{1}{2} & -\\frac{1}{2} & \\frac{1}{2} & -\\frac{1}{2} \\\\ \\frac{1}{2} & \\frac{1}{2} & -\\frac{1}{2} & -\\frac{1}{2} \\\\ \\frac{1}{2} & -\\frac{1}{2} & -\\frac{1}{2} & \\frac{1}{2} } } $\n",
        "$ \\newcommand{\\CNOT}{ \\mymatrix{cccc}{1 & 0 & 0 & 0 \\\\ 0 & 1 & 0 & 0 \\\\ 0 & 0 & 0 & 1 \\\\ 0 & 0 & 1 & 0} } $\n",
        "$ \\newcommand{\\norm}[1]{ \\left\\lVert #1 \\right\\rVert } $\n",
        "$ \\newcommand{\\pstate}[1]{ \\lceil \\mspace{-1mu} #1 \\mspace{-1.5mu} \\rfloor } $\n",
        "$ \\newcommand{\\greenbit}[1] {\\mathbf{{\\color{green}#1}}} $\n",
        "$ \\newcommand{\\bluebit}[1] {\\mathbf{{\\color{blue}#1}}} $\n",
        "$ \\newcommand{\\redbit}[1] {\\mathbf{{\\color{red}#1}}} $\n",
        "$ \\newcommand{\\brownbit}[1] {\\mathbf{{\\color{brown}#1}}} $\n",
        "$ \\newcommand{\\blackbit}[1] {\\mathbf{{\\color{black}#1}}} $"
      ]
    },
    {
      "cell_type": "markdown",
      "metadata": {
        "id": "ZdFFnm9UORyB"
      },
      "source": [
        "_prepared by Özlem Salehi_"
      ]
    },
    {
      "cell_type": "markdown",
      "source": [
        "# Exercises: Variational Quantum Algorithms"
      ],
      "metadata": {
        "id": "N4RXqSMhxFz9"
      }
    },
    {
      "cell_type": "markdown",
      "source": [
        "Run the following cell to perform necessary installations:"
      ],
      "metadata": {
        "id": "naNXDhxMhMUj"
      }
    },
    {
      "cell_type": "code",
      "source": [
        "try:\n",
        "  import qiskit, qiskit_aer\n",
        "  print(\"Qiskit has been imported \")\n",
        "except:\n",
        "  print(\"Installing Qiskit...\")\n",
        "  !pip install -U -q qiskit[visualization]\n",
        "  !pip install -U -q qiskit-aer\n",
        "  print(\"Qiskit has been installed\")"
      ],
      "metadata": {
        "id": "iey0WLduhK-W",
        "outputId": "ca56f7b0-71f7-444f-dad3-bc70ccb9f302",
        "colab": {
          "base_uri": "https://localhost:8080/"
        }
      },
      "execution_count": 1,
      "outputs": [
        {
          "output_type": "stream",
          "name": "stdout",
          "text": [
            "Installing Qiskit...\n",
            "\u001b[2K     \u001b[90m━━━━━━━━━━━━━━━━━━━━━━━━━━━━━━━━━━━━━━━\u001b[0m \u001b[32m162.6/162.6 kB\u001b[0m \u001b[31m4.9 MB/s\u001b[0m eta \u001b[36m0:00:00\u001b[0m\n",
            "\u001b[?25h  Preparing metadata (setup.py) ... \u001b[?25l\u001b[?25hdone\n",
            "\u001b[2K   \u001b[90m━━━━━━━━━━━━━━━━━━━━━━━━━━━━━━━━━━━━━━━━\u001b[0m \u001b[32m2.1/2.1 MB\u001b[0m \u001b[31m36.4 MB/s\u001b[0m eta \u001b[36m0:00:00\u001b[0m\n",
            "\u001b[2K   \u001b[90m━━━━━━━━━━━━━━━━━━━━━━━━━━━━━━━━━━━━━━━━\u001b[0m \u001b[32m49.5/49.5 kB\u001b[0m \u001b[31m3.5 MB/s\u001b[0m eta \u001b[36m0:00:00\u001b[0m\n",
            "\u001b[2K   \u001b[90m━━━━━━━━━━━━━━━━━━━━━━━━━━━━━━━━━━━━━━━━\u001b[0m \u001b[32m7.5/7.5 MB\u001b[0m \u001b[31m95.4 MB/s\u001b[0m eta \u001b[36m0:00:00\u001b[0m\n",
            "\u001b[2K   \u001b[90m━━━━━━━━━━━━━━━━━━━━━━━━━━━━━━━━━━━━━━━━\u001b[0m \u001b[32m109.0/109.0 kB\u001b[0m \u001b[31m7.8 MB/s\u001b[0m eta \u001b[36m0:00:00\u001b[0m\n",
            "\u001b[?25h  Building wheel for pylatexenc (setup.py) ... \u001b[?25l\u001b[?25hdone\n",
            "\u001b[2K   \u001b[90m━━━━━━━━━━━━━━━━━━━━━━━━━━━━━━━━━━━━━━━━\u001b[0m \u001b[32m12.4/12.4 MB\u001b[0m \u001b[31m89.2 MB/s\u001b[0m eta \u001b[36m0:00:00\u001b[0m\n",
            "\u001b[?25hQiskit has been installed\n"
          ]
        }
      ]
    },
    {
      "cell_type": "markdown",
      "source": [
        "### Task 1\n",
        "\n",
        "Create a PQC with 2 qubits in Qiskit. Implement a $R_x$ rotation on qubit 0 with parameter $\\theta_0$ and $R_y$ rotation on qubit 1 with parameter $\\theta_1$. Add a CNOT gate where control is qubit 0 and target is qubit 1."
      ],
      "metadata": {
        "id": "gPdEwk63mwiz"
      }
    },
    {
      "cell_type": "code",
      "source": [
        "from qiskit import  QuantumCircuit\n",
        "from qiskit_aer import AerSimulator\n",
        "from qiskit.circuit import Parameter\n",
        "import numpy as np\n",
        "\n",
        "# Define parameters for the PQC\n",
        "theta_0 = Parameter('θ0')\n",
        "theta_1 = Parameter('θ1')\n",
        "\n",
        "### Your code here\n",
        "qc = QuantumCircuit(2)\n",
        "\n",
        "qc.rx(theta_0, 0)\n",
        "qc.ry(theta_1, 1)\n",
        "qc.cx(0, 1)\n",
        "\n",
        "# Visualize the quantum circuit\n",
        "qc.draw(output=\"mpl\")\n"
      ],
      "metadata": {
        "id": "qp2UblhwnaU2",
        "outputId": "463e4290-25a6-4b40-cf51-7e10d014e093",
        "colab": {
          "base_uri": "https://localhost:8080/",
          "height": 211
        }
      },
      "execution_count": 2,
      "outputs": [
        {
          "output_type": "execute_result",
          "data": {
            "text/plain": [
              "<Figure size 287.294x200.667 with 1 Axes>"
            ],
            "image/png": "[encoded data removed]"
          },
          "metadata": {},
          "execution_count": 2
        }
      ]
    },
    {
      "cell_type": "markdown",
      "source": [
        "### Solution\n"
      ],
      "metadata": {
        "id": "LagOhui6Y966"
      }
    },
    {
      "cell_type": "code",
      "source": [
        "from qiskit import  QuantumCircuit\n",
        "from qiskit_aer import AerSimulator\n",
        "from qiskit.circuit import Parameter\n",
        "import numpy as np\n",
        "\n",
        "# Define parameters for the PQC\n",
        "theta_0 = Parameter('θ0')\n",
        "theta_1 = Parameter('θ1')\n",
        "\n",
        "# Create a Quantum Circuit with 2 qubits\n",
        "qc = QuantumCircuit(2)\n",
        "\n",
        "# Apply parameterized gates\n",
        "qc.rx(theta_0, 0)  # Apply RX gate with parameter θ₁ on qubit 0\n",
        "qc.ry(theta_1, 1)  # Apply RY gate with parameter θ₂ on qubit 1\n",
        "qc.cx(0, 1)        # Apply CNOT gate between qubits 0 and 1\n",
        "\n",
        "# Visualize the quantum circuit\n",
        "qc.draw(output=\"mpl\")"
      ],
      "metadata": {
        "id": "2tSxBFXMoH3x",
        "outputId": "f72291fd-cfc0-473e-fe2b-8669e5adcecb",
        "colab": {
          "base_uri": "https://localhost:8080/",
          "height": 211
        }
      },
      "execution_count": 3,
      "outputs": [
        {
          "output_type": "execute_result",
          "data": {
            "text/plain": [
              "<Figure size 287.294x200.667 with 1 Axes>"
            ],
            "image/png": "[encoded data removed]"
          },
          "metadata": {},
          "execution_count": 3
        }
      ]
    },
    {
      "cell_type": "markdown",
      "source": [
        "### Taks 2\n",
        "\n",
        "Use the `assign_parameters` function to assign $\\theta_0 = \\pi$ and $\\theta_1 =1$ in the above circuit."
      ],
      "metadata": {
        "id": "LQmMY2KxY05t"
      }
    },
    {
      "cell_type": "code",
      "source": [
        "from math import pi\n",
        "from qiskit import  QuantumCircuit\n",
        "from qiskit_aer import AerSimulator\n",
        "from qiskit.circuit import Parameter\n",
        "from math import pi\n",
        "\n",
        "# Define parameters for the PQC\n",
        "theta_0 = Parameter('θ0')\n",
        "theta_1 = Parameter('θ1')\n",
        "\n",
        "# Create a Quantum Circuit with 2 qubits\n",
        "qc = QuantumCircuit(2)\n",
        "\n",
        "# Apply parameterized gates\n",
        "qc.rx(theta_0, 0)  # Apply RX gate with parameter θ₁ on qubit 0\n",
        "qc.ry(theta_1, 1)  # Apply RY gate with parameter θ₂ on qubit 1\n",
        "qc.cx(0, 1)        # Apply CNOT gate between qubits 0 and 1\n",
        "\n",
        "### Your code here\n",
        "bc = qc.assign_parameters({theta_0: pi, theta_1: 1})\n",
        "\n",
        "# Visualize the quantum circuit\n",
        "bc.draw(output=\"mpl\")"
      ],
      "metadata": {
        "id": "qT2SAdNrn_Rz",
        "outputId": "a4e4cb0e-5307-473d-f34b-d35730c7cf94",
        "colab": {
          "base_uri": "https://localhost:8080/",
          "height": 211
        }
      },
      "execution_count": 5,
      "outputs": [
        {
          "output_type": "execute_result",
          "data": {
            "text/plain": [
              "<Figure size 287.294x200.667 with 1 Axes>"
            ],
            "image/png": "[encoded data removed]"
          },
          "metadata": {},
          "execution_count": 5
        }
      ]
    },
    {
      "cell_type": "markdown",
      "source": [
        "### Solution\n",
        "\n",
        "\n",
        "\n"
      ],
      "metadata": {
        "id": "Az_ZZrvNbpyI"
      }
    },
    {
      "cell_type": "code",
      "source": [
        "from math import pi\n",
        "from qiskit import  QuantumCircuit\n",
        "from qiskit_aer import AerSimulator\n",
        "from qiskit.circuit import Parameter\n",
        "\n",
        "# Define parameters for the PQC\n",
        "theta_0 = Parameter('θ0')\n",
        "theta_1 = Parameter('θ1')\n",
        "\n",
        "# Create a Quantum Circuit with 2 qubits\n",
        "qc = QuantumCircuit(2)\n",
        "\n",
        "# Apply parameterized gates\n",
        "qc.rx(theta_0, 0)  # Apply RX gate with parameter θ₁ on qubit 0\n",
        "qc.ry(theta_1, 1)  # Apply RY gate with parameter θ₂ on qubit 1\n",
        "qc.cx(0, 1)        # Apply CNOT gate between qubits 0 and 1\n",
        "\n",
        "bc = qc.assign_parameters({theta_0: 3.14, theta_1: 1})\n",
        "bc.draw(output='mpl')\n",
        "\n"
      ],
      "metadata": {
        "id": "eP9MbnNcpdMA",
        "outputId": "186f6ed7-b1b1-45f6-9482-f5cc0e4e77d1",
        "colab": {
          "base_uri": "https://localhost:8080/",
          "height": 211
        }
      },
      "execution_count": 6,
      "outputs": [
        {
          "output_type": "execute_result",
          "data": {
            "text/plain": [
              "<Figure size 287.294x200.667 with 1 Axes>"
            ],
            "image/png": "[encoded data removed]"
          },
          "metadata": {},
          "execution_count": 6
        }
      ]
    },
    {
      "cell_type": "markdown",
      "source": [
        "### Task 3\n",
        "The quantum state of the circuit in Task 1 can be expressed as\n",
        "\n",
        "$\\cos\\left( \\frac{\\theta_1}{2} \\right) \\cos\\left( \\frac{\\theta_0}{2} \\right) \\ket{00}  - i \\sin\\left( \\frac{\\theta_1}{2} \\right) \\sin\\left( \\frac{\\theta_0}{2} \\right) \\ket{01} + \\sin\\left( \\frac{\\theta_1}{2} \\right) \\cos\\left( \\frac{\\theta_0}{2} \\right) \\ket{10} - i \\cos\\left( \\frac{\\theta_1}{2} \\right) \\sin\\left( \\frac{\\theta_0}{2} \\right) \\ket{11}.$\n",
        "\n",
        "Set both parameters to $2\\pi$ and verify that the output is $\\ket{00}$. Check also mathematically that this is the case.\n"
      ],
      "metadata": {
        "id": "3EhhPiySjkNi"
      }
    },
    {
      "cell_type": "code",
      "source": [
        "from math import pi\n",
        "from qiskit import  QuantumCircuit\n",
        "from qiskit_aer import AerSimulator\n",
        "from qiskit.circuit import Parameter\n",
        "\n",
        "# Define parameters for the PQC\n",
        "theta_0 = Parameter('θ0')\n",
        "theta_1 = Parameter('θ1')\n",
        "\n",
        "# Create a Quantum Circuit with 2 qubits\n",
        "qc = QuantumCircuit(2)\n",
        "\n",
        "# Apply parameterized gates\n",
        "qc.rx(theta_0, 0)  # Apply RX gate with parameter θ₁ on qubit 0\n",
        "qc.ry(theta_1, 1)  # Apply RY gate with parameter θ₂ on qubit 1\n",
        "qc.cx(0, 1)        # Apply CNOT gate between qubits 0 and 1\n",
        "\n",
        "### Your code here\n",
        "bc = qc.assign_parameters({theta_0: 2 * pi, theta_1: 2 * pi})\n",
        "bc.measure_all()\n",
        "\n",
        "job = AerSimulator().run(bc,shots=1024)\n",
        "counts = job.result().get_counts(bc)\n",
        "print(counts)\n",
        "\n"
      ],
      "metadata": {
        "id": "Tgh5sNo_qHq_",
        "outputId": "1e7b00cb-7ae8-4945-ba1e-14252fd64cbc",
        "colab": {
          "base_uri": "https://localhost:8080/"
        }
      },
      "execution_count": 8,
      "outputs": [
        {
          "output_type": "stream",
          "name": "stdout",
          "text": [
            "{'00': 1024}\n"
          ]
        }
      ]
    },
    {
      "cell_type": "markdown",
      "source": [
        "### Solution"
      ],
      "metadata": {
        "id": "ppiMYqvZjkJM"
      }
    },
    {
      "cell_type": "code",
      "source": [
        "from math import pi\n",
        "from qiskit import  QuantumCircuit\n",
        "from qiskit_aer import AerSimulator\n",
        "from qiskit.circuit import Parameter\n",
        "\n",
        "# Define parameters for the PQC\n",
        "theta_0 = Parameter('θ0')\n",
        "theta_1 = Parameter('θ1')\n",
        "\n",
        "# Create a Quantum Circuit with 2 qubits\n",
        "qc = QuantumCircuit(2)\n",
        "\n",
        "# Apply parameterized gates\n",
        "qc.rx(theta_0, 0)  # Apply RX gate with parameter θ₁ on qubit 0\n",
        "qc.ry(theta_1, 1)  # Apply RY gate with parameter θ₂ on qubit 1\n",
        "qc.cx(0, 1)        # Apply CNOT gate between qubits 0 and 1\n",
        "\n",
        "bc = qc.assign_parameters({theta_0: 2*pi, theta_1: 2*pi})\n",
        "bc.measure_all()\n",
        "\n",
        "job = AerSimulator().run(bc,shots=1024)\n",
        "counts = job.result().get_counts(bc)\n",
        "print(counts)"
      ],
      "metadata": {
        "id": "4hrwqWXxp_wr",
        "outputId": "8dae3c63-07f8-4bd1-bb05-c465c959bb35",
        "colab": {
          "base_uri": "https://localhost:8080/"
        }
      },
      "execution_count": 9,
      "outputs": [
        {
          "output_type": "stream",
          "name": "stdout",
          "text": [
            "{'00': 1024}\n"
          ]
        }
      ]
    },
    {
      "cell_type": "markdown",
      "source": [
        "### Task 4\n",
        "\n",
        "You are given a function that takes as parameter a parameter list of length 2. Assign the parameters to the `qc` and execute with `shots=1024`. The function should return the probability of **not** obtaining state $\\ket{00}$ based on the measurement outcomes."
      ],
      "metadata": {
        "id": "aBknYEbrltfC"
      }
    },
    {
      "cell_type": "code",
      "source": [
        "from qiskit import  QuantumCircuit\n",
        "from qiskit_aer import AerSimulator\n",
        "from qiskit.circuit import Parameter\n",
        "\n",
        "def func(params):\n",
        "    # Define parameters for the PQC\n",
        "    theta_0 = Parameter('θ0')\n",
        "    theta_1 = Parameter('θ1')\n",
        "\n",
        "    # Create a Quantum Circuit with 2 qubits\n",
        "    qc = QuantumCircuit(2)\n",
        "\n",
        "    # Apply parameterized gates\n",
        "    qc.rx(theta_0, 0)  # Apply RX gate with parameter θ₁ on qubit 0\n",
        "    qc.ry(theta_1, 1)  # Apply RY gate with parameter θ₂ on qubit 1\n",
        "    qc.cx(0, 1)        # Apply CNOT gate between qubits 0 and 1\n",
        "\n",
        "    ### Your code here\n",
        "    bc = qc.assign_parameters({theta_0: params[0], theta_1: params[1]})\n",
        "    bc.measure_all()\n",
        "\n",
        "    job = AerSimulator().run(bc, shots = 1024)\n",
        "    counts = job.result().get_counts(bc)\n",
        "    prob = counts.get(\"00\", 0) / 1024\n",
        "\n",
        "    return 1- prob"
      ],
      "metadata": {
        "id": "MqYm05jjrrGJ"
      },
      "execution_count": 11,
      "outputs": []
    },
    {
      "cell_type": "markdown",
      "source": [
        "### Solution"
      ],
      "metadata": {
        "id": "oElsNOA0sJWz"
      }
    },
    {
      "cell_type": "code",
      "source": [
        "from qiskit import  QuantumCircuit\n",
        "from qiskit_aer import AerSimulator\n",
        "from qiskit.circuit import Parameter\n",
        "\n",
        "def func(params):\n",
        "    # Define for the PQC\n",
        "    theta_0 = Parameter('θ0')\n",
        "    theta_1 = Parameter('θ1')\n",
        "\n",
        "    # Create a Quantum Circuit with 2 qubits\n",
        "    qc = QuantumCircuit(2)\n",
        "\n",
        "    # Apply parameterized gates\n",
        "    qc.rx(theta_0, 0)  # Apply RX gate with parameter θ₁ on qubit 0\n",
        "    qc.ry(theta_1, 1)  # Apply RY gate with parameter θ₂ on qubit 1\n",
        "    qc.cx(0, 1)        # Apply CNOT gate between qubits 0 and 1\n",
        "\n",
        "    bc = qc.assign_parameters({theta_0: params[0], theta_1: params[1]})\n",
        "    bc.measure_all()\n",
        "    job = AerSimulator().run(bc,shots=1024)\n",
        "    counts = job.result().get_counts(bc)\n",
        "    prob = counts.get(\"00\", 0) / 1024\n",
        "    return 1-prob"
      ],
      "metadata": {
        "id": "s8CaOGwIsL2u"
      },
      "execution_count": 12,
      "outputs": []
    },
    {
      "cell_type": "markdown",
      "source": [
        "### Task 5"
      ],
      "metadata": {
        "id": "u9yOEL0FshA3"
      }
    },
    {
      "cell_type": "markdown",
      "source": [
        "In this task, you will optimize the parameters of the quantum circuit given in Task 1, so that the quantum circuit yields state $\\ket{00}$.\n",
        "\n",
        "You will use `scipy` library to get a classical optimizer. In this task, we select the `COBYLA` method. Some other options include `L-BFGS-B`, `SLSQP`. Please check [scipy website](https://docs.scipy.org/doc/scipy/tutorial/optimize.html) for more details.\n",
        "\n",
        "Assign the initial parameters randomly and use the function defined in Task 4 to define a cost function to be used by the optimizer.\n",
        "\n",
        "Note that by convention, classical optimizers perform `minimization`."
      ],
      "metadata": {
        "id": "v4HwZyiHskth"
      }
    },
    {
      "cell_type": "code",
      "source": [
        "from scipy.optimize import minimize\n",
        "\n",
        "initial_guess = [0.5, 0.5]\n",
        "\n",
        "cost_function = func\n",
        "\n",
        "result = minimize(cost_function, initial_guess, method='COBYLA')\n",
        "print(\"Optimization results:\", result)\n",
        "print(f\"Optimal parameters: {result.x}\")"
      ],
      "metadata": {
        "id": "p-M2Jw9ytamm",
        "outputId": "0bf36e60-fb46-4919-bc43-26edc9746527",
        "colab": {
          "base_uri": "https://localhost:8080/"
        }
      },
      "execution_count": 18,
      "outputs": [
        {
          "output_type": "stream",
          "name": "stdout",
          "text": [
            "Optimization results:  message: Optimization terminated successfully.\n",
            " success: True\n",
            "  status: 1\n",
            "     fun: 0.0\n",
            "       x: [ 8.933e-03 -2.789e-02]\n",
            "    nfev: 21\n",
            "   maxcv: 0.0\n",
            "Optimal parameters: [ 0.0089329  -0.02789317]\n"
          ]
        }
      ]
    },
    {
      "cell_type": "markdown",
      "source": [
        "### Solution"
      ],
      "metadata": {
        "id": "JiQoDuDSkqp2"
      }
    },
    {
      "cell_type": "code",
      "source": [
        "from scipy.optimize import minimize\n",
        "\n",
        "initial_guess = [0.5, 0.5]\n",
        "\n",
        "cost_function = func\n",
        "\n",
        "result = minimize(cost_function, initial_guess, method='COBYLA')\n",
        "print(\"Optimization results:\", result)\n",
        "print(\"Optimal parameters:\", result.x)"
      ],
      "metadata": {
        "id": "LhEN6RRxto8x",
        "outputId": "be688538-1306-4575-923d-4394f2f84d68",
        "colab": {
          "base_uri": "https://localhost:8080/"
        }
      },
      "execution_count": 17,
      "outputs": [
        {
          "output_type": "stream",
          "name": "stdout",
          "text": [
            "Optimization results:  message: Optimization terminated successfully.\n",
            " success: True\n",
            "  status: 1\n",
            "     fun: 0.0\n",
            "       x: [-4.904e-02 -2.607e-02]\n",
            "    nfev: 25\n",
            "   maxcv: 0.0\n",
            "Optimal parameters: [-0.04904489 -0.02606623]\n"
          ]
        }
      ]
    },
    {
      "cell_type": "markdown",
      "source": [
        "### Task 6\n",
        "\n",
        "Use the parameters found in Task 5 and assign them to the circuit in Task 1. Verify whether state $\\ket{00}$ is observed with large probability."
      ],
      "metadata": {
        "id": "YZTfPe9_qoG6"
      }
    },
    {
      "cell_type": "code",
      "source": [
        "from math import pi\n",
        "from qiskit import  QuantumCircuit\n",
        "from qiskit_aer import AerSimulator\n",
        "from qiskit.circuit import Parameter\n",
        "\n",
        "# Define parameters for the PQC\n",
        "theta_0 = Parameter('θ0')\n",
        "theta_1 = Parameter('θ1')\n",
        "\n",
        "# Create a Quantum Circuit with 2 qubits\n",
        "qc = QuantumCircuit(2)\n",
        "\n",
        "# Apply parameterized gates\n",
        "qc.rx(theta_0, 0)  # Apply RX gate with parameter θ₁ on qubit 0\n",
        "qc.ry(theta_1, 1)  # Apply RY gate with parameter θ₂ on qubit 1\n",
        "qc.cx(0, 1)        # Apply CNOT gate between qubits 0 and 1\n",
        "\n",
        "### Your code here\n",
        "bc = qc.assign_parameters({theta_0: result.x[0], theta_1: result.x[1]})\n",
        "bc.measure_all()\n",
        "\n",
        "job = AerSimulator().run(bc,shots=1024)\n",
        "counts = job.result().get_counts(bc)\n",
        "print(counts)"
      ],
      "metadata": {
        "id": "-GcBdo66wn4l",
        "outputId": "bbb55136-2e9a-4203-dc48-c0b2b831adaa",
        "colab": {
          "base_uri": "https://localhost:8080/"
        }
      },
      "execution_count": 19,
      "outputs": [
        {
          "output_type": "stream",
          "name": "stdout",
          "text": [
            "{'00': 1024}\n"
          ]
        }
      ]
    },
    {
      "cell_type": "markdown",
      "source": [
        "### Solution"
      ],
      "metadata": {
        "id": "UYRss-vUqoJM"
      }
    },
    {
      "cell_type": "code",
      "source": [
        "from math import pi\n",
        "from qiskit import  QuantumCircuit\n",
        "from qiskit_aer import AerSimulator\n",
        "from qiskit.circuit import Parameter\n",
        "\n",
        "# Define parameters for the PQC\n",
        "theta_0 = Parameter('θ0')\n",
        "theta_1 = Parameter('θ1')\n",
        "\n",
        "# Create a Quantum Circuit with 2 qubits\n",
        "qc = QuantumCircuit(2)\n",
        "\n",
        "# Apply parameterized gates\n",
        "qc.rx(theta_0, 0)  # Apply RX gate with parameter θ₁ on qubit 0\n",
        "qc.ry(theta_1, 1)  # Apply RY gate with parameter θ₂ on qubit 1\n",
        "qc.cx(0, 1)        # Apply CNOT gate between qubits 0 and 1\n",
        "\n",
        "bc = qc.assign_parameters({theta_0: result.x[0], theta_1: result.x[1]})\n",
        "bc.measure_all()\n",
        "\n",
        "job = AerSimulator().run(bc,shots=1024)\n",
        "counts = job.result().get_counts(bc)\n",
        "print(counts)"
      ],
      "metadata": {
        "id": "1fz9gXluwyiz",
        "outputId": "d0052a69-3fbe-48eb-e295-416fdc35025c",
        "colab": {
          "base_uri": "https://localhost:8080/"
        }
      },
      "execution_count": 20,
      "outputs": [
        {
          "output_type": "stream",
          "name": "stdout",
          "text": [
            "{'00': 1024}\n"
          ]
        }
      ]
    },
    {
      "cell_type": "markdown",
      "source": [
        "We can see that the result is not exact, i.e., the parameters are not \"optimal\". Different settings for the optimizer can be used to improve the performance, which we will skip for now."
      ],
      "metadata": {
        "id": "bEUiDJy-rlXT"
      }
    }
  ],
  "metadata": {
    "kernelspec": {
      "display_name": "Python 3 (ipykernel)",
      "language": "python",
      "name": "python3"
    },
    "language_info": {
      "codemirror_mode": {
        "name": "ipython",
        "version": 3
      },
      "file_extension": ".py",
      "mimetype": "text/x-python",
      "name": "python",
      "nbconvert_exporter": "python",
      "pygments_lexer": "ipython3",
      "version": "3.11.4"
    },
    "colab": {
      "provenance": [],
      "include_colab_link": true
    }
  },
  "nbformat": 4,
  "nbformat_minor": 0
}