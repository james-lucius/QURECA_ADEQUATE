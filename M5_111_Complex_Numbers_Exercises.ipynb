{
  "nbformat": 4,
  "nbformat_minor": 0,
  "metadata": {
    "colab": {
      "provenance": [],
      "include_colab_link": true
    },
    "kernelspec": {
      "name": "python3",
      "display_name": "Python 3"
    },
    "language_info": {
      "name": "python"
    }
  },
  "cells": [
    {
      "cell_type": "markdown",
      "metadata": {
        "id": "view-in-github",
        "colab_type": "text"
      },
      "source": [
        "<a href=\"https://colab.research.google.com/github/james-lucius/qureca_ADEQUATE/blob/main/M5_111_Complex_Numbers_Exercises.ipynb\" target=\"_parent\"><img src=\"https://colab.research.google.com/assets/colab-badge.svg\" alt=\"Open In Colab\"/></a>"
      ]
    },
    {
      "cell_type": "markdown",
      "metadata": {
        "id": "bToOnkHb-SSZ"
      },
      "source": [
        "<img src=\"https://gitlab.com/qworld/qeducation/educational-materials/adequate-qbook1/raw/main/qworld/images/adq_1.png\" align=\"left\" width=450></a>\n",
        "$ \\newcommand{\\bra}[1]{\\langle #1|} $\n",
        "$ \\newcommand{\\ket}[1]{|#1\\rangle} $\n",
        "$ \\newcommand{\\braket}[2]{\\langle #1|#2\\rangle} $\n",
        "$ \\newcommand{\\dot}[2]{ #1 \\cdot #2} $\n",
        "$ \\newcommand{\\biginner}[2]{\\left\\langle #1,#2\\right\\rangle} $\n",
        "$ \\newcommand{\\mymatrix}[2]{\\left( \\begin{array}{#1} #2\\end{array} \\right)} $\n",
        "$ \\newcommand{\\myvector}[1]{\\mymatrix{c}{#1}} $\n",
        "$ \\newcommand{\\myrvector}[1]{\\mymatrix{r}{#1}} $\n",
        "$ \\newcommand{\\mypar}[1]{\\left( #1 \\right)} $\n",
        "$ \\newcommand{\\mybigpar}[1]{ \\Big( #1 \\Big)} $\n",
        "$ \\newcommand{\\sqrttwo}{\\frac{1}{\\sqrt{2}}} $\n",
        "$ \\newcommand{\\dsqrttwo}{\\dfrac{1}{\\sqrt{2}}} $\n",
        "$ \\newcommand{\\onehalf}{\\frac{1}{2}} $\n",
        "$ \\newcommand{\\donehalf}{\\dfrac{1}{2}} $\n",
        "$ \\newcommand{\\hadamard}{ \\mymatrix{rr}{ \\sqrttwo & \\sqrttwo \\\\ \\sqrttwo & -\\sqrttwo }} $\n",
        "$ \\newcommand{\\vzero}{\\myvector{1\\\\0}} $\n",
        "$ \\newcommand{\\vone}{\\myvector{0\\\\1}} $\n",
        "$ \\newcommand{\\stateplus}{\\myvector{ \\sqrttwo \\\\  \\sqrttwo } } $\n",
        "$ \\newcommand{\\stateminus}{ \\myrvector{ \\sqrttwo \\\\ -\\sqrttwo } } $\n",
        "$ \\newcommand{\\myarray}[2]{ \\begin{array}{#1}#2\\end{array}} $\n",
        "$ \\newcommand{\\X}{ \\mymatrix{cc}{0 & 1 \\\\ 1 & 0}  } $\n",
        "$ \\newcommand{\\Z}{ \\mymatrix{rr}{1 & 0 \\\\ 0 & -1}  } $\n",
        "$ \\newcommand{\\Htwo}{ \\mymatrix{rrrr}{ \\frac{1}{2} & \\frac{1}{2} & \\frac{1}{2} & \\frac{1}{2} \\\\ \\frac{1}{2} & -\\frac{1}{2} & \\frac{1}{2} & -\\frac{1}{2} \\\\ \\frac{1}{2} & \\frac{1}{2} & -\\frac{1}{2} & -\\frac{1}{2} \\\\ \\frac{1}{2} & -\\frac{1}{2} & -\\frac{1}{2} & \\frac{1}{2} } } $\n",
        "$ \\newcommand{\\CNOT}{ \\mymatrix{cccc}{1 & 0 & 0 & 0 \\\\ 0 & 1 & 0 & 0 \\\\ 0 & 0 & 0 & 1 \\\\ 0 & 0 & 1 & 0} } $\n",
        "$ \\newcommand{\\norm}[1]{ \\left\\lVert #1 \\right\\rVert } $\n",
        "$ \\newcommand{\\pstate}[1]{ \\lceil \\mspace{-1mu} #1 \\mspace{-1.5mu} \\rfloor } $"
      ]
    },
    {
      "cell_type": "markdown",
      "metadata": {
        "id": "0esKDta9-SSb"
      },
      "source": [
        "_prepared by Maksim Dimitrijev_"
      ]
    },
    {
      "cell_type": "markdown",
      "metadata": {
        "id": "A-biwuml-SSb"
      },
      "source": [
        "<font size=\"28px\" style=\"font-size:28px;\" align=\"left\"><b> <font color=\"blue\"> Exercises for </font>  complex numbers</b></font>"
      ]
    },
    {
      "cell_type": "markdown",
      "metadata": {
        "jp-MarkdownHeadingCollapsed": true,
        "id": "DqMymWQt-SSb"
      },
      "source": [
        "##### <font color=\"#08b806\">Please execute the following cell, it is necessary to distinguish between your local environment and Google Colab's"
      ]
    },
    {
      "cell_type": "code",
      "execution_count": 1,
      "metadata": {
        "id": "oWzxDVnI-SSb"
      },
      "outputs": [],
      "source": [
        "import IPython\n",
        "\n",
        "def in_colab():\n",
        "    try:\n",
        "        import google.colab\n",
        "        return True\n",
        "    except:\n",
        "        return False\n",
        "\n",
        "SolutionToTask1 = lambda: IPython.display.display(IPython.display.Javascript('window.open(\"{url}\");'.format(url='https://colab.research.google.com/drive/1j-_aDnXhA5DlgfiTWyN2qHwe2YLMl5O2#scrollTo=KqOaEAc678VQ' if in_colab() else 'Complex_Numbers_Exercises_Solutions.ipynb#task1')))\n",
        "SolutionToTask2 = lambda: IPython.display.display(IPython.display.Javascript('window.open(\"{url}\");'.format(url='https://colab.research.google.com/drive/1j-_aDnXhA5DlgfiTWyN2qHwe2YLMl5O2#scrollTo=WXz7ifXX78VR' if in_colab() else 'Complex_Numbers_Exercises_Solutions.ipynb#task2')))\n",
        "SolutionToTask3 = lambda: IPython.display.display(IPython.display.Javascript('window.open(\"{url}\");'.format(url='https://colab.research.google.com/drive/1j-_aDnXhA5DlgfiTWyN2qHwe2YLMl5O2#scrollTo=i2btXkOe78VR' if in_colab() else 'Complex_Numbers_Exercises_Solutions.ipynb#task3')))\n",
        "SolutionToTask4 = lambda: IPython.display.display(IPython.display.Javascript('window.open(\"{url}\");'.format(url='https://colab.research.google.com/drive/1j-_aDnXhA5DlgfiTWyN2qHwe2YLMl5O2#scrollTo=5b1H199m78VS' if in_colab() else 'Complex_Numbers_Exercises_Solutions.ipynb#task4')))\n",
        "SolutionToTask5 = lambda: IPython.display.display(IPython.display.Javascript('window.open(\"{url}\");'.format(url='https://colab.research.google.com/drive/1j-_aDnXhA5DlgfiTWyN2qHwe2YLMl5O2#scrollTo=QLVQvdCT78VS' if in_colab() else 'Complex_Numbers_Exercises_Solutions.ipynb#task5')))\n",
        "SolutionToTask6 = lambda: IPython.display.display(IPython.display.Javascript('window.open(\"{url}\");'.format(url='https://colab.research.google.com/drive/1j-_aDnXhA5DlgfiTWyN2qHwe2YLMl5O2#scrollTo=16PYHFaGiacm&line=1&uniqifier=1' if in_colab() else 'Complex_Numbers_Exercises_Solutions.ipynb#task6')))\n",
        "SolutionToTask7 = lambda: IPython.display.display(IPython.display.Javascript('window.open(\"{url}\");'.format(url='https://colab.research.google.com/drive/1j-_aDnXhA5DlgfiTWyN2qHwe2YLMl5O2#scrollTo=TvlylZdoinCN&line=2&uniqifier=1' if in_colab() else 'Complex_Numbers_Exercises_Solutions.ipynb#task7')))\n",
        "SolutionToTask8 = lambda: IPython.display.display(IPython.display.Javascript('window.open(\"{url}\");'.format(url='https://colab.research.google.com/drive/1j-_aDnXhA5DlgfiTWyN2qHwe2YLMl5O2#scrollTo=ltF7_rfyi6Za&line=2&uniqifier=1' if in_colab() else 'Complex_Numbers_Exercises_Solutions.ipynb#task8')))\n",
        "SolutionToTask9 = lambda: IPython.display.display(IPython.display.Javascript('window.open(\"{url}\");'.format(url='https://colab.research.google.com/drive/1j-_aDnXhA5DlgfiTWyN2qHwe2YLMl5O2#scrollTo=Y0dxBIlAkEc5&line=1&uniqifier=1' if in_colab() else 'Complex_Numbers_Exercises_Solutions.ipynb#task9')))\n",
        "SolutionToTask10 = lambda: IPython.display.display(IPython.display.Javascript('window.open(\"{url}\");'.format(url='https://colab.research.google.com/drive/1j-_aDnXhA5DlgfiTWyN2qHwe2YLMl5O2#scrollTo=8Ih-sj9MkU0V&line=2&uniqifier=1' if in_colab() else 'Complex_Numbers_Exercises_Solutions.ipynb#task10')))\n",
        "SolutionToTask11 = lambda: IPython.display.display(IPython.display.Javascript('window.open(\"{url}\");'.format(url='https://colab.research.google.com/drive/1j-_aDnXhA5DlgfiTWyN2qHwe2YLMl5O2#scrollTo=io7DTZKBkigC&line=2&uniqifier=1' if in_colab() else 'Complex_Numbers_Exercises_Solutions.ipynb#task11')))"
      ]
    },
    {
      "cell_type": "markdown",
      "source": [
        "##### &nbsp;\n",
        "\n"
      ],
      "metadata": {
        "id": "aHDgmsRa4l_Y"
      }
    },
    {
      "cell_type": "markdown",
      "metadata": {
        "id": "gpi9FawY-SSc"
      },
      "source": [
        "<h3> Task 1 </h3>\n",
        "\n",
        "Calculate the following values on the paper.\n",
        "\n",
        "$(3-2i) + (7+i)$;\n",
        "\n",
        "$(4+5i) - (2+2i)$;\n",
        "\n",
        "$(2+i) \\cdot (8-4i)$;\n",
        "\n",
        "$\\mathopen|4+3i\\mathclose|$;\n",
        "\n",
        "$\\overline{5-6i}$."
      ]
    },
    {
      "cell_type": "markdown",
      "metadata": {
        "id": "svJg-rRM-SSc"
      },
      "source": [
        "To check out our solution, run the next cell:"
      ]
    },
    {
      "cell_type": "code",
      "source": [
        "SolutionToTask1()  # show solution for task 1"
      ],
      "metadata": {
        "id": "l1WQdOnf7RwB"
      },
      "execution_count": null,
      "outputs": []
    },
    {
      "cell_type": "markdown",
      "metadata": {
        "id": "lb6emsgl-SSd"
      },
      "source": [
        "<h3> Task 2 </h3>\n",
        "\n",
        "Convert $4-4i$ to polar form.\n",
        "\n",
        "Convert $2 \\cdot e^{i \\pi}$ from polar form to the rectangular form."
      ]
    },
    {
      "cell_type": "markdown",
      "metadata": {
        "id": "C7k1sEVa-SSd"
      },
      "source": [
        "To check out our solution, run the next cell:"
      ]
    },
    {
      "cell_type": "code",
      "execution_count": null,
      "metadata": {
        "id": "9LPVQ0GW-SSd"
      },
      "outputs": [],
      "source": [
        "SolutionToTask2()  # show solution for task 2"
      ]
    },
    {
      "cell_type": "markdown",
      "metadata": {
        "id": "nW4wrvAQ-SSd"
      },
      "source": [
        "<h3> Task 3 </h3>\n",
        "\n",
        "Recreate famous Euler formula. Please use:\n",
        "\n",
        "- =, + or -;</li>\n",
        "- one instance of each of the following constants: 0, 1, $i$, $\\pi$, $e$."
      ]
    },
    {
      "cell_type": "markdown",
      "metadata": {
        "id": "jjmRgDwN-SSd"
      },
      "source": [
        "To check out our solution, run the next cell:"
      ]
    },
    {
      "cell_type": "code",
      "execution_count": null,
      "metadata": {
        "id": "HqByj_bF-SSd"
      },
      "outputs": [],
      "source": [
        "SolutionToTask3()  # show solution for task 3"
      ]
    },
    {
      "cell_type": "markdown",
      "metadata": {
        "id": "c-1EQ6Oq-SSd"
      },
      "source": [
        "<h3> Task 4 </h3>\n",
        "\n",
        "Please calculate the following values in Python:\n",
        "\n",
        "- $\\dfrac{3+4i}{2-i} \\cdot (7+2i) + 3i$\n",
        "<br><br>\n",
        "- $(1-2i)^5$\n",
        "<br><br>\n",
        "- $\\dfrac{8-4i}{\\mathopen|4+3i\\mathclose|}$"
      ]
    },
    {
      "cell_type": "code",
      "execution_count": 2,
      "metadata": {
        "id": "8tFXieZI-SSd",
        "outputId": "7bd96244-e9e1-4043-db32-e722bc0b3cee",
        "colab": {
          "base_uri": "https://localhost:8080/"
        }
      },
      "outputs": [
        {
          "output_type": "stream",
          "name": "stdout",
          "text": [
            "(((3+4j) / (2-1j)) * (7+2j)) + 3j = (-1.6+19.200000000000003j)\n",
            "(1-2j) ^ 5 = (41+38j)\n",
            "(8-4j) / |(4+3j)| = (1.6-0.8j)\n"
          ]
        }
      ],
      "source": [
        "#\n",
        "# your solution is here\n",
        "#\n",
        "a = complex(3, 4)\n",
        "b = complex(2, -1)\n",
        "c = complex(7, 2)\n",
        "d = 3j\n",
        "e = complex(1, -2)\n",
        "f = complex(8, -4)\n",
        "g = complex(4, 3)\n",
        "\n",
        "print(f\"(({a} / {b}) * {c}) + {d} = {((a / b) * c) + d}\")\n",
        "print(f\"{e} ^ 5 = {e ** 5}\")\n",
        "print(f\"{f} / |{g}| = {f / abs(g)}\")"
      ]
    },
    {
      "cell_type": "markdown",
      "metadata": {
        "id": "wYQkf6Hc-SSd"
      },
      "source": [
        "To check out our solution, run the next cell:"
      ]
    },
    {
      "cell_type": "code",
      "execution_count": null,
      "metadata": {
        "id": "oRC7Ghxg-SSd"
      },
      "outputs": [],
      "source": [
        "SolutionToTask4()  # show solution for task 4"
      ]
    },
    {
      "cell_type": "markdown",
      "metadata": {
        "id": "sohKG4LT-SSd"
      },
      "source": [
        "<h3> Task 5 </h3>\n",
        "\n",
        "Use Python to convert\n",
        "\n",
        "- $3 - 3i$ to polar form and\n",
        "- $5 \\cdot e^{i \\cdot \\frac{pi}{3}}$ from polar form"
      ]
    },
    {
      "cell_type": "code",
      "execution_count": 4,
      "metadata": {
        "id": "iO_YrdRN-SSd",
        "outputId": "0b2eacb5-c149-4a04-9613-ca101e9a356b",
        "colab": {
          "base_uri": "https://localhost:8080/"
        }
      },
      "outputs": [
        {
          "output_type": "stream",
          "name": "stdout",
          "text": [
            "(3-3j) = 4.242640687119285 * e ^ (i * -0.7853981633974483)\n",
            "5 * e ^ (i * 1.0471975511965976) = (2.5000000000000004+4.330127018922193j)\n"
          ]
        }
      ],
      "source": [
        "#\n",
        "# your solution is here\n",
        "#\n",
        "from math import pi, cos, sin, atan\n",
        "\n",
        "a = complex(3, -3)\n",
        "a_abs = abs(a)\n",
        "a_theta = atan(a.imag / a.real)\n",
        "print(f\"{a} = {a_abs} * e ^ (i * {a_theta})\")\n",
        "\n",
        "b_abs = 5\n",
        "b_theta = pi / 3\n",
        "b = complex(b_abs * cos(b_theta), b_abs * sin(b_theta))\n",
        "print(f\"{b_abs} * e ^ (i * {b_theta}) = {b}\")"
      ]
    },
    {
      "cell_type": "markdown",
      "metadata": {
        "id": "O5FDLQJm-SSd"
      },
      "source": [
        "To check out our solution, run the next cell:"
      ]
    },
    {
      "cell_type": "code",
      "execution_count": null,
      "metadata": {
        "id": "KF8q1LEz-SSd"
      },
      "outputs": [],
      "source": [
        "SolutionToTask5()  # show solution for task 5"
      ]
    },
    {
      "cell_type": "markdown",
      "source": [
        "<font size=\"28px\" style=\"font-size:28px;\" align=\"left\"><b> <font color=\"blue\"> Exercises for </font>  Mathematical Notations</b></font>"
      ],
      "metadata": {
        "id": "TLSgvy2XdlrO"
      }
    },
    {
      "cell_type": "markdown",
      "source": [
        "<h3> Task 6 </h3>\n",
        "\n",
        " Consider the quantum states $ \\ket{\\psi}=\\dsqrttwo \\ket{0} - \\dfrac{i}{\\sqrt{2}} \\ket{1} $ and $ \\ket{\\phi} = \\dsqrttwo \\ket{0} + \\dfrac{i}{\\sqrt{2}}\\ket{1}  $.  Compute $ \\bra{\\psi}$ and $\\bra{\\phi}$."
      ],
      "metadata": {
        "id": "G7ruukDGfmVK"
      }
    },
    {
      "cell_type": "markdown",
      "source": [
        "To check out our solution, run the next cell:"
      ],
      "metadata": {
        "id": "PRbZ0Vdrfo5U"
      }
    },
    {
      "cell_type": "code",
      "source": [
        "SolutionToTask6()  # show solution for task 6"
      ],
      "metadata": {
        "id": "JcLqXvyzfsTA"
      },
      "execution_count": null,
      "outputs": []
    },
    {
      "cell_type": "markdown",
      "source": [
        "<h3> Task 7 </h3>\n",
        "\n",
        "Compute $ \\braket{\\psi}{\\phi} $. What can you conclude about these quantum states?"
      ],
      "metadata": {
        "id": "_epcpPQYfy-A"
      }
    },
    {
      "cell_type": "markdown",
      "source": [
        "To check out our solution, run the next cell:"
      ],
      "metadata": {
        "id": "QMGRREIHf3tO"
      }
    },
    {
      "cell_type": "code",
      "source": [
        "SolutionToTask7()  # show solution for task 7"
      ],
      "metadata": {
        "id": "35HZiLmCf7aT"
      },
      "execution_count": null,
      "outputs": []
    },
    {
      "cell_type": "markdown",
      "source": [
        "<h3> Task 8 </h3>\n",
        "\n",
        "Verify that $ \\ket{\\psi} $ and $ \\ket{\\phi} $ are valid quantum states."
      ],
      "metadata": {
        "id": "VDAdUix-hZN1"
      }
    },
    {
      "cell_type": "markdown",
      "source": [
        "To check out our solution, run the next cell:"
      ],
      "metadata": {
        "id": "JpF0h0Dche8y"
      }
    },
    {
      "cell_type": "code",
      "source": [
        "SolutionToTask8()  # show solution for task 8"
      ],
      "metadata": {
        "id": "QdtTbq-YhjsC"
      },
      "execution_count": null,
      "outputs": []
    },
    {
      "cell_type": "markdown",
      "source": [
        "<h3> Task 9 </h3>\n",
        "\n",
        "Verify that $ \\{ \\ket{+},\\ket{-} \\} $ is a basis set for a qubit."
      ],
      "metadata": {
        "id": "6exfM1TRf-t5"
      }
    },
    {
      "cell_type": "markdown",
      "source": [
        "To check out our solution, run the next cell:"
      ],
      "metadata": {
        "id": "bDPBVhJ1gCnv"
      }
    },
    {
      "cell_type": "code",
      "source": [
        "SolutionToTask9()  # show solution for task 9"
      ],
      "metadata": {
        "colab": {
          "base_uri": "https://localhost:8080/",
          "height": 17
        },
        "id": "7hselwQfgB4G",
        "outputId": "85efe955-9b02-4fd8-a21a-a40907f9bd2a"
      },
      "execution_count": null,
      "outputs": [
        {
          "output_type": "display_data",
          "data": {
            "text/plain": [
              "<IPython.core.display.Javascript object>"
            ],
            "application/javascript": [
              "window.open(\"https://colab.research.google.com/drive/1j-_aDnXhA5DlgfiTWyN2qHwe2YLMl5O2#scrollTo=Y0dxBIlAkEc5&line=1&uniqifier=1\");"
            ]
          },
          "metadata": {}
        }
      ]
    },
    {
      "cell_type": "markdown",
      "source": [
        "<h3> Task 10 </h3>\n",
        "\n",
        "Given $A=  \\mymatrix{cc}{3 + 7i & 0 \\\\ 2i & 4-i}$, compute $A^{\\dagger}$:"
      ],
      "metadata": {
        "id": "Cu967bV1gOmm"
      }
    },
    {
      "cell_type": "markdown",
      "source": [
        "To check out our solution, run the next cell:"
      ],
      "metadata": {
        "id": "DoB9Xz_SgYNN"
      }
    },
    {
      "cell_type": "code",
      "source": [
        "SolutionToTask10()  # show solution for task 10"
      ],
      "metadata": {
        "id": "CjAFV5QqgcVa"
      },
      "execution_count": null,
      "outputs": []
    },
    {
      "cell_type": "markdown",
      "source": [
        "<h3> Task 11 </h3>\n",
        "\n",
        "Given $A=  \\frac{1}{2} \\mymatrix{cc}{1 + i & 1 - i \\\\ 1 - i & 1 + i}$, show that $A$ is unitary"
      ],
      "metadata": {
        "id": "DJeIsPolghON"
      }
    },
    {
      "cell_type": "markdown",
      "source": [
        "To check out our solution, run the next cell:"
      ],
      "metadata": {
        "id": "79X0X37hgtuH"
      }
    },
    {
      "cell_type": "code",
      "source": [
        "SolutionToTask11()  # show solution for task 11"
      ],
      "metadata": {
        "id": "JbyFC_RognWz"
      },
      "execution_count": null,
      "outputs": []
    }
  ]
}